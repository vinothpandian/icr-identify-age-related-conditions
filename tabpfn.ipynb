{
 "cells": [
  {
   "cell_type": "code",
   "execution_count": 8,
   "metadata": {},
   "outputs": [],
   "source": [
    "import numpy as np\n",
    "from sklearn import metrics\n",
    "\n",
    "\n",
    "def balanced_log_loss(y_true, y_pred):\n",
    "    nc = np.bincount(y_true)\n",
    "    return metrics.log_loss(y_true, y_pred, sample_weight=1 / nc[y_true], eps=1e-15)\n"
   ]
  },
  {
   "cell_type": "code",
   "execution_count": 2,
   "metadata": {},
   "outputs": [],
   "source": [
    "from tabpfn import TabPFNClassifier"
   ]
  },
  {
   "cell_type": "code",
   "execution_count": 3,
   "metadata": {},
   "outputs": [],
   "source": [
    "import pandas as pd\n",
    "from pathlib import Path\n",
    "\n",
    "path = Path('./data')\n",
    "output = Path('./output')\n",
    "output.mkdir(exist_ok=True)"
   ]
  },
  {
   "cell_type": "code",
   "execution_count": 4,
   "metadata": {},
   "outputs": [],
   "source": [
    "df = pd.read_csv(path/'train.csv', index_col='Id')"
   ]
  },
  {
   "cell_type": "code",
   "execution_count": 5,
   "metadata": {},
   "outputs": [],
   "source": [
    "from sklearn.model_selection import train_test_split\n",
    "\n",
    "drop_cols = [\"EJ\"]\n",
    "dep_vars = [\"Class\"]\n",
    "\n",
    "X = df.drop(drop_cols + dep_vars, axis=1)\n",
    "y = df[dep_vars].values.ravel()\n",
    "\n",
    "X_train, X_test, y_train, y_test = train_test_split(X, y, test_size=0.4, random_state=33)"
   ]
  },
  {
   "cell_type": "code",
   "execution_count": 50,
   "metadata": {},
   "outputs": [
    {
     "name": "stdout",
     "output_type": "stream",
     "text": [
      "Loading model that can be used for inference only\n",
      "Using a Transformer with 25.82 M parameters\n"
     ]
    }
   ],
   "source": [
    "classifier = TabPFNClassifier(device='cuda', N_ensemble_configurations=64, only_inference=True)"
   ]
  },
  {
   "cell_type": "code",
   "execution_count": 51,
   "metadata": {},
   "outputs": [],
   "source": [
    "classifier.fit(X_train, y_train)\n",
    "p_eval = classifier.predict_proba(X_test)"
   ]
  },
  {
   "cell_type": "code",
   "execution_count": 52,
   "metadata": {},
   "outputs": [
    {
     "data": {
      "text/plain": [
       "(0.34801526742646444, 0.8947368421052632)"
      ]
     },
     "execution_count": 52,
     "metadata": {},
     "output_type": "execute_result"
    }
   ],
   "source": [
    "balanced_log_loss(y_test, p_eval), metrics.accuracy_score(y_test, p_eval.argmax(axis=1))"
   ]
  },
  {
   "cell_type": "code",
   "execution_count": 53,
   "metadata": {},
   "outputs": [
    {
     "data": {
      "application/vnd.plotly.v1+json": {
       "config": {
        "plotlyServerURL": "https://plot.ly"
       },
       "data": [
        {
         "hovertemplate": "Class=0<br>Positive Class Probability=%{x}<br>Sample Integer Index=%{y}<extra></extra>",
         "legendgroup": "0",
         "marker": {
          "color": "#010D36",
          "opacity": 0.6,
          "size": 6,
          "symbol": "diamond"
         },
         "mode": "markers",
         "name": "0",
         "orientation": "v",
         "showlegend": true,
         "type": "scatter",
         "x": [
          0.007466217502951622,
          0.009190766140818596,
          0.000884472334291786,
          0.001085577649064362,
          0.10370916873216629,
          0.3260584771633148,
          0.0017215630505234003,
          0.0007812261465005577,
          0.002950852969661355,
          0.0028925486840307713,
          0.0022743248846381903,
          0.00167569681070745,
          0.004330174066126347,
          0.0031494549475610256,
          0.04810023307800293,
          0.0006300933309830725,
          0.00559137761592865,
          0.04127508029341698,
          0.10665328800678253,
          0.02012188360095024,
          0.004929752089083195,
          0.05632970482110977,
          0.01930582895874977,
          0.10195092856884003,
          0.013055995106697083,
          0.01678847149014473,
          0.01965459994971752,
          0.015527363866567612,
          0.40790101885795593,
          0.07201944291591644,
          0.06346549838781357,
          0.0007845725049264729,
          0.019990315660834312,
          0.0008494268986396492,
          0.005377309862524271,
          0.6095820069313049,
          0.0031546286772936583,
          0.4937473237514496,
          0.152037113904953,
          0.002787479665130377,
          0.0010650859912857413,
          0.0007171383476816118,
          0.05203690752387047,
          0.0038636019453406334,
          0.008615918457508087,
          0.4083039462566376,
          0.0698971226811409,
          0.3954647481441498,
          0.005613849963992834,
          0.6240870356559753,
          0.0004867792595177889,
          0.0014330652775242925,
          0.018615983426570892,
          0.0655561238527298,
          0.0019583951216191053,
          0.004427573177963495,
          0.0084881242364645,
          0.5305134654045105,
          0.0030073723755776882,
          0.00881196279078722,
          0.0008224729681387544,
          0.5830897688865662,
          0.10378002375364304,
          0.5631150007247925,
          0.004998104181140661,
          0.00036349042784422636,
          0.0017016349593177438,
          0.0846729651093483,
          0.10184280574321747,
          0.012767034582793713,
          0.0012586244847625494,
          0.06818540394306183,
          0.01865915209054947,
          0.5376793742179871,
          0.009494686499238014,
          0.10968071967363358,
          0.006345911417156458,
          0.5740086436271667,
          0.011111346073448658,
          0.00024205782392527908,
          0.038508083671331406,
          0.021392645314335823,
          0.03559551760554314,
          0.0864347442984581,
          0.0011129318736493587,
          0.02052086777985096,
          0.006464487873017788,
          0.0017100231489166617,
          0.0016287140315398574,
          0.002385816304013133,
          0.009257904253900051,
          0.04534925892949104,
          0.03561791032552719,
          0.020817462354898453,
          0.07367914915084839,
          0.019628457725048065,
          0.013164489530026913,
          0.21877089142799377,
          0.001766893663443625,
          0.03662823885679245,
          0.2497265785932541,
          0.007275054696947336,
          0.029799096286296844,
          0.0034343902952969074,
          0.0006790001643821597,
          0.008906790986657143,
          0.024003969505429268,
          0.04698074609041214,
          0.007374190725386143,
          0.009138913825154305,
          0.11086683720350266,
          0.009145311079919338,
          0.06149071082472801,
          0.049247875809669495,
          0.000783592346124351,
          0.002501990646123886,
          0.013729363679885864,
          0.026645395904779434,
          0.0018657082691788673,
          0.004545826930552721,
          0.0004266269679646939,
          0.05067700147628784,
          0.3181644082069397,
          0.011428247205913067,
          0.6048527956008911,
          0.008795310743153095,
          0.0010404359782114625,
          0.04018554463982582,
          0.009062151424586773,
          0.37194475531578064,
          0.0007081961957737803,
          0.9159129858016968,
          0.004171472508460283,
          0.0020635260734707117,
          0.007723407354205847,
          0.0012543811462819576,
          0.019002225250005722,
          0.4194491505622864,
          0.053461816161870956,
          0.004936673678457737,
          0.0404619500041008,
          0.0002591332886368036,
          0.0107833007350564,
          0.0033789770677685738,
          0.05707512050867081,
          0.15500465035438538,
          0.007819791324436665,
          0.00025947470567189157,
          0.015109504573047161,
          0.02263704687356949,
          0.012023999355733395,
          0.0576622374355793,
          0.005908177699893713,
          0.00012173315917607397,
          0.01314484141767025,
          0.0047195181250572205,
          0.00030135465203784406,
          0.02106597274541855,
          0.12669461965560913,
          0.003630497260019183,
          0.018817627802491188,
          0.01942428946495056,
          0.0020952667109668255,
          0.006703962106257677,
          0.041530508548021317,
          0.0047574276104569435,
          0.03650961443781853,
          0.0012990857940167189,
          0.07570038735866547,
          0.004440105054527521,
          0.024172810837626457,
          0.001540235010907054,
          0.01183018833398819,
          0.01640225201845169,
          0.0010023366194218397,
          0.011365716345608234,
          0.00015310270828194916,
          0.0017300219042226672,
          0.03824746608734131,
          0.025468014180660248,
          0.0005873094778507948,
          0.0187578983604908,
          0.0008137340191751719,
          0.021041706204414368,
          0.09313243627548218,
          0.0006228841375559568,
          0.031977877020835876,
          0.01349773071706295,
          0.002088067354634404,
          0.00041727538336999714,
          0.002599896863102913,
          0.012220202013850212,
          0.03979511186480522,
          0.12150001525878906,
          0.02059263177216053
         ],
         "xaxis": "x",
         "y": [
          0,
          1,
          2,
          4,
          5,
          6,
          7,
          8,
          9,
          10,
          11,
          12,
          13,
          14,
          15,
          16,
          18,
          19,
          20,
          22,
          23,
          24,
          25,
          26,
          27,
          28,
          29,
          30,
          31,
          32,
          33,
          34,
          35,
          36,
          37,
          38,
          39,
          41,
          42,
          44,
          45,
          46,
          47,
          49,
          50,
          51,
          52,
          55,
          56,
          57,
          58,
          59,
          60,
          61,
          62,
          63,
          64,
          65,
          66,
          67,
          68,
          69,
          70,
          71,
          72,
          73,
          74,
          75,
          77,
          78,
          79,
          81,
          82,
          83,
          85,
          86,
          87,
          89,
          90,
          91,
          93,
          94,
          95,
          97,
          98,
          100,
          103,
          105,
          106,
          107,
          108,
          109,
          110,
          111,
          112,
          113,
          115,
          116,
          117,
          118,
          120,
          121,
          124,
          125,
          126,
          127,
          128,
          129,
          130,
          131,
          132,
          136,
          137,
          138,
          139,
          140,
          141,
          142,
          143,
          146,
          147,
          148,
          151,
          153,
          157,
          158,
          159,
          160,
          162,
          163,
          166,
          167,
          168,
          169,
          170,
          171,
          172,
          173,
          174,
          176,
          177,
          179,
          181,
          184,
          185,
          186,
          187,
          188,
          189,
          190,
          191,
          192,
          194,
          195,
          196,
          197,
          198,
          200,
          202,
          203,
          204,
          205,
          206,
          207,
          209,
          210,
          211,
          212,
          213,
          215,
          216,
          217,
          218,
          219,
          220,
          221,
          222,
          223,
          224,
          226,
          228,
          229,
          230,
          231,
          232,
          234,
          237,
          238,
          239,
          240,
          241,
          242,
          243,
          244,
          245
         ],
         "yaxis": "y"
        },
        {
         "hovertemplate": "Class=1<br>Positive Class Probability=%{x}<br>Sample Integer Index=%{y}<extra></extra>",
         "legendgroup": "1",
         "marker": {
          "color": "#FF2079",
          "opacity": 0.6,
          "size": 6,
          "symbol": "circle"
         },
         "mode": "markers",
         "name": "1",
         "orientation": "v",
         "showlegend": true,
         "type": "scatter",
         "x": [
          0.45202040672302246,
          0.9146006107330322,
          0.6898502707481384,
          0.2411014586687088,
          0.8955984711647034,
          0.5855627059936523,
          0.8608112335205078,
          0.2789947986602783,
          0.46014630794525146,
          0.7739784121513367,
          0.762911856174469,
          0.8590790629386902,
          0.9004042148590088,
          0.9768673181533813,
          0.10707568377256393,
          0.7057058215141296,
          0.10201093554496765,
          0.3439052700996399,
          0.9692245125770569,
          0.4331371486186981,
          0.4624633193016052,
          0.8847251534461975,
          0.9192991852760315,
          0.6799405813217163,
          0.8914086222648621,
          0.7147946953773499,
          0.8145833015441895,
          0.4285498261451721,
          0.9709042906761169,
          0.9692652821540833,
          0.5658135414123535,
          0.955198347568512,
          0.7326872944831848,
          0.2883628010749817,
          0.7446500062942505,
          0.8737940192222595,
          0.9687504768371582,
          0.8412908911705017,
          0.9835145473480225,
          0.9120855927467346,
          0.861738383769989,
          0.7139838933944702,
          0.45134302973747253,
          0.7251298427581787,
          0.18376994132995605,
          0.9470421671867371,
          0.4108550548553467,
          0.6294717192649841,
          0.36298486590385437,
          0.0029264534823596478,
          0.9830065369606018,
          0.4519680142402649
         ],
         "xaxis": "x",
         "y": [
          3,
          17,
          21,
          40,
          43,
          48,
          53,
          54,
          76,
          80,
          84,
          88,
          92,
          96,
          99,
          101,
          102,
          104,
          114,
          119,
          122,
          123,
          133,
          134,
          135,
          144,
          145,
          149,
          150,
          152,
          154,
          155,
          156,
          161,
          164,
          165,
          175,
          178,
          180,
          182,
          183,
          193,
          199,
          201,
          208,
          214,
          225,
          227,
          233,
          235,
          236,
          246
         ],
         "yaxis": "y"
        }
       ],
       "layout": {
        "height": 540,
        "legend": {
         "itemsizing": "constant",
         "orientation": "h",
         "title": {
          "text": "Class"
         },
         "tracegroupgap": 0,
         "x": 1,
         "xanchor": "right",
         "y": 1.05,
         "yanchor": "bottom"
        },
        "template": {
         "data": {
          "bar": [
           {
            "error_x": {
             "color": "#2a3f5f"
            },
            "error_y": {
             "color": "#2a3f5f"
            },
            "marker": {
             "line": {
              "color": "#E5ECF6",
              "width": 0.5
             },
             "pattern": {
              "fillmode": "overlay",
              "size": 10,
              "solidity": 0.2
             }
            },
            "type": "bar"
           }
          ],
          "barpolar": [
           {
            "marker": {
             "line": {
              "color": "#E5ECF6",
              "width": 0.5
             },
             "pattern": {
              "fillmode": "overlay",
              "size": 10,
              "solidity": 0.2
             }
            },
            "type": "barpolar"
           }
          ],
          "carpet": [
           {
            "aaxis": {
             "endlinecolor": "#2a3f5f",
             "gridcolor": "white",
             "linecolor": "white",
             "minorgridcolor": "white",
             "startlinecolor": "#2a3f5f"
            },
            "baxis": {
             "endlinecolor": "#2a3f5f",
             "gridcolor": "white",
             "linecolor": "white",
             "minorgridcolor": "white",
             "startlinecolor": "#2a3f5f"
            },
            "type": "carpet"
           }
          ],
          "choropleth": [
           {
            "colorbar": {
             "outlinewidth": 0,
             "ticks": ""
            },
            "type": "choropleth"
           }
          ],
          "contour": [
           {
            "colorbar": {
             "outlinewidth": 0,
             "ticks": ""
            },
            "colorscale": [
             [
              0,
              "#0d0887"
             ],
             [
              0.1111111111111111,
              "#46039f"
             ],
             [
              0.2222222222222222,
              "#7201a8"
             ],
             [
              0.3333333333333333,
              "#9c179e"
             ],
             [
              0.4444444444444444,
              "#bd3786"
             ],
             [
              0.5555555555555556,
              "#d8576b"
             ],
             [
              0.6666666666666666,
              "#ed7953"
             ],
             [
              0.7777777777777778,
              "#fb9f3a"
             ],
             [
              0.8888888888888888,
              "#fdca26"
             ],
             [
              1,
              "#f0f921"
             ]
            ],
            "type": "contour"
           }
          ],
          "contourcarpet": [
           {
            "colorbar": {
             "outlinewidth": 0,
             "ticks": ""
            },
            "type": "contourcarpet"
           }
          ],
          "heatmap": [
           {
            "colorbar": {
             "outlinewidth": 0,
             "ticks": ""
            },
            "colorscale": [
             [
              0,
              "#0d0887"
             ],
             [
              0.1111111111111111,
              "#46039f"
             ],
             [
              0.2222222222222222,
              "#7201a8"
             ],
             [
              0.3333333333333333,
              "#9c179e"
             ],
             [
              0.4444444444444444,
              "#bd3786"
             ],
             [
              0.5555555555555556,
              "#d8576b"
             ],
             [
              0.6666666666666666,
              "#ed7953"
             ],
             [
              0.7777777777777778,
              "#fb9f3a"
             ],
             [
              0.8888888888888888,
              "#fdca26"
             ],
             [
              1,
              "#f0f921"
             ]
            ],
            "type": "heatmap"
           }
          ],
          "heatmapgl": [
           {
            "colorbar": {
             "outlinewidth": 0,
             "ticks": ""
            },
            "colorscale": [
             [
              0,
              "#0d0887"
             ],
             [
              0.1111111111111111,
              "#46039f"
             ],
             [
              0.2222222222222222,
              "#7201a8"
             ],
             [
              0.3333333333333333,
              "#9c179e"
             ],
             [
              0.4444444444444444,
              "#bd3786"
             ],
             [
              0.5555555555555556,
              "#d8576b"
             ],
             [
              0.6666666666666666,
              "#ed7953"
             ],
             [
              0.7777777777777778,
              "#fb9f3a"
             ],
             [
              0.8888888888888888,
              "#fdca26"
             ],
             [
              1,
              "#f0f921"
             ]
            ],
            "type": "heatmapgl"
           }
          ],
          "histogram": [
           {
            "marker": {
             "pattern": {
              "fillmode": "overlay",
              "size": 10,
              "solidity": 0.2
             }
            },
            "type": "histogram"
           }
          ],
          "histogram2d": [
           {
            "colorbar": {
             "outlinewidth": 0,
             "ticks": ""
            },
            "colorscale": [
             [
              0,
              "#0d0887"
             ],
             [
              0.1111111111111111,
              "#46039f"
             ],
             [
              0.2222222222222222,
              "#7201a8"
             ],
             [
              0.3333333333333333,
              "#9c179e"
             ],
             [
              0.4444444444444444,
              "#bd3786"
             ],
             [
              0.5555555555555556,
              "#d8576b"
             ],
             [
              0.6666666666666666,
              "#ed7953"
             ],
             [
              0.7777777777777778,
              "#fb9f3a"
             ],
             [
              0.8888888888888888,
              "#fdca26"
             ],
             [
              1,
              "#f0f921"
             ]
            ],
            "type": "histogram2d"
           }
          ],
          "histogram2dcontour": [
           {
            "colorbar": {
             "outlinewidth": 0,
             "ticks": ""
            },
            "colorscale": [
             [
              0,
              "#0d0887"
             ],
             [
              0.1111111111111111,
              "#46039f"
             ],
             [
              0.2222222222222222,
              "#7201a8"
             ],
             [
              0.3333333333333333,
              "#9c179e"
             ],
             [
              0.4444444444444444,
              "#bd3786"
             ],
             [
              0.5555555555555556,
              "#d8576b"
             ],
             [
              0.6666666666666666,
              "#ed7953"
             ],
             [
              0.7777777777777778,
              "#fb9f3a"
             ],
             [
              0.8888888888888888,
              "#fdca26"
             ],
             [
              1,
              "#f0f921"
             ]
            ],
            "type": "histogram2dcontour"
           }
          ],
          "mesh3d": [
           {
            "colorbar": {
             "outlinewidth": 0,
             "ticks": ""
            },
            "type": "mesh3d"
           }
          ],
          "parcoords": [
           {
            "line": {
             "colorbar": {
              "outlinewidth": 0,
              "ticks": ""
             }
            },
            "type": "parcoords"
           }
          ],
          "pie": [
           {
            "automargin": true,
            "type": "pie"
           }
          ],
          "scatter": [
           {
            "fillpattern": {
             "fillmode": "overlay",
             "size": 10,
             "solidity": 0.2
            },
            "type": "scatter"
           }
          ],
          "scatter3d": [
           {
            "line": {
             "colorbar": {
              "outlinewidth": 0,
              "ticks": ""
             }
            },
            "marker": {
             "colorbar": {
              "outlinewidth": 0,
              "ticks": ""
             }
            },
            "type": "scatter3d"
           }
          ],
          "scattercarpet": [
           {
            "marker": {
             "colorbar": {
              "outlinewidth": 0,
              "ticks": ""
             }
            },
            "type": "scattercarpet"
           }
          ],
          "scattergeo": [
           {
            "marker": {
             "colorbar": {
              "outlinewidth": 0,
              "ticks": ""
             }
            },
            "type": "scattergeo"
           }
          ],
          "scattergl": [
           {
            "marker": {
             "colorbar": {
              "outlinewidth": 0,
              "ticks": ""
             }
            },
            "type": "scattergl"
           }
          ],
          "scattermapbox": [
           {
            "marker": {
             "colorbar": {
              "outlinewidth": 0,
              "ticks": ""
             }
            },
            "type": "scattermapbox"
           }
          ],
          "scatterpolar": [
           {
            "marker": {
             "colorbar": {
              "outlinewidth": 0,
              "ticks": ""
             }
            },
            "type": "scatterpolar"
           }
          ],
          "scatterpolargl": [
           {
            "marker": {
             "colorbar": {
              "outlinewidth": 0,
              "ticks": ""
             }
            },
            "type": "scatterpolargl"
           }
          ],
          "scatterternary": [
           {
            "marker": {
             "colorbar": {
              "outlinewidth": 0,
              "ticks": ""
             }
            },
            "type": "scatterternary"
           }
          ],
          "surface": [
           {
            "colorbar": {
             "outlinewidth": 0,
             "ticks": ""
            },
            "colorscale": [
             [
              0,
              "#0d0887"
             ],
             [
              0.1111111111111111,
              "#46039f"
             ],
             [
              0.2222222222222222,
              "#7201a8"
             ],
             [
              0.3333333333333333,
              "#9c179e"
             ],
             [
              0.4444444444444444,
              "#bd3786"
             ],
             [
              0.5555555555555556,
              "#d8576b"
             ],
             [
              0.6666666666666666,
              "#ed7953"
             ],
             [
              0.7777777777777778,
              "#fb9f3a"
             ],
             [
              0.8888888888888888,
              "#fdca26"
             ],
             [
              1,
              "#f0f921"
             ]
            ],
            "type": "surface"
           }
          ],
          "table": [
           {
            "cells": {
             "fill": {
              "color": "#EBF0F8"
             },
             "line": {
              "color": "white"
             }
            },
            "header": {
             "fill": {
              "color": "#C8D4E3"
             },
             "line": {
              "color": "white"
             }
            },
            "type": "table"
           }
          ]
         },
         "layout": {
          "annotationdefaults": {
           "arrowcolor": "#2a3f5f",
           "arrowhead": 0,
           "arrowwidth": 1
          },
          "autotypenumbers": "strict",
          "coloraxis": {
           "colorbar": {
            "outlinewidth": 0,
            "ticks": ""
           }
          },
          "colorscale": {
           "diverging": [
            [
             0,
             "#8e0152"
            ],
            [
             0.1,
             "#c51b7d"
            ],
            [
             0.2,
             "#de77ae"
            ],
            [
             0.3,
             "#f1b6da"
            ],
            [
             0.4,
             "#fde0ef"
            ],
            [
             0.5,
             "#f7f7f7"
            ],
            [
             0.6,
             "#e6f5d0"
            ],
            [
             0.7,
             "#b8e186"
            ],
            [
             0.8,
             "#7fbc41"
            ],
            [
             0.9,
             "#4d9221"
            ],
            [
             1,
             "#276419"
            ]
           ],
           "sequential": [
            [
             0,
             "#0d0887"
            ],
            [
             0.1111111111111111,
             "#46039f"
            ],
            [
             0.2222222222222222,
             "#7201a8"
            ],
            [
             0.3333333333333333,
             "#9c179e"
            ],
            [
             0.4444444444444444,
             "#bd3786"
            ],
            [
             0.5555555555555556,
             "#d8576b"
            ],
            [
             0.6666666666666666,
             "#ed7953"
            ],
            [
             0.7777777777777778,
             "#fb9f3a"
            ],
            [
             0.8888888888888888,
             "#fdca26"
            ],
            [
             1,
             "#f0f921"
            ]
           ],
           "sequentialminus": [
            [
             0,
             "#0d0887"
            ],
            [
             0.1111111111111111,
             "#46039f"
            ],
            [
             0.2222222222222222,
             "#7201a8"
            ],
            [
             0.3333333333333333,
             "#9c179e"
            ],
            [
             0.4444444444444444,
             "#bd3786"
            ],
            [
             0.5555555555555556,
             "#d8576b"
            ],
            [
             0.6666666666666666,
             "#ed7953"
            ],
            [
             0.7777777777777778,
             "#fb9f3a"
            ],
            [
             0.8888888888888888,
             "#fdca26"
            ],
            [
             1,
             "#f0f921"
            ]
           ]
          },
          "colorway": [
           "#636efa",
           "#EF553B",
           "#00cc96",
           "#ab63fa",
           "#FFA15A",
           "#19d3f3",
           "#FF6692",
           "#B6E880",
           "#FF97FF",
           "#FECB52"
          ],
          "font": {
           "color": "#2a3f5f"
          },
          "geo": {
           "bgcolor": "white",
           "lakecolor": "white",
           "landcolor": "#E5ECF6",
           "showlakes": true,
           "showland": true,
           "subunitcolor": "white"
          },
          "hoverlabel": {
           "align": "left"
          },
          "hovermode": "closest",
          "mapbox": {
           "style": "light"
          },
          "paper_bgcolor": "white",
          "plot_bgcolor": "#E5ECF6",
          "polar": {
           "angularaxis": {
            "gridcolor": "white",
            "linecolor": "white",
            "ticks": ""
           },
           "bgcolor": "#E5ECF6",
           "radialaxis": {
            "gridcolor": "white",
            "linecolor": "white",
            "ticks": ""
           }
          },
          "scene": {
           "xaxis": {
            "backgroundcolor": "#E5ECF6",
            "gridcolor": "white",
            "gridwidth": 2,
            "linecolor": "white",
            "showbackground": true,
            "ticks": "",
            "zerolinecolor": "white"
           },
           "yaxis": {
            "backgroundcolor": "#E5ECF6",
            "gridcolor": "white",
            "gridwidth": 2,
            "linecolor": "white",
            "showbackground": true,
            "ticks": "",
            "zerolinecolor": "white"
           },
           "zaxis": {
            "backgroundcolor": "#E5ECF6",
            "gridcolor": "white",
            "gridwidth": 2,
            "linecolor": "white",
            "showbackground": true,
            "ticks": "",
            "zerolinecolor": "white"
           }
          },
          "shapedefaults": {
           "line": {
            "color": "#2a3f5f"
           }
          },
          "ternary": {
           "aaxis": {
            "gridcolor": "white",
            "linecolor": "white",
            "ticks": ""
           },
           "baxis": {
            "gridcolor": "white",
            "linecolor": "white",
            "ticks": ""
           },
           "bgcolor": "#E5ECF6",
           "caxis": {
            "gridcolor": "white",
            "linecolor": "white",
            "ticks": ""
           }
          },
          "title": {
           "x": 0.05
          },
          "xaxis": {
           "automargin": true,
           "gridcolor": "white",
           "linecolor": "white",
           "ticks": "",
           "title": {
            "standoff": 15
           },
           "zerolinecolor": "white",
           "zerolinewidth": 2
          },
          "yaxis": {
           "automargin": true,
           "gridcolor": "white",
           "linecolor": "white",
           "ticks": "",
           "title": {
            "standoff": 15
           },
           "zerolinecolor": "white",
           "zerolinewidth": 2
          }
         }
        },
        "title": {
         "font": {
          "size": 18
         },
         "text": "Training Dataset - Out of Fold Predictions"
        },
        "width": 840,
        "xaxis": {
         "anchor": "y",
         "domain": [
          0,
          1
         ],
         "range": [
          -0.02,
          1.02
         ],
         "title": {
          "text": "Positive Class Probability"
         },
         "type": "linear"
        },
        "yaxis": {
         "anchor": "x",
         "autorange": true,
         "domain": [
          0,
          1
         ],
         "range": [
          -16.90521327014218,
          262.90521327014216
         ],
         "title": {
          "text": "Sample Integer Index"
         },
         "type": "linear"
        }
       }
      },
      "image/png": "[encoded data removed]",
      "text/html": [
       "<div>                            <div id=\"a67e9cf3-ee56-419b-8463-72b214805678\" class=\"plotly-graph-div\" style=\"height:540px; width:840px;\"></div>            <script type=\"text/javascript\">                require([\"plotly\"], function(Plotly) {                    window.PLOTLYENV=window.PLOTLYENV || {};                                    if (document.getElementById(\"a67e9cf3-ee56-419b-8463-72b214805678\")) {                    Plotly.newPlot(                        \"a67e9cf3-ee56-419b-8463-72b214805678\",                        [{\"hovertemplate\":\"Class=0\\u003cbr\\u003ePositive Class Probability=%{x}\\u003cbr\\u003eSample Integer Index=%{y}\\u003cextra\\u003e\\u003c\\u002fextra\\u003e\",\"legendgroup\":\"0\",\"marker\":{\"color\":\"#010D36\",\"opacity\":0.6,\"symbol\":\"diamond\",\"size\":6},\"mode\":\"markers\",\"name\":\"0\",\"orientation\":\"v\",\"showlegend\":true,\"x\":[0.007466217502951622,0.009190766140818596,0.000884472334291786,0.001085577649064362,0.10370916873216629,0.3260584771633148,0.0017215630505234003,0.0007812261465005577,0.002950852969661355,0.0028925486840307713,0.0022743248846381903,0.00167569681070745,0.004330174066126347,0.0031494549475610256,0.04810023307800293,0.0006300933309830725,0.00559137761592865,0.04127508029341698,0.10665328800678253,0.02012188360095024,0.004929752089083195,0.05632970482110977,0.01930582895874977,0.10195092856884003,0.013055995106697083,0.01678847149014473,0.01965459994971752,0.015527363866567612,0.40790101885795593,0.07201944291591644,0.06346549838781357,0.0007845725049264729,0.019990315660834312,0.0008494268986396492,0.005377309862524271,0.6095820069313049,0.0031546286772936583,0.4937473237514496,0.152037113904953,0.002787479665130377,0.0010650859912857413,0.0007171383476816118,0.05203690752387047,0.0038636019453406334,0.008615918457508087,0.4083039462566376,0.0698971226811409,0.3954647481441498,0.005613849963992834,0.6240870356559753,0.0004867792595177889,0.0014330652775242925,0.018615983426570892,0.0655561238527298,0.0019583951216191053,0.004427573177963495,0.0084881242364645,0.5305134654045105,0.0030073723755776882,0.00881196279078722,0.0008224729681387544,0.5830897688865662,0.10378002375364304,0.5631150007247925,0.004998104181140661,0.00036349042784422636,0.0017016349593177438,0.0846729651093483,0.10184280574321747,0.012767034582793713,0.0012586244847625494,0.06818540394306183,0.01865915209054947,0.5376793742179871,0.009494686499238014,0.10968071967363358,0.006345911417156458,0.5740086436271667,0.011111346073448658,0.00024205782392527908,0.038508083671331406,0.021392645314335823,0.03559551760554314,0.0864347442984581,0.0011129318736493587,0.02052086777985096,0.006464487873017788,0.0017100231489166617,0.0016287140315398574,0.002385816304013133,0.009257904253900051,0.04534925892949104,0.03561791032552719,0.020817462354898453,0.07367914915084839,0.019628457725048065,0.013164489530026913,0.21877089142799377,0.001766893663443625,0.03662823885679245,0.2497265785932541,0.007275054696947336,0.029799096286296844,0.0034343902952969074,0.0006790001643821597,0.008906790986657143,0.024003969505429268,0.04698074609041214,0.007374190725386143,0.009138913825154305,0.11086683720350266,0.009145311079919338,0.06149071082472801,0.049247875809669495,0.000783592346124351,0.002501990646123886,0.013729363679885864,0.026645395904779434,0.0018657082691788673,0.004545826930552721,0.0004266269679646939,0.05067700147628784,0.3181644082069397,0.011428247205913067,0.6048527956008911,0.008795310743153095,0.0010404359782114625,0.04018554463982582,0.009062151424586773,0.37194475531578064,0.0007081961957737803,0.9159129858016968,0.004171472508460283,0.0020635260734707117,0.007723407354205847,0.0012543811462819576,0.019002225250005722,0.4194491505622864,0.053461816161870956,0.004936673678457737,0.0404619500041008,0.0002591332886368036,0.0107833007350564,0.0033789770677685738,0.05707512050867081,0.15500465035438538,0.007819791324436665,0.00025947470567189157,0.015109504573047161,0.02263704687356949,0.012023999355733395,0.0576622374355793,0.005908177699893713,0.00012173315917607397,0.01314484141767025,0.0047195181250572205,0.00030135465203784406,0.02106597274541855,0.12669461965560913,0.003630497260019183,0.018817627802491188,0.01942428946495056,0.0020952667109668255,0.006703962106257677,0.041530508548021317,0.0047574276104569435,0.03650961443781853,0.0012990857940167189,0.07570038735866547,0.004440105054527521,0.024172810837626457,0.001540235010907054,0.01183018833398819,0.01640225201845169,0.0010023366194218397,0.011365716345608234,0.00015310270828194916,0.0017300219042226672,0.03824746608734131,0.025468014180660248,0.0005873094778507948,0.0187578983604908,0.0008137340191751719,0.021041706204414368,0.09313243627548218,0.0006228841375559568,0.031977877020835876,0.01349773071706295,0.002088067354634404,0.00041727538336999714,0.002599896863102913,0.012220202013850212,0.03979511186480522,0.12150001525878906,0.02059263177216053],\"xaxis\":\"x\",\"y\":[0,1,2,4,5,6,7,8,9,10,11,12,13,14,15,16,18,19,20,22,23,24,25,26,27,28,29,30,31,32,33,34,35,36,37,38,39,41,42,44,45,46,47,49,50,51,52,55,56,57,58,59,60,61,62,63,64,65,66,67,68,69,70,71,72,73,74,75,77,78,79,81,82,83,85,86,87,89,90,91,93,94,95,97,98,100,103,105,106,107,108,109,110,111,112,113,115,116,117,118,120,121,124,125,126,127,128,129,130,131,132,136,137,138,139,140,141,142,143,146,147,148,151,153,157,158,159,160,162,163,166,167,168,169,170,171,172,173,174,176,177,179,181,184,185,186,187,188,189,190,191,192,194,195,196,197,198,200,202,203,204,205,206,207,209,210,211,212,213,215,216,217,218,219,220,221,222,223,224,226,228,229,230,231,232,234,237,238,239,240,241,242,243,244,245],\"yaxis\":\"y\",\"type\":\"scatter\"},{\"hovertemplate\":\"Class=1\\u003cbr\\u003ePositive Class Probability=%{x}\\u003cbr\\u003eSample Integer Index=%{y}\\u003cextra\\u003e\\u003c\\u002fextra\\u003e\",\"legendgroup\":\"1\",\"marker\":{\"color\":\"#FF2079\",\"opacity\":0.6,\"symbol\":\"circle\",\"size\":6},\"mode\":\"markers\",\"name\":\"1\",\"orientation\":\"v\",\"showlegend\":true,\"x\":[0.45202040672302246,0.9146006107330322,0.6898502707481384,0.2411014586687088,0.8955984711647034,0.5855627059936523,0.8608112335205078,0.2789947986602783,0.46014630794525146,0.7739784121513367,0.762911856174469,0.8590790629386902,0.9004042148590088,0.9768673181533813,0.10707568377256393,0.7057058215141296,0.10201093554496765,0.3439052700996399,0.9692245125770569,0.4331371486186981,0.4624633193016052,0.8847251534461975,0.9192991852760315,0.6799405813217163,0.8914086222648621,0.7147946953773499,0.8145833015441895,0.4285498261451721,0.9709042906761169,0.9692652821540833,0.5658135414123535,0.955198347568512,0.7326872944831848,0.2883628010749817,0.7446500062942505,0.8737940192222595,0.9687504768371582,0.8412908911705017,0.9835145473480225,0.9120855927467346,0.861738383769989,0.7139838933944702,0.45134302973747253,0.7251298427581787,0.18376994132995605,0.9470421671867371,0.4108550548553467,0.6294717192649841,0.36298486590385437,0.0029264534823596478,0.9830065369606018,0.4519680142402649],\"xaxis\":\"x\",\"y\":[3,17,21,40,43,48,53,54,76,80,84,88,92,96,99,101,102,104,114,119,122,123,133,134,135,144,145,149,150,152,154,155,156,161,164,165,175,178,180,182,183,193,199,201,208,214,225,227,233,235,236,246],\"yaxis\":\"y\",\"type\":\"scatter\"}],                        {\"template\":{\"data\":{\"histogram2dcontour\":[{\"type\":\"histogram2dcontour\",\"colorbar\":{\"outlinewidth\":0,\"ticks\":\"\"},\"colorscale\":[[0.0,\"#0d0887\"],[0.1111111111111111,\"#46039f\"],[0.2222222222222222,\"#7201a8\"],[0.3333333333333333,\"#9c179e\"],[0.4444444444444444,\"#bd3786\"],[0.5555555555555556,\"#d8576b\"],[0.6666666666666666,\"#ed7953\"],[0.7777777777777778,\"#fb9f3a\"],[0.8888888888888888,\"#fdca26\"],[1.0,\"#f0f921\"]]}],\"choropleth\":[{\"type\":\"choropleth\",\"colorbar\":{\"outlinewidth\":0,\"ticks\":\"\"}}],\"histogram2d\":[{\"type\":\"histogram2d\",\"colorbar\":{\"outlinewidth\":0,\"ticks\":\"\"},\"colorscale\":[[0.0,\"#0d0887\"],[0.1111111111111111,\"#46039f\"],[0.2222222222222222,\"#7201a8\"],[0.3333333333333333,\"#9c179e\"],[0.4444444444444444,\"#bd3786\"],[0.5555555555555556,\"#d8576b\"],[0.6666666666666666,\"#ed7953\"],[0.7777777777777778,\"#fb9f3a\"],[0.8888888888888888,\"#fdca26\"],[1.0,\"#f0f921\"]]}],\"heatmap\":[{\"type\":\"heatmap\",\"colorbar\":{\"outlinewidth\":0,\"ticks\":\"\"},\"colorscale\":[[0.0,\"#0d0887\"],[0.1111111111111111,\"#46039f\"],[0.2222222222222222,\"#7201a8\"],[0.3333333333333333,\"#9c179e\"],[0.4444444444444444,\"#bd3786\"],[0.5555555555555556,\"#d8576b\"],[0.6666666666666666,\"#ed7953\"],[0.7777777777777778,\"#fb9f3a\"],[0.8888888888888888,\"#fdca26\"],[1.0,\"#f0f921\"]]}],\"heatmapgl\":[{\"type\":\"heatmapgl\",\"colorbar\":{\"outlinewidth\":0,\"ticks\":\"\"},\"colorscale\":[[0.0,\"#0d0887\"],[0.1111111111111111,\"#46039f\"],[0.2222222222222222,\"#7201a8\"],[0.3333333333333333,\"#9c179e\"],[0.4444444444444444,\"#bd3786\"],[0.5555555555555556,\"#d8576b\"],[0.6666666666666666,\"#ed7953\"],[0.7777777777777778,\"#fb9f3a\"],[0.8888888888888888,\"#fdca26\"],[1.0,\"#f0f921\"]]}],\"contourcarpet\":[{\"type\":\"contourcarpet\",\"colorbar\":{\"outlinewidth\":0,\"ticks\":\"\"}}],\"contour\":[{\"type\":\"contour\",\"colorbar\":{\"outlinewidth\":0,\"ticks\":\"\"},\"colorscale\":[[0.0,\"#0d0887\"],[0.1111111111111111,\"#46039f\"],[0.2222222222222222,\"#7201a8\"],[0.3333333333333333,\"#9c179e\"],[0.4444444444444444,\"#bd3786\"],[0.5555555555555556,\"#d8576b\"],[0.6666666666666666,\"#ed7953\"],[0.7777777777777778,\"#fb9f3a\"],[0.8888888888888888,\"#fdca26\"],[1.0,\"#f0f921\"]]}],\"surface\":[{\"type\":\"surface\",\"colorbar\":{\"outlinewidth\":0,\"ticks\":\"\"},\"colorscale\":[[0.0,\"#0d0887\"],[0.1111111111111111,\"#46039f\"],[0.2222222222222222,\"#7201a8\"],[0.3333333333333333,\"#9c179e\"],[0.4444444444444444,\"#bd3786\"],[0.5555555555555556,\"#d8576b\"],[0.6666666666666666,\"#ed7953\"],[0.7777777777777778,\"#fb9f3a\"],[0.8888888888888888,\"#fdca26\"],[1.0,\"#f0f921\"]]}],\"mesh3d\":[{\"type\":\"mesh3d\",\"colorbar\":{\"outlinewidth\":0,\"ticks\":\"\"}}],\"scatter\":[{\"fillpattern\":{\"fillmode\":\"overlay\",\"size\":10,\"solidity\":0.2},\"type\":\"scatter\"}],\"parcoords\":[{\"type\":\"parcoords\",\"line\":{\"colorbar\":{\"outlinewidth\":0,\"ticks\":\"\"}}}],\"scatterpolargl\":[{\"type\":\"scatterpolargl\",\"marker\":{\"colorbar\":{\"outlinewidth\":0,\"ticks\":\"\"}}}],\"bar\":[{\"error_x\":{\"color\":\"#2a3f5f\"},\"error_y\":{\"color\":\"#2a3f5f\"},\"marker\":{\"line\":{\"color\":\"#E5ECF6\",\"width\":0.5},\"pattern\":{\"fillmode\":\"overlay\",\"size\":10,\"solidity\":0.2}},\"type\":\"bar\"}],\"scattergeo\":[{\"type\":\"scattergeo\",\"marker\":{\"colorbar\":{\"outlinewidth\":0,\"ticks\":\"\"}}}],\"scatterpolar\":[{\"type\":\"scatterpolar\",\"marker\":{\"colorbar\":{\"outlinewidth\":0,\"ticks\":\"\"}}}],\"histogram\":[{\"marker\":{\"pattern\":{\"fillmode\":\"overlay\",\"size\":10,\"solidity\":0.2}},\"type\":\"histogram\"}],\"scattergl\":[{\"type\":\"scattergl\",\"marker\":{\"colorbar\":{\"outlinewidth\":0,\"ticks\":\"\"}}}],\"scatter3d\":[{\"type\":\"scatter3d\",\"line\":{\"colorbar\":{\"outlinewidth\":0,\"ticks\":\"\"}},\"marker\":{\"colorbar\":{\"outlinewidth\":0,\"ticks\":\"\"}}}],\"scattermapbox\":[{\"type\":\"scattermapbox\",\"marker\":{\"colorbar\":{\"outlinewidth\":0,\"ticks\":\"\"}}}],\"scatterternary\":[{\"type\":\"scatterternary\",\"marker\":{\"colorbar\":{\"outlinewidth\":0,\"ticks\":\"\"}}}],\"scattercarpet\":[{\"type\":\"scattercarpet\",\"marker\":{\"colorbar\":{\"outlinewidth\":0,\"ticks\":\"\"}}}],\"carpet\":[{\"aaxis\":{\"endlinecolor\":\"#2a3f5f\",\"gridcolor\":\"white\",\"linecolor\":\"white\",\"minorgridcolor\":\"white\",\"startlinecolor\":\"#2a3f5f\"},\"baxis\":{\"endlinecolor\":\"#2a3f5f\",\"gridcolor\":\"white\",\"linecolor\":\"white\",\"minorgridcolor\":\"white\",\"startlinecolor\":\"#2a3f5f\"},\"type\":\"carpet\"}],\"table\":[{\"cells\":{\"fill\":{\"color\":\"#EBF0F8\"},\"line\":{\"color\":\"white\"}},\"header\":{\"fill\":{\"color\":\"#C8D4E3\"},\"line\":{\"color\":\"white\"}},\"type\":\"table\"}],\"barpolar\":[{\"marker\":{\"line\":{\"color\":\"#E5ECF6\",\"width\":0.5},\"pattern\":{\"fillmode\":\"overlay\",\"size\":10,\"solidity\":0.2}},\"type\":\"barpolar\"}],\"pie\":[{\"automargin\":true,\"type\":\"pie\"}]},\"layout\":{\"autotypenumbers\":\"strict\",\"colorway\":[\"#636efa\",\"#EF553B\",\"#00cc96\",\"#ab63fa\",\"#FFA15A\",\"#19d3f3\",\"#FF6692\",\"#B6E880\",\"#FF97FF\",\"#FECB52\"],\"font\":{\"color\":\"#2a3f5f\"},\"hovermode\":\"closest\",\"hoverlabel\":{\"align\":\"left\"},\"paper_bgcolor\":\"white\",\"plot_bgcolor\":\"#E5ECF6\",\"polar\":{\"bgcolor\":\"#E5ECF6\",\"angularaxis\":{\"gridcolor\":\"white\",\"linecolor\":\"white\",\"ticks\":\"\"},\"radialaxis\":{\"gridcolor\":\"white\",\"linecolor\":\"white\",\"ticks\":\"\"}},\"ternary\":{\"bgcolor\":\"#E5ECF6\",\"aaxis\":{\"gridcolor\":\"white\",\"linecolor\":\"white\",\"ticks\":\"\"},\"baxis\":{\"gridcolor\":\"white\",\"linecolor\":\"white\",\"ticks\":\"\"},\"caxis\":{\"gridcolor\":\"white\",\"linecolor\":\"white\",\"ticks\":\"\"}},\"coloraxis\":{\"colorbar\":{\"outlinewidth\":0,\"ticks\":\"\"}},\"colorscale\":{\"sequential\":[[0.0,\"#0d0887\"],[0.1111111111111111,\"#46039f\"],[0.2222222222222222,\"#7201a8\"],[0.3333333333333333,\"#9c179e\"],[0.4444444444444444,\"#bd3786\"],[0.5555555555555556,\"#d8576b\"],[0.6666666666666666,\"#ed7953\"],[0.7777777777777778,\"#fb9f3a\"],[0.8888888888888888,\"#fdca26\"],[1.0,\"#f0f921\"]],\"sequentialminus\":[[0.0,\"#0d0887\"],[0.1111111111111111,\"#46039f\"],[0.2222222222222222,\"#7201a8\"],[0.3333333333333333,\"#9c179e\"],[0.4444444444444444,\"#bd3786\"],[0.5555555555555556,\"#d8576b\"],[0.6666666666666666,\"#ed7953\"],[0.7777777777777778,\"#fb9f3a\"],[0.8888888888888888,\"#fdca26\"],[1.0,\"#f0f921\"]],\"diverging\":[[0,\"#8e0152\"],[0.1,\"#c51b7d\"],[0.2,\"#de77ae\"],[0.3,\"#f1b6da\"],[0.4,\"#fde0ef\"],[0.5,\"#f7f7f7\"],[0.6,\"#e6f5d0\"],[0.7,\"#b8e186\"],[0.8,\"#7fbc41\"],[0.9,\"#4d9221\"],[1,\"#276419\"]]},\"xaxis\":{\"gridcolor\":\"white\",\"linecolor\":\"white\",\"ticks\":\"\",\"title\":{\"standoff\":15},\"zerolinecolor\":\"white\",\"automargin\":true,\"zerolinewidth\":2},\"yaxis\":{\"gridcolor\":\"white\",\"linecolor\":\"white\",\"ticks\":\"\",\"title\":{\"standoff\":15},\"zerolinecolor\":\"white\",\"automargin\":true,\"zerolinewidth\":2},\"scene\":{\"xaxis\":{\"backgroundcolor\":\"#E5ECF6\",\"gridcolor\":\"white\",\"linecolor\":\"white\",\"showbackground\":true,\"ticks\":\"\",\"zerolinecolor\":\"white\",\"gridwidth\":2},\"yaxis\":{\"backgroundcolor\":\"#E5ECF6\",\"gridcolor\":\"white\",\"linecolor\":\"white\",\"showbackground\":true,\"ticks\":\"\",\"zerolinecolor\":\"white\",\"gridwidth\":2},\"zaxis\":{\"backgroundcolor\":\"#E5ECF6\",\"gridcolor\":\"white\",\"linecolor\":\"white\",\"showbackground\":true,\"ticks\":\"\",\"zerolinecolor\":\"white\",\"gridwidth\":2}},\"shapedefaults\":{\"line\":{\"color\":\"#2a3f5f\"}},\"annotationdefaults\":{\"arrowcolor\":\"#2a3f5f\",\"arrowhead\":0,\"arrowwidth\":1},\"geo\":{\"bgcolor\":\"white\",\"landcolor\":\"#E5ECF6\",\"subunitcolor\":\"white\",\"showland\":true,\"showlakes\":true,\"lakecolor\":\"white\"},\"title\":{\"x\":0.05},\"mapbox\":{\"style\":\"light\"}}},\"xaxis\":{\"anchor\":\"y\",\"domain\":[0.0,1.0],\"title\":{\"text\":\"Positive Class Probability\"},\"range\":[-0.02,1.02]},\"yaxis\":{\"anchor\":\"x\",\"domain\":[0.0,1.0],\"title\":{\"text\":\"Sample Integer Index\"}},\"legend\":{\"title\":{\"text\":\"Class\"},\"tracegroupgap\":0,\"orientation\":\"h\",\"yanchor\":\"bottom\",\"xanchor\":\"right\",\"y\":1.05,\"x\":1,\"itemsizing\":\"constant\"},\"title\":{\"text\":\"Training Dataset - Out of Fold Predictions\",\"font\":{\"size\":18}},\"height\":540,\"width\":840},                        {\"responsive\": true}                    ).then(function(){\n",
       "                            \n",
       "var gd = document.getElementById('a67e9cf3-ee56-419b-8463-72b214805678');\n",
       "var x = new MutationObserver(function (mutations, observer) {{\n",
       "        var display = window.getComputedStyle(gd).display;\n",
       "        if (!display || display === 'none') {{\n",
       "            console.log([gd, 'removed!']);\n",
       "            Plotly.purge(gd);\n",
       "            observer.disconnect();\n",
       "        }}\n",
       "}});\n",
       "\n",
       "// Listen for the removal of the full notebook cells\n",
       "var notebookContainer = gd.closest('#notebook-container');\n",
       "if (notebookContainer) {{\n",
       "    x.observe(notebookContainer, {childList: true});\n",
       "}}\n",
       "\n",
       "// Listen for the clearing of the current output cell\n",
       "var outputEl = gd.closest('.output');\n",
       "if (outputEl) {{\n",
       "    x.observe(outputEl, {childList: true});\n",
       "}}\n",
       "\n",
       "                        })                };                });            </script>        </div>"
      ]
     },
     "metadata": {},
     "output_type": "display_data"
    }
   ],
   "source": [
    "from visualize.results import plot_results\n",
    "plot_results(y_test, p_eval[:, 1])"
   ]
  },
  {
   "cell_type": "code",
   "execution_count": null,
   "metadata": {},
   "outputs": [],
   "source": []
  }
 ],
 "metadata": {
  "kernelspec": {
   "display_name": "Python 3 (ipykernel)",
   "language": "python",
   "name": "python3"
  },
  "language_info": {
   "codemirror_mode": {
    "name": "ipython",
    "version": 3
   },
   "file_extension": ".py",
   "mimetype": "text/x-python",
   "name": "python",
   "nbconvert_exporter": "python",
   "pygments_lexer": "ipython3",
   "version": "3.9.16"
  }
 },
 "nbformat": 4,
 "nbformat_minor": 4
}
