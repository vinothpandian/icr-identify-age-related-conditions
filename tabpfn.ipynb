{
 "cells": [
  {
   "cell_type": "code",
   "execution_count": 16,
   "metadata": {},
   "outputs": [],
   "source": [
    "import numpy as np\n",
    "from sklearn import metrics\n",
    "import optuna\n",
    "\n",
    "\n",
    "def balanced_log_loss(y_true, y_pred):\n",
    "    nc = np.bincount(y_true)\n",
    "    return metrics.log_loss(y_true, y_pred, sample_weight=1 / nc[y_true], eps=1e-15)\n"
   ]
  },
  {
   "cell_type": "code",
   "execution_count": 17,
   "metadata": {},
   "outputs": [],
   "source": [
    "from tabpfn import TabPFNClassifier"
   ]
  },
  {
   "cell_type": "code",
   "execution_count": 18,
   "metadata": {},
   "outputs": [],
   "source": [
    "import pandas as pd\n",
    "from pathlib import Path\n",
    "\n",
    "path = Path('./data')\n",
    "output = Path('./output')\n",
    "output.mkdir(exist_ok=True)"
   ]
  },
  {
   "cell_type": "code",
   "execution_count": 19,
   "metadata": {},
   "outputs": [],
   "source": [
    "df = pd.read_csv(path/'train.csv', index_col='Id')"
   ]
  },
  {
   "cell_type": "code",
   "execution_count": 20,
   "metadata": {},
   "outputs": [],
   "source": [
    "from sklearn import pipeline, model_selection, impute\n",
    "\n",
    "def get_tree_preprocess_pipeline():\n",
    "    return pipeline.make_pipeline(\n",
    "        impute.KNNImputer(n_neighbors=10, weights=\"distance\"),\n",
    "    ).set_output(transform=\"pandas\")\n",
    "\n",
    "\n",
    "# Load data\n",
    "\n",
    "df = pd.read_csv(path / \"train.csv\", index_col=\"Id\")\n",
    "dep_vars = [\"Class\"]\n",
    "\n",
    "drop_vars = [\"EJ\"]\n",
    "df.drop(columns=drop_vars, inplace=True)\n",
    "\n",
    "train_df, test_df = model_selection.train_test_split(df, test_size=0.4, stratify=df[dep_vars], random_state=33)\n",
    "\n",
    "preprocessor = get_tree_preprocess_pipeline()\n",
    "\n",
    "# Preprocess training data\n",
    "X_pre = preprocessor.fit_transform(train_df.drop(columns=dep_vars))\n",
    "train_df = pd.merge(X_pre, train_df[dep_vars], left_index=True, right_index=True)\n",
    "X = train_df.drop(columns=dep_vars, errors=\"ignore\")\n",
    "y = train_df[dep_vars].values.ravel()\n",
    "\n",
    "# Preprocess test data\n",
    "X_test_pre = preprocessor.transform(test_df.drop(columns=dep_vars))\n",
    "test_df = pd.merge(X_test_pre, test_df[dep_vars], left_index=True, right_index=True)\n",
    "X_test = test_df.drop(columns=dep_vars, errors=\"ignore\")\n",
    "y_test = test_df[dep_vars].values.ravel()\n",
    "\n",
    "# Calculate scale_pos_weight\n",
    "scale_pos_weight = df[\"Class\"].value_counts()[0] / df[\"Class\"].value_counts()[1]"
   ]
  },
  {
   "cell_type": "code",
   "execution_count": 21,
   "metadata": {},
   "outputs": [],
   "source": [
    "# Resample\n",
    "from imblearn.over_sampling import SMOTE\n",
    "\n",
    "\n",
    "def resample(X, y):\n",
    "    sampler = SMOTE()\n",
    "    X_res, y_res = sampler.fit_resample(X, y)\n",
    "    return X_res, y_res"
   ]
  },
  {
   "cell_type": "code",
   "execution_count": 22,
   "metadata": {},
   "outputs": [],
   "source": [
    "def objective(trial):\n",
    "    classifier = TabPFNClassifier(\n",
    "        device=\"cuda\",\n",
    "        N_ensemble_configurations=trial.suggest_int(\"N_ensemble_configurations\", 4, 128, step=4),\n",
    "        feature_shift_decoder=trial.suggest_categorical(\"feature_shift_decoder\", [True, False]),\n",
    "        only_inference=False,\n",
    "    )\n",
    "    \n",
    "    X_res, y_res = resample(X, y)\n",
    "    \n",
    "    classifier.fit(X_res, y_res)\n",
    "\n",
    "    p_eval = classifier.predict_proba(X_test)\n",
    "    return balanced_log_loss(y_test, p_eval)"
   ]
  },
  {
   "cell_type": "code",
   "execution_count": null,
   "metadata": {},
   "outputs": [],
   "source": [
    "# study = optuna.delete_study(\n",
    "#     study_name=\"tabpfn_no_resample\",\n",
    "#     storage=\"sqlite:////storage/optuna-final.db\",\n",
    "# )"
   ]
  },
  {
   "cell_type": "code",
   "execution_count": 24,
   "metadata": {},
   "outputs": [
    {
     "name": "stderr",
     "output_type": "stream",
     "text": [
      "[I 2023-08-07 02:06:16,879] A new study created in RDB with name: tabpfn_resample\n"
     ]
    },
    {
     "name": "stdout",
     "output_type": "stream",
     "text": [
      "!! Warning: GPyTorch must be installed !!\n",
      "Using style prior: True\n",
      "Using cuda device\n",
      "Using a Transformer with 25.82 M parameters\n"
     ]
    },
    {
     "name": "stderr",
     "output_type": "stream",
     "text": [
      "[I 2023-08-07 02:06:18,537] Trial 0 finished with value: 0.47117188353216266 and parameters: {'N_ensemble_configurations': 52, 'feature_shift_decoder': False}. Best is trial 0 with value: 0.47117188353216266.\n"
     ]
    },
    {
     "name": "stdout",
     "output_type": "stream",
     "text": [
      "!! Warning: GPyTorch must be installed !!\n",
      "Using style prior: True\n",
      "Using cuda device\n",
      "Using a Transformer with 25.82 M parameters\n"
     ]
    },
    {
     "name": "stderr",
     "output_type": "stream",
     "text": [
      "[I 2023-08-07 02:06:21,435] Trial 1 finished with value: 0.4980927958382415 and parameters: {'N_ensemble_configurations': 48, 'feature_shift_decoder': True}. Best is trial 0 with value: 0.47117188353216266.\n"
     ]
    },
    {
     "name": "stdout",
     "output_type": "stream",
     "text": [
      "!! Warning: GPyTorch must be installed !!\n",
      "Using style prior: True\n",
      "Using cuda device\n",
      "Using a Transformer with 25.82 M parameters\n"
     ]
    },
    {
     "name": "stderr",
     "output_type": "stream",
     "text": [
      "[I 2023-08-07 02:06:24,895] Trial 2 finished with value: 0.4871488123423532 and parameters: {'N_ensemble_configurations': 96, 'feature_shift_decoder': True}. Best is trial 0 with value: 0.47117188353216266.\n"
     ]
    },
    {
     "name": "stdout",
     "output_type": "stream",
     "text": [
      "!! Warning: GPyTorch must be installed !!\n",
      "Using style prior: True\n",
      "Using cuda device\n",
      "Using a Transformer with 25.82 M parameters\n"
     ]
    },
    {
     "name": "stderr",
     "output_type": "stream",
     "text": [
      "[I 2023-08-07 02:06:27,746] Trial 3 finished with value: 0.4853159939682439 and parameters: {'N_ensemble_configurations': 76, 'feature_shift_decoder': True}. Best is trial 0 with value: 0.47117188353216266.\n"
     ]
    },
    {
     "name": "stdout",
     "output_type": "stream",
     "text": [
      "!! Warning: GPyTorch must be installed !!\n",
      "Using style prior: True\n",
      "Using cuda device\n",
      "Using a Transformer with 25.82 M parameters\n"
     ]
    },
    {
     "name": "stderr",
     "output_type": "stream",
     "text": [
      "[I 2023-08-07 02:06:29,617] Trial 4 finished with value: 0.4710265913245242 and parameters: {'N_ensemble_configurations': 60, 'feature_shift_decoder': False}. Best is trial 4 with value: 0.4710265913245242.\n"
     ]
    },
    {
     "name": "stdout",
     "output_type": "stream",
     "text": [
      "!! Warning: GPyTorch must be installed !!\n",
      "Using style prior: True\n",
      "Using cuda device\n",
      "Using a Transformer with 25.82 M parameters\n"
     ]
    },
    {
     "name": "stderr",
     "output_type": "stream",
     "text": [
      "[I 2023-08-07 02:06:31,168] Trial 5 finished with value: 0.48503643404401453 and parameters: {'N_ensemble_configurations': 128, 'feature_shift_decoder': False}. Best is trial 4 with value: 0.4710265913245242.\n"
     ]
    },
    {
     "name": "stdout",
     "output_type": "stream",
     "text": [
      "!! Warning: GPyTorch must be installed !!\n",
      "Using style prior: True\n",
      "Using cuda device\n",
      "Using a Transformer with 25.82 M parameters\n"
     ]
    },
    {
     "name": "stderr",
     "output_type": "stream",
     "text": [
      "[I 2023-08-07 02:06:33,039] Trial 6 finished with value: 0.5086472505713775 and parameters: {'N_ensemble_configurations': 32, 'feature_shift_decoder': True}. Best is trial 4 with value: 0.4710265913245242.\n"
     ]
    },
    {
     "name": "stdout",
     "output_type": "stream",
     "text": [
      "!! Warning: GPyTorch must be installed !!\n",
      "Using style prior: True\n",
      "Using cuda device\n",
      "Using a Transformer with 25.82 M parameters\n"
     ]
    },
    {
     "name": "stderr",
     "output_type": "stream",
     "text": [
      "[I 2023-08-07 02:06:36,454] Trial 7 finished with value: 0.4986487983982822 and parameters: {'N_ensemble_configurations': 88, 'feature_shift_decoder': True}. Best is trial 4 with value: 0.4710265913245242.\n"
     ]
    },
    {
     "name": "stdout",
     "output_type": "stream",
     "text": [
      "!! Warning: GPyTorch must be installed !!\n",
      "Using style prior: True\n",
      "Using cuda device\n",
      "Using a Transformer with 25.82 M parameters\n"
     ]
    },
    {
     "name": "stderr",
     "output_type": "stream",
     "text": [
      "[I 2023-08-07 02:06:38,042] Trial 8 finished with value: 0.4670492255362312 and parameters: {'N_ensemble_configurations': 52, 'feature_shift_decoder': False}. Best is trial 8 with value: 0.4670492255362312.\n"
     ]
    },
    {
     "name": "stdout",
     "output_type": "stream",
     "text": [
      "!! Warning: GPyTorch must be installed !!\n",
      "Using style prior: True\n",
      "Using cuda device\n",
      "Using a Transformer with 25.82 M parameters\n"
     ]
    },
    {
     "name": "stderr",
     "output_type": "stream",
     "text": [
      "[I 2023-08-07 02:06:41,472] Trial 9 finished with value: 0.5047666479513826 and parameters: {'N_ensemble_configurations': 88, 'feature_shift_decoder': True}. Best is trial 8 with value: 0.4670492255362312.\n"
     ]
    },
    {
     "name": "stdout",
     "output_type": "stream",
     "text": [
      "!! Warning: GPyTorch must be installed !!\n",
      "Using style prior: True\n",
      "Using cuda device\n",
      "Using a Transformer with 25.82 M parameters\n"
     ]
    },
    {
     "name": "stderr",
     "output_type": "stream",
     "text": [
      "[I 2023-08-07 02:06:42,856] Trial 10 finished with value: 0.47943037642932057 and parameters: {'N_ensemble_configurations': 16, 'feature_shift_decoder': False}. Best is trial 8 with value: 0.4670492255362312.\n"
     ]
    },
    {
     "name": "stdout",
     "output_type": "stream",
     "text": [
      "!! Warning: GPyTorch must be installed !!\n",
      "Using style prior: True\n",
      "Using cuda device\n",
      "Using a Transformer with 25.82 M parameters\n"
     ]
    },
    {
     "name": "stderr",
     "output_type": "stream",
     "text": [
      "[I 2023-08-07 02:06:44,504] Trial 11 finished with value: 0.4870676035115592 and parameters: {'N_ensemble_configurations': 56, 'feature_shift_decoder': False}. Best is trial 8 with value: 0.4670492255362312.\n"
     ]
    },
    {
     "name": "stdout",
     "output_type": "stream",
     "text": [
      "!! Warning: GPyTorch must be installed !!\n",
      "Using style prior: True\n",
      "Using cuda device\n",
      "Using a Transformer with 25.82 M parameters\n"
     ]
    },
    {
     "name": "stderr",
     "output_type": "stream",
     "text": [
      "[I 2023-08-07 02:06:46,134] Trial 12 finished with value: 0.49395686869544597 and parameters: {'N_ensemble_configurations': 32, 'feature_shift_decoder': False}. Best is trial 8 with value: 0.4670492255362312.\n"
     ]
    },
    {
     "name": "stdout",
     "output_type": "stream",
     "text": [
      "!! Warning: GPyTorch must be installed !!\n",
      "Using style prior: True\n",
      "Using cuda device\n",
      "Using a Transformer with 25.82 M parameters\n"
     ]
    },
    {
     "name": "stderr",
     "output_type": "stream",
     "text": [
      "[I 2023-08-07 02:06:47,580] Trial 13 finished with value: 0.49443466313629847 and parameters: {'N_ensemble_configurations': 4, 'feature_shift_decoder': False}. Best is trial 8 with value: 0.4670492255362312.\n"
     ]
    },
    {
     "name": "stdout",
     "output_type": "stream",
     "text": [
      "!! Warning: GPyTorch must be installed !!\n",
      "Using style prior: True\n",
      "Using cuda device\n",
      "Using a Transformer with 25.82 M parameters\n"
     ]
    },
    {
     "name": "stderr",
     "output_type": "stream",
     "text": [
      "[I 2023-08-07 02:06:48,648] Trial 14 finished with value: 0.5028510947331551 and parameters: {'N_ensemble_configurations': 64, 'feature_shift_decoder': False}. Best is trial 8 with value: 0.4670492255362312.\n"
     ]
    },
    {
     "name": "stdout",
     "output_type": "stream",
     "text": [
      "!! Warning: GPyTorch must be installed !!\n",
      "Using style prior: True\n",
      "Using cuda device\n",
      "Using a Transformer with 25.82 M parameters\n"
     ]
    },
    {
     "name": "stderr",
     "output_type": "stream",
     "text": [
      "[I 2023-08-07 02:06:49,677] Trial 15 finished with value: 0.4796700230483877 and parameters: {'N_ensemble_configurations': 36, 'feature_shift_decoder': False}. Best is trial 8 with value: 0.4670492255362312.\n"
     ]
    },
    {
     "name": "stdout",
     "output_type": "stream",
     "text": [
      "!! Warning: GPyTorch must be installed !!\n",
      "Using style prior: True\n",
      "Using cuda device\n",
      "Using a Transformer with 25.82 M parameters\n"
     ]
    },
    {
     "name": "stderr",
     "output_type": "stream",
     "text": [
      "[I 2023-08-07 02:06:50,816] Trial 16 finished with value: 0.4787921747666891 and parameters: {'N_ensemble_configurations': 104, 'feature_shift_decoder': False}. Best is trial 8 with value: 0.4670492255362312.\n"
     ]
    },
    {
     "name": "stdout",
     "output_type": "stream",
     "text": [
      "!! Warning: GPyTorch must be installed !!\n",
      "Using style prior: True\n",
      "Using cuda device\n",
      "Using a Transformer with 25.82 M parameters\n"
     ]
    },
    {
     "name": "stderr",
     "output_type": "stream",
     "text": [
      "[I 2023-08-07 02:06:51,812] Trial 17 finished with value: 0.47941157486414543 and parameters: {'N_ensemble_configurations': 72, 'feature_shift_decoder': False}. Best is trial 8 with value: 0.4670492255362312.\n"
     ]
    },
    {
     "name": "stdout",
     "output_type": "stream",
     "text": [
      "!! Warning: GPyTorch must be installed !!\n",
      "Using style prior: True\n",
      "Using cuda device\n",
      "Using a Transformer with 25.82 M parameters\n"
     ]
    },
    {
     "name": "stderr",
     "output_type": "stream",
     "text": [
      "[I 2023-08-07 02:06:52,851] Trial 18 finished with value: 0.4769155180473413 and parameters: {'N_ensemble_configurations': 44, 'feature_shift_decoder': False}. Best is trial 8 with value: 0.4670492255362312.\n"
     ]
    },
    {
     "name": "stdout",
     "output_type": "stream",
     "text": [
      "!! Warning: GPyTorch must be installed !!\n",
      "Using style prior: True\n",
      "Using cuda device\n",
      "Using a Transformer with 25.82 M parameters\n"
     ]
    },
    {
     "name": "stderr",
     "output_type": "stream",
     "text": [
      "[I 2023-08-07 02:06:53,941] Trial 19 finished with value: 0.48213068250743596 and parameters: {'N_ensemble_configurations': 20, 'feature_shift_decoder': False}. Best is trial 8 with value: 0.4670492255362312.\n"
     ]
    },
    {
     "name": "stdout",
     "output_type": "stream",
     "text": [
      "!! Warning: GPyTorch must be installed !!\n",
      "Using style prior: True\n",
      "Using cuda device\n",
      "Using a Transformer with 25.82 M parameters\n"
     ]
    },
    {
     "name": "stderr",
     "output_type": "stream",
     "text": [
      "[I 2023-08-07 02:06:55,190] Trial 20 finished with value: 0.472793040587289 and parameters: {'N_ensemble_configurations': 64, 'feature_shift_decoder': False}. Best is trial 8 with value: 0.4670492255362312.\n"
     ]
    },
    {
     "name": "stdout",
     "output_type": "stream",
     "text": [
      "!! Warning: GPyTorch must be installed !!\n",
      "Using style prior: True\n",
      "Using cuda device\n",
      "Using a Transformer with 25.82 M parameters\n"
     ]
    },
    {
     "name": "stderr",
     "output_type": "stream",
     "text": [
      "[I 2023-08-07 02:06:56,575] Trial 21 finished with value: 0.4751939440262886 and parameters: {'N_ensemble_configurations': 52, 'feature_shift_decoder': False}. Best is trial 8 with value: 0.4670492255362312.\n"
     ]
    },
    {
     "name": "stdout",
     "output_type": "stream",
     "text": [
      "!! Warning: GPyTorch must be installed !!\n",
      "Using style prior: True\n",
      "Using cuda device\n",
      "Using a Transformer with 25.82 M parameters\n"
     ]
    },
    {
     "name": "stderr",
     "output_type": "stream",
     "text": [
      "[I 2023-08-07 02:06:58,075] Trial 22 finished with value: 0.4712946651048896 and parameters: {'N_ensemble_configurations': 60, 'feature_shift_decoder': False}. Best is trial 8 with value: 0.4670492255362312.\n"
     ]
    },
    {
     "name": "stdout",
     "output_type": "stream",
     "text": [
      "!! Warning: GPyTorch must be installed !!\n",
      "Using style prior: True\n",
      "Using cuda device\n",
      "Using a Transformer with 25.82 M parameters\n"
     ]
    },
    {
     "name": "stderr",
     "output_type": "stream",
     "text": [
      "[I 2023-08-07 02:06:59,734] Trial 23 finished with value: 0.47360972797237033 and parameters: {'N_ensemble_configurations': 76, 'feature_shift_decoder': False}. Best is trial 8 with value: 0.4670492255362312.\n"
     ]
    },
    {
     "name": "stdout",
     "output_type": "stream",
     "text": [
      "!! Warning: GPyTorch must be installed !!\n",
      "Using style prior: True\n",
      "Using cuda device\n",
      "Using a Transformer with 25.82 M parameters\n"
     ]
    },
    {
     "name": "stderr",
     "output_type": "stream",
     "text": [
      "[I 2023-08-07 02:07:01,272] Trial 24 finished with value: 0.49580921542565903 and parameters: {'N_ensemble_configurations': 40, 'feature_shift_decoder': False}. Best is trial 8 with value: 0.4670492255362312.\n"
     ]
    },
    {
     "name": "stdout",
     "output_type": "stream",
     "text": [
      "!! Warning: GPyTorch must be installed !!\n",
      "Using style prior: True\n",
      "Using cuda device\n",
      "Using a Transformer with 25.82 M parameters\n"
     ]
    },
    {
     "name": "stderr",
     "output_type": "stream",
     "text": [
      "[I 2023-08-07 02:07:03,064] Trial 25 finished with value: 0.4677612469907274 and parameters: {'N_ensemble_configurations': 24, 'feature_shift_decoder': False}. Best is trial 8 with value: 0.4670492255362312.\n"
     ]
    },
    {
     "name": "stdout",
     "output_type": "stream",
     "text": [
      "!! Warning: GPyTorch must be installed !!\n",
      "Using style prior: True\n",
      "Using cuda device\n",
      "Using a Transformer with 25.82 M parameters\n"
     ]
    },
    {
     "name": "stderr",
     "output_type": "stream",
     "text": [
      "[I 2023-08-07 02:07:04,633] Trial 26 finished with value: 0.47785199444577164 and parameters: {'N_ensemble_configurations': 20, 'feature_shift_decoder': False}. Best is trial 8 with value: 0.4670492255362312.\n"
     ]
    },
    {
     "name": "stdout",
     "output_type": "stream",
     "text": [
      "!! Warning: GPyTorch must be installed !!\n",
      "Using style prior: True\n",
      "Using cuda device\n",
      "Using a Transformer with 25.82 M parameters\n"
     ]
    },
    {
     "name": "stderr",
     "output_type": "stream",
     "text": [
      "[I 2023-08-07 02:07:06,201] Trial 27 finished with value: 0.4793859732823783 and parameters: {'N_ensemble_configurations': 24, 'feature_shift_decoder': False}. Best is trial 8 with value: 0.4670492255362312.\n"
     ]
    },
    {
     "name": "stdout",
     "output_type": "stream",
     "text": [
      "!! Warning: GPyTorch must be installed !!\n",
      "Using style prior: True\n",
      "Using cuda device\n",
      "Using a Transformer with 25.82 M parameters\n"
     ]
    },
    {
     "name": "stderr",
     "output_type": "stream",
     "text": [
      "[I 2023-08-07 02:07:08,844] Trial 28 finished with value: 0.5010656375279503 and parameters: {'N_ensemble_configurations': 4, 'feature_shift_decoder': False}. Best is trial 8 with value: 0.4670492255362312.\n"
     ]
    },
    {
     "name": "stdout",
     "output_type": "stream",
     "text": [
      "!! Warning: GPyTorch must be installed !!\n",
      "Using style prior: True\n",
      "Using cuda device\n",
      "Using a Transformer with 25.82 M parameters\n"
     ]
    },
    {
     "name": "stderr",
     "output_type": "stream",
     "text": [
      "[I 2023-08-07 02:07:10,413] Trial 29 finished with value: 0.4719471102536086 and parameters: {'N_ensemble_configurations': 48, 'feature_shift_decoder': False}. Best is trial 8 with value: 0.4670492255362312.\n"
     ]
    },
    {
     "name": "stdout",
     "output_type": "stream",
     "text": [
      "!! Warning: GPyTorch must be installed !!\n",
      "Using style prior: True\n",
      "Using cuda device\n",
      "Using a Transformer with 25.82 M parameters\n"
     ]
    },
    {
     "name": "stderr",
     "output_type": "stream",
     "text": [
      "[I 2023-08-07 02:07:12,184] Trial 30 finished with value: 0.48511561567124406 and parameters: {'N_ensemble_configurations': 28, 'feature_shift_decoder': False}. Best is trial 8 with value: 0.4670492255362312.\n"
     ]
    },
    {
     "name": "stdout",
     "output_type": "stream",
     "text": [
      "!! Warning: GPyTorch must be installed !!\n",
      "Using style prior: True\n",
      "Using cuda device\n",
      "Using a Transformer with 25.82 M parameters\n"
     ]
    },
    {
     "name": "stderr",
     "output_type": "stream",
     "text": [
      "[I 2023-08-07 02:07:13,733] Trial 31 finished with value: 0.49368410005692087 and parameters: {'N_ensemble_configurations': 52, 'feature_shift_decoder': False}. Best is trial 8 with value: 0.4670492255362312.\n"
     ]
    },
    {
     "name": "stdout",
     "output_type": "stream",
     "text": [
      "!! Warning: GPyTorch must be installed !!\n",
      "Using style prior: True\n",
      "Using cuda device\n",
      "Using a Transformer with 25.82 M parameters\n"
     ]
    },
    {
     "name": "stderr",
     "output_type": "stream",
     "text": [
      "[I 2023-08-07 02:07:16,046] Trial 32 finished with value: 0.49921692038091636 and parameters: {'N_ensemble_configurations': 40, 'feature_shift_decoder': True}. Best is trial 8 with value: 0.4670492255362312.\n"
     ]
    },
    {
     "name": "stdout",
     "output_type": "stream",
     "text": [
      "!! Warning: GPyTorch must be installed !!\n",
      "Using style prior: True\n",
      "Using cuda device\n",
      "Using a Transformer with 25.82 M parameters\n"
     ]
    },
    {
     "name": "stderr",
     "output_type": "stream",
     "text": [
      "[I 2023-08-07 02:07:17,386] Trial 33 finished with value: 0.48610934173570797 and parameters: {'N_ensemble_configurations': 68, 'feature_shift_decoder': False}. Best is trial 8 with value: 0.4670492255362312.\n"
     ]
    },
    {
     "name": "stdout",
     "output_type": "stream",
     "text": [
      "!! Warning: GPyTorch must be installed !!\n",
      "Using style prior: True\n",
      "Using cuda device\n",
      "Using a Transformer with 25.82 M parameters\n"
     ]
    },
    {
     "name": "stderr",
     "output_type": "stream",
     "text": [
      "[I 2023-08-07 02:07:19,695] Trial 34 finished with value: 0.5045836476013752 and parameters: {'N_ensemble_configurations': 84, 'feature_shift_decoder': True}. Best is trial 8 with value: 0.4670492255362312.\n"
     ]
    },
    {
     "name": "stdout",
     "output_type": "stream",
     "text": [
      "!! Warning: GPyTorch must be installed !!\n",
      "Using style prior: True\n",
      "Using cuda device\n",
      "Using a Transformer with 25.82 M parameters\n"
     ]
    },
    {
     "name": "stderr",
     "output_type": "stream",
     "text": [
      "[I 2023-08-07 02:07:20,795] Trial 35 finished with value: 0.49016965764680664 and parameters: {'N_ensemble_configurations': 48, 'feature_shift_decoder': False}. Best is trial 8 with value: 0.4670492255362312.\n"
     ]
    },
    {
     "name": "stdout",
     "output_type": "stream",
     "text": [
      "!! Warning: GPyTorch must be installed !!\n",
      "Using style prior: True\n",
      "Using cuda device\n",
      "Using a Transformer with 25.82 M parameters\n"
     ]
    },
    {
     "name": "stderr",
     "output_type": "stream",
     "text": [
      "[I 2023-08-07 02:07:23,629] Trial 36 finished with value: 0.4871020899991492 and parameters: {'N_ensemble_configurations': 104, 'feature_shift_decoder': True}. Best is trial 8 with value: 0.4670492255362312.\n"
     ]
    },
    {
     "name": "stdout",
     "output_type": "stream",
     "text": [
      "!! Warning: GPyTorch must be installed !!\n",
      "Using style prior: True\n",
      "Using cuda device\n",
      "Using a Transformer with 25.82 M parameters\n"
     ]
    },
    {
     "name": "stderr",
     "output_type": "stream",
     "text": [
      "[I 2023-08-07 02:07:25,083] Trial 37 finished with value: 0.4867746325728286 and parameters: {'N_ensemble_configurations': 80, 'feature_shift_decoder': False}. Best is trial 8 with value: 0.4670492255362312.\n"
     ]
    },
    {
     "name": "stdout",
     "output_type": "stream",
     "text": [
      "!! Warning: GPyTorch must be installed !!\n",
      "Using style prior: True\n",
      "Using cuda device\n",
      "Using a Transformer with 25.82 M parameters\n"
     ]
    },
    {
     "name": "stderr",
     "output_type": "stream",
     "text": [
      "[I 2023-08-07 02:07:27,146] Trial 38 finished with value: 0.47763272231139947 and parameters: {'N_ensemble_configurations': 12, 'feature_shift_decoder': True}. Best is trial 8 with value: 0.4670492255362312.\n"
     ]
    },
    {
     "name": "stdout",
     "output_type": "stream",
     "text": [
      "!! Warning: GPyTorch must be installed !!\n",
      "Using style prior: True\n",
      "Using cuda device\n",
      "Using a Transformer with 25.82 M parameters\n"
     ]
    },
    {
     "name": "stderr",
     "output_type": "stream",
     "text": [
      "[I 2023-08-07 02:07:28,906] Trial 39 finished with value: 0.47491450084087516 and parameters: {'N_ensemble_configurations': 124, 'feature_shift_decoder': False}. Best is trial 8 with value: 0.4670492255362312.\n"
     ]
    },
    {
     "name": "stdout",
     "output_type": "stream",
     "text": [
      "!! Warning: GPyTorch must be installed !!\n",
      "Using style prior: True\n",
      "Using cuda device\n",
      "Using a Transformer with 25.82 M parameters\n"
     ]
    },
    {
     "name": "stderr",
     "output_type": "stream",
     "text": [
      "[I 2023-08-07 02:07:30,711] Trial 40 finished with value: 0.4731245010165538 and parameters: {'N_ensemble_configurations': 56, 'feature_shift_decoder': False}. Best is trial 8 with value: 0.4670492255362312.\n"
     ]
    },
    {
     "name": "stdout",
     "output_type": "stream",
     "text": [
      "!! Warning: GPyTorch must be installed !!\n",
      "Using style prior: True\n",
      "Using cuda device\n",
      "Using a Transformer with 25.82 M parameters\n"
     ]
    },
    {
     "name": "stderr",
     "output_type": "stream",
     "text": [
      "[I 2023-08-07 02:07:32,305] Trial 41 finished with value: 0.4799580513244752 and parameters: {'N_ensemble_configurations': 60, 'feature_shift_decoder': False}. Best is trial 8 with value: 0.4670492255362312.\n"
     ]
    },
    {
     "name": "stdout",
     "output_type": "stream",
     "text": [
      "!! Warning: GPyTorch must be installed !!\n",
      "Using style prior: True\n",
      "Using cuda device\n",
      "Using a Transformer with 25.82 M parameters\n"
     ]
    },
    {
     "name": "stderr",
     "output_type": "stream",
     "text": [
      "[I 2023-08-07 02:07:33,826] Trial 42 finished with value: 0.48071559477345005 and parameters: {'N_ensemble_configurations': 60, 'feature_shift_decoder': False}. Best is trial 8 with value: 0.4670492255362312.\n"
     ]
    },
    {
     "name": "stdout",
     "output_type": "stream",
     "text": [
      "!! Warning: GPyTorch must be installed !!\n",
      "Using style prior: True\n",
      "Using cuda device\n",
      "Using a Transformer with 25.82 M parameters\n"
     ]
    },
    {
     "name": "stderr",
     "output_type": "stream",
     "text": [
      "[I 2023-08-07 02:07:35,233] Trial 43 finished with value: 0.47548098355556057 and parameters: {'N_ensemble_configurations': 72, 'feature_shift_decoder': False}. Best is trial 8 with value: 0.4670492255362312.\n"
     ]
    },
    {
     "name": "stdout",
     "output_type": "stream",
     "text": [
      "!! Warning: GPyTorch must be installed !!\n",
      "Using style prior: True\n",
      "Using cuda device\n",
      "Using a Transformer with 25.82 M parameters\n"
     ]
    },
    {
     "name": "stderr",
     "output_type": "stream",
     "text": [
      "[I 2023-08-07 02:07:36,971] Trial 44 finished with value: 0.49806640079930226 and parameters: {'N_ensemble_configurations': 36, 'feature_shift_decoder': False}. Best is trial 8 with value: 0.4670492255362312.\n"
     ]
    },
    {
     "name": "stdout",
     "output_type": "stream",
     "text": [
      "!! Warning: GPyTorch must be installed !!\n",
      "Using style prior: True\n",
      "Using cuda device\n",
      "Using a Transformer with 25.82 M parameters\n"
     ]
    },
    {
     "name": "stderr",
     "output_type": "stream",
     "text": [
      "[I 2023-08-07 02:07:38,892] Trial 45 finished with value: 0.47660468689621727 and parameters: {'N_ensemble_configurations': 56, 'feature_shift_decoder': False}. Best is trial 8 with value: 0.4670492255362312.\n"
     ]
    },
    {
     "name": "stdout",
     "output_type": "stream",
     "text": [
      "!! Warning: GPyTorch must be installed !!\n",
      "Using style prior: True\n",
      "Using cuda device\n",
      "Using a Transformer with 25.82 M parameters\n"
     ]
    },
    {
     "name": "stderr",
     "output_type": "stream",
     "text": [
      "[I 2023-08-07 02:07:42,601] Trial 46 finished with value: 0.477412429574992 and parameters: {'N_ensemble_configurations': 96, 'feature_shift_decoder': True}. Best is trial 8 with value: 0.4670492255362312.\n"
     ]
    },
    {
     "name": "stdout",
     "output_type": "stream",
     "text": [
      "!! Warning: GPyTorch must be installed !!\n",
      "Using style prior: True\n",
      "Using cuda device\n",
      "Using a Transformer with 25.82 M parameters\n"
     ]
    },
    {
     "name": "stderr",
     "output_type": "stream",
     "text": [
      "[I 2023-08-07 02:07:44,507] Trial 47 finished with value: 0.4633718028600655 and parameters: {'N_ensemble_configurations': 68, 'feature_shift_decoder': False}. Best is trial 47 with value: 0.4633718028600655.\n"
     ]
    },
    {
     "name": "stdout",
     "output_type": "stream",
     "text": [
      "!! Warning: GPyTorch must be installed !!\n",
      "Using style prior: True\n",
      "Using cuda device\n",
      "Using a Transformer with 25.82 M parameters\n"
     ]
    },
    {
     "name": "stderr",
     "output_type": "stream",
     "text": [
      "[I 2023-08-07 02:07:45,976] Trial 48 finished with value: 0.4752581756233327 and parameters: {'N_ensemble_configurations': 68, 'feature_shift_decoder': False}. Best is trial 47 with value: 0.4633718028600655.\n"
     ]
    },
    {
     "name": "stdout",
     "output_type": "stream",
     "text": [
      "!! Warning: GPyTorch must be installed !!\n",
      "Using style prior: True\n",
      "Using cuda device\n",
      "Using a Transformer with 25.82 M parameters\n"
     ]
    },
    {
     "name": "stderr",
     "output_type": "stream",
     "text": [
      "[I 2023-08-07 02:07:47,159] Trial 49 finished with value: 0.48259185868568083 and parameters: {'N_ensemble_configurations': 12, 'feature_shift_decoder': False}. Best is trial 47 with value: 0.4633718028600655.\n"
     ]
    },
    {
     "name": "stdout",
     "output_type": "stream",
     "text": [
      "!! Warning: GPyTorch must be installed !!\n",
      "Using style prior: True\n",
      "Using cuda device\n",
      "Using a Transformer with 25.82 M parameters\n"
     ]
    },
    {
     "name": "stderr",
     "output_type": "stream",
     "text": [
      "[I 2023-08-07 02:07:48,436] Trial 50 finished with value: 0.4811040426755342 and parameters: {'N_ensemble_configurations': 44, 'feature_shift_decoder': False}. Best is trial 47 with value: 0.4633718028600655.\n"
     ]
    },
    {
     "name": "stdout",
     "output_type": "stream",
     "text": [
      "!! Warning: GPyTorch must be installed !!\n",
      "Using style prior: True\n",
      "Using cuda device\n",
      "Using a Transformer with 25.82 M parameters\n"
     ]
    },
    {
     "name": "stderr",
     "output_type": "stream",
     "text": [
      "[I 2023-08-07 02:07:49,533] Trial 51 finished with value: 0.4647618606539753 and parameters: {'N_ensemble_configurations': 60, 'feature_shift_decoder': False}. Best is trial 47 with value: 0.4633718028600655.\n"
     ]
    },
    {
     "name": "stdout",
     "output_type": "stream",
     "text": [
      "!! Warning: GPyTorch must be installed !!\n",
      "Using style prior: True\n",
      "Using cuda device\n",
      "Using a Transformer with 25.82 M parameters\n"
     ]
    },
    {
     "name": "stderr",
     "output_type": "stream",
     "text": [
      "[I 2023-08-07 02:07:51,025] Trial 52 finished with value: 0.47078480209733664 and parameters: {'N_ensemble_configurations': 76, 'feature_shift_decoder': False}. Best is trial 47 with value: 0.4633718028600655.\n"
     ]
    },
    {
     "name": "stdout",
     "output_type": "stream",
     "text": [
      "!! Warning: GPyTorch must be installed !!\n",
      "Using style prior: True\n",
      "Using cuda device\n",
      "Using a Transformer with 25.82 M parameters\n"
     ]
    },
    {
     "name": "stderr",
     "output_type": "stream",
     "text": [
      "[I 2023-08-07 02:07:52,774] Trial 53 finished with value: 0.4741351258785205 and parameters: {'N_ensemble_configurations': 88, 'feature_shift_decoder': False}. Best is trial 47 with value: 0.4633718028600655.\n"
     ]
    },
    {
     "name": "stdout",
     "output_type": "stream",
     "text": [
      "!! Warning: GPyTorch must be installed !!\n",
      "Using style prior: True\n",
      "Using cuda device\n",
      "Using a Transformer with 25.82 M parameters\n"
     ]
    },
    {
     "name": "stderr",
     "output_type": "stream",
     "text": [
      "[I 2023-08-07 02:07:54,353] Trial 54 finished with value: 0.4744905762183803 and parameters: {'N_ensemble_configurations': 76, 'feature_shift_decoder': False}. Best is trial 47 with value: 0.4633718028600655.\n"
     ]
    },
    {
     "name": "stdout",
     "output_type": "stream",
     "text": [
      "!! Warning: GPyTorch must be installed !!\n",
      "Using style prior: True\n",
      "Using cuda device\n",
      "Using a Transformer with 25.82 M parameters\n"
     ]
    },
    {
     "name": "stderr",
     "output_type": "stream",
     "text": [
      "[I 2023-08-07 02:07:56,226] Trial 55 finished with value: 0.4810571440807491 and parameters: {'N_ensemble_configurations': 72, 'feature_shift_decoder': False}. Best is trial 47 with value: 0.4633718028600655.\n"
     ]
    },
    {
     "name": "stdout",
     "output_type": "stream",
     "text": [
      "!! Warning: GPyTorch must be installed !!\n",
      "Using style prior: True\n",
      "Using cuda device\n",
      "Using a Transformer with 25.82 M parameters\n"
     ]
    },
    {
     "name": "stderr",
     "output_type": "stream",
     "text": [
      "[I 2023-08-07 02:07:57,766] Trial 56 finished with value: 0.49543301965790804 and parameters: {'N_ensemble_configurations': 80, 'feature_shift_decoder': False}. Best is trial 47 with value: 0.4633718028600655.\n"
     ]
    },
    {
     "name": "stdout",
     "output_type": "stream",
     "text": [
      "!! Warning: GPyTorch must be installed !!\n",
      "Using style prior: True\n",
      "Using cuda device\n",
      "Using a Transformer with 25.82 M parameters\n"
     ]
    },
    {
     "name": "stderr",
     "output_type": "stream",
     "text": [
      "[I 2023-08-07 02:07:59,430] Trial 57 finished with value: 0.476728785894435 and parameters: {'N_ensemble_configurations': 96, 'feature_shift_decoder': False}. Best is trial 47 with value: 0.4633718028600655.\n"
     ]
    },
    {
     "name": "stdout",
     "output_type": "stream",
     "text": [
      "!! Warning: GPyTorch must be installed !!\n",
      "Using style prior: True\n",
      "Using cuda device\n",
      "Using a Transformer with 25.82 M parameters\n"
     ]
    },
    {
     "name": "stderr",
     "output_type": "stream",
     "text": [
      "[I 2023-08-07 02:08:01,174] Trial 58 finished with value: 0.4847698183385768 and parameters: {'N_ensemble_configurations': 64, 'feature_shift_decoder': False}. Best is trial 47 with value: 0.4633718028600655.\n"
     ]
    },
    {
     "name": "stdout",
     "output_type": "stream",
     "text": [
      "!! Warning: GPyTorch must be installed !!\n",
      "Using style prior: True\n",
      "Using cuda device\n",
      "Using a Transformer with 25.82 M parameters\n"
     ]
    },
    {
     "name": "stderr",
     "output_type": "stream",
     "text": [
      "[I 2023-08-07 02:08:03,152] Trial 59 finished with value: 0.4711104262376833 and parameters: {'N_ensemble_configurations': 52, 'feature_shift_decoder': False}. Best is trial 47 with value: 0.4633718028600655.\n"
     ]
    },
    {
     "name": "stdout",
     "output_type": "stream",
     "text": [
      "!! Warning: GPyTorch must be installed !!\n",
      "Using style prior: True\n",
      "Using cuda device\n",
      "Using a Transformer with 25.82 M parameters\n"
     ]
    },
    {
     "name": "stderr",
     "output_type": "stream",
     "text": [
      "[I 2023-08-07 02:08:04,806] Trial 60 finished with value: 0.48325590511345135 and parameters: {'N_ensemble_configurations': 68, 'feature_shift_decoder': False}. Best is trial 47 with value: 0.4633718028600655.\n"
     ]
    },
    {
     "name": "stdout",
     "output_type": "stream",
     "text": [
      "!! Warning: GPyTorch must be installed !!\n",
      "Using style prior: True\n",
      "Using cuda device\n",
      "Using a Transformer with 25.82 M parameters\n"
     ]
    },
    {
     "name": "stderr",
     "output_type": "stream",
     "text": [
      "[I 2023-08-07 02:08:06,720] Trial 61 finished with value: 0.4925165845836047 and parameters: {'N_ensemble_configurations': 52, 'feature_shift_decoder': False}. Best is trial 47 with value: 0.4633718028600655.\n"
     ]
    },
    {
     "name": "stdout",
     "output_type": "stream",
     "text": [
      "!! Warning: GPyTorch must be installed !!\n",
      "Using style prior: True\n",
      "Using cuda device\n",
      "Using a Transformer with 25.82 M parameters\n"
     ]
    },
    {
     "name": "stderr",
     "output_type": "stream",
     "text": [
      "[I 2023-08-07 02:08:08,400] Trial 62 finished with value: 0.4799059129483354 and parameters: {'N_ensemble_configurations': 60, 'feature_shift_decoder': False}. Best is trial 47 with value: 0.4633718028600655.\n"
     ]
    },
    {
     "name": "stdout",
     "output_type": "stream",
     "text": [
      "!! Warning: GPyTorch must be installed !!\n",
      "Using style prior: True\n",
      "Using cuda device\n",
      "Using a Transformer with 25.82 M parameters\n"
     ]
    },
    {
     "name": "stderr",
     "output_type": "stream",
     "text": [
      "[I 2023-08-07 02:08:09,984] Trial 63 finished with value: 0.48472740033044837 and parameters: {'N_ensemble_configurations': 44, 'feature_shift_decoder': False}. Best is trial 47 with value: 0.4633718028600655.\n"
     ]
    },
    {
     "name": "stdout",
     "output_type": "stream",
     "text": [
      "!! Warning: GPyTorch must be installed !!\n",
      "Using style prior: True\n",
      "Using cuda device\n",
      "Using a Transformer with 25.82 M parameters\n"
     ]
    },
    {
     "name": "stderr",
     "output_type": "stream",
     "text": [
      "[I 2023-08-07 02:08:11,638] Trial 64 finished with value: 0.4721194690032658 and parameters: {'N_ensemble_configurations': 32, 'feature_shift_decoder': False}. Best is trial 47 with value: 0.4633718028600655.\n"
     ]
    },
    {
     "name": "stdout",
     "output_type": "stream",
     "text": [
      "!! Warning: GPyTorch must be installed !!\n",
      "Using style prior: True\n",
      "Using cuda device\n",
      "Using a Transformer with 25.82 M parameters\n"
     ]
    },
    {
     "name": "stderr",
     "output_type": "stream",
     "text": [
      "[I 2023-08-07 02:08:13,203] Trial 65 finished with value: 0.46034804817416475 and parameters: {'N_ensemble_configurations': 48, 'feature_shift_decoder': False}. Best is trial 65 with value: 0.46034804817416475.\n"
     ]
    },
    {
     "name": "stdout",
     "output_type": "stream",
     "text": [
      "!! Warning: GPyTorch must be installed !!\n",
      "Using style prior: True\n",
      "Using cuda device\n",
      "Using a Transformer with 25.82 M parameters\n"
     ]
    },
    {
     "name": "stderr",
     "output_type": "stream",
     "text": [
      "[I 2023-08-07 02:08:14,838] Trial 66 finished with value: 0.46560504204694037 and parameters: {'N_ensemble_configurations': 56, 'feature_shift_decoder': False}. Best is trial 65 with value: 0.46034804817416475.\n"
     ]
    },
    {
     "name": "stdout",
     "output_type": "stream",
     "text": [
      "!! Warning: GPyTorch must be installed !!\n",
      "Using style prior: True\n",
      "Using cuda device\n",
      "Using a Transformer with 25.82 M parameters\n"
     ]
    },
    {
     "name": "stderr",
     "output_type": "stream",
     "text": [
      "[I 2023-08-07 02:08:16,320] Trial 67 finished with value: 0.49010862070285544 and parameters: {'N_ensemble_configurations': 48, 'feature_shift_decoder': False}. Best is trial 65 with value: 0.46034804817416475.\n"
     ]
    },
    {
     "name": "stdout",
     "output_type": "stream",
     "text": [
      "!! Warning: GPyTorch must be installed !!\n",
      "Using style prior: True\n",
      "Using cuda device\n",
      "Using a Transformer with 25.82 M parameters\n"
     ]
    },
    {
     "name": "stderr",
     "output_type": "stream",
     "text": [
      "[I 2023-08-07 02:08:19,283] Trial 68 finished with value: 0.493788247543233 and parameters: {'N_ensemble_configurations': 56, 'feature_shift_decoder': True}. Best is trial 65 with value: 0.46034804817416475.\n"
     ]
    },
    {
     "name": "stdout",
     "output_type": "stream",
     "text": [
      "!! Warning: GPyTorch must be installed !!\n",
      "Using style prior: True\n",
      "Using cuda device\n",
      "Using a Transformer with 25.82 M parameters\n"
     ]
    },
    {
     "name": "stderr",
     "output_type": "stream",
     "text": [
      "[I 2023-08-07 02:08:21,207] Trial 69 finished with value: 0.4791714230410591 and parameters: {'N_ensemble_configurations': 80, 'feature_shift_decoder': False}. Best is trial 65 with value: 0.46034804817416475.\n"
     ]
    },
    {
     "name": "stdout",
     "output_type": "stream",
     "text": [
      "!! Warning: GPyTorch must be installed !!\n",
      "Using style prior: True\n",
      "Using cuda device\n",
      "Using a Transformer with 25.82 M parameters\n"
     ]
    },
    {
     "name": "stderr",
     "output_type": "stream",
     "text": [
      "[I 2023-08-07 02:08:23,007] Trial 70 finished with value: 0.4739222001472956 and parameters: {'N_ensemble_configurations': 40, 'feature_shift_decoder': False}. Best is trial 65 with value: 0.46034804817416475.\n"
     ]
    },
    {
     "name": "stdout",
     "output_type": "stream",
     "text": [
      "!! Warning: GPyTorch must be installed !!\n",
      "Using style prior: True\n",
      "Using cuda device\n",
      "Using a Transformer with 25.82 M parameters\n"
     ]
    },
    {
     "name": "stderr",
     "output_type": "stream",
     "text": [
      "[I 2023-08-07 02:08:24,383] Trial 71 finished with value: 0.46905800434872325 and parameters: {'N_ensemble_configurations': 64, 'feature_shift_decoder': False}. Best is trial 65 with value: 0.46034804817416475.\n"
     ]
    },
    {
     "name": "stdout",
     "output_type": "stream",
     "text": [
      "!! Warning: GPyTorch must be installed !!\n",
      "Using style prior: True\n",
      "Using cuda device\n",
      "Using a Transformer with 25.82 M parameters\n"
     ]
    },
    {
     "name": "stderr",
     "output_type": "stream",
     "text": [
      "[I 2023-08-07 02:08:25,900] Trial 72 finished with value: 0.4865432560954893 and parameters: {'N_ensemble_configurations': 64, 'feature_shift_decoder': False}. Best is trial 65 with value: 0.46034804817416475.\n"
     ]
    },
    {
     "name": "stdout",
     "output_type": "stream",
     "text": [
      "!! Warning: GPyTorch must be installed !!\n",
      "Using style prior: True\n",
      "Using cuda device\n",
      "Using a Transformer with 25.82 M parameters\n"
     ]
    },
    {
     "name": "stderr",
     "output_type": "stream",
     "text": [
      "[I 2023-08-07 02:08:27,301] Trial 73 finished with value: 0.48031254055007533 and parameters: {'N_ensemble_configurations': 72, 'feature_shift_decoder': False}. Best is trial 65 with value: 0.46034804817416475.\n"
     ]
    },
    {
     "name": "stdout",
     "output_type": "stream",
     "text": [
      "!! Warning: GPyTorch must be installed !!\n",
      "Using style prior: True\n",
      "Using cuda device\n",
      "Using a Transformer with 25.82 M parameters\n"
     ]
    },
    {
     "name": "stderr",
     "output_type": "stream",
     "text": [
      "[I 2023-08-07 02:08:29,136] Trial 74 finished with value: 0.47836074694570946 and parameters: {'N_ensemble_configurations': 64, 'feature_shift_decoder': False}. Best is trial 65 with value: 0.46034804817416475.\n"
     ]
    },
    {
     "name": "stdout",
     "output_type": "stream",
     "text": [
      "!! Warning: GPyTorch must be installed !!\n",
      "Using style prior: True\n",
      "Using cuda device\n",
      "Using a Transformer with 25.82 M parameters\n"
     ]
    },
    {
     "name": "stderr",
     "output_type": "stream",
     "text": [
      "[I 2023-08-07 02:08:30,512] Trial 75 finished with value: 0.475564400603373 and parameters: {'N_ensemble_configurations': 48, 'feature_shift_decoder': False}. Best is trial 65 with value: 0.46034804817416475.\n"
     ]
    },
    {
     "name": "stdout",
     "output_type": "stream",
     "text": [
      "!! Warning: GPyTorch must be installed !!\n",
      "Using style prior: True\n",
      "Using cuda device\n",
      "Using a Transformer with 25.82 M parameters\n"
     ]
    },
    {
     "name": "stderr",
     "output_type": "stream",
     "text": [
      "[I 2023-08-07 02:08:31,600] Trial 76 finished with value: 0.4848331244353647 and parameters: {'N_ensemble_configurations': 56, 'feature_shift_decoder': False}. Best is trial 65 with value: 0.46034804817416475.\n"
     ]
    },
    {
     "name": "stdout",
     "output_type": "stream",
     "text": [
      "!! Warning: GPyTorch must be installed !!\n",
      "Using style prior: True\n",
      "Using cuda device\n",
      "Using a Transformer with 25.82 M parameters\n"
     ]
    },
    {
     "name": "stderr",
     "output_type": "stream",
     "text": [
      "[I 2023-08-07 02:08:32,682] Trial 77 finished with value: 0.48894279331825174 and parameters: {'N_ensemble_configurations': 28, 'feature_shift_decoder': False}. Best is trial 65 with value: 0.46034804817416475.\n"
     ]
    },
    {
     "name": "stdout",
     "output_type": "stream",
     "text": [
      "!! Warning: GPyTorch must be installed !!\n",
      "Using style prior: True\n",
      "Using cuda device\n",
      "Using a Transformer with 25.82 M parameters\n"
     ]
    },
    {
     "name": "stderr",
     "output_type": "stream",
     "text": [
      "[I 2023-08-07 02:08:33,694] Trial 78 finished with value: 0.4825052009896753 and parameters: {'N_ensemble_configurations': 68, 'feature_shift_decoder': False}. Best is trial 65 with value: 0.46034804817416475.\n"
     ]
    },
    {
     "name": "stdout",
     "output_type": "stream",
     "text": [
      "!! Warning: GPyTorch must be installed !!\n",
      "Using style prior: True\n",
      "Using cuda device\n",
      "Using a Transformer with 25.82 M parameters\n"
     ]
    },
    {
     "name": "stderr",
     "output_type": "stream",
     "text": [
      "[I 2023-08-07 02:08:35,386] Trial 79 finished with value: 0.5097607766312685 and parameters: {'N_ensemble_configurations': 36, 'feature_shift_decoder': True}. Best is trial 65 with value: 0.46034804817416475.\n"
     ]
    },
    {
     "name": "stdout",
     "output_type": "stream",
     "text": [
      "!! Warning: GPyTorch must be installed !!\n",
      "Using style prior: True\n",
      "Using cuda device\n",
      "Using a Transformer with 25.82 M parameters\n"
     ]
    },
    {
     "name": "stderr",
     "output_type": "stream",
     "text": [
      "[I 2023-08-07 02:08:37,103] Trial 80 finished with value: 0.4813683152400138 and parameters: {'N_ensemble_configurations': 56, 'feature_shift_decoder': False}. Best is trial 65 with value: 0.46034804817416475.\n"
     ]
    },
    {
     "name": "stdout",
     "output_type": "stream",
     "text": [
      "!! Warning: GPyTorch must be installed !!\n",
      "Using style prior: True\n",
      "Using cuda device\n",
      "Using a Transformer with 25.82 M parameters\n"
     ]
    },
    {
     "name": "stderr",
     "output_type": "stream",
     "text": [
      "[I 2023-08-07 02:08:38,738] Trial 81 finished with value: 0.4787107296377267 and parameters: {'N_ensemble_configurations': 76, 'feature_shift_decoder': False}. Best is trial 65 with value: 0.46034804817416475.\n"
     ]
    },
    {
     "name": "stdout",
     "output_type": "stream",
     "text": [
      "!! Warning: GPyTorch must be installed !!\n",
      "Using style prior: True\n",
      "Using cuda device\n",
      "Using a Transformer with 25.82 M parameters\n"
     ]
    },
    {
     "name": "stderr",
     "output_type": "stream",
     "text": [
      "[I 2023-08-07 02:08:40,226] Trial 82 finished with value: 0.48581487438250764 and parameters: {'N_ensemble_configurations': 60, 'feature_shift_decoder': False}. Best is trial 65 with value: 0.46034804817416475.\n"
     ]
    },
    {
     "name": "stdout",
     "output_type": "stream",
     "text": [
      "!! Warning: GPyTorch must be installed !!\n",
      "Using style prior: True\n",
      "Using cuda device\n",
      "Using a Transformer with 25.82 M parameters\n"
     ]
    },
    {
     "name": "stderr",
     "output_type": "stream",
     "text": [
      "[I 2023-08-07 02:08:42,262] Trial 83 finished with value: 0.48144322335445333 and parameters: {'N_ensemble_configurations': 60, 'feature_shift_decoder': False}. Best is trial 65 with value: 0.46034804817416475.\n"
     ]
    },
    {
     "name": "stdout",
     "output_type": "stream",
     "text": [
      "!! Warning: GPyTorch must be installed !!\n",
      "Using style prior: True\n",
      "Using cuda device\n",
      "Using a Transformer with 25.82 M parameters\n"
     ]
    },
    {
     "name": "stderr",
     "output_type": "stream",
     "text": [
      "[I 2023-08-07 02:08:44,133] Trial 84 finished with value: 0.49380630331865527 and parameters: {'N_ensemble_configurations': 84, 'feature_shift_decoder': False}. Best is trial 65 with value: 0.46034804817416475.\n"
     ]
    },
    {
     "name": "stdout",
     "output_type": "stream",
     "text": [
      "!! Warning: GPyTorch must be installed !!\n",
      "Using style prior: True\n",
      "Using cuda device\n",
      "Using a Transformer with 25.82 M parameters\n"
     ]
    },
    {
     "name": "stderr",
     "output_type": "stream",
     "text": [
      "[I 2023-08-07 02:08:45,850] Trial 85 finished with value: 0.4956357690558726 and parameters: {'N_ensemble_configurations': 72, 'feature_shift_decoder': False}. Best is trial 65 with value: 0.46034804817416475.\n"
     ]
    },
    {
     "name": "stdout",
     "output_type": "stream",
     "text": [
      "!! Warning: GPyTorch must be installed !!\n",
      "Using style prior: True\n",
      "Using cuda device\n",
      "Using a Transformer with 25.82 M parameters\n"
     ]
    },
    {
     "name": "stderr",
     "output_type": "stream",
     "text": [
      "[I 2023-08-07 02:08:47,136] Trial 86 finished with value: 0.4828301311397357 and parameters: {'N_ensemble_configurations': 44, 'feature_shift_decoder': False}. Best is trial 65 with value: 0.46034804817416475.\n"
     ]
    },
    {
     "name": "stdout",
     "output_type": "stream",
     "text": [
      "!! Warning: GPyTorch must be installed !!\n",
      "Using style prior: True\n",
      "Using cuda device\n",
      "Using a Transformer with 25.82 M parameters\n"
     ]
    },
    {
     "name": "stderr",
     "output_type": "stream",
     "text": [
      "[I 2023-08-07 02:08:48,551] Trial 87 finished with value: 0.47812628009188046 and parameters: {'N_ensemble_configurations': 64, 'feature_shift_decoder': False}. Best is trial 65 with value: 0.46034804817416475.\n"
     ]
    },
    {
     "name": "stdout",
     "output_type": "stream",
     "text": [
      "!! Warning: GPyTorch must be installed !!\n",
      "Using style prior: True\n",
      "Using cuda device\n",
      "Using a Transformer with 25.82 M parameters\n"
     ]
    },
    {
     "name": "stderr",
     "output_type": "stream",
     "text": [
      "[I 2023-08-07 02:08:49,691] Trial 88 finished with value: 0.4703102236748222 and parameters: {'N_ensemble_configurations': 52, 'feature_shift_decoder': False}. Best is trial 65 with value: 0.46034804817416475.\n"
     ]
    },
    {
     "name": "stdout",
     "output_type": "stream",
     "text": [
      "!! Warning: GPyTorch must be installed !!\n",
      "Using style prior: True\n",
      "Using cuda device\n",
      "Using a Transformer with 25.82 M parameters\n"
     ]
    },
    {
     "name": "stderr",
     "output_type": "stream",
     "text": [
      "[I 2023-08-07 02:08:50,856] Trial 89 finished with value: 0.48030177350557884 and parameters: {'N_ensemble_configurations': 52, 'feature_shift_decoder': False}. Best is trial 65 with value: 0.46034804817416475.\n"
     ]
    },
    {
     "name": "stdout",
     "output_type": "stream",
     "text": [
      "!! Warning: GPyTorch must be installed !!\n",
      "Using style prior: True\n",
      "Using cuda device\n",
      "Using a Transformer with 25.82 M parameters\n"
     ]
    },
    {
     "name": "stderr",
     "output_type": "stream",
     "text": [
      "[I 2023-08-07 02:08:53,053] Trial 90 finished with value: 0.4906996170261589 and parameters: {'N_ensemble_configurations': 68, 'feature_shift_decoder': True}. Best is trial 65 with value: 0.46034804817416475.\n"
     ]
    },
    {
     "name": "stdout",
     "output_type": "stream",
     "text": [
      "!! Warning: GPyTorch must be installed !!\n",
      "Using style prior: True\n",
      "Using cuda device\n",
      "Using a Transformer with 25.82 M parameters\n"
     ]
    },
    {
     "name": "stderr",
     "output_type": "stream",
     "text": [
      "[I 2023-08-07 02:08:54,256] Trial 91 finished with value: 0.48218583269637694 and parameters: {'N_ensemble_configurations': 48, 'feature_shift_decoder': False}. Best is trial 65 with value: 0.46034804817416475.\n"
     ]
    },
    {
     "name": "stdout",
     "output_type": "stream",
     "text": [
      "!! Warning: GPyTorch must be installed !!\n",
      "Using style prior: True\n",
      "Using cuda device\n",
      "Using a Transformer with 25.82 M parameters\n"
     ]
    },
    {
     "name": "stderr",
     "output_type": "stream",
     "text": [
      "[I 2023-08-07 02:08:55,692] Trial 92 finished with value: 0.48511253374649166 and parameters: {'N_ensemble_configurations': 60, 'feature_shift_decoder': False}. Best is trial 65 with value: 0.46034804817416475.\n"
     ]
    },
    {
     "name": "stdout",
     "output_type": "stream",
     "text": [
      "!! Warning: GPyTorch must be installed !!\n",
      "Using style prior: True\n",
      "Using cuda device\n",
      "Using a Transformer with 25.82 M parameters\n"
     ]
    },
    {
     "name": "stderr",
     "output_type": "stream",
     "text": [
      "[I 2023-08-07 02:08:58,136] Trial 93 finished with value: 0.4731312686909117 and parameters: {'N_ensemble_configurations': 52, 'feature_shift_decoder': False}. Best is trial 65 with value: 0.46034804817416475.\n"
     ]
    },
    {
     "name": "stdout",
     "output_type": "stream",
     "text": [
      "!! Warning: GPyTorch must be installed !!\n",
      "Using style prior: True\n",
      "Using cuda device\n",
      "Using a Transformer with 25.82 M parameters\n"
     ]
    },
    {
     "name": "stderr",
     "output_type": "stream",
     "text": [
      "[I 2023-08-07 02:08:59,710] Trial 94 finished with value: 0.48915308301284033 and parameters: {'N_ensemble_configurations': 56, 'feature_shift_decoder': False}. Best is trial 65 with value: 0.46034804817416475.\n"
     ]
    },
    {
     "name": "stdout",
     "output_type": "stream",
     "text": [
      "!! Warning: GPyTorch must be installed !!\n",
      "Using style prior: True\n",
      "Using cuda device\n",
      "Using a Transformer with 25.82 M parameters\n"
     ]
    },
    {
     "name": "stderr",
     "output_type": "stream",
     "text": [
      "[I 2023-08-07 02:09:00,859] Trial 95 finished with value: 0.4750347582834622 and parameters: {'N_ensemble_configurations': 64, 'feature_shift_decoder': False}. Best is trial 65 with value: 0.46034804817416475.\n"
     ]
    },
    {
     "name": "stdout",
     "output_type": "stream",
     "text": [
      "!! Warning: GPyTorch must be installed !!\n",
      "Using style prior: True\n",
      "Using cuda device\n",
      "Using a Transformer with 25.82 M parameters\n"
     ]
    },
    {
     "name": "stderr",
     "output_type": "stream",
     "text": [
      "[I 2023-08-07 02:09:01,912] Trial 96 finished with value: 0.48384160950191124 and parameters: {'N_ensemble_configurations': 20, 'feature_shift_decoder': False}. Best is trial 65 with value: 0.46034804817416475.\n"
     ]
    },
    {
     "name": "stdout",
     "output_type": "stream",
     "text": [
      "!! Warning: GPyTorch must be installed !!\n",
      "Using style prior: True\n",
      "Using cuda device\n",
      "Using a Transformer with 25.82 M parameters\n"
     ]
    },
    {
     "name": "stderr",
     "output_type": "stream",
     "text": [
      "[I 2023-08-07 02:09:03,398] Trial 97 finished with value: 0.48382330590500866 and parameters: {'N_ensemble_configurations': 8, 'feature_shift_decoder': False}. Best is trial 65 with value: 0.46034804817416475.\n"
     ]
    },
    {
     "name": "stdout",
     "output_type": "stream",
     "text": [
      "!! Warning: GPyTorch must be installed !!\n",
      "Using style prior: True\n",
      "Using cuda device\n",
      "Using a Transformer with 25.82 M parameters\n"
     ]
    },
    {
     "name": "stderr",
     "output_type": "stream",
     "text": [
      "[I 2023-08-07 02:09:05,034] Trial 98 finished with value: 0.4970703963956653 and parameters: {'N_ensemble_configurations': 40, 'feature_shift_decoder': False}. Best is trial 65 with value: 0.46034804817416475.\n"
     ]
    },
    {
     "name": "stdout",
     "output_type": "stream",
     "text": [
      "!! Warning: GPyTorch must be installed !!\n",
      "Using style prior: True\n",
      "Using cuda device\n",
      "Using a Transformer with 25.82 M parameters\n"
     ]
    },
    {
     "name": "stderr",
     "output_type": "stream",
     "text": [
      "[I 2023-08-07 02:09:06,657] Trial 99 finished with value: 0.4816862983694338 and parameters: {'N_ensemble_configurations': 76, 'feature_shift_decoder': False}. Best is trial 65 with value: 0.46034804817416475.\n"
     ]
    },
    {
     "name": "stdout",
     "output_type": "stream",
     "text": [
      "!! Warning: GPyTorch must be installed !!\n",
      "Using style prior: True\n",
      "Using cuda device\n",
      "Using a Transformer with 25.82 M parameters\n"
     ]
    },
    {
     "name": "stderr",
     "output_type": "stream",
     "text": [
      "[I 2023-08-07 02:09:08,568] Trial 100 finished with value: 0.4815565278433951 and parameters: {'N_ensemble_configurations': 44, 'feature_shift_decoder': False}. Best is trial 65 with value: 0.46034804817416475.\n"
     ]
    },
    {
     "name": "stdout",
     "output_type": "stream",
     "text": [
      "!! Warning: GPyTorch must be installed !!\n",
      "Using style prior: True\n",
      "Using cuda device\n",
      "Using a Transformer with 25.82 M parameters\n"
     ]
    },
    {
     "name": "stderr",
     "output_type": "stream",
     "text": [
      "[I 2023-08-07 02:09:10,119] Trial 101 finished with value: 0.48149404510649607 and parameters: {'N_ensemble_configurations': 52, 'feature_shift_decoder': False}. Best is trial 65 with value: 0.46034804817416475.\n"
     ]
    },
    {
     "name": "stdout",
     "output_type": "stream",
     "text": [
      "!! Warning: GPyTorch must be installed !!\n",
      "Using style prior: True\n",
      "Using cuda device\n",
      "Using a Transformer with 25.82 M parameters\n"
     ]
    },
    {
     "name": "stderr",
     "output_type": "stream",
     "text": [
      "[I 2023-08-07 02:09:11,715] Trial 102 finished with value: 0.47716487328130386 and parameters: {'N_ensemble_configurations': 56, 'feature_shift_decoder': False}. Best is trial 65 with value: 0.46034804817416475.\n"
     ]
    },
    {
     "name": "stdout",
     "output_type": "stream",
     "text": [
      "!! Warning: GPyTorch must be installed !!\n",
      "Using style prior: True\n",
      "Using cuda device\n",
      "Using a Transformer with 25.82 M parameters\n"
     ]
    },
    {
     "name": "stderr",
     "output_type": "stream",
     "text": [
      "[I 2023-08-07 02:09:13,228] Trial 103 finished with value: 0.483838335735045 and parameters: {'N_ensemble_configurations': 52, 'feature_shift_decoder': False}. Best is trial 65 with value: 0.46034804817416475.\n"
     ]
    },
    {
     "name": "stdout",
     "output_type": "stream",
     "text": [
      "!! Warning: GPyTorch must be installed !!\n",
      "Using style prior: True\n",
      "Using cuda device\n",
      "Using a Transformer with 25.82 M parameters\n"
     ]
    },
    {
     "name": "stderr",
     "output_type": "stream",
     "text": [
      "[I 2023-08-07 02:09:14,628] Trial 104 finished with value: 0.48647935437496204 and parameters: {'N_ensemble_configurations': 60, 'feature_shift_decoder': False}. Best is trial 65 with value: 0.46034804817416475.\n"
     ]
    },
    {
     "name": "stdout",
     "output_type": "stream",
     "text": [
      "!! Warning: GPyTorch must be installed !!\n",
      "Using style prior: True\n",
      "Using cuda device\n",
      "Using a Transformer with 25.82 M parameters\n"
     ]
    },
    {
     "name": "stderr",
     "output_type": "stream",
     "text": [
      "[I 2023-08-07 02:09:16,177] Trial 105 finished with value: 0.47293793321964495 and parameters: {'N_ensemble_configurations': 48, 'feature_shift_decoder': False}. Best is trial 65 with value: 0.46034804817416475.\n"
     ]
    },
    {
     "name": "stdout",
     "output_type": "stream",
     "text": [
      "!! Warning: GPyTorch must be installed !!\n",
      "Using style prior: True\n",
      "Using cuda device\n",
      "Using a Transformer with 25.82 M parameters\n"
     ]
    },
    {
     "name": "stderr",
     "output_type": "stream",
     "text": [
      "[I 2023-08-07 02:09:17,893] Trial 106 finished with value: 0.4912365935360125 and parameters: {'N_ensemble_configurations': 68, 'feature_shift_decoder': False}. Best is trial 65 with value: 0.46034804817416475.\n"
     ]
    },
    {
     "name": "stdout",
     "output_type": "stream",
     "text": [
      "!! Warning: GPyTorch must be installed !!\n",
      "Using style prior: True\n",
      "Using cuda device\n",
      "Using a Transformer with 25.82 M parameters\n"
     ]
    },
    {
     "name": "stderr",
     "output_type": "stream",
     "text": [
      "[I 2023-08-07 02:09:19,266] Trial 107 finished with value: 0.4803787097730872 and parameters: {'N_ensemble_configurations': 64, 'feature_shift_decoder': False}. Best is trial 65 with value: 0.46034804817416475.\n"
     ]
    },
    {
     "name": "stdout",
     "output_type": "stream",
     "text": [
      "!! Warning: GPyTorch must be installed !!\n",
      "Using style prior: True\n",
      "Using cuda device\n",
      "Using a Transformer with 25.82 M parameters\n"
     ]
    },
    {
     "name": "stderr",
     "output_type": "stream",
     "text": [
      "[I 2023-08-07 02:09:21,468] Trial 108 finished with value: 0.4869533541868971 and parameters: {'N_ensemble_configurations': 72, 'feature_shift_decoder': True}. Best is trial 65 with value: 0.46034804817416475.\n"
     ]
    },
    {
     "name": "stdout",
     "output_type": "stream",
     "text": [
      "!! Warning: GPyTorch must be installed !!\n",
      "Using style prior: True\n",
      "Using cuda device\n",
      "Using a Transformer with 25.82 M parameters\n"
     ]
    },
    {
     "name": "stderr",
     "output_type": "stream",
     "text": [
      "[I 2023-08-07 02:09:22,461] Trial 109 finished with value: 0.4828868437919796 and parameters: {'N_ensemble_configurations': 52, 'feature_shift_decoder': False}. Best is trial 65 with value: 0.46034804817416475.\n"
     ]
    },
    {
     "name": "stdout",
     "output_type": "stream",
     "text": [
      "!! Warning: GPyTorch must be installed !!\n",
      "Using style prior: True\n",
      "Using cuda device\n",
      "Using a Transformer with 25.82 M parameters\n"
     ]
    },
    {
     "name": "stderr",
     "output_type": "stream",
     "text": [
      "[I 2023-08-07 02:09:23,499] Trial 110 finished with value: 0.480215682181668 and parameters: {'N_ensemble_configurations': 48, 'feature_shift_decoder': False}. Best is trial 65 with value: 0.46034804817416475.\n"
     ]
    },
    {
     "name": "stdout",
     "output_type": "stream",
     "text": [
      "!! Warning: GPyTorch must be installed !!\n",
      "Using style prior: True\n",
      "Using cuda device\n",
      "Using a Transformer with 25.82 M parameters\n"
     ]
    },
    {
     "name": "stderr",
     "output_type": "stream",
     "text": [
      "[I 2023-08-07 02:09:24,563] Trial 111 finished with value: 0.48706502118146605 and parameters: {'N_ensemble_configurations': 56, 'feature_shift_decoder': False}. Best is trial 65 with value: 0.46034804817416475.\n"
     ]
    },
    {
     "name": "stdout",
     "output_type": "stream",
     "text": [
      "!! Warning: GPyTorch must be installed !!\n",
      "Using style prior: True\n",
      "Using cuda device\n",
      "Using a Transformer with 25.82 M parameters\n"
     ]
    },
    {
     "name": "stderr",
     "output_type": "stream",
     "text": [
      "[I 2023-08-07 02:09:25,686] Trial 112 finished with value: 0.478663311427737 and parameters: {'N_ensemble_configurations': 44, 'feature_shift_decoder': False}. Best is trial 65 with value: 0.46034804817416475.\n"
     ]
    },
    {
     "name": "stdout",
     "output_type": "stream",
     "text": [
      "!! Warning: GPyTorch must be installed !!\n",
      "Using style prior: True\n",
      "Using cuda device\n",
      "Using a Transformer with 25.82 M parameters\n"
     ]
    },
    {
     "name": "stderr",
     "output_type": "stream",
     "text": [
      "[I 2023-08-07 02:09:26,744] Trial 113 finished with value: 0.4761891095245278 and parameters: {'N_ensemble_configurations': 60, 'feature_shift_decoder': False}. Best is trial 65 with value: 0.46034804817416475.\n"
     ]
    },
    {
     "name": "stdout",
     "output_type": "stream",
     "text": [
      "!! Warning: GPyTorch must be installed !!\n",
      "Using style prior: True\n",
      "Using cuda device\n",
      "Using a Transformer with 25.82 M parameters\n"
     ]
    },
    {
     "name": "stderr",
     "output_type": "stream",
     "text": [
      "[I 2023-08-07 02:09:27,857] Trial 114 finished with value: 0.47959790415533626 and parameters: {'N_ensemble_configurations': 56, 'feature_shift_decoder': False}. Best is trial 65 with value: 0.46034804817416475.\n"
     ]
    },
    {
     "name": "stdout",
     "output_type": "stream",
     "text": [
      "!! Warning: GPyTorch must be installed !!\n",
      "Using style prior: True\n",
      "Using cuda device\n",
      "Using a Transformer with 25.82 M parameters\n"
     ]
    },
    {
     "name": "stderr",
     "output_type": "stream",
     "text": [
      "[I 2023-08-07 02:09:28,918] Trial 115 finished with value: 0.48320266447018856 and parameters: {'N_ensemble_configurations': 64, 'feature_shift_decoder': False}. Best is trial 65 with value: 0.46034804817416475.\n"
     ]
    },
    {
     "name": "stdout",
     "output_type": "stream",
     "text": [
      "!! Warning: GPyTorch must be installed !!\n",
      "Using style prior: True\n",
      "Using cuda device\n",
      "Using a Transformer with 25.82 M parameters\n"
     ]
    },
    {
     "name": "stderr",
     "output_type": "stream",
     "text": [
      "[I 2023-08-07 02:09:30,304] Trial 116 finished with value: 0.48391985790504544 and parameters: {'N_ensemble_configurations': 60, 'feature_shift_decoder': False}. Best is trial 65 with value: 0.46034804817416475.\n"
     ]
    },
    {
     "name": "stdout",
     "output_type": "stream",
     "text": [
      "!! Warning: GPyTorch must be installed !!\n",
      "Using style prior: True\n",
      "Using cuda device\n",
      "Using a Transformer with 25.82 M parameters\n"
     ]
    },
    {
     "name": "stderr",
     "output_type": "stream",
     "text": [
      "[I 2023-08-07 02:09:31,727] Trial 117 finished with value: 0.4812431728590554 and parameters: {'N_ensemble_configurations': 36, 'feature_shift_decoder': False}. Best is trial 65 with value: 0.46034804817416475.\n"
     ]
    },
    {
     "name": "stdout",
     "output_type": "stream",
     "text": [
      "!! Warning: GPyTorch must be installed !!\n",
      "Using style prior: True\n",
      "Using cuda device\n",
      "Using a Transformer with 25.82 M parameters\n"
     ]
    },
    {
     "name": "stderr",
     "output_type": "stream",
     "text": [
      "[I 2023-08-07 02:09:33,293] Trial 118 finished with value: 0.473386019228767 and parameters: {'N_ensemble_configurations': 16, 'feature_shift_decoder': False}. Best is trial 65 with value: 0.46034804817416475.\n"
     ]
    },
    {
     "name": "stdout",
     "output_type": "stream",
     "text": [
      "!! Warning: GPyTorch must be installed !!\n",
      "Using style prior: True\n",
      "Using cuda device\n",
      "Using a Transformer with 25.82 M parameters\n"
     ]
    },
    {
     "name": "stderr",
     "output_type": "stream",
     "text": [
      "[I 2023-08-07 02:09:34,922] Trial 119 finished with value: 0.4843726675317095 and parameters: {'N_ensemble_configurations': 24, 'feature_shift_decoder': False}. Best is trial 65 with value: 0.46034804817416475.\n"
     ]
    },
    {
     "name": "stdout",
     "output_type": "stream",
     "text": [
      "!! Warning: GPyTorch must be installed !!\n",
      "Using style prior: True\n",
      "Using cuda device\n",
      "Using a Transformer with 25.82 M parameters\n"
     ]
    },
    {
     "name": "stderr",
     "output_type": "stream",
     "text": [
      "[I 2023-08-07 02:09:36,564] Trial 120 finished with value: 0.4884445588928024 and parameters: {'N_ensemble_configurations': 52, 'feature_shift_decoder': False}. Best is trial 65 with value: 0.46034804817416475.\n"
     ]
    },
    {
     "name": "stdout",
     "output_type": "stream",
     "text": [
      "!! Warning: GPyTorch must be installed !!\n",
      "Using style prior: True\n",
      "Using cuda device\n",
      "Using a Transformer with 25.82 M parameters\n"
     ]
    },
    {
     "name": "stderr",
     "output_type": "stream",
     "text": [
      "[I 2023-08-07 02:09:38,185] Trial 121 finished with value: 0.4845736710191145 and parameters: {'N_ensemble_configurations': 68, 'feature_shift_decoder': False}. Best is trial 65 with value: 0.46034804817416475.\n"
     ]
    },
    {
     "name": "stdout",
     "output_type": "stream",
     "text": [
      "!! Warning: GPyTorch must be installed !!\n",
      "Using style prior: True\n",
      "Using cuda device\n",
      "Using a Transformer with 25.82 M parameters\n"
     ]
    },
    {
     "name": "stderr",
     "output_type": "stream",
     "text": [
      "[I 2023-08-07 02:09:39,981] Trial 122 finished with value: 0.4845952692116232 and parameters: {'N_ensemble_configurations': 116, 'feature_shift_decoder': False}. Best is trial 65 with value: 0.46034804817416475.\n"
     ]
    },
    {
     "name": "stdout",
     "output_type": "stream",
     "text": [
      "!! Warning: GPyTorch must be installed !!\n",
      "Using style prior: True\n",
      "Using cuda device\n",
      "Using a Transformer with 25.82 M parameters\n"
     ]
    },
    {
     "name": "stderr",
     "output_type": "stream",
     "text": [
      "[I 2023-08-07 02:09:41,127] Trial 123 finished with value: 0.4700310936215275 and parameters: {'N_ensemble_configurations': 60, 'feature_shift_decoder': False}. Best is trial 65 with value: 0.46034804817416475.\n"
     ]
    },
    {
     "name": "stdout",
     "output_type": "stream",
     "text": [
      "!! Warning: GPyTorch must be installed !!\n",
      "Using style prior: True\n",
      "Using cuda device\n",
      "Using a Transformer with 25.82 M parameters\n"
     ]
    },
    {
     "name": "stderr",
     "output_type": "stream",
     "text": [
      "[I 2023-08-07 02:09:42,357] Trial 124 finished with value: 0.4888857094219282 and parameters: {'N_ensemble_configurations': 72, 'feature_shift_decoder': False}. Best is trial 65 with value: 0.46034804817416475.\n"
     ]
    },
    {
     "name": "stdout",
     "output_type": "stream",
     "text": [
      "!! Warning: GPyTorch must be installed !!\n",
      "Using style prior: True\n",
      "Using cuda device\n",
      "Using a Transformer with 25.82 M parameters\n"
     ]
    },
    {
     "name": "stderr",
     "output_type": "stream",
     "text": [
      "[I 2023-08-07 02:09:43,371] Trial 125 finished with value: 0.4766067440925351 and parameters: {'N_ensemble_configurations': 56, 'feature_shift_decoder': False}. Best is trial 65 with value: 0.46034804817416475.\n"
     ]
    },
    {
     "name": "stdout",
     "output_type": "stream",
     "text": [
      "!! Warning: GPyTorch must be installed !!\n",
      "Using style prior: True\n",
      "Using cuda device\n",
      "Using a Transformer with 25.82 M parameters\n"
     ]
    },
    {
     "name": "stderr",
     "output_type": "stream",
     "text": [
      "[I 2023-08-07 02:09:45,511] Trial 126 finished with value: 0.4928692237547172 and parameters: {'N_ensemble_configurations': 60, 'feature_shift_decoder': True}. Best is trial 65 with value: 0.46034804817416475.\n"
     ]
    },
    {
     "name": "stdout",
     "output_type": "stream",
     "text": [
      "!! Warning: GPyTorch must be installed !!\n",
      "Using style prior: True\n",
      "Using cuda device\n",
      "Using a Transformer with 25.82 M parameters\n"
     ]
    },
    {
     "name": "stderr",
     "output_type": "stream",
     "text": [
      "[I 2023-08-07 02:09:46,825] Trial 127 finished with value: 0.5138121673023127 and parameters: {'N_ensemble_configurations': 80, 'feature_shift_decoder': False}. Best is trial 65 with value: 0.46034804817416475.\n"
     ]
    },
    {
     "name": "stdout",
     "output_type": "stream",
     "text": [
      "!! Warning: GPyTorch must be installed !!\n",
      "Using style prior: True\n",
      "Using cuda device\n",
      "Using a Transformer with 25.82 M parameters\n"
     ]
    },
    {
     "name": "stderr",
     "output_type": "stream",
     "text": [
      "[I 2023-08-07 02:09:48,101] Trial 128 finished with value: 0.510228817645363 and parameters: {'N_ensemble_configurations': 76, 'feature_shift_decoder': False}. Best is trial 65 with value: 0.46034804817416475.\n"
     ]
    },
    {
     "name": "stdout",
     "output_type": "stream",
     "text": [
      "!! Warning: GPyTorch must be installed !!\n",
      "Using style prior: True\n",
      "Using cuda device\n",
      "Using a Transformer with 25.82 M parameters\n"
     ]
    },
    {
     "name": "stderr",
     "output_type": "stream",
     "text": [
      "[I 2023-08-07 02:09:49,397] Trial 129 finished with value: 0.4747580132130327 and parameters: {'N_ensemble_configurations': 52, 'feature_shift_decoder': False}. Best is trial 65 with value: 0.46034804817416475.\n"
     ]
    },
    {
     "name": "stdout",
     "output_type": "stream",
     "text": [
      "!! Warning: GPyTorch must be installed !!\n",
      "Using style prior: True\n",
      "Using cuda device\n",
      "Using a Transformer with 25.82 M parameters\n"
     ]
    },
    {
     "name": "stderr",
     "output_type": "stream",
     "text": [
      "[I 2023-08-07 02:09:51,175] Trial 130 finished with value: 0.4860489190230288 and parameters: {'N_ensemble_configurations': 48, 'feature_shift_decoder': False}. Best is trial 65 with value: 0.46034804817416475.\n"
     ]
    },
    {
     "name": "stdout",
     "output_type": "stream",
     "text": [
      "!! Warning: GPyTorch must be installed !!\n",
      "Using style prior: True\n",
      "Using cuda device\n",
      "Using a Transformer with 25.82 M parameters\n"
     ]
    },
    {
     "name": "stderr",
     "output_type": "stream",
     "text": [
      "[I 2023-08-07 02:09:52,747] Trial 131 finished with value: 0.46636266607371785 and parameters: {'N_ensemble_configurations': 64, 'feature_shift_decoder': False}. Best is trial 65 with value: 0.46034804817416475.\n"
     ]
    },
    {
     "name": "stdout",
     "output_type": "stream",
     "text": [
      "!! Warning: GPyTorch must be installed !!\n",
      "Using style prior: True\n",
      "Using cuda device\n",
      "Using a Transformer with 25.82 M parameters\n"
     ]
    },
    {
     "name": "stderr",
     "output_type": "stream",
     "text": [
      "[I 2023-08-07 02:09:54,399] Trial 132 finished with value: 0.47439645939902964 and parameters: {'N_ensemble_configurations': 68, 'feature_shift_decoder': False}. Best is trial 65 with value: 0.46034804817416475.\n"
     ]
    },
    {
     "name": "stdout",
     "output_type": "stream",
     "text": [
      "!! Warning: GPyTorch must be installed !!\n",
      "Using style prior: True\n",
      "Using cuda device\n",
      "Using a Transformer with 25.82 M parameters\n"
     ]
    },
    {
     "name": "stderr",
     "output_type": "stream",
     "text": [
      "[I 2023-08-07 02:09:55,732] Trial 133 finished with value: 0.4785486769381958 and parameters: {'N_ensemble_configurations': 64, 'feature_shift_decoder': False}. Best is trial 65 with value: 0.46034804817416475.\n"
     ]
    },
    {
     "name": "stdout",
     "output_type": "stream",
     "text": [
      "!! Warning: GPyTorch must be installed !!\n",
      "Using style prior: True\n",
      "Using cuda device\n",
      "Using a Transformer with 25.82 M parameters\n"
     ]
    },
    {
     "name": "stderr",
     "output_type": "stream",
     "text": [
      "[I 2023-08-07 02:09:57,018] Trial 134 finished with value: 0.47975770567412274 and parameters: {'N_ensemble_configurations': 60, 'feature_shift_decoder': False}. Best is trial 65 with value: 0.46034804817416475.\n"
     ]
    },
    {
     "name": "stdout",
     "output_type": "stream",
     "text": [
      "!! Warning: GPyTorch must be installed !!\n",
      "Using style prior: True\n",
      "Using cuda device\n",
      "Using a Transformer with 25.82 M parameters\n"
     ]
    },
    {
     "name": "stderr",
     "output_type": "stream",
     "text": [
      "[I 2023-08-07 02:09:58,354] Trial 135 finished with value: 0.48427608889276175 and parameters: {'N_ensemble_configurations': 64, 'feature_shift_decoder': False}. Best is trial 65 with value: 0.46034804817416475.\n"
     ]
    },
    {
     "name": "stdout",
     "output_type": "stream",
     "text": [
      "!! Warning: GPyTorch must be installed !!\n",
      "Using style prior: True\n",
      "Using cuda device\n",
      "Using a Transformer with 25.82 M parameters\n"
     ]
    },
    {
     "name": "stderr",
     "output_type": "stream",
     "text": [
      "[I 2023-08-07 02:09:59,442] Trial 136 finished with value: 0.4683243140586406 and parameters: {'N_ensemble_configurations': 56, 'feature_shift_decoder': False}. Best is trial 65 with value: 0.46034804817416475.\n"
     ]
    },
    {
     "name": "stdout",
     "output_type": "stream",
     "text": [
      "!! Warning: GPyTorch must be installed !!\n",
      "Using style prior: True\n",
      "Using cuda device\n",
      "Using a Transformer with 25.82 M parameters\n"
     ]
    },
    {
     "name": "stderr",
     "output_type": "stream",
     "text": [
      "[I 2023-08-07 02:10:00,573] Trial 137 finished with value: 0.4741448447946992 and parameters: {'N_ensemble_configurations': 56, 'feature_shift_decoder': False}. Best is trial 65 with value: 0.46034804817416475.\n"
     ]
    },
    {
     "name": "stdout",
     "output_type": "stream",
     "text": [
      "!! Warning: GPyTorch must be installed !!\n",
      "Using style prior: True\n",
      "Using cuda device\n",
      "Using a Transformer with 25.82 M parameters\n"
     ]
    },
    {
     "name": "stderr",
     "output_type": "stream",
     "text": [
      "[I 2023-08-07 02:10:01,923] Trial 138 finished with value: 0.4789129775527001 and parameters: {'N_ensemble_configurations': 68, 'feature_shift_decoder': False}. Best is trial 65 with value: 0.46034804817416475.\n"
     ]
    },
    {
     "name": "stdout",
     "output_type": "stream",
     "text": [
      "!! Warning: GPyTorch must be installed !!\n",
      "Using style prior: True\n",
      "Using cuda device\n",
      "Using a Transformer with 25.82 M parameters\n"
     ]
    },
    {
     "name": "stderr",
     "output_type": "stream",
     "text": [
      "[I 2023-08-07 02:10:03,208] Trial 139 finished with value: 0.48065230976693446 and parameters: {'N_ensemble_configurations': 92, 'feature_shift_decoder': False}. Best is trial 65 with value: 0.46034804817416475.\n"
     ]
    },
    {
     "name": "stdout",
     "output_type": "stream",
     "text": [
      "!! Warning: GPyTorch must be installed !!\n",
      "Using style prior: True\n",
      "Using cuda device\n",
      "Using a Transformer with 25.82 M parameters\n"
     ]
    },
    {
     "name": "stderr",
     "output_type": "stream",
     "text": [
      "[I 2023-08-07 02:10:04,414] Trial 140 finished with value: 0.47652964742920256 and parameters: {'N_ensemble_configurations': 56, 'feature_shift_decoder': False}. Best is trial 65 with value: 0.46034804817416475.\n"
     ]
    },
    {
     "name": "stdout",
     "output_type": "stream",
     "text": [
      "!! Warning: GPyTorch must be installed !!\n",
      "Using style prior: True\n",
      "Using cuda device\n",
      "Using a Transformer with 25.82 M parameters\n"
     ]
    },
    {
     "name": "stderr",
     "output_type": "stream",
     "text": [
      "[I 2023-08-07 02:10:05,807] Trial 141 finished with value: 0.4715317081055266 and parameters: {'N_ensemble_configurations': 60, 'feature_shift_decoder': False}. Best is trial 65 with value: 0.46034804817416475.\n"
     ]
    },
    {
     "name": "stdout",
     "output_type": "stream",
     "text": [
      "!! Warning: GPyTorch must be installed !!\n",
      "Using style prior: True\n",
      "Using cuda device\n",
      "Using a Transformer with 25.82 M parameters\n"
     ]
    },
    {
     "name": "stderr",
     "output_type": "stream",
     "text": [
      "[I 2023-08-07 02:10:06,829] Trial 142 finished with value: 0.47793285255989326 and parameters: {'N_ensemble_configurations': 52, 'feature_shift_decoder': False}. Best is trial 65 with value: 0.46034804817416475.\n"
     ]
    },
    {
     "name": "stdout",
     "output_type": "stream",
     "text": [
      "!! Warning: GPyTorch must be installed !!\n",
      "Using style prior: True\n",
      "Using cuda device\n",
      "Using a Transformer with 25.82 M parameters\n"
     ]
    },
    {
     "name": "stderr",
     "output_type": "stream",
     "text": [
      "[I 2023-08-07 02:10:08,177] Trial 143 finished with value: 0.4829174021641053 and parameters: {'N_ensemble_configurations': 48, 'feature_shift_decoder': False}. Best is trial 65 with value: 0.46034804817416475.\n"
     ]
    },
    {
     "name": "stdout",
     "output_type": "stream",
     "text": [
      "!! Warning: GPyTorch must be installed !!\n",
      "Using style prior: True\n",
      "Using cuda device\n",
      "Using a Transformer with 25.82 M parameters\n"
     ]
    },
    {
     "name": "stderr",
     "output_type": "stream",
     "text": [
      "[I 2023-08-07 02:10:09,238] Trial 144 finished with value: 0.4905808027984112 and parameters: {'N_ensemble_configurations': 56, 'feature_shift_decoder': False}. Best is trial 65 with value: 0.46034804817416475.\n"
     ]
    },
    {
     "name": "stdout",
     "output_type": "stream",
     "text": [
      "!! Warning: GPyTorch must be installed !!\n",
      "Using style prior: True\n",
      "Using cuda device\n",
      "Using a Transformer with 25.82 M parameters\n"
     ]
    },
    {
     "name": "stderr",
     "output_type": "stream",
     "text": [
      "[I 2023-08-07 02:10:10,323] Trial 145 finished with value: 0.47205719488465436 and parameters: {'N_ensemble_configurations': 72, 'feature_shift_decoder': False}. Best is trial 65 with value: 0.46034804817416475.\n"
     ]
    },
    {
     "name": "stdout",
     "output_type": "stream",
     "text": [
      "!! Warning: GPyTorch must be installed !!\n",
      "Using style prior: True\n",
      "Using cuda device\n",
      "Using a Transformer with 25.82 M parameters\n"
     ]
    },
    {
     "name": "stderr",
     "output_type": "stream",
     "text": [
      "[I 2023-08-07 02:10:11,410] Trial 146 finished with value: 0.48541578837170307 and parameters: {'N_ensemble_configurations': 64, 'feature_shift_decoder': False}. Best is trial 65 with value: 0.46034804817416475.\n"
     ]
    },
    {
     "name": "stdout",
     "output_type": "stream",
     "text": [
      "!! Warning: GPyTorch must be installed !!\n",
      "Using style prior: True\n",
      "Using cuda device\n",
      "Using a Transformer with 25.82 M parameters\n"
     ]
    },
    {
     "name": "stderr",
     "output_type": "stream",
     "text": [
      "[I 2023-08-07 02:10:13,090] Trial 147 finished with value: 0.5116955397230764 and parameters: {'N_ensemble_configurations': 40, 'feature_shift_decoder': True}. Best is trial 65 with value: 0.46034804817416475.\n"
     ]
    },
    {
     "name": "stdout",
     "output_type": "stream",
     "text": [
      "!! Warning: GPyTorch must be installed !!\n",
      "Using style prior: True\n",
      "Using cuda device\n",
      "Using a Transformer with 25.82 M parameters\n"
     ]
    },
    {
     "name": "stderr",
     "output_type": "stream",
     "text": [
      "[I 2023-08-07 02:10:14,829] Trial 148 finished with value: 0.47843796177978215 and parameters: {'N_ensemble_configurations': 52, 'feature_shift_decoder': False}. Best is trial 65 with value: 0.46034804817416475.\n"
     ]
    },
    {
     "name": "stdout",
     "output_type": "stream",
     "text": [
      "!! Warning: GPyTorch must be installed !!\n",
      "Using style prior: True\n",
      "Using cuda device\n",
      "Using a Transformer with 25.82 M parameters\n"
     ]
    },
    {
     "name": "stderr",
     "output_type": "stream",
     "text": [
      "[I 2023-08-07 02:10:16,348] Trial 149 finished with value: 0.46761084607509085 and parameters: {'N_ensemble_configurations': 60, 'feature_shift_decoder': False}. Best is trial 65 with value: 0.46034804817416475.\n"
     ]
    },
    {
     "name": "stdout",
     "output_type": "stream",
     "text": [
      "!! Warning: GPyTorch must be installed !!\n",
      "Using style prior: True\n",
      "Using cuda device\n",
      "Using a Transformer with 25.82 M parameters\n"
     ]
    },
    {
     "name": "stderr",
     "output_type": "stream",
     "text": [
      "[I 2023-08-07 02:10:17,994] Trial 150 finished with value: 0.4796903399541164 and parameters: {'N_ensemble_configurations': 64, 'feature_shift_decoder': False}. Best is trial 65 with value: 0.46034804817416475.\n"
     ]
    },
    {
     "name": "stdout",
     "output_type": "stream",
     "text": [
      "!! Warning: GPyTorch must be installed !!\n",
      "Using style prior: True\n",
      "Using cuda device\n",
      "Using a Transformer with 25.82 M parameters\n"
     ]
    },
    {
     "name": "stderr",
     "output_type": "stream",
     "text": [
      "[I 2023-08-07 02:10:19,856] Trial 151 finished with value: 0.4947871865494099 and parameters: {'N_ensemble_configurations': 60, 'feature_shift_decoder': False}. Best is trial 65 with value: 0.46034804817416475.\n"
     ]
    },
    {
     "name": "stdout",
     "output_type": "stream",
     "text": [
      "!! Warning: GPyTorch must be installed !!\n",
      "Using style prior: True\n",
      "Using cuda device\n",
      "Using a Transformer with 25.82 M parameters\n"
     ]
    },
    {
     "name": "stderr",
     "output_type": "stream",
     "text": [
      "[I 2023-08-07 02:10:21,935] Trial 152 finished with value: 0.4772157115837258 and parameters: {'N_ensemble_configurations': 56, 'feature_shift_decoder': False}. Best is trial 65 with value: 0.46034804817416475.\n"
     ]
    },
    {
     "name": "stdout",
     "output_type": "stream",
     "text": [
      "!! Warning: GPyTorch must be installed !!\n",
      "Using style prior: True\n",
      "Using cuda device\n",
      "Using a Transformer with 25.82 M parameters\n"
     ]
    },
    {
     "name": "stderr",
     "output_type": "stream",
     "text": [
      "[I 2023-08-07 02:10:23,599] Trial 153 finished with value: 0.4950290558056404 and parameters: {'N_ensemble_configurations': 44, 'feature_shift_decoder': False}. Best is trial 65 with value: 0.46034804817416475.\n"
     ]
    },
    {
     "name": "stdout",
     "output_type": "stream",
     "text": [
      "!! Warning: GPyTorch must be installed !!\n",
      "Using style prior: True\n",
      "Using cuda device\n",
      "Using a Transformer with 25.82 M parameters\n"
     ]
    },
    {
     "name": "stderr",
     "output_type": "stream",
     "text": [
      "[I 2023-08-07 02:10:25,180] Trial 154 finished with value: 0.4799452163708763 and parameters: {'N_ensemble_configurations': 60, 'feature_shift_decoder': False}. Best is trial 65 with value: 0.46034804817416475.\n"
     ]
    },
    {
     "name": "stdout",
     "output_type": "stream",
     "text": [
      "!! Warning: GPyTorch must be installed !!\n",
      "Using style prior: True\n",
      "Using cuda device\n",
      "Using a Transformer with 25.82 M parameters\n"
     ]
    },
    {
     "name": "stderr",
     "output_type": "stream",
     "text": [
      "[I 2023-08-07 02:10:26,969] Trial 155 finished with value: 0.48441566750823817 and parameters: {'N_ensemble_configurations': 52, 'feature_shift_decoder': False}. Best is trial 65 with value: 0.46034804817416475.\n"
     ]
    },
    {
     "name": "stdout",
     "output_type": "stream",
     "text": [
      "!! Warning: GPyTorch must be installed !!\n",
      "Using style prior: True\n",
      "Using cuda device\n",
      "Using a Transformer with 25.82 M parameters\n"
     ]
    },
    {
     "name": "stderr",
     "output_type": "stream",
     "text": [
      "[I 2023-08-07 02:10:28,548] Trial 156 finished with value: 0.49296779281616687 and parameters: {'N_ensemble_configurations': 48, 'feature_shift_decoder': False}. Best is trial 65 with value: 0.46034804817416475.\n"
     ]
    },
    {
     "name": "stdout",
     "output_type": "stream",
     "text": [
      "!! Warning: GPyTorch must be installed !!\n",
      "Using style prior: True\n",
      "Using cuda device\n",
      "Using a Transformer with 25.82 M parameters\n"
     ]
    },
    {
     "name": "stderr",
     "output_type": "stream",
     "text": [
      "[I 2023-08-07 02:10:30,174] Trial 157 finished with value: 0.4759716036346462 and parameters: {'N_ensemble_configurations': 60, 'feature_shift_decoder': False}. Best is trial 65 with value: 0.46034804817416475.\n"
     ]
    },
    {
     "name": "stdout",
     "output_type": "stream",
     "text": [
      "!! Warning: GPyTorch must be installed !!\n",
      "Using style prior: True\n",
      "Using cuda device\n",
      "Using a Transformer with 25.82 M parameters\n"
     ]
    },
    {
     "name": "stderr",
     "output_type": "stream",
     "text": [
      "[I 2023-08-07 02:10:32,070] Trial 158 finished with value: 0.48086973525438526 and parameters: {'N_ensemble_configurations': 56, 'feature_shift_decoder': False}. Best is trial 65 with value: 0.46034804817416475.\n"
     ]
    },
    {
     "name": "stdout",
     "output_type": "stream",
     "text": [
      "!! Warning: GPyTorch must be installed !!\n",
      "Using style prior: True\n",
      "Using cuda device\n",
      "Using a Transformer with 25.82 M parameters\n"
     ]
    },
    {
     "name": "stderr",
     "output_type": "stream",
     "text": [
      "[I 2023-08-07 02:10:33,906] Trial 159 finished with value: 0.48512234279658595 and parameters: {'N_ensemble_configurations': 68, 'feature_shift_decoder': False}. Best is trial 65 with value: 0.46034804817416475.\n"
     ]
    },
    {
     "name": "stdout",
     "output_type": "stream",
     "text": [
      "!! Warning: GPyTorch must be installed !!\n",
      "Using style prior: True\n",
      "Using cuda device\n",
      "Using a Transformer with 25.82 M parameters\n"
     ]
    },
    {
     "name": "stderr",
     "output_type": "stream",
     "text": [
      "[I 2023-08-07 02:10:35,369] Trial 160 finished with value: 0.47017721310012695 and parameters: {'N_ensemble_configurations': 64, 'feature_shift_decoder': False}. Best is trial 65 with value: 0.46034804817416475.\n"
     ]
    },
    {
     "name": "stdout",
     "output_type": "stream",
     "text": [
      "!! Warning: GPyTorch must be installed !!\n",
      "Using style prior: True\n",
      "Using cuda device\n",
      "Using a Transformer with 25.82 M parameters\n"
     ]
    },
    {
     "name": "stderr",
     "output_type": "stream",
     "text": [
      "[I 2023-08-07 02:10:37,061] Trial 161 finished with value: 0.47753809100372335 and parameters: {'N_ensemble_configurations': 64, 'feature_shift_decoder': False}. Best is trial 65 with value: 0.46034804817416475.\n"
     ]
    },
    {
     "name": "stdout",
     "output_type": "stream",
     "text": [
      "!! Warning: GPyTorch must be installed !!\n",
      "Using style prior: True\n",
      "Using cuda device\n",
      "Using a Transformer with 25.82 M parameters\n"
     ]
    },
    {
     "name": "stderr",
     "output_type": "stream",
     "text": [
      "[I 2023-08-07 02:10:39,079] Trial 162 finished with value: 0.4718542485857312 and parameters: {'N_ensemble_configurations': 68, 'feature_shift_decoder': False}. Best is trial 65 with value: 0.46034804817416475.\n"
     ]
    },
    {
     "name": "stdout",
     "output_type": "stream",
     "text": [
      "!! Warning: GPyTorch must be installed !!\n",
      "Using style prior: True\n",
      "Using cuda device\n",
      "Using a Transformer with 25.82 M parameters\n"
     ]
    },
    {
     "name": "stderr",
     "output_type": "stream",
     "text": [
      "[I 2023-08-07 02:10:40,777] Trial 163 finished with value: 0.48935344261369906 and parameters: {'N_ensemble_configurations': 60, 'feature_shift_decoder': False}. Best is trial 65 with value: 0.46034804817416475.\n"
     ]
    },
    {
     "name": "stdout",
     "output_type": "stream",
     "text": [
      "!! Warning: GPyTorch must be installed !!\n",
      "Using style prior: True\n",
      "Using cuda device\n",
      "Using a Transformer with 25.82 M parameters\n"
     ]
    },
    {
     "name": "stderr",
     "output_type": "stream",
     "text": [
      "[I 2023-08-07 02:10:42,534] Trial 164 finished with value: 0.46979565889202435 and parameters: {'N_ensemble_configurations': 84, 'feature_shift_decoder': False}. Best is trial 65 with value: 0.46034804817416475.\n"
     ]
    },
    {
     "name": "stdout",
     "output_type": "stream",
     "text": [
      "!! Warning: GPyTorch must be installed !!\n",
      "Using style prior: True\n",
      "Using cuda device\n",
      "Using a Transformer with 25.82 M parameters\n"
     ]
    },
    {
     "name": "stderr",
     "output_type": "stream",
     "text": [
      "[I 2023-08-07 02:10:43,762] Trial 165 finished with value: 0.4972807382187046 and parameters: {'N_ensemble_configurations': 80, 'feature_shift_decoder': False}. Best is trial 65 with value: 0.46034804817416475.\n"
     ]
    },
    {
     "name": "stdout",
     "output_type": "stream",
     "text": [
      "!! Warning: GPyTorch must be installed !!\n",
      "Using style prior: True\n",
      "Using cuda device\n",
      "Using a Transformer with 25.82 M parameters\n"
     ]
    },
    {
     "name": "stderr",
     "output_type": "stream",
     "text": [
      "[I 2023-08-07 02:10:44,970] Trial 166 finished with value: 0.4859971019530892 and parameters: {'N_ensemble_configurations': 84, 'feature_shift_decoder': False}. Best is trial 65 with value: 0.46034804817416475.\n"
     ]
    },
    {
     "name": "stdout",
     "output_type": "stream",
     "text": [
      "!! Warning: GPyTorch must be installed !!\n",
      "Using style prior: True\n",
      "Using cuda device\n",
      "Using a Transformer with 25.82 M parameters\n"
     ]
    },
    {
     "name": "stderr",
     "output_type": "stream",
     "text": [
      "[I 2023-08-07 02:10:46,494] Trial 167 finished with value: 0.4668340979262438 and parameters: {'N_ensemble_configurations': 84, 'feature_shift_decoder': False}. Best is trial 65 with value: 0.46034804817416475.\n"
     ]
    },
    {
     "name": "stdout",
     "output_type": "stream",
     "text": [
      "!! Warning: GPyTorch must be installed !!\n",
      "Using style prior: True\n",
      "Using cuda device\n",
      "Using a Transformer with 25.82 M parameters\n"
     ]
    },
    {
     "name": "stderr",
     "output_type": "stream",
     "text": [
      "[I 2023-08-07 02:10:48,132] Trial 168 finished with value: 0.4858096852345749 and parameters: {'N_ensemble_configurations': 84, 'feature_shift_decoder': False}. Best is trial 65 with value: 0.46034804817416475.\n"
     ]
    },
    {
     "name": "stdout",
     "output_type": "stream",
     "text": [
      "!! Warning: GPyTorch must be installed !!\n",
      "Using style prior: True\n",
      "Using cuda device\n",
      "Using a Transformer with 25.82 M parameters\n"
     ]
    },
    {
     "name": "stderr",
     "output_type": "stream",
     "text": [
      "[I 2023-08-07 02:10:50,089] Trial 169 finished with value: 0.49011078229519056 and parameters: {'N_ensemble_configurations': 76, 'feature_shift_decoder': False}. Best is trial 65 with value: 0.46034804817416475.\n"
     ]
    },
    {
     "name": "stdout",
     "output_type": "stream",
     "text": [
      "!! Warning: GPyTorch must be installed !!\n",
      "Using style prior: True\n",
      "Using cuda device\n",
      "Using a Transformer with 25.82 M parameters\n"
     ]
    },
    {
     "name": "stderr",
     "output_type": "stream",
     "text": [
      "[I 2023-08-07 02:10:51,743] Trial 170 finished with value: 0.4888795966381628 and parameters: {'N_ensemble_configurations': 88, 'feature_shift_decoder': False}. Best is trial 65 with value: 0.46034804817416475.\n"
     ]
    },
    {
     "name": "stdout",
     "output_type": "stream",
     "text": [
      "!! Warning: GPyTorch must be installed !!\n",
      "Using style prior: True\n",
      "Using cuda device\n",
      "Using a Transformer with 25.82 M parameters\n"
     ]
    },
    {
     "name": "stderr",
     "output_type": "stream",
     "text": [
      "[I 2023-08-07 02:10:53,321] Trial 171 finished with value: 0.4955235921897495 and parameters: {'N_ensemble_configurations': 84, 'feature_shift_decoder': False}. Best is trial 65 with value: 0.46034804817416475.\n"
     ]
    },
    {
     "name": "stdout",
     "output_type": "stream",
     "text": [
      "!! Warning: GPyTorch must be installed !!\n",
      "Using style prior: True\n",
      "Using cuda device\n",
      "Using a Transformer with 25.82 M parameters\n"
     ]
    },
    {
     "name": "stderr",
     "output_type": "stream",
     "text": [
      "[I 2023-08-07 02:10:55,111] Trial 172 finished with value: 0.4836062273737215 and parameters: {'N_ensemble_configurations': 88, 'feature_shift_decoder': False}. Best is trial 65 with value: 0.46034804817416475.\n"
     ]
    },
    {
     "name": "stdout",
     "output_type": "stream",
     "text": [
      "!! Warning: GPyTorch must be installed !!\n",
      "Using style prior: True\n",
      "Using cuda device\n",
      "Using a Transformer with 25.82 M parameters\n"
     ]
    },
    {
     "name": "stderr",
     "output_type": "stream",
     "text": [
      "[I 2023-08-07 02:10:56,676] Trial 173 finished with value: 0.4822692758611245 and parameters: {'N_ensemble_configurations': 88, 'feature_shift_decoder': False}. Best is trial 65 with value: 0.46034804817416475.\n"
     ]
    },
    {
     "name": "stdout",
     "output_type": "stream",
     "text": [
      "!! Warning: GPyTorch must be installed !!\n",
      "Using style prior: True\n",
      "Using cuda device\n",
      "Using a Transformer with 25.82 M parameters\n"
     ]
    },
    {
     "name": "stderr",
     "output_type": "stream",
     "text": [
      "[I 2023-08-07 02:10:58,255] Trial 174 finished with value: 0.4843039356354909 and parameters: {'N_ensemble_configurations': 72, 'feature_shift_decoder': False}. Best is trial 65 with value: 0.46034804817416475.\n"
     ]
    },
    {
     "name": "stdout",
     "output_type": "stream",
     "text": [
      "!! Warning: GPyTorch must be installed !!\n",
      "Using style prior: True\n",
      "Using cuda device\n",
      "Using a Transformer with 25.82 M parameters\n"
     ]
    },
    {
     "name": "stderr",
     "output_type": "stream",
     "text": [
      "[I 2023-08-07 02:11:00,184] Trial 175 finished with value: 0.4820350775536451 and parameters: {'N_ensemble_configurations': 64, 'feature_shift_decoder': False}. Best is trial 65 with value: 0.46034804817416475.\n"
     ]
    },
    {
     "name": "stdout",
     "output_type": "stream",
     "text": [
      "!! Warning: GPyTorch must be installed !!\n",
      "Using style prior: True\n",
      "Using cuda device\n",
      "Using a Transformer with 25.82 M parameters\n"
     ]
    },
    {
     "name": "stderr",
     "output_type": "stream",
     "text": [
      "[I 2023-08-07 02:11:01,826] Trial 176 finished with value: 0.49230766110662627 and parameters: {'N_ensemble_configurations': 56, 'feature_shift_decoder': False}. Best is trial 65 with value: 0.46034804817416475.\n"
     ]
    },
    {
     "name": "stdout",
     "output_type": "stream",
     "text": [
      "!! Warning: GPyTorch must be installed !!\n",
      "Using style prior: True\n",
      "Using cuda device\n",
      "Using a Transformer with 25.82 M parameters\n"
     ]
    },
    {
     "name": "stderr",
     "output_type": "stream",
     "text": [
      "[I 2023-08-07 02:11:03,701] Trial 177 finished with value: 0.4668986524926373 and parameters: {'N_ensemble_configurations': 92, 'feature_shift_decoder': False}. Best is trial 65 with value: 0.46034804817416475.\n"
     ]
    },
    {
     "name": "stdout",
     "output_type": "stream",
     "text": [
      "!! Warning: GPyTorch must be installed !!\n",
      "Using style prior: True\n",
      "Using cuda device\n",
      "Using a Transformer with 25.82 M parameters\n"
     ]
    },
    {
     "name": "stderr",
     "output_type": "stream",
     "text": [
      "[I 2023-08-07 02:11:05,494] Trial 178 finished with value: 0.47894181548727255 and parameters: {'N_ensemble_configurations': 80, 'feature_shift_decoder': False}. Best is trial 65 with value: 0.46034804817416475.\n"
     ]
    },
    {
     "name": "stdout",
     "output_type": "stream",
     "text": [
      "!! Warning: GPyTorch must be installed !!\n",
      "Using style prior: True\n",
      "Using cuda device\n",
      "Using a Transformer with 25.82 M parameters\n"
     ]
    },
    {
     "name": "stderr",
     "output_type": "stream",
     "text": [
      "[I 2023-08-07 02:11:08,441] Trial 179 finished with value: 0.48132458952200496 and parameters: {'N_ensemble_configurations': 80, 'feature_shift_decoder': True}. Best is trial 65 with value: 0.46034804817416475.\n"
     ]
    },
    {
     "name": "stdout",
     "output_type": "stream",
     "text": [
      "!! Warning: GPyTorch must be installed !!\n",
      "Using style prior: True\n",
      "Using cuda device\n",
      "Using a Transformer with 25.82 M parameters\n"
     ]
    },
    {
     "name": "stderr",
     "output_type": "stream",
     "text": [
      "[I 2023-08-07 02:11:09,983] Trial 180 finished with value: 0.48897442253397727 and parameters: {'N_ensemble_configurations': 92, 'feature_shift_decoder': False}. Best is trial 65 with value: 0.46034804817416475.\n"
     ]
    },
    {
     "name": "stdout",
     "output_type": "stream",
     "text": [
      "!! Warning: GPyTorch must be installed !!\n",
      "Using style prior: True\n",
      "Using cuda device\n",
      "Using a Transformer with 25.82 M parameters\n"
     ]
    },
    {
     "name": "stderr",
     "output_type": "stream",
     "text": [
      "[I 2023-08-07 02:11:11,559] Trial 181 finished with value: 0.4780234382023033 and parameters: {'N_ensemble_configurations': 92, 'feature_shift_decoder': False}. Best is trial 65 with value: 0.46034804817416475.\n"
     ]
    },
    {
     "name": "stdout",
     "output_type": "stream",
     "text": [
      "!! Warning: GPyTorch must be installed !!\n",
      "Using style prior: True\n",
      "Using cuda device\n",
      "Using a Transformer with 25.82 M parameters\n"
     ]
    },
    {
     "name": "stderr",
     "output_type": "stream",
     "text": [
      "[I 2023-08-07 02:11:13,499] Trial 182 finished with value: 0.46912980198721954 and parameters: {'N_ensemble_configurations': 60, 'feature_shift_decoder': False}. Best is trial 65 with value: 0.46034804817416475.\n"
     ]
    },
    {
     "name": "stdout",
     "output_type": "stream",
     "text": [
      "!! Warning: GPyTorch must be installed !!\n",
      "Using style prior: True\n",
      "Using cuda device\n",
      "Using a Transformer with 25.82 M parameters\n"
     ]
    },
    {
     "name": "stderr",
     "output_type": "stream",
     "text": [
      "[I 2023-08-07 02:11:14,851] Trial 183 finished with value: 0.4857966283202988 and parameters: {'N_ensemble_configurations': 60, 'feature_shift_decoder': False}. Best is trial 65 with value: 0.46034804817416475.\n"
     ]
    },
    {
     "name": "stdout",
     "output_type": "stream",
     "text": [
      "!! Warning: GPyTorch must be installed !!\n",
      "Using style prior: True\n",
      "Using cuda device\n",
      "Using a Transformer with 25.82 M parameters\n"
     ]
    },
    {
     "name": "stderr",
     "output_type": "stream",
     "text": [
      "[I 2023-08-07 02:11:16,538] Trial 184 finished with value: 0.48136617798056414 and parameters: {'N_ensemble_configurations': 96, 'feature_shift_decoder': False}. Best is trial 65 with value: 0.46034804817416475.\n"
     ]
    },
    {
     "name": "stdout",
     "output_type": "stream",
     "text": [
      "!! Warning: GPyTorch must be installed !!\n",
      "Using style prior: True\n",
      "Using cuda device\n",
      "Using a Transformer with 25.82 M parameters\n"
     ]
    },
    {
     "name": "stderr",
     "output_type": "stream",
     "text": [
      "[I 2023-08-07 02:11:18,120] Trial 185 finished with value: 0.47888460815000233 and parameters: {'N_ensemble_configurations': 64, 'feature_shift_decoder': False}. Best is trial 65 with value: 0.46034804817416475.\n"
     ]
    },
    {
     "name": "stdout",
     "output_type": "stream",
     "text": [
      "!! Warning: GPyTorch must be installed !!\n",
      "Using style prior: True\n",
      "Using cuda device\n",
      "Using a Transformer with 25.82 M parameters\n"
     ]
    },
    {
     "name": "stderr",
     "output_type": "stream",
     "text": [
      "[I 2023-08-07 02:11:19,424] Trial 186 finished with value: 0.4754331399802883 and parameters: {'N_ensemble_configurations': 76, 'feature_shift_decoder': False}. Best is trial 65 with value: 0.46034804817416475.\n"
     ]
    },
    {
     "name": "stdout",
     "output_type": "stream",
     "text": [
      "!! Warning: GPyTorch must be installed !!\n",
      "Using style prior: True\n",
      "Using cuda device\n",
      "Using a Transformer with 25.82 M parameters\n"
     ]
    },
    {
     "name": "stderr",
     "output_type": "stream",
     "text": [
      "[I 2023-08-07 02:11:21,390] Trial 187 finished with value: 0.4817114350836383 and parameters: {'N_ensemble_configurations': 100, 'feature_shift_decoder': False}. Best is trial 65 with value: 0.46034804817416475.\n"
     ]
    },
    {
     "name": "stdout",
     "output_type": "stream",
     "text": [
      "!! Warning: GPyTorch must be installed !!\n",
      "Using style prior: True\n",
      "Using cuda device\n",
      "Using a Transformer with 25.82 M parameters\n"
     ]
    },
    {
     "name": "stderr",
     "output_type": "stream",
     "text": [
      "[I 2023-08-07 02:11:22,980] Trial 188 finished with value: 0.4683511944714872 and parameters: {'N_ensemble_configurations': 68, 'feature_shift_decoder': False}. Best is trial 65 with value: 0.46034804817416475.\n"
     ]
    },
    {
     "name": "stdout",
     "output_type": "stream",
     "text": [
      "!! Warning: GPyTorch must be installed !!\n",
      "Using style prior: True\n",
      "Using cuda device\n",
      "Using a Transformer with 25.82 M parameters\n"
     ]
    },
    {
     "name": "stderr",
     "output_type": "stream",
     "text": [
      "[I 2023-08-07 02:11:24,854] Trial 189 finished with value: 0.4839696311992181 and parameters: {'N_ensemble_configurations': 68, 'feature_shift_decoder': False}. Best is trial 65 with value: 0.46034804817416475.\n"
     ]
    },
    {
     "name": "stdout",
     "output_type": "stream",
     "text": [
      "!! Warning: GPyTorch must be installed !!\n",
      "Using style prior: True\n",
      "Using cuda device\n",
      "Using a Transformer with 25.82 M parameters\n"
     ]
    },
    {
     "name": "stderr",
     "output_type": "stream",
     "text": [
      "[I 2023-08-07 02:11:26,652] Trial 190 finished with value: 0.4722169766954875 and parameters: {'N_ensemble_configurations': 108, 'feature_shift_decoder': False}. Best is trial 65 with value: 0.46034804817416475.\n"
     ]
    },
    {
     "name": "stdout",
     "output_type": "stream",
     "text": [
      "!! Warning: GPyTorch must be installed !!\n",
      "Using style prior: True\n",
      "Using cuda device\n",
      "Using a Transformer with 25.82 M parameters\n"
     ]
    },
    {
     "name": "stderr",
     "output_type": "stream",
     "text": [
      "[I 2023-08-07 02:11:28,371] Trial 191 finished with value: 0.4783883867230695 and parameters: {'N_ensemble_configurations': 64, 'feature_shift_decoder': False}. Best is trial 65 with value: 0.46034804817416475.\n"
     ]
    },
    {
     "name": "stdout",
     "output_type": "stream",
     "text": [
      "!! Warning: GPyTorch must be installed !!\n",
      "Using style prior: True\n",
      "Using cuda device\n",
      "Using a Transformer with 25.82 M parameters\n"
     ]
    },
    {
     "name": "stderr",
     "output_type": "stream",
     "text": [
      "[I 2023-08-07 02:11:30,124] Trial 192 finished with value: 0.48873252531708183 and parameters: {'N_ensemble_configurations': 72, 'feature_shift_decoder': False}. Best is trial 65 with value: 0.46034804817416475.\n"
     ]
    },
    {
     "name": "stdout",
     "output_type": "stream",
     "text": [
      "!! Warning: GPyTorch must be installed !!\n",
      "Using style prior: True\n",
      "Using cuda device\n",
      "Using a Transformer with 25.82 M parameters\n"
     ]
    },
    {
     "name": "stderr",
     "output_type": "stream",
     "text": [
      "[I 2023-08-07 02:11:31,791] Trial 193 finished with value: 0.47968438348510833 and parameters: {'N_ensemble_configurations': 60, 'feature_shift_decoder': False}. Best is trial 65 with value: 0.46034804817416475.\n"
     ]
    },
    {
     "name": "stdout",
     "output_type": "stream",
     "text": [
      "!! Warning: GPyTorch must be installed !!\n",
      "Using style prior: True\n",
      "Using cuda device\n",
      "Using a Transformer with 25.82 M parameters\n"
     ]
    },
    {
     "name": "stderr",
     "output_type": "stream",
     "text": [
      "[I 2023-08-07 02:11:33,413] Trial 194 finished with value: 0.4890016715911216 and parameters: {'N_ensemble_configurations': 68, 'feature_shift_decoder': False}. Best is trial 65 with value: 0.46034804817416475.\n"
     ]
    },
    {
     "name": "stdout",
     "output_type": "stream",
     "text": [
      "!! Warning: GPyTorch must be installed !!\n",
      "Using style prior: True\n",
      "Using cuda device\n",
      "Using a Transformer with 25.82 M parameters\n"
     ]
    },
    {
     "name": "stderr",
     "output_type": "stream",
     "text": [
      "[I 2023-08-07 02:11:34,994] Trial 195 finished with value: 0.48152213605836086 and parameters: {'N_ensemble_configurations': 64, 'feature_shift_decoder': False}. Best is trial 65 with value: 0.46034804817416475.\n"
     ]
    },
    {
     "name": "stdout",
     "output_type": "stream",
     "text": [
      "!! Warning: GPyTorch must be installed !!\n",
      "Using style prior: True\n",
      "Using cuda device\n",
      "Using a Transformer with 25.82 M parameters\n"
     ]
    },
    {
     "name": "stderr",
     "output_type": "stream",
     "text": [
      "[I 2023-08-07 02:11:36,840] Trial 196 finished with value: 0.4684349513231961 and parameters: {'N_ensemble_configurations': 56, 'feature_shift_decoder': False}. Best is trial 65 with value: 0.46034804817416475.\n"
     ]
    },
    {
     "name": "stdout",
     "output_type": "stream",
     "text": [
      "!! Warning: GPyTorch must be installed !!\n",
      "Using style prior: True\n",
      "Using cuda device\n",
      "Using a Transformer with 25.82 M parameters\n"
     ]
    },
    {
     "name": "stderr",
     "output_type": "stream",
     "text": [
      "[I 2023-08-07 02:11:38,500] Trial 197 finished with value: 0.4752834636080834 and parameters: {'N_ensemble_configurations': 60, 'feature_shift_decoder': False}. Best is trial 65 with value: 0.46034804817416475.\n"
     ]
    },
    {
     "name": "stdout",
     "output_type": "stream",
     "text": [
      "!! Warning: GPyTorch must be installed !!\n",
      "Using style prior: True\n",
      "Using cuda device\n",
      "Using a Transformer with 25.82 M parameters\n"
     ]
    },
    {
     "name": "stderr",
     "output_type": "stream",
     "text": [
      "[I 2023-08-07 02:11:40,519] Trial 198 finished with value: 0.48775571773026144 and parameters: {'N_ensemble_configurations': 56, 'feature_shift_decoder': False}. Best is trial 65 with value: 0.46034804817416475.\n"
     ]
    },
    {
     "name": "stdout",
     "output_type": "stream",
     "text": [
      "!! Warning: GPyTorch must be installed !!\n",
      "Using style prior: True\n",
      "Using cuda device\n",
      "Using a Transformer with 25.82 M parameters\n"
     ]
    },
    {
     "name": "stderr",
     "output_type": "stream",
     "text": [
      "[I 2023-08-07 02:11:42,130] Trial 199 finished with value: 0.47908996566317313 and parameters: {'N_ensemble_configurations': 56, 'feature_shift_decoder': False}. Best is trial 65 with value: 0.46034804817416475.\n"
     ]
    },
    {
     "name": "stdout",
     "output_type": "stream",
     "text": [
      "!! Warning: GPyTorch must be installed !!\n",
      "Using style prior: True\n",
      "Using cuda device\n",
      "Using a Transformer with 25.82 M parameters\n"
     ]
    },
    {
     "name": "stderr",
     "output_type": "stream",
     "text": [
      "[I 2023-08-07 02:11:43,782] Trial 200 finished with value: 0.501106565044512 and parameters: {'N_ensemble_configurations': 52, 'feature_shift_decoder': False}. Best is trial 65 with value: 0.46034804817416475.\n"
     ]
    },
    {
     "name": "stdout",
     "output_type": "stream",
     "text": [
      "!! Warning: GPyTorch must be installed !!\n",
      "Using style prior: True\n",
      "Using cuda device\n",
      "Using a Transformer with 25.82 M parameters\n"
     ]
    },
    {
     "name": "stderr",
     "output_type": "stream",
     "text": [
      "[I 2023-08-07 02:11:45,185] Trial 201 finished with value: 0.4830844157059875 and parameters: {'N_ensemble_configurations': 60, 'feature_shift_decoder': False}. Best is trial 65 with value: 0.46034804817416475.\n"
     ]
    },
    {
     "name": "stdout",
     "output_type": "stream",
     "text": [
      "!! Warning: GPyTorch must be installed !!\n",
      "Using style prior: True\n",
      "Using cuda device\n",
      "Using a Transformer with 25.82 M parameters\n"
     ]
    },
    {
     "name": "stderr",
     "output_type": "stream",
     "text": [
      "[I 2023-08-07 02:11:47,044] Trial 202 finished with value: 0.4792634461788548 and parameters: {'N_ensemble_configurations': 64, 'feature_shift_decoder': False}. Best is trial 65 with value: 0.46034804817416475.\n"
     ]
    },
    {
     "name": "stdout",
     "output_type": "stream",
     "text": [
      "!! Warning: GPyTorch must be installed !!\n",
      "Using style prior: True\n",
      "Using cuda device\n",
      "Using a Transformer with 25.82 M parameters\n"
     ]
    },
    {
     "name": "stderr",
     "output_type": "stream",
     "text": [
      "[I 2023-08-07 02:11:48,744] Trial 203 finished with value: 0.49919331796869204 and parameters: {'N_ensemble_configurations': 60, 'feature_shift_decoder': False}. Best is trial 65 with value: 0.46034804817416475.\n"
     ]
    },
    {
     "name": "stdout",
     "output_type": "stream",
     "text": [
      "!! Warning: GPyTorch must be installed !!\n",
      "Using style prior: True\n",
      "Using cuda device\n",
      "Using a Transformer with 25.82 M parameters\n"
     ]
    },
    {
     "name": "stderr",
     "output_type": "stream",
     "text": [
      "[I 2023-08-07 02:11:50,174] Trial 204 finished with value: 0.4761719714242446 and parameters: {'N_ensemble_configurations': 56, 'feature_shift_decoder': False}. Best is trial 65 with value: 0.46034804817416475.\n"
     ]
    },
    {
     "name": "stdout",
     "output_type": "stream",
     "text": [
      "!! Warning: GPyTorch must be installed !!\n",
      "Using style prior: True\n",
      "Using cuda device\n",
      "Using a Transformer with 25.82 M parameters\n"
     ]
    },
    {
     "name": "stderr",
     "output_type": "stream",
     "text": [
      "[I 2023-08-07 02:11:52,076] Trial 205 finished with value: 0.4944847877982639 and parameters: {'N_ensemble_configurations': 72, 'feature_shift_decoder': False}. Best is trial 65 with value: 0.46034804817416475.\n"
     ]
    },
    {
     "name": "stdout",
     "output_type": "stream",
     "text": [
      "!! Warning: GPyTorch must be installed !!\n",
      "Using style prior: True\n",
      "Using cuda device\n",
      "Using a Transformer with 25.82 M parameters\n"
     ]
    },
    {
     "name": "stderr",
     "output_type": "stream",
     "text": [
      "[I 2023-08-07 02:11:53,620] Trial 206 finished with value: 0.4753167268626184 and parameters: {'N_ensemble_configurations': 68, 'feature_shift_decoder': False}. Best is trial 65 with value: 0.46034804817416475.\n"
     ]
    },
    {
     "name": "stdout",
     "output_type": "stream",
     "text": [
      "!! Warning: GPyTorch must be installed !!\n",
      "Using style prior: True\n",
      "Using cuda device\n",
      "Using a Transformer with 25.82 M parameters\n"
     ]
    },
    {
     "name": "stderr",
     "output_type": "stream",
     "text": [
      "[I 2023-08-07 02:11:54,819] Trial 207 finished with value: 0.4770867228082315 and parameters: {'N_ensemble_configurations': 64, 'feature_shift_decoder': False}. Best is trial 65 with value: 0.46034804817416475.\n"
     ]
    },
    {
     "name": "stdout",
     "output_type": "stream",
     "text": [
      "!! Warning: GPyTorch must be installed !!\n",
      "Using style prior: True\n",
      "Using cuda device\n",
      "Using a Transformer with 25.82 M parameters\n"
     ]
    },
    {
     "name": "stderr",
     "output_type": "stream",
     "text": [
      "[I 2023-08-07 02:11:55,955] Trial 208 finished with value: 0.481807018460903 and parameters: {'N_ensemble_configurations': 52, 'feature_shift_decoder': False}. Best is trial 65 with value: 0.46034804817416475.\n"
     ]
    },
    {
     "name": "stdout",
     "output_type": "stream",
     "text": [
      "!! Warning: GPyTorch must be installed !!\n",
      "Using style prior: True\n",
      "Using cuda device\n",
      "Using a Transformer with 25.82 M parameters\n"
     ]
    },
    {
     "name": "stderr",
     "output_type": "stream",
     "text": [
      "[I 2023-08-07 02:11:58,355] Trial 209 finished with value: 0.4954802733689423 and parameters: {'N_ensemble_configurations': 56, 'feature_shift_decoder': True}. Best is trial 65 with value: 0.46034804817416475.\n"
     ]
    },
    {
     "name": "stdout",
     "output_type": "stream",
     "text": [
      "!! Warning: GPyTorch must be installed !!\n",
      "Using style prior: True\n",
      "Using cuda device\n",
      "Using a Transformer with 25.82 M parameters\n"
     ]
    },
    {
     "name": "stderr",
     "output_type": "stream",
     "text": [
      "[I 2023-08-07 02:12:00,120] Trial 210 finished with value: 0.4831254977231473 and parameters: {'N_ensemble_configurations': 28, 'feature_shift_decoder': False}. Best is trial 65 with value: 0.46034804817416475.\n"
     ]
    },
    {
     "name": "stdout",
     "output_type": "stream",
     "text": [
      "!! Warning: GPyTorch must be installed !!\n",
      "Using style prior: True\n",
      "Using cuda device\n",
      "Using a Transformer with 25.82 M parameters\n"
     ]
    },
    {
     "name": "stderr",
     "output_type": "stream",
     "text": [
      "[I 2023-08-07 02:12:01,672] Trial 211 finished with value: 0.4847974973535817 and parameters: {'N_ensemble_configurations': 84, 'feature_shift_decoder': False}. Best is trial 65 with value: 0.46034804817416475.\n"
     ]
    },
    {
     "name": "stdout",
     "output_type": "stream",
     "text": [
      "!! Warning: GPyTorch must be installed !!\n",
      "Using style prior: True\n",
      "Using cuda device\n",
      "Using a Transformer with 25.82 M parameters\n"
     ]
    },
    {
     "name": "stderr",
     "output_type": "stream",
     "text": [
      "[I 2023-08-07 02:12:03,183] Trial 212 finished with value: 0.48767263097065594 and parameters: {'N_ensemble_configurations': 52, 'feature_shift_decoder': False}. Best is trial 65 with value: 0.46034804817416475.\n"
     ]
    },
    {
     "name": "stdout",
     "output_type": "stream",
     "text": [
      "!! Warning: GPyTorch must be installed !!\n",
      "Using style prior: True\n",
      "Using cuda device\n",
      "Using a Transformer with 25.82 M parameters\n"
     ]
    },
    {
     "name": "stderr",
     "output_type": "stream",
     "text": [
      "[I 2023-08-07 02:12:04,979] Trial 213 finished with value: 0.4970865193297096 and parameters: {'N_ensemble_configurations': 60, 'feature_shift_decoder': False}. Best is trial 65 with value: 0.46034804817416475.\n"
     ]
    },
    {
     "name": "stdout",
     "output_type": "stream",
     "text": [
      "!! Warning: GPyTorch must be installed !!\n",
      "Using style prior: True\n",
      "Using cuda device\n",
      "Using a Transformer with 25.82 M parameters\n"
     ]
    },
    {
     "name": "stderr",
     "output_type": "stream",
     "text": [
      "[I 2023-08-07 02:12:06,813] Trial 214 finished with value: 0.49427663522437126 and parameters: {'N_ensemble_configurations': 48, 'feature_shift_decoder': False}. Best is trial 65 with value: 0.46034804817416475.\n"
     ]
    },
    {
     "name": "stdout",
     "output_type": "stream",
     "text": [
      "!! Warning: GPyTorch must be installed !!\n",
      "Using style prior: True\n",
      "Using cuda device\n",
      "Using a Transformer with 25.82 M parameters\n"
     ]
    },
    {
     "name": "stderr",
     "output_type": "stream",
     "text": [
      "[I 2023-08-07 02:12:08,364] Trial 215 finished with value: 0.48960331732971746 and parameters: {'N_ensemble_configurations': 100, 'feature_shift_decoder': False}. Best is trial 65 with value: 0.46034804817416475.\n"
     ]
    },
    {
     "name": "stdout",
     "output_type": "stream",
     "text": [
      "!! Warning: GPyTorch must be installed !!\n",
      "Using style prior: True\n",
      "Using cuda device\n",
      "Using a Transformer with 25.82 M parameters\n"
     ]
    },
    {
     "name": "stderr",
     "output_type": "stream",
     "text": [
      "[I 2023-08-07 02:12:09,788] Trial 216 finished with value: 0.48848386212200834 and parameters: {'N_ensemble_configurations': 56, 'feature_shift_decoder': False}. Best is trial 65 with value: 0.46034804817416475.\n"
     ]
    },
    {
     "name": "stdout",
     "output_type": "stream",
     "text": [
      "!! Warning: GPyTorch must be installed !!\n",
      "Using style prior: True\n",
      "Using cuda device\n",
      "Using a Transformer with 25.82 M parameters\n"
     ]
    },
    {
     "name": "stderr",
     "output_type": "stream",
     "text": [
      "[I 2023-08-07 02:12:11,352] Trial 217 finished with value: 0.4793989520815388 and parameters: {'N_ensemble_configurations': 52, 'feature_shift_decoder': False}. Best is trial 65 with value: 0.46034804817416475.\n"
     ]
    },
    {
     "name": "stdout",
     "output_type": "stream",
     "text": [
      "!! Warning: GPyTorch must be installed !!\n",
      "Using style prior: True\n",
      "Using cuda device\n",
      "Using a Transformer with 25.82 M parameters\n"
     ]
    },
    {
     "name": "stderr",
     "output_type": "stream",
     "text": [
      "[I 2023-08-07 02:12:13,026] Trial 218 finished with value: 0.483569068171409 and parameters: {'N_ensemble_configurations': 60, 'feature_shift_decoder': False}. Best is trial 65 with value: 0.46034804817416475.\n"
     ]
    },
    {
     "name": "stdout",
     "output_type": "stream",
     "text": [
      "!! Warning: GPyTorch must be installed !!\n",
      "Using style prior: True\n",
      "Using cuda device\n",
      "Using a Transformer with 25.82 M parameters\n"
     ]
    },
    {
     "name": "stderr",
     "output_type": "stream",
     "text": [
      "[I 2023-08-07 02:12:14,709] Trial 219 finished with value: 0.4853977092213308 and parameters: {'N_ensemble_configurations': 92, 'feature_shift_decoder': False}. Best is trial 65 with value: 0.46034804817416475.\n"
     ]
    },
    {
     "name": "stdout",
     "output_type": "stream",
     "text": [
      "!! Warning: GPyTorch must be installed !!\n",
      "Using style prior: True\n",
      "Using cuda device\n",
      "Using a Transformer with 25.82 M parameters\n"
     ]
    },
    {
     "name": "stderr",
     "output_type": "stream",
     "text": [
      "[I 2023-08-07 02:12:16,348] Trial 220 finished with value: 0.4926085071785598 and parameters: {'N_ensemble_configurations': 68, 'feature_shift_decoder': False}. Best is trial 65 with value: 0.46034804817416475.\n"
     ]
    },
    {
     "name": "stdout",
     "output_type": "stream",
     "text": [
      "!! Warning: GPyTorch must be installed !!\n",
      "Using style prior: True\n",
      "Using cuda device\n",
      "Using a Transformer with 25.82 M parameters\n"
     ]
    },
    {
     "name": "stderr",
     "output_type": "stream",
     "text": [
      "[I 2023-08-07 02:12:18,127] Trial 221 finished with value: 0.4842733788286042 and parameters: {'N_ensemble_configurations': 4, 'feature_shift_decoder': False}. Best is trial 65 with value: 0.46034804817416475.\n"
     ]
    },
    {
     "name": "stdout",
     "output_type": "stream",
     "text": [
      "!! Warning: GPyTorch must be installed !!\n",
      "Using style prior: True\n",
      "Using cuda device\n",
      "Using a Transformer with 25.82 M parameters\n"
     ]
    },
    {
     "name": "stderr",
     "output_type": "stream",
     "text": [
      "[I 2023-08-07 02:12:19,216] Trial 222 finished with value: 0.4912173373370863 and parameters: {'N_ensemble_configurations': 48, 'feature_shift_decoder': False}. Best is trial 65 with value: 0.46034804817416475.\n"
     ]
    },
    {
     "name": "stdout",
     "output_type": "stream",
     "text": [
      "!! Warning: GPyTorch must be installed !!\n",
      "Using style prior: True\n",
      "Using cuda device\n",
      "Using a Transformer with 25.82 M parameters\n"
     ]
    },
    {
     "name": "stderr",
     "output_type": "stream",
     "text": [
      "[I 2023-08-07 02:12:20,319] Trial 223 finished with value: 0.4870338012216623 and parameters: {'N_ensemble_configurations': 56, 'feature_shift_decoder': False}. Best is trial 65 with value: 0.46034804817416475.\n"
     ]
    },
    {
     "name": "stdout",
     "output_type": "stream",
     "text": [
      "!! Warning: GPyTorch must be installed !!\n",
      "Using style prior: True\n",
      "Using cuda device\n",
      "Using a Transformer with 25.82 M parameters\n"
     ]
    },
    {
     "name": "stderr",
     "output_type": "stream",
     "text": [
      "[I 2023-08-07 02:12:21,420] Trial 224 finished with value: 0.4895238476386907 and parameters: {'N_ensemble_configurations': 56, 'feature_shift_decoder': False}. Best is trial 65 with value: 0.46034804817416475.\n"
     ]
    },
    {
     "name": "stdout",
     "output_type": "stream",
     "text": [
      "!! Warning: GPyTorch must be installed !!\n",
      "Using style prior: True\n",
      "Using cuda device\n",
      "Using a Transformer with 25.82 M parameters\n"
     ]
    },
    {
     "name": "stderr",
     "output_type": "stream",
     "text": [
      "[I 2023-08-07 02:12:22,518] Trial 225 finished with value: 0.4857030578996203 and parameters: {'N_ensemble_configurations': 52, 'feature_shift_decoder': False}. Best is trial 65 with value: 0.46034804817416475.\n"
     ]
    },
    {
     "name": "stdout",
     "output_type": "stream",
     "text": [
      "!! Warning: GPyTorch must be installed !!\n",
      "Using style prior: True\n",
      "Using cuda device\n",
      "Using a Transformer with 25.82 M parameters\n"
     ]
    },
    {
     "name": "stderr",
     "output_type": "stream",
     "text": [
      "[I 2023-08-07 02:12:23,546] Trial 226 finished with value: 0.48394381876300196 and parameters: {'N_ensemble_configurations': 52, 'feature_shift_decoder': False}. Best is trial 65 with value: 0.46034804817416475.\n"
     ]
    },
    {
     "name": "stdout",
     "output_type": "stream",
     "text": [
      "!! Warning: GPyTorch must be installed !!\n",
      "Using style prior: True\n",
      "Using cuda device\n",
      "Using a Transformer with 25.82 M parameters\n"
     ]
    },
    {
     "name": "stderr",
     "output_type": "stream",
     "text": [
      "[I 2023-08-07 02:12:24,599] Trial 227 finished with value: 0.4750745170722729 and parameters: {'N_ensemble_configurations': 64, 'feature_shift_decoder': False}. Best is trial 65 with value: 0.46034804817416475.\n"
     ]
    },
    {
     "name": "stdout",
     "output_type": "stream",
     "text": [
      "!! Warning: GPyTorch must be installed !!\n",
      "Using style prior: True\n",
      "Using cuda device\n",
      "Using a Transformer with 25.82 M parameters\n"
     ]
    },
    {
     "name": "stderr",
     "output_type": "stream",
     "text": [
      "[I 2023-08-07 02:12:25,969] Trial 228 finished with value: 0.4857839222144855 and parameters: {'N_ensemble_configurations': 16, 'feature_shift_decoder': False}. Best is trial 65 with value: 0.46034804817416475.\n"
     ]
    },
    {
     "name": "stdout",
     "output_type": "stream",
     "text": [
      "!! Warning: GPyTorch must be installed !!\n",
      "Using style prior: True\n",
      "Using cuda device\n",
      "Using a Transformer with 25.82 M parameters\n"
     ]
    },
    {
     "name": "stderr",
     "output_type": "stream",
     "text": [
      "[I 2023-08-07 02:12:27,033] Trial 229 finished with value: 0.4762683544897272 and parameters: {'N_ensemble_configurations': 60, 'feature_shift_decoder': False}. Best is trial 65 with value: 0.46034804817416475.\n"
     ]
    },
    {
     "name": "stdout",
     "output_type": "stream",
     "text": [
      "!! Warning: GPyTorch must be installed !!\n",
      "Using style prior: True\n",
      "Using cuda device\n",
      "Using a Transformer with 25.82 M parameters\n"
     ]
    },
    {
     "name": "stderr",
     "output_type": "stream",
     "text": [
      "[I 2023-08-07 02:12:28,082] Trial 230 finished with value: 0.4829755924030388 and parameters: {'N_ensemble_configurations': 56, 'feature_shift_decoder': False}. Best is trial 65 with value: 0.46034804817416475.\n"
     ]
    },
    {
     "name": "stdout",
     "output_type": "stream",
     "text": [
      "!! Warning: GPyTorch must be installed !!\n",
      "Using style prior: True\n",
      "Using cuda device\n",
      "Using a Transformer with 25.82 M parameters\n"
     ]
    },
    {
     "name": "stderr",
     "output_type": "stream",
     "text": [
      "[I 2023-08-07 02:12:29,132] Trial 231 finished with value: 0.47565502839098306 and parameters: {'N_ensemble_configurations': 60, 'feature_shift_decoder': False}. Best is trial 65 with value: 0.46034804817416475.\n"
     ]
    },
    {
     "name": "stdout",
     "output_type": "stream",
     "text": [
      "!! Warning: GPyTorch must be installed !!\n",
      "Using style prior: True\n",
      "Using cuda device\n",
      "Using a Transformer with 25.82 M parameters\n"
     ]
    },
    {
     "name": "stderr",
     "output_type": "stream",
     "text": [
      "[I 2023-08-07 02:12:30,518] Trial 232 finished with value: 0.48385858096305806 and parameters: {'N_ensemble_configurations': 60, 'feature_shift_decoder': False}. Best is trial 65 with value: 0.46034804817416475.\n"
     ]
    },
    {
     "name": "stdout",
     "output_type": "stream",
     "text": [
      "!! Warning: GPyTorch must be installed !!\n",
      "Using style prior: True\n",
      "Using cuda device\n",
      "Using a Transformer with 25.82 M parameters\n"
     ]
    },
    {
     "name": "stderr",
     "output_type": "stream",
     "text": [
      "[I 2023-08-07 02:12:32,338] Trial 233 finished with value: 0.465357526165814 and parameters: {'N_ensemble_configurations': 64, 'feature_shift_decoder': False}. Best is trial 65 with value: 0.46034804817416475.\n"
     ]
    },
    {
     "name": "stdout",
     "output_type": "stream",
     "text": [
      "!! Warning: GPyTorch must be installed !!\n",
      "Using style prior: True\n",
      "Using cuda device\n",
      "Using a Transformer with 25.82 M parameters\n"
     ]
    },
    {
     "name": "stderr",
     "output_type": "stream",
     "text": [
      "[I 2023-08-07 02:12:34,094] Trial 234 finished with value: 0.4894194652919453 and parameters: {'N_ensemble_configurations': 64, 'feature_shift_decoder': False}. Best is trial 65 with value: 0.46034804817416475.\n"
     ]
    },
    {
     "name": "stdout",
     "output_type": "stream",
     "text": [
      "!! Warning: GPyTorch must be installed !!\n",
      "Using style prior: True\n",
      "Using cuda device\n",
      "Using a Transformer with 25.82 M parameters\n"
     ]
    },
    {
     "name": "stderr",
     "output_type": "stream",
     "text": [
      "[I 2023-08-07 02:12:35,497] Trial 235 finished with value: 0.48806476095629414 and parameters: {'N_ensemble_configurations': 68, 'feature_shift_decoder': False}. Best is trial 65 with value: 0.46034804817416475.\n"
     ]
    },
    {
     "name": "stdout",
     "output_type": "stream",
     "text": [
      "!! Warning: GPyTorch must be installed !!\n",
      "Using style prior: True\n",
      "Using cuda device\n",
      "Using a Transformer with 25.82 M parameters\n"
     ]
    },
    {
     "name": "stderr",
     "output_type": "stream",
     "text": [
      "[I 2023-08-07 02:12:36,955] Trial 236 finished with value: 0.4878222168818854 and parameters: {'N_ensemble_configurations': 64, 'feature_shift_decoder': False}. Best is trial 65 with value: 0.46034804817416475.\n"
     ]
    },
    {
     "name": "stdout",
     "output_type": "stream",
     "text": [
      "!! Warning: GPyTorch must be installed !!\n",
      "Using style prior: True\n",
      "Using cuda device\n",
      "Using a Transformer with 25.82 M parameters\n"
     ]
    },
    {
     "name": "stderr",
     "output_type": "stream",
     "text": [
      "[I 2023-08-07 02:12:38,583] Trial 237 finished with value: 0.49200325463667105 and parameters: {'N_ensemble_configurations': 72, 'feature_shift_decoder': False}. Best is trial 65 with value: 0.46034804817416475.\n"
     ]
    },
    {
     "name": "stdout",
     "output_type": "stream",
     "text": [
      "!! Warning: GPyTorch must be installed !!\n",
      "Using style prior: True\n",
      "Using cuda device\n",
      "Using a Transformer with 25.82 M parameters\n"
     ]
    },
    {
     "name": "stderr",
     "output_type": "stream",
     "text": [
      "[I 2023-08-07 02:12:40,140] Trial 238 finished with value: 0.4814564165713468 and parameters: {'N_ensemble_configurations': 76, 'feature_shift_decoder': False}. Best is trial 65 with value: 0.46034804817416475.\n"
     ]
    },
    {
     "name": "stdout",
     "output_type": "stream",
     "text": [
      "!! Warning: GPyTorch must be installed !!\n",
      "Using style prior: True\n",
      "Using cuda device\n",
      "Using a Transformer with 25.82 M parameters\n"
     ]
    },
    {
     "name": "stderr",
     "output_type": "stream",
     "text": [
      "[I 2023-08-07 02:12:42,801] Trial 239 finished with value: 0.48765991644784357 and parameters: {'N_ensemble_configurations': 56, 'feature_shift_decoder': True}. Best is trial 65 with value: 0.46034804817416475.\n"
     ]
    },
    {
     "name": "stdout",
     "output_type": "stream",
     "text": [
      "!! Warning: GPyTorch must be installed !!\n",
      "Using style prior: True\n",
      "Using cuda device\n",
      "Using a Transformer with 25.82 M parameters\n"
     ]
    },
    {
     "name": "stderr",
     "output_type": "stream",
     "text": [
      "[I 2023-08-07 02:12:44,322] Trial 240 finished with value: 0.48642543292128704 and parameters: {'N_ensemble_configurations': 64, 'feature_shift_decoder': False}. Best is trial 65 with value: 0.46034804817416475.\n"
     ]
    },
    {
     "name": "stdout",
     "output_type": "stream",
     "text": [
      "!! Warning: GPyTorch must be installed !!\n",
      "Using style prior: True\n",
      "Using cuda device\n",
      "Using a Transformer with 25.82 M parameters\n"
     ]
    },
    {
     "name": "stderr",
     "output_type": "stream",
     "text": [
      "[I 2023-08-07 02:12:46,062] Trial 241 finished with value: 0.4873065203384754 and parameters: {'N_ensemble_configurations': 60, 'feature_shift_decoder': False}. Best is trial 65 with value: 0.46034804817416475.\n"
     ]
    },
    {
     "name": "stdout",
     "output_type": "stream",
     "text": [
      "!! Warning: GPyTorch must be installed !!\n",
      "Using style prior: True\n",
      "Using cuda device\n",
      "Using a Transformer with 25.82 M parameters\n"
     ]
    },
    {
     "name": "stderr",
     "output_type": "stream",
     "text": [
      "[I 2023-08-07 02:12:47,206] Trial 242 finished with value: 0.4810059629692399 and parameters: {'N_ensemble_configurations': 52, 'feature_shift_decoder': False}. Best is trial 65 with value: 0.46034804817416475.\n"
     ]
    },
    {
     "name": "stdout",
     "output_type": "stream",
     "text": [
      "!! Warning: GPyTorch must be installed !!\n",
      "Using style prior: True\n",
      "Using cuda device\n",
      "Using a Transformer with 25.82 M parameters\n"
     ]
    },
    {
     "name": "stderr",
     "output_type": "stream",
     "text": [
      "[I 2023-08-07 02:12:48,494] Trial 243 finished with value: 0.4812210830580331 and parameters: {'N_ensemble_configurations': 64, 'feature_shift_decoder': False}. Best is trial 65 with value: 0.46034804817416475.\n"
     ]
    },
    {
     "name": "stdout",
     "output_type": "stream",
     "text": [
      "!! Warning: GPyTorch must be installed !!\n",
      "Using style prior: True\n",
      "Using cuda device\n",
      "Using a Transformer with 25.82 M parameters\n"
     ]
    },
    {
     "name": "stderr",
     "output_type": "stream",
     "text": [
      "[I 2023-08-07 02:12:49,643] Trial 244 finished with value: 0.4856042628463024 and parameters: {'N_ensemble_configurations': 56, 'feature_shift_decoder': False}. Best is trial 65 with value: 0.46034804817416475.\n"
     ]
    },
    {
     "name": "stdout",
     "output_type": "stream",
     "text": [
      "!! Warning: GPyTorch must be installed !!\n",
      "Using style prior: True\n",
      "Using cuda device\n",
      "Using a Transformer with 25.82 M parameters\n"
     ]
    },
    {
     "name": "stderr",
     "output_type": "stream",
     "text": [
      "[I 2023-08-07 02:12:50,816] Trial 245 finished with value: 0.4658992523841313 and parameters: {'N_ensemble_configurations': 60, 'feature_shift_decoder': False}. Best is trial 65 with value: 0.46034804817416475.\n"
     ]
    },
    {
     "name": "stdout",
     "output_type": "stream",
     "text": [
      "!! Warning: GPyTorch must be installed !!\n",
      "Using style prior: True\n",
      "Using cuda device\n",
      "Using a Transformer with 25.82 M parameters\n"
     ]
    },
    {
     "name": "stderr",
     "output_type": "stream",
     "text": [
      "[I 2023-08-07 02:12:51,912] Trial 246 finished with value: 0.4702313064127801 and parameters: {'N_ensemble_configurations': 60, 'feature_shift_decoder': False}. Best is trial 65 with value: 0.46034804817416475.\n"
     ]
    },
    {
     "name": "stdout",
     "output_type": "stream",
     "text": [
      "!! Warning: GPyTorch must be installed !!\n",
      "Using style prior: True\n",
      "Using cuda device\n",
      "Using a Transformer with 25.82 M parameters\n"
     ]
    },
    {
     "name": "stderr",
     "output_type": "stream",
     "text": [
      "[I 2023-08-07 02:12:52,972] Trial 247 finished with value: 0.49258066689595237 and parameters: {'N_ensemble_configurations': 60, 'feature_shift_decoder': False}. Best is trial 65 with value: 0.46034804817416475.\n"
     ]
    },
    {
     "name": "stdout",
     "output_type": "stream",
     "text": [
      "!! Warning: GPyTorch must be installed !!\n",
      "Using style prior: True\n",
      "Using cuda device\n",
      "Using a Transformer with 25.82 M parameters\n"
     ]
    },
    {
     "name": "stderr",
     "output_type": "stream",
     "text": [
      "[I 2023-08-07 02:12:54,027] Trial 248 finished with value: 0.4850113377045087 and parameters: {'N_ensemble_configurations': 60, 'feature_shift_decoder': False}. Best is trial 65 with value: 0.46034804817416475.\n"
     ]
    },
    {
     "name": "stdout",
     "output_type": "stream",
     "text": [
      "!! Warning: GPyTorch must be installed !!\n",
      "Using style prior: True\n",
      "Using cuda device\n",
      "Using a Transformer with 25.82 M parameters\n"
     ]
    },
    {
     "name": "stderr",
     "output_type": "stream",
     "text": [
      "[I 2023-08-07 02:12:55,091] Trial 249 finished with value: 0.4730577844283935 and parameters: {'N_ensemble_configurations': 68, 'feature_shift_decoder': False}. Best is trial 65 with value: 0.46034804817416475.\n"
     ]
    }
   ],
   "source": [
    "study = optuna.create_study(\n",
    "    direction=\"minimize\",\n",
    "    study_name=\"tabpfn_resample\",\n",
    "    storage=\"sqlite:////storage/optuna-final.db\",\n",
    "    load_if_exists=True,\n",
    ")\n",
    "study.optimize(objective, n_trials=250)"
   ]
  },
  {
   "cell_type": "code",
   "execution_count": null,
   "metadata": {},
   "outputs": [],
   "source": []
  }
 ],
 "metadata": {
  "kernelspec": {
   "display_name": "Python 3 (ipykernel)",
   "language": "python",
   "name": "python3"
  },
  "language_info": {
   "codemirror_mode": {
    "name": "ipython",
    "version": 3
   },
   "file_extension": ".py",
   "mimetype": "text/x-python",
   "name": "python",
   "nbconvert_exporter": "python",
   "pygments_lexer": "ipython3",
   "version": "3.9.16"
  },
  "orig_nbformat": 4
 },
 "nbformat": 4,
 "nbformat_minor": 2
}
