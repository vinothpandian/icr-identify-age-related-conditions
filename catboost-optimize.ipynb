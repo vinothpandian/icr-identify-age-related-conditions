{
 "cells": [
  {
   "cell_type": "code",
   "execution_count": 8,
   "id": "7dc1617a",
   "metadata": {
    "execution": {
     "iopub.execute_input": "2023-07-17T22:45:33.962583Z",
     "iopub.status.busy": "2023-07-17T22:45:33.962257Z",
     "iopub.status.idle": "2023-07-17T22:45:39.997850Z",
     "shell.execute_reply": "2023-07-17T22:45:39.997140Z"
    },
    "papermill": {
     "duration": 6.04416,
     "end_time": "2023-07-17T22:45:40.000222",
     "exception": false,
     "start_time": "2023-07-17T22:45:33.956062",
     "status": "completed"
    },
    "tags": [],
    "ExecuteTime": {
     "end_time": "2023-08-06T21:54:50.676217Z",
     "start_time": "2023-08-06T21:54:50.621860Z"
    }
   },
   "outputs": [],
   "source": [
    "from pathlib import Path\n",
    "import optuna\n",
    "from fastai.tabular.core import cont_cat_split\n",
    "import pandas as pd\n",
    "from sklearn import compose, impute, pipeline, preprocessing, model_selection\n",
    "import numpy as np\n",
    "from sklearn import metrics\n",
    "from catboost import CatBoostClassifier\n",
    "\n",
    "path = Path(\"./data\")\n",
    "output_path = Path(\"./output\")"
   ]
  },
  {
   "cell_type": "code",
   "execution_count": 9,
   "outputs": [],
   "source": [
    "import warnings\n",
    "# ignore UserWarning\n",
    "warnings.filterwarnings(\"ignore\", category=UserWarning)"
   ],
   "metadata": {
    "collapsed": false,
    "ExecuteTime": {
     "end_time": "2023-08-06T21:54:50.677608Z",
     "start_time": "2023-08-06T21:54:50.622830Z"
    }
   },
   "id": "198ce51797a95d63"
  },
  {
   "cell_type": "code",
   "execution_count": 10,
   "id": "7db35e0d",
   "metadata": {
    "execution": {
     "iopub.execute_input": "2023-07-17T22:45:40.010730Z",
     "iopub.status.busy": "2023-07-17T22:45:40.009926Z",
     "iopub.status.idle": "2023-07-17T22:45:40.015497Z",
     "shell.execute_reply": "2023-07-17T22:45:40.014087Z"
    },
    "papermill": {
     "duration": 0.013681,
     "end_time": "2023-07-17T22:45:40.018353",
     "exception": false,
     "start_time": "2023-07-17T22:45:40.004672",
     "status": "completed"
    },
    "tags": [],
    "ExecuteTime": {
     "end_time": "2023-08-06T21:54:50.677756Z",
     "start_time": "2023-08-06T21:54:50.633459Z"
    }
   },
   "outputs": [],
   "source": [
    "def balanced_log_loss(y_true, y_pred):\n",
    "    nc = np.bincount(y_true)\n",
    "    return metrics.log_loss(y_true, y_pred, sample_weight=1 / nc[y_true], eps=1e-15)\n",
    "\n",
    "\n",
    "class BalancedLogLossMetric:\n",
    "    def get_final_error(self, error, weight):\n",
    "        return error / weight\n",
    "\n",
    "    def is_max_optimal(self):\n",
    "        return False\n",
    "\n",
    "    def evaluate(self, approxes, target, weight):\n",
    "        y_true = np.array(target).astype(int)\n",
    "        y_pred = np.array(approxes[0])\n",
    "        nc = np.bincount(y_true)\n",
    "        balanced_logloss = metrics.log_loss(y_true, y_pred, sample_weight=1 / nc[y_true], eps=1e-15)\n",
    "        return balanced_logloss, 1.0"
   ]
  },
  {
   "cell_type": "code",
   "execution_count": 11,
   "id": "7b9a3c31",
   "metadata": {
    "execution": {
     "iopub.execute_input": "2023-07-17T22:45:40.028673Z",
     "iopub.status.busy": "2023-07-17T22:45:40.028345Z",
     "iopub.status.idle": "2023-07-17T22:45:40.070063Z",
     "shell.execute_reply": "2023-07-17T22:45:40.068323Z"
    },
    "papermill": {
     "duration": 0.049668,
     "end_time": "2023-07-17T22:45:40.072386",
     "exception": false,
     "start_time": "2023-07-17T22:45:40.022718",
     "status": "completed"
    },
    "tags": [],
    "ExecuteTime": {
     "end_time": "2023-08-06T21:54:50.740196Z",
     "start_time": "2023-08-06T21:54:50.644694Z"
    }
   },
   "outputs": [],
   "source": [
    "def get_tree_preprocess_pipeline():\n",
    "    return pipeline.make_pipeline(\n",
    "        impute.KNNImputer(n_neighbors=10, weights=\"distance\"),\n",
    "    ).set_output(transform=\"pandas\")\n",
    "\n",
    "\n",
    "# Load data\n",
    "\n",
    "df = pd.read_csv(path / \"train.csv\", index_col=\"Id\")\n",
    "dep_vars = [\"Class\"]\n",
    "\n",
    "drop_vars = [\"EJ\"]\n",
    "df.drop(columns=drop_vars, inplace=True)\n",
    "\n",
    "train_df, test_df = model_selection.train_test_split(df, test_size=0.4, stratify=df[dep_vars], random_state=33)\n",
    "\n",
    "preprocessor = get_tree_preprocess_pipeline()\n",
    "\n",
    "# Preprocess training data\n",
    "X_pre = preprocessor.fit_transform(train_df.drop(columns=dep_vars))\n",
    "train_df = pd.merge(X_pre, train_df[dep_vars], left_index=True, right_index=True)\n",
    "X = train_df.drop(columns=dep_vars, errors=\"ignore\")\n",
    "y = train_df[dep_vars]\n",
    "\n",
    "# Preprocess test data\n",
    "X_test_pre = preprocessor.transform(test_df.drop(columns=dep_vars))\n",
    "test_df = pd.merge(X_test_pre, test_df[dep_vars], left_index=True, right_index=True)\n",
    "X_test = test_df.drop(columns=dep_vars, errors=\"ignore\")\n",
    "y_test = test_df[dep_vars]\n",
    "\n",
    "# Calculate scale_pos_weight\n",
    "scale_pos_weight = df['Class'].value_counts()[0] / df['Class'].value_counts()[1]"
   ]
  },
  {
   "cell_type": "code",
   "execution_count": 12,
   "id": "9ea4877e",
   "metadata": {
    "ExecuteTime": {
     "end_time": "2023-08-06T21:54:50.741867Z",
     "start_time": "2023-08-06T21:54:50.694989Z"
    }
   },
   "outputs": [],
   "source": [
    "# Resample\n",
    "from imblearn.over_sampling import SMOTE\n",
    "\n",
    "\n",
    "def resample(X, y):\n",
    "    sampler = SMOTE()\n",
    "    X_res, y_res = sampler.fit_resample(X, y)\n",
    "    return X_res, y_res"
   ]
  },
  {
   "cell_type": "markdown",
   "id": "ebbf26c4d3fadc1c",
   "metadata": {
    "collapsed": false
   },
   "source": [
    "\n",
    "# Optimize"
   ]
  },
  {
   "cell_type": "code",
   "execution_count": 13,
   "id": "57032c8b91f6e020",
   "metadata": {
    "collapsed": false,
    "ExecuteTime": {
     "end_time": "2023-08-06T21:54:50.742198Z",
     "start_time": "2023-08-06T21:54:50.704694Z"
    }
   },
   "outputs": [],
   "source": [
    "def objective(trial):\n",
    "    params = dict(\n",
    "        iterations=trial.suggest_int(\"iterations\", 550, 650, step=50),\n",
    "        learning_rate=trial.suggest_float(\"learning_rate\", 0.02, 0.05, log=True),\n",
    "        l2_leaf_reg=trial.suggest_float(\"l2_leaf_reg\", 5.0, 6.0, step=0.1),\n",
    "        depth=trial.suggest_int(\"depth\", 3, 4),\n",
    "        random_strength=trial.suggest_float(\"random_strength\", 30.0, 75.0, step=5.0),\n",
    "        border_count=trial.suggest_int(\"border_count\", 1, 75),\n",
    "        bagging_temperature=trial.suggest_float(\"bagging_temperature\", 0.0, 0.5, step=0.1),\n",
    "        grow_policy=\"SymmetricTree\",\n",
    "        verbose=0,\n",
    "        scale_pos_weight=scale_pos_weight,\n",
    "    )\n",
    "\n",
    "    model = CatBoostClassifier(**params, eval_metric=BalancedLogLossMetric())\n",
    "\n",
    "    skf = model_selection.RepeatedStratifiedKFold(n_splits=5, n_repeats=2)\n",
    "\n",
    "    val_loss_list = []\n",
    "\n",
    "    for i, (train_idx, val_idx) in enumerate(skf.split(X, y)):\n",
    "        X_train = X.iloc[train_idx]\n",
    "        y_train = y.iloc[train_idx].values.ravel()\n",
    "\n",
    "        X_val = X.iloc[val_idx]\n",
    "        y_val = y.iloc[val_idx].values.ravel()\n",
    "\n",
    "        # X_res, y_res = resample(X_train, y_train)\n",
    "        # model.fit(X_res, y_res, eval_metric=balanced_log_loss)\n",
    "\n",
    "        model.fit(X_train, y_train)\n",
    "\n",
    "        val_preds = model.predict_proba(X_val)\n",
    "        val_loss = balanced_log_loss(y_val, val_preds)\n",
    "\n",
    "        val_loss_list.append(val_loss)\n",
    "\n",
    "    test_preds = model.predict_proba(X_test)\n",
    "    test_loss = balanced_log_loss(y_test.values.ravel(), test_preds)\n",
    "    mean_val_loss = np.mean(val_loss_list)\n",
    "\n",
    "    return test_loss, test_loss - mean_val_loss"
   ]
  },
  {
   "cell_type": "code",
   "execution_count": 16,
   "id": "db16d0793497b27e",
   "metadata": {
    "collapsed": false,
    "ExecuteTime": {
     "end_time": "2023-08-06T21:55:11.326791Z",
     "start_time": "2023-08-06T21:55:10.974399Z"
    }
   },
   "outputs": [],
   "source": [
    "# optuna.delete_study(\n",
    "#     study_name=\"catboost_no_categorical_no_resample\",\n",
    "#     storage=\"sqlite:////storage/optuna-final.db\",\n",
    "# ) "
   ]
  },
  {
   "cell_type": "code",
   "execution_count": null,
   "id": "86a69465",
   "metadata": {
    "papermill": {
     "duration": 0.004675,
     "end_time": "2023-07-17T22:46:10.785882",
     "exception": false,
     "start_time": "2023-07-17T22:46:10.781207",
     "status": "completed"
    },
    "tags": [],
    "is_executing": true,
    "ExecuteTime": {
     "start_time": "2023-08-06T21:55:15.345474Z"
    }
   },
   "outputs": [
    {
     "name": "stderr",
     "output_type": "stream",
     "text": [
      "[I 2023-08-06 21:55:15,451] A new study created in RDB with name: catboost_no_categorical_no_resample\n",
      "[I 2023-08-06 21:55:32,193] Trial 0 finished with values: [0.3938893783929825, -0.009228330292742337] and parameters: {'bagging_temperature': 0.2, 'border_count': 66, 'depth': 4, 'iterations': 650, 'l2_leaf_reg': 5.8, 'learning_rate': 0.03495018647309725, 'random_strength': 75.0}. \n",
      "[I 2023-08-06 21:55:46,015] Trial 1 finished with values: [0.3230229015473937, -0.03820190500082438] and parameters: {'bagging_temperature': 0.5, 'border_count': 32, 'depth': 3, 'iterations': 600, 'l2_leaf_reg': 5.1, 'learning_rate': 0.04228807098883717, 'random_strength': 45.0}. \n",
      "[I 2023-08-06 21:55:59,528] Trial 2 finished with values: [0.3668901703025941, 0.004399347385294072] and parameters: {'bagging_temperature': 0.1, 'border_count': 28, 'depth': 3, 'iterations': 600, 'l2_leaf_reg': 5.5, 'learning_rate': 0.026712283671114233, 'random_strength': 35.0}. \n",
      "[I 2023-08-06 21:56:12,011] Trial 3 finished with values: [0.39830758539358735, 0.006707952716047516] and parameters: {'bagging_temperature': 0.5, 'border_count': 4, 'depth': 4, 'iterations': 550, 'l2_leaf_reg': 6.0, 'learning_rate': 0.031721632296837554, 'random_strength': 60.0}. \n",
      "[I 2023-08-06 21:56:27,880] Trial 4 finished with values: [0.33959211179278487, -0.028095251596380877] and parameters: {'bagging_temperature': 0.2, 'border_count': 56, 'depth': 4, 'iterations': 650, 'l2_leaf_reg': 5.2, 'learning_rate': 0.02022743828600576, 'random_strength': 55.0}. \n",
      "[I 2023-08-06 21:56:42,799] Trial 5 finished with values: [0.4095055986389583, 0.006508144371190405] and parameters: {'bagging_temperature': 0.5, 'border_count': 33, 'depth': 3, 'iterations': 650, 'l2_leaf_reg': 5.9, 'learning_rate': 0.04083426594295661, 'random_strength': 70.0}. \n",
      "[I 2023-08-06 21:56:57,019] Trial 6 finished with values: [0.43899336843599146, 0.007436019712743658] and parameters: {'bagging_temperature': 0.0, 'border_count': 57, 'depth': 3, 'iterations': 600, 'l2_leaf_reg': 5.0, 'learning_rate': 0.03786877601926576, 'random_strength': 30.0}. \n",
      "[I 2023-08-06 21:57:15,726] Trial 7 finished with values: [0.48772739426255207, 0.08001703314668618] and parameters: {'bagging_temperature': 0.2, 'border_count': 64, 'depth': 4, 'iterations': 600, 'l2_leaf_reg': 5.3, 'learning_rate': 0.04189277685497357, 'random_strength': 75.0}. \n",
      "[I 2023-08-06 21:57:30,255] Trial 8 finished with values: [0.3674917067363909, -0.058569237905680305] and parameters: {'bagging_temperature': 0.5, 'border_count': 9, 'depth': 4, 'iterations': 550, 'l2_leaf_reg': 5.6, 'learning_rate': 0.03560243459841918, 'random_strength': 60.0}. \n",
      "[I 2023-08-06 21:57:44,653] Trial 9 finished with values: [0.3311196781362055, -0.05004857509369287] and parameters: {'bagging_temperature': 0.1, 'border_count': 37, 'depth': 3, 'iterations': 600, 'l2_leaf_reg': 5.2, 'learning_rate': 0.04981643491062834, 'random_strength': 45.0}. \n",
      "[I 2023-08-06 21:57:59,849] Trial 10 finished with values: [0.3702350596574882, -0.053177484667899455] and parameters: {'bagging_temperature': 0.5, 'border_count': 74, 'depth': 4, 'iterations': 600, 'l2_leaf_reg': 5.1, 'learning_rate': 0.03885807947862777, 'random_strength': 50.0}. \n",
      "[I 2023-08-06 21:58:12,320] Trial 11 finished with values: [0.33841358625077217, -0.017723940515307846] and parameters: {'bagging_temperature': 0.1, 'border_count': 58, 'depth': 3, 'iterations': 550, 'l2_leaf_reg': 5.5, 'learning_rate': 0.03126468250742704, 'random_strength': 55.0}. \n",
      "[I 2023-08-06 21:58:25,405] Trial 12 finished with values: [0.32398028104956217, -0.017333429755364838] and parameters: {'bagging_temperature': 0.2, 'border_count': 17, 'depth': 3, 'iterations': 550, 'l2_leaf_reg': 5.0, 'learning_rate': 0.025225785863575066, 'random_strength': 45.0}. \n",
      "[I 2023-08-06 21:58:40,958] Trial 13 finished with values: [0.3669654067300354, -0.05161981004292998] and parameters: {'bagging_temperature': 0.30000000000000004, 'border_count': 48, 'depth': 3, 'iterations': 600, 'l2_leaf_reg': 5.8, 'learning_rate': 0.045212443015025965, 'random_strength': 55.0}. \n",
      "[I 2023-08-06 21:58:54,847] Trial 14 finished with values: [0.4303717678599418, 0.07969914152487134] and parameters: {'bagging_temperature': 0.4, 'border_count': 61, 'depth': 3, 'iterations': 600, 'l2_leaf_reg': 5.6, 'learning_rate': 0.033546168020654965, 'random_strength': 50.0}. \n",
      "[I 2023-08-06 21:59:08,186] Trial 15 finished with values: [0.41263442617921503, 0.0463538897809157] and parameters: {'bagging_temperature': 0.1, 'border_count': 40, 'depth': 3, 'iterations': 600, 'l2_leaf_reg': 5.8, 'learning_rate': 0.04092533561001187, 'random_strength': 30.0}. \n",
      "[I 2023-08-06 21:59:20,843] Trial 16 finished with values: [0.4234693112412369, 0.03468089069284236] and parameters: {'bagging_temperature': 0.30000000000000004, 'border_count': 40, 'depth': 3, 'iterations': 550, 'l2_leaf_reg': 5.5, 'learning_rate': 0.0470995844118429, 'random_strength': 65.0}. \n",
      "[I 2023-08-06 21:59:36,250] Trial 17 finished with values: [0.3314718932202919, 0.010776694440800316] and parameters: {'bagging_temperature': 0.4, 'border_count': 69, 'depth': 3, 'iterations': 650, 'l2_leaf_reg': 5.0, 'learning_rate': 0.02357195007099075, 'random_strength': 40.0}. \n",
      "[I 2023-08-06 21:59:51,422] Trial 18 finished with values: [0.39964182648739766, 0.006963405818699531] and parameters: {'bagging_temperature': 0.0, 'border_count': 64, 'depth': 4, 'iterations': 600, 'l2_leaf_reg': 5.8, 'learning_rate': 0.026248703807152978, 'random_strength': 55.0}. \n",
      "[I 2023-08-06 22:00:04,602] Trial 19 finished with values: [0.40247822007237494, 0.04997426435500513] and parameters: {'bagging_temperature': 0.5, 'border_count': 7, 'depth': 3, 'iterations': 600, 'l2_leaf_reg': 5.0, 'learning_rate': 0.0302809236158417, 'random_strength': 45.0}. \n",
      "[I 2023-08-06 22:00:19,045] Trial 20 finished with values: [0.3885923386616736, -0.049235609709626815] and parameters: {'bagging_temperature': 0.1, 'border_count': 25, 'depth': 4, 'iterations': 600, 'l2_leaf_reg': 6.0, 'learning_rate': 0.04191038973960004, 'random_strength': 50.0}. \n",
      "[I 2023-08-06 22:00:33,380] Trial 21 finished with values: [0.3919524977996745, -0.0002801483952346584] and parameters: {'bagging_temperature': 0.5, 'border_count': 13, 'depth': 4, 'iterations': 600, 'l2_leaf_reg': 5.3, 'learning_rate': 0.021053145671376665, 'random_strength': 35.0}. \n",
      "[I 2023-08-06 22:00:48,335] Trial 22 finished with values: [0.47495543376059485, 0.09356718042326734] and parameters: {'bagging_temperature': 0.4, 'border_count': 68, 'depth': 4, 'iterations': 550, 'l2_leaf_reg': 5.1, 'learning_rate': 0.037593564146633986, 'random_strength': 35.0}. \n",
      "[I 2023-08-06 22:01:01,422] Trial 23 finished with values: [0.34088020279749237, -0.028378885994368053] and parameters: {'bagging_temperature': 0.4, 'border_count': 67, 'depth': 3, 'iterations': 550, 'l2_leaf_reg': 5.8, 'learning_rate': 0.03136301810550405, 'random_strength': 75.0}. \n",
      "[I 2023-08-06 22:01:16,517] Trial 24 finished with values: [0.40374951048174934, 0.047027889761660724] and parameters: {'bagging_temperature': 0.30000000000000004, 'border_count': 68, 'depth': 4, 'iterations': 600, 'l2_leaf_reg': 5.9, 'learning_rate': 0.026881075435197556, 'random_strength': 75.0}. \n",
      "[I 2023-08-06 22:01:32,567] Trial 25 finished with values: [0.4349750084997743, 0.035661063345432065] and parameters: {'bagging_temperature': 0.4, 'border_count': 44, 'depth': 4, 'iterations': 650, 'l2_leaf_reg': 5.1, 'learning_rate': 0.03111955034446078, 'random_strength': 50.0}. \n",
      "[I 2023-08-06 22:01:46,839] Trial 26 finished with values: [0.3337274506766657, -0.06561344388520246] and parameters: {'bagging_temperature': 0.5, 'border_count': 35, 'depth': 3, 'iterations': 650, 'l2_leaf_reg': 5.6, 'learning_rate': 0.04750098481768322, 'random_strength': 35.0}. \n",
      "[I 2023-08-06 22:02:01,700] Trial 27 finished with values: [0.41905622730858083, 0.011866255354966215] and parameters: {'bagging_temperature': 0.5, 'border_count': 46, 'depth': 4, 'iterations': 600, 'l2_leaf_reg': 5.4, 'learning_rate': 0.04814508632642722, 'random_strength': 65.0}. \n",
      "[I 2023-08-06 22:02:16,805] Trial 28 finished with values: [0.5016370604713498, 0.08212004064461986] and parameters: {'bagging_temperature': 0.2, 'border_count': 20, 'depth': 4, 'iterations': 650, 'l2_leaf_reg': 5.2, 'learning_rate': 0.03630645629447959, 'random_strength': 60.0}. \n",
      "[I 2023-08-06 22:02:30,452] Trial 29 finished with values: [0.32507310415445223, -0.020511413408726753] and parameters: {'bagging_temperature': 0.5, 'border_count': 43, 'depth': 4, 'iterations': 550, 'l2_leaf_reg': 5.9, 'learning_rate': 0.029813454402576864, 'random_strength': 45.0}. \n",
      "[I 2023-08-06 22:02:44,435] Trial 30 finished with values: [0.3603029479830409, -0.06188161462342606] and parameters: {'bagging_temperature': 0.2, 'border_count': 55, 'depth': 4, 'iterations': 550, 'l2_leaf_reg': 5.2, 'learning_rate': 0.048868467864211895, 'random_strength': 60.0}. \n",
      "[I 2023-08-06 22:02:58,543] Trial 31 finished with values: [0.3814215227448451, -0.015804460763546857] and parameters: {'bagging_temperature': 0.4, 'border_count': 8, 'depth': 3, 'iterations': 650, 'l2_leaf_reg': 5.9, 'learning_rate': 0.04220980941324756, 'random_strength': 35.0}. \n",
      "[I 2023-08-06 22:03:12,260] Trial 32 finished with values: [0.3655270879562312, 0.017779603656686793] and parameters: {'bagging_temperature': 0.0, 'border_count': 35, 'depth': 3, 'iterations': 600, 'l2_leaf_reg': 5.9, 'learning_rate': 0.04539931033998058, 'random_strength': 30.0}. \n",
      "[I 2023-08-06 22:03:27,113] Trial 33 finished with values: [0.4081462894643767, -0.0063619916812867605] and parameters: {'bagging_temperature': 0.30000000000000004, 'border_count': 22, 'depth': 4, 'iterations': 650, 'l2_leaf_reg': 5.3, 'learning_rate': 0.04185183101682984, 'random_strength': 65.0}. \n",
      "[I 2023-08-06 22:03:39,988] Trial 34 finished with values: [0.43835210971494, 0.007067392251619731] and parameters: {'bagging_temperature': 0.2, 'border_count': 2, 'depth': 4, 'iterations': 550, 'l2_leaf_reg': 5.8, 'learning_rate': 0.04482975987440258, 'random_strength': 55.0}. \n",
      "[I 2023-08-06 22:03:53,070] Trial 35 finished with values: [0.38634502281264255, -0.0023331763613845813] and parameters: {'bagging_temperature': 0.1, 'border_count': 52, 'depth': 3, 'iterations': 550, 'l2_leaf_reg': 5.6, 'learning_rate': 0.0389861358976773, 'random_strength': 70.0}. \n",
      "[I 2023-08-06 22:04:08,128] Trial 36 finished with values: [0.3444048619450623, -0.04373833156147061] and parameters: {'bagging_temperature': 0.1, 'border_count': 63, 'depth': 4, 'iterations': 600, 'l2_leaf_reg': 5.1, 'learning_rate': 0.0364762669442496, 'random_strength': 40.0}. \n",
      "[I 2023-08-06 22:04:22,325] Trial 37 finished with values: [0.38568234353208647, 0.0023747930735025236] and parameters: {'bagging_temperature': 0.5, 'border_count': 4, 'depth': 4, 'iterations': 650, 'l2_leaf_reg': 5.7, 'learning_rate': 0.02812906383779215, 'random_strength': 70.0}. \n",
      "[I 2023-08-06 22:04:36,200] Trial 38 finished with values: [0.32916262079911923, -0.014579360564907162] and parameters: {'bagging_temperature': 0.1, 'border_count': 42, 'depth': 3, 'iterations': 600, 'l2_leaf_reg': 5.3, 'learning_rate': 0.024362870383912424, 'random_strength': 65.0}. \n",
      "[I 2023-08-06 22:04:52,862] Trial 39 finished with values: [0.34338556820889826, -0.018864585298170033] and parameters: {'bagging_temperature': 0.1, 'border_count': 68, 'depth': 4, 'iterations': 650, 'l2_leaf_reg': 5.9, 'learning_rate': 0.0211242278950243, 'random_strength': 70.0}. \n",
      "[I 2023-08-06 22:05:05,520] Trial 40 finished with values: [0.33382294393055517, -0.04786775504293689] and parameters: {'bagging_temperature': 0.1, 'border_count': 10, 'depth': 4, 'iterations': 550, 'l2_leaf_reg': 5.2, 'learning_rate': 0.030738727854970737, 'random_strength': 75.0}. \n",
      "[I 2023-08-06 22:05:20,082] Trial 41 finished with values: [0.3459552315251467, -0.054249091680407036] and parameters: {'bagging_temperature': 0.30000000000000004, 'border_count': 30, 'depth': 3, 'iterations': 650, 'l2_leaf_reg': 5.9, 'learning_rate': 0.042213198248695905, 'random_strength': 50.0}. \n",
      "[I 2023-08-06 22:05:31,873] Trial 42 finished with values: [0.3975293850779622, 0.016438433242146222] and parameters: {'bagging_temperature': 0.30000000000000004, 'border_count': 9, 'depth': 3, 'iterations': 550, 'l2_leaf_reg': 5.1, 'learning_rate': 0.037359093925668274, 'random_strength': 40.0}. \n",
      "[I 2023-08-06 22:05:43,868] Trial 43 finished with values: [0.3429167546524958, -0.025059069835546788] and parameters: {'bagging_temperature': 0.2, 'border_count': 16, 'depth': 3, 'iterations': 550, 'l2_leaf_reg': 5.2, 'learning_rate': 0.023598201693356954, 'random_strength': 35.0}. \n",
      "[I 2023-08-06 22:05:57,678] Trial 44 finished with values: [0.3670868893644958, 0.010125535824815068] and parameters: {'bagging_temperature': 0.5, 'border_count': 70, 'depth': 4, 'iterations': 550, 'l2_leaf_reg': 5.6, 'learning_rate': 0.028401922745986154, 'random_strength': 35.0}. \n",
      "[I 2023-08-06 22:06:11,308] Trial 45 finished with values: [0.38949094263315165, 0.03289997274213785] and parameters: {'bagging_temperature': 0.5, 'border_count': 73, 'depth': 3, 'iterations': 600, 'l2_leaf_reg': 5.8, 'learning_rate': 0.028605750886593867, 'random_strength': 40.0}. \n",
      "[I 2023-08-06 22:06:24,453] Trial 46 finished with values: [0.3966401207873988, 0.04538543203547407] and parameters: {'bagging_temperature': 0.0, 'border_count': 29, 'depth': 4, 'iterations': 550, 'l2_leaf_reg': 5.5, 'learning_rate': 0.024655422375033684, 'random_strength': 50.0}. \n",
      "[I 2023-08-06 22:06:40,100] Trial 47 finished with values: [0.3211569048550587, -0.046898460974550416] and parameters: {'bagging_temperature': 0.30000000000000004, 'border_count': 40, 'depth': 4, 'iterations': 650, 'l2_leaf_reg': 5.9, 'learning_rate': 0.023630386519631168, 'random_strength': 45.0}. \n",
      "[I 2023-08-06 22:06:54,581] Trial 48 finished with values: [0.401452393092776, -0.02555421938382363] and parameters: {'bagging_temperature': 0.4, 'border_count': 40, 'depth': 4, 'iterations': 600, 'l2_leaf_reg': 5.1, 'learning_rate': 0.046263766438621415, 'random_strength': 40.0}. \n",
      "[I 2023-08-06 22:07:09,590] Trial 49 finished with values: [0.3559924411341603, -0.04646151816956706] and parameters: {'bagging_temperature': 0.5, 'border_count': 64, 'depth': 4, 'iterations': 600, 'l2_leaf_reg': 5.5, 'learning_rate': 0.026076871917200924, 'random_strength': 70.0}. \n",
      "[I 2023-08-06 22:07:23,480] Trial 50 finished with values: [0.3390588338848997, -0.007521437843234335] and parameters: {'bagging_temperature': 0.1, 'border_count': 8, 'depth': 3, 'iterations': 650, 'l2_leaf_reg': 5.2, 'learning_rate': 0.02022743828600576, 'random_strength': 55.0}. \n",
      "[I 2023-08-06 22:07:39,619] Trial 51 finished with values: [0.34956572384989887, -0.018448774954304636] and parameters: {'bagging_temperature': 0.30000000000000004, 'border_count': 64, 'depth': 4, 'iterations': 650, 'l2_leaf_reg': 5.9, 'learning_rate': 0.023630386519631168, 'random_strength': 55.0}. \n",
      "[I 2023-08-06 22:07:52,964] Trial 52 finished with values: [0.44917443571500293, 0.054689061147977114] and parameters: {'bagging_temperature': 0.2, 'border_count': 55, 'depth': 4, 'iterations': 550, 'l2_leaf_reg': 5.2, 'learning_rate': 0.048868467864211895, 'random_strength': 60.0}. \n",
      "[I 2023-08-06 22:08:05,968] Trial 53 finished with values: [0.3675981260880841, -0.017596779122254935] and parameters: {'bagging_temperature': 0.1, 'border_count': 10, 'depth': 4, 'iterations': 550, 'l2_leaf_reg': 5.2, 'learning_rate': 0.04814508632642722, 'random_strength': 65.0}. \n",
      "[I 2023-08-06 22:08:23,523] Trial 54 finished with values: [0.37617758002107565, -0.010025193222724771] and parameters: {'bagging_temperature': 0.1, 'border_count': 64, 'depth': 4, 'iterations': 600, 'l2_leaf_reg': 5.3, 'learning_rate': 0.030738727854970737, 'random_strength': 75.0}. \n",
      "[I 2023-08-06 22:08:37,036] Trial 55 finished with values: [0.3756680140358962, 0.032579522420747464] and parameters: {'bagging_temperature': 0.1, 'border_count': 42, 'depth': 3, 'iterations': 600, 'l2_leaf_reg': 5.9, 'learning_rate': 0.027589076108634644, 'random_strength': 50.0}. \n",
      "[I 2023-08-06 22:08:51,694] Trial 56 finished with values: [0.36641439979594964, -0.038230900616156416] and parameters: {'bagging_temperature': 0.5, 'border_count': 45, 'depth': 4, 'iterations': 600, 'l2_leaf_reg': 5.3, 'learning_rate': 0.03885807947862777, 'random_strength': 65.0}. \n",
      "[I 2023-08-06 22:09:04,601] Trial 57 finished with values: [0.3731757244344058, 0.0068222069532856144] and parameters: {'bagging_temperature': 0.0, 'border_count': 52, 'depth': 3, 'iterations': 550, 'l2_leaf_reg': 5.6, 'learning_rate': 0.03885807947862777, 'random_strength': 50.0}. \n",
      "[I 2023-08-06 22:09:17,949] Trial 58 finished with values: [0.46765967700350763, 0.054119663601921164] and parameters: {'bagging_temperature': 0.2, 'border_count': 39, 'depth': 4, 'iterations': 550, 'l2_leaf_reg': 5.5, 'learning_rate': 0.0470995844118429, 'random_strength': 65.0}. \n",
      "[I 2023-08-06 22:09:32,078] Trial 59 finished with values: [0.38648904124845107, 0.007245020830062288] and parameters: {'bagging_temperature': 0.30000000000000004, 'border_count': 33, 'depth': 3, 'iterations': 650, 'l2_leaf_reg': 5.9, 'learning_rate': 0.04083426594295661, 'random_strength': 50.0}. \n",
      "[I 2023-08-06 22:09:48,279] Trial 60 finished with values: [0.5005203174986742, 0.11204689553606695] and parameters: {'bagging_temperature': 0.2, 'border_count': 55, 'depth': 4, 'iterations': 650, 'l2_leaf_reg': 5.1, 'learning_rate': 0.048868467864211895, 'random_strength': 35.0}. \n",
      "[I 2023-08-06 22:10:04,240] Trial 61 finished with values: [0.4206082360626964, 0.04135796142432124] and parameters: {'bagging_temperature': 0.4, 'border_count': 44, 'depth': 4, 'iterations': 650, 'l2_leaf_reg': 5.1, 'learning_rate': 0.03111955034446078, 'random_strength': 50.0}. \n",
      "[I 2023-08-06 22:10:17,937] Trial 62 finished with values: [0.38729473544729776, 0.03785194692542693] and parameters: {'bagging_temperature': 0.1, 'border_count': 43, 'depth': 4, 'iterations': 550, 'l2_leaf_reg': 5.9, 'learning_rate': 0.029813454402576864, 'random_strength': 45.0}. \n",
      "[I 2023-08-06 22:10:34,339] Trial 63 finished with values: [0.36468243437116016, -0.03562025073473918] and parameters: {'bagging_temperature': 0.4, 'border_count': 58, 'depth': 4, 'iterations': 650, 'l2_leaf_reg': 5.4, 'learning_rate': 0.03136301810550405, 'random_strength': 75.0}. \n",
      "[I 2023-08-06 22:10:46,823] Trial 64 finished with values: [0.39439788573250806, 0.02427874205883107] and parameters: {'bagging_temperature': 0.30000000000000004, 'border_count': 9, 'depth': 3, 'iterations': 550, 'l2_leaf_reg': 5.1, 'learning_rate': 0.037359093925668274, 'random_strength': 40.0}. \n",
      "[I 2023-08-06 22:10:58,962] Trial 65 finished with values: [0.3972590341071962, 0.031051752304482205] and parameters: {'bagging_temperature': 0.1, 'border_count': 10, 'depth': 3, 'iterations': 550, 'l2_leaf_reg': 5.2, 'learning_rate': 0.030738727854970737, 'random_strength': 75.0}. \n",
      "[I 2023-08-06 22:11:13,907] Trial 66 finished with values: [0.3803145020135424, 0.002867264982786666] and parameters: {'bagging_temperature': 0.30000000000000004, 'border_count': 30, 'depth': 3, 'iterations': 650, 'l2_leaf_reg': 5.9, 'learning_rate': 0.042213198248695905, 'random_strength': 45.0}. \n",
      "[I 2023-08-06 22:11:29,819] Trial 67 finished with values: [0.3413593717583751, -0.012656672120504697] and parameters: {'bagging_temperature': 0.5, 'border_count': 68, 'depth': 4, 'iterations': 600, 'l2_leaf_reg': 5.9, 'learning_rate': 0.026076871917200924, 'random_strength': 70.0}. \n",
      "[I 2023-08-06 22:11:48,069] Trial 68 finished with values: [0.4353487895091567, -0.03855014559970432] and parameters: {'bagging_temperature': 0.1, 'border_count': 22, 'depth': 4, 'iterations': 650, 'l2_leaf_reg': 5.3, 'learning_rate': 0.04185183101682984, 'random_strength': 65.0}. \n",
      "[I 2023-08-06 22:12:03,307] Trial 69 finished with values: [0.43943118199524644, 0.012103370991331464] and parameters: {'bagging_temperature': 0.0, 'border_count': 57, 'depth': 3, 'iterations': 600, 'l2_leaf_reg': 5.0, 'learning_rate': 0.04191038973960004, 'random_strength': 30.0}. \n",
      "[I 2023-08-06 22:12:17,468] Trial 70 finished with values: [0.4957675887697967, 0.08655730626365749] and parameters: {'bagging_temperature': 0.2, 'border_count': 17, 'depth': 3, 'iterations': 600, 'l2_leaf_reg': 5.0, 'learning_rate': 0.04539931033998058, 'random_strength': 45.0}. \n",
      "[I 2023-08-06 22:12:36,010] Trial 71 finished with values: [0.3945872254857611, 0.016176564242179725] and parameters: {'bagging_temperature': 0.5, 'border_count': 28, 'depth': 4, 'iterations': 650, 'l2_leaf_reg': 5.9, 'learning_rate': 0.02020224662543316, 'random_strength': 35.0}. \n",
      "[I 2023-08-06 22:12:55,702] Trial 72 finished with values: [0.44640979176948886, 0.0328743965327532] and parameters: {'bagging_temperature': 0.1, 'border_count': 63, 'depth': 3, 'iterations': 600, 'l2_leaf_reg': 5.0, 'learning_rate': 0.0364762669442496, 'random_strength': 40.0}. \n",
      "[I 2023-08-06 22:13:09,628] Trial 73 finished with values: [0.40728288995088924, 0.027980776797577267] and parameters: {'bagging_temperature': 0.1, 'border_count': 52, 'depth': 3, 'iterations': 550, 'l2_leaf_reg': 5.6, 'learning_rate': 0.0389861358976773, 'random_strength': 70.0}. \n",
      "[I 2023-08-06 22:13:23,728] Trial 74 finished with values: [0.344382331156415, -0.01320290679694286] and parameters: {'bagging_temperature': 0.0, 'border_count': 43, 'depth': 4, 'iterations': 550, 'l2_leaf_reg': 5.9, 'learning_rate': 0.03136301810550405, 'random_strength': 75.0}. \n",
      "[I 2023-08-06 22:13:36,417] Trial 75 finished with values: [0.43498098397840557, 0.10102764286881671] and parameters: {'bagging_temperature': 0.5, 'border_count': 33, 'depth': 3, 'iterations': 550, 'l2_leaf_reg': 5.9, 'learning_rate': 0.030738727854970737, 'random_strength': 70.0}. \n",
      "[I 2023-08-06 22:13:49,046] Trial 76 finished with values: [0.43084515482882424, -0.0029098967856759916] and parameters: {'bagging_temperature': 0.5, 'border_count': 64, 'depth': 3, 'iterations': 550, 'l2_leaf_reg': 5.1, 'learning_rate': 0.04750098481768322, 'random_strength': 60.0}. \n",
      "[I 2023-08-06 22:14:02,824] Trial 77 finished with values: [0.4025388322362964, 0.024089483846952198] and parameters: {'bagging_temperature': 0.4, 'border_count': 37, 'depth': 3, 'iterations': 600, 'l2_leaf_reg': 5.8, 'learning_rate': 0.045212443015025965, 'random_strength': 55.0}. \n",
      "[I 2023-08-06 22:14:16,309] Trial 78 finished with values: [0.3398600432131961, -0.01044108033481933] and parameters: {'bagging_temperature': 0.30000000000000004, 'border_count': 29, 'depth': 4, 'iterations': 550, 'l2_leaf_reg': 5.5, 'learning_rate': 0.024655422375033684, 'random_strength': 50.0}. \n",
      "[I 2023-08-06 22:14:29,725] Trial 79 finished with values: [0.36380919429111197, 0.005537644670642106] and parameters: {'bagging_temperature': 0.0, 'border_count': 40, 'depth': 4, 'iterations': 550, 'l2_leaf_reg': 5.8, 'learning_rate': 0.026248703807152978, 'random_strength': 40.0}. \n",
      "[I 2023-08-06 22:14:43,004] Trial 80 finished with values: [0.44711747813636304, 0.03219651884113972] and parameters: {'bagging_temperature': 0.1, 'border_count': 37, 'depth': 3, 'iterations': 550, 'l2_leaf_reg': 5.6, 'learning_rate': 0.04981643491062834, 'random_strength': 45.0}. \n",
      "[I 2023-08-06 22:14:56,163] Trial 81 finished with values: [0.28864528175592047, -0.0900943257168561] and parameters: {'bagging_temperature': 0.5, 'border_count': 9, 'depth': 3, 'iterations': 550, 'l2_leaf_reg': 5.6, 'learning_rate': 0.03560243459841918, 'random_strength': 30.0}. \n",
      "[I 2023-08-06 22:15:10,838] Trial 82 finished with values: [0.46008307167856355, -0.006767260088459903] and parameters: {'bagging_temperature': 0.2, 'border_count': 17, 'depth': 4, 'iterations': 600, 'l2_leaf_reg': 5.1, 'learning_rate': 0.04228807098883717, 'random_strength': 45.0}. \n",
      "[I 2023-08-06 22:15:24,570] Trial 83 finished with values: [0.3327194737051406, -0.09364637561122935] and parameters: {'bagging_temperature': 0.1, 'border_count': 30, 'depth': 3, 'iterations': 600, 'l2_leaf_reg': 5.1, 'learning_rate': 0.042213198248695905, 'random_strength': 50.0}. \n",
      "[I 2023-08-06 22:15:40,270] Trial 84 finished with values: [0.41298442615363357, 0.013711344999834896] and parameters: {'bagging_temperature': 0.1, 'border_count': 19, 'depth': 4, 'iterations': 650, 'l2_leaf_reg': 5.2, 'learning_rate': 0.03111955034446078, 'random_strength': 45.0}. \n",
      "[I 2023-08-06 22:15:55,486] Trial 85 finished with values: [0.33330931192758023, -0.04863783509928438] and parameters: {'bagging_temperature': 0.5, 'border_count': 64, 'depth': 3, 'iterations': 650, 'l2_leaf_reg': 5.5, 'learning_rate': 0.038655404652464746, 'random_strength': 70.0}. \n",
      "[I 2023-08-06 22:16:11,181] Trial 86 finished with values: [0.3920798422543023, -0.004481725275966075] and parameters: {'bagging_temperature': 0.4, 'border_count': 67, 'depth': 4, 'iterations': 600, 'l2_leaf_reg': 5.8, 'learning_rate': 0.03136301810550405, 'random_strength': 45.0}. \n",
      "[I 2023-08-06 22:16:28,112] Trial 87 finished with values: [0.4093972454818899, 0.028009872921232304] and parameters: {'bagging_temperature': 0.1, 'border_count': 64, 'depth': 4, 'iterations': 650, 'l2_leaf_reg': 5.8, 'learning_rate': 0.030738727854970737, 'random_strength': 75.0}. \n",
      "[I 2023-08-06 22:16:42,616] Trial 88 finished with values: [0.3204836439201873, -0.05145886478200257] and parameters: {'bagging_temperature': 0.1, 'border_count': 37, 'depth': 3, 'iterations': 600, 'l2_leaf_reg': 5.1, 'learning_rate': 0.04981643491062834, 'random_strength': 45.0}. \n",
      "[I 2023-08-06 22:16:56,421] Trial 89 finished with values: [0.3947770855844236, 0.03509438990782554] and parameters: {'bagging_temperature': 0.0, 'border_count': 57, 'depth': 3, 'iterations': 600, 'l2_leaf_reg': 5.0, 'learning_rate': 0.03786877601926576, 'random_strength': 30.0}. \n",
      "[I 2023-08-06 22:17:10,210] Trial 90 finished with values: [0.3935588824327085, 0.01767075106040389] and parameters: {'bagging_temperature': 0.1, 'border_count': 40, 'depth': 3, 'iterations': 600, 'l2_leaf_reg': 5.6, 'learning_rate': 0.046263766438621415, 'random_strength': 30.0}. \n",
      "[I 2023-08-06 22:17:24,236] Trial 91 finished with values: [0.41731513865452574, 0.013484797353444433] and parameters: {'bagging_temperature': 0.2, 'border_count': 17, 'depth': 4, 'iterations': 600, 'l2_leaf_reg': 5.0, 'learning_rate': 0.030659324126350914, 'random_strength': 60.0}. \n",
      "[I 2023-08-06 22:17:41,683] Trial 92 finished with values: [0.38362264112377265, 0.011821863203156702] and parameters: {'bagging_temperature': 0.1, 'border_count': 66, 'depth': 4, 'iterations': 650, 'l2_leaf_reg': 5.8, 'learning_rate': 0.03495018647309725, 'random_strength': 75.0}. \n",
      "[I 2023-08-06 22:17:53,740] Trial 93 finished with values: [0.3826337373807971, -0.0009779009472863365] and parameters: {'bagging_temperature': 0.1, 'border_count': 37, 'depth': 3, 'iterations': 550, 'l2_leaf_reg': 5.6, 'learning_rate': 0.04981643491062834, 'random_strength': 70.0}. \n",
      "[I 2023-08-06 22:18:06,205] Trial 94 finished with values: [0.3569042396637054, -0.033722450787175895] and parameters: {'bagging_temperature': 0.5, 'border_count': 17, 'depth': 3, 'iterations': 550, 'l2_leaf_reg': 5.0, 'learning_rate': 0.03584677253494194, 'random_strength': 50.0}. \n",
      "[I 2023-08-06 22:18:20,521] Trial 95 finished with values: [0.34582642198054786, -0.06745373067036792] and parameters: {'bagging_temperature': 0.4, 'border_count': 25, 'depth': 4, 'iterations': 600, 'l2_leaf_reg': 6.0, 'learning_rate': 0.04191038973960004, 'random_strength': 50.0}. \n",
      "[I 2023-08-06 22:18:35,013] Trial 96 finished with values: [0.32908864887383704, -0.06736849572626491] and parameters: {'bagging_temperature': 0.4, 'border_count': 39, 'depth': 4, 'iterations': 600, 'l2_leaf_reg': 5.2, 'learning_rate': 0.030738727854970737, 'random_strength': 75.0}. \n",
      "[I 2023-08-06 22:18:50,146] Trial 97 finished with values: [0.3923824752735332, -0.015523292068725547] and parameters: {'bagging_temperature': 0.2, 'border_count': 17, 'depth': 4, 'iterations': 600, 'l2_leaf_reg': 5.1, 'learning_rate': 0.0364762669442496, 'random_strength': 45.0}. \n",
      "[I 2023-08-06 22:19:04,143] Trial 98 finished with values: [0.43029763176437963, 0.011013989671931568] and parameters: {'bagging_temperature': 0.2, 'border_count': 2, 'depth': 4, 'iterations': 550, 'l2_leaf_reg': 5.8, 'learning_rate': 0.04482975987440258, 'random_strength': 55.0}. \n",
      "[I 2023-08-06 22:19:18,073] Trial 99 finished with values: [0.3971870298770682, 0.052106623945831876] and parameters: {'bagging_temperature': 0.5, 'border_count': 67, 'depth': 3, 'iterations': 550, 'l2_leaf_reg': 5.6, 'learning_rate': 0.03136301810550405, 'random_strength': 35.0}. \n",
      "[I 2023-08-06 22:19:32,361] Trial 100 finished with values: [0.4084892439442168, -0.03230239139671587] and parameters: {'bagging_temperature': 0.1, 'border_count': 60, 'depth': 3, 'iterations': 600, 'l2_leaf_reg': 5.3, 'learning_rate': 0.03885807947862777, 'random_strength': 55.0}. \n",
      "[I 2023-08-06 22:19:45,635] Trial 101 finished with values: [0.5150978530004129, 0.14179221149484067] and parameters: {'bagging_temperature': 0.1, 'border_count': 25, 'depth': 3, 'iterations': 600, 'l2_leaf_reg': 6.0, 'learning_rate': 0.04191038973960004, 'random_strength': 50.0}. \n",
      "[I 2023-08-06 22:19:58,494] Trial 102 finished with values: [0.3058000958208655, -0.07114828051132727] and parameters: {'bagging_temperature': 0.2, 'border_count': 63, 'depth': 3, 'iterations': 550, 'l2_leaf_reg': 5.2, 'learning_rate': 0.0364762669442496, 'random_strength': 55.0}. \n",
      "[I 2023-08-06 22:20:13,338] Trial 103 finished with values: [0.47395687787052165, 0.07705561955397439] and parameters: {'bagging_temperature': 0.1, 'border_count': 22, 'depth': 4, 'iterations': 600, 'l2_leaf_reg': 5.3, 'learning_rate': 0.03560243459841918, 'random_strength': 30.0}. \n",
      "[I 2023-08-06 22:20:28,709] Trial 104 finished with values: [0.3818896810651025, 0.01800843914817063] and parameters: {'bagging_temperature': 0.5, 'border_count': 45, 'depth': 4, 'iterations': 600, 'l2_leaf_reg': 5.3, 'learning_rate': 0.03885807947862777, 'random_strength': 65.0}. \n",
      "[I 2023-08-06 22:20:44,679] Trial 105 finished with values: [0.396270671703977, -0.010300732225211051] and parameters: {'bagging_temperature': 0.5, 'border_count': 64, 'depth': 4, 'iterations': 550, 'l2_leaf_reg': 5.9, 'learning_rate': 0.03560243459841918, 'random_strength': 60.0}. \n"
     ]
    }
   ],
   "source": [
    "pruner = optuna.pruners.SuccessiveHalvingPruner()\n",
    "study = optuna.create_study(\n",
    "    pruner=pruner,\n",
    "    directions=[\"minimize\", \"minimize\"],\n",
    "    study_name=\"catboost_no_categorical_no_resample\",\n",
    "    storage=\"sqlite:////storage/optuna-final.db\",\n",
    "    load_if_exists=True,\n",
    ")\n",
    "study.optimize(objective, n_trials=250)"
   ]
  },
  {
   "cell_type": "code",
   "execution_count": null,
   "id": "a959b9c2",
   "metadata": {
    "ExecuteTime": {
     "start_time": "2023-08-06T21:55:07.343445Z"
    }
   },
   "outputs": [],
   "source": []
  }
 ],
 "metadata": {
  "kernelspec": {
   "display_name": "Python 3 (ipykernel)",
   "language": "python",
   "name": "python3"
  },
  "language_info": {
   "codemirror_mode": {
    "name": "ipython",
    "version": 3
   },
   "file_extension": ".py",
   "mimetype": "text/x-python",
   "name": "python",
   "nbconvert_exporter": "python",
   "pygments_lexer": "ipython3",
   "version": "3.11.2"
  },
  "papermill": {
   "default_parameters": {},
   "duration": 49.896341,
   "end_time": "2023-07-17T22:46:12.417994",
   "environment_variables": {},
   "exception": null,
   "input_path": "__notebook__.ipynb",
   "output_path": "__notebook__.ipynb",
   "parameters": {},
   "start_time": "2023-07-17T22:45:22.521653",
   "version": "2.4.0"
  }
 },
 "nbformat": 4,
 "nbformat_minor": 5
}
