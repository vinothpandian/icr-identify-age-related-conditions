{
 "cells": [
  {
   "cell_type": "code",
   "execution_count": 1,
   "id": "7dc1617a",
   "metadata": {
    "ExecuteTime": {
     "end_time": "2023-08-06T18:56:53.788428Z",
     "start_time": "2023-08-06T18:56:51.863838Z"
    },
    "execution": {
     "iopub.execute_input": "2023-07-17T22:45:33.962583Z",
     "iopub.status.busy": "2023-07-17T22:45:33.962257Z",
     "iopub.status.idle": "2023-07-17T22:45:39.997850Z",
     "shell.execute_reply": "2023-07-17T22:45:39.997140Z"
    },
    "papermill": {
     "duration": 6.04416,
     "end_time": "2023-07-17T22:45:40.000222",
     "exception": false,
     "start_time": "2023-07-17T22:45:33.956062",
     "status": "completed"
    },
    "tags": []
   },
   "outputs": [],
   "source": [
    "from pathlib import Path\n",
    "import optuna\n",
    "\n",
    "import pandas as pd\n",
    "from sklearn import compose, impute, pipeline, preprocessing, model_selection\n",
    "import numpy as np\n",
    "from sklearn import metrics\n",
    "from lightgbm import LGBMClassifier\n",
    "\n",
    "path = Path(\"./data\")\n",
    "output_path = Path(\"./output\")"
   ]
  },
  {
   "cell_type": "code",
   "execution_count": 2,
   "id": "7db35e0d",
   "metadata": {
    "ExecuteTime": {
     "end_time": "2023-08-06T18:56:53.798601Z",
     "start_time": "2023-08-06T18:56:53.792800Z"
    },
    "execution": {
     "iopub.execute_input": "2023-07-17T22:45:40.010730Z",
     "iopub.status.busy": "2023-07-17T22:45:40.009926Z",
     "iopub.status.idle": "2023-07-17T22:45:40.015497Z",
     "shell.execute_reply": "2023-07-17T22:45:40.014087Z"
    },
    "papermill": {
     "duration": 0.013681,
     "end_time": "2023-07-17T22:45:40.018353",
     "exception": false,
     "start_time": "2023-07-17T22:45:40.004672",
     "status": "completed"
    },
    "tags": []
   },
   "outputs": [],
   "source": [
    "def balanced_log_loss(y_true, y_pred):\n",
    "    nc = np.bincount(y_true)\n",
    "    return metrics.log_loss(y_true, y_pred, sample_weight=1 / nc[y_true], eps=1e-15)"
   ]
  },
  {
   "cell_type": "code",
   "execution_count": 3,
   "id": "a8298292ed63b1bd",
   "metadata": {
    "ExecuteTime": {
     "end_time": "2023-08-06T18:56:53.805914Z",
     "start_time": "2023-08-06T18:56:53.801256Z"
    },
    "collapsed": false
   },
   "outputs": [],
   "source": [
    "def add_binned_age(df):\n",
    "    df[\"Age_binned\"] = pd.cut(df[\"BN\"], bins=20, labels=False)\n",
    "    return df"
   ]
  },
  {
   "cell_type": "code",
   "execution_count": 4,
   "id": "7b9a3c31",
   "metadata": {
    "ExecuteTime": {
     "end_time": "2023-08-06T18:56:53.819873Z",
     "start_time": "2023-08-06T18:56:53.815341Z"
    },
    "execution": {
     "iopub.execute_input": "2023-07-17T22:45:40.028673Z",
     "iopub.status.busy": "2023-07-17T22:45:40.028345Z",
     "iopub.status.idle": "2023-07-17T22:45:40.070063Z",
     "shell.execute_reply": "2023-07-17T22:45:40.068323Z"
    },
    "papermill": {
     "duration": 0.049668,
     "end_time": "2023-07-17T22:45:40.072386",
     "exception": false,
     "start_time": "2023-07-17T22:45:40.022718",
     "status": "completed"
    },
    "tags": []
   },
   "outputs": [],
   "source": [
    "def get_tree_preprocess_pipeline():\n",
    "    feature_engineering = (\n",
    "        pipeline.make_pipeline(\n",
    "            preprocessing.FunctionTransformer(add_binned_age, validate=False),\n",
    "        ),\n",
    "        compose.make_column_selector(dtype_include='float64'),\n",
    "    )\n",
    "\n",
    "    categorical_imputing = (\n",
    "        pipeline.make_pipeline(\n",
    "            impute.SimpleImputer(strategy=\"most_frequent\"),\n",
    "            preprocessing.OrdinalEncoder(handle_unknown=\"use_encoded_value\", unknown_value=-1),\n",
    "        ),\n",
    "        compose.make_column_selector(dtype_include='object'),\n",
    "    )\n",
    "\n",
    "    return pipeline.make_pipeline(\n",
    "        compose.make_column_transformer(\n",
    "            feature_engineering,\n",
    "            categorical_imputing,\n",
    "            remainder='passthrough',\n",
    "            verbose_feature_names_out=True\n",
    "        ),\n",
    "        impute.KNNImputer(n_neighbors=10, weights=\"distance\"),\n",
    "    ).set_output(transform=\"pandas\")"
   ]
  },
  {
   "cell_type": "code",
   "execution_count": 5,
   "id": "b2195607",
   "metadata": {
    "ExecuteTime": {
     "end_time": "2023-08-06T18:56:53.859937Z",
     "start_time": "2023-08-06T18:56:53.836505Z"
    },
    "execution": {
     "iopub.execute_input": "2023-07-17T22:45:40.098204Z",
     "iopub.status.busy": "2023-07-17T22:45:40.097756Z",
     "iopub.status.idle": "2023-07-17T22:45:40.148970Z",
     "shell.execute_reply": "2023-07-17T22:45:40.148020Z"
    },
    "papermill": {
     "duration": 0.05839,
     "end_time": "2023-07-17T22:45:40.150947",
     "exception": false,
     "start_time": "2023-07-17T22:45:40.092557",
     "status": "completed"
    },
    "tags": []
   },
   "outputs": [],
   "source": [
    "df = pd.read_csv(path / \"train.csv\", index_col=\"Id\")\n",
    "dep_vars = [\"Class\"]\n",
    "\n",
    "train_df, test_df = model_selection.train_test_split(df, test_size=0.4, stratify=df[dep_vars], random_state=33)"
   ]
  },
  {
   "cell_type": "code",
   "execution_count": 6,
   "id": "5f97f881",
   "metadata": {
    "ExecuteTime": {
     "end_time": "2023-08-06T18:56:53.943751Z",
     "start_time": "2023-08-06T18:56:53.862920Z"
    },
    "execution": {
     "iopub.execute_input": "2023-07-17T22:45:40.160292Z",
     "iopub.status.busy": "2023-07-17T22:45:40.159936Z",
     "iopub.status.idle": "2023-07-17T22:45:40.793493Z",
     "shell.execute_reply": "2023-07-17T22:45:40.792698Z"
    },
    "papermill": {
     "duration": 0.641038,
     "end_time": "2023-07-17T22:45:40.796103",
     "exception": false,
     "start_time": "2023-07-17T22:45:40.155065",
     "status": "completed"
    },
    "tags": []
   },
   "outputs": [
    {
     "name": "stderr",
     "output_type": "stream",
     "text": [
      "/home/vinoth/.pyenv/versions/3.11.2/envs/kaggle/lib/python3.11/site-packages/sklearn/preprocessing/_function_transformer.py:343: UserWarning: With transform=\"pandas\", `func` should return a DataFrame to follow the set_output API.\n",
      "  warnings.warn(\n"
     ]
    }
   ],
   "source": [
    "preprocessor = get_tree_preprocess_pipeline()\n",
    "X_pre = preprocessor.fit_transform(train_df.drop(columns=dep_vars))\n",
    "train_df = pd.merge(X_pre, train_df[dep_vars], left_index=True, right_index=True)"
   ]
  },
  {
   "cell_type": "code",
   "execution_count": 7,
   "id": "9c834975",
   "metadata": {
    "ExecuteTime": {
     "end_time": "2023-08-06T18:56:53.953318Z",
     "start_time": "2023-08-06T18:56:53.946410Z"
    },
    "execution": {
     "iopub.execute_input": "2023-07-17T22:45:40.810989Z",
     "iopub.status.busy": "2023-07-17T22:45:40.810400Z",
     "iopub.status.idle": "2023-07-17T22:45:40.818141Z",
     "shell.execute_reply": "2023-07-17T22:45:40.817303Z"
    },
    "papermill": {
     "duration": 0.016935,
     "end_time": "2023-07-17T22:45:40.820395",
     "exception": false,
     "start_time": "2023-07-17T22:45:40.803460",
     "status": "completed"
    },
    "tags": []
   },
   "outputs": [
    {
     "data": {
      "text/plain": [
       "(370, 58)"
      ]
     },
     "execution_count": 7,
     "metadata": {},
     "output_type": "execute_result"
    }
   ],
   "source": [
    "X = train_df.drop(columns=dep_vars, errors=\"ignore\")\n",
    "y = train_df[dep_vars]\n",
    "train_df.shape"
   ]
  },
  {
   "cell_type": "code",
   "execution_count": 8,
   "id": "b801a3cf4c0affe2",
   "metadata": {
    "ExecuteTime": {
     "end_time": "2023-08-06T18:56:54.035976Z",
     "start_time": "2023-08-06T18:56:53.974653Z"
    },
    "collapsed": false
   },
   "outputs": [],
   "source": [
    "X_test_pre = preprocessor.transform(test_df.drop(columns=dep_vars))\n",
    "test_df = pd.merge(X_test_pre, test_df[dep_vars], left_index=True, right_index=True)"
   ]
  },
  {
   "cell_type": "code",
   "execution_count": 9,
   "id": "bafb576e928ace8b",
   "metadata": {
    "ExecuteTime": {
     "end_time": "2023-08-06T18:56:54.043937Z",
     "start_time": "2023-08-06T18:56:54.036321Z"
    },
    "collapsed": false
   },
   "outputs": [
    {
     "data": {
      "text/plain": [
       "(247, 58)"
      ]
     },
     "execution_count": 9,
     "metadata": {},
     "output_type": "execute_result"
    }
   ],
   "source": [
    "X_test = test_df.drop(columns=dep_vars, errors=\"ignore\")\n",
    "y_test = test_df[dep_vars]\n",
    "test_df.shape"
   ]
  },
  {
   "cell_type": "code",
   "execution_count": 10,
   "id": "e8a1509a94ed9b83",
   "metadata": {
    "ExecuteTime": {
     "end_time": "2023-08-06T18:56:54.076714Z",
     "start_time": "2023-08-06T18:56:54.053524Z"
    },
    "collapsed": false
   },
   "outputs": [],
   "source": [
    "scale_pos_weight = df['Class'].value_counts()[0] / df['Class'].value_counts()[1]"
   ]
  },
  {
   "cell_type": "markdown",
   "id": "ebbf26c4d3fadc1c",
   "metadata": {
    "collapsed": false
   },
   "source": [
    "\n",
    "# Optimize"
   ]
  },
  {
   "cell_type": "code",
   "execution_count": 14,
   "id": "57032c8b91f6e020",
   "metadata": {
    "ExecuteTime": {
     "end_time": "2023-08-06T18:56:54.100737Z",
     "start_time": "2023-08-06T18:56:54.088633Z"
    },
    "collapsed": false
   },
   "outputs": [],
   "source": [
    "def objective(trial):\n",
    "    params = dict(\n",
    "        boosting_type=\"gbdt\",\n",
    "        device=\"gpu\",\n",
    "        scale_pos_weight=scale_pos_weight,\n",
    "        learning_rate=trial.suggest_float(\"learning_rate\", 0.001, 0.1, log=True),\n",
    "        n_estimators=trial.suggest_int(\"n_estimators\", 100, 1000, step=50),\n",
    "        max_depth=trial.suggest_int(\"max_depth\", 3, 15, step=1),\n",
    "        subsample=trial.suggest_float(\"subsample\", 0.1, 1.0, step=0.1),\n",
    "        reg_alpha=trial.suggest_float(\"reg_alpha\", 0.0, 10.0, step=0.5),\n",
    "        reg_lambda=trial.suggest_float(\"reg_lambda\", 0.0, 10.0, step=0.5),\n",
    "        colsample_bytree=trial.suggest_float(\"colsample_bytree\", 0.1, 1.0, step=0.1),\n",
    "        colsample_bynode=trial.suggest_float(\"colsample_bynode\", 0.1, 1.0, step=0.1),\n",
    "        data_sample_strategy=\"bagging\",\n",
    "        num_leaves=trial.suggest_int(\"num_leaves\", 1, 131072),\n",
    "        max_bin=trial.suggest_int(\"max_bin\", 2, 1000),\n",
    "        n_jobs=-1,\n",
    "    )\n",
    "\n",
    "    model = LGBMClassifier(**params, objective=\"binary\", verbosity=-1)\n",
    "\n",
    "    skf = model_selection.RepeatedStratifiedKFold(n_splits=5, n_repeats=2)\n",
    "\n",
    "    val_loss_list = []\n",
    "\n",
    "    for i, (train_idx, val_idx) in enumerate(skf.split(X, y)):\n",
    "        X_train = X.iloc[train_idx]\n",
    "        y_train = y.iloc[train_idx].values.ravel()\n",
    "\n",
    "        X_val = X.iloc[val_idx]\n",
    "        y_val = y.iloc[val_idx].values.ravel()\n",
    "\n",
    "        model.fit(X_train, y_train, eval_metric=balanced_log_loss)\n",
    "\n",
    "        val_preds = model.predict_proba(X_val)\n",
    "        val_loss = balanced_log_loss(y_val, val_preds)\n",
    "\n",
    "        val_loss_list.append(val_loss)\n",
    "        \n",
    "    \n",
    "    test_preds = model.predict_proba(X_test)\n",
    "    test_loss = balanced_log_loss(y_test.values.ravel(), test_preds)\n",
    "    mean_val_loss = np.mean(val_loss_list)\n",
    "\n",
    "    return test_loss, test_loss - mean_val_loss"
   ]
  },
  {
   "cell_type": "code",
   "execution_count": 15,
   "id": "db16d0793497b27e",
   "metadata": {
    "ExecuteTime": {
     "end_time": "2023-08-06T18:56:54.907460Z",
     "start_time": "2023-08-06T18:56:54.105532Z"
    },
    "collapsed": false
   },
   "outputs": [],
   "source": [
    "# optuna.delete_study(\n",
    "#     study_name=\"lightgbm_bin_age\",\n",
    "#     storage=\"sqlite:///optuna.db\",\n",
    "# )"
   ]
  },
  {
   "cell_type": "code",
   "execution_count": 16,
   "id": "86a69465",
   "metadata": {
    "ExecuteTime": {
     "end_time": "2023-08-06T18:57:05.275926Z",
     "start_time": "2023-08-06T18:57:03.309317Z"
    },
    "papermill": {
     "duration": 0.004675,
     "end_time": "2023-07-17T22:46:10.785882",
     "exception": false,
     "start_time": "2023-07-17T22:46:10.781207",
     "status": "completed"
    },
    "tags": []
   },
   "outputs": [
    {
     "name": "stderr",
     "output_type": "stream",
     "text": [
      "[I 2023-08-06 15:21:16,419] A new study created in RDB with name: lightgbm_bin_age\n",
      "[I 2023-08-06 15:21:22,079] Trial 0 finished with values: [0.37290371391466787, 0.014559690552709448] and parameters: {'colsample_bynode': 0.30000000000000004, 'colsample_bytree': 0.2, 'learning_rate': 0.017537464694188272, 'max_bin': 231, 'max_depth': 6, 'n_estimators': 1000, 'num_leaves': 94273, 'reg_alpha': 5.0, 'reg_lambda': 9.0, 'subsample': 0.8}. \n",
      "[I 2023-08-06 15:21:25,648] Trial 1 finished with values: [0.4238780487329025, 0.003330404722431235] and parameters: {'colsample_bynode': 0.8, 'colsample_bytree': 0.8, 'learning_rate': 0.026306641057335316, 'max_bin': 139, 'max_depth': 14, 'n_estimators': 100, 'num_leaves': 90177, 'reg_alpha': 3.5, 'reg_lambda': 8.5, 'subsample': 0.1}. \n",
      "[I 2023-08-06 15:21:32,714] Trial 2 finished with values: [0.3683269309592376, -0.02466956130352338] and parameters: {'colsample_bynode': 0.6, 'colsample_bytree': 0.8, 'learning_rate': 0.052194574934478946, 'max_bin': 416, 'max_depth': 14, 'n_estimators': 900, 'num_leaves': 6444, 'reg_alpha': 1.0, 'reg_lambda': 8.0, 'subsample': 1.0}. \n",
      "[I 2023-08-06 15:21:36,073] Trial 3 finished with values: [0.5806237107105585, 0.0070509879999985925] and parameters: {'colsample_bynode': 0.4, 'colsample_bytree': 0.1, 'learning_rate': 0.0036127500108080733, 'max_bin': 573, 'max_depth': 7, 'n_estimators': 550, 'num_leaves': 88068, 'reg_alpha': 7.5, 'reg_lambda': 0.5, 'subsample': 0.30000000000000004}. \n",
      "[I 2023-08-06 15:21:39,096] Trial 4 finished with values: [0.3900095988177687, 0.041872531272941105] and parameters: {'colsample_bynode': 0.30000000000000004, 'colsample_bytree': 0.6, 'learning_rate': 0.07439113644179793, 'max_bin': 945, 'max_depth': 6, 'n_estimators': 700, 'num_leaves': 66939, 'reg_alpha': 4.5, 'reg_lambda': 10.0, 'subsample': 0.1}. \n",
      "[I 2023-08-06 15:21:42,703] Trial 5 finished with values: [0.3806085917180152, 0.017510588934074756] and parameters: {'colsample_bynode': 0.7000000000000001, 'colsample_bytree': 1.0, 'learning_rate': 0.012681740272368049, 'max_bin': 743, 'max_depth': 8, 'n_estimators': 500, 'num_leaves': 111082, 'reg_alpha': 10.0, 'reg_lambda': 2.5, 'subsample': 0.30000000000000004}. \n",
      "[I 2023-08-06 15:21:49,118] Trial 6 finished with values: [0.3728499761889011, 0.01337683560663111] and parameters: {'colsample_bynode': 0.2, 'colsample_bytree': 0.4, 'learning_rate': 0.09282569360300993, 'max_bin': 869, 'max_depth': 14, 'n_estimators': 850, 'num_leaves': 14458, 'reg_alpha': 2.5, 'reg_lambda': 5.5, 'subsample': 0.8}. \n",
      "[I 2023-08-06 15:21:55,052] Trial 7 finished with values: [0.40995298578158634, -0.022198408598985697] and parameters: {'colsample_bynode': 0.1, 'colsample_bytree': 0.2, 'learning_rate': 0.010110414535473535, 'max_bin': 424, 'max_depth': 5, 'n_estimators': 1000, 'num_leaves': 121622, 'reg_alpha': 0.0, 'reg_lambda': 8.0, 'subsample': 0.9}. \n",
      "[I 2023-08-06 15:21:59,504] Trial 8 finished with values: [0.33238542125464826, -0.029142288812964712] and parameters: {'colsample_bynode': 0.30000000000000004, 'colsample_bytree': 0.6, 'learning_rate': 0.02249805912134331, 'max_bin': 452, 'max_depth': 14, 'n_estimators': 750, 'num_leaves': 1692, 'reg_alpha': 6.5, 'reg_lambda': 1.5, 'subsample': 0.8}. \n",
      "[I 2023-08-06 15:22:01,869] Trial 9 finished with values: [0.36250307059515385, -0.05147723225682477] and parameters: {'colsample_bynode': 1.0, 'colsample_bytree': 0.1, 'learning_rate': 0.03342784227828279, 'max_bin': 728, 'max_depth': 10, 'n_estimators': 200, 'num_leaves': 125527, 'reg_alpha': 0.0, 'reg_lambda': 6.5, 'subsample': 0.1}. \n",
      "[I 2023-08-06 15:22:04,226] Trial 10 finished with values: [0.37169491972700214, 0.021733732913695458] and parameters: {'colsample_bynode': 0.8, 'colsample_bytree': 0.4, 'learning_rate': 0.03225661187325349, 'max_bin': 50, 'max_depth': 4, 'n_estimators': 400, 'num_leaves': 80651, 'reg_alpha': 8.5, 'reg_lambda': 6.5, 'subsample': 0.4}. \n",
      "[I 2023-08-06 15:22:06,426] Trial 11 finished with values: [0.3744069297225965, 0.004199631573102658] and parameters: {'colsample_bynode': 0.5, 'colsample_bytree': 0.4, 'learning_rate': 0.051691077527838636, 'max_bin': 183, 'max_depth': 9, 'n_estimators': 200, 'num_leaves': 102444, 'reg_alpha': 9.0, 'reg_lambda': 8.5, 'subsample': 0.8}. \n",
      "[I 2023-08-06 15:22:08,670] Trial 12 finished with values: [0.35402797718691076, -0.01506849060460913] and parameters: {'colsample_bynode': 0.30000000000000004, 'colsample_bytree': 1.0, 'learning_rate': 0.061652618957657, 'max_bin': 908, 'max_depth': 9, 'n_estimators': 400, 'num_leaves': 95841, 'reg_alpha': 10.0, 'reg_lambda': 9.5, 'subsample': 1.0}. \n",
      "[I 2023-08-06 15:22:13,597] Trial 13 finished with values: [0.3828059620045944, -0.002622297861091749] and parameters: {'colsample_bynode': 0.4, 'colsample_bytree': 0.1, 'learning_rate': 0.03207070215772467, 'max_bin': 640, 'max_depth': 5, 'n_estimators': 950, 'num_leaves': 67901, 'reg_alpha': 3.0, 'reg_lambda': 10.0, 'subsample': 1.0}. \n",
      "[I 2023-08-06 15:22:27,161] Trial 14 finished with values: [0.3707431043359309, -0.015601899784190743] and parameters: {'colsample_bynode': 0.4, 'colsample_bytree': 0.30000000000000004, 'learning_rate': 0.03865753191304005, 'max_bin': 92, 'max_depth': 15, 'n_estimators': 650, 'num_leaves': 92086, 'reg_alpha': 10.0, 'reg_lambda': 7.0, 'subsample': 0.1}. \n",
      "[I 2023-08-06 15:22:31,130] Trial 15 finished with values: [0.6085394824842968, -0.01747671099962922] and parameters: {'colsample_bynode': 0.9, 'colsample_bytree': 0.9, 'learning_rate': 0.002455184987407395, 'max_bin': 677, 'max_depth': 13, 'n_estimators': 350, 'num_leaves': 60347, 'reg_alpha': 8.5, 'reg_lambda': 4.0, 'subsample': 0.8}. \n",
      "[I 2023-08-06 15:22:35,004] Trial 16 finished with values: [0.5731714247755028, 0.006564664592772496] and parameters: {'colsample_bynode': 0.1, 'colsample_bytree': 0.30000000000000004, 'learning_rate': 0.0019284527466677838, 'max_bin': 202, 'max_depth': 3, 'n_estimators': 900, 'num_leaves': 24901, 'reg_alpha': 6.0, 'reg_lambda': 4.0, 'subsample': 0.2}. \n",
      "[I 2023-08-06 15:22:38,364] Trial 17 finished with values: [0.2931157247323159, -0.03588235154020286] and parameters: {'colsample_bynode': 0.9, 'colsample_bytree': 1.0, 'learning_rate': 0.023903588108168863, 'max_bin': 136, 'max_depth': 9, 'n_estimators': 350, 'num_leaves': 16810, 'reg_alpha': 4.5, 'reg_lambda': 7.0, 'subsample': 0.7000000000000001}. \n",
      "[I 2023-08-06 15:22:41,316] Trial 18 finished with values: [0.35565056527344746, 0.0077866465103340055] and parameters: {'colsample_bynode': 1.0, 'colsample_bytree': 0.5, 'learning_rate': 0.0723259018855888, 'max_bin': 753, 'max_depth': 11, 'n_estimators': 850, 'num_leaves': 85007, 'reg_alpha': 9.0, 'reg_lambda': 4.0, 'subsample': 0.9}. \n",
      "[I 2023-08-06 15:22:53,131] Trial 19 finished with values: [0.44461101577580403, -0.011279771721735277] and parameters: {'colsample_bynode': 0.5, 'colsample_bytree': 1.0, 'learning_rate': 0.002333297230157003, 'max_bin': 92, 'max_depth': 14, 'n_estimators': 850, 'num_leaves': 94034, 'reg_alpha': 5.0, 'reg_lambda': 5.5, 'subsample': 0.4}. \n",
      "[I 2023-08-06 15:22:57,748] Trial 20 finished with values: [0.3760643831283188, 0.03280960006472927] and parameters: {'colsample_bynode': 1.0, 'colsample_bytree': 0.30000000000000004, 'learning_rate': 0.015700024828605153, 'max_bin': 627, 'max_depth': 4, 'n_estimators': 950, 'num_leaves': 12743, 'reg_alpha': 5.0, 'reg_lambda': 3.5, 'subsample': 0.1}. \n",
      "[I 2023-08-06 15:23:03,683] Trial 21 finished with values: [0.3751262761993509, -0.011103391901170712] and parameters: {'colsample_bynode': 0.6, 'colsample_bytree': 0.2, 'learning_rate': 0.016736149268741923, 'max_bin': 317, 'max_depth': 12, 'n_estimators': 900, 'num_leaves': 91740, 'reg_alpha': 8.5, 'reg_lambda': 4.5, 'subsample': 0.7000000000000001}. \n",
      "[I 2023-08-06 15:23:15,572] Trial 22 finished with values: [0.3475259753017148, -0.008112793999201062] and parameters: {'colsample_bynode': 1.0, 'colsample_bytree': 0.8, 'learning_rate': 0.007061299669402047, 'max_bin': 455, 'max_depth': 10, 'n_estimators': 1000, 'num_leaves': 127522, 'reg_alpha': 3.5, 'reg_lambda': 0.0, 'subsample': 0.30000000000000004}. \n",
      "[I 2023-08-06 15:23:22,755] Trial 23 finished with values: [0.36933132898590576, -0.016130362816363153] and parameters: {'colsample_bynode': 0.8, 'colsample_bytree': 0.8, 'learning_rate': 0.01651004096389576, 'max_bin': 636, 'max_depth': 15, 'n_estimators': 900, 'num_leaves': 7763, 'reg_alpha': 2.0, 'reg_lambda': 0.0, 'subsample': 0.30000000000000004}. \n",
      "[I 2023-08-06 15:23:24,884] Trial 24 finished with values: [0.7123112346207284, -0.016430636942073806] and parameters: {'colsample_bynode': 0.9, 'colsample_bytree': 0.7000000000000001, 'learning_rate': 0.0019299144264763514, 'max_bin': 569, 'max_depth': 4, 'n_estimators': 200, 'num_leaves': 103867, 'reg_alpha': 4.5, 'reg_lambda': 5.0, 'subsample': 0.9}. \n",
      "[I 2023-08-06 15:23:29,819] Trial 25 finished with values: [0.7615306704539313, -0.014163732355553793] and parameters: {'colsample_bynode': 0.4, 'colsample_bytree': 0.7000000000000001, 'learning_rate': 0.0011815414249382247, 'max_bin': 206, 'max_depth': 14, 'n_estimators': 300, 'num_leaves': 15761, 'reg_alpha': 4.5, 'reg_lambda': 9.0, 'subsample': 0.5}. \n",
      "[I 2023-08-06 15:23:32,245] Trial 26 finished with values: [0.3689007323357646, 0.014218599785310926] and parameters: {'colsample_bynode': 0.9, 'colsample_bytree': 0.8, 'learning_rate': 0.05454839176620793, 'max_bin': 158, 'max_depth': 4, 'n_estimators': 550, 'num_leaves': 74988, 'reg_alpha': 9.5, 'reg_lambda': 6.0, 'subsample': 0.5}. \n",
      "[I 2023-08-06 15:23:35,920] Trial 27 finished with values: [0.7125611110126798, 0.006063567453096441] and parameters: {'colsample_bynode': 0.2, 'colsample_bytree': 0.4, 'learning_rate': 0.0017275140457493833, 'max_bin': 634, 'max_depth': 12, 'n_estimators': 350, 'num_leaves': 57289, 'reg_alpha': 6.0, 'reg_lambda': 7.0, 'subsample': 0.1}. \n",
      "[I 2023-08-06 15:23:42,951] Trial 28 finished with values: [0.32916665647416626, -0.011193009366057327] and parameters: {'colsample_bynode': 0.4, 'colsample_bytree': 1.0, 'learning_rate': 0.020071339177133864, 'max_bin': 11, 'max_depth': 12, 'n_estimators': 950, 'num_leaves': 54394, 'reg_alpha': 1.5, 'reg_lambda': 6.5, 'subsample': 0.1}. \n",
      "[I 2023-08-06 15:23:47,981] Trial 29 finished with values: [0.4185730580711434, -0.014981430836334297] and parameters: {'colsample_bynode': 0.5, 'colsample_bytree': 0.1, 'learning_rate': 0.006681240597119298, 'max_bin': 311, 'max_depth': 5, 'n_estimators': 800, 'num_leaves': 103054, 'reg_alpha': 3.0, 'reg_lambda': 10.0, 'subsample': 0.4}. \n",
      "[I 2023-08-06 15:23:53,566] Trial 30 finished with values: [0.4818180786829134, -0.011799910805727398] and parameters: {'colsample_bynode': 0.1, 'colsample_bytree': 0.1, 'learning_rate': 0.014608374835043224, 'max_bin': 292, 'max_depth': 14, 'n_estimators': 450, 'num_leaves': 105598, 'reg_alpha': 4.5, 'reg_lambda': 7.5, 'subsample': 0.5}. \n",
      "[I 2023-08-06 15:23:57,626] Trial 31 finished with values: [0.3323585886841152, -0.016461513086216684] and parameters: {'colsample_bynode': 0.7000000000000001, 'colsample_bytree': 0.6, 'learning_rate': 0.022466330890110877, 'max_bin': 841, 'max_depth': 8, 'n_estimators': 900, 'num_leaves': 10676, 'reg_alpha': 7.0, 'reg_lambda': 5.5, 'subsample': 0.2}. \n",
      "[I 2023-08-06 15:24:10,358] Trial 32 finished with values: [0.6209168717488691, 0.002514416733117475] and parameters: {'colsample_bynode': 0.2, 'colsample_bytree': 0.4, 'learning_rate': 0.0012077407065650945, 'max_bin': 238, 'max_depth': 14, 'n_estimators': 950, 'num_leaves': 97332, 'reg_alpha': 6.0, 'reg_lambda': 10.0, 'subsample': 0.30000000000000004}. \n",
      "[I 2023-08-06 15:24:14,057] Trial 33 finished with values: [0.3458098939877463, -0.03896991634251551] and parameters: {'colsample_bynode': 0.8, 'colsample_bytree': 0.7000000000000001, 'learning_rate': 0.01833765550049453, 'max_bin': 104, 'max_depth': 13, 'n_estimators': 250, 'num_leaves': 94958, 'reg_alpha': 2.5, 'reg_lambda': 7.5, 'subsample': 0.9}. \n",
      "[I 2023-08-06 15:24:16,487] Trial 34 finished with values: [0.36976640381590975, 0.004483805291451204] and parameters: {'colsample_bynode': 1.0, 'colsample_bytree': 0.5, 'learning_rate': 0.033937799049483505, 'max_bin': 833, 'max_depth': 8, 'n_estimators': 250, 'num_leaves': 29419, 'reg_alpha': 10.0, 'reg_lambda': 9.5, 'subsample': 0.6}. \n",
      "[I 2023-08-06 15:24:24,199] Trial 35 finished with values: [0.35813328214296797, 0.0015233562662005928] and parameters: {'colsample_bynode': 0.5, 'colsample_bytree': 0.4, 'learning_rate': 0.007094815706534159, 'max_bin': 177, 'max_depth': 11, 'n_estimators': 900, 'num_leaves': 8223, 'reg_alpha': 0.0, 'reg_lambda': 7.5, 'subsample': 0.8}. \n",
      "[I 2023-08-06 15:24:29,778] Trial 36 finished with values: [0.3976586962925017, 0.004850495571086799] and parameters: {'colsample_bynode': 0.8, 'colsample_bytree': 0.2, 'learning_rate': 0.014720745951501156, 'max_bin': 735, 'max_depth': 13, 'n_estimators': 600, 'num_leaves': 7604, 'reg_alpha': 8.0, 'reg_lambda': 3.0, 'subsample': 0.5}. \n",
      "[I 2023-08-06 15:24:32,667] Trial 37 finished with values: [0.3261967236049415, -0.06199688915473894] and parameters: {'colsample_bynode': 0.9, 'colsample_bytree': 0.5, 'learning_rate': 0.04955668077323449, 'max_bin': 27, 'max_depth': 6, 'n_estimators': 500, 'num_leaves': 70188, 'reg_alpha': 1.5, 'reg_lambda': 1.5, 'subsample': 0.1}. \n",
      "[I 2023-08-06 15:24:37,435] Trial 38 finished with values: [0.3661517452144584, 0.020205717830568792] and parameters: {'colsample_bynode': 0.5, 'colsample_bytree': 0.8, 'learning_rate': 0.014002102720295702, 'max_bin': 91, 'max_depth': 6, 'n_estimators': 650, 'num_leaves': 32924, 'reg_alpha': 7.0, 'reg_lambda': 8.0, 'subsample': 0.6}. \n",
      "[I 2023-08-06 15:24:41,751] Trial 39 finished with values: [0.3613398149207558, 0.018365488150368592] and parameters: {'colsample_bynode': 0.8, 'colsample_bytree': 0.9, 'learning_rate': 0.01859072219603331, 'max_bin': 974, 'max_depth': 7, 'n_estimators': 700, 'num_leaves': 11346, 'reg_alpha': 7.5, 'reg_lambda': 9.5, 'subsample': 0.7000000000000001}. \n",
      "[I 2023-08-06 15:24:49,314] Trial 40 finished with values: [0.3691630842491967, -0.030622742660071978] and parameters: {'colsample_bynode': 0.30000000000000004, 'colsample_bytree': 0.9, 'learning_rate': 0.011574812815153612, 'max_bin': 918, 'max_depth': 6, 'n_estimators': 950, 'num_leaves': 35263, 'reg_alpha': 0.0, 'reg_lambda': 5.0, 'subsample': 1.0}. \n",
      "[I 2023-08-06 15:24:55,800] Trial 41 finished with values: [0.485494818419725, -0.0233371402751415] and parameters: {'colsample_bynode': 0.30000000000000004, 'colsample_bytree': 0.8, 'learning_rate': 0.002185284604606687, 'max_bin': 128, 'max_depth': 15, 'n_estimators': 700, 'num_leaves': 5607, 'reg_alpha': 6.5, 'reg_lambda': 2.0, 'subsample': 0.8}. \n",
      "[I 2023-08-06 15:25:01,713] Trial 42 finished with values: [0.45908715229740865, 0.015576351014946754] and parameters: {'colsample_bynode': 0.7000000000000001, 'colsample_bytree': 0.6, 'learning_rate': 0.0027498362415309405, 'max_bin': 366, 'max_depth': 7, 'n_estimators': 800, 'num_leaves': 83190, 'reg_alpha': 0.0, 'reg_lambda': 8.0, 'subsample': 0.5}. \n",
      "[I 2023-08-06 15:25:07,051] Trial 43 finished with values: [0.5664134199842532, -0.001677336922360828] and parameters: {'colsample_bynode': 0.1, 'colsample_bytree': 0.7000000000000001, 'learning_rate': 0.0033817989668010404, 'max_bin': 14, 'max_depth': 10, 'n_estimators': 500, 'num_leaves': 39153, 'reg_alpha': 6.0, 'reg_lambda': 10.0, 'subsample': 0.2}. \n",
      "[I 2023-08-06 15:25:17,145] Trial 44 finished with values: [0.2922140676664903, -0.04566324198942073] and parameters: {'colsample_bynode': 1.0, 'colsample_bytree': 0.7000000000000001, 'learning_rate': 0.025344679098802548, 'max_bin': 204, 'max_depth': 14, 'n_estimators': 950, 'num_leaves': 64919, 'reg_alpha': 4.0, 'reg_lambda': 9.0, 'subsample': 0.7000000000000001}. \n",
      "[I 2023-08-06 15:25:19,740] Trial 45 finished with values: [0.668750858093821, -0.02145903414473993] and parameters: {'colsample_bynode': 0.8, 'colsample_bytree': 0.5, 'learning_rate': 0.003411454135695906, 'max_bin': 978, 'max_depth': 15, 'n_estimators': 150, 'num_leaves': 7228, 'reg_alpha': 8.5, 'reg_lambda': 2.0, 'subsample': 0.7000000000000001}. \n",
      "[I 2023-08-06 15:25:24,140] Trial 46 finished with values: [0.37150722351860416, 0.004791348354785119] and parameters: {'colsample_bynode': 0.4, 'colsample_bytree': 0.6, 'learning_rate': 0.016826124748479856, 'max_bin': 898, 'max_depth': 5, 'n_estimators': 900, 'num_leaves': 77218, 'reg_alpha': 9.5, 'reg_lambda': 6.0, 'subsample': 0.5}. \n",
      "[I 2023-08-06 15:25:27,088] Trial 47 finished with values: [0.5807113269388761, -0.00780195265177186] and parameters: {'colsample_bynode': 0.1, 'colsample_bytree': 0.1, 'learning_rate': 0.004998559577255013, 'max_bin': 752, 'max_depth': 9, 'n_estimators': 350, 'num_leaves': 4254, 'reg_alpha': 1.0, 'reg_lambda': 1.0, 'subsample': 0.5}. \n",
      "[I 2023-08-06 15:25:32,985] Trial 48 finished with values: [0.48873484209779655, -0.005664384318912585] and parameters: {'colsample_bynode': 0.2, 'colsample_bytree': 0.30000000000000004, 'learning_rate': 0.0026130054664018428, 'max_bin': 414, 'max_depth': 7, 'n_estimators': 950, 'num_leaves': 34881, 'reg_alpha': 7.0, 'reg_lambda': 2.5, 'subsample': 0.9}. \n",
      "[I 2023-08-06 15:25:37,403] Trial 49 finished with values: [0.4106377278154268, -0.00772709572100716] and parameters: {'colsample_bynode': 0.2, 'colsample_bytree': 0.4, 'learning_rate': 0.007879387930013675, 'max_bin': 658, 'max_depth': 8, 'n_estimators': 650, 'num_leaves': 54548, 'reg_alpha': 8.5, 'reg_lambda': 8.0, 'subsample': 0.1}. \n",
      "[I 2023-08-06 15:25:41,260] Trial 50 finished with values: [0.5126364103601957, 0.0067296217666364955] and parameters: {'colsample_bynode': 0.4, 'colsample_bytree': 1.0, 'learning_rate': 0.0033817989668010404, 'max_bin': 14, 'max_depth': 12, 'n_estimators': 500, 'num_leaves': 39153, 'reg_alpha': 6.0, 'reg_lambda': 10.0, 'subsample': 0.1}. \n",
      "[I 2023-08-06 15:25:44,436] Trial 51 finished with values: [0.32937150375855334, -0.038319307232904276] and parameters: {'colsample_bynode': 0.6, 'colsample_bytree': 0.5, 'learning_rate': 0.0723259018855888, 'max_bin': 753, 'max_depth': 11, 'n_estimators': 850, 'num_leaves': 85007, 'reg_alpha': 9.0, 'reg_lambda': 4.0, 'subsample': 0.4}. \n",
      "[I 2023-08-06 15:25:51,565] Trial 52 finished with values: [0.3839946059756045, 0.03539763787635425] and parameters: {'colsample_bynode': 1.0, 'colsample_bytree': 0.8, 'learning_rate': 0.007061299669402047, 'max_bin': 136, 'max_depth': 9, 'n_estimators': 1000, 'num_leaves': 127522, 'reg_alpha': 4.5, 'reg_lambda': 7.0, 'subsample': 0.7000000000000001}. \n",
      "[I 2023-08-06 15:25:55,223] Trial 53 finished with values: [0.3656769977065984, 0.004688115115856151] and parameters: {'colsample_bynode': 1.0, 'colsample_bytree': 0.8, 'learning_rate': 0.03342784227828279, 'max_bin': 904, 'max_depth': 10, 'n_estimators': 1000, 'num_leaves': 125527, 'reg_alpha': 9.0, 'reg_lambda': 6.5, 'subsample': 1.0}. \n",
      "[I 2023-08-06 15:26:00,315] Trial 54 finished with values: [0.7753697683315017, -0.00739377633509708] and parameters: {'colsample_bynode': 1.0, 'colsample_bytree': 0.1, 'learning_rate': 0.001075257854155357, 'max_bin': 204, 'max_depth': 14, 'n_estimators': 350, 'num_leaves': 64919, 'reg_alpha': 2.0, 'reg_lambda': 9.0, 'subsample': 0.7000000000000001}. \n",
      "[I 2023-08-06 15:26:02,494] Trial 55 finished with values: [0.3594408020435943, 0.017104046170242027] and parameters: {'colsample_bynode': 0.9, 'colsample_bytree': 1.0, 'learning_rate': 0.04955668077323449, 'max_bin': 27, 'max_depth': 6, 'n_estimators': 350, 'num_leaves': 16810, 'reg_alpha': 7.5, 'reg_lambda': 9.0, 'subsample': 0.7000000000000001}. \n",
      "[I 2023-08-06 15:26:07,635] Trial 56 finished with values: [0.36925696897991767, -0.008579014972002252] and parameters: {'colsample_bynode': 0.4, 'colsample_bytree': 0.6, 'learning_rate': 0.009998841455537321, 'max_bin': 311, 'max_depth': 5, 'n_estimators': 800, 'num_leaves': 77218, 'reg_alpha': 9.5, 'reg_lambda': 10.0, 'subsample': 0.5}. \n",
      "[I 2023-08-06 15:26:11,455] Trial 57 finished with values: [0.35486789809456265, 0.03455690633657227] and parameters: {'colsample_bynode': 0.8, 'colsample_bytree': 0.7000000000000001, 'learning_rate': 0.01651004096389576, 'max_bin': 569, 'max_depth': 4, 'n_estimators': 900, 'num_leaves': 103867, 'reg_alpha': 6.5, 'reg_lambda': 0.0, 'subsample': 0.9}. \n",
      "[I 2023-08-06 15:26:13,604] Trial 58 finished with values: [0.3551624008420298, 0.001109264668784249] and parameters: {'colsample_bynode': 0.9, 'colsample_bytree': 0.5, 'learning_rate': 0.04955668077323449, 'max_bin': 50, 'max_depth': 6, 'n_estimators': 400, 'num_leaves': 80651, 'reg_alpha': 8.5, 'reg_lambda': 6.5, 'subsample': 0.1}. \n",
      "[I 2023-08-06 15:26:22,802] Trial 59 finished with values: [0.4223994844518457, -0.03473377977346076] and parameters: {'colsample_bynode': 0.6, 'colsample_bytree': 0.8, 'learning_rate': 0.002185284604606687, 'max_bin': 128, 'max_depth': 14, 'n_estimators': 900, 'num_leaves': 5607, 'reg_alpha': 1.0, 'reg_lambda': 8.0, 'subsample': 1.0}. \n",
      "[I 2023-08-06 15:26:27,550] Trial 60 finished with values: [0.32799449509648954, -0.021136581541905397] and parameters: {'colsample_bynode': 0.6, 'colsample_bytree': 1.0, 'learning_rate': 0.020071339177133864, 'max_bin': 11, 'max_depth': 12, 'n_estimators': 900, 'num_leaves': 54394, 'reg_alpha': 6.5, 'reg_lambda': 8.0, 'subsample': 0.1}. \n",
      "[I 2023-08-06 15:26:29,932] Trial 61 finished with values: [0.32616933704694756, -0.06347898664190688] and parameters: {'colsample_bynode': 0.6, 'colsample_bytree': 0.7000000000000001, 'learning_rate': 0.014519100903998838, 'max_bin': 569, 'max_depth': 8, 'n_estimators': 200, 'num_leaves': 121622, 'reg_alpha': 0.0, 'reg_lambda': 5.0, 'subsample': 0.9}. \n",
      "[I 2023-08-06 15:26:38,036] Trial 62 finished with values: [0.34163951586562674, -0.020949002205317757] and parameters: {'colsample_bynode': 1.0, 'colsample_bytree': 0.8, 'learning_rate': 0.026306641057335316, 'max_bin': 753, 'max_depth': 14, 'n_estimators': 600, 'num_leaves': 85007, 'reg_alpha': 3.5, 'reg_lambda': 8.5, 'subsample': 0.1}. \n",
      "[I 2023-08-06 15:27:00,986] Trial 63 finished with values: [0.5194943057894986, 0.0020821931196896015] and parameters: {'colsample_bynode': 0.4, 'colsample_bytree': 0.30000000000000004, 'learning_rate': 0.0019284527466677838, 'max_bin': 202, 'max_depth': 15, 'n_estimators': 900, 'num_leaves': 24901, 'reg_alpha': 6.0, 'reg_lambda': 4.0, 'subsample': 0.2}. \n",
      "[I 2023-08-06 15:27:07,171] Trial 64 finished with values: [0.3715716399677351, 0.011293474063379605] and parameters: {'colsample_bynode': 0.6, 'colsample_bytree': 0.4, 'learning_rate': 0.01833765550049453, 'max_bin': 177, 'max_depth': 13, 'n_estimators': 550, 'num_leaves': 8223, 'reg_alpha': 2.5, 'reg_lambda': 7.5, 'subsample': 0.9}. \n",
      "[I 2023-08-06 15:27:11,376] Trial 65 finished with values: [0.3999105214218082, 0.031105226403474462] and parameters: {'colsample_bynode': 0.6, 'colsample_bytree': 0.2, 'learning_rate': 0.016736149268741923, 'max_bin': 158, 'max_depth': 4, 'n_estimators': 900, 'num_leaves': 91740, 'reg_alpha': 9.5, 'reg_lambda': 6.0, 'subsample': 0.5}. \n",
      "[I 2023-08-06 15:27:15,607] Trial 66 finished with values: [0.6107955532787943, -0.0007590807597779303] and parameters: {'colsample_bynode': 0.9, 'colsample_bytree': 0.9, 'learning_rate': 0.002455184987407395, 'max_bin': 677, 'max_depth': 13, 'n_estimators': 350, 'num_leaves': 99776, 'reg_alpha': 8.5, 'reg_lambda': 4.0, 'subsample': 0.8}. \n",
      "[I 2023-08-06 15:27:21,438] Trial 67 finished with values: [0.3708029479036848, -0.022621969853621027] and parameters: {'colsample_bynode': 0.5, 'colsample_bytree': 0.2, 'learning_rate': 0.014720745951501156, 'max_bin': 317, 'max_depth': 11, 'n_estimators': 900, 'num_leaves': 7604, 'reg_alpha': 8.0, 'reg_lambda': 4.5, 'subsample': 0.8}. \n",
      "[I 2023-08-06 15:27:25,105] Trial 68 finished with values: [0.640171111570128, 0.019086885402366027] and parameters: {'colsample_bynode': 0.9, 'colsample_bytree': 0.1, 'learning_rate': 0.0019299144264763514, 'max_bin': 573, 'max_depth': 7, 'n_estimators': 550, 'num_leaves': 103867, 'reg_alpha': 7.5, 'reg_lambda': 1.0, 'subsample': 0.9}. \n",
      "[I 2023-08-06 15:27:30,397] Trial 69 finished with values: [0.35757878982366853, -0.04561844673437743] and parameters: {'colsample_bynode': 0.30000000000000004, 'colsample_bytree': 0.1, 'learning_rate': 0.03207070215772467, 'max_bin': 908, 'max_depth': 9, 'n_estimators': 950, 'num_leaves': 67901, 'reg_alpha': 3.0, 'reg_lambda': 9.5, 'subsample': 0.5}. \n",
      "[I 2023-08-06 15:27:33,002] Trial 70 finished with values: [0.6882595292781967, -0.001686474173332897] and parameters: {'colsample_bynode': 0.8, 'colsample_bytree': 0.5, 'learning_rate': 0.003411454135695906, 'max_bin': 978, 'max_depth': 15, 'n_estimators': 150, 'num_leaves': 7228, 'reg_alpha': 8.5, 'reg_lambda': 2.0, 'subsample': 0.7000000000000001}. \n",
      "[I 2023-08-06 15:27:40,659] Trial 71 finished with values: [0.3482739389674851, 0.014529147643701001] and parameters: {'colsample_bynode': 1.0, 'colsample_bytree': 0.7000000000000001, 'learning_rate': 0.007094815706534159, 'max_bin': 204, 'max_depth': 11, 'n_estimators': 900, 'num_leaves': 8223, 'reg_alpha': 0.5, 'reg_lambda': 9.0, 'subsample': 0.8}. \n",
      "[I 2023-08-06 15:28:13,387] Trial 72 finished with values: [0.47787264022428494, -0.003598678915921194] and parameters: {'colsample_bynode': 0.1, 'colsample_bytree': 0.30000000000000004, 'learning_rate': 0.0033817989668010404, 'max_bin': 414, 'max_depth': 15, 'n_estimators': 950, 'num_leaves': 34881, 'reg_alpha': 6.0, 'reg_lambda': 2.5, 'subsample': 0.2}. \n",
      "[I 2023-08-06 15:28:16,344] Trial 73 finished with values: [0.2928331622285249, -0.07624154698727353] and parameters: {'colsample_bynode': 1.0, 'colsample_bytree': 0.30000000000000004, 'learning_rate': 0.09282569360300993, 'max_bin': 71, 'max_depth': 4, 'n_estimators': 950, 'num_leaves': 14458, 'reg_alpha': 2.5, 'reg_lambda': 6.0, 'subsample': 0.1}. \n",
      "[I 2023-08-06 15:28:19,773] Trial 74 finished with values: [0.5618931619232589, -0.014331805098010353] and parameters: {'colsample_bynode': 0.1, 'colsample_bytree': 0.7000000000000001, 'learning_rate': 0.0033817989668010404, 'max_bin': 48, 'max_depth': 11, 'n_estimators': 500, 'num_leaves': 64818, 'reg_alpha': 9.0, 'reg_lambda': 10.0, 'subsample': 0.2}. \n",
      "[I 2023-08-06 15:28:27,767] Trial 75 finished with values: [0.39525438416510295, -0.015939075554192217] and parameters: {'colsample_bynode': 0.30000000000000004, 'colsample_bytree': 0.7000000000000001, 'learning_rate': 0.025344679098802548, 'max_bin': 728, 'max_depth': 8, 'n_estimators': 950, 'num_leaves': 125527, 'reg_alpha': 0.0, 'reg_lambda': 4.0, 'subsample': 0.7000000000000001}. \n",
      "[I 2023-08-06 15:28:31,481] Trial 76 finished with values: [0.5174232461850171, -0.025741954767936948] and parameters: {'colsample_bynode': 0.8, 'colsample_bytree': 0.8, 'learning_rate': 0.0019284527466677838, 'max_bin': 636, 'max_depth': 3, 'n_estimators': 650, 'num_leaves': 7763, 'reg_alpha': 6.0, 'reg_lambda': 4.5, 'subsample': 0.2}. \n",
      "[I 2023-08-06 15:28:33,623] Trial 77 finished with values: [0.6968206796121635, 0.009444032675337444] and parameters: {'colsample_bynode': 0.1, 'colsample_bytree': 0.2, 'learning_rate': 0.0033817989668010404, 'max_bin': 14, 'max_depth': 10, 'n_estimators': 500, 'num_leaves': 94273, 'reg_alpha': 6.0, 'reg_lambda': 9.0, 'subsample': 0.8}. \n",
      "[I 2023-08-06 15:28:39,487] Trial 78 finished with values: [0.3781199301175372, -0.0030030755741239368] and parameters: {'colsample_bynode': 0.30000000000000004, 'colsample_bytree': 0.2, 'learning_rate': 0.017537464694188272, 'max_bin': 572, 'max_depth': 6, 'n_estimators': 1000, 'num_leaves': 94273, 'reg_alpha': 5.0, 'reg_lambda': 9.0, 'subsample': 0.8}. \n",
      "[I 2023-08-06 15:28:41,995] Trial 79 finished with values: [0.3121559843517274, -0.021234661028951995] and parameters: {'colsample_bynode': 0.5, 'colsample_bytree': 1.0, 'learning_rate': 0.09935728200866603, 'max_bin': 908, 'max_depth': 10, 'n_estimators': 700, 'num_leaves': 95841, 'reg_alpha': 8.0, 'reg_lambda': 6.5, 'subsample': 1.0}. \n",
      "[I 2023-08-06 15:28:44,576] Trial 80 finished with values: [0.3914614544808667, 0.03679504796633837] and parameters: {'colsample_bynode': 0.30000000000000004, 'colsample_bytree': 1.0, 'learning_rate': 0.03342784227828279, 'max_bin': 728, 'max_depth': 10, 'n_estimators': 200, 'num_leaves': 125527, 'reg_alpha': 0.0, 'reg_lambda': 6.5, 'subsample': 0.1}. \n",
      "[I 2023-08-06 15:28:48,405] Trial 81 finished with values: [0.40664236560206984, -0.007347662286860346] and parameters: {'colsample_bynode': 0.30000000000000004, 'colsample_bytree': 0.2, 'learning_rate': 0.015626449781527465, 'max_bin': 231, 'max_depth': 6, 'n_estimators': 550, 'num_leaves': 5607, 'reg_alpha': 5.0, 'reg_lambda': 9.0, 'subsample': 0.8}. \n",
      "[I 2023-08-06 15:28:51,724] Trial 82 finished with values: [0.6337025263937268, -0.01201930441733623] and parameters: {'colsample_bynode': 0.30000000000000004, 'colsample_bytree': 0.4, 'learning_rate': 0.002185284604606687, 'max_bin': 128, 'max_depth': 8, 'n_estimators': 400, 'num_leaves': 5607, 'reg_alpha': 8.5, 'reg_lambda': 6.5, 'subsample': 0.4}. \n",
      "[I 2023-08-06 15:28:57,382] Trial 83 finished with values: [0.49472929466934956, -0.02310195470200538] and parameters: {'colsample_bynode': 0.7000000000000001, 'colsample_bytree': 0.6, 'learning_rate': 0.0017275140457493833, 'max_bin': 366, 'max_depth': 7, 'n_estimators': 800, 'num_leaves': 83190, 'reg_alpha': 0.0, 'reg_lambda': 7.0, 'subsample': 0.8}. \n",
      "[I 2023-08-06 15:29:04,632] Trial 84 finished with values: [0.4451222506662044, 0.06467037115642343] and parameters: {'colsample_bynode': 0.9, 'colsample_bytree': 1.0, 'learning_rate': 0.023903588108168863, 'max_bin': 424, 'max_depth': 5, 'n_estimators': 1000, 'num_leaves': 121622, 'reg_alpha': 0.0, 'reg_lambda': 8.0, 'subsample': 0.7000000000000001}. \n",
      "[I 2023-08-06 15:29:33,391] Trial 85 finished with values: [0.29825489869235516, -0.06949458833104172] and parameters: {'colsample_bynode': 0.30000000000000004, 'colsample_bytree': 1.0, 'learning_rate': 0.020071339177133864, 'max_bin': 128, 'max_depth': 15, 'n_estimators': 950, 'num_leaves': 54394, 'reg_alpha': 1.5, 'reg_lambda': 2.0, 'subsample': 0.1}. \n",
      "[I 2023-08-06 15:29:37,103] Trial 86 finished with values: [0.31557290221344075, -0.04336191807163048] and parameters: {'colsample_bynode': 0.7000000000000001, 'colsample_bytree': 0.8, 'learning_rate': 0.022466330890110877, 'max_bin': 455, 'max_depth': 8, 'n_estimators': 900, 'num_leaves': 10676, 'reg_alpha': 7.0, 'reg_lambda': 0.0, 'subsample': 0.2}. \n",
      "[I 2023-08-06 15:29:40,689] Trial 87 finished with values: [0.362946528259767, -0.01936568734701416] and parameters: {'colsample_bynode': 1.0, 'colsample_bytree': 0.1, 'learning_rate': 0.034091184537595826, 'max_bin': 455, 'max_depth': 13, 'n_estimators': 350, 'num_leaves': 4254, 'reg_alpha': 3.5, 'reg_lambda': 1.0, 'subsample': 0.5}. \n",
      "[I 2023-08-06 15:29:43,527] Trial 88 finished with values: [0.44957875786404, 0.01035219780117047] and parameters: {'colsample_bynode': 0.4, 'colsample_bytree': 0.1, 'learning_rate': 0.03207070215772467, 'max_bin': 908, 'max_depth': 9, 'n_estimators': 500, 'num_leaves': 67901, 'reg_alpha': 10.0, 'reg_lambda': 10.0, 'subsample': 1.0}. \n",
      "[I 2023-08-06 15:29:49,914] Trial 89 finished with values: [0.34718296394115317, -0.038157777223784994] and parameters: {'colsample_bynode': 0.4, 'colsample_bytree': 0.6, 'learning_rate': 0.01651004096389576, 'max_bin': 898, 'max_depth': 5, 'n_estimators': 900, 'num_leaves': 7763, 'reg_alpha': 1.0, 'reg_lambda': 0.0, 'subsample': 0.5}. \n",
      "[I 2023-08-06 15:29:51,669] Trial 90 finished with values: [0.4697268034247302, -0.011371859307465537] and parameters: {'colsample_bynode': 0.2, 'colsample_bytree': 0.8, 'learning_rate': 0.026306641057335316, 'max_bin': 139, 'max_depth': 8, 'n_estimators': 100, 'num_leaves': 90177, 'reg_alpha': 8.5, 'reg_lambda': 8.5, 'subsample': 0.6}. \n",
      "[I 2023-08-06 15:30:01,592] Trial 91 finished with values: [0.33481921353358085, -0.02067752080077523] and parameters: {'colsample_bynode': 0.6, 'colsample_bytree': 0.8, 'learning_rate': 0.025344679098802548, 'max_bin': 948, 'max_depth': 14, 'n_estimators': 950, 'num_leaves': 64919, 'reg_alpha': 4.0, 'reg_lambda': 9.0, 'subsample': 1.0}. \n",
      "[I 2023-08-06 15:30:09,599] Trial 92 finished with values: [0.34099950150344455, -0.013530302947441508] and parameters: {'colsample_bynode': 0.5, 'colsample_bytree': 0.4, 'learning_rate': 0.007094815706534159, 'max_bin': 601, 'max_depth': 11, 'n_estimators': 900, 'num_leaves': 77218, 'reg_alpha': 0.0, 'reg_lambda': 6.0, 'subsample': 0.5}. \n",
      "[I 2023-08-06 15:30:11,841] Trial 93 finished with values: [0.42606027194006113, -0.022107526331153426] and parameters: {'colsample_bynode': 0.1, 'colsample_bytree': 0.1, 'learning_rate': 0.03342784227828279, 'max_bin': 728, 'max_depth': 10, 'n_estimators': 200, 'num_leaves': 125527, 'reg_alpha': 0.0, 'reg_lambda': 6.5, 'subsample': 0.5}. \n",
      "[I 2023-08-06 15:30:14,795] Trial 94 finished with values: [0.33785506813292154, -0.040756502557619645] and parameters: {'colsample_bynode': 0.5, 'colsample_bytree': 0.5, 'learning_rate': 0.04553693281163091, 'max_bin': 27, 'max_depth': 6, 'n_estimators': 500, 'num_leaves': 32924, 'reg_alpha': 1.5, 'reg_lambda': 1.5, 'subsample': 0.6}. \n",
      "[I 2023-08-06 15:30:19,030] Trial 95 finished with values: [0.3652835647229204, 0.004536383837099867] and parameters: {'colsample_bynode': 0.7000000000000001, 'colsample_bytree': 0.6, 'learning_rate': 0.022466330890110877, 'max_bin': 311, 'max_depth': 8, 'n_estimators': 800, 'num_leaves': 103054, 'reg_alpha': 7.0, 'reg_lambda': 10.0, 'subsample': 0.2}. \n",
      "[I 2023-08-06 15:30:22,515] Trial 96 finished with values: [0.37145166356629605, -0.03141398690574382] and parameters: {'colsample_bynode': 0.9, 'colsample_bytree': 0.2, 'learning_rate': 0.023903588108168863, 'max_bin': 317, 'max_depth': 12, 'n_estimators': 350, 'num_leaves': 16810, 'reg_alpha': 8.5, 'reg_lambda': 7.0, 'subsample': 0.7000000000000001}. \n",
      "[I 2023-08-06 15:30:27,090] Trial 97 finished with values: [0.3115823978376335, -0.07504774990778562] and parameters: {'colsample_bynode': 1.0, 'colsample_bytree': 0.8, 'learning_rate': 0.015700024828605153, 'max_bin': 627, 'max_depth': 4, 'n_estimators': 950, 'num_leaves': 12743, 'reg_alpha': 5.0, 'reg_lambda': 3.5, 'subsample': 0.1}. \n",
      "[I 2023-08-06 15:30:31,412] Trial 98 finished with values: [0.42576604637918003, 0.022813013124665937] and parameters: {'colsample_bynode': 0.30000000000000004, 'colsample_bytree': 0.2, 'learning_rate': 0.01859072219603331, 'max_bin': 231, 'max_depth': 6, 'n_estimators': 700, 'num_leaves': 11346, 'reg_alpha': 7.5, 'reg_lambda': 9.5, 'subsample': 0.8}. \n"
     ]
    }
   ],
   "source": [
    "pruner = optuna.pruners.SuccessiveHalvingPruner()\n",
    "study = optuna.create_study(\n",
    "    pruner=pruner,\n",
    "    directions=[\"minimize\", \"minimize\"],\n",
    "    study_name=\"lightgbm_bin_age\",\n",
    "    storage=\"sqlite:///optuna.db\",\n",
    "    load_if_exists=True,\n",
    ")\n",
    "study.optimize(objective, n_trials=250)"
   ]
  },
  {
   "cell_type": "code",
   "execution_count": null,
   "id": "a959b9c2",
   "metadata": {},
   "outputs": [],
   "source": []
  }
 ],
 "metadata": {
  "kernelspec": {
   "display_name": "Python 3 (ipykernel)",
   "language": "python",
   "name": "python3"
  },
  "language_info": {
   "codemirror_mode": {
    "name": "ipython",
    "version": 3
   },
   "file_extension": ".py",
   "mimetype": "text/x-python",
   "name": "python",
   "nbconvert_exporter": "python",
   "pygments_lexer": "ipython3",
   "version": "3.11.2"
  },
  "papermill": {
   "default_parameters": {},
   "duration": 49.896341,
   "end_time": "2023-07-17T22:46:12.417994",
   "environment_variables": {},
   "exception": null,
   "input_path": "__notebook__.ipynb",
   "output_path": "__notebook__.ipynb",
   "parameters": {},
   "start_time": "2023-07-17T22:45:22.521653",
   "version": "2.4.0"
  }
 },
 "nbformat": 4,
 "nbformat_minor": 5
}
