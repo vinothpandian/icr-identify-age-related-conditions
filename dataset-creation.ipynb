{
 "cells": [
  {
   "cell_type": "code",
   "execution_count": 10,
   "metadata": {},
   "outputs": [],
   "source": [
    "import numpy as np\n",
    "import pandas as pd\n",
    "from sklearn.model_selection import train_test_split"
   ]
  },
  {
   "cell_type": "code",
   "execution_count": 11,
   "metadata": {},
   "outputs": [],
   "source": [
    "df = pd.read_csv('./data/train.csv')"
   ]
  },
  {
   "cell_type": "code",
   "execution_count": 12,
   "metadata": {},
   "outputs": [
    {
     "data": {
      "text/plain": [
       "Class\n",
       "0    509\n",
       "1    108\n",
       "Name: count, dtype: int64"
      ]
     },
     "execution_count": 12,
     "metadata": {},
     "output_type": "execute_result"
    }
   ],
   "source": [
    "df.Class.value_counts()"
   ]
  },
  {
   "cell_type": "code",
   "execution_count": 13,
   "metadata": {},
   "outputs": [
    {
     "name": "stdout",
     "output_type": "stream",
     "text": [
      "Train dataset has less samples of class 1 than test dataset with 33\n",
      "Train dataset: 0.15135135135135136\n",
      "Test dataset: 0.21052631578947367\n",
      "Ratio: 1.3909774436090223\n",
      "Train dataset has less samples of class 1 than test dataset with 37\n",
      "Train dataset: 0.15135135135135136\n",
      "Test dataset: 0.21052631578947367\n",
      "Ratio: 1.3909774436090223\n",
      "Train dataset has less samples of class 1 than test dataset with 89\n",
      "Train dataset: 0.14864864864864866\n",
      "Test dataset: 0.2145748987854251\n",
      "Ratio: 1.4435038645564962\n",
      "Train dataset has less samples of class 1 than test dataset with 92\n",
      "Train dataset: 0.15135135135135136\n",
      "Test dataset: 0.21052631578947367\n",
      "Ratio: 1.3909774436090223\n",
      "Train dataset has less samples of class 1 than test dataset with 98\n",
      "Train dataset: 0.14054054054054055\n",
      "Test dataset: 0.22672064777327935\n",
      "Ratio: 1.6132046091560261\n"
     ]
    }
   ],
   "source": [
    "for seed in range(0, 100):\n",
    "    train_df, test_df = train_test_split(df, test_size=0.4, random_state=seed)\n",
    "    train_values = train_df.Class.value_counts() / len(train_df)\n",
    "    test_values = test_df.Class.value_counts() / len(test_df)\n",
    "\n",
    "    if train_values.T[1] < test_values.T[1] and test_values.T[1] / train_values.T[1] > 1.3:\n",
    "        print(f'Train dataset has less samples of class 1 than test dataset with {seed}')\n",
    "        print(f'Train dataset: {train_values.T[1]}')\n",
    "        print(f'Test dataset: {test_values.T[1]}')\n",
    "        print(f'Ratio: {test_values.T[1] / train_values.T[1]}')"
   ]
  },
  {
   "cell_type": "code",
   "execution_count": 14,
   "metadata": {},
   "outputs": [],
   "source": [
    "train_df, test_df = train_test_split(df, test_size=0.4, random_state=89)"
   ]
  },
  {
   "cell_type": "code",
   "execution_count": 15,
   "metadata": {},
   "outputs": [],
   "source": [
    "train_df.to_csv('./input/train.csv', index=False)\n",
    "test_df.to_csv('./input/test.csv', index=False)"
   ]
  },
  {
   "cell_type": "code",
   "execution_count": null,
   "metadata": {},
   "outputs": [],
   "source": []
  }
 ],
 "metadata": {
  "kernelspec": {
   "display_name": "kaggle",
   "language": "python",
   "name": "python3"
  },
  "language_info": {
   "codemirror_mode": {
    "name": "ipython",
    "version": 3
   },
   "file_extension": ".py",
   "mimetype": "text/x-python",
   "name": "python",
   "nbconvert_exporter": "python",
   "pygments_lexer": "ipython3",
   "version": "3.11.2"
  },
  "orig_nbformat": 4
 },
 "nbformat": 4,
 "nbformat_minor": 2
}
