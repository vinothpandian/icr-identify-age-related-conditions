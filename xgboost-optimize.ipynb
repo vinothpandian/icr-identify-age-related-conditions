{
 "cells": [
  {
   "cell_type": "code",
   "execution_count": null,
   "id": "7dc1617a",
   "metadata": {
    "execution": {
     "iopub.execute_input": "2023-07-17T22:45:33.962583Z",
     "iopub.status.busy": "2023-07-17T22:45:33.962257Z",
     "iopub.status.idle": "2023-07-17T22:45:39.997850Z",
     "shell.execute_reply": "2023-07-17T22:45:39.997140Z"
    },
    "papermill": {
     "duration": 6.04416,
     "end_time": "2023-07-17T22:45:40.000222",
     "exception": false,
     "start_time": "2023-07-17T22:45:33.956062",
     "status": "completed"
    },
    "tags": [],
    "is_executing": true
   },
   "outputs": [],
   "source": [
    "from pathlib import Path\n",
    "\n",
    "from fastai.tabular.core import cont_cat_split\n",
    "\n",
    "import optuna\n",
    "\n",
    "import pandas as pd\n",
    "from imblearn.over_sampling import SMOTE\n",
    "from sklearn import compose, impute, pipeline, preprocessing, model_selection\n",
    "import numpy as np\n",
    "from sklearn import metrics\n",
    "from xgboost import XGBClassifier\n",
    "\n",
    "path = Path(\"./data\")\n",
    "output_path = Path(\"./output\")"
   ]
  },
  {
   "cell_type": "code",
   "execution_count": 2,
   "id": "7db35e0d",
   "metadata": {
    "execution": {
     "iopub.execute_input": "2023-07-17T22:45:40.010730Z",
     "iopub.status.busy": "2023-07-17T22:45:40.009926Z",
     "iopub.status.idle": "2023-07-17T22:45:40.015497Z",
     "shell.execute_reply": "2023-07-17T22:45:40.014087Z"
    },
    "papermill": {
     "duration": 0.013681,
     "end_time": "2023-07-17T22:45:40.018353",
     "exception": false,
     "start_time": "2023-07-17T22:45:40.004672",
     "status": "completed"
    },
    "tags": [],
    "ExecuteTime": {
     "end_time": "2023-08-06T19:16:49.938559Z",
     "start_time": "2023-08-06T19:16:49.924182Z"
    }
   },
   "outputs": [],
   "source": [
    "def balanced_log_loss(y_true, y_pred):\n",
    "    nc = np.bincount(y_true)\n",
    "    return metrics.log_loss(y_true, y_pred, sample_weight=1 / nc[y_true], eps=1e-15)"
   ]
  },
  {
   "cell_type": "code",
   "execution_count": 3,
   "outputs": [],
   "source": [
    "def add_binned_age(df):\n",
    "    df[\"Age_binned\"] = pd.cut(df[\"BN\"], bins=20, labels=False)\n",
    "    return df"
   ],
   "metadata": {
    "collapsed": false,
    "ExecuteTime": {
     "end_time": "2023-08-06T19:16:49.938786Z",
     "start_time": "2023-08-06T19:16:49.930302Z"
    }
   },
   "id": "a8298292ed63b1bd"
  },
  {
   "cell_type": "code",
   "execution_count": 4,
   "id": "7b9a3c31",
   "metadata": {
    "execution": {
     "iopub.execute_input": "2023-07-17T22:45:40.028673Z",
     "iopub.status.busy": "2023-07-17T22:45:40.028345Z",
     "iopub.status.idle": "2023-07-17T22:45:40.070063Z",
     "shell.execute_reply": "2023-07-17T22:45:40.068323Z"
    },
    "papermill": {
     "duration": 0.049668,
     "end_time": "2023-07-17T22:45:40.072386",
     "exception": false,
     "start_time": "2023-07-17T22:45:40.022718",
     "status": "completed"
    },
    "tags": [],
    "ExecuteTime": {
     "end_time": "2023-08-06T19:16:49.941084Z",
     "start_time": "2023-08-06T19:16:49.938204Z"
    }
   },
   "outputs": [],
   "source": [
    "def get_tree_preprocess_pipeline():\n",
    "    feature_engineering = (\n",
    "        pipeline.make_pipeline(\n",
    "            preprocessing.FunctionTransformer(add_binned_age, validate=False),\n",
    "        ),\n",
    "        compose.make_column_selector(dtype_include='float64'),\n",
    "    )\n",
    "\n",
    "    categorical_imputing = (\n",
    "        pipeline.make_pipeline(\n",
    "            impute.SimpleImputer(strategy=\"most_frequent\"),\n",
    "            preprocessing.OrdinalEncoder(handle_unknown=\"use_encoded_value\", unknown_value=-1),\n",
    "        ),\n",
    "        compose.make_column_selector(dtype_include='object'),\n",
    "    )\n",
    "\n",
    "    return pipeline.make_pipeline(\n",
    "        compose.make_column_transformer(\n",
    "            feature_engineering,\n",
    "            categorical_imputing,\n",
    "            remainder='passthrough',\n",
    "            verbose_feature_names_out=True\n",
    "        ),\n",
    "        impute.KNNImputer(n_neighbors=10, weights=\"distance\"),\n",
    "    ).set_output(transform=\"pandas\")"
   ]
  },
  {
   "cell_type": "code",
   "execution_count": 5,
   "id": "b2195607",
   "metadata": {
    "execution": {
     "iopub.execute_input": "2023-07-17T22:45:40.098204Z",
     "iopub.status.busy": "2023-07-17T22:45:40.097756Z",
     "iopub.status.idle": "2023-07-17T22:45:40.148970Z",
     "shell.execute_reply": "2023-07-17T22:45:40.148020Z"
    },
    "papermill": {
     "duration": 0.05839,
     "end_time": "2023-07-17T22:45:40.150947",
     "exception": false,
     "start_time": "2023-07-17T22:45:40.092557",
     "status": "completed"
    },
    "tags": [],
    "ExecuteTime": {
     "end_time": "2023-08-06T19:16:49.967169Z",
     "start_time": "2023-08-06T19:16:49.944389Z"
    }
   },
   "outputs": [],
   "source": [
    "df = pd.read_csv(path / \"train.csv\", index_col=\"Id\")\n",
    "dep_vars = [\"Class\"]\n",
    "\n",
    "train_df, test_df = model_selection.train_test_split(df, test_size=0.4, stratify=df[dep_vars], random_state=33)"
   ]
  },
  {
   "cell_type": "code",
   "execution_count": 6,
   "id": "5f97f881",
   "metadata": {
    "execution": {
     "iopub.execute_input": "2023-07-17T22:45:40.160292Z",
     "iopub.status.busy": "2023-07-17T22:45:40.159936Z",
     "iopub.status.idle": "2023-07-17T22:45:40.793493Z",
     "shell.execute_reply": "2023-07-17T22:45:40.792698Z"
    },
    "papermill": {
     "duration": 0.641038,
     "end_time": "2023-07-17T22:45:40.796103",
     "exception": false,
     "start_time": "2023-07-17T22:45:40.155065",
     "status": "completed"
    },
    "tags": [],
    "ExecuteTime": {
     "end_time": "2023-08-06T19:16:50.031278Z",
     "start_time": "2023-08-06T19:16:49.986841Z"
    }
   },
   "outputs": [
    {
     "name": "stderr",
     "output_type": "stream",
     "text": [
      "/usr/local/lib/python3.9/dist-packages/sklearn/preprocessing/_function_transformer.py:343: UserWarning: With transform=\"pandas\", `func` should return a DataFrame to follow the set_output API.\n",
      "  warnings.warn(\n"
     ]
    }
   ],
   "source": [
    "preprocessor = get_tree_preprocess_pipeline()\n",
    "X_pre = preprocessor.fit_transform(train_df.drop(columns=dep_vars))\n",
    "train_df = pd.merge(X_pre, train_df[dep_vars], left_index=True, right_index=True)"
   ]
  },
  {
   "cell_type": "code",
   "execution_count": 7,
   "id": "9c834975",
   "metadata": {
    "execution": {
     "iopub.execute_input": "2023-07-17T22:45:40.810989Z",
     "iopub.status.busy": "2023-07-17T22:45:40.810400Z",
     "iopub.status.idle": "2023-07-17T22:45:40.818141Z",
     "shell.execute_reply": "2023-07-17T22:45:40.817303Z"
    },
    "papermill": {
     "duration": 0.016935,
     "end_time": "2023-07-17T22:45:40.820395",
     "exception": false,
     "start_time": "2023-07-17T22:45:40.803460",
     "status": "completed"
    },
    "tags": [],
    "ExecuteTime": {
     "end_time": "2023-08-06T19:16:50.054276Z",
     "start_time": "2023-08-06T19:16:50.031188Z"
    }
   },
   "outputs": [
    {
     "data": {
      "text/plain": "(370, 58)"
     },
     "execution_count": 7,
     "metadata": {},
     "output_type": "execute_result"
    }
   ],
   "source": [
    "X = train_df.drop(columns=dep_vars, errors=\"ignore\")\n",
    "y = train_df[dep_vars]\n",
    "train_df.shape"
   ]
  },
  {
   "cell_type": "code",
   "execution_count": 8,
   "outputs": [],
   "source": [
    "X_test_pre = preprocessor.transform(test_df.drop(columns=dep_vars))\n",
    "test_df = pd.merge(X_test_pre, test_df[dep_vars], left_index=True, right_index=True)"
   ],
   "metadata": {
    "collapsed": false,
    "ExecuteTime": {
     "end_time": "2023-08-06T19:16:50.112517Z",
     "start_time": "2023-08-06T19:16:50.048841Z"
    }
   },
   "id": "b801a3cf4c0affe2"
  },
  {
   "cell_type": "code",
   "execution_count": 9,
   "outputs": [
    {
     "data": {
      "text/plain": "(247, 58)"
     },
     "execution_count": 9,
     "metadata": {},
     "output_type": "execute_result"
    }
   ],
   "source": [
    "X_test = test_df.drop(columns=dep_vars, errors=\"ignore\")\n",
    "y_test = test_df[dep_vars]\n",
    "test_df.shape"
   ],
   "metadata": {
    "collapsed": false,
    "ExecuteTime": {
     "end_time": "2023-08-06T19:16:50.124364Z",
     "start_time": "2023-08-06T19:16:50.106898Z"
    }
   },
   "id": "bafb576e928ace8b"
  },
  {
   "cell_type": "code",
   "execution_count": 10,
   "outputs": [],
   "source": [
    "scale_pos_weight = df['Class'].value_counts()[0] / df['Class'].value_counts()[1]"
   ],
   "metadata": {
    "collapsed": false,
    "ExecuteTime": {
     "end_time": "2023-08-06T19:16:50.129668Z",
     "start_time": "2023-08-06T19:16:50.118898Z"
    }
   },
   "id": "e8a1509a94ed9b83"
  },
  {
   "cell_type": "markdown",
   "source": [
    "\n",
    "# Optimize"
   ],
   "metadata": {
    "collapsed": false
   },
   "id": "ebbf26c4d3fadc1c"
  },
  {
   "cell_type": "code",
   "execution_count": 11,
   "outputs": [],
   "source": [
    "def objective(trial):\n",
    "    params = dict(\n",
    "        booster=\"gbtree\",\n",
    "        tree_method='gpu_hist',\n",
    "        gpu_id=0,\n",
    "        predictor='gpu_predictor',\n",
    "        enable_categorical=True,\n",
    "        scale_pos_weight=scale_pos_weight,\n",
    "        learning_rate=trial.suggest_float(\"learning_rate\", 0.001, 0.3, log=True),\n",
    "        n_estimators=trial.suggest_int(\"n_estimators\", 100, 1000, step=50),\n",
    "        max_depth=trial.suggest_int(\"max_depth\", 3, 15, step=1),\n",
    "        subsample=trial.suggest_float(\"subsample\", 0.0, 1.0, step=0.1),\n",
    "        gamma=trial.suggest_float(\"gamma\", 0.0, 1.0, step=0.1),\n",
    "        reg_alpha=trial.suggest_float(\"reg_alpha\", 0.0, 10.0, step=0.5),\n",
    "        reg_lambda=trial.suggest_float(\"reg_lambda\", 0.0, 10.0, step=0.5),\n",
    "        min_child_weight=trial.suggest_float(\"min_child_weight\", 0.0, 20.0, step=0.5),\n",
    "        colsample_bytree=trial.suggest_float(\"colsample_bytree\", 0.0, 1.0, step=0.1),\n",
    "        colsample_bylevel=trial.suggest_float(\"colsample_bylevel\", 0.0, 1.0, step=0.1),\n",
    "        colsample_bynode=trial.suggest_float(\"colsample_bynode\", 0.0, 1.0, step=0.1),\n",
    "    )\n",
    "\n",
    "    model = XGBClassifier(\n",
    "        **params,\n",
    "        eval_metric=balanced_log_loss,\n",
    "    )\n",
    "\n",
    "    skf = model_selection.RepeatedStratifiedKFold(n_splits=5, n_repeats=2)\n",
    "\n",
    "    val_loss_list = []\n",
    "\n",
    "    for i, (train_idx, val_idx) in enumerate(skf.split(X, y)):\n",
    "        X_train = X.iloc[train_idx]\n",
    "        y_train = y.iloc[train_idx].values.ravel()\n",
    "\n",
    "        X_val = X.iloc[val_idx]\n",
    "        y_val = y.iloc[val_idx].values.ravel()\n",
    "\n",
    "        model.fit(X_train, y_train)\n",
    "\n",
    "        val_preds = model.predict_proba(X_val)\n",
    "        val_loss = balanced_log_loss(y_val, val_preds)\n",
    "\n",
    "        val_loss_list.append(val_loss)\n",
    "\n",
    "    test_preds = model.predict_proba(X_test)\n",
    "    test_loss = balanced_log_loss(y_test.values.ravel(), test_preds)\n",
    "    mean_val_loss = np.mean(val_loss_list)\n",
    "    \n",
    "    return test_loss, test_loss - mean_val_loss"
   ],
   "metadata": {
    "collapsed": false,
    "ExecuteTime": {
     "end_time": "2023-08-06T19:16:50.148282Z",
     "start_time": "2023-08-06T19:16:50.140880Z"
    }
   },
   "id": "57032c8b91f6e020"
  },
  {
   "cell_type": "code",
   "execution_count": 12,
   "outputs": [],
   "source": [
    "# optuna.delete_study(\n",
    "#     study_name=\"xgboost_bin_age\",\n",
    "#     storage=\"sqlite:////storage/optuna.db\",\n",
    "# )"
   ],
   "metadata": {
    "collapsed": false,
    "ExecuteTime": {
     "end_time": "2023-08-06T19:16:50.154965Z",
     "start_time": "2023-08-06T19:16:50.151903Z"
    }
   },
   "id": "3c56fc1e1ad56122"
  },
  {
   "cell_type": "code",
   "execution_count": null,
   "id": "86a69465",
   "metadata": {
    "papermill": {
     "duration": 0.004675,
     "end_time": "2023-07-17T22:46:10.785882",
     "exception": false,
     "start_time": "2023-07-17T22:46:10.781207",
     "status": "completed"
    },
    "tags": [],
    "ExecuteTime": {
     "start_time": "2023-08-06T19:16:50.165116Z"
    }
   },
   "outputs": [
    {
     "name": "stderr",
     "output_type": "stream",
     "text": [
      "[I 2023-08-06 19:16:50,552] A new study created in RDB with name: xgboost_bin_age\n",
      "[I 2023-08-06 19:17:03,617] Trial 0 finished with values: [0.4081645784316923, -0.007397330130071433] and parameters: {'colsample_bylevel': 0.8, 'colsample_bynode': 0.8, 'colsample_bytree': 0.30000000000000004, 'gamma': 0.4, 'learning_rate': 0.004129165935735537, 'max_depth': 13, 'min_child_weight': 7.0, 'n_estimators': 950, 'reg_alpha': 0.0, 'reg_lambda': 6.0, 'subsample': 0.5}. \n",
      "[I 2023-08-06 19:17:05,836] Trial 1 finished with values: [0.45617113386036545, -0.013390874933755792] and parameters: {'colsample_bylevel': 0.5, 'colsample_bynode': 0.5, 'colsample_bytree': 1.0, 'gamma': 0.1, 'learning_rate': 0.2377255116922506, 'max_depth': 3, 'min_child_weight': 13.0, 'n_estimators': 150, 'reg_alpha': 10.0, 'reg_lambda': 2.0, 'subsample': 0.30000000000000004}. \n",
      "[I 2023-08-06 19:17:11,243] Trial 2 finished with values: [0.30265503097725066, -0.05181826209174806] and parameters: {'colsample_bylevel': 0.7000000000000001, 'colsample_bynode': 0.7000000000000001, 'colsample_bytree': 0.7000000000000001, 'gamma': 0.7000000000000001, 'learning_rate': 0.10880130358133273, 'max_depth': 8, 'min_child_weight': 4.5, 'n_estimators': 600, 'reg_alpha': 3.0, 'reg_lambda': 4.0, 'subsample': 0.30000000000000004}. \n",
      "[I 2023-08-06 19:17:17,059] Trial 3 finished with values: [0.5557546465774115, -0.030550499100396755] and parameters: {'colsample_bylevel': 0.5, 'colsample_bynode': 0.2, 'colsample_bytree': 0.30000000000000004, 'gamma': 0.1, 'learning_rate': 0.006795235192169297, 'max_depth': 3, 'min_child_weight': 20.0, 'n_estimators': 650, 'reg_alpha': 0.0, 'reg_lambda': 1.0, 'subsample': 0.7000000000000001}. \n",
      "[I 2023-08-06 19:17:20,521] Trial 4 finished with values: [0.6931471805599453, 1.1102230246251565e-16] and parameters: {'colsample_bylevel': 0.6000000000000001, 'colsample_bynode': 0.9, 'colsample_bytree': 0.4, 'gamma': 0.5, 'learning_rate': 0.001444268671220342, 'max_depth': 3, 'min_child_weight': 4.5, 'n_estimators': 450, 'reg_alpha': 1.5, 'reg_lambda': 5.5, 'subsample': 0.0}. \n",
      "[I 2023-08-06 19:17:24,329] Trial 5 finished with values: [0.48985259161641714, -0.016967060401139267] and parameters: {'colsample_bylevel': 0.6000000000000001, 'colsample_bynode': 0.5, 'colsample_bytree': 0.4, 'gamma': 0.6000000000000001, 'learning_rate': 0.014262100487467504, 'max_depth': 11, 'min_child_weight': 12.5, 'n_estimators': 300, 'reg_alpha': 9.5, 'reg_lambda': 1.5, 'subsample': 0.5}. \n",
      "[I 2023-08-06 19:17:27,512] Trial 6 finished with values: [0.6856283722511644, -0.00065959685094652] and parameters: {'colsample_bylevel': 0.8, 'colsample_bynode': 0.1, 'colsample_bytree': 0.2, 'gamma': 0.30000000000000004, 'learning_rate': 0.001533009301860394, 'max_depth': 12, 'min_child_weight': 5.5, 'n_estimators': 300, 'reg_alpha': 6.0, 'reg_lambda': 2.5, 'subsample': 0.2}. \n",
      "[I 2023-08-06 19:17:29,473] Trial 7 finished with values: [0.5576366484908007, -0.004512716436486763] and parameters: {'colsample_bylevel': 0.5, 'colsample_bynode': 0.7000000000000001, 'colsample_bytree': 0.7000000000000001, 'gamma': 0.2, 'learning_rate': 0.025996641024450578, 'max_depth': 3, 'min_child_weight': 11.0, 'n_estimators': 150, 'reg_alpha': 9.0, 'reg_lambda': 3.0, 'subsample': 0.30000000000000004}. \n",
      "[I 2023-08-06 19:17:32,075] Trial 8 finished with values: [0.4107576092201919, 0.02961190111733808] and parameters: {'colsample_bylevel': 0.4, 'colsample_bynode': 0.4, 'colsample_bytree': 0.1, 'gamma': 1.0, 'learning_rate': 0.22067123957417498, 'max_depth': 12, 'min_child_weight': 0.5, 'n_estimators': 250, 'reg_alpha': 2.5, 'reg_lambda': 10.0, 'subsample': 0.8}. \n",
      "[I 2023-08-06 19:17:37,804] Trial 9 finished with values: [0.47119804720715425, -0.009938417196839577] and parameters: {'colsample_bylevel': 0.2, 'colsample_bynode': 1.0, 'colsample_bytree': 0.30000000000000004, 'gamma': 0.7000000000000001, 'learning_rate': 0.01293191860919312, 'max_depth': 14, 'min_child_weight': 4.5, 'n_estimators': 550, 'reg_alpha': 10.0, 'reg_lambda': 0.5, 'subsample': 0.5}. \n",
      "[I 2023-08-06 19:17:40,824] Trial 10 finished with values: [0.6856386693007027, -0.0010472090185139615] and parameters: {'colsample_bylevel': 0.1, 'colsample_bynode': 0.6000000000000001, 'colsample_bytree': 0.2, 'gamma': 0.9, 'learning_rate': 0.0022209754605924882, 'max_depth': 12, 'min_child_weight': 4.5, 'n_estimators': 350, 'reg_alpha': 0.0, 'reg_lambda': 7.0, 'subsample': 0.1}. \n",
      "[I 2023-08-06 19:18:00,574] Trial 11 finished with values: [0.35879898219079925, 0.03453141475730559] and parameters: {'colsample_bylevel': 0.7000000000000001, 'colsample_bynode': 0.8, 'colsample_bytree': 0.9, 'gamma': 0.0, 'learning_rate': 0.015010530547401221, 'max_depth': 8, 'min_child_weight': 0.5, 'n_estimators': 900, 'reg_alpha': 2.0, 'reg_lambda': 0.5, 'subsample': 0.6000000000000001}. \n",
      "[I 2023-08-06 19:18:05,541] Trial 12 finished with values: [0.480735038800948, -0.0011044137027148015] and parameters: {'colsample_bylevel': 0.7000000000000001, 'colsample_bynode': 0.4, 'colsample_bytree': 0.9, 'gamma': 0.8, 'learning_rate': 0.02161654173829981, 'max_depth': 14, 'min_child_weight': 14.5, 'n_estimators': 550, 'reg_alpha': 2.0, 'reg_lambda': 3.0, 'subsample': 0.30000000000000004}. \n",
      "[I 2023-08-06 19:18:10,944] Trial 13 finished with values: [0.3294597546149359, -0.05210376368630337] and parameters: {'colsample_bylevel': 1.0, 'colsample_bynode': 0.30000000000000004, 'colsample_bytree': 0.5, 'gamma': 0.2, 'learning_rate': 0.2339176599232181, 'max_depth': 4, 'min_child_weight': 8.0, 'n_estimators': 700, 'reg_alpha': 6.5, 'reg_lambda': 6.0, 'subsample': 0.9}. \n",
      "[I 2023-08-06 19:18:14,668] Trial 14 finished with values: [0.4222611391972557, -0.027022098686951324] and parameters: {'colsample_bylevel': 0.4, 'colsample_bynode': 0.7000000000000001, 'colsample_bytree': 0.5, 'gamma': 0.6000000000000001, 'learning_rate': 0.022963430511285243, 'max_depth': 15, 'min_child_weight': 17.0, 'n_estimators': 200, 'reg_alpha': 6.0, 'reg_lambda': 5.5, 'subsample': 0.8}. \n",
      "[I 2023-08-06 19:18:16,696] Trial 15 finished with values: [0.5480005708583148, 0.005178462885289226] and parameters: {'colsample_bylevel': 0.5, 'colsample_bynode': 0.7000000000000001, 'colsample_bytree': 0.2, 'gamma': 0.0, 'learning_rate': 0.016775856061409695, 'max_depth': 3, 'min_child_weight': 14.5, 'n_estimators': 100, 'reg_alpha': 1.5, 'reg_lambda': 5.5, 'subsample': 1.0}. \n",
      "[I 2023-08-06 19:18:25,638] Trial 16 finished with values: [0.37719316854196494, -0.03765911854735898] and parameters: {'colsample_bylevel': 0.2, 'colsample_bynode': 0.6000000000000001, 'colsample_bytree': 0.30000000000000004, 'gamma': 0.9, 'learning_rate': 0.07321719792053576, 'max_depth': 14, 'min_child_weight': 17.5, 'n_estimators': 1000, 'reg_alpha': 3.5, 'reg_lambda': 3.5, 'subsample': 0.7000000000000001}. \n",
      "[I 2023-08-06 19:18:34,816] Trial 17 finished with values: [0.4926715321440976, -0.020780797319156996] and parameters: {'colsample_bylevel': 0.2, 'colsample_bynode': 0.7000000000000001, 'colsample_bytree': 0.9, 'gamma': 0.5, 'learning_rate': 0.0032485296074084387, 'max_depth': 4, 'min_child_weight': 15.5, 'n_estimators': 800, 'reg_alpha': 8.0, 'reg_lambda': 8.0, 'subsample': 0.8}. \n",
      "[I 2023-08-06 19:18:37,772] Trial 18 finished with values: [0.37443161781537304, -0.05050819421828362] and parameters: {'colsample_bylevel': 0.5, 'colsample_bynode': 0.6000000000000001, 'colsample_bytree': 0.4, 'gamma': 0.9, 'learning_rate': 0.23847754001648305, 'max_depth': 15, 'min_child_weight': 19.0, 'n_estimators': 250, 'reg_alpha': 3.0, 'reg_lambda': 7.0, 'subsample': 0.7000000000000001}. \n",
      "[I 2023-08-06 19:18:44,042] Trial 19 finished with values: [0.6931471805599453, 1.1102230246251565e-16] and parameters: {'colsample_bylevel': 0.0, 'colsample_bynode': 0.30000000000000004, 'colsample_bytree': 0.2, 'gamma': 0.9, 'learning_rate': 0.001406732052807321, 'max_depth': 10, 'min_child_weight': 11.0, 'n_estimators': 900, 'reg_alpha': 7.5, 'reg_lambda': 4.0, 'subsample': 0.0}. \n",
      "[I 2023-08-06 19:18:56,023] Trial 20 finished with values: [0.5849445235755162, -0.006333825848316099] and parameters: {'colsample_bylevel': 0.5, 'colsample_bynode': 0.5, 'colsample_bytree': 0.30000000000000004, 'gamma': 0.9, 'learning_rate': 0.001182178482368323, 'max_depth': 6, 'min_child_weight': 2.0, 'n_estimators': 650, 'reg_alpha': 1.0, 'reg_lambda': 3.0, 'subsample': 0.4}. \n",
      "[I 2023-08-06 19:19:03,209] Trial 21 finished with values: [0.37143989281330014, -0.015557396215633734] and parameters: {'colsample_bylevel': 0.2, 'colsample_bynode': 0.4, 'colsample_bytree': 0.8, 'gamma': 0.6000000000000001, 'learning_rate': 0.030095761854742217, 'max_depth': 9, 'min_child_weight': 10.0, 'n_estimators': 800, 'reg_alpha': 7.5, 'reg_lambda': 4.0, 'subsample': 0.9}. \n",
      "[I 2023-08-06 19:19:05,570] Trial 22 finished with values: [0.37529079732979675, 0.025358582555235598] and parameters: {'colsample_bylevel': 0.9, 'colsample_bynode': 0.2, 'colsample_bytree': 1.0, 'gamma': 0.0, 'learning_rate': 0.2807882213516494, 'max_depth': 6, 'min_child_weight': 4.5, 'n_estimators': 100, 'reg_alpha': 1.5, 'reg_lambda': 9.5, 'subsample': 0.9}. \n",
      "[I 2023-08-06 19:19:10,437] Trial 23 finished with values: [0.44975999910397224, -0.005599621015750067] and parameters: {'colsample_bylevel': 1.0, 'colsample_bynode': 0.0, 'colsample_bytree': 1.0, 'gamma': 0.8, 'learning_rate': 0.05467923145906088, 'max_depth': 5, 'min_child_weight': 19.0, 'n_estimators': 500, 'reg_alpha': 8.5, 'reg_lambda': 5.0, 'subsample': 0.9}. \n",
      "[I 2023-08-06 19:19:19,147] Trial 24 finished with values: [0.6030208312631739, -0.006095330301224] and parameters: {'colsample_bylevel': 0.4, 'colsample_bynode': 0.6000000000000001, 'colsample_bytree': 0.6000000000000001, 'gamma': 0.5, 'learning_rate': 0.0028836769567492345, 'max_depth': 13, 'min_child_weight': 1.0, 'n_estimators': 550, 'reg_alpha': 10.0, 'reg_lambda': 7.5, 'subsample': 0.30000000000000004}. \n",
      "[I 2023-08-06 19:19:24,089] Trial 25 finished with values: [0.39104734783729517, 0.022886309916463454] and parameters: {'colsample_bylevel': 0.0, 'colsample_bynode': 0.9, 'colsample_bytree': 1.0, 'gamma': 0.6000000000000001, 'learning_rate': 0.09262226598997396, 'max_depth': 10, 'min_child_weight': 4.5, 'n_estimators': 450, 'reg_alpha': 0.5, 'reg_lambda': 7.0, 'subsample': 0.8}. \n",
      "[I 2023-08-06 19:19:30,256] Trial 26 finished with values: [0.3830779741998209, -0.035701710742773396] and parameters: {'colsample_bylevel': 0.9, 'colsample_bynode': 0.6000000000000001, 'colsample_bytree': 0.30000000000000004, 'gamma': 0.5, 'learning_rate': 0.24090701315481658, 'max_depth': 6, 'min_child_weight': 18.5, 'n_estimators': 900, 'reg_alpha': 1.0, 'reg_lambda': 2.0, 'subsample': 0.7000000000000001}. \n",
      "[I 2023-08-06 19:19:37,359] Trial 27 finished with values: [0.405033198006342, -0.01637604287975214] and parameters: {'colsample_bylevel': 0.6000000000000001, 'colsample_bynode': 0.1, 'colsample_bytree': 0.0, 'gamma': 0.0, 'learning_rate': 0.08127356162183641, 'max_depth': 4, 'min_child_weight': 17.5, 'n_estimators': 950, 'reg_alpha': 6.5, 'reg_lambda': 2.0, 'subsample': 0.6000000000000001}. \n",
      "[I 2023-08-06 19:19:41,857] Trial 28 finished with values: [0.6931471805599453, 1.1102230246251565e-16] and parameters: {'colsample_bylevel': 0.7000000000000001, 'colsample_bynode': 0.4, 'colsample_bytree': 0.0, 'gamma': 0.0, 'learning_rate': 0.004465836040697409, 'max_depth': 15, 'min_child_weight': 4.0, 'n_estimators': 500, 'reg_alpha': 8.5, 'reg_lambda': 1.5, 'subsample': 0.0}. \n",
      "[I 2023-08-06 19:19:47,403] Trial 29 finished with values: [0.4281169667393082, -0.016669809089853882] and parameters: {'colsample_bylevel': 0.9, 'colsample_bynode': 0.8, 'colsample_bytree': 0.30000000000000004, 'gamma': 0.9, 'learning_rate': 0.01108303398582778, 'max_depth': 6, 'min_child_weight': 2.5, 'n_estimators': 250, 'reg_alpha': 8.0, 'reg_lambda': 8.5, 'subsample': 0.9}. \n",
      "[I 2023-08-06 19:19:59,828] Trial 30 finished with values: [0.44489707257001343, -0.02251970329082814] and parameters: {'colsample_bylevel': 0.8, 'colsample_bynode': 0.2, 'colsample_bytree': 0.9, 'gamma': 0.2, 'learning_rate': 0.0024719064959785693, 'max_depth': 11, 'min_child_weight': 4.5, 'n_estimators': 950, 'reg_alpha': 1.5, 'reg_lambda': 2.0, 'subsample': 0.4}. \n",
      "[I 2023-08-06 19:20:02,786] Trial 31 finished with values: [0.3531831759754814, -0.04103796689819961] and parameters: {'colsample_bylevel': 0.9, 'colsample_bynode': 0.6000000000000001, 'colsample_bytree': 0.1, 'gamma': 0.30000000000000004, 'learning_rate': 0.2319448784757024, 'max_depth': 10, 'min_child_weight': 7.0, 'n_estimators': 350, 'reg_alpha': 3.5, 'reg_lambda': 0.5, 'subsample': 0.7000000000000001}. \n",
      "[I 2023-08-06 19:20:07,921] Trial 32 finished with values: [0.5797164752804079, -0.00929359039089983] and parameters: {'colsample_bylevel': 0.5, 'colsample_bynode': 0.1, 'colsample_bytree': 0.30000000000000004, 'gamma': 1.0, 'learning_rate': 0.019416878385117207, 'max_depth': 3, 'min_child_weight': 5.0, 'n_estimators': 700, 'reg_alpha': 9.0, 'reg_lambda': 6.5, 'subsample': 0.30000000000000004}. \n",
      "[I 2023-08-06 19:20:12,260] Trial 33 finished with values: [0.6932853739453854, -2.9006440665946265e-05] and parameters: {'colsample_bylevel': 0.2, 'colsample_bynode': 0.5, 'colsample_bytree': 0.9, 'gamma': 0.4, 'learning_rate': 0.0018338648694116977, 'max_depth': 14, 'min_child_weight': 15.0, 'n_estimators': 500, 'reg_alpha': 1.0, 'reg_lambda': 3.0, 'subsample': 0.1}. \n",
      "[I 2023-08-06 19:20:22,946] Trial 34 finished with values: [0.6104589327054378, -0.007203510611647035] and parameters: {'colsample_bylevel': 0.30000000000000004, 'colsample_bynode': 0.9, 'colsample_bytree': 0.4, 'gamma': 0.9, 'learning_rate': 0.0017101296640901057, 'max_depth': 5, 'min_child_weight': 0.5, 'n_estimators': 900, 'reg_alpha': 6.0, 'reg_lambda': 5.0, 'subsample': 0.2}. \n",
      "[I 2023-08-06 19:20:31,079] Trial 35 finished with values: [0.558062605257871, 0.0044867619896111766] and parameters: {'colsample_bylevel': 0.2, 'colsample_bynode': 0.0, 'colsample_bytree': 0.30000000000000004, 'gamma': 0.9, 'learning_rate': 0.006572969464269605, 'max_depth': 9, 'min_child_weight': 11.5, 'n_estimators': 950, 'reg_alpha': 9.0, 'reg_lambda': 8.5, 'subsample': 0.8}. \n",
      "[I 2023-08-06 19:20:37,534] Trial 36 finished with values: [0.38375915049371656, -0.029124244211893857] and parameters: {'colsample_bylevel': 0.6000000000000001, 'colsample_bynode': 0.2, 'colsample_bytree': 0.0, 'gamma': 0.2, 'learning_rate': 0.06774119712586629, 'max_depth': 12, 'min_child_weight': 8.5, 'n_estimators': 650, 'reg_alpha': 5.5, 'reg_lambda': 3.5, 'subsample': 0.8}. \n",
      "[I 2023-08-06 19:20:42,542] Trial 37 finished with values: [0.5369526054136472, -0.011809701670488892] and parameters: {'colsample_bylevel': 0.7000000000000001, 'colsample_bynode': 0.30000000000000004, 'colsample_bytree': 0.8, 'gamma': 1.0, 'learning_rate': 0.016907166037474736, 'max_depth': 3, 'min_child_weight': 11.5, 'n_estimators': 650, 'reg_alpha': 0.5, 'reg_lambda': 6.0, 'subsample': 0.2}. \n",
      "[I 2023-08-06 19:20:47,086] Trial 38 finished with values: [0.3700078543636776, -0.007408384703765203] and parameters: {'colsample_bylevel': 0.6000000000000001, 'colsample_bynode': 0.5, 'colsample_bytree': 1.0, 'gamma': 0.30000000000000004, 'learning_rate': 0.021150885929927907, 'max_depth': 14, 'min_child_weight': 3.0, 'n_estimators': 150, 'reg_alpha': 4.0, 'reg_lambda': 3.5, 'subsample': 0.9}. \n",
      "[I 2023-08-06 19:20:59,004] Trial 39 finished with values: [0.5582569280350916, -0.010425322012589722] and parameters: {'colsample_bylevel': 0.30000000000000004, 'colsample_bynode': 0.5, 'colsample_bytree': 0.2, 'gamma': 0.30000000000000004, 'learning_rate': 0.0038587349321561066, 'max_depth': 10, 'min_child_weight': 1.0, 'n_estimators': 500, 'reg_alpha': 0.0, 'reg_lambda': 9.0, 'subsample': 0.6000000000000001}. \n",
      "[I 2023-08-06 19:21:06,438] Trial 40 finished with values: [0.3635670190218824, 0.007609356445427484] and parameters: {'colsample_bylevel': 0.2, 'colsample_bynode': 0.4, 'colsample_bytree': 0.5, 'gamma': 1.0, 'learning_rate': 0.11479055568488182, 'max_depth': 10, 'min_child_weight': 4.0, 'n_estimators': 1000, 'reg_alpha': 4.0, 'reg_lambda': 0.5, 'subsample': 0.4}. \n",
      "[I 2023-08-06 19:21:09,362] Trial 41 finished with values: [0.6931471805599453, 1.1102230246251565e-16] and parameters: {'colsample_bylevel': 0.1, 'colsample_bynode': 0.0, 'colsample_bytree': 0.6000000000000001, 'gamma': 0.1, 'learning_rate': 0.051723329395102546, 'max_depth': 8, 'min_child_weight': 18.0, 'n_estimators': 350, 'reg_alpha': 7.0, 'reg_lambda': 2.5, 'subsample': 0.0}. \n",
      "[I 2023-08-06 19:21:13,386] Trial 42 finished with values: [0.3409671507297871, -0.024879605827297424] and parameters: {'colsample_bylevel': 0.7000000000000001, 'colsample_bynode': 1.0, 'colsample_bytree': 0.6000000000000001, 'gamma': 0.5, 'learning_rate': 0.05528961450996076, 'max_depth': 6, 'min_child_weight': 13.5, 'n_estimators': 350, 'reg_alpha': 6.0, 'reg_lambda': 1.0, 'subsample': 0.8}. \n",
      "[I 2023-08-06 19:21:17,145] Trial 43 finished with values: [0.3821067623903347, -0.011290665020118384] and parameters: {'colsample_bylevel': 0.30000000000000004, 'colsample_bynode': 0.5, 'colsample_bytree': 0.4, 'gamma': 0.30000000000000004, 'learning_rate': 0.21244253617888526, 'max_depth': 5, 'min_child_weight': 9.0, 'n_estimators': 400, 'reg_alpha': 7.0, 'reg_lambda': 9.5, 'subsample': 0.4}. \n",
      "[I 2023-08-06 19:21:23,328] Trial 44 finished with values: [0.5272749456369947, -0.00511214389548198] and parameters: {'colsample_bylevel': 0.2, 'colsample_bynode': 0.2, 'colsample_bytree': 0.4, 'gamma': 0.2, 'learning_rate': 0.06623857379115702, 'max_depth': 5, 'min_child_weight': 7.5, 'n_estimators': 750, 'reg_alpha': 8.5, 'reg_lambda': 0.5, 'subsample': 0.2}. \n",
      "[I 2023-08-06 19:21:34,521] Trial 45 finished with values: [0.5276876557331098, -0.010928424490553312] and parameters: {'colsample_bylevel': 0.7000000000000001, 'colsample_bynode': 0.0, 'colsample_bytree': 0.8, 'gamma': 0.9, 'learning_rate': 0.004355599662227496, 'max_depth': 5, 'min_child_weight': 4.0, 'n_estimators': 1000, 'reg_alpha': 4.5, 'reg_lambda': 8.5, 'subsample': 0.7000000000000001}. \n",
      "[I 2023-08-06 19:21:36,896] Trial 46 finished with values: [0.6931583964102667, 2.5562260490441524e-05] and parameters: {'colsample_bylevel': 0.30000000000000004, 'colsample_bynode': 0.5, 'colsample_bytree': 0.1, 'gamma': 0.2, 'learning_rate': 0.005352688634216069, 'max_depth': 11, 'min_child_weight': 15.5, 'n_estimators': 200, 'reg_alpha': 8.5, 'reg_lambda': 0.5, 'subsample': 0.2}. \n",
      "[I 2023-08-06 19:21:46,868] Trial 47 finished with values: [0.3969178356707334, -0.004460571063709395] and parameters: {'colsample_bylevel': 0.9, 'colsample_bynode': 0.6000000000000001, 'colsample_bytree': 0.2, 'gamma': 1.0, 'learning_rate': 0.011461193453571456, 'max_depth': 15, 'min_child_weight': 4.0, 'n_estimators': 700, 'reg_alpha': 10.0, 'reg_lambda': 1.5, 'subsample': 1.0}. \n",
      "[I 2023-08-06 19:21:52,812] Trial 48 finished with values: [0.6931471805599453, 1.1102230246251565e-16] and parameters: {'colsample_bylevel': 0.9, 'colsample_bynode': 0.1, 'colsample_bytree': 0.1, 'gamma': 0.6000000000000001, 'learning_rate': 0.011637981590614488, 'max_depth': 13, 'min_child_weight': 14.5, 'n_estimators': 850, 'reg_alpha': 3.0, 'reg_lambda': 7.5, 'subsample': 0.0}. \n",
      "[I 2023-08-06 19:21:57,282] Trial 49 finished with values: [0.6565010119508234, -0.007114364405562457] and parameters: {'colsample_bylevel': 0.1, 'colsample_bynode': 1.0, 'colsample_bytree': 0.1, 'gamma': 1.0, 'learning_rate': 0.0037704445596847707, 'max_depth': 6, 'min_child_weight': 18.0, 'n_estimators': 550, 'reg_alpha': 7.5, 'reg_lambda': 4.0, 'subsample': 0.5}. \n",
      "[I 2023-08-06 19:22:00,363] Trial 50 finished with values: [0.3905846485990797, -0.0011562583736580145] and parameters: {'colsample_bylevel': 0.6000000000000001, 'colsample_bynode': 0.0, 'colsample_bytree': 1.0, 'gamma': 0.30000000000000004, 'learning_rate': 0.2319448784757024, 'max_depth': 10, 'min_child_weight': 6.5, 'n_estimators': 200, 'reg_alpha': 4.0, 'reg_lambda': 10.0, 'subsample': 0.7000000000000001}. \n",
      "[I 2023-08-06 19:22:04,339] Trial 51 finished with values: [0.5377462910471256, -0.023331765803183302] and parameters: {'colsample_bylevel': 0.7000000000000001, 'colsample_bynode': 1.0, 'colsample_bytree': 0.1, 'gamma': 0.9, 'learning_rate': 0.10880130358133273, 'max_depth': 8, 'min_child_weight': 18.0, 'n_estimators': 600, 'reg_alpha': 3.0, 'reg_lambda': 4.0, 'subsample': 0.30000000000000004}. \n",
      "[I 2023-08-06 19:22:13,269] Trial 52 finished with values: [0.460614545026075, 0.002719372227805106] and parameters: {'colsample_bylevel': 0.5, 'colsample_bynode': 0.2, 'colsample_bytree': 0.30000000000000004, 'gamma': 0.1, 'learning_rate': 0.006795235192169297, 'max_depth': 3, 'min_child_weight': 7.0, 'n_estimators': 950, 'reg_alpha': 0.0, 'reg_lambda': 1.0, 'subsample': 0.7000000000000001}. \n",
      "[I 2023-08-06 19:22:19,275] Trial 53 finished with values: [0.6430826213054143, -0.00815125042722531] and parameters: {'colsample_bylevel': 0.7000000000000001, 'colsample_bynode': 0.5, 'colsample_bytree': 0.4, 'gamma': 0.0, 'learning_rate': 0.015010530547401221, 'max_depth': 8, 'min_child_weight': 20.0, 'n_estimators': 900, 'reg_alpha': 2.0, 'reg_lambda': 9.5, 'subsample': 0.30000000000000004}. \n",
      "[I 2023-08-06 19:22:25,865] Trial 54 finished with values: [0.37190905726285545, -0.048226785071750156] and parameters: {'colsample_bylevel': 0.6000000000000001, 'colsample_bynode': 0.1, 'colsample_bytree': 0.0, 'gamma': 0.0, 'learning_rate': 0.08127356162183641, 'max_depth': 4, 'min_child_weight': 17.5, 'n_estimators': 900, 'reg_alpha': 1.0, 'reg_lambda': 2.0, 'subsample': 0.6000000000000001}. \n",
      "[I 2023-08-06 19:22:42,033] Trial 55 finished with values: [0.4999855068341725, -0.0017569539558890956] and parameters: {'colsample_bylevel': 0.5, 'colsample_bynode': 0.5, 'colsample_bytree': 0.2, 'gamma': 0.30000000000000004, 'learning_rate': 0.0038587349321561066, 'max_depth': 10, 'min_child_weight': 1.0, 'n_estimators': 500, 'reg_alpha': 0.0, 'reg_lambda': 1.0, 'subsample': 0.6000000000000001}. \n",
      "[I 2023-08-06 19:22:52,334] Trial 56 finished with values: [0.37725912299341446, 0.01772718416067942] and parameters: {'colsample_bylevel': 0.9, 'colsample_bynode': 0.8, 'colsample_bytree': 0.30000000000000004, 'gamma': 0.8, 'learning_rate': 0.01108303398582778, 'max_depth': 6, 'min_child_weight': 2.5, 'n_estimators': 550, 'reg_alpha': 4.5, 'reg_lambda': 3.0, 'subsample': 0.9}. \n",
      "[I 2023-08-06 19:22:58,594] Trial 57 finished with values: [0.3994609215225917, -0.01771666313043796] and parameters: {'colsample_bylevel': 0.2, 'colsample_bynode': 0.6000000000000001, 'colsample_bytree': 0.4, 'gamma': 0.2, 'learning_rate': 0.06623857379115702, 'max_depth': 6, 'min_child_weight': 18.5, 'n_estimators': 750, 'reg_alpha': 8.5, 'reg_lambda': 0.5, 'subsample': 0.7000000000000001}. \n",
      "[I 2023-08-06 19:23:05,593] Trial 58 finished with values: [0.5461739639298901, -0.008465533140608938] and parameters: {'colsample_bylevel': 0.5, 'colsample_bynode': 0.2, 'colsample_bytree': 0.30000000000000004, 'gamma': 0.5, 'learning_rate': 0.006795235192169297, 'max_depth': 4, 'min_child_weight': 6.5, 'n_estimators': 650, 'reg_alpha': 8.0, 'reg_lambda': 8.0, 'subsample': 0.8}. \n",
      "[I 2023-08-06 19:23:09,777] Trial 59 finished with values: [0.3823934896843284, 0.0010541513057910068] and parameters: {'colsample_bylevel': 0.7000000000000001, 'colsample_bynode': 1.0, 'colsample_bytree': 0.6000000000000001, 'gamma': 0.5, 'learning_rate': 0.05528961450996076, 'max_depth': 6, 'min_child_weight': 13.5, 'n_estimators': 350, 'reg_alpha': 6.0, 'reg_lambda': 1.0, 'subsample': 0.8}. \n",
      "[I 2023-08-06 19:23:14,111] Trial 60 finished with values: [0.34110931649263293, -0.005699660596886702] and parameters: {'colsample_bylevel': 0.7000000000000001, 'colsample_bynode': 1.0, 'colsample_bytree': 0.6000000000000001, 'gamma': 0.30000000000000004, 'learning_rate': 0.05528961450996076, 'max_depth': 12, 'min_child_weight': 5.5, 'n_estimators': 300, 'reg_alpha': 6.0, 'reg_lambda': 1.0, 'subsample': 0.8}. \n",
      "[I 2023-08-06 19:23:19,623] Trial 61 finished with values: [0.3563268113100389, -0.02724131197078422] and parameters: {'colsample_bylevel': 1.0, 'colsample_bynode': 0.9, 'colsample_bytree': 0.5, 'gamma': 0.9, 'learning_rate': 0.2339176599232181, 'max_depth': 5, 'min_child_weight': 3.5, 'n_estimators': 700, 'reg_alpha': 6.5, 'reg_lambda': 5.0, 'subsample': 0.2}. \n",
      "[I 2023-08-06 19:23:26,657] Trial 62 finished with values: [0.6273654713828682, -0.007178429151679655] and parameters: {'colsample_bylevel': 0.6000000000000001, 'colsample_bynode': 0.5, 'colsample_bytree': 0.30000000000000004, 'gamma': 0.9, 'learning_rate': 0.001182178482368323, 'max_depth': 11, 'min_child_weight': 2.0, 'n_estimators': 300, 'reg_alpha': 1.0, 'reg_lambda': 3.0, 'subsample': 0.4}. \n",
      "[I 2023-08-06 19:23:39,207] Trial 63 finished with values: [0.5817349036504217, -0.008087175554101211] and parameters: {'colsample_bylevel': 0.6000000000000001, 'colsample_bynode': 0.2, 'colsample_bytree': 0.30000000000000004, 'gamma': 0.9, 'learning_rate': 0.001182178482368323, 'max_depth': 5, 'min_child_weight': 2.0, 'n_estimators': 650, 'reg_alpha': 1.0, 'reg_lambda': 3.5, 'subsample': 0.8}. \n",
      "[I 2023-08-06 19:23:40,589] Trial 64 finished with values: [0.6931472289257463, -1.6162180243028956e-06] and parameters: {'colsample_bylevel': 0.9, 'colsample_bynode': 0.6000000000000001, 'colsample_bytree': 0.30000000000000004, 'gamma': 1.0, 'learning_rate': 0.0037704445596847707, 'max_depth': 6, 'min_child_weight': 18.5, 'n_estimators': 100, 'reg_alpha': 7.5, 'reg_lambda': 4.0, 'subsample': 0.2}. \n",
      "[I 2023-08-06 19:23:47,526] Trial 65 finished with values: [0.5175646334747119, -0.012402135997124142] and parameters: {'colsample_bylevel': 0.1, 'colsample_bynode': 0.9, 'colsample_bytree': 1.0, 'gamma': 1.0, 'learning_rate': 0.0037704445596847707, 'max_depth': 6, 'min_child_weight': 4.5, 'n_estimators': 450, 'reg_alpha': 0.5, 'reg_lambda': 7.0, 'subsample': 0.5}. \n",
      "[I 2023-08-06 19:23:49,881] Trial 66 finished with values: [0.5575393926997343, -0.013806659718347825] and parameters: {'colsample_bylevel': 1.0, 'colsample_bynode': 0.0, 'colsample_bytree': 0.30000000000000004, 'gamma': 0.8, 'learning_rate': 0.05467923145906088, 'max_depth': 5, 'min_child_weight': 19.0, 'n_estimators': 250, 'reg_alpha': 8.5, 'reg_lambda': 5.0, 'subsample': 0.5}. \n",
      "[I 2023-08-06 19:23:53,676] Trial 67 finished with values: [0.6858482572758695, -0.0003381119850498493] and parameters: {'colsample_bylevel': 0.7000000000000001, 'colsample_bynode': 0.5, 'colsample_bytree': 0.0, 'gamma': 0.30000000000000004, 'learning_rate': 0.001335899242684087, 'max_depth': 14, 'min_child_weight': 14.5, 'n_estimators': 400, 'reg_alpha': 7.0, 'reg_lambda': 9.5, 'subsample': 0.4}. \n",
      "[I 2023-08-06 19:23:58,893] Trial 68 finished with values: [0.5173173206475878, -0.02071522115572222] and parameters: {'colsample_bylevel': 0.2, 'colsample_bynode': 0.2, 'colsample_bytree': 0.4, 'gamma': 0.2, 'learning_rate': 0.06623857379115702, 'max_depth': 5, 'min_child_weight': 7.5, 'n_estimators': 750, 'reg_alpha': 8.5, 'reg_lambda': 0.5, 'subsample': 0.2}. \n",
      "[I 2023-08-06 19:24:12,022] Trial 69 finished with values: [0.529447832694428, -0.0049460827437431965] and parameters: {'colsample_bylevel': 0.30000000000000004, 'colsample_bynode': 0.8, 'colsample_bytree': 0.2, 'gamma': 0.30000000000000004, 'learning_rate': 0.0038587349321561066, 'max_depth': 10, 'min_child_weight': 1.0, 'n_estimators': 500, 'reg_alpha': 0.0, 'reg_lambda': 9.0, 'subsample': 0.6000000000000001}. \n",
      "[I 2023-08-06 19:24:15,150] Trial 70 finished with values: [0.38862323414775174, -0.01334055328851097] and parameters: {'colsample_bylevel': 0.4, 'colsample_bynode': 0.4, 'colsample_bytree': 0.1, 'gamma': 1.0, 'learning_rate': 0.22067123957417498, 'max_depth': 12, 'min_child_weight': 0.5, 'n_estimators': 250, 'reg_alpha': 2.5, 'reg_lambda': 10.0, 'subsample': 0.8}. \n",
      "[I 2023-08-06 19:24:18,326] Trial 71 finished with values: [0.6870583423835465, 0.0009268507963996475] and parameters: {'colsample_bylevel': 0.8, 'colsample_bynode': 0.1, 'colsample_bytree': 0.2, 'gamma': 0.30000000000000004, 'learning_rate': 0.001533009301860394, 'max_depth': 12, 'min_child_weight': 5.5, 'n_estimators': 300, 'reg_alpha': 6.0, 'reg_lambda': 2.5, 'subsample': 0.2}. \n",
      "[I 2023-08-06 19:24:27,692] Trial 72 finished with values: [0.6206471069094631, -0.006840620916729101] and parameters: {'colsample_bylevel': 0.6000000000000001, 'colsample_bynode': 0.2, 'colsample_bytree': 0.0, 'gamma': 0.2, 'learning_rate': 0.0038587349321561066, 'max_depth': 12, 'min_child_weight': 1.0, 'n_estimators': 650, 'reg_alpha': 5.0, 'reg_lambda': 9.0, 'subsample': 0.8}. \n",
      "[I 2023-08-06 19:24:31,396] Trial 73 finished with values: [0.40593446470592526, -0.024871726862749632] and parameters: {'colsample_bylevel': 0.5, 'colsample_bynode': 0.7000000000000001, 'colsample_bytree': 0.30000000000000004, 'gamma': 0.1, 'learning_rate': 0.019416878385117207, 'max_depth': 3, 'min_child_weight': 5.0, 'n_estimators': 250, 'reg_alpha': 6.0, 'reg_lambda': 6.5, 'subsample': 0.8}. \n",
      "[I 2023-08-06 19:24:35,805] Trial 74 finished with values: [0.3709619749538237, -0.01665706665823069] and parameters: {'colsample_bylevel': 0.2, 'colsample_bynode': 1.0, 'colsample_bytree': 0.6000000000000001, 'gamma': 0.2, 'learning_rate': 0.05528961450996076, 'max_depth': 6, 'min_child_weight': 13.5, 'n_estimators': 350, 'reg_alpha': 8.5, 'reg_lambda': 0.5, 'subsample': 0.8}. \n",
      "[I 2023-08-06 19:24:44,249] Trial 75 finished with values: [0.4796069721597314, -0.011408352369213337] and parameters: {'colsample_bylevel': 0.9, 'colsample_bynode': 0.4, 'colsample_bytree': 0.2, 'gamma': 1.0, 'learning_rate': 0.011461193453571456, 'max_depth': 10, 'min_child_weight': 4.0, 'n_estimators': 1000, 'reg_alpha': 10.0, 'reg_lambda': 0.5, 'subsample': 0.4}. \n",
      "[I 2023-08-06 19:24:47,614] Trial 76 finished with values: [0.5600787150307934, -0.011340177185736544] and parameters: {'colsample_bylevel': 0.6000000000000001, 'colsample_bynode': 0.5, 'colsample_bytree': 1.0, 'gamma': 0.1, 'learning_rate': 0.014262100487467504, 'max_depth': 3, 'min_child_weight': 13.0, 'n_estimators': 300, 'reg_alpha': 10.0, 'reg_lambda': 2.0, 'subsample': 0.30000000000000004}. \n",
      "[I 2023-08-06 19:24:57,570] Trial 77 finished with values: [0.62789819137725, -0.009152634566186757] and parameters: {'colsample_bylevel': 0.30000000000000004, 'colsample_bynode': 0.5, 'colsample_bytree': 0.30000000000000004, 'gamma': 0.4, 'learning_rate': 0.0011258507350346203, 'max_depth': 13, 'min_child_weight': 9.0, 'n_estimators': 950, 'reg_alpha': 0.0, 'reg_lambda': 9.5, 'subsample': 0.4}. \n",
      "[I 2023-08-06 19:25:05,937] Trial 78 finished with values: [0.34955803330480245, -0.019405387618801395] and parameters: {'colsample_bylevel': 0.2, 'colsample_bynode': 0.6000000000000001, 'colsample_bytree': 0.7000000000000001, 'gamma': 0.9, 'learning_rate': 0.10880130358133273, 'max_depth': 14, 'min_child_weight': 4.5, 'n_estimators': 1000, 'reg_alpha': 3.5, 'reg_lambda': 3.5, 'subsample': 0.7000000000000001}. \n",
      "[I 2023-08-06 19:25:13,650] Trial 79 finished with values: [0.35557006299618127, -0.03781809085093213] and parameters: {'colsample_bylevel': 0.8, 'colsample_bynode': 0.1, 'colsample_bytree': 0.0, 'gamma': 0.6000000000000001, 'learning_rate': 0.08127356162183641, 'max_depth': 4, 'min_child_weight': 4.5, 'n_estimators': 950, 'reg_alpha': 1.5, 'reg_lambda': 6.0, 'subsample': 0.4}. \n",
      "[I 2023-08-06 19:25:18,574] Trial 80 finished with values: [0.40146131079685266, 0.01857322001940609] and parameters: {'colsample_bylevel': 0.6000000000000001, 'colsample_bynode': 0.1, 'colsample_bytree': 0.0, 'gamma': 0.2, 'learning_rate': 0.2339176599232181, 'max_depth': 4, 'min_child_weight': 8.0, 'n_estimators': 700, 'reg_alpha': 7.0, 'reg_lambda': 2.0, 'subsample': 0.6000000000000001}. \n",
      "[I 2023-08-06 19:25:24,357] Trial 81 finished with values: [0.3203480876136872, -0.05525987919767861] and parameters: {'colsample_bylevel': 1.0, 'colsample_bynode': 0.9, 'colsample_bytree': 0.5, 'gamma': 0.2, 'learning_rate': 0.2339176599232181, 'max_depth': 12, 'min_child_weight': 0.5, 'n_estimators': 700, 'reg_alpha': 6.5, 'reg_lambda': 2.0, 'subsample': 0.8}. \n",
      "[I 2023-08-06 19:25:26,798] Trial 82 finished with values: [0.5780081125158321, -0.01648641532422035] and parameters: {'colsample_bylevel': 0.6000000000000001, 'colsample_bynode': 0.5, 'colsample_bytree': 1.0, 'gamma': 0.30000000000000004, 'learning_rate': 0.021150885929927907, 'max_depth': 14, 'min_child_weight': 3.0, 'n_estimators': 150, 'reg_alpha': 4.0, 'reg_lambda': 3.5, 'subsample': 0.1}. \n",
      "[I 2023-08-06 19:25:29,334] Trial 83 finished with values: [0.39611278126632915, -0.007601364609803096] and parameters: {'colsample_bylevel': 0.5, 'colsample_bynode': 0.6000000000000001, 'colsample_bytree': 0.4, 'gamma': 0.1, 'learning_rate': 0.2377255116922506, 'max_depth': 15, 'min_child_weight': 13.0, 'n_estimators': 150, 'reg_alpha': 10.0, 'reg_lambda': 7.0, 'subsample': 0.7000000000000001}. \n",
      "[I 2023-08-06 19:25:32,925] Trial 84 finished with values: [0.6651654874694443, -0.0017978591241084585] and parameters: {'colsample_bylevel': 0.4, 'colsample_bynode': 0.5, 'colsample_bytree': 0.2, 'gamma': 0.30000000000000004, 'learning_rate': 0.001572822332561201, 'max_depth': 10, 'min_child_weight': 3.0, 'n_estimators': 150, 'reg_alpha': 0.0, 'reg_lambda': 9.0, 'subsample': 0.6000000000000001}. \n",
      "[I 2023-08-06 19:25:36,028] Trial 85 finished with values: [0.3587176018605838, -0.01065542750286036] and parameters: {'colsample_bylevel': 0.5, 'colsample_bynode': 0.5, 'colsample_bytree': 1.0, 'gamma': 0.9, 'learning_rate': 0.19726221076959105, 'max_depth': 15, 'min_child_weight': 13.0, 'n_estimators': 150, 'reg_alpha': 3.5, 'reg_lambda': 7.0, 'subsample': 0.7000000000000001}. \n",
      "[I 2023-08-06 19:25:40,531] Trial 86 finished with values: [0.44349245294085643, -0.024160858344972724] and parameters: {'colsample_bylevel': 0.6000000000000001, 'colsample_bynode': 0.5, 'colsample_bytree': 0.1, 'gamma': 0.30000000000000004, 'learning_rate': 0.021150885929927907, 'max_depth': 10, 'min_child_weight': 7.0, 'n_estimators': 350, 'reg_alpha': 3.5, 'reg_lambda': 0.5, 'subsample': 0.7000000000000001}. \n",
      "[I 2023-08-06 19:25:43,988] Trial 87 finished with values: [0.4210885087354731, 0.030140991975845577] and parameters: {'colsample_bylevel': 0.9, 'colsample_bynode': 0.8, 'colsample_bytree': 0.30000000000000004, 'gamma': 0.4, 'learning_rate': 0.2319448784757024, 'max_depth': 7, 'min_child_weight': 7.0, 'n_estimators': 400, 'reg_alpha': 3.5, 'reg_lambda': 0.5, 'subsample': 0.7000000000000001}. \n",
      "[I 2023-08-06 19:25:46,641] Trial 88 finished with values: [0.3810001034594597, -0.0512878233246577] and parameters: {'colsample_bylevel': 0.5, 'colsample_bynode': 0.6000000000000001, 'colsample_bytree': 0.4, 'gamma': 0.9, 'learning_rate': 0.23847754001648305, 'max_depth': 9, 'min_child_weight': 19.0, 'n_estimators': 250, 'reg_alpha': 0.0, 'reg_lambda': 7.0, 'subsample': 0.7000000000000001}. \n",
      "[I 2023-08-06 19:25:53,231] Trial 89 finished with values: [0.5712300873489132, -0.005458563120739002] and parameters: {'colsample_bylevel': 0.5, 'colsample_bynode': 0.2, 'colsample_bytree': 0.30000000000000004, 'gamma': 0.1, 'learning_rate': 0.006795235192169297, 'max_depth': 14, 'min_child_weight': 17.5, 'n_estimators': 650, 'reg_alpha': 3.5, 'reg_lambda': 1.0, 'subsample': 0.7000000000000001}. \n",
      "[I 2023-08-06 19:25:58,144] Trial 90 finished with values: [0.3825179863250312, -0.020930563955239512] and parameters: {'colsample_bylevel': 0.6000000000000001, 'colsample_bynode': 0.6000000000000001, 'colsample_bytree': 0.0, 'gamma': 0.2, 'learning_rate': 0.24090701315481658, 'max_depth': 6, 'min_child_weight': 18.5, 'n_estimators': 650, 'reg_alpha': 1.0, 'reg_lambda': 3.5, 'subsample': 0.8}. \n",
      "[I 2023-08-06 19:26:01,950] Trial 91 finished with values: [0.33816592076913704, -0.03106844758628774] and parameters: {'colsample_bylevel': 0.7000000000000001, 'colsample_bynode': 1.0, 'colsample_bytree': 0.4, 'gamma': 0.5, 'learning_rate': 0.05528961450996076, 'max_depth': 6, 'min_child_weight': 13.5, 'n_estimators': 350, 'reg_alpha': 3.0, 'reg_lambda': 1.0, 'subsample': 0.7000000000000001}. \n",
      "[I 2023-08-06 19:26:06,237] Trial 92 finished with values: [0.4746787018080817, -0.01104282852448607] and parameters: {'colsample_bylevel': 0.5, 'colsample_bynode': 0.6000000000000001, 'colsample_bytree': 0.30000000000000004, 'gamma': 0.6000000000000001, 'learning_rate': 0.014262100487467504, 'max_depth': 15, 'min_child_weight': 19.0, 'n_estimators': 300, 'reg_alpha': 3.0, 'reg_lambda': 1.5, 'subsample': 0.7000000000000001}. \n",
      "[I 2023-08-06 19:26:11,569] Trial 93 finished with values: [0.3596145424005833, -0.024951794482419798] and parameters: {'colsample_bylevel': 0.2, 'colsample_bynode': 0.2, 'colsample_bytree': 0.7000000000000001, 'gamma': 0.2, 'learning_rate': 0.10880130358133273, 'max_depth': 8, 'min_child_weight': 4.5, 'n_estimators': 600, 'reg_alpha': 3.0, 'reg_lambda': 4.0, 'subsample': 0.30000000000000004}. \n",
      "[I 2023-08-06 19:26:17,191] Trial 94 finished with values: [0.40116663630182425, -0.039349434263235616] and parameters: {'colsample_bylevel': 0.8, 'colsample_bynode': 0.8, 'colsample_bytree': 0.30000000000000004, 'gamma': 0.2, 'learning_rate': 0.01108303398582778, 'max_depth': 6, 'min_child_weight': 2.5, 'n_estimators': 250, 'reg_alpha': 8.0, 'reg_lambda': 2.0, 'subsample': 0.9}. \n",
      "[I 2023-08-06 19:26:19,418] Trial 95 finished with values: [0.36469267317299664, -0.01419421976786428] and parameters: {'colsample_bylevel': 0.8, 'colsample_bynode': 0.2, 'colsample_bytree': 0.30000000000000004, 'gamma': 0.1, 'learning_rate': 0.06774119712586629, 'max_depth': 3, 'min_child_weight': 8.5, 'n_estimators': 150, 'reg_alpha': 0.0, 'reg_lambda': 1.0, 'subsample': 0.7000000000000001}. \n",
      "[I 2023-08-06 19:26:22,553] Trial 96 finished with values: [0.4022517393928176, -0.009009761061115007] and parameters: {'colsample_bylevel': 0.5, 'colsample_bynode': 0.6000000000000001, 'colsample_bytree': 0.4, 'gamma': 0.9, 'learning_rate': 0.23847754001648305, 'max_depth': 15, 'min_child_weight': 19.0, 'n_estimators': 250, 'reg_alpha': 3.0, 'reg_lambda': 7.0, 'subsample': 0.7000000000000001}. \n",
      "[I 2023-08-06 19:26:27,135] Trial 97 finished with values: [0.48802595713754904, -0.004979985001981602] and parameters: {'colsample_bylevel': 0.4, 'colsample_bynode': 0.7000000000000001, 'colsample_bytree': 0.5, 'gamma': 1.0, 'learning_rate': 0.022963430511285243, 'max_depth': 3, 'min_child_weight': 5.0, 'n_estimators': 450, 'reg_alpha': 9.0, 'reg_lambda': 6.5, 'subsample': 0.30000000000000004}. \n",
      "[I 2023-08-06 19:26:38,107] Trial 98 finished with values: [0.3529505674372451, -0.03399068144030121] and parameters: {'colsample_bylevel': 0.9, 'colsample_bynode': 0.2, 'colsample_bytree': 0.9, 'gamma': 0.2, 'learning_rate': 0.011461193453571456, 'max_depth': 15, 'min_child_weight': 4.5, 'n_estimators': 700, 'reg_alpha': 10.0, 'reg_lambda': 1.5, 'subsample': 1.0}. \n",
      "[I 2023-08-06 19:26:40,254] Trial 99 finished with values: [0.34178878588163747, -0.0340753009281603] and parameters: {'colsample_bylevel': 0.7000000000000001, 'colsample_bynode': 0.2, 'colsample_bytree': 1.0, 'gamma': 0.0, 'learning_rate': 0.2807882213516494, 'max_depth': 6, 'min_child_weight': 2.5, 'n_estimators': 100, 'reg_alpha': 8.0, 'reg_lambda': 8.5, 'subsample': 0.9}. \n",
      "[I 2023-08-06 19:26:46,429] Trial 100 finished with values: [0.4619262011710019, 0.005315071172347419] and parameters: {'colsample_bylevel': 1.0, 'colsample_bynode': 0.8, 'colsample_bytree': 0.5, 'gamma': 0.9, 'learning_rate': 0.006524308104658843, 'max_depth': 6, 'min_child_weight': 2.5, 'n_estimators': 250, 'reg_alpha': 8.0, 'reg_lambda': 2.0, 'subsample': 0.9}. \n",
      "[I 2023-08-06 19:26:48,588] Trial 101 finished with values: [0.458482232680066, -6.030664645623185e-05] and parameters: {'colsample_bylevel': 0.5, 'colsample_bynode': 0.5, 'colsample_bytree': 1.0, 'gamma': 0.1, 'learning_rate': 0.2377255116922506, 'max_depth': 3, 'min_child_weight': 13.0, 'n_estimators': 150, 'reg_alpha': 10.0, 'reg_lambda': 2.0, 'subsample': 0.30000000000000004}. \n",
      "[I 2023-08-06 19:26:54,205] Trial 102 finished with values: [0.42099408403987315, 0.008304134118392092] and parameters: {'colsample_bylevel': 0.6000000000000001, 'colsample_bynode': 0.5, 'colsample_bytree': 0.2, 'gamma': 0.30000000000000004, 'learning_rate': 0.026742782183921066, 'max_depth': 15, 'min_child_weight': 3.0, 'n_estimators': 250, 'reg_alpha': 3.0, 'reg_lambda': 3.5, 'subsample': 0.7000000000000001}. \n",
      "[I 2023-08-06 19:26:59,605] Trial 103 finished with values: [0.31524255081259195, -0.04180006772175038] and parameters: {'colsample_bylevel': 0.7000000000000001, 'colsample_bynode': 0.9, 'colsample_bytree': 1.0, 'gamma': 0.9, 'learning_rate': 0.2339176599232181, 'max_depth': 6, 'min_child_weight': 2.5, 'n_estimators': 700, 'reg_alpha': 6.5, 'reg_lambda': 5.0, 'subsample': 0.9}. \n",
      "[I 2023-08-06 19:27:02,026] Trial 104 finished with values: [0.37240787492984356, -0.04156908771212986] and parameters: {'colsample_bylevel': 0.2, 'colsample_bynode': 0.2, 'colsample_bytree': 0.4, 'gamma': 0.2, 'learning_rate': 0.2339176599232181, 'max_depth': 8, 'min_child_weight': 4.5, 'n_estimators': 200, 'reg_alpha': 3.0, 'reg_lambda': 2.0, 'subsample': 0.30000000000000004}. \n",
      "[I 2023-08-06 19:27:04,520] Trial 105 finished with values: [0.4083826571247081, -0.043678213800080246] and parameters: {'colsample_bylevel': 0.8, 'colsample_bynode': 0.1, 'colsample_bytree': 0.4, 'gamma': 0.9, 'learning_rate': 0.23847754001648305, 'max_depth': 4, 'min_child_weight': 19.0, 'n_estimators': 250, 'reg_alpha': 8.5, 'reg_lambda': 7.0, 'subsample': 0.7000000000000001}. \n",
      "[I 2023-08-06 19:27:10,122] Trial 106 finished with values: [0.39084908930773943, -0.007983893511480655] and parameters: {'colsample_bylevel': 0.9, 'colsample_bynode': 0.9, 'colsample_bytree': 0.5, 'gamma': 0.30000000000000004, 'learning_rate': 0.2319448784757024, 'max_depth': 10, 'min_child_weight': 0.5, 'n_estimators': 700, 'reg_alpha': 3.5, 'reg_lambda': 2.0, 'subsample': 0.8}. \n",
      "[I 2023-08-06 19:27:12,294] Trial 107 finished with values: [0.3825526302740649, -0.029039677428182198] and parameters: {'colsample_bylevel': 0.5, 'colsample_bynode': 0.5, 'colsample_bytree': 0.30000000000000004, 'gamma': 0.1, 'learning_rate': 0.2377255116922506, 'max_depth': 3, 'min_child_weight': 8.5, 'n_estimators': 150, 'reg_alpha': 10.0, 'reg_lambda': 2.0, 'subsample': 0.7000000000000001}. \n",
      "[I 2023-08-06 19:27:22,477] Trial 108 finished with values: [0.38321450961096304, -0.004008425507827873] and parameters: {'colsample_bylevel': 1.0, 'colsample_bynode': 0.9, 'colsample_bytree': 0.5, 'gamma': 0.2, 'learning_rate': 0.011139337038143855, 'max_depth': 5, 'min_child_weight': 3.5, 'n_estimators': 950, 'reg_alpha': 1.5, 'reg_lambda': 2.0, 'subsample': 0.2}. \n",
      "[I 2023-08-06 19:27:24,954] Trial 109 finished with values: [0.37671551121808977, -0.0011979356256678342] and parameters: {'colsample_bylevel': 0.5, 'colsample_bynode': 0.6000000000000001, 'colsample_bytree': 1.0, 'gamma': 0.9, 'learning_rate': 0.19726221076959105, 'max_depth': 12, 'min_child_weight': 13.0, 'n_estimators': 150, 'reg_alpha': 3.5, 'reg_lambda': 7.0, 'subsample': 0.7000000000000001}. \n",
      "[I 2023-08-06 19:27:27,837] Trial 110 finished with values: [0.3917821497208349, -0.029791726566282595] and parameters: {'colsample_bylevel': 0.5, 'colsample_bynode': 0.30000000000000004, 'colsample_bytree': 0.4, 'gamma': 0.9, 'learning_rate': 0.2339176599232181, 'max_depth': 4, 'min_child_weight': 19.0, 'n_estimators': 250, 'reg_alpha': 3.0, 'reg_lambda': 7.0, 'subsample': 0.7000000000000001}. \n",
      "[I 2023-08-06 19:27:31,281] Trial 111 finished with values: [0.4167709952274403, -0.027025825872349363] and parameters: {'colsample_bylevel': 0.9, 'colsample_bynode': 0.2, 'colsample_bytree': 1.0, 'gamma': 0.0, 'learning_rate': 0.022963430511285243, 'max_depth': 15, 'min_child_weight': 17.0, 'n_estimators': 200, 'reg_alpha': 6.0, 'reg_lambda': 5.5, 'subsample': 0.8}. \n",
      "[I 2023-08-06 19:27:32,801] Trial 112 finished with values: [0.6523618385669822, 0.0019887336754893514] and parameters: {'colsample_bylevel': 1.0, 'colsample_bynode': 1.0, 'colsample_bytree': 0.6000000000000001, 'gamma': 0.9, 'learning_rate': 0.05528961450996076, 'max_depth': 5, 'min_child_weight': 13.5, 'n_estimators': 100, 'reg_alpha': 6.5, 'reg_lambda': 1.0, 'subsample': 0.2}. \n",
      "[I 2023-08-06 19:27:42,737] Trial 113 finished with values: [0.5262671701617739, -0.018603165008671096] and parameters: {'colsample_bylevel': 0.8, 'colsample_bynode': 0.1, 'colsample_bytree': 0.30000000000000004, 'gamma': 0.4, 'learning_rate': 0.004129165935735537, 'max_depth': 13, 'min_child_weight': 7.0, 'n_estimators': 900, 'reg_alpha': 0.0, 'reg_lambda': 6.0, 'subsample': 0.5}. \n",
      "[I 2023-08-06 19:27:52,073] Trial 114 finished with values: [0.36279432334795364, -0.011557806811911153] and parameters: {'colsample_bylevel': 0.9, 'colsample_bynode': 0.5, 'colsample_bytree': 0.2, 'gamma': 1.0, 'learning_rate': 0.021150885929927907, 'max_depth': 15, 'min_child_weight': 7.0, 'n_estimators': 700, 'reg_alpha': 3.5, 'reg_lambda': 1.5, 'subsample': 1.0}. \n",
      "[I 2023-08-06 19:27:59,455] Trial 115 finished with values: [0.4144007306967712, -0.0012515163388181483] and parameters: {'colsample_bylevel': 0.6000000000000001, 'colsample_bynode': 1.0, 'colsample_bytree': 0.0, 'gamma': 0.0, 'learning_rate': 0.08127356162183641, 'max_depth': 6, 'min_child_weight': 13.5, 'n_estimators': 1000, 'reg_alpha': 8.5, 'reg_lambda': 2.0, 'subsample': 0.6000000000000001}. \n",
      "[I 2023-08-06 19:28:01,951] Trial 116 finished with values: [0.618955470769413, -0.008638243640980758] and parameters: {'colsample_bylevel': 0.7000000000000001, 'colsample_bynode': 0.6000000000000001, 'colsample_bytree': 0.6000000000000001, 'gamma': 0.5, 'learning_rate': 0.0034787405469749164, 'max_depth': 6, 'min_child_weight': 13.5, 'n_estimators': 150, 'reg_alpha': 10.0, 'reg_lambda': 5.0, 'subsample': 0.7000000000000001}. \n",
      "[I 2023-08-06 19:28:08,321] Trial 117 finished with values: [0.3604828918827418, -0.017953428115884518] and parameters: {'colsample_bylevel': 1.0, 'colsample_bynode': 0.30000000000000004, 'colsample_bytree': 0.30000000000000004, 'gamma': 0.9, 'learning_rate': 0.2339176599232181, 'max_depth': 4, 'min_child_weight': 12.0, 'n_estimators': 1000, 'reg_alpha': 3.5, 'reg_lambda': 3.5, 'subsample': 0.7000000000000001}. \n",
      "[I 2023-08-06 19:28:13,110] Trial 118 finished with values: [0.3804530474433375, 0.012825621257402164] and parameters: {'colsample_bylevel': 0.6000000000000001, 'colsample_bynode': 0.1, 'colsample_bytree': 1.0, 'gamma': 0.2, 'learning_rate': 0.06774119712586629, 'max_depth': 12, 'min_child_weight': 3.0, 'n_estimators': 450, 'reg_alpha': 4.0, 'reg_lambda': 1.0, 'subsample': 0.8}. \n",
      "[I 2023-08-06 19:28:16,840] Trial 119 finished with values: [0.432684794370811, -0.02399879016681128] and parameters: {'colsample_bylevel': 0.9, 'colsample_bynode': 0.8, 'colsample_bytree': 0.30000000000000004, 'gamma': 0.9, 'learning_rate': 0.01108303398582778, 'max_depth': 6, 'min_child_weight': 11.5, 'n_estimators': 250, 'reg_alpha': 8.0, 'reg_lambda': 2.0, 'subsample': 0.9}. \n",
      "[I 2023-08-06 19:28:22,434] Trial 120 finished with values: [0.3702698056288782, -0.0016592039771409217] and parameters: {'colsample_bylevel': 0.0, 'colsample_bynode': 0.2, 'colsample_bytree': 1.0, 'gamma': 0.6000000000000001, 'learning_rate': 0.09262226598997396, 'max_depth': 6, 'min_child_weight': 0.5, 'n_estimators': 450, 'reg_alpha': 0.5, 'reg_lambda': 8.5, 'subsample': 0.8}. \n",
      "[I 2023-08-06 19:28:26,939] Trial 121 finished with values: [0.38269340406874786, 0.056856833198293044] and parameters: {'colsample_bylevel': 0.7000000000000001, 'colsample_bynode': 0.7000000000000001, 'colsample_bytree': 0.7000000000000001, 'gamma': 0.7000000000000001, 'learning_rate': 0.09262226598997396, 'max_depth': 10, 'min_child_weight': 4.5, 'n_estimators': 450, 'reg_alpha': 3.0, 'reg_lambda': 4.0, 'subsample': 0.30000000000000004}. \n",
      "[I 2023-08-06 19:28:33,645] Trial 122 finished with values: [0.35796589115517846, -0.014243667633328738] and parameters: {'colsample_bylevel': 0.2, 'colsample_bynode': 0.2, 'colsample_bytree': 0.9, 'gamma': 0.2, 'learning_rate': 0.10880130358133273, 'max_depth': 14, 'min_child_weight': 4.5, 'n_estimators': 700, 'reg_alpha': 3.5, 'reg_lambda': 3.5, 'subsample': 1.0}. \n",
      "[I 2023-08-06 19:28:38,517] Trial 123 finished with values: [0.33160265185830623, -0.030382545267336025] and parameters: {'colsample_bylevel': 0.7000000000000001, 'colsample_bynode': 1.0, 'colsample_bytree': 0.4, 'gamma': 0.1, 'learning_rate': 0.05528961450996076, 'max_depth': 15, 'min_child_weight': 13.5, 'n_estimators': 350, 'reg_alpha': 3.0, 'reg_lambda': 1.0, 'subsample': 0.7000000000000001}. \n",
      "[I 2023-08-06 19:28:47,883] Trial 124 finished with values: [0.4113945930730539, -0.005316410445305619] and parameters: {'colsample_bylevel': 0.7000000000000001, 'colsample_bynode': 0.2, 'colsample_bytree': 0.30000000000000004, 'gamma': 0.8, 'learning_rate': 0.01108303398582778, 'max_depth': 6, 'min_child_weight': 2.5, 'n_estimators': 650, 'reg_alpha': 4.5, 'reg_lambda': 3.5, 'subsample': 0.8}. \n",
      "[I 2023-08-06 19:28:51,670] Trial 125 finished with values: [0.37936522110574555, -0.012889213409286282] and parameters: {'colsample_bylevel': 0.5, 'colsample_bynode': 0.7000000000000001, 'colsample_bytree': 0.30000000000000004, 'gamma': 0.1, 'learning_rate': 0.019416878385117207, 'max_depth': 3, 'min_child_weight': 8.5, 'n_estimators': 250, 'reg_alpha': 2.5, 'reg_lambda': 1.0, 'subsample': 0.8}. \n",
      "[I 2023-08-06 19:29:02,709] Trial 126 finished with values: [0.3498326098613716, -0.01915292935151719] and parameters: {'colsample_bylevel': 0.9, 'colsample_bynode': 0.7000000000000001, 'colsample_bytree': 0.6000000000000001, 'gamma': 0.0, 'learning_rate': 0.10880130358133273, 'max_depth': 6, 'min_child_weight': 1.0, 'n_estimators': 950, 'reg_alpha': 1.0, 'reg_lambda': 4.0, 'subsample': 0.30000000000000004}. \n",
      "[I 2023-08-06 19:29:07,125] Trial 127 finished with values: [0.42259918508807026, -0.04943776967197033] and parameters: {'colsample_bylevel': 0.5, 'colsample_bynode': 0.9, 'colsample_bytree': 0.1, 'gamma': 0.9, 'learning_rate': 0.19726221076959105, 'max_depth': 8, 'min_child_weight': 13.0, 'n_estimators': 600, 'reg_alpha': 3.0, 'reg_lambda': 4.0, 'subsample': 0.30000000000000004}. \n",
      "[I 2023-08-06 19:29:10,589] Trial 128 finished with values: [0.35748179713801814, 0.0006253861924650495] and parameters: {'colsample_bylevel': 0.7000000000000001, 'colsample_bynode': 0.6000000000000001, 'colsample_bytree': 0.4, 'gamma': 0.9, 'learning_rate': 0.05528961450996076, 'max_depth': 6, 'min_child_weight': 13.5, 'n_estimators': 250, 'reg_alpha': 0.0, 'reg_lambda': 1.0, 'subsample': 0.8}. \n",
      "[I 2023-08-06 19:29:16,547] Trial 129 finished with values: [0.3271490138320245, -0.05783757897255287] and parameters: {'colsample_bylevel': 0.6000000000000001, 'colsample_bynode': 0.9, 'colsample_bytree': 0.4, 'gamma': 0.2, 'learning_rate': 0.2339176599232181, 'max_depth': 12, 'min_child_weight': 0.5, 'n_estimators': 700, 'reg_alpha': 5.5, 'reg_lambda': 4.5, 'subsample': 0.8}. \n",
      "[I 2023-08-06 19:29:21,033] Trial 130 finished with values: [0.3615834234704786, -0.031639692875934045] and parameters: {'colsample_bylevel': 0.9, 'colsample_bynode': 1.0, 'colsample_bytree': 0.1, 'gamma': 0.2, 'learning_rate': 0.2319448784757024, 'max_depth': 6, 'min_child_weight': 13.5, 'n_estimators': 350, 'reg_alpha': 8.5, 'reg_lambda': 0.5, 'subsample': 0.8}. \n",
      "[I 2023-08-06 19:29:24,255] Trial 131 finished with values: [0.3814713190866348, 0.02930623339159899] and parameters: {'colsample_bylevel': 0.9, 'colsample_bynode': 0.4, 'colsample_bytree': 1.0, 'gamma': 1.0, 'learning_rate': 0.2807882213516494, 'max_depth': 4, 'min_child_weight': 4.5, 'n_estimators': 250, 'reg_alpha': 2.5, 'reg_lambda': 9.0, 'subsample': 0.9}. \n",
      "[I 2023-08-06 19:29:26,325] Trial 132 finished with values: [0.7030077237949321, 0.00033673083211516186] and parameters: {'colsample_bylevel': 0.5, 'colsample_bynode': 1.0, 'colsample_bytree': 1.0, 'gamma': 0.5, 'learning_rate': 0.19726221076959105, 'max_depth': 6, 'min_child_weight': 13.0, 'n_estimators': 150, 'reg_alpha': 3.0, 'reg_lambda': 7.0, 'subsample': 0.1}. \n",
      "[I 2023-08-06 19:29:33,425] Trial 133 finished with values: [0.32498144175888993, -0.04400180877646953] and parameters: {'colsample_bylevel': 0.6000000000000001, 'colsample_bynode': 0.6000000000000001, 'colsample_bytree': 1.0, 'gamma': 0.0, 'learning_rate': 0.23847754001648305, 'max_depth': 9, 'min_child_weight': 17.5, 'n_estimators': 950, 'reg_alpha': 6.5, 'reg_lambda': 2.0, 'subsample': 0.7000000000000001}. \n",
      "[I 2023-08-06 19:29:37,599] Trial 134 finished with values: [0.33244582496809644, -0.017210732508479654] and parameters: {'colsample_bylevel': 0.6000000000000001, 'colsample_bynode': 0.5, 'colsample_bytree': 1.0, 'gamma': 0.30000000000000004, 'learning_rate': 0.21244253617888526, 'max_depth': 14, 'min_child_weight': 9.0, 'n_estimators': 400, 'reg_alpha': 7.0, 'reg_lambda': 3.5, 'subsample': 0.4}. \n",
      "[I 2023-08-06 19:29:44,392] Trial 135 finished with values: [0.35786772836463016, -0.0036845512624145704] and parameters: {'colsample_bylevel': 1.0, 'colsample_bynode': 0.9, 'colsample_bytree': 0.2, 'gamma': 0.2, 'learning_rate': 0.06774119712586629, 'max_depth': 12, 'min_child_weight': 6.0, 'n_estimators': 650, 'reg_alpha': 6.5, 'reg_lambda': 3.5, 'subsample': 0.8}. \n",
      "[I 2023-08-06 19:29:46,474] Trial 136 finished with values: [0.41691210640963106, -0.01219992654155877] and parameters: {'colsample_bylevel': 0.5, 'colsample_bynode': 0.0, 'colsample_bytree': 0.7000000000000001, 'gamma': 0.9, 'learning_rate': 0.2807882213516494, 'max_depth': 14, 'min_child_weight': 4.5, 'n_estimators': 100, 'reg_alpha': 8.0, 'reg_lambda': 8.5, 'subsample': 0.9}. \n",
      "[I 2023-08-06 19:29:53,430] Trial 137 finished with values: [0.48848876889828075, 0.10753788003394621] and parameters: {'colsample_bylevel': 1.0, 'colsample_bynode': 0.9, 'colsample_bytree': 0.30000000000000004, 'gamma': 0.9, 'learning_rate': 0.24090701315481658, 'max_depth': 6, 'min_child_weight': 3.5, 'n_estimators': 900, 'reg_alpha': 0.5, 'reg_lambda': 5.0, 'subsample': 0.2}. \n",
      "[I 2023-08-06 19:29:58,164] Trial 138 finished with values: [0.4318291767918206, -0.03672465480290815] and parameters: {'colsample_bylevel': 0.8, 'colsample_bynode': 0.5, 'colsample_bytree': 0.30000000000000004, 'gamma': 0.9, 'learning_rate': 0.01108303398582778, 'max_depth': 6, 'min_child_weight': 2.5, 'n_estimators': 250, 'reg_alpha': 7.0, 'reg_lambda': 9.5, 'subsample': 0.9}. \n",
      "[I 2023-08-06 19:30:02,018] Trial 139 finished with values: [0.6336126356893391, -0.0007177684359661596] and parameters: {'colsample_bylevel': 0.7000000000000001, 'colsample_bynode': 1.0, 'colsample_bytree': 0.0, 'gamma': 0.6000000000000001, 'learning_rate': 0.0068490867457741906, 'max_depth': 4, 'min_child_weight': 2.5, 'n_estimators': 250, 'reg_alpha': 1.5, 'reg_lambda': 8.5, 'subsample': 0.9}. \n",
      "[I 2023-08-06 19:30:03,774] Trial 140 finished with values: [0.42103690358931006, -0.05406484210528195] and parameters: {'colsample_bylevel': 0.0, 'colsample_bynode': 1.0, 'colsample_bytree': 1.0, 'gamma': 0.9, 'learning_rate': 0.10880130358133273, 'max_depth': 8, 'min_child_weight': 18.0, 'n_estimators': 100, 'reg_alpha': 3.0, 'reg_lambda': 7.0, 'subsample': 0.8}. \n",
      "[I 2023-08-06 19:30:08,675] Trial 141 finished with values: [0.39085680643284193, 0.01240973287673025] and parameters: {'colsample_bylevel': 0.30000000000000004, 'colsample_bynode': 0.7000000000000001, 'colsample_bytree': 0.4, 'gamma': 0.5, 'learning_rate': 0.10880130358133273, 'max_depth': 8, 'min_child_weight': 13.5, 'n_estimators': 600, 'reg_alpha': 3.0, 'reg_lambda': 1.0, 'subsample': 0.7000000000000001}. \n",
      "[I 2023-08-06 19:30:12,613] Trial 142 finished with values: [0.3298277489013897, -0.03362924806083328] and parameters: {'colsample_bylevel': 0.7000000000000001, 'colsample_bynode': 1.0, 'colsample_bytree': 0.6000000000000001, 'gamma': 0.5, 'learning_rate': 0.05528961450996076, 'max_depth': 6, 'min_child_weight': 13.5, 'n_estimators': 350, 'reg_alpha': 6.0, 'reg_lambda': 1.0, 'subsample': 0.8}. \n",
      "[I 2023-08-06 19:30:21,542] Trial 143 finished with values: [0.4157404423254137, 0.03721830463649467] and parameters: {'colsample_bylevel': 0.5, 'colsample_bynode': 0.5, 'colsample_bytree': 1.0, 'gamma': 0.0, 'learning_rate': 0.08127356162183641, 'max_depth': 15, 'min_child_weight': 13.0, 'n_estimators': 750, 'reg_alpha': 6.5, 'reg_lambda': 7.0, 'subsample': 0.6000000000000001}. \n",
      "[I 2023-08-06 19:30:27,599] Trial 144 finished with values: [0.407025210199496, -0.07454360883304523] and parameters: {'colsample_bylevel': 0.9, 'colsample_bynode': 0.2, 'colsample_bytree': 0.30000000000000004, 'gamma': 0.1, 'learning_rate': 0.24090701315481658, 'max_depth': 6, 'min_child_weight': 18.5, 'n_estimators': 900, 'reg_alpha': 0.0, 'reg_lambda': 2.0, 'subsample': 0.7000000000000001}. \n",
      "[I 2023-08-06 19:30:33,975] Trial 145 finished with values: [0.37011127558677054, -0.025649011929014642] and parameters: {'colsample_bylevel': 0.7000000000000001, 'colsample_bynode': 0.6000000000000001, 'colsample_bytree': 0.4, 'gamma': 0.2, 'learning_rate': 0.06623857379115702, 'max_depth': 6, 'min_child_weight': 18.5, 'n_estimators': 750, 'reg_alpha': 7.5, 'reg_lambda': 0.5, 'subsample': 0.7000000000000001}. \n",
      "[I 2023-08-06 19:30:37,721] Trial 146 finished with values: [0.38891784802441937, -0.03462833897331141] and parameters: {'colsample_bylevel': 0.8, 'colsample_bynode': 0.5, 'colsample_bytree': 0.1, 'gamma': 0.30000000000000004, 'learning_rate': 0.2339176599232181, 'max_depth': 10, 'min_child_weight': 3.5, 'n_estimators': 400, 'reg_alpha': 6.5, 'reg_lambda': 5.0, 'subsample': 0.2}. \n"
     ]
    }
   ],
   "source": [
    "pruner = optuna.pruners.SuccessiveHalvingPruner()\n",
    "study = optuna.create_study(\n",
    "    pruner=pruner,\n",
    "    directions=[\"minimize\", \"minimize\"],\n",
    "    study_name=\"xgboost_bin_age\",\n",
    "    storage=\"sqlite:////storage/optuna.db\",\n",
    "    load_if_exists=True,\n",
    ")\n",
    "study.optimize(objective, n_trials=250)"
   ]
  },
  {
   "cell_type": "code",
   "execution_count": null,
   "outputs": [],
   "source": [],
   "metadata": {
    "collapsed": false
   },
   "id": "5d4cdf7cb9c9ef1b"
  }
 ],
 "metadata": {
  "kernelspec": {
   "display_name": "Python 3",
   "language": "python",
   "name": "python3"
  },
  "language_info": {
   "codemirror_mode": {
    "name": "ipython",
    "version": 3
   },
   "file_extension": ".py",
   "mimetype": "text/x-python",
   "name": "python",
   "nbconvert_exporter": "python",
   "pygments_lexer": "ipython3",
   "version": "3.10.10"
  },
  "papermill": {
   "default_parameters": {},
   "duration": 49.896341,
   "end_time": "2023-07-17T22:46:12.417994",
   "environment_variables": {},
   "exception": null,
   "input_path": "__notebook__.ipynb",
   "output_path": "__notebook__.ipynb",
   "parameters": {},
   "start_time": "2023-07-17T22:45:22.521653",
   "version": "2.4.0"
  }
 },
 "nbformat": 4,
 "nbformat_minor": 5
}
