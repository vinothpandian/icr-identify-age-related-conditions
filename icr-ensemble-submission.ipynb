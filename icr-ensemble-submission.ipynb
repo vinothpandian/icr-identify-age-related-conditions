{
 "cells": [
  {
   "cell_type": "code",
   "execution_count": 28,
   "outputs": [],
   "source": [
    "import optuna\n",
    "from pathlib import Path\n",
    "import optuna\n",
    "from fastai.tabular.core import cont_cat_split\n",
    "import pandas as pd\n",
    "from sklearn import compose, impute, pipeline, preprocessing, model_selection\n",
    "import numpy as np\n",
    "from sklearn import metrics\n",
    "from catboost import CatBoostClassifier\n",
    "from fastai.tabular.all import Tensor, torch, store_attr\n",
    "\n",
    "import warnings\n",
    "\n",
    "warnings.filterwarnings(\"ignore\", category=UserWarning)"
   ],
   "metadata": {
    "collapsed": false,
    "ExecuteTime": {
     "end_time": "2023-08-07T15:46:44.170748Z",
     "start_time": "2023-08-07T15:46:44.071246Z"
    }
   },
   "id": "ab7d923da0a3f996"
  },
  {
   "cell_type": "markdown",
   "source": [
    "# Loss metrics"
   ],
   "metadata": {
    "collapsed": false
   },
   "id": "d592bdc3a8ded145"
  },
  {
   "cell_type": "code",
   "execution_count": 29,
   "outputs": [],
   "source": [
    "def balanced_log_loss(y_true, y_pred):\n",
    "    nc = np.bincount(y_true)\n",
    "    return metrics.log_loss(y_true, y_pred, sample_weight=1 / nc[y_true], eps=1e-15)\n",
    "\n",
    "\n",
    "def balanced_log_loss_tensor(output: Tensor, target: Tensor):\n",
    "    y_true = target.flatten().cpu().detach().numpy()\n",
    "    y_pred = output.cpu().detach().numpy()\n",
    "\n",
    "    try:\n",
    "        loss_value = balanced_log_loss(y_true, y_pred)\n",
    "    except Exception:\n",
    "        return torch.tensor(0.0, dtype=torch.float32, device=output.device, requires_grad=True)\n",
    "    return torch.tensor(loss_value, dtype=torch.float32, device=output.device, requires_grad=True)\n",
    "\n",
    "\n",
    "class BalancedLogLossMetric:\n",
    "    def get_final_error(self, error, weight):\n",
    "        return error / weight\n",
    "\n",
    "    def is_max_optimal(self):\n",
    "        return False\n",
    "\n",
    "    def evaluate(self, approxes, target, weight):\n",
    "        y_true = np.array(target).astype(int)\n",
    "        y_pred = np.array(approxes[0])\n",
    "        nc = np.bincount(y_true)\n",
    "        balanced_logloss = metrics.log_loss(y_true, y_pred, sample_weight=1 / nc[y_true], eps=1e-15)\n",
    "        return balanced_logloss, 1.0\n",
    "\n",
    "\n",
    "class BalancedLogLoss:\n",
    "    y_int = True\n",
    "\n",
    "    def __init__(self, *args, **kwargs):\n",
    "        store_attr()\n",
    "\n",
    "    def __call__(self, inp, targ, **kwargs):\n",
    "        return balanced_log_loss_tensor(inp, targ)\n",
    "\n",
    "    def activation(self, out: Tensor) -> Tensor:\n",
    "        return F.softmax(out, dim=-1)\n",
    "\n",
    "    def decodes(self, out: Tensor) -> Tensor:\n",
    "        return out.argmax(dim=-1)"
   ],
   "metadata": {
    "collapsed": false,
    "ExecuteTime": {
     "end_time": "2023-08-07T15:46:44.181695Z",
     "start_time": "2023-08-07T15:46:44.118553Z"
    }
   },
   "id": "b77ae161aa830418"
  },
  {
   "cell_type": "markdown",
   "source": [
    "# Data preprocessing"
   ],
   "metadata": {
    "collapsed": false
   },
   "id": "7b952a282729ea46"
  },
  {
   "cell_type": "code",
   "execution_count": 30,
   "outputs": [],
   "source": [
    "from collections import defaultdict\n",
    "\n",
    "import numpy as np\n",
    "import pandas as pd\n",
    "from scipy import stats\n",
    "from sklearn import compose, ensemble, impute, pipeline, preprocessing, tree\n",
    "\n",
    "\n",
    "def get_preprocess_pipeline(df, cont_cols, cat_cols, drop_cols):\n",
    "    \"\"\"\n",
    "    Returns a pipeline that performs the following transformations:\n",
    "    * Standard scaling\n",
    "    * Log transformation\n",
    "    * Reciprocal transformation\n",
    "    * Box-Cox transformation\n",
    "    * Yeo-Johnson transformation\n",
    "    * Categorical imputing\n",
    "    * Semi-constant feature binarization\n",
    "\n",
    "    Based on the EDA from https://www.kaggle.com/code/mateuszk013/icr-eda-balanced-learning-with-lgbm-xgb/notebook\n",
    "\n",
    "    :param df: The dataframe to be transformed.\n",
    "    :type df: pandas.DataFrame\n",
    "    :param cont_names: The names of the continuous variables.\n",
    "    :type cont_names: list of str\n",
    "    :param dep_vars: The names of the dependent variables.\n",
    "    :type dep_vars: list of str\n",
    "    \"\"\"\n",
    "\n",
    "    # Identify columns that doesn't follow a normal distribution\n",
    "    # find an appropriate transformation for them to follow a normal distribution\n",
    "    r2_scores = defaultdict(tuple)\n",
    "\n",
    "    for feature in cont_cols:\n",
    "        orig = df[feature].dropna()\n",
    "        _, (*_, R_orig) = stats.probplot(orig, rvalue=True)\n",
    "        _, (*_, R_log) = stats.probplot(np.log(orig), rvalue=True)\n",
    "        _, (*_, R_sqrt) = stats.probplot(np.sqrt(orig), rvalue=True)\n",
    "        _, (*_, R_reci) = stats.probplot(np.reciprocal(orig), rvalue=True)\n",
    "        _, (*_, R_boxcox) = stats.probplot(stats.boxcox(orig)[0], rvalue=True)\n",
    "        _, (*_, R_yeojohn) = stats.probplot(stats.yeojohnson(orig)[0], rvalue=True)\n",
    "        r2_scores[feature] = (\n",
    "            R_orig * R_orig,\n",
    "            R_log * R_log,\n",
    "            R_sqrt * R_sqrt,\n",
    "            R_reci * R_reci,\n",
    "            R_boxcox * R_boxcox,\n",
    "            R_yeojohn * R_yeojohn,\n",
    "        )\n",
    "\n",
    "    r2_scores = pd.DataFrame(\n",
    "        r2_scores,\n",
    "        index=(\"Original\", \"Log\", \"Sqrt\", \"Reciprocal\", \"BoxCox\", \"YeoJohnson\"),\n",
    "    ).T\n",
    "\n",
    "    r2_scores[\"Winner\"] = r2_scores.idxmax(axis=1)\n",
    "\n",
    "    # Identify columns to be transformed\n",
    "    no_transform_cols = r2_scores.query(\"Winner == 'Original'\").index\n",
    "    log_transform_cols = r2_scores.query(\"Winner == 'Log'\").index\n",
    "    reciprocal_transform_cols = r2_scores.query(\"Winner == 'Reciprocal'\").index\n",
    "    boxcox_transform_cols = r2_scores.query(\"Winner == 'BoxCox'\").index\n",
    "    yeojohnson_transform_cols = r2_scores.query(\"Winner == 'YeoJohnson'\").index\n",
    "\n",
    "    # Identify columns that are constant or semi-constant\n",
    "    numeric_descr = df.drop(columns=drop_cols).describe().T\n",
    "    semi_constant_mask = np.isclose(numeric_descr[\"min\"], numeric_descr[\"50%\"])\n",
    "    semi_constant_descr = numeric_descr[semi_constant_mask]\n",
    "    semi_const_cols_thresholds = semi_constant_descr[\"50%\"].to_dict()\n",
    "\n",
    "    # List of columns to be transformed\n",
    "    semi_const_cols = semi_const_cols_thresholds.keys()\n",
    "    no_transform_cols = no_transform_cols.drop(semi_const_cols, errors=\"ignore\").to_list()\n",
    "    log_transform_cols = log_transform_cols.drop(semi_const_cols, errors=\"ignore\").to_list()\n",
    "    reciprocal_transform_cols = reciprocal_transform_cols.drop(semi_const_cols, errors=\"ignore\").to_list()\n",
    "    boxcox_transform_cols = boxcox_transform_cols.drop(semi_const_cols, errors=\"ignore\").to_list()\n",
    "    yeojohnson_transform_cols = yeojohnson_transform_cols.drop(semi_const_cols, errors=\"ignore\").to_list()\n",
    "\n",
    "    # Transformations\n",
    "    standard_scaling = (\n",
    "        preprocessing.StandardScaler(),\n",
    "        no_transform_cols,\n",
    "    )\n",
    "    log_transform = (\n",
    "        pipeline.make_pipeline(\n",
    "            preprocessing.FunctionTransformer(func=np.log, feature_names_out=\"one-to-one\"),\n",
    "            preprocessing.StandardScaler(),\n",
    "        ),\n",
    "        log_transform_cols,\n",
    "    )\n",
    "    reciprocal_transform = (\n",
    "        pipeline.make_pipeline(\n",
    "            preprocessing.FunctionTransformer(func=np.reciprocal, feature_names_out=\"one-to-one\"),\n",
    "            preprocessing.StandardScaler(),\n",
    "        ),\n",
    "        reciprocal_transform_cols,\n",
    "    )\n",
    "    boxcox_transform = (\n",
    "        preprocessing.PowerTransformer(method=\"box-cox\", standardize=True),\n",
    "        boxcox_transform_cols,\n",
    "    )\n",
    "    yeojohnson_transform = (\n",
    "        preprocessing.PowerTransformer(method=\"yeo-johnson\", standardize=True),\n",
    "        yeojohnson_transform_cols,\n",
    "    )\n",
    "\n",
    "    # Other transformations\n",
    "    categorical_imputing = (\n",
    "        pipeline.make_pipeline(\n",
    "            impute.SimpleImputer(strategy=\"most_frequent\"),\n",
    "            preprocessing.OrdinalEncoder(handle_unknown=\"use_encoded_value\", unknown_value=-1),\n",
    "        ),\n",
    "        cat_cols,  # type: ignore\n",
    "    )\n",
    "    semi_const_transforms = [\n",
    "        (\n",
    "            pipeline.make_pipeline(\n",
    "                impute.SimpleImputer(strategy=\"median\"),\n",
    "                preprocessing.Binarizer(threshold=thresh),\n",
    "            ),\n",
    "            [col],\n",
    "        )\n",
    "        for col, thresh in semi_const_cols_thresholds.items()\n",
    "    ]\n",
    "\n",
    "    return pipeline.make_pipeline(\n",
    "        compose.make_column_transformer(\n",
    "            standard_scaling,\n",
    "            log_transform,\n",
    "            reciprocal_transform,\n",
    "            boxcox_transform,\n",
    "            yeojohnson_transform,\n",
    "            categorical_imputing,\n",
    "            *semi_const_transforms,\n",
    "            remainder=\"drop\",\n",
    "            verbose_feature_names_out=False,\n",
    "        ),\n",
    "        impute.KNNImputer(n_neighbors=10, weights=\"distance\"),\n",
    "    ).set_output(transform=\"pandas\")\n",
    "\n",
    "\n",
    "def get_tree_preprocess_pipeline():\n",
    "    return pipeline.make_pipeline(\n",
    "        impute.KNNImputer(n_neighbors=10, weights=\"distance\"),\n",
    "    ).set_output(transform=\"pandas\")"
   ],
   "metadata": {
    "collapsed": false,
    "ExecuteTime": {
     "end_time": "2023-08-07T15:46:44.181782Z",
     "start_time": "2023-08-07T15:46:44.118772Z"
    }
   },
   "id": "31d08d53d8f3bcd9"
  },
  {
   "cell_type": "code",
   "execution_count": 31,
   "outputs": [],
   "source": [
    "from pathlib import Path\n",
    "\n",
    "path = Path(\"./data\")\n",
    "output = Path(\"./output\")\n",
    "output.mkdir(exist_ok=True)\n",
    "\n",
    "df = pd.read_csv(path / \"train.csv\", index_col=\"Id\")\n",
    "dep_vars = [\"Class\"]\n",
    "\n",
    "drop_vars = [\"EJ\"]\n",
    "df.drop(columns=drop_vars, inplace=True)\n",
    "\n",
    "train_df, test_df = model_selection.train_test_split(df, test_size=0.4, stratify=df[dep_vars], random_state=33)\n",
    "\n",
    "\n",
    "def get_preprocessed_data(train_df, test_df, dep_vars):\n",
    "    cont_names, cat_names = cont_cat_split(df, dep_var=dep_vars)\n",
    "\n",
    "    preprocessor = get_preprocess_pipeline(df, cont_names, cat_names, dep_vars)\n",
    "\n",
    "    # Preprocess training data\n",
    "    X_pre = preprocessor.fit_transform(train_df.drop(columns=dep_vars))\n",
    "    train_df = pd.merge(X_pre, train_df[dep_vars], left_index=True, right_index=True)\n",
    "    X = train_df.drop(columns=dep_vars, errors=\"ignore\")\n",
    "    y = train_df[dep_vars]\n",
    "\n",
    "    # Preprocess test data\n",
    "    X_test_pre = preprocessor.transform(test_df.drop(columns=dep_vars))\n",
    "    test_df = pd.merge(X_test_pre, test_df[dep_vars], left_index=True, right_index=True)\n",
    "    X_test = test_df.drop(columns=dep_vars, errors=\"ignore\")\n",
    "    y_test = test_df[dep_vars]\n",
    "\n",
    "    return X, y, X_test, y_test\n",
    "\n",
    "\n",
    "def get_tree_preprocessed_data(train_df, test_df, dep_vars):\n",
    "    preprocessor = get_tree_preprocess_pipeline()\n",
    "\n",
    "    # Preprocess training data\n",
    "    X_pre = preprocessor.fit_transform(train_df.drop(columns=dep_vars))\n",
    "    train_df = pd.merge(X_pre, train_df[dep_vars], left_index=True, right_index=True)\n",
    "    X = train_df.drop(columns=dep_vars, errors=\"ignore\")\n",
    "    y = train_df[dep_vars]\n",
    "\n",
    "    # Preprocess test data\n",
    "    X_test_pre = preprocessor.transform(test_df.drop(columns=dep_vars))\n",
    "    test_df = pd.merge(X_test_pre, test_df[dep_vars], left_index=True, right_index=True)\n",
    "    X_test = test_df.drop(columns=dep_vars, errors=\"ignore\")\n",
    "    y_test = test_df[dep_vars]\n",
    "\n",
    "    # Calculate scale_pos_weight\n",
    "    scale_pos_weight = df[\"Class\"].value_counts()[0] / df[\"Class\"].value_counts()[1]\n",
    "\n",
    "    return X, y, X_test, y_test, scale_pos_weight"
   ],
   "metadata": {
    "collapsed": false,
    "ExecuteTime": {
     "end_time": "2023-08-07T15:46:44.181814Z",
     "start_time": "2023-08-07T15:46:44.118925Z"
    }
   },
   "id": "865eae9e43791a21"
  },
  {
   "cell_type": "code",
   "execution_count": 32,
   "outputs": [],
   "source": [
    "# Resample\n",
    "from imblearn.over_sampling import SMOTE\n",
    "\n",
    "\n",
    "def resample(X, y):\n",
    "    sampler = SMOTE()\n",
    "    X_res, y_res = sampler.fit_resample(X, y)\n",
    "    return X_res, y_res"
   ],
   "metadata": {
    "collapsed": false,
    "ExecuteTime": {
     "end_time": "2023-08-07T15:46:44.182781Z",
     "start_time": "2023-08-07T15:46:44.125900Z"
    }
   },
   "id": "2e84cd9ab326f67a"
  },
  {
   "cell_type": "markdown",
   "source": [
    "# Model param getters from Optuna"
   ],
   "metadata": {
    "collapsed": false
   },
   "id": "96cae6eddf512b3e"
  },
  {
   "cell_type": "code",
   "execution_count": 33,
   "id": "initial_id",
   "metadata": {
    "collapsed": true,
    "ExecuteTime": {
     "end_time": "2023-08-07T15:46:44.182817Z",
     "start_time": "2023-08-07T15:46:44.167264Z"
    }
   },
   "outputs": [],
   "source": [
    "best_trials = {\n",
    "    \"lightgbm_with_resampling\": 248,\n",
    "    \"lightgbm_without_resampling\": 220,\n",
    "    \"svc_without_resampling\": 203,\n",
    "    \"svc_with_resampling\": 161,\n",
    "    \"catboost_with_resampling\": 234,\n",
    "    \"catboost_without_resampling\": 223,\n",
    "    \"fastai_with_resampling\": 123,\n",
    "    \"fastai_without_resampling\": 101,\n",
    "    \"tabpfn_without_resampling\": 30,\n",
    "    \"tabpfn_with_resampling\": 65,\n",
    "    \"xgboost_without_resampling\": 210,\n",
    "    \"xgboost_with_resampling\": 179,\n",
    "}"
   ]
  },
  {
   "cell_type": "code",
   "execution_count": 34,
   "outputs": [],
   "source": [
    "optuna_storage = \"sqlite:///icr-ensemble-experiments.db\""
   ],
   "metadata": {
    "collapsed": false,
    "ExecuteTime": {
     "end_time": "2023-08-07T15:46:44.182844Z",
     "start_time": "2023-08-07T15:46:44.167342Z"
    }
   },
   "id": "e06554d32a11fa3f"
  },
  {
   "cell_type": "code",
   "execution_count": 35,
   "outputs": [],
   "source": [
    "estimator_params = {}\n",
    "for study_name, trial_id in best_trials.items():\n",
    "    study = optuna.load_study(study_name=study_name, storage=optuna_storage)\n",
    "    best_trial = best_trials[study_name]\n",
    "    estimator_params[study_name] = study.trials[trial_id].params"
   ],
   "metadata": {
    "collapsed": false,
    "ExecuteTime": {
     "end_time": "2023-08-07T15:46:46.294113Z",
     "start_time": "2023-08-07T15:46:44.167385Z"
    }
   },
   "id": "5eed160c1ee1e821"
  },
  {
   "cell_type": "code",
   "execution_count": 36,
   "outputs": [
    {
     "data": {
      "text/plain": "{'C': 0.10494454342481872,\n 'degree': 8,\n 'gamma': 3.4748581836487165,\n 'kernel': 'linear'}"
     },
     "execution_count": 36,
     "metadata": {},
     "output_type": "execute_result"
    }
   ],
   "source": [
    "estimator_params[\"svc_with_resampling\"]"
   ],
   "metadata": {
    "collapsed": false,
    "ExecuteTime": {
     "end_time": "2023-08-07T15:46:46.295708Z",
     "start_time": "2023-08-07T15:46:46.294275Z"
    }
   },
   "id": "8ab3342c8064deb"
  },
  {
   "cell_type": "code",
   "execution_count": 37,
   "outputs": [],
   "source": [
    "from xgboost import XGBClassifier\n",
    "\n",
    "\n",
    "def get_xgboost_estimator(name: str):\n",
    "    should_resample = name.endswith(\"with_resampling\")\n",
    "\n",
    "    optuna_params = estimator_params[name]\n",
    "    X, y, X_test, y_test, scale_pos_weight = get_tree_preprocessed_data(train_df, test_df, dep_vars)\n",
    "\n",
    "    params = (\n",
    "            dict(\n",
    "                booster=\"gbtree\",\n",
    "                tree_method=\"gpu_hist\",\n",
    "                gpu_id=0,\n",
    "                predictor=\"gpu_predictor\",\n",
    "                enable_categorical=True,\n",
    "                scale_pos_weight=scale_pos_weight,\n",
    "            )\n",
    "            | optuna_params\n",
    "    )\n",
    "\n",
    "    model = XGBClassifier(\n",
    "        **params,\n",
    "        eval_metric=balanced_log_loss,\n",
    "    )\n",
    "\n",
    "    skf = model_selection.RepeatedStratifiedKFold(n_splits=7, n_repeats=3)\n",
    "\n",
    "    val_loss_list = []\n",
    "\n",
    "    for i, (train_idx, val_idx) in enumerate(skf.split(X, y)):\n",
    "        X_train = X.iloc[train_idx]\n",
    "        y_train = y.iloc[train_idx].values.ravel()\n",
    "\n",
    "        X_val = X.iloc[val_idx]\n",
    "        y_val = y.iloc[val_idx].values.ravel()\n",
    "\n",
    "        X_fit, y_fit = X_train, y_train\n",
    "        if should_resample:\n",
    "            X_fit, y_fit = resample(X_train, y_train)\n",
    "\n",
    "        model.fit(X_fit, y_fit)\n",
    "\n",
    "        val_preds = model.predict_proba(X_val)\n",
    "        val_loss = balanced_log_loss(y_val, val_preds)\n",
    "\n",
    "        val_loss_list.append(val_loss)\n",
    "\n",
    "    targs = y_test.values.ravel()\n",
    "    ypreds = model.predict_proba(X_test)\n",
    "    test_loss = balanced_log_loss(targs, ypreds)\n",
    "    print(f\"Validation loss: {np.mean(val_loss_list)}\")\n",
    "    print(f\"Test loss: {test_loss}\")\n",
    "\n",
    "    return ypreds, targs, model"
   ],
   "metadata": {
    "collapsed": false,
    "ExecuteTime": {
     "end_time": "2023-08-07T15:46:46.296839Z",
     "start_time": "2023-08-07T15:46:46.294680Z"
    }
   },
   "id": "58b6004001f46e2a"
  },
  {
   "cell_type": "code",
   "execution_count": 38,
   "outputs": [
    {
     "name": "stdout",
     "output_type": "stream",
     "text": [
      "Validation loss: 0.26450599056169405\n",
      "Test loss: 0.3078743331221907\n",
      "Validation loss: 0.3600682567715471\n",
      "Test loss: 0.34729932550867476\n"
     ]
    }
   ],
   "source": [
    "xgboost_with_resampling = get_xgboost_estimator(\"xgboost_with_resampling\")\n",
    "xgboose_without_resampling = get_xgboost_estimator(\"xgboost_without_resampling\")"
   ],
   "metadata": {
    "collapsed": false,
    "ExecuteTime": {
     "end_time": "2023-08-07T15:47:01.910112Z",
     "start_time": "2023-08-07T15:46:46.294864Z"
    }
   },
   "id": "7c4f8fcb9a435e64"
  },
  {
   "cell_type": "code",
   "execution_count": 39,
   "outputs": [],
   "source": [
    "from lightgbm import LGBMClassifier\n",
    "\n",
    "\n",
    "def get_lightgbm_estimator(name: str):\n",
    "    should_resample = name.endswith(\"with_resampling\")\n",
    "\n",
    "    optuna_params = estimator_params[name]\n",
    "    X, y, X_test, y_test, scale_pos_weight = get_tree_preprocessed_data(train_df, test_df, dep_vars)\n",
    "\n",
    "    params = (\n",
    "            dict(\n",
    "                boosting_type=\"gbdt\",\n",
    "                device=\"gpu\",\n",
    "                scale_pos_weight=scale_pos_weight,\n",
    "                data_sample_strategy=\"bagging\",\n",
    "                n_jobs=-1,\n",
    "            )\n",
    "            | optuna_params\n",
    "    )\n",
    "\n",
    "    model = LGBMClassifier(**params, objective=\"binary\", verbosity=-1)\n",
    "\n",
    "    skf = model_selection.RepeatedStratifiedKFold(n_splits=7, n_repeats=3)\n",
    "\n",
    "    val_loss_list = []\n",
    "\n",
    "    for i, (train_idx, val_idx) in enumerate(skf.split(X, y)):\n",
    "        X_train = X.iloc[train_idx]\n",
    "        y_train = y.iloc[train_idx].values.ravel()\n",
    "\n",
    "        X_val = X.iloc[val_idx]\n",
    "        y_val = y.iloc[val_idx].values.ravel()\n",
    "\n",
    "        X_fit, y_fit = X_train, y_train\n",
    "        if should_resample:\n",
    "            X_fit, y_fit = resample(X_train, y_train)\n",
    "\n",
    "        model.fit(X_fit, y_fit, eval_metric=balanced_log_loss)\n",
    "\n",
    "        val_preds = model.predict_proba(X_val)\n",
    "        val_loss = balanced_log_loss(y_val, val_preds)\n",
    "\n",
    "        val_loss_list.append(val_loss)\n",
    "\n",
    "    targs = y_test.values.ravel()\n",
    "    ypreds = model.predict_proba(X_test)\n",
    "    test_loss = balanced_log_loss(targs, ypreds)\n",
    "    print(f\"Validation loss: {np.mean(val_loss_list)}\")\n",
    "    print(f\"Test loss: {test_loss}\")\n",
    "\n",
    "    return ypreds, targs, model"
   ],
   "metadata": {
    "collapsed": false,
    "ExecuteTime": {
     "end_time": "2023-08-07T15:47:01.911381Z",
     "start_time": "2023-08-07T15:47:01.910283Z"
    }
   },
   "id": "abb393dd37adc5f"
  },
  {
   "cell_type": "code",
   "execution_count": 40,
   "outputs": [
    {
     "name": "stderr",
     "output_type": "stream",
     "text": [
      "/home/vinoth/.pyenv/versions/3.11.2/envs/kaggle/lib/python3.11/site-packages/lightgbm/basic.py:701: DeprecationWarning: np.find_common_type is deprecated.  Please use `np.result_type` or `np.promote_types`.\n",
      "See https://numpy.org/devdocs/release/1.25.0-notes.html and the docs for more information.  (Deprecated NumPy 1.25)\n",
      "  target_dtype = np.find_common_type(df_dtypes, [])\n",
      "/home/vinoth/.pyenv/versions/3.11.2/envs/kaggle/lib/python3.11/site-packages/lightgbm/basic.py:701: DeprecationWarning: np.find_common_type is deprecated.  Please use `np.result_type` or `np.promote_types`.\n",
      "See https://numpy.org/devdocs/release/1.25.0-notes.html and the docs for more information.  (Deprecated NumPy 1.25)\n",
      "  target_dtype = np.find_common_type(df_dtypes, [])\n",
      "/home/vinoth/.pyenv/versions/3.11.2/envs/kaggle/lib/python3.11/site-packages/lightgbm/basic.py:701: DeprecationWarning: np.find_common_type is deprecated.  Please use `np.result_type` or `np.promote_types`.\n",
      "See https://numpy.org/devdocs/release/1.25.0-notes.html and the docs for more information.  (Deprecated NumPy 1.25)\n",
      "  target_dtype = np.find_common_type(df_dtypes, [])\n",
      "/home/vinoth/.pyenv/versions/3.11.2/envs/kaggle/lib/python3.11/site-packages/lightgbm/basic.py:701: DeprecationWarning: np.find_common_type is deprecated.  Please use `np.result_type` or `np.promote_types`.\n",
      "See https://numpy.org/devdocs/release/1.25.0-notes.html and the docs for more information.  (Deprecated NumPy 1.25)\n",
      "  target_dtype = np.find_common_type(df_dtypes, [])\n",
      "/home/vinoth/.pyenv/versions/3.11.2/envs/kaggle/lib/python3.11/site-packages/lightgbm/basic.py:701: DeprecationWarning: np.find_common_type is deprecated.  Please use `np.result_type` or `np.promote_types`.\n",
      "See https://numpy.org/devdocs/release/1.25.0-notes.html and the docs for more information.  (Deprecated NumPy 1.25)\n",
      "  target_dtype = np.find_common_type(df_dtypes, [])\n",
      "/home/vinoth/.pyenv/versions/3.11.2/envs/kaggle/lib/python3.11/site-packages/lightgbm/basic.py:701: DeprecationWarning: np.find_common_type is deprecated.  Please use `np.result_type` or `np.promote_types`.\n",
      "See https://numpy.org/devdocs/release/1.25.0-notes.html and the docs for more information.  (Deprecated NumPy 1.25)\n",
      "  target_dtype = np.find_common_type(df_dtypes, [])\n",
      "/home/vinoth/.pyenv/versions/3.11.2/envs/kaggle/lib/python3.11/site-packages/lightgbm/basic.py:701: DeprecationWarning: np.find_common_type is deprecated.  Please use `np.result_type` or `np.promote_types`.\n",
      "See https://numpy.org/devdocs/release/1.25.0-notes.html and the docs for more information.  (Deprecated NumPy 1.25)\n",
      "  target_dtype = np.find_common_type(df_dtypes, [])\n",
      "/home/vinoth/.pyenv/versions/3.11.2/envs/kaggle/lib/python3.11/site-packages/lightgbm/basic.py:701: DeprecationWarning: np.find_common_type is deprecated.  Please use `np.result_type` or `np.promote_types`.\n",
      "See https://numpy.org/devdocs/release/1.25.0-notes.html and the docs for more information.  (Deprecated NumPy 1.25)\n",
      "  target_dtype = np.find_common_type(df_dtypes, [])\n",
      "/home/vinoth/.pyenv/versions/3.11.2/envs/kaggle/lib/python3.11/site-packages/lightgbm/basic.py:701: DeprecationWarning: np.find_common_type is deprecated.  Please use `np.result_type` or `np.promote_types`.\n",
      "See https://numpy.org/devdocs/release/1.25.0-notes.html and the docs for more information.  (Deprecated NumPy 1.25)\n",
      "  target_dtype = np.find_common_type(df_dtypes, [])\n",
      "/home/vinoth/.pyenv/versions/3.11.2/envs/kaggle/lib/python3.11/site-packages/lightgbm/basic.py:701: DeprecationWarning: np.find_common_type is deprecated.  Please use `np.result_type` or `np.promote_types`.\n",
      "See https://numpy.org/devdocs/release/1.25.0-notes.html and the docs for more information.  (Deprecated NumPy 1.25)\n",
      "  target_dtype = np.find_common_type(df_dtypes, [])\n",
      "/home/vinoth/.pyenv/versions/3.11.2/envs/kaggle/lib/python3.11/site-packages/lightgbm/basic.py:701: DeprecationWarning: np.find_common_type is deprecated.  Please use `np.result_type` or `np.promote_types`.\n",
      "See https://numpy.org/devdocs/release/1.25.0-notes.html and the docs for more information.  (Deprecated NumPy 1.25)\n",
      "  target_dtype = np.find_common_type(df_dtypes, [])\n",
      "/home/vinoth/.pyenv/versions/3.11.2/envs/kaggle/lib/python3.11/site-packages/lightgbm/basic.py:701: DeprecationWarning: np.find_common_type is deprecated.  Please use `np.result_type` or `np.promote_types`.\n",
      "See https://numpy.org/devdocs/release/1.25.0-notes.html and the docs for more information.  (Deprecated NumPy 1.25)\n",
      "  target_dtype = np.find_common_type(df_dtypes, [])\n",
      "/home/vinoth/.pyenv/versions/3.11.2/envs/kaggle/lib/python3.11/site-packages/lightgbm/basic.py:701: DeprecationWarning: np.find_common_type is deprecated.  Please use `np.result_type` or `np.promote_types`.\n",
      "See https://numpy.org/devdocs/release/1.25.0-notes.html and the docs for more information.  (Deprecated NumPy 1.25)\n",
      "  target_dtype = np.find_common_type(df_dtypes, [])\n",
      "/home/vinoth/.pyenv/versions/3.11.2/envs/kaggle/lib/python3.11/site-packages/lightgbm/basic.py:701: DeprecationWarning: np.find_common_type is deprecated.  Please use `np.result_type` or `np.promote_types`.\n",
      "See https://numpy.org/devdocs/release/1.25.0-notes.html and the docs for more information.  (Deprecated NumPy 1.25)\n",
      "  target_dtype = np.find_common_type(df_dtypes, [])\n",
      "/home/vinoth/.pyenv/versions/3.11.2/envs/kaggle/lib/python3.11/site-packages/lightgbm/basic.py:701: DeprecationWarning: np.find_common_type is deprecated.  Please use `np.result_type` or `np.promote_types`.\n",
      "See https://numpy.org/devdocs/release/1.25.0-notes.html and the docs for more information.  (Deprecated NumPy 1.25)\n",
      "  target_dtype = np.find_common_type(df_dtypes, [])\n",
      "/home/vinoth/.pyenv/versions/3.11.2/envs/kaggle/lib/python3.11/site-packages/lightgbm/basic.py:701: DeprecationWarning: np.find_common_type is deprecated.  Please use `np.result_type` or `np.promote_types`.\n",
      "See https://numpy.org/devdocs/release/1.25.0-notes.html and the docs for more information.  (Deprecated NumPy 1.25)\n",
      "  target_dtype = np.find_common_type(df_dtypes, [])\n",
      "/home/vinoth/.pyenv/versions/3.11.2/envs/kaggle/lib/python3.11/site-packages/lightgbm/basic.py:701: DeprecationWarning: np.find_common_type is deprecated.  Please use `np.result_type` or `np.promote_types`.\n",
      "See https://numpy.org/devdocs/release/1.25.0-notes.html and the docs for more information.  (Deprecated NumPy 1.25)\n",
      "  target_dtype = np.find_common_type(df_dtypes, [])\n",
      "/home/vinoth/.pyenv/versions/3.11.2/envs/kaggle/lib/python3.11/site-packages/lightgbm/basic.py:701: DeprecationWarning: np.find_common_type is deprecated.  Please use `np.result_type` or `np.promote_types`.\n",
      "See https://numpy.org/devdocs/release/1.25.0-notes.html and the docs for more information.  (Deprecated NumPy 1.25)\n",
      "  target_dtype = np.find_common_type(df_dtypes, [])\n",
      "/home/vinoth/.pyenv/versions/3.11.2/envs/kaggle/lib/python3.11/site-packages/lightgbm/basic.py:701: DeprecationWarning: np.find_common_type is deprecated.  Please use `np.result_type` or `np.promote_types`.\n",
      "See https://numpy.org/devdocs/release/1.25.0-notes.html and the docs for more information.  (Deprecated NumPy 1.25)\n",
      "  target_dtype = np.find_common_type(df_dtypes, [])\n",
      "/home/vinoth/.pyenv/versions/3.11.2/envs/kaggle/lib/python3.11/site-packages/lightgbm/basic.py:701: DeprecationWarning: np.find_common_type is deprecated.  Please use `np.result_type` or `np.promote_types`.\n",
      "See https://numpy.org/devdocs/release/1.25.0-notes.html and the docs for more information.  (Deprecated NumPy 1.25)\n",
      "  target_dtype = np.find_common_type(df_dtypes, [])\n",
      "/home/vinoth/.pyenv/versions/3.11.2/envs/kaggle/lib/python3.11/site-packages/lightgbm/basic.py:701: DeprecationWarning: np.find_common_type is deprecated.  Please use `np.result_type` or `np.promote_types`.\n",
      "See https://numpy.org/devdocs/release/1.25.0-notes.html and the docs for more information.  (Deprecated NumPy 1.25)\n",
      "  target_dtype = np.find_common_type(df_dtypes, [])\n",
      "/home/vinoth/.pyenv/versions/3.11.2/envs/kaggle/lib/python3.11/site-packages/lightgbm/basic.py:701: DeprecationWarning: np.find_common_type is deprecated.  Please use `np.result_type` or `np.promote_types`.\n",
      "See https://numpy.org/devdocs/release/1.25.0-notes.html and the docs for more information.  (Deprecated NumPy 1.25)\n",
      "  target_dtype = np.find_common_type(df_dtypes, [])\n",
      "/home/vinoth/.pyenv/versions/3.11.2/envs/kaggle/lib/python3.11/site-packages/lightgbm/basic.py:701: DeprecationWarning: np.find_common_type is deprecated.  Please use `np.result_type` or `np.promote_types`.\n",
      "See https://numpy.org/devdocs/release/1.25.0-notes.html and the docs for more information.  (Deprecated NumPy 1.25)\n",
      "  target_dtype = np.find_common_type(df_dtypes, [])\n",
      "/home/vinoth/.pyenv/versions/3.11.2/envs/kaggle/lib/python3.11/site-packages/lightgbm/basic.py:701: DeprecationWarning: np.find_common_type is deprecated.  Please use `np.result_type` or `np.promote_types`.\n",
      "See https://numpy.org/devdocs/release/1.25.0-notes.html and the docs for more information.  (Deprecated NumPy 1.25)\n",
      "  target_dtype = np.find_common_type(df_dtypes, [])\n",
      "/home/vinoth/.pyenv/versions/3.11.2/envs/kaggle/lib/python3.11/site-packages/lightgbm/basic.py:701: DeprecationWarning: np.find_common_type is deprecated.  Please use `np.result_type` or `np.promote_types`.\n",
      "See https://numpy.org/devdocs/release/1.25.0-notes.html and the docs for more information.  (Deprecated NumPy 1.25)\n",
      "  target_dtype = np.find_common_type(df_dtypes, [])\n",
      "/home/vinoth/.pyenv/versions/3.11.2/envs/kaggle/lib/python3.11/site-packages/lightgbm/basic.py:701: DeprecationWarning: np.find_common_type is deprecated.  Please use `np.result_type` or `np.promote_types`.\n",
      "See https://numpy.org/devdocs/release/1.25.0-notes.html and the docs for more information.  (Deprecated NumPy 1.25)\n",
      "  target_dtype = np.find_common_type(df_dtypes, [])\n",
      "/home/vinoth/.pyenv/versions/3.11.2/envs/kaggle/lib/python3.11/site-packages/lightgbm/basic.py:701: DeprecationWarning: np.find_common_type is deprecated.  Please use `np.result_type` or `np.promote_types`.\n",
      "See https://numpy.org/devdocs/release/1.25.0-notes.html and the docs for more information.  (Deprecated NumPy 1.25)\n",
      "  target_dtype = np.find_common_type(df_dtypes, [])\n",
      "/home/vinoth/.pyenv/versions/3.11.2/envs/kaggle/lib/python3.11/site-packages/lightgbm/basic.py:701: DeprecationWarning: np.find_common_type is deprecated.  Please use `np.result_type` or `np.promote_types`.\n",
      "See https://numpy.org/devdocs/release/1.25.0-notes.html and the docs for more information.  (Deprecated NumPy 1.25)\n",
      "  target_dtype = np.find_common_type(df_dtypes, [])\n",
      "/home/vinoth/.pyenv/versions/3.11.2/envs/kaggle/lib/python3.11/site-packages/lightgbm/basic.py:701: DeprecationWarning: np.find_common_type is deprecated.  Please use `np.result_type` or `np.promote_types`.\n",
      "See https://numpy.org/devdocs/release/1.25.0-notes.html and the docs for more information.  (Deprecated NumPy 1.25)\n",
      "  target_dtype = np.find_common_type(df_dtypes, [])\n",
      "/home/vinoth/.pyenv/versions/3.11.2/envs/kaggle/lib/python3.11/site-packages/lightgbm/basic.py:701: DeprecationWarning: np.find_common_type is deprecated.  Please use `np.result_type` or `np.promote_types`.\n",
      "See https://numpy.org/devdocs/release/1.25.0-notes.html and the docs for more information.  (Deprecated NumPy 1.25)\n",
      "  target_dtype = np.find_common_type(df_dtypes, [])\n",
      "/home/vinoth/.pyenv/versions/3.11.2/envs/kaggle/lib/python3.11/site-packages/lightgbm/basic.py:701: DeprecationWarning: np.find_common_type is deprecated.  Please use `np.result_type` or `np.promote_types`.\n",
      "See https://numpy.org/devdocs/release/1.25.0-notes.html and the docs for more information.  (Deprecated NumPy 1.25)\n",
      "  target_dtype = np.find_common_type(df_dtypes, [])\n",
      "/home/vinoth/.pyenv/versions/3.11.2/envs/kaggle/lib/python3.11/site-packages/lightgbm/basic.py:701: DeprecationWarning: np.find_common_type is deprecated.  Please use `np.result_type` or `np.promote_types`.\n",
      "See https://numpy.org/devdocs/release/1.25.0-notes.html and the docs for more information.  (Deprecated NumPy 1.25)\n",
      "  target_dtype = np.find_common_type(df_dtypes, [])\n",
      "/home/vinoth/.pyenv/versions/3.11.2/envs/kaggle/lib/python3.11/site-packages/lightgbm/basic.py:701: DeprecationWarning: np.find_common_type is deprecated.  Please use `np.result_type` or `np.promote_types`.\n",
      "See https://numpy.org/devdocs/release/1.25.0-notes.html and the docs for more information.  (Deprecated NumPy 1.25)\n",
      "  target_dtype = np.find_common_type(df_dtypes, [])\n",
      "/home/vinoth/.pyenv/versions/3.11.2/envs/kaggle/lib/python3.11/site-packages/lightgbm/basic.py:701: DeprecationWarning: np.find_common_type is deprecated.  Please use `np.result_type` or `np.promote_types`.\n",
      "See https://numpy.org/devdocs/release/1.25.0-notes.html and the docs for more information.  (Deprecated NumPy 1.25)\n",
      "  target_dtype = np.find_common_type(df_dtypes, [])\n",
      "/home/vinoth/.pyenv/versions/3.11.2/envs/kaggle/lib/python3.11/site-packages/lightgbm/basic.py:701: DeprecationWarning: np.find_common_type is deprecated.  Please use `np.result_type` or `np.promote_types`.\n",
      "See https://numpy.org/devdocs/release/1.25.0-notes.html and the docs for more information.  (Deprecated NumPy 1.25)\n",
      "  target_dtype = np.find_common_type(df_dtypes, [])\n",
      "/home/vinoth/.pyenv/versions/3.11.2/envs/kaggle/lib/python3.11/site-packages/lightgbm/basic.py:701: DeprecationWarning: np.find_common_type is deprecated.  Please use `np.result_type` or `np.promote_types`.\n",
      "See https://numpy.org/devdocs/release/1.25.0-notes.html and the docs for more information.  (Deprecated NumPy 1.25)\n",
      "  target_dtype = np.find_common_type(df_dtypes, [])\n",
      "/home/vinoth/.pyenv/versions/3.11.2/envs/kaggle/lib/python3.11/site-packages/lightgbm/basic.py:701: DeprecationWarning: np.find_common_type is deprecated.  Please use `np.result_type` or `np.promote_types`.\n",
      "See https://numpy.org/devdocs/release/1.25.0-notes.html and the docs for more information.  (Deprecated NumPy 1.25)\n",
      "  target_dtype = np.find_common_type(df_dtypes, [])\n",
      "/home/vinoth/.pyenv/versions/3.11.2/envs/kaggle/lib/python3.11/site-packages/lightgbm/basic.py:701: DeprecationWarning: np.find_common_type is deprecated.  Please use `np.result_type` or `np.promote_types`.\n",
      "See https://numpy.org/devdocs/release/1.25.0-notes.html and the docs for more information.  (Deprecated NumPy 1.25)\n",
      "  target_dtype = np.find_common_type(df_dtypes, [])\n",
      "/home/vinoth/.pyenv/versions/3.11.2/envs/kaggle/lib/python3.11/site-packages/lightgbm/basic.py:701: DeprecationWarning: np.find_common_type is deprecated.  Please use `np.result_type` or `np.promote_types`.\n",
      "See https://numpy.org/devdocs/release/1.25.0-notes.html and the docs for more information.  (Deprecated NumPy 1.25)\n",
      "  target_dtype = np.find_common_type(df_dtypes, [])\n",
      "/home/vinoth/.pyenv/versions/3.11.2/envs/kaggle/lib/python3.11/site-packages/lightgbm/basic.py:701: DeprecationWarning: np.find_common_type is deprecated.  Please use `np.result_type` or `np.promote_types`.\n",
      "See https://numpy.org/devdocs/release/1.25.0-notes.html and the docs for more information.  (Deprecated NumPy 1.25)\n",
      "  target_dtype = np.find_common_type(df_dtypes, [])\n",
      "/home/vinoth/.pyenv/versions/3.11.2/envs/kaggle/lib/python3.11/site-packages/lightgbm/basic.py:701: DeprecationWarning: np.find_common_type is deprecated.  Please use `np.result_type` or `np.promote_types`.\n",
      "See https://numpy.org/devdocs/release/1.25.0-notes.html and the docs for more information.  (Deprecated NumPy 1.25)\n",
      "  target_dtype = np.find_common_type(df_dtypes, [])\n",
      "/home/vinoth/.pyenv/versions/3.11.2/envs/kaggle/lib/python3.11/site-packages/lightgbm/basic.py:701: DeprecationWarning: np.find_common_type is deprecated.  Please use `np.result_type` or `np.promote_types`.\n",
      "See https://numpy.org/devdocs/release/1.25.0-notes.html and the docs for more information.  (Deprecated NumPy 1.25)\n",
      "  target_dtype = np.find_common_type(df_dtypes, [])\n",
      "/home/vinoth/.pyenv/versions/3.11.2/envs/kaggle/lib/python3.11/site-packages/lightgbm/basic.py:701: DeprecationWarning: np.find_common_type is deprecated.  Please use `np.result_type` or `np.promote_types`.\n",
      "See https://numpy.org/devdocs/release/1.25.0-notes.html and the docs for more information.  (Deprecated NumPy 1.25)\n",
      "  target_dtype = np.find_common_type(df_dtypes, [])\n",
      "/home/vinoth/.pyenv/versions/3.11.2/envs/kaggle/lib/python3.11/site-packages/lightgbm/basic.py:701: DeprecationWarning: np.find_common_type is deprecated.  Please use `np.result_type` or `np.promote_types`.\n",
      "See https://numpy.org/devdocs/release/1.25.0-notes.html and the docs for more information.  (Deprecated NumPy 1.25)\n",
      "  target_dtype = np.find_common_type(df_dtypes, [])\n"
     ]
    },
    {
     "name": "stdout",
     "output_type": "stream",
     "text": [
      "Validation loss: 0.25527170120571846\n",
      "Test loss: 0.31979205993610177\n"
     ]
    },
    {
     "name": "stderr",
     "output_type": "stream",
     "text": [
      "/home/vinoth/.pyenv/versions/3.11.2/envs/kaggle/lib/python3.11/site-packages/lightgbm/basic.py:701: DeprecationWarning: np.find_common_type is deprecated.  Please use `np.result_type` or `np.promote_types`.\n",
      "See https://numpy.org/devdocs/release/1.25.0-notes.html and the docs for more information.  (Deprecated NumPy 1.25)\n",
      "  target_dtype = np.find_common_type(df_dtypes, [])\n",
      "/home/vinoth/.pyenv/versions/3.11.2/envs/kaggle/lib/python3.11/site-packages/lightgbm/basic.py:701: DeprecationWarning: np.find_common_type is deprecated.  Please use `np.result_type` or `np.promote_types`.\n",
      "See https://numpy.org/devdocs/release/1.25.0-notes.html and the docs for more information.  (Deprecated NumPy 1.25)\n",
      "  target_dtype = np.find_common_type(df_dtypes, [])\n",
      "/home/vinoth/.pyenv/versions/3.11.2/envs/kaggle/lib/python3.11/site-packages/lightgbm/basic.py:701: DeprecationWarning: np.find_common_type is deprecated.  Please use `np.result_type` or `np.promote_types`.\n",
      "See https://numpy.org/devdocs/release/1.25.0-notes.html and the docs for more information.  (Deprecated NumPy 1.25)\n",
      "  target_dtype = np.find_common_type(df_dtypes, [])\n",
      "/home/vinoth/.pyenv/versions/3.11.2/envs/kaggle/lib/python3.11/site-packages/lightgbm/basic.py:701: DeprecationWarning: np.find_common_type is deprecated.  Please use `np.result_type` or `np.promote_types`.\n",
      "See https://numpy.org/devdocs/release/1.25.0-notes.html and the docs for more information.  (Deprecated NumPy 1.25)\n",
      "  target_dtype = np.find_common_type(df_dtypes, [])\n",
      "/home/vinoth/.pyenv/versions/3.11.2/envs/kaggle/lib/python3.11/site-packages/lightgbm/basic.py:701: DeprecationWarning: np.find_common_type is deprecated.  Please use `np.result_type` or `np.promote_types`.\n",
      "See https://numpy.org/devdocs/release/1.25.0-notes.html and the docs for more information.  (Deprecated NumPy 1.25)\n",
      "  target_dtype = np.find_common_type(df_dtypes, [])\n",
      "/home/vinoth/.pyenv/versions/3.11.2/envs/kaggle/lib/python3.11/site-packages/lightgbm/basic.py:701: DeprecationWarning: np.find_common_type is deprecated.  Please use `np.result_type` or `np.promote_types`.\n",
      "See https://numpy.org/devdocs/release/1.25.0-notes.html and the docs for more information.  (Deprecated NumPy 1.25)\n",
      "  target_dtype = np.find_common_type(df_dtypes, [])\n",
      "/home/vinoth/.pyenv/versions/3.11.2/envs/kaggle/lib/python3.11/site-packages/lightgbm/basic.py:701: DeprecationWarning: np.find_common_type is deprecated.  Please use `np.result_type` or `np.promote_types`.\n",
      "See https://numpy.org/devdocs/release/1.25.0-notes.html and the docs for more information.  (Deprecated NumPy 1.25)\n",
      "  target_dtype = np.find_common_type(df_dtypes, [])\n",
      "/home/vinoth/.pyenv/versions/3.11.2/envs/kaggle/lib/python3.11/site-packages/lightgbm/basic.py:701: DeprecationWarning: np.find_common_type is deprecated.  Please use `np.result_type` or `np.promote_types`.\n",
      "See https://numpy.org/devdocs/release/1.25.0-notes.html and the docs for more information.  (Deprecated NumPy 1.25)\n",
      "  target_dtype = np.find_common_type(df_dtypes, [])\n",
      "/home/vinoth/.pyenv/versions/3.11.2/envs/kaggle/lib/python3.11/site-packages/lightgbm/basic.py:701: DeprecationWarning: np.find_common_type is deprecated.  Please use `np.result_type` or `np.promote_types`.\n",
      "See https://numpy.org/devdocs/release/1.25.0-notes.html and the docs for more information.  (Deprecated NumPy 1.25)\n",
      "  target_dtype = np.find_common_type(df_dtypes, [])\n",
      "/home/vinoth/.pyenv/versions/3.11.2/envs/kaggle/lib/python3.11/site-packages/lightgbm/basic.py:701: DeprecationWarning: np.find_common_type is deprecated.  Please use `np.result_type` or `np.promote_types`.\n",
      "See https://numpy.org/devdocs/release/1.25.0-notes.html and the docs for more information.  (Deprecated NumPy 1.25)\n",
      "  target_dtype = np.find_common_type(df_dtypes, [])\n",
      "/home/vinoth/.pyenv/versions/3.11.2/envs/kaggle/lib/python3.11/site-packages/lightgbm/basic.py:701: DeprecationWarning: np.find_common_type is deprecated.  Please use `np.result_type` or `np.promote_types`.\n",
      "See https://numpy.org/devdocs/release/1.25.0-notes.html and the docs for more information.  (Deprecated NumPy 1.25)\n",
      "  target_dtype = np.find_common_type(df_dtypes, [])\n",
      "/home/vinoth/.pyenv/versions/3.11.2/envs/kaggle/lib/python3.11/site-packages/lightgbm/basic.py:701: DeprecationWarning: np.find_common_type is deprecated.  Please use `np.result_type` or `np.promote_types`.\n",
      "See https://numpy.org/devdocs/release/1.25.0-notes.html and the docs for more information.  (Deprecated NumPy 1.25)\n",
      "  target_dtype = np.find_common_type(df_dtypes, [])\n",
      "/home/vinoth/.pyenv/versions/3.11.2/envs/kaggle/lib/python3.11/site-packages/lightgbm/basic.py:701: DeprecationWarning: np.find_common_type is deprecated.  Please use `np.result_type` or `np.promote_types`.\n",
      "See https://numpy.org/devdocs/release/1.25.0-notes.html and the docs for more information.  (Deprecated NumPy 1.25)\n",
      "  target_dtype = np.find_common_type(df_dtypes, [])\n",
      "/home/vinoth/.pyenv/versions/3.11.2/envs/kaggle/lib/python3.11/site-packages/lightgbm/basic.py:701: DeprecationWarning: np.find_common_type is deprecated.  Please use `np.result_type` or `np.promote_types`.\n",
      "See https://numpy.org/devdocs/release/1.25.0-notes.html and the docs for more information.  (Deprecated NumPy 1.25)\n",
      "  target_dtype = np.find_common_type(df_dtypes, [])\n",
      "/home/vinoth/.pyenv/versions/3.11.2/envs/kaggle/lib/python3.11/site-packages/lightgbm/basic.py:701: DeprecationWarning: np.find_common_type is deprecated.  Please use `np.result_type` or `np.promote_types`.\n",
      "See https://numpy.org/devdocs/release/1.25.0-notes.html and the docs for more information.  (Deprecated NumPy 1.25)\n",
      "  target_dtype = np.find_common_type(df_dtypes, [])\n",
      "/home/vinoth/.pyenv/versions/3.11.2/envs/kaggle/lib/python3.11/site-packages/lightgbm/basic.py:701: DeprecationWarning: np.find_common_type is deprecated.  Please use `np.result_type` or `np.promote_types`.\n",
      "See https://numpy.org/devdocs/release/1.25.0-notes.html and the docs for more information.  (Deprecated NumPy 1.25)\n",
      "  target_dtype = np.find_common_type(df_dtypes, [])\n",
      "/home/vinoth/.pyenv/versions/3.11.2/envs/kaggle/lib/python3.11/site-packages/lightgbm/basic.py:701: DeprecationWarning: np.find_common_type is deprecated.  Please use `np.result_type` or `np.promote_types`.\n",
      "See https://numpy.org/devdocs/release/1.25.0-notes.html and the docs for more information.  (Deprecated NumPy 1.25)\n",
      "  target_dtype = np.find_common_type(df_dtypes, [])\n",
      "/home/vinoth/.pyenv/versions/3.11.2/envs/kaggle/lib/python3.11/site-packages/lightgbm/basic.py:701: DeprecationWarning: np.find_common_type is deprecated.  Please use `np.result_type` or `np.promote_types`.\n",
      "See https://numpy.org/devdocs/release/1.25.0-notes.html and the docs for more information.  (Deprecated NumPy 1.25)\n",
      "  target_dtype = np.find_common_type(df_dtypes, [])\n",
      "/home/vinoth/.pyenv/versions/3.11.2/envs/kaggle/lib/python3.11/site-packages/lightgbm/basic.py:701: DeprecationWarning: np.find_common_type is deprecated.  Please use `np.result_type` or `np.promote_types`.\n",
      "See https://numpy.org/devdocs/release/1.25.0-notes.html and the docs for more information.  (Deprecated NumPy 1.25)\n",
      "  target_dtype = np.find_common_type(df_dtypes, [])\n",
      "/home/vinoth/.pyenv/versions/3.11.2/envs/kaggle/lib/python3.11/site-packages/lightgbm/basic.py:701: DeprecationWarning: np.find_common_type is deprecated.  Please use `np.result_type` or `np.promote_types`.\n",
      "See https://numpy.org/devdocs/release/1.25.0-notes.html and the docs for more information.  (Deprecated NumPy 1.25)\n",
      "  target_dtype = np.find_common_type(df_dtypes, [])\n",
      "/home/vinoth/.pyenv/versions/3.11.2/envs/kaggle/lib/python3.11/site-packages/lightgbm/basic.py:701: DeprecationWarning: np.find_common_type is deprecated.  Please use `np.result_type` or `np.promote_types`.\n",
      "See https://numpy.org/devdocs/release/1.25.0-notes.html and the docs for more information.  (Deprecated NumPy 1.25)\n",
      "  target_dtype = np.find_common_type(df_dtypes, [])\n",
      "/home/vinoth/.pyenv/versions/3.11.2/envs/kaggle/lib/python3.11/site-packages/lightgbm/basic.py:701: DeprecationWarning: np.find_common_type is deprecated.  Please use `np.result_type` or `np.promote_types`.\n",
      "See https://numpy.org/devdocs/release/1.25.0-notes.html and the docs for more information.  (Deprecated NumPy 1.25)\n",
      "  target_dtype = np.find_common_type(df_dtypes, [])\n",
      "/home/vinoth/.pyenv/versions/3.11.2/envs/kaggle/lib/python3.11/site-packages/lightgbm/basic.py:701: DeprecationWarning: np.find_common_type is deprecated.  Please use `np.result_type` or `np.promote_types`.\n",
      "See https://numpy.org/devdocs/release/1.25.0-notes.html and the docs for more information.  (Deprecated NumPy 1.25)\n",
      "  target_dtype = np.find_common_type(df_dtypes, [])\n",
      "/home/vinoth/.pyenv/versions/3.11.2/envs/kaggle/lib/python3.11/site-packages/lightgbm/basic.py:701: DeprecationWarning: np.find_common_type is deprecated.  Please use `np.result_type` or `np.promote_types`.\n",
      "See https://numpy.org/devdocs/release/1.25.0-notes.html and the docs for more information.  (Deprecated NumPy 1.25)\n",
      "  target_dtype = np.find_common_type(df_dtypes, [])\n",
      "/home/vinoth/.pyenv/versions/3.11.2/envs/kaggle/lib/python3.11/site-packages/lightgbm/basic.py:701: DeprecationWarning: np.find_common_type is deprecated.  Please use `np.result_type` or `np.promote_types`.\n",
      "See https://numpy.org/devdocs/release/1.25.0-notes.html and the docs for more information.  (Deprecated NumPy 1.25)\n",
      "  target_dtype = np.find_common_type(df_dtypes, [])\n",
      "/home/vinoth/.pyenv/versions/3.11.2/envs/kaggle/lib/python3.11/site-packages/lightgbm/basic.py:701: DeprecationWarning: np.find_common_type is deprecated.  Please use `np.result_type` or `np.promote_types`.\n",
      "See https://numpy.org/devdocs/release/1.25.0-notes.html and the docs for more information.  (Deprecated NumPy 1.25)\n",
      "  target_dtype = np.find_common_type(df_dtypes, [])\n",
      "/home/vinoth/.pyenv/versions/3.11.2/envs/kaggle/lib/python3.11/site-packages/lightgbm/basic.py:701: DeprecationWarning: np.find_common_type is deprecated.  Please use `np.result_type` or `np.promote_types`.\n",
      "See https://numpy.org/devdocs/release/1.25.0-notes.html and the docs for more information.  (Deprecated NumPy 1.25)\n",
      "  target_dtype = np.find_common_type(df_dtypes, [])\n",
      "/home/vinoth/.pyenv/versions/3.11.2/envs/kaggle/lib/python3.11/site-packages/lightgbm/basic.py:701: DeprecationWarning: np.find_common_type is deprecated.  Please use `np.result_type` or `np.promote_types`.\n",
      "See https://numpy.org/devdocs/release/1.25.0-notes.html and the docs for more information.  (Deprecated NumPy 1.25)\n",
      "  target_dtype = np.find_common_type(df_dtypes, [])\n",
      "/home/vinoth/.pyenv/versions/3.11.2/envs/kaggle/lib/python3.11/site-packages/lightgbm/basic.py:701: DeprecationWarning: np.find_common_type is deprecated.  Please use `np.result_type` or `np.promote_types`.\n",
      "See https://numpy.org/devdocs/release/1.25.0-notes.html and the docs for more information.  (Deprecated NumPy 1.25)\n",
      "  target_dtype = np.find_common_type(df_dtypes, [])\n",
      "/home/vinoth/.pyenv/versions/3.11.2/envs/kaggle/lib/python3.11/site-packages/lightgbm/basic.py:701: DeprecationWarning: np.find_common_type is deprecated.  Please use `np.result_type` or `np.promote_types`.\n",
      "See https://numpy.org/devdocs/release/1.25.0-notes.html and the docs for more information.  (Deprecated NumPy 1.25)\n",
      "  target_dtype = np.find_common_type(df_dtypes, [])\n",
      "/home/vinoth/.pyenv/versions/3.11.2/envs/kaggle/lib/python3.11/site-packages/lightgbm/basic.py:701: DeprecationWarning: np.find_common_type is deprecated.  Please use `np.result_type` or `np.promote_types`.\n",
      "See https://numpy.org/devdocs/release/1.25.0-notes.html and the docs for more information.  (Deprecated NumPy 1.25)\n",
      "  target_dtype = np.find_common_type(df_dtypes, [])\n",
      "/home/vinoth/.pyenv/versions/3.11.2/envs/kaggle/lib/python3.11/site-packages/lightgbm/basic.py:701: DeprecationWarning: np.find_common_type is deprecated.  Please use `np.result_type` or `np.promote_types`.\n",
      "See https://numpy.org/devdocs/release/1.25.0-notes.html and the docs for more information.  (Deprecated NumPy 1.25)\n",
      "  target_dtype = np.find_common_type(df_dtypes, [])\n",
      "/home/vinoth/.pyenv/versions/3.11.2/envs/kaggle/lib/python3.11/site-packages/lightgbm/basic.py:701: DeprecationWarning: np.find_common_type is deprecated.  Please use `np.result_type` or `np.promote_types`.\n",
      "See https://numpy.org/devdocs/release/1.25.0-notes.html and the docs for more information.  (Deprecated NumPy 1.25)\n",
      "  target_dtype = np.find_common_type(df_dtypes, [])\n",
      "/home/vinoth/.pyenv/versions/3.11.2/envs/kaggle/lib/python3.11/site-packages/lightgbm/basic.py:701: DeprecationWarning: np.find_common_type is deprecated.  Please use `np.result_type` or `np.promote_types`.\n",
      "See https://numpy.org/devdocs/release/1.25.0-notes.html and the docs for more information.  (Deprecated NumPy 1.25)\n",
      "  target_dtype = np.find_common_type(df_dtypes, [])\n",
      "/home/vinoth/.pyenv/versions/3.11.2/envs/kaggle/lib/python3.11/site-packages/lightgbm/basic.py:701: DeprecationWarning: np.find_common_type is deprecated.  Please use `np.result_type` or `np.promote_types`.\n",
      "See https://numpy.org/devdocs/release/1.25.0-notes.html and the docs for more information.  (Deprecated NumPy 1.25)\n",
      "  target_dtype = np.find_common_type(df_dtypes, [])\n",
      "/home/vinoth/.pyenv/versions/3.11.2/envs/kaggle/lib/python3.11/site-packages/lightgbm/basic.py:701: DeprecationWarning: np.find_common_type is deprecated.  Please use `np.result_type` or `np.promote_types`.\n",
      "See https://numpy.org/devdocs/release/1.25.0-notes.html and the docs for more information.  (Deprecated NumPy 1.25)\n",
      "  target_dtype = np.find_common_type(df_dtypes, [])\n",
      "/home/vinoth/.pyenv/versions/3.11.2/envs/kaggle/lib/python3.11/site-packages/lightgbm/basic.py:701: DeprecationWarning: np.find_common_type is deprecated.  Please use `np.result_type` or `np.promote_types`.\n",
      "See https://numpy.org/devdocs/release/1.25.0-notes.html and the docs for more information.  (Deprecated NumPy 1.25)\n",
      "  target_dtype = np.find_common_type(df_dtypes, [])\n",
      "/home/vinoth/.pyenv/versions/3.11.2/envs/kaggle/lib/python3.11/site-packages/lightgbm/basic.py:701: DeprecationWarning: np.find_common_type is deprecated.  Please use `np.result_type` or `np.promote_types`.\n",
      "See https://numpy.org/devdocs/release/1.25.0-notes.html and the docs for more information.  (Deprecated NumPy 1.25)\n",
      "  target_dtype = np.find_common_type(df_dtypes, [])\n",
      "/home/vinoth/.pyenv/versions/3.11.2/envs/kaggle/lib/python3.11/site-packages/lightgbm/basic.py:701: DeprecationWarning: np.find_common_type is deprecated.  Please use `np.result_type` or `np.promote_types`.\n",
      "See https://numpy.org/devdocs/release/1.25.0-notes.html and the docs for more information.  (Deprecated NumPy 1.25)\n",
      "  target_dtype = np.find_common_type(df_dtypes, [])\n",
      "/home/vinoth/.pyenv/versions/3.11.2/envs/kaggle/lib/python3.11/site-packages/lightgbm/basic.py:701: DeprecationWarning: np.find_common_type is deprecated.  Please use `np.result_type` or `np.promote_types`.\n",
      "See https://numpy.org/devdocs/release/1.25.0-notes.html and the docs for more information.  (Deprecated NumPy 1.25)\n",
      "  target_dtype = np.find_common_type(df_dtypes, [])\n"
     ]
    },
    {
     "name": "stdout",
     "output_type": "stream",
     "text": [
      "Validation loss: 0.35623672866926354\n",
      "Test loss: 0.2947965841951847\n"
     ]
    },
    {
     "name": "stderr",
     "output_type": "stream",
     "text": [
      "/home/vinoth/.pyenv/versions/3.11.2/envs/kaggle/lib/python3.11/site-packages/lightgbm/basic.py:701: DeprecationWarning: np.find_common_type is deprecated.  Please use `np.result_type` or `np.promote_types`.\n",
      "See https://numpy.org/devdocs/release/1.25.0-notes.html and the docs for more information.  (Deprecated NumPy 1.25)\n",
      "  target_dtype = np.find_common_type(df_dtypes, [])\n",
      "/home/vinoth/.pyenv/versions/3.11.2/envs/kaggle/lib/python3.11/site-packages/lightgbm/basic.py:701: DeprecationWarning: np.find_common_type is deprecated.  Please use `np.result_type` or `np.promote_types`.\n",
      "See https://numpy.org/devdocs/release/1.25.0-notes.html and the docs for more information.  (Deprecated NumPy 1.25)\n",
      "  target_dtype = np.find_common_type(df_dtypes, [])\n"
     ]
    }
   ],
   "source": [
    "lightgbm_with_resampling = get_lightgbm_estimator(\"lightgbm_with_resampling\")\n",
    "lightgbm_without_resampling = get_lightgbm_estimator(\"lightgbm_without_resampling\")"
   ],
   "metadata": {
    "collapsed": false,
    "ExecuteTime": {
     "end_time": "2023-08-07T15:47:14.483936Z",
     "start_time": "2023-08-07T15:47:01.910404Z"
    }
   },
   "id": "dbe6618be76154f9"
  },
  {
   "cell_type": "code",
   "execution_count": 41,
   "outputs": [],
   "source": [
    "from sklearn import svm\n",
    "\n",
    "\n",
    "def get_svc_estimator(name: str):\n",
    "    should_resample = name.endswith(\"with_resampling\")\n",
    "\n",
    "    optuna_params = estimator_params[name]\n",
    "    X, y, X_test, y_test = get_preprocessed_data(train_df, test_df, dep_vars)\n",
    "\n",
    "    params = (\n",
    "            dict(\n",
    "                probability=True,\n",
    "            )\n",
    "            | optuna_params\n",
    "    )\n",
    "\n",
    "    model = svm.SVC(**params)\n",
    "\n",
    "    skf = model_selection.RepeatedStratifiedKFold(n_splits=7, n_repeats=3)\n",
    "\n",
    "    val_loss_list = []\n",
    "\n",
    "    for i, (train_idx, val_idx) in enumerate(skf.split(X, y)):\n",
    "        X_train = X.iloc[train_idx]\n",
    "        y_train = y.iloc[train_idx].values.ravel()\n",
    "\n",
    "        X_val = X.iloc[val_idx]\n",
    "        y_val = y.iloc[val_idx].values.ravel()\n",
    "\n",
    "        X_fit, y_fit = X_train, y_train\n",
    "        if should_resample:\n",
    "            X_fit, y_fit = resample(X_train, y_train)\n",
    "\n",
    "        model.fit(X_fit, y_fit)\n",
    "\n",
    "        val_preds = model.predict_proba(X_val)\n",
    "        val_loss = balanced_log_loss(y_val, val_preds)\n",
    "\n",
    "        val_loss_list.append(val_loss)\n",
    "\n",
    "    targs = y_test.values.ravel()\n",
    "    ypreds = model.predict_proba(X_test)\n",
    "    test_loss = balanced_log_loss(targs, ypreds)\n",
    "    print(f\"Validation loss: {np.mean(val_loss_list)}\")\n",
    "    print(f\"Test loss: {test_loss}\")\n",
    "\n",
    "    return ypreds, targs, model"
   ],
   "metadata": {
    "collapsed": false,
    "ExecuteTime": {
     "end_time": "2023-08-07T15:47:14.494730Z",
     "start_time": "2023-08-07T15:47:14.485219Z"
    }
   },
   "id": "a4fc52092cc67f58"
  },
  {
   "cell_type": "code",
   "execution_count": 42,
   "outputs": [
    {
     "name": "stdout",
     "output_type": "stream",
     "text": [
      "Validation loss: 0.5400077008152435\n",
      "Test loss: 0.48264124635908023\n",
      "Validation loss: 0.4074203932210792\n",
      "Test loss: 0.4268884874310695\n"
     ]
    }
   ],
   "source": [
    "svc_with_resampling = get_svc_estimator(\"svc_with_resampling\")\n",
    "svc_without_resampling = get_svc_estimator(\"svc_without_resampling\")"
   ],
   "metadata": {
    "collapsed": false,
    "ExecuteTime": {
     "end_time": "2023-08-07T15:47:17.125307Z",
     "start_time": "2023-08-07T15:47:14.495417Z"
    }
   },
   "id": "6e21e919afb9b5a"
  },
  {
   "cell_type": "code",
   "execution_count": 43,
   "outputs": [],
   "source": [
    "from catboost import CatBoostClassifier\n",
    "\n",
    "\n",
    "def get_catboost_estimator(name: str):\n",
    "    should_resample = name.endswith(\"with_resampling\")\n",
    "\n",
    "    optuna_params = estimator_params[name]\n",
    "    X, y, X_test, y_test, scale_pos_weight = get_tree_preprocessed_data(train_df, test_df, dep_vars)\n",
    "\n",
    "    params = (\n",
    "            dict(\n",
    "                grow_policy=\"SymmetricTree\",\n",
    "                verbose=0,\n",
    "                scale_pos_weight=scale_pos_weight,\n",
    "            )\n",
    "            | optuna_params\n",
    "    )\n",
    "\n",
    "    model = CatBoostClassifier(**params, eval_metric=BalancedLogLossMetric())\n",
    "\n",
    "    skf = model_selection.RepeatedStratifiedKFold(n_splits=7, n_repeats=3)\n",
    "\n",
    "    val_loss_list = []\n",
    "\n",
    "    for i, (train_idx, val_idx) in enumerate(skf.split(X, y)):\n",
    "        X_train = X.iloc[train_idx]\n",
    "        y_train = y.iloc[train_idx].values.ravel()\n",
    "\n",
    "        X_val = X.iloc[val_idx]\n",
    "        y_val = y.iloc[val_idx].values.ravel()\n",
    "\n",
    "        X_fit, y_fit = X_train, y_train\n",
    "        if should_resample:\n",
    "            X_fit, y_fit = resample(X_train, y_train)\n",
    "\n",
    "        model.fit(X_fit, y_fit)\n",
    "\n",
    "        val_preds = model.predict_proba(X_val)\n",
    "        val_loss = balanced_log_loss(y_val, val_preds)\n",
    "\n",
    "        val_loss_list.append(val_loss)\n",
    "\n",
    "    targs = y_test.values.ravel()\n",
    "    ypreds = model.predict_proba(X_test)\n",
    "    test_loss = balanced_log_loss(targs, ypreds)\n",
    "    print(f\"Validation loss: {np.mean(val_loss_list)}\")\n",
    "    print(f\"Test loss: {test_loss}\")\n",
    "\n",
    "    return ypreds, targs, model"
   ],
   "metadata": {
    "collapsed": false,
    "ExecuteTime": {
     "end_time": "2023-08-07T15:47:17.137298Z",
     "start_time": "2023-08-07T15:47:17.130585Z"
    }
   },
   "id": "9944a596ce12e5ef"
  },
  {
   "cell_type": "code",
   "execution_count": 44,
   "outputs": [
    {
     "name": "stdout",
     "output_type": "stream",
     "text": [
      "Validation loss: 0.3022235686776513\n",
      "Test loss: 0.2690990850101488\n",
      "Validation loss: 0.33222046493102847\n",
      "Test loss: 0.3595578561334823\n"
     ]
    }
   ],
   "source": [
    "catboost_with_resampling = get_catboost_estimator(\"catboost_with_resampling\")\n",
    "catboost_without_resampling = get_catboost_estimator(\"catboost_without_resampling\")"
   ],
   "metadata": {
    "collapsed": false,
    "ExecuteTime": {
     "end_time": "2023-08-07T15:47:59.671918Z",
     "start_time": "2023-08-07T15:47:17.133787Z"
    }
   },
   "id": "843542a6590cfbb4"
  },
  {
   "cell_type": "code",
   "execution_count": 45,
   "outputs": [],
   "source": [
    "from tabpfn import TabPFNClassifier\n",
    "\n",
    "\n",
    "def get_tabpfn_estimator(name: str):\n",
    "    should_resample = name.endswith(\"with_resampling\")\n",
    "\n",
    "    params = estimator_params[name]\n",
    "    X, y, X_test, y_test, _ = get_tree_preprocessed_data(train_df, test_df, dep_vars)\n",
    "\n",
    "    model = TabPFNClassifier(\n",
    "        device=\"cuda\",\n",
    "        only_inference=False,\n",
    "        **params,\n",
    "    )\n",
    "\n",
    "    X_fit, y_fit = X, y\n",
    "    if should_resample:\n",
    "        X_fit, y_fit = resample(X, y)\n",
    "\n",
    "    model.fit(X_fit, y_fit.values.ravel())\n",
    "\n",
    "    targs = y_test.values.ravel()\n",
    "    ypreds = model.predict_proba(X_test)\n",
    "    test_loss = balanced_log_loss(targs, ypreds)\n",
    "    print(f\"Test loss: {test_loss}\")\n",
    "\n",
    "    return ypreds, targs, model"
   ],
   "metadata": {
    "collapsed": false,
    "ExecuteTime": {
     "end_time": "2023-08-07T15:47:59.672765Z",
     "start_time": "2023-08-07T15:47:59.672061Z"
    }
   },
   "id": "9d8f8c276920b3a2"
  },
  {
   "cell_type": "code",
   "execution_count": 46,
   "outputs": [
    {
     "name": "stdout",
     "output_type": "stream",
     "text": [
      "!! Warning: GPyTorch must be installed !!\n",
      "Using style prior: True\n",
      "Using cuda device\n",
      "Using a Transformer with 25.82 M parameters\n",
      "Test loss: 0.4872132304897355\n",
      "!! Warning: GPyTorch must be installed !!\n",
      "Using style prior: True\n",
      "Using cuda device\n",
      "Using a Transformer with 25.82 M parameters\n",
      "Test loss: 0.4586789758074815\n"
     ]
    }
   ],
   "source": [
    "tabpfn_with_resampling = get_tabpfn_estimator(\"tabpfn_with_resampling\")\n",
    "tabpfn_without_resampling = get_tabpfn_estimator(\"tabpfn_without_resampling\")"
   ],
   "metadata": {
    "collapsed": false,
    "ExecuteTime": {
     "end_time": "2023-08-07T15:48:01.434564Z",
     "start_time": "2023-08-07T15:47:59.672147Z"
    }
   },
   "id": "7ab7a4c100ba5481"
  },
  {
   "cell_type": "code",
   "execution_count": 47,
   "outputs": [],
   "source": [
    "from fastai.tabular.all import tabular_learner, tabular_config, TabularDataLoaders, CategoryBlock, FocalLossFlat, \\\n",
    "    TrainTestSplitter, EarlyStoppingCallback\n",
    "\n",
    "\n",
    "def get_fastai_estimator(name: str):\n",
    "    should_resample = name.endswith(\"with_resampling\")\n",
    "\n",
    "    optuna_params = estimator_params[name]\n",
    "    X, y, X_test, y_test = get_preprocessed_data(train_df, test_df, dep_vars)\n",
    "\n",
    "    training_data = pd.merge(X, y, left_index=True, right_index=True)\n",
    "\n",
    "    if should_resample:\n",
    "        X_res, y_res = resample(X, y)\n",
    "        training_data = pd.merge(X_res, y_res, left_index=True, right_index=True)\n",
    "\n",
    "    testing_data = pd.merge(X_test, y_test, left_index=True, right_index=True)\n",
    "\n",
    "    layers_map = {\n",
    "        0: [2048, 1024, 512],\n",
    "        1: [2048, 1024, 512, 256],\n",
    "        2: [2048, 1024, 512, 256, 128],\n",
    "        3: [2048, 1024, 512, 256, 128],\n",
    "        4: [2048, 1024, 512, 256, 128, 64],\n",
    "        5: [2048, 1024, 512, 256, 128, 64, 32],\n",
    "        6: [2048, 1024, 512, 256, 128, 64, 32, 16],\n",
    "        7: [512, 256, 128, 64, 32, 16],\n",
    "        8: [256, 128, 64, 32, 16],\n",
    "        9: [128, 64, 32, 16],\n",
    "        10: [64, 32, 32, 16, 8],\n",
    "    }\n",
    "\n",
    "    bs = optuna_params.get(\"bs\")\n",
    "    epochs = optuna_params.get(\"epochs\")\n",
    "    layers_choice = optuna_params.get(\"layers_choice\")\n",
    "    layers = layers_map[layers_choice]\n",
    "\n",
    "    config = tabular_config(\n",
    "        ps=optuna_params.get(\"ps\"),\n",
    "        use_bn=optuna_params.get(\"use_bn\"),\n",
    "        bn_final=optuna_params.get(\"bn_final\"),\n",
    "        bn_cont=optuna_params.get(\"bn_cont\"),\n",
    "        lin_first=optuna_params.get(\"lin_first\"),\n",
    "    )\n",
    "\n",
    "    dls = TabularDataLoaders.from_df(\n",
    "        training_data,\n",
    "        y_names=dep_vars,\n",
    "        y_block=CategoryBlock,\n",
    "        bs=bs,\n",
    "        splits=TrainTestSplitter(\n",
    "            test_size=0.2,\n",
    "            stratify=train_df[dep_vars],\n",
    "        ),\n",
    "    )\n",
    "\n",
    "    model = tabular_learner(\n",
    "        dls,\n",
    "        loss_func=FocalLossFlat(gamma=optuna_params.get(\"gamma\")),\n",
    "        layers=layers,\n",
    "        config=config,\n",
    "        cbs=[\n",
    "            EarlyStoppingCallback(min_delta=0.1, patience=8),\n",
    "        ],\n",
    "        wd=optuna_params.get(\"wd\"),\n",
    "        wd_bn_bias=optuna_params.get(\"wd_bn_bias\"),\n",
    "    )\n",
    "\n",
    "    with model.no_logging(), model.no_bar():\n",
    "        model.fit_one_cycle(epochs)\n",
    "\n",
    "    ypreds, targs = model.get_preds()\n",
    "    val_loss = balanced_log_loss_tensor(ypreds, targs).item()\n",
    "\n",
    "    test_dl = dls.test_dl(testing_data)\n",
    "    ypreds, targs = model.get_preds(dl=test_dl)\n",
    "    test_loss = balanced_log_loss_tensor(ypreds, targs).item()\n",
    "\n",
    "    print(f\"Validation loss: {val_loss}\")\n",
    "    print(f\"Test loss: {test_loss}\")\n",
    "\n",
    "    return ypreds, targs, model"
   ],
   "metadata": {
    "collapsed": false,
    "ExecuteTime": {
     "end_time": "2023-08-07T15:48:01.448724Z",
     "start_time": "2023-08-07T15:48:01.443094Z"
    }
   },
   "id": "a3fad9c4bca54f29"
  },
  {
   "cell_type": "code",
   "execution_count": 48,
   "outputs": [
    {
     "data": {
      "text/plain": "<IPython.core.display.HTML object>",
      "text/html": "\n<style>\n    /* Turns off some styling */\n    progress {\n        /* gets rid of default border in Firefox and Opera. */\n        border: none;\n        /* Needs to be in here for Safari polyfill so background images work as expected. */\n        background-size: auto;\n    }\n    progress:not([value]), progress:not([value])::-webkit-progress-bar {\n        background: repeating-linear-gradient(45deg, #7e7e7e, #7e7e7e 10px, #5c5c5c 10px, #5c5c5c 20px);\n    }\n    .progress-bar-interrupted, .progress-bar-interrupted::-webkit-progress-bar {\n        background: #F44336;\n    }\n</style>\n"
     },
     "metadata": {},
     "output_type": "display_data"
    },
    {
     "data": {
      "text/plain": "<IPython.core.display.HTML object>",
      "text/html": "\n    <div>\n      <progress value='0' class='' max='3' style='width:300px; height:20px; vertical-align: middle;'></progress>\n      \n    </div>\n    "
     },
     "metadata": {},
     "output_type": "display_data"
    },
    {
     "data": {
      "text/plain": "<IPython.core.display.HTML object>",
      "text/html": "\n<style>\n    /* Turns off some styling */\n    progress {\n        /* gets rid of default border in Firefox and Opera. */\n        border: none;\n        /* Needs to be in here for Safari polyfill so background images work as expected. */\n        background-size: auto;\n    }\n    progress:not([value]), progress:not([value])::-webkit-progress-bar {\n        background: repeating-linear-gradient(45deg, #7e7e7e, #7e7e7e 10px, #5c5c5c 10px, #5c5c5c 20px);\n    }\n    .progress-bar-interrupted, .progress-bar-interrupted::-webkit-progress-bar {\n        background: #F44336;\n    }\n</style>\n"
     },
     "metadata": {},
     "output_type": "display_data"
    },
    {
     "data": {
      "text/plain": "<IPython.core.display.HTML object>",
      "text/html": "\n    <div>\n      <progress value='0' class='' max='6' style='width:300px; height:20px; vertical-align: middle;'></progress>\n      \n    </div>\n    "
     },
     "metadata": {},
     "output_type": "display_data"
    },
    {
     "name": "stdout",
     "output_type": "stream",
     "text": [
      "Validation loss: 0.19319112598896027\n",
      "Test loss: 0.33733823895454407\n",
      "No improvement since epoch 7: early stopping\n"
     ]
    },
    {
     "data": {
      "text/plain": "<IPython.core.display.HTML object>",
      "text/html": "\n<style>\n    /* Turns off some styling */\n    progress {\n        /* gets rid of default border in Firefox and Opera. */\n        border: none;\n        /* Needs to be in here for Safari polyfill so background images work as expected. */\n        background-size: auto;\n    }\n    progress:not([value]), progress:not([value])::-webkit-progress-bar {\n        background: repeating-linear-gradient(45deg, #7e7e7e, #7e7e7e 10px, #5c5c5c 10px, #5c5c5c 20px);\n    }\n    .progress-bar-interrupted, .progress-bar-interrupted::-webkit-progress-bar {\n        background: #F44336;\n    }\n</style>\n"
     },
     "metadata": {},
     "output_type": "display_data"
    },
    {
     "data": {
      "text/plain": "<IPython.core.display.HTML object>",
      "text/html": "\n    <div>\n      <progress value='0' class='' max='1' style='width:300px; height:20px; vertical-align: middle;'></progress>\n      \n    </div>\n    "
     },
     "metadata": {},
     "output_type": "display_data"
    },
    {
     "data": {
      "text/plain": "<IPython.core.display.HTML object>",
      "text/html": "\n<style>\n    /* Turns off some styling */\n    progress {\n        /* gets rid of default border in Firefox and Opera. */\n        border: none;\n        /* Needs to be in here for Safari polyfill so background images work as expected. */\n        background-size: auto;\n    }\n    progress:not([value]), progress:not([value])::-webkit-progress-bar {\n        background: repeating-linear-gradient(45deg, #7e7e7e, #7e7e7e 10px, #5c5c5c 10px, #5c5c5c 20px);\n    }\n    .progress-bar-interrupted, .progress-bar-interrupted::-webkit-progress-bar {\n        background: #F44336;\n    }\n</style>\n"
     },
     "metadata": {},
     "output_type": "display_data"
    },
    {
     "data": {
      "text/plain": "<IPython.core.display.HTML object>",
      "text/html": "\n    <div>\n      <progress value='0' class='' max='4' style='width:300px; height:20px; vertical-align: middle;'></progress>\n      \n    </div>\n    "
     },
     "metadata": {},
     "output_type": "display_data"
    },
    {
     "name": "stdout",
     "output_type": "stream",
     "text": [
      "Validation loss: 0.4285264015197754\n",
      "Test loss: 0.3670297861099243\n"
     ]
    }
   ],
   "source": [
    "fastai_with_resampling = get_fastai_estimator(\"fastai_with_resampling\")\n",
    "fastai_without_resampling = get_fastai_estimator(\"fastai_without_resampling\")"
   ],
   "metadata": {
    "collapsed": false,
    "ExecuteTime": {
     "end_time": "2023-08-07T15:48:04.322817Z",
     "start_time": "2023-08-07T15:48:01.446981Z"
    }
   },
   "id": "43f37562a0493f74"
  },
  {
   "cell_type": "code",
   "execution_count": 49,
   "outputs": [],
   "source": [
    "X_normalized, y_normalized, X_test_normalized, y_test_normalized = get_preprocessed_data(train_df, test_df, dep_vars)\n",
    "X_tree, y_tree, X_test_tree, y_test_tree, _ = get_tree_preprocessed_data(train_df, test_df, dep_vars)"
   ],
   "metadata": {
    "collapsed": false,
    "ExecuteTime": {
     "end_time": "2023-08-07T15:48:04.995188Z",
     "start_time": "2023-08-07T15:48:04.363176Z"
    }
   },
   "id": "30fc5978c10dd9bd"
  },
  {
   "cell_type": "code",
   "execution_count": 211,
   "outputs": [],
   "source": [
    "estimators = {\n",
    "    \"xgboost_with_resampling\": xgboost_with_resampling,\n",
    "    \"xgboose_without_resampling\": xgboose_without_resampling,\n",
    "    \"lightgbm_with_resampling\": lightgbm_with_resampling,\n",
    "    \"lightgbm_without_resampling\": lightgbm_without_resampling,\n",
    "    \"catboost_with_resampling\": catboost_with_resampling,\n",
    "    \"catboost_without_resampling\": catboost_without_resampling,\n",
    "    \"tabpfn_with_resampling\": tabpfn_with_resampling,\n",
    "    \"tabpfn_without_resampling\": tabpfn_without_resampling,\n",
    "    \"fastai_with_resampling\": fastai_with_resampling,\n",
    "    \"fastai_without_resampling\": fastai_without_resampling,\n",
    "    \"svc_with_resampling\": svc_with_resampling,\n",
    "    \"svc_without_resampling\": svc_without_resampling,\n",
    "}"
   ],
   "metadata": {
    "collapsed": false,
    "ExecuteTime": {
     "end_time": "2023-08-07T17:47:44.028911Z",
     "start_time": "2023-08-07T17:47:44.027174Z"
    }
   },
   "id": "a73dfa3f756a57f1"
  },
  {
   "cell_type": "code",
   "execution_count": 216,
   "outputs": [],
   "source": [
    "predictions = {name: ypreds[:, 1] for name, (ypreds, targs, model) in estimators.items()}\n",
    "\n",
    "scores = {}\n",
    "\n",
    "for name, (ypreds, targs, model) in estimators.items():\n",
    "    if name.startswith(\"fastai\"):\n",
    "        y_true = targs.cpu().detach().numpy().flatten()\n",
    "        y_pred = ypreds.cpu().detach().numpy()\n",
    "\n",
    "        scores[name] = [\n",
    "            balanced_log_loss(y_true, y_pred),\n",
    "            metrics.accuracy_score(y_true, np.argmax(y_pred, axis=1)),\n",
    "            metrics.precision_score(y_true, np.argmax(y_pred, axis=1)),\n",
    "            metrics.recall_score(y_true, np.argmax(y_pred, axis=1)),\n",
    "            metrics.f1_score(targs, np.argmax(ypreds, axis=1)),\n",
    "        ]\n",
    "    else:\n",
    "        scores[name] = [\n",
    "            balanced_log_loss(targs, ypreds),\n",
    "            metrics.accuracy_score(targs, np.argmax(ypreds, axis=1)),\n",
    "            metrics.precision_score(targs, np.argmax(ypreds, axis=1)),\n",
    "            metrics.recall_score(targs, np.argmax(ypreds, axis=1)),\n",
    "            metrics.f1_score(targs, np.argmax(ypreds, axis=1)),\n",
    "        ]"
   ],
   "metadata": {
    "collapsed": false,
    "ExecuteTime": {
     "end_time": "2023-08-07T17:48:15.581601Z",
     "start_time": "2023-08-07T17:48:15.480358Z"
    }
   },
   "id": "459fc8bf907c9b3"
  },
  {
   "cell_type": "code",
   "execution_count": 217,
   "outputs": [],
   "source": [
    "scores_df = pd.DataFrame(scores, index=[\"balanced_log_loss\", \"accuracy\", \"precision\", \"recall\", \"f1\"]).T"
   ],
   "metadata": {
    "collapsed": false,
    "ExecuteTime": {
     "end_time": "2023-08-07T17:48:16.793891Z",
     "start_time": "2023-08-07T17:48:16.694684Z"
    }
   },
   "id": "c527246c97dabad4"
  },
  {
   "cell_type": "code",
   "execution_count": 220,
   "outputs": [
    {
     "data": {
      "text/plain": "                             balanced_log_loss  accuracy  precision    recall  \\\nxgboost_with_resampling               0.307874  0.894737   0.666667  0.790698   \nxgboose_without_resampling            0.347299  0.914980   0.761905  0.744186   \nlightgbm_with_resampling              0.319792  0.878543   0.610169  0.837209   \nlightgbm_without_resampling           0.294797  0.919028   0.767442  0.767442   \ncatboost_with_resampling              0.269099  0.927126   0.735849  0.906977   \ncatboost_without_resampling           0.359558  0.914980   0.761905  0.744186   \ntabpfn_with_resampling                0.487213  0.910931   0.800000  0.651163   \ntabpfn_without_resampling             0.458679  0.894737   0.742857  0.604651   \nfastai_with_resampling                0.337338  0.882591   0.634615  0.767442   \nfastai_without_resampling             0.367030  0.878543   0.622642  0.767442   \nsvc_with_resampling                   0.482641  0.862348   0.576271  0.790698   \nsvc_without_resampling                0.426888  0.906883   0.763158  0.674419   \n\n                                   f1  \nxgboost_with_resampling      0.723404  \nxgboose_without_resampling   0.752941  \nlightgbm_with_resampling     0.705882  \nlightgbm_without_resampling  0.767442  \ncatboost_with_resampling     0.812500  \ncatboost_without_resampling  0.752941  \ntabpfn_with_resampling       0.717949  \ntabpfn_without_resampling    0.666667  \nfastai_with_resampling       0.694737  \nfastai_without_resampling    0.687500  \nsvc_with_resampling          0.666667  \nsvc_without_resampling       0.716049  ",
      "text/html": "<div>\n<style scoped>\n    .dataframe tbody tr th:only-of-type {\n        vertical-align: middle;\n    }\n\n    .dataframe tbody tr th {\n        vertical-align: top;\n    }\n\n    .dataframe thead th {\n        text-align: right;\n    }\n</style>\n<table border=\"1\" class=\"dataframe\">\n  <thead>\n    <tr style=\"text-align: right;\">\n      <th></th>\n      <th>balanced_log_loss</th>\n      <th>accuracy</th>\n      <th>precision</th>\n      <th>recall</th>\n      <th>f1</th>\n    </tr>\n  </thead>\n  <tbody>\n    <tr>\n      <th>xgboost_with_resampling</th>\n      <td>0.307874</td>\n      <td>0.894737</td>\n      <td>0.666667</td>\n      <td>0.790698</td>\n      <td>0.723404</td>\n    </tr>\n    <tr>\n      <th>xgboose_without_resampling</th>\n      <td>0.347299</td>\n      <td>0.914980</td>\n      <td>0.761905</td>\n      <td>0.744186</td>\n      <td>0.752941</td>\n    </tr>\n    <tr>\n      <th>lightgbm_with_resampling</th>\n      <td>0.319792</td>\n      <td>0.878543</td>\n      <td>0.610169</td>\n      <td>0.837209</td>\n      <td>0.705882</td>\n    </tr>\n    <tr>\n      <th>lightgbm_without_resampling</th>\n      <td>0.294797</td>\n      <td>0.919028</td>\n      <td>0.767442</td>\n      <td>0.767442</td>\n      <td>0.767442</td>\n    </tr>\n    <tr>\n      <th>catboost_with_resampling</th>\n      <td>0.269099</td>\n      <td>0.927126</td>\n      <td>0.735849</td>\n      <td>0.906977</td>\n      <td>0.812500</td>\n    </tr>\n    <tr>\n      <th>catboost_without_resampling</th>\n      <td>0.359558</td>\n      <td>0.914980</td>\n      <td>0.761905</td>\n      <td>0.744186</td>\n      <td>0.752941</td>\n    </tr>\n    <tr>\n      <th>tabpfn_with_resampling</th>\n      <td>0.487213</td>\n      <td>0.910931</td>\n      <td>0.800000</td>\n      <td>0.651163</td>\n      <td>0.717949</td>\n    </tr>\n    <tr>\n      <th>tabpfn_without_resampling</th>\n      <td>0.458679</td>\n      <td>0.894737</td>\n      <td>0.742857</td>\n      <td>0.604651</td>\n      <td>0.666667</td>\n    </tr>\n    <tr>\n      <th>fastai_with_resampling</th>\n      <td>0.337338</td>\n      <td>0.882591</td>\n      <td>0.634615</td>\n      <td>0.767442</td>\n      <td>0.694737</td>\n    </tr>\n    <tr>\n      <th>fastai_without_resampling</th>\n      <td>0.367030</td>\n      <td>0.878543</td>\n      <td>0.622642</td>\n      <td>0.767442</td>\n      <td>0.687500</td>\n    </tr>\n    <tr>\n      <th>svc_with_resampling</th>\n      <td>0.482641</td>\n      <td>0.862348</td>\n      <td>0.576271</td>\n      <td>0.790698</td>\n      <td>0.666667</td>\n    </tr>\n    <tr>\n      <th>svc_without_resampling</th>\n      <td>0.426888</td>\n      <td>0.906883</td>\n      <td>0.763158</td>\n      <td>0.674419</td>\n      <td>0.716049</td>\n    </tr>\n  </tbody>\n</table>\n</div>"
     },
     "execution_count": 220,
     "metadata": {},
     "output_type": "execute_result"
    }
   ],
   "source": [
    "scores_df"
   ],
   "metadata": {
    "collapsed": false,
    "ExecuteTime": {
     "end_time": "2023-08-07T17:48:53.098336Z",
     "start_time": "2023-08-07T17:48:52.950897Z"
    }
   },
   "id": "141f8431e7dec0c5"
  },
  {
   "cell_type": "code",
   "execution_count": 56,
   "outputs": [],
   "source": [
    "pred_df = pd.DataFrame(predictions)"
   ],
   "metadata": {
    "collapsed": false,
    "ExecuteTime": {
     "end_time": "2023-08-07T15:54:24.815278Z",
     "start_time": "2023-08-07T15:54:24.813198Z"
    }
   },
   "id": "980c0e354775e4a9"
  },
  {
   "cell_type": "code",
   "execution_count": 81,
   "outputs": [],
   "source": [
    "correlation_matrix = pred_df.corr(method=\"pearson\")"
   ],
   "metadata": {
    "collapsed": false,
    "ExecuteTime": {
     "end_time": "2023-08-07T16:03:21.083013Z",
     "start_time": "2023-08-07T16:03:21.081604Z"
    }
   },
   "id": "f64ab4b88bec738e"
  },
  {
   "cell_type": "code",
   "execution_count": 88,
   "outputs": [],
   "source": [
    "model_matrix = pd.DataFrame(scores, index=[\"score\"]).T"
   ],
   "metadata": {
    "collapsed": false,
    "ExecuteTime": {
     "end_time": "2023-08-07T16:04:46.472299Z",
     "start_time": "2023-08-07T16:04:46.460554Z"
    }
   },
   "id": "4b1c8a5bb3e46715"
  },
  {
   "cell_type": "code",
   "execution_count": 90,
   "outputs": [
    {
     "data": {
      "text/plain": "                                score\ncatboost_with_resampling     0.269099\nlightgbm_without_resampling  0.294797\nxgboost_with_resampling      0.307874\nlightgbm_with_resampling     0.319792\nfastai_with_resampling       0.337338\nxgboose_without_resampling   0.347299\ncatboost_without_resampling  0.359558\nfastai_without_resampling    0.367030\nsvc_without_resampling       0.426888\ntabpfn_without_resampling    0.458679\nsvc_with_resampling          0.482641\ntabpfn_with_resampling       0.487213",
      "text/html": "<div>\n<style scoped>\n    .dataframe tbody tr th:only-of-type {\n        vertical-align: middle;\n    }\n\n    .dataframe tbody tr th {\n        vertical-align: top;\n    }\n\n    .dataframe thead th {\n        text-align: right;\n    }\n</style>\n<table border=\"1\" class=\"dataframe\">\n  <thead>\n    <tr style=\"text-align: right;\">\n      <th></th>\n      <th>score</th>\n    </tr>\n  </thead>\n  <tbody>\n    <tr>\n      <th>catboost_with_resampling</th>\n      <td>0.269099</td>\n    </tr>\n    <tr>\n      <th>lightgbm_without_resampling</th>\n      <td>0.294797</td>\n    </tr>\n    <tr>\n      <th>xgboost_with_resampling</th>\n      <td>0.307874</td>\n    </tr>\n    <tr>\n      <th>lightgbm_with_resampling</th>\n      <td>0.319792</td>\n    </tr>\n    <tr>\n      <th>fastai_with_resampling</th>\n      <td>0.337338</td>\n    </tr>\n    <tr>\n      <th>xgboose_without_resampling</th>\n      <td>0.347299</td>\n    </tr>\n    <tr>\n      <th>catboost_without_resampling</th>\n      <td>0.359558</td>\n    </tr>\n    <tr>\n      <th>fastai_without_resampling</th>\n      <td>0.367030</td>\n    </tr>\n    <tr>\n      <th>svc_without_resampling</th>\n      <td>0.426888</td>\n    </tr>\n    <tr>\n      <th>tabpfn_without_resampling</th>\n      <td>0.458679</td>\n    </tr>\n    <tr>\n      <th>svc_with_resampling</th>\n      <td>0.482641</td>\n    </tr>\n    <tr>\n      <th>tabpfn_with_resampling</th>\n      <td>0.487213</td>\n    </tr>\n  </tbody>\n</table>\n</div>"
     },
     "execution_count": 90,
     "metadata": {},
     "output_type": "execute_result"
    }
   ],
   "source": [
    "model_matrix.sort_values(by=\"score\")"
   ],
   "metadata": {
    "collapsed": false,
    "ExecuteTime": {
     "end_time": "2023-08-07T16:04:59.587542Z",
     "start_time": "2023-08-07T16:04:59.543354Z"
    }
   },
   "id": "e311182c821a0eba"
  },
  {
   "cell_type": "code",
   "execution_count": 92,
   "outputs": [
    {
     "data": {
      "text/plain": "catboost_with_resampling       1.000000\ncatboost_without_resampling    0.912707\nxgboost_with_resampling        0.907788\nlightgbm_without_resampling    0.898697\nlightgbm_with_resampling       0.892832\nxgboose_without_resampling     0.881215\ntabpfn_without_resampling      0.845918\ntabpfn_with_resampling         0.822164\nfastai_without_resampling      0.813217\nfastai_with_resampling         0.805797\nsvc_without_resampling         0.803571\nsvc_with_resampling            0.756543\nName: catboost_with_resampling, dtype: float64"
     },
     "execution_count": 92,
     "metadata": {},
     "output_type": "execute_result"
    }
   ],
   "source": [
    "correlation_matrix[\"catboost_with_resampling\"].sort_values(ascending=False)"
   ],
   "metadata": {
    "collapsed": false,
    "ExecuteTime": {
     "end_time": "2023-08-07T16:05:44.210181Z",
     "start_time": "2023-08-07T16:05:44.206504Z"
    }
   },
   "id": "2268ec80f4b8b19e"
  },
  {
   "cell_type": "code",
   "execution_count": 104,
   "outputs": [],
   "source": [
    "from visualize.results import plot_results"
   ],
   "metadata": {
    "collapsed": false,
    "ExecuteTime": {
     "end_time": "2023-08-07T16:46:42.152315Z",
     "start_time": "2023-08-07T16:46:41.948582Z"
    }
   },
   "id": "dc5f9969e187b2da"
  },
  {
   "cell_type": "code",
   "execution_count": 107,
   "outputs": [
    {
     "data": {
      "text/plain": "     xgboost_with_resampling  xgboose_without_resampling  \\\n0                   0.001234                    0.019256   \n1                   0.009289                    0.012315   \n2                   0.002172                    0.037606   \n3                   0.004758                    0.024295   \n4                   0.755470                    0.617068   \n..                       ...                         ...   \n242                 0.240579                    0.623691   \n243                 0.168885                    0.029538   \n244                 0.004150                    0.008932   \n245                 0.433591                    0.413470   \n246                 0.288285                    0.409627   \n\n     lightgbm_with_resampling  lightgbm_without_resampling  \\\n0                    0.002083                     0.015092   \n1                    0.009936                     0.004724   \n2                    0.037696                     0.012962   \n3                    0.009589                     0.010544   \n4                    0.790937                     0.473647   \n..                        ...                          ...   \n242                  0.853304                     0.816227   \n243                  0.543029                     0.083749   \n244                  0.007517                     0.003012   \n245                  0.611553                     0.402315   \n246                  0.808919                     0.580513   \n\n     catboost_with_resampling  catboost_without_resampling  \\\n0                    0.019096                     0.008726   \n1                    0.009896                     0.019106   \n2                    0.002489                     0.007963   \n3                    0.003979                     0.007102   \n4                    0.962509                     0.457188   \n..                        ...                          ...   \n242                  0.707542                     0.867993   \n243                  0.013250                     0.160640   \n244                  0.004397                     0.002916   \n245                  0.895062                     0.628181   \n246                  0.896969                     0.508434   \n\n     tabpfn_with_resampling  tabpfn_without_resampling  \\\n0                  0.000014                   0.000330   \n1                  0.000010                   0.000156   \n2                  0.000008                   0.000327   \n3                  0.000808                   0.004187   \n4                  0.839631                   0.299171   \n..                      ...                        ...   \n242                0.893942                   0.909409   \n243                0.014701                   0.032452   \n244                0.000088                   0.000501   \n245                0.260091                   0.405778   \n246                0.139866                   0.185619   \n\n     fastai_with_resampling  fastai_without_resampling  svc_with_resampling  \\\n0                  0.060260                   0.258211             0.008254   \n1                  0.061067                   0.292828             0.003090   \n2                  0.004849                   0.250330             0.000193   \n3                  0.108994                   0.342620             0.034630   \n4                  0.665503                   0.277318             0.551801   \n..                      ...                        ...                  ...   \n242                0.917254                   0.998526             0.961842   \n243                0.549531                   0.285469             0.285505   \n244                0.011839                   0.221354             0.000545   \n245                0.880548                   0.994314             0.522385   \n246                0.507667                   0.467865             0.198027   \n\n     svc_without_resampling  \n0                  0.025210  \n1                  0.025625  \n2                  0.012320  \n3                  0.031328  \n4                  0.269875  \n..                      ...  \n242                0.989333  \n243                0.112997  \n244                0.014042  \n245                0.318611  \n246                0.312945  \n\n[247 rows x 12 columns]",
      "text/html": "<div>\n<style scoped>\n    .dataframe tbody tr th:only-of-type {\n        vertical-align: middle;\n    }\n\n    .dataframe tbody tr th {\n        vertical-align: top;\n    }\n\n    .dataframe thead th {\n        text-align: right;\n    }\n</style>\n<table border=\"1\" class=\"dataframe\">\n  <thead>\n    <tr style=\"text-align: right;\">\n      <th></th>\n      <th>xgboost_with_resampling</th>\n      <th>xgboose_without_resampling</th>\n      <th>lightgbm_with_resampling</th>\n      <th>lightgbm_without_resampling</th>\n      <th>catboost_with_resampling</th>\n      <th>catboost_without_resampling</th>\n      <th>tabpfn_with_resampling</th>\n      <th>tabpfn_without_resampling</th>\n      <th>fastai_with_resampling</th>\n      <th>fastai_without_resampling</th>\n      <th>svc_with_resampling</th>\n      <th>svc_without_resampling</th>\n    </tr>\n  </thead>\n  <tbody>\n    <tr>\n      <th>0</th>\n      <td>0.001234</td>\n      <td>0.019256</td>\n      <td>0.002083</td>\n      <td>0.015092</td>\n      <td>0.019096</td>\n      <td>0.008726</td>\n      <td>0.000014</td>\n      <td>0.000330</td>\n      <td>0.060260</td>\n      <td>0.258211</td>\n      <td>0.008254</td>\n      <td>0.025210</td>\n    </tr>\n    <tr>\n      <th>1</th>\n      <td>0.009289</td>\n      <td>0.012315</td>\n      <td>0.009936</td>\n      <td>0.004724</td>\n      <td>0.009896</td>\n      <td>0.019106</td>\n      <td>0.000010</td>\n      <td>0.000156</td>\n      <td>0.061067</td>\n      <td>0.292828</td>\n      <td>0.003090</td>\n      <td>0.025625</td>\n    </tr>\n    <tr>\n      <th>2</th>\n      <td>0.002172</td>\n      <td>0.037606</td>\n      <td>0.037696</td>\n      <td>0.012962</td>\n      <td>0.002489</td>\n      <td>0.007963</td>\n      <td>0.000008</td>\n      <td>0.000327</td>\n      <td>0.004849</td>\n      <td>0.250330</td>\n      <td>0.000193</td>\n      <td>0.012320</td>\n    </tr>\n    <tr>\n      <th>3</th>\n      <td>0.004758</td>\n      <td>0.024295</td>\n      <td>0.009589</td>\n      <td>0.010544</td>\n      <td>0.003979</td>\n      <td>0.007102</td>\n      <td>0.000808</td>\n      <td>0.004187</td>\n      <td>0.108994</td>\n      <td>0.342620</td>\n      <td>0.034630</td>\n      <td>0.031328</td>\n    </tr>\n    <tr>\n      <th>4</th>\n      <td>0.755470</td>\n      <td>0.617068</td>\n      <td>0.790937</td>\n      <td>0.473647</td>\n      <td>0.962509</td>\n      <td>0.457188</td>\n      <td>0.839631</td>\n      <td>0.299171</td>\n      <td>0.665503</td>\n      <td>0.277318</td>\n      <td>0.551801</td>\n      <td>0.269875</td>\n    </tr>\n    <tr>\n      <th>...</th>\n      <td>...</td>\n      <td>...</td>\n      <td>...</td>\n      <td>...</td>\n      <td>...</td>\n      <td>...</td>\n      <td>...</td>\n      <td>...</td>\n      <td>...</td>\n      <td>...</td>\n      <td>...</td>\n      <td>...</td>\n    </tr>\n    <tr>\n      <th>242</th>\n      <td>0.240579</td>\n      <td>0.623691</td>\n      <td>0.853304</td>\n      <td>0.816227</td>\n      <td>0.707542</td>\n      <td>0.867993</td>\n      <td>0.893942</td>\n      <td>0.909409</td>\n      <td>0.917254</td>\n      <td>0.998526</td>\n      <td>0.961842</td>\n      <td>0.989333</td>\n    </tr>\n    <tr>\n      <th>243</th>\n      <td>0.168885</td>\n      <td>0.029538</td>\n      <td>0.543029</td>\n      <td>0.083749</td>\n      <td>0.013250</td>\n      <td>0.160640</td>\n      <td>0.014701</td>\n      <td>0.032452</td>\n      <td>0.549531</td>\n      <td>0.285469</td>\n      <td>0.285505</td>\n      <td>0.112997</td>\n    </tr>\n    <tr>\n      <th>244</th>\n      <td>0.004150</td>\n      <td>0.008932</td>\n      <td>0.007517</td>\n      <td>0.003012</td>\n      <td>0.004397</td>\n      <td>0.002916</td>\n      <td>0.000088</td>\n      <td>0.000501</td>\n      <td>0.011839</td>\n      <td>0.221354</td>\n      <td>0.000545</td>\n      <td>0.014042</td>\n    </tr>\n    <tr>\n      <th>245</th>\n      <td>0.433591</td>\n      <td>0.413470</td>\n      <td>0.611553</td>\n      <td>0.402315</td>\n      <td>0.895062</td>\n      <td>0.628181</td>\n      <td>0.260091</td>\n      <td>0.405778</td>\n      <td>0.880548</td>\n      <td>0.994314</td>\n      <td>0.522385</td>\n      <td>0.318611</td>\n    </tr>\n    <tr>\n      <th>246</th>\n      <td>0.288285</td>\n      <td>0.409627</td>\n      <td>0.808919</td>\n      <td>0.580513</td>\n      <td>0.896969</td>\n      <td>0.508434</td>\n      <td>0.139866</td>\n      <td>0.185619</td>\n      <td>0.507667</td>\n      <td>0.467865</td>\n      <td>0.198027</td>\n      <td>0.312945</td>\n    </tr>\n  </tbody>\n</table>\n<p>247 rows × 12 columns</p>\n</div>"
     },
     "execution_count": 107,
     "metadata": {},
     "output_type": "execute_result"
    }
   ],
   "source": [
    "pred_df"
   ],
   "metadata": {
    "collapsed": false,
    "ExecuteTime": {
     "end_time": "2023-08-07T16:47:19.166727Z",
     "start_time": "2023-08-07T16:47:19.100813Z"
    }
   },
   "id": "c213dd2b1dc1b5e5"
  },
  {
   "cell_type": "code",
   "execution_count": 112,
   "outputs": [
    {
     "data": {
      "application/vnd.plotly.v1+json": {
       "data": [
        {
         "hovertemplate": "Class=0<br>Positive Class Probability=%{x}<br>Sample Integer Index=%{y}<extra></extra>",
         "legendgroup": "0",
         "marker": {
          "color": "#010D36",
          "opacity": 0.6,
          "symbol": "diamond",
          "size": 6
         },
         "mode": "markers",
         "name": "0",
         "orientation": "v",
         "showlegend": true,
         "x": [
          0.019095621947619153,
          0.002488561481146165,
          0.003979233869514256,
          0.2088793920679538,
          0.41147729091988067,
          0.0018036932462786395,
          0.04481584299300635,
          0.00342467221972455,
          0.3737213005567507,
          0.029464688299510624,
          0.009419610118620391,
          0.019223364318154492,
          0.003085209220607091,
          0.0028483799243063687,
          0.1483558296046035,
          0.2984036069424837,
          0.019916621731133,
          0.03285431459946678,
          0.002559788502391133,
          0.008385614881282014,
          0.20359329495622489,
          0.43411919569638613,
          0.005194719507620578,
          0.003789740692056983,
          0.047243055916969784,
          0.007917014874922527,
          0.1529704751250662,
          0.4059888836152154,
          0.02139876111911159,
          0.041506089930431804,
          0.0038048880814094514,
          0.03488912217904106,
          0.033428331513934484,
          0.020747544755091312,
          0.04541928761080859,
          0.0939786670281809,
          5.957570364506629E-4,
          0.9798323091209504,
          0.5532839248135593,
          0.18799158240770256,
          0.00176629136348004,
          0.13155821934030126,
          0.1424453115928962,
          0.0787055764762454,
          0.008193312904667979,
          0.05134444154656335,
          0.09506925651676798,
          0.0036403368283011587,
          0.0029300400710547832,
          0.004620091353075847,
          0.003674041379761747,
          0.014263594411558535,
          0.6377597947854621,
          0.016349001785470427,
          0.011473483477174529,
          0.14316974893370601,
          0.01937705851822722,
          0.029231255620352236,
          0.0294553077654354,
          0.013566773012340884,
          0.004569548824071358,
          0.004105764158375292,
          0.9132461989075975,
          0.5681147329589499,
          0.02894506196882144,
          0.17635035796633558,
          0.004293648020744959,
          0.0018888438440701149,
          0.6319056641824715,
          0.09178366195547111,
          0.013362359252630306,
          0.2572612220020734,
          0.0923962839340623,
          2.861161031148583E-4,
          0.01579005148099192,
          0.2903449564948494,
          0.06438885635110418,
          0.005065712911772484,
          0.02083733197129254,
          0.004949265928559708,
          0.21266454601356308,
          0.012383147648257965,
          0.03519850190121815,
          0.006228050614334366,
          0.01178840735443477,
          0.0021659610171210946,
          0.01962661492374197,
          0.010919279493017096,
          0.0015406258467605164,
          0.18466719426084985,
          0.37489756611315805,
          0.032406379627840085,
          0.00746462304600001,
          0.008012212321371332,
          0.7929892037696449,
          0.03181915481970302,
          0.025821931209598453,
          0.06341324653850461,
          0.029033404173273734,
          0.009792758075279467,
          0.003608833446782079,
          0.016142217099460905,
          0.045008310973583036,
          0.02346646603692452,
          0.033955558860416894,
          3.216035053561994E-4,
          0.005016192452348186,
          0.7826556747412612,
          0.7415060455165707,
          0.05059615659127221,
          0.004005272145062858,
          0.025690418568568817,
          0.2640530779968454,
          0.009975444985022532,
          0.6219037992544886,
          0.05830490545049758,
          0.045219403605318086,
          0.2497911968569442,
          0.04765345450696871,
          0.0074624385666540016,
          0.005698293365816914,
          0.06442779032052698,
          0.011428681235255244,
          0.082887463925743,
          0.0013357318000566593,
          0.11857321644160546,
          0.023426115911382002,
          0.20333451823060414,
          0.7098139582709951,
          0.13368770747341596,
          0.034076430315420306,
          0.0038627830879211624,
          0.24087402748699976,
          0.07787581938710679,
          0.006486568100178098,
          0.0026592236478811416,
          0.0014152035535608342,
          0.021691518257680575,
          0.003903663076810156,
          0.01298023521922857,
          0.3865835741675703,
          0.002648079190584624,
          0.027813962576676877,
          0.6305460379300843,
          0.22742541013642822,
          0.02382049208949594,
          0.013868857180492758,
          0.00765192869156324,
          0.09059570567525448,
          0.09164600522422649,
          0.019370837800170935,
          0.2982048912324136,
          0.005881982893338022,
          0.030934572168240942,
          0.023997848219331753,
          0.010776550448016235,
          0.4532961424674602,
          0.010378550316721089,
          0.004737833819308914,
          0.023290056024130566,
          0.1658579117310398,
          0.040050307104694684,
          0.32061099428193796,
          0.5974637578807853,
          0.3418515830333382,
          0.10136822202898915,
          0.018055407740230404,
          0.017169541939524836,
          0.006784989042298386,
          0.10635503734755795,
          0.00933533520871557,
          0.03924969205025988,
          0.0018700786213921336,
          0.332327090942268,
          0.10389133847089736,
          0.0884337760991404,
          0.002402962897556572,
          0.04606085250109622,
          0.0181762148893378,
          9.426045316158866E-4,
          0.045418345624151917,
          0.22045469397026743,
          0.45125971860272457,
          0.0018248386481716753,
          0.23551740660208248,
          0.0014330902754335682,
          0.01896871376779003,
          4.734314930350954E-4,
          0.09272409050374086,
          0.01127793484047053,
          0.006977604511966636,
          0.03533296703987136,
          0.00807678017987003,
          0.009326105165074408,
          0.018535743480804442,
          0.11099160848301233,
          0.12725101557364393,
          0.004317103812552815,
          0.017886932377461775,
          0.05045722499721318,
          0.017067781584742106,
          0.013250475399230887,
          0.0043974489658840455,
          0.8969693515178538
         ],
         "xaxis": "x",
         "y": [
          0,
          2,
          3,
          6,
          7,
          8,
          9,
          10,
          11,
          12,
          13,
          14,
          15,
          16,
          17,
          18,
          19,
          20,
          21,
          22,
          23,
          24,
          25,
          26,
          27,
          28,
          29,
          30,
          31,
          32,
          33,
          34,
          35,
          36,
          37,
          38,
          39,
          40,
          41,
          42,
          43,
          44,
          45,
          46,
          48,
          49,
          50,
          51,
          53,
          54,
          55,
          56,
          57,
          58,
          59,
          60,
          61,
          62,
          63,
          64,
          65,
          66,
          67,
          68,
          69,
          70,
          71,
          72,
          74,
          75,
          76,
          78,
          79,
          80,
          81,
          82,
          84,
          85,
          86,
          88,
          89,
          90,
          91,
          92,
          93,
          94,
          95,
          96,
          97,
          98,
          99,
          102,
          105,
          106,
          108,
          109,
          110,
          111,
          112,
          114,
          115,
          116,
          117,
          118,
          120,
          121,
          122,
          123,
          124,
          125,
          126,
          127,
          128,
          129,
          130,
          131,
          133,
          134,
          135,
          136,
          137,
          138,
          140,
          141,
          143,
          145,
          146,
          148,
          149,
          150,
          151,
          152,
          153,
          154,
          155,
          158,
          159,
          161,
          162,
          163,
          165,
          166,
          168,
          169,
          170,
          171,
          172,
          173,
          175,
          176,
          177,
          178,
          179,
          180,
          182,
          183,
          184,
          185,
          186,
          187,
          188,
          190,
          191,
          193,
          196,
          198,
          199,
          202,
          203,
          204,
          205,
          206,
          207,
          209,
          210,
          211,
          212,
          215,
          216,
          218,
          219,
          220,
          221,
          222,
          223,
          224,
          225,
          226,
          227,
          228,
          229,
          230,
          232,
          233,
          234,
          235,
          236,
          237,
          239,
          240,
          241,
          243,
          244,
          246
         ],
         "yaxis": "y",
         "type": "scatter"
        },
        {
         "hovertemplate": "Class=1<br>Positive Class Probability=%{x}<br>Sample Integer Index=%{y}<extra></extra>",
         "legendgroup": "1",
         "marker": {
          "color": "#FF2079",
          "opacity": 0.6,
          "symbol": "circle",
          "size": 6
         },
         "mode": "markers",
         "name": "1",
         "orientation": "v",
         "showlegend": true,
         "x": [
          0.009896041993958417,
          0.9625090778737513,
          0.9109803777526362,
          0.8453091547571323,
          0.7027030602426197,
          0.7968766366230763,
          0.7694979456795642,
          0.9970036268425888,
          0.9343886095473108,
          0.9990072758628703,
          0.7628211301972724,
          0.9785760008521793,
          0.9946676926038799,
          0.39336314259587846,
          0.6641579753054385,
          0.6783461942364631,
          0.7923272873263051,
          0.9943132217128852,
          0.9496887423629685,
          0.839199288388336,
          0.9381095300440707,
          0.9025751883912698,
          0.9844850834483869,
          0.9262160100825144,
          0.09830550463436502,
          0.1782628293978012,
          0.9232695874064092,
          0.9977376598738485,
          0.5497679343514119,
          0.5646004868848703,
          0.9685325813706444,
          0.9625679786909177,
          0.7610068109527736,
          0.9981486218508149,
          0.9163061750032052,
          0.9659648911420375,
          0.9941195050257936,
          0.7005503185574458,
          0.9974256816031439,
          0.8433335948649968,
          0.8220630244044361,
          0.7075418927636647,
          0.8950616039216656
         ],
         "xaxis": "x",
         "y": [
          1,
          4,
          5,
          47,
          52,
          73,
          77,
          83,
          87,
          100,
          101,
          103,
          104,
          107,
          113,
          119,
          132,
          139,
          142,
          144,
          147,
          156,
          157,
          160,
          164,
          167,
          174,
          181,
          189,
          192,
          194,
          195,
          197,
          200,
          201,
          208,
          213,
          214,
          217,
          231,
          238,
          242,
          245
         ],
         "yaxis": "y",
         "type": "scatter"
        }
       ],
       "layout": {
        "template": {
         "data": {
          "histogram2dcontour": [
           {
            "type": "histogram2dcontour",
            "colorbar": {
             "outlinewidth": 0,
             "ticks": ""
            },
            "colorscale": [
             [
              0.0,
              "#0d0887"
             ],
             [
              0.1111111111111111,
              "#46039f"
             ],
             [
              0.2222222222222222,
              "#7201a8"
             ],
             [
              0.3333333333333333,
              "#9c179e"
             ],
             [
              0.4444444444444444,
              "#bd3786"
             ],
             [
              0.5555555555555556,
              "#d8576b"
             ],
             [
              0.6666666666666666,
              "#ed7953"
             ],
             [
              0.7777777777777778,
              "#fb9f3a"
             ],
             [
              0.8888888888888888,
              "#fdca26"
             ],
             [
              1.0,
              "#f0f921"
             ]
            ]
           }
          ],
          "choropleth": [
           {
            "type": "choropleth",
            "colorbar": {
             "outlinewidth": 0,
             "ticks": ""
            }
           }
          ],
          "histogram2d": [
           {
            "type": "histogram2d",
            "colorbar": {
             "outlinewidth": 0,
             "ticks": ""
            },
            "colorscale": [
             [
              0.0,
              "#0d0887"
             ],
             [
              0.1111111111111111,
              "#46039f"
             ],
             [
              0.2222222222222222,
              "#7201a8"
             ],
             [
              0.3333333333333333,
              "#9c179e"
             ],
             [
              0.4444444444444444,
              "#bd3786"
             ],
             [
              0.5555555555555556,
              "#d8576b"
             ],
             [
              0.6666666666666666,
              "#ed7953"
             ],
             [
              0.7777777777777778,
              "#fb9f3a"
             ],
             [
              0.8888888888888888,
              "#fdca26"
             ],
             [
              1.0,
              "#f0f921"
             ]
            ]
           }
          ],
          "heatmap": [
           {
            "type": "heatmap",
            "colorbar": {
             "outlinewidth": 0,
             "ticks": ""
            },
            "colorscale": [
             [
              0.0,
              "#0d0887"
             ],
             [
              0.1111111111111111,
              "#46039f"
             ],
             [
              0.2222222222222222,
              "#7201a8"
             ],
             [
              0.3333333333333333,
              "#9c179e"
             ],
             [
              0.4444444444444444,
              "#bd3786"
             ],
             [
              0.5555555555555556,
              "#d8576b"
             ],
             [
              0.6666666666666666,
              "#ed7953"
             ],
             [
              0.7777777777777778,
              "#fb9f3a"
             ],
             [
              0.8888888888888888,
              "#fdca26"
             ],
             [
              1.0,
              "#f0f921"
             ]
            ]
           }
          ],
          "heatmapgl": [
           {
            "type": "heatmapgl",
            "colorbar": {
             "outlinewidth": 0,
             "ticks": ""
            },
            "colorscale": [
             [
              0.0,
              "#0d0887"
             ],
             [
              0.1111111111111111,
              "#46039f"
             ],
             [
              0.2222222222222222,
              "#7201a8"
             ],
             [
              0.3333333333333333,
              "#9c179e"
             ],
             [
              0.4444444444444444,
              "#bd3786"
             ],
             [
              0.5555555555555556,
              "#d8576b"
             ],
             [
              0.6666666666666666,
              "#ed7953"
             ],
             [
              0.7777777777777778,
              "#fb9f3a"
             ],
             [
              0.8888888888888888,
              "#fdca26"
             ],
             [
              1.0,
              "#f0f921"
             ]
            ]
           }
          ],
          "contourcarpet": [
           {
            "type": "contourcarpet",
            "colorbar": {
             "outlinewidth": 0,
             "ticks": ""
            }
           }
          ],
          "contour": [
           {
            "type": "contour",
            "colorbar": {
             "outlinewidth": 0,
             "ticks": ""
            },
            "colorscale": [
             [
              0.0,
              "#0d0887"
             ],
             [
              0.1111111111111111,
              "#46039f"
             ],
             [
              0.2222222222222222,
              "#7201a8"
             ],
             [
              0.3333333333333333,
              "#9c179e"
             ],
             [
              0.4444444444444444,
              "#bd3786"
             ],
             [
              0.5555555555555556,
              "#d8576b"
             ],
             [
              0.6666666666666666,
              "#ed7953"
             ],
             [
              0.7777777777777778,
              "#fb9f3a"
             ],
             [
              0.8888888888888888,
              "#fdca26"
             ],
             [
              1.0,
              "#f0f921"
             ]
            ]
           }
          ],
          "surface": [
           {
            "type": "surface",
            "colorbar": {
             "outlinewidth": 0,
             "ticks": ""
            },
            "colorscale": [
             [
              0.0,
              "#0d0887"
             ],
             [
              0.1111111111111111,
              "#46039f"
             ],
             [
              0.2222222222222222,
              "#7201a8"
             ],
             [
              0.3333333333333333,
              "#9c179e"
             ],
             [
              0.4444444444444444,
              "#bd3786"
             ],
             [
              0.5555555555555556,
              "#d8576b"
             ],
             [
              0.6666666666666666,
              "#ed7953"
             ],
             [
              0.7777777777777778,
              "#fb9f3a"
             ],
             [
              0.8888888888888888,
              "#fdca26"
             ],
             [
              1.0,
              "#f0f921"
             ]
            ]
           }
          ],
          "mesh3d": [
           {
            "type": "mesh3d",
            "colorbar": {
             "outlinewidth": 0,
             "ticks": ""
            }
           }
          ],
          "scatter": [
           {
            "fillpattern": {
             "fillmode": "overlay",
             "size": 10,
             "solidity": 0.2
            },
            "type": "scatter"
           }
          ],
          "parcoords": [
           {
            "type": "parcoords",
            "line": {
             "colorbar": {
              "outlinewidth": 0,
              "ticks": ""
             }
            }
           }
          ],
          "scatterpolargl": [
           {
            "type": "scatterpolargl",
            "marker": {
             "colorbar": {
              "outlinewidth": 0,
              "ticks": ""
             }
            }
           }
          ],
          "bar": [
           {
            "error_x": {
             "color": "#2a3f5f"
            },
            "error_y": {
             "color": "#2a3f5f"
            },
            "marker": {
             "line": {
              "color": "#E5ECF6",
              "width": 0.5
             },
             "pattern": {
              "fillmode": "overlay",
              "size": 10,
              "solidity": 0.2
             }
            },
            "type": "bar"
           }
          ],
          "scattergeo": [
           {
            "type": "scattergeo",
            "marker": {
             "colorbar": {
              "outlinewidth": 0,
              "ticks": ""
             }
            }
           }
          ],
          "scatterpolar": [
           {
            "type": "scatterpolar",
            "marker": {
             "colorbar": {
              "outlinewidth": 0,
              "ticks": ""
             }
            }
           }
          ],
          "histogram": [
           {
            "marker": {
             "pattern": {
              "fillmode": "overlay",
              "size": 10,
              "solidity": 0.2
             }
            },
            "type": "histogram"
           }
          ],
          "scattergl": [
           {
            "type": "scattergl",
            "marker": {
             "colorbar": {
              "outlinewidth": 0,
              "ticks": ""
             }
            }
           }
          ],
          "scatter3d": [
           {
            "type": "scatter3d",
            "line": {
             "colorbar": {
              "outlinewidth": 0,
              "ticks": ""
             }
            },
            "marker": {
             "colorbar": {
              "outlinewidth": 0,
              "ticks": ""
             }
            }
           }
          ],
          "scattermapbox": [
           {
            "type": "scattermapbox",
            "marker": {
             "colorbar": {
              "outlinewidth": 0,
              "ticks": ""
             }
            }
           }
          ],
          "scatterternary": [
           {
            "type": "scatterternary",
            "marker": {
             "colorbar": {
              "outlinewidth": 0,
              "ticks": ""
             }
            }
           }
          ],
          "scattercarpet": [
           {
            "type": "scattercarpet",
            "marker": {
             "colorbar": {
              "outlinewidth": 0,
              "ticks": ""
             }
            }
           }
          ],
          "carpet": [
           {
            "aaxis": {
             "endlinecolor": "#2a3f5f",
             "gridcolor": "white",
             "linecolor": "white",
             "minorgridcolor": "white",
             "startlinecolor": "#2a3f5f"
            },
            "baxis": {
             "endlinecolor": "#2a3f5f",
             "gridcolor": "white",
             "linecolor": "white",
             "minorgridcolor": "white",
             "startlinecolor": "#2a3f5f"
            },
            "type": "carpet"
           }
          ],
          "table": [
           {
            "cells": {
             "fill": {
              "color": "#EBF0F8"
             },
             "line": {
              "color": "white"
             }
            },
            "header": {
             "fill": {
              "color": "#C8D4E3"
             },
             "line": {
              "color": "white"
             }
            },
            "type": "table"
           }
          ],
          "barpolar": [
           {
            "marker": {
             "line": {
              "color": "#E5ECF6",
              "width": 0.5
             },
             "pattern": {
              "fillmode": "overlay",
              "size": 10,
              "solidity": 0.2
             }
            },
            "type": "barpolar"
           }
          ],
          "pie": [
           {
            "automargin": true,
            "type": "pie"
           }
          ]
         },
         "layout": {
          "autotypenumbers": "strict",
          "colorway": [
           "#636efa",
           "#EF553B",
           "#00cc96",
           "#ab63fa",
           "#FFA15A",
           "#19d3f3",
           "#FF6692",
           "#B6E880",
           "#FF97FF",
           "#FECB52"
          ],
          "font": {
           "color": "#2a3f5f"
          },
          "hovermode": "closest",
          "hoverlabel": {
           "align": "left"
          },
          "paper_bgcolor": "white",
          "plot_bgcolor": "#E5ECF6",
          "polar": {
           "bgcolor": "#E5ECF6",
           "angularaxis": {
            "gridcolor": "white",
            "linecolor": "white",
            "ticks": ""
           },
           "radialaxis": {
            "gridcolor": "white",
            "linecolor": "white",
            "ticks": ""
           }
          },
          "ternary": {
           "bgcolor": "#E5ECF6",
           "aaxis": {
            "gridcolor": "white",
            "linecolor": "white",
            "ticks": ""
           },
           "baxis": {
            "gridcolor": "white",
            "linecolor": "white",
            "ticks": ""
           },
           "caxis": {
            "gridcolor": "white",
            "linecolor": "white",
            "ticks": ""
           }
          },
          "coloraxis": {
           "colorbar": {
            "outlinewidth": 0,
            "ticks": ""
           }
          },
          "colorscale": {
           "sequential": [
            [
             0.0,
             "#0d0887"
            ],
            [
             0.1111111111111111,
             "#46039f"
            ],
            [
             0.2222222222222222,
             "#7201a8"
            ],
            [
             0.3333333333333333,
             "#9c179e"
            ],
            [
             0.4444444444444444,
             "#bd3786"
            ],
            [
             0.5555555555555556,
             "#d8576b"
            ],
            [
             0.6666666666666666,
             "#ed7953"
            ],
            [
             0.7777777777777778,
             "#fb9f3a"
            ],
            [
             0.8888888888888888,
             "#fdca26"
            ],
            [
             1.0,
             "#f0f921"
            ]
           ],
           "sequentialminus": [
            [
             0.0,
             "#0d0887"
            ],
            [
             0.1111111111111111,
             "#46039f"
            ],
            [
             0.2222222222222222,
             "#7201a8"
            ],
            [
             0.3333333333333333,
             "#9c179e"
            ],
            [
             0.4444444444444444,
             "#bd3786"
            ],
            [
             0.5555555555555556,
             "#d8576b"
            ],
            [
             0.6666666666666666,
             "#ed7953"
            ],
            [
             0.7777777777777778,
             "#fb9f3a"
            ],
            [
             0.8888888888888888,
             "#fdca26"
            ],
            [
             1.0,
             "#f0f921"
            ]
           ],
           "diverging": [
            [
             0,
             "#8e0152"
            ],
            [
             0.1,
             "#c51b7d"
            ],
            [
             0.2,
             "#de77ae"
            ],
            [
             0.3,
             "#f1b6da"
            ],
            [
             0.4,
             "#fde0ef"
            ],
            [
             0.5,
             "#f7f7f7"
            ],
            [
             0.6,
             "#e6f5d0"
            ],
            [
             0.7,
             "#b8e186"
            ],
            [
             0.8,
             "#7fbc41"
            ],
            [
             0.9,
             "#4d9221"
            ],
            [
             1,
             "#276419"
            ]
           ]
          },
          "xaxis": {
           "gridcolor": "white",
           "linecolor": "white",
           "ticks": "",
           "title": {
            "standoff": 15
           },
           "zerolinecolor": "white",
           "automargin": true,
           "zerolinewidth": 2
          },
          "yaxis": {
           "gridcolor": "white",
           "linecolor": "white",
           "ticks": "",
           "title": {
            "standoff": 15
           },
           "zerolinecolor": "white",
           "automargin": true,
           "zerolinewidth": 2
          },
          "scene": {
           "xaxis": {
            "backgroundcolor": "#E5ECF6",
            "gridcolor": "white",
            "linecolor": "white",
            "showbackground": true,
            "ticks": "",
            "zerolinecolor": "white",
            "gridwidth": 2
           },
           "yaxis": {
            "backgroundcolor": "#E5ECF6",
            "gridcolor": "white",
            "linecolor": "white",
            "showbackground": true,
            "ticks": "",
            "zerolinecolor": "white",
            "gridwidth": 2
           },
           "zaxis": {
            "backgroundcolor": "#E5ECF6",
            "gridcolor": "white",
            "linecolor": "white",
            "showbackground": true,
            "ticks": "",
            "zerolinecolor": "white",
            "gridwidth": 2
           }
          },
          "shapedefaults": {
           "line": {
            "color": "#2a3f5f"
           }
          },
          "annotationdefaults": {
           "arrowcolor": "#2a3f5f",
           "arrowhead": 0,
           "arrowwidth": 1
          },
          "geo": {
           "bgcolor": "white",
           "landcolor": "#E5ECF6",
           "subunitcolor": "white",
           "showland": true,
           "showlakes": true,
           "lakecolor": "white"
          },
          "title": {
           "x": 0.05
          },
          "mapbox": {
           "style": "light"
          }
         }
        },
        "xaxis": {
         "anchor": "y",
         "domain": [
          0.0,
          1.0
         ],
         "title": {
          "text": "Positive Class Probability"
         },
         "range": [
          -0.02,
          1.02
         ]
        },
        "yaxis": {
         "anchor": "x",
         "domain": [
          0.0,
          1.0
         ],
         "title": {
          "text": "Sample Integer Index"
         }
        },
        "legend": {
         "title": {
          "text": "Class"
         },
         "tracegroupgap": 0,
         "orientation": "h",
         "yanchor": "bottom",
         "xanchor": "right",
         "y": 1.05,
         "x": 1,
         "itemsizing": "constant"
        },
        "title": {
         "text": "Training Dataset - Out of Fold Predictions",
         "font": {
          "size": 18
         }
        },
        "height": 540,
        "width": 840
       },
       "config": {
        "plotlyServerURL": "https://plot.ly"
       }
      },
      "text/html": "<div>                            <div id=\"7981b6ce-1d5e-4dc9-bd57-f52875467bc0\" class=\"plotly-graph-div\" style=\"height:540px; width:840px;\"></div>            <script type=\"text/javascript\">                require([\"plotly\"], function(Plotly) {                    window.PLOTLYENV=window.PLOTLYENV || {};                                    if (document.getElementById(\"7981b6ce-1d5e-4dc9-bd57-f52875467bc0\")) {                    Plotly.newPlot(                        \"7981b6ce-1d5e-4dc9-bd57-f52875467bc0\",                        [{\"hovertemplate\":\"Class=0\\u003cbr\\u003ePositive Class Probability=%{x}\\u003cbr\\u003eSample Integer Index=%{y}\\u003cextra\\u003e\\u003c\\u002fextra\\u003e\",\"legendgroup\":\"0\",\"marker\":{\"color\":\"#010D36\",\"opacity\":0.6,\"symbol\":\"diamond\",\"size\":6},\"mode\":\"markers\",\"name\":\"0\",\"orientation\":\"v\",\"showlegend\":true,\"x\":[0.019095621947619153,0.002488561481146165,0.003979233869514256,0.2088793920679538,0.41147729091988067,0.0018036932462786395,0.04481584299300635,0.00342467221972455,0.3737213005567507,0.029464688299510624,0.009419610118620391,0.019223364318154492,0.003085209220607091,0.0028483799243063687,0.1483558296046035,0.2984036069424837,0.019916621731133,0.03285431459946678,0.002559788502391133,0.008385614881282014,0.20359329495622489,0.43411919569638613,0.005194719507620578,0.003789740692056983,0.047243055916969784,0.007917014874922527,0.1529704751250662,0.4059888836152154,0.02139876111911159,0.041506089930431804,0.0038048880814094514,0.03488912217904106,0.033428331513934484,0.020747544755091312,0.04541928761080859,0.0939786670281809,0.0005957570364506629,0.9798323091209504,0.5532839248135593,0.18799158240770256,0.00176629136348004,0.13155821934030126,0.1424453115928962,0.0787055764762454,0.008193312904667979,0.05134444154656335,0.09506925651676798,0.0036403368283011587,0.0029300400710547832,0.004620091353075847,0.003674041379761747,0.014263594411558535,0.6377597947854621,0.016349001785470427,0.011473483477174529,0.14316974893370601,0.01937705851822722,0.029231255620352236,0.0294553077654354,0.013566773012340884,0.004569548824071358,0.004105764158375292,0.9132461989075975,0.5681147329589499,0.02894506196882144,0.17635035796633558,0.004293648020744959,0.0018888438440701149,0.6319056641824715,0.09178366195547111,0.013362359252630306,0.2572612220020734,0.0923962839340623,0.0002861161031148583,0.01579005148099192,0.2903449564948494,0.06438885635110418,0.005065712911772484,0.02083733197129254,0.004949265928559708,0.21266454601356308,0.012383147648257965,0.03519850190121815,0.006228050614334366,0.01178840735443477,0.0021659610171210946,0.01962661492374197,0.010919279493017096,0.0015406258467605164,0.18466719426084985,0.37489756611315805,0.032406379627840085,0.00746462304600001,0.008012212321371332,0.7929892037696449,0.03181915481970302,0.025821931209598453,0.06341324653850461,0.029033404173273734,0.009792758075279467,0.003608833446782079,0.016142217099460905,0.045008310973583036,0.02346646603692452,0.033955558860416894,0.0003216035053561994,0.005016192452348186,0.7826556747412612,0.7415060455165707,0.05059615659127221,0.004005272145062858,0.025690418568568817,0.2640530779968454,0.009975444985022532,0.6219037992544886,0.05830490545049758,0.045219403605318086,0.2497911968569442,0.04765345450696871,0.0074624385666540016,0.005698293365816914,0.06442779032052698,0.011428681235255244,0.082887463925743,0.0013357318000566593,0.11857321644160546,0.023426115911382002,0.20333451823060414,0.7098139582709951,0.13368770747341596,0.034076430315420306,0.0038627830879211624,0.24087402748699976,0.07787581938710679,0.006486568100178098,0.0026592236478811416,0.0014152035535608342,0.021691518257680575,0.003903663076810156,0.01298023521922857,0.3865835741675703,0.002648079190584624,0.027813962576676877,0.6305460379300843,0.22742541013642822,0.02382049208949594,0.013868857180492758,0.00765192869156324,0.09059570567525448,0.09164600522422649,0.019370837800170935,0.2982048912324136,0.005881982893338022,0.030934572168240942,0.023997848219331753,0.010776550448016235,0.4532961424674602,0.010378550316721089,0.004737833819308914,0.023290056024130566,0.1658579117310398,0.040050307104694684,0.32061099428193796,0.5974637578807853,0.3418515830333382,0.10136822202898915,0.018055407740230404,0.017169541939524836,0.006784989042298386,0.10635503734755795,0.00933533520871557,0.03924969205025988,0.0018700786213921336,0.332327090942268,0.10389133847089736,0.0884337760991404,0.002402962897556572,0.04606085250109622,0.0181762148893378,0.0009426045316158866,0.045418345624151917,0.22045469397026743,0.45125971860272457,0.0018248386481716753,0.23551740660208248,0.0014330902754335682,0.01896871376779003,0.0004734314930350954,0.09272409050374086,0.01127793484047053,0.006977604511966636,0.03533296703987136,0.00807678017987003,0.009326105165074408,0.018535743480804442,0.11099160848301233,0.12725101557364393,0.004317103812552815,0.017886932377461775,0.05045722499721318,0.017067781584742106,0.013250475399230887,0.0043974489658840455,0.8969693515178538],\"xaxis\":\"x\",\"y\":[0,2,3,6,7,8,9,10,11,12,13,14,15,16,17,18,19,20,21,22,23,24,25,26,27,28,29,30,31,32,33,34,35,36,37,38,39,40,41,42,43,44,45,46,48,49,50,51,53,54,55,56,57,58,59,60,61,62,63,64,65,66,67,68,69,70,71,72,74,75,76,78,79,80,81,82,84,85,86,88,89,90,91,92,93,94,95,96,97,98,99,102,105,106,108,109,110,111,112,114,115,116,117,118,120,121,122,123,124,125,126,127,128,129,130,131,133,134,135,136,137,138,140,141,143,145,146,148,149,150,151,152,153,154,155,158,159,161,162,163,165,166,168,169,170,171,172,173,175,176,177,178,179,180,182,183,184,185,186,187,188,190,191,193,196,198,199,202,203,204,205,206,207,209,210,211,212,215,216,218,219,220,221,222,223,224,225,226,227,228,229,230,232,233,234,235,236,237,239,240,241,243,244,246],\"yaxis\":\"y\",\"type\":\"scatter\"},{\"hovertemplate\":\"Class=1\\u003cbr\\u003ePositive Class Probability=%{x}\\u003cbr\\u003eSample Integer Index=%{y}\\u003cextra\\u003e\\u003c\\u002fextra\\u003e\",\"legendgroup\":\"1\",\"marker\":{\"color\":\"#FF2079\",\"opacity\":0.6,\"symbol\":\"circle\",\"size\":6},\"mode\":\"markers\",\"name\":\"1\",\"orientation\":\"v\",\"showlegend\":true,\"x\":[0.009896041993958417,0.9625090778737513,0.9109803777526362,0.8453091547571323,0.7027030602426197,0.7968766366230763,0.7694979456795642,0.9970036268425888,0.9343886095473108,0.9990072758628703,0.7628211301972724,0.9785760008521793,0.9946676926038799,0.39336314259587846,0.6641579753054385,0.6783461942364631,0.7923272873263051,0.9943132217128852,0.9496887423629685,0.839199288388336,0.9381095300440707,0.9025751883912698,0.9844850834483869,0.9262160100825144,0.09830550463436502,0.1782628293978012,0.9232695874064092,0.9977376598738485,0.5497679343514119,0.5646004868848703,0.9685325813706444,0.9625679786909177,0.7610068109527736,0.9981486218508149,0.9163061750032052,0.9659648911420375,0.9941195050257936,0.7005503185574458,0.9974256816031439,0.8433335948649968,0.8220630244044361,0.7075418927636647,0.8950616039216656],\"xaxis\":\"x\",\"y\":[1,4,5,47,52,73,77,83,87,100,101,103,104,107,113,119,132,139,142,144,147,156,157,160,164,167,174,181,189,192,194,195,197,200,201,208,213,214,217,231,238,242,245],\"yaxis\":\"y\",\"type\":\"scatter\"}],                        {\"template\":{\"data\":{\"histogram2dcontour\":[{\"type\":\"histogram2dcontour\",\"colorbar\":{\"outlinewidth\":0,\"ticks\":\"\"},\"colorscale\":[[0.0,\"#0d0887\"],[0.1111111111111111,\"#46039f\"],[0.2222222222222222,\"#7201a8\"],[0.3333333333333333,\"#9c179e\"],[0.4444444444444444,\"#bd3786\"],[0.5555555555555556,\"#d8576b\"],[0.6666666666666666,\"#ed7953\"],[0.7777777777777778,\"#fb9f3a\"],[0.8888888888888888,\"#fdca26\"],[1.0,\"#f0f921\"]]}],\"choropleth\":[{\"type\":\"choropleth\",\"colorbar\":{\"outlinewidth\":0,\"ticks\":\"\"}}],\"histogram2d\":[{\"type\":\"histogram2d\",\"colorbar\":{\"outlinewidth\":0,\"ticks\":\"\"},\"colorscale\":[[0.0,\"#0d0887\"],[0.1111111111111111,\"#46039f\"],[0.2222222222222222,\"#7201a8\"],[0.3333333333333333,\"#9c179e\"],[0.4444444444444444,\"#bd3786\"],[0.5555555555555556,\"#d8576b\"],[0.6666666666666666,\"#ed7953\"],[0.7777777777777778,\"#fb9f3a\"],[0.8888888888888888,\"#fdca26\"],[1.0,\"#f0f921\"]]}],\"heatmap\":[{\"type\":\"heatmap\",\"colorbar\":{\"outlinewidth\":0,\"ticks\":\"\"},\"colorscale\":[[0.0,\"#0d0887\"],[0.1111111111111111,\"#46039f\"],[0.2222222222222222,\"#7201a8\"],[0.3333333333333333,\"#9c179e\"],[0.4444444444444444,\"#bd3786\"],[0.5555555555555556,\"#d8576b\"],[0.6666666666666666,\"#ed7953\"],[0.7777777777777778,\"#fb9f3a\"],[0.8888888888888888,\"#fdca26\"],[1.0,\"#f0f921\"]]}],\"heatmapgl\":[{\"type\":\"heatmapgl\",\"colorbar\":{\"outlinewidth\":0,\"ticks\":\"\"},\"colorscale\":[[0.0,\"#0d0887\"],[0.1111111111111111,\"#46039f\"],[0.2222222222222222,\"#7201a8\"],[0.3333333333333333,\"#9c179e\"],[0.4444444444444444,\"#bd3786\"],[0.5555555555555556,\"#d8576b\"],[0.6666666666666666,\"#ed7953\"],[0.7777777777777778,\"#fb9f3a\"],[0.8888888888888888,\"#fdca26\"],[1.0,\"#f0f921\"]]}],\"contourcarpet\":[{\"type\":\"contourcarpet\",\"colorbar\":{\"outlinewidth\":0,\"ticks\":\"\"}}],\"contour\":[{\"type\":\"contour\",\"colorbar\":{\"outlinewidth\":0,\"ticks\":\"\"},\"colorscale\":[[0.0,\"#0d0887\"],[0.1111111111111111,\"#46039f\"],[0.2222222222222222,\"#7201a8\"],[0.3333333333333333,\"#9c179e\"],[0.4444444444444444,\"#bd3786\"],[0.5555555555555556,\"#d8576b\"],[0.6666666666666666,\"#ed7953\"],[0.7777777777777778,\"#fb9f3a\"],[0.8888888888888888,\"#fdca26\"],[1.0,\"#f0f921\"]]}],\"surface\":[{\"type\":\"surface\",\"colorbar\":{\"outlinewidth\":0,\"ticks\":\"\"},\"colorscale\":[[0.0,\"#0d0887\"],[0.1111111111111111,\"#46039f\"],[0.2222222222222222,\"#7201a8\"],[0.3333333333333333,\"#9c179e\"],[0.4444444444444444,\"#bd3786\"],[0.5555555555555556,\"#d8576b\"],[0.6666666666666666,\"#ed7953\"],[0.7777777777777778,\"#fb9f3a\"],[0.8888888888888888,\"#fdca26\"],[1.0,\"#f0f921\"]]}],\"mesh3d\":[{\"type\":\"mesh3d\",\"colorbar\":{\"outlinewidth\":0,\"ticks\":\"\"}}],\"scatter\":[{\"fillpattern\":{\"fillmode\":\"overlay\",\"size\":10,\"solidity\":0.2},\"type\":\"scatter\"}],\"parcoords\":[{\"type\":\"parcoords\",\"line\":{\"colorbar\":{\"outlinewidth\":0,\"ticks\":\"\"}}}],\"scatterpolargl\":[{\"type\":\"scatterpolargl\",\"marker\":{\"colorbar\":{\"outlinewidth\":0,\"ticks\":\"\"}}}],\"bar\":[{\"error_x\":{\"color\":\"#2a3f5f\"},\"error_y\":{\"color\":\"#2a3f5f\"},\"marker\":{\"line\":{\"color\":\"#E5ECF6\",\"width\":0.5},\"pattern\":{\"fillmode\":\"overlay\",\"size\":10,\"solidity\":0.2}},\"type\":\"bar\"}],\"scattergeo\":[{\"type\":\"scattergeo\",\"marker\":{\"colorbar\":{\"outlinewidth\":0,\"ticks\":\"\"}}}],\"scatterpolar\":[{\"type\":\"scatterpolar\",\"marker\":{\"colorbar\":{\"outlinewidth\":0,\"ticks\":\"\"}}}],\"histogram\":[{\"marker\":{\"pattern\":{\"fillmode\":\"overlay\",\"size\":10,\"solidity\":0.2}},\"type\":\"histogram\"}],\"scattergl\":[{\"type\":\"scattergl\",\"marker\":{\"colorbar\":{\"outlinewidth\":0,\"ticks\":\"\"}}}],\"scatter3d\":[{\"type\":\"scatter3d\",\"line\":{\"colorbar\":{\"outlinewidth\":0,\"ticks\":\"\"}},\"marker\":{\"colorbar\":{\"outlinewidth\":0,\"ticks\":\"\"}}}],\"scattermapbox\":[{\"type\":\"scattermapbox\",\"marker\":{\"colorbar\":{\"outlinewidth\":0,\"ticks\":\"\"}}}],\"scatterternary\":[{\"type\":\"scatterternary\",\"marker\":{\"colorbar\":{\"outlinewidth\":0,\"ticks\":\"\"}}}],\"scattercarpet\":[{\"type\":\"scattercarpet\",\"marker\":{\"colorbar\":{\"outlinewidth\":0,\"ticks\":\"\"}}}],\"carpet\":[{\"aaxis\":{\"endlinecolor\":\"#2a3f5f\",\"gridcolor\":\"white\",\"linecolor\":\"white\",\"minorgridcolor\":\"white\",\"startlinecolor\":\"#2a3f5f\"},\"baxis\":{\"endlinecolor\":\"#2a3f5f\",\"gridcolor\":\"white\",\"linecolor\":\"white\",\"minorgridcolor\":\"white\",\"startlinecolor\":\"#2a3f5f\"},\"type\":\"carpet\"}],\"table\":[{\"cells\":{\"fill\":{\"color\":\"#EBF0F8\"},\"line\":{\"color\":\"white\"}},\"header\":{\"fill\":{\"color\":\"#C8D4E3\"},\"line\":{\"color\":\"white\"}},\"type\":\"table\"}],\"barpolar\":[{\"marker\":{\"line\":{\"color\":\"#E5ECF6\",\"width\":0.5},\"pattern\":{\"fillmode\":\"overlay\",\"size\":10,\"solidity\":0.2}},\"type\":\"barpolar\"}],\"pie\":[{\"automargin\":true,\"type\":\"pie\"}]},\"layout\":{\"autotypenumbers\":\"strict\",\"colorway\":[\"#636efa\",\"#EF553B\",\"#00cc96\",\"#ab63fa\",\"#FFA15A\",\"#19d3f3\",\"#FF6692\",\"#B6E880\",\"#FF97FF\",\"#FECB52\"],\"font\":{\"color\":\"#2a3f5f\"},\"hovermode\":\"closest\",\"hoverlabel\":{\"align\":\"left\"},\"paper_bgcolor\":\"white\",\"plot_bgcolor\":\"#E5ECF6\",\"polar\":{\"bgcolor\":\"#E5ECF6\",\"angularaxis\":{\"gridcolor\":\"white\",\"linecolor\":\"white\",\"ticks\":\"\"},\"radialaxis\":{\"gridcolor\":\"white\",\"linecolor\":\"white\",\"ticks\":\"\"}},\"ternary\":{\"bgcolor\":\"#E5ECF6\",\"aaxis\":{\"gridcolor\":\"white\",\"linecolor\":\"white\",\"ticks\":\"\"},\"baxis\":{\"gridcolor\":\"white\",\"linecolor\":\"white\",\"ticks\":\"\"},\"caxis\":{\"gridcolor\":\"white\",\"linecolor\":\"white\",\"ticks\":\"\"}},\"coloraxis\":{\"colorbar\":{\"outlinewidth\":0,\"ticks\":\"\"}},\"colorscale\":{\"sequential\":[[0.0,\"#0d0887\"],[0.1111111111111111,\"#46039f\"],[0.2222222222222222,\"#7201a8\"],[0.3333333333333333,\"#9c179e\"],[0.4444444444444444,\"#bd3786\"],[0.5555555555555556,\"#d8576b\"],[0.6666666666666666,\"#ed7953\"],[0.7777777777777778,\"#fb9f3a\"],[0.8888888888888888,\"#fdca26\"],[1.0,\"#f0f921\"]],\"sequentialminus\":[[0.0,\"#0d0887\"],[0.1111111111111111,\"#46039f\"],[0.2222222222222222,\"#7201a8\"],[0.3333333333333333,\"#9c179e\"],[0.4444444444444444,\"#bd3786\"],[0.5555555555555556,\"#d8576b\"],[0.6666666666666666,\"#ed7953\"],[0.7777777777777778,\"#fb9f3a\"],[0.8888888888888888,\"#fdca26\"],[1.0,\"#f0f921\"]],\"diverging\":[[0,\"#8e0152\"],[0.1,\"#c51b7d\"],[0.2,\"#de77ae\"],[0.3,\"#f1b6da\"],[0.4,\"#fde0ef\"],[0.5,\"#f7f7f7\"],[0.6,\"#e6f5d0\"],[0.7,\"#b8e186\"],[0.8,\"#7fbc41\"],[0.9,\"#4d9221\"],[1,\"#276419\"]]},\"xaxis\":{\"gridcolor\":\"white\",\"linecolor\":\"white\",\"ticks\":\"\",\"title\":{\"standoff\":15},\"zerolinecolor\":\"white\",\"automargin\":true,\"zerolinewidth\":2},\"yaxis\":{\"gridcolor\":\"white\",\"linecolor\":\"white\",\"ticks\":\"\",\"title\":{\"standoff\":15},\"zerolinecolor\":\"white\",\"automargin\":true,\"zerolinewidth\":2},\"scene\":{\"xaxis\":{\"backgroundcolor\":\"#E5ECF6\",\"gridcolor\":\"white\",\"linecolor\":\"white\",\"showbackground\":true,\"ticks\":\"\",\"zerolinecolor\":\"white\",\"gridwidth\":2},\"yaxis\":{\"backgroundcolor\":\"#E5ECF6\",\"gridcolor\":\"white\",\"linecolor\":\"white\",\"showbackground\":true,\"ticks\":\"\",\"zerolinecolor\":\"white\",\"gridwidth\":2},\"zaxis\":{\"backgroundcolor\":\"#E5ECF6\",\"gridcolor\":\"white\",\"linecolor\":\"white\",\"showbackground\":true,\"ticks\":\"\",\"zerolinecolor\":\"white\",\"gridwidth\":2}},\"shapedefaults\":{\"line\":{\"color\":\"#2a3f5f\"}},\"annotationdefaults\":{\"arrowcolor\":\"#2a3f5f\",\"arrowhead\":0,\"arrowwidth\":1},\"geo\":{\"bgcolor\":\"white\",\"landcolor\":\"#E5ECF6\",\"subunitcolor\":\"white\",\"showland\":true,\"showlakes\":true,\"lakecolor\":\"white\"},\"title\":{\"x\":0.05},\"mapbox\":{\"style\":\"light\"}}},\"xaxis\":{\"anchor\":\"y\",\"domain\":[0.0,1.0],\"title\":{\"text\":\"Positive Class Probability\"},\"range\":[-0.02,1.02]},\"yaxis\":{\"anchor\":\"x\",\"domain\":[0.0,1.0],\"title\":{\"text\":\"Sample Integer Index\"}},\"legend\":{\"title\":{\"text\":\"Class\"},\"tracegroupgap\":0,\"orientation\":\"h\",\"yanchor\":\"bottom\",\"xanchor\":\"right\",\"y\":1.05,\"x\":1,\"itemsizing\":\"constant\"},\"title\":{\"text\":\"Training Dataset - Out of Fold Predictions\",\"font\":{\"size\":18}},\"height\":540,\"width\":840},                        {\"responsive\": true}                    ).then(function(){\n                            \nvar gd = document.getElementById('7981b6ce-1d5e-4dc9-bd57-f52875467bc0');\nvar x = new MutationObserver(function (mutations, observer) {{\n        var display = window.getComputedStyle(gd).display;\n        if (!display || display === 'none') {{\n            console.log([gd, 'removed!']);\n            Plotly.purge(gd);\n            observer.disconnect();\n        }}\n}});\n\n// Listen for the removal of the full notebook cells\nvar notebookContainer = gd.closest('#notebook-container');\nif (notebookContainer) {{\n    x.observe(notebookContainer, {childList: true});\n}}\n\n// Listen for the clearing of the current output cell\nvar outputEl = gd.closest('.output');\nif (outputEl) {{\n    x.observe(outputEl, {childList: true});\n}}\n\n                        })                };                });            </script>        </div>"
     },
     "metadata": {},
     "output_type": "display_data"
    }
   ],
   "source": [
    "plot_results(targs, pred_df['catboost_with_resampling'])"
   ],
   "metadata": {
    "collapsed": false,
    "ExecuteTime": {
     "end_time": "2023-08-07T16:49:22.125360Z",
     "start_time": "2023-08-07T16:49:22.063097Z"
    }
   },
   "id": "b159a7232333ba4e"
  },
  {
   "cell_type": "code",
   "execution_count": 235,
   "outputs": [
    {
     "data": {
      "application/vnd.plotly.v1+json": {
       "data": [
        {
         "hovertemplate": "Class=0<br>Positive Class Probability=%{x}<br>Sample Integer Index=%{y}<extra></extra>",
         "legendgroup": "0",
         "marker": {
          "color": "#010D36",
          "opacity": 0.6,
          "symbol": "diamond",
          "size": 6
         },
         "mode": "markers",
         "name": "0",
         "orientation": "v",
         "showlegend": true,
         "x": [
          1.3644611499330495E-5,
          7.563502549601253E-6,
          8.079350809566677E-4,
          0.0026872095186263323,
          0.014049182645976543,
          0.0011307982495054603,
          1.983091642614454E-4,
          4.6733501221751794E-5,
          0.10119222849607468,
          0.4904676377773285,
          1.0521113290451467E-4,
          0.012782597914338112,
          0.002012218115851283,
          1.071456354111433E-4,
          0.051454994827508926,
          0.0024007607717067003,
          9.655306348577142E-5,
          0.03655492886900902,
          4.74772896268405E-5,
          2.258123568026349E-4,
          0.0013700441922992468,
          0.05573180690407753,
          1.7759879483492114E-5,
          0.0029417776968330145,
          6.66293257381767E-4,
          0.002013788092881441,
          0.0062155877240002155,
          0.08509340137243271,
          6.112843402661383E-4,
          0.05762765184044838,
          0.001343542244285345,
          1.7794105588109232E-5,
          0.006639344617724419,
          7.8330107498914E-5,
          0.00397853646427393,
          0.0032204370945692062,
          0.002916367957368493,
          0.2331087738275528,
          0.7954486608505249,
          0.006855997256934643,
          3.6601613828679547E-6,
          0.012679478153586388,
          0.0026577396783977747,
          0.0024831576738506556,
          0.0029892881866544485,
          0.02732180617749691,
          0.0032034728210419416,
          5.8351328334538266E-5,
          1.5589665053994395E-5,
          1.9625559798441827E-4,
          2.6617362891556695E-5,
          7.988786092028022E-5,
          0.5982595086097717,
          0.5704190135002136,
          5.953997024334967E-4,
          0.026616904884576797,
          1.6252812929451466E-4,
          0.0022777782287448645,
          1.5871638606768101E-4,
          1.734058459987864E-4,
          1.9501281713019125E-5,
          5.811720038764179E-4,
          0.09296166151762009,
          0.6660503149032593,
          0.0030518423300236464,
          0.0137317581102252,
          9.200382919516414E-6,
          1.134055492002517E-4,
          0.8948898315429688,
          0.002322656335309148,
          3.952331098844297E-5,
          0.7748519778251648,
          0.0031835699919611216,
          1.0128657777386252E-5,
          0.00112466374412179,
          0.30059197545051575,
          6.569734250660986E-5,
          1.603316341061145E-4,
          5.469380266731605E-5,
          9.104259333980735E-6,
          0.3890853524208069,
          0.0230863057076931,
          8.75218611327E-5,
          0.014204072766005993,
          2.7636068989522755E-4,
          2.0086010044906288E-4,
          1.3295480130182113E-5,
          0.001249195309355855,
          7.428011740557849E-4,
          0.004611298907548189,
          0.15214170515537262,
          0.02889508754014969,
          0.0016062365612015128,
          6.765117723261937E-5,
          0.24934324622154236,
          6.038092033122666E-5,
          0.017173247411847115,
          0.009245090186595917,
          0.0021132968831807375,
          0.007605522871017456,
          5.567407060880214E-5,
          0.0020126805175095797,
          0.0016444636275991797,
          0.0019723649602383375,
          7.262778672156855E-5,
          1.086320207832614E-5,
          8.765892562223598E-5,
          0.3103903532028198,
          0.49237585067749023,
          0.02750680409371853,
          4.6253897016867995E-4,
          2.472147170919925E-4,
          0.006758394651114941,
          0.002283351495862007,
          0.028418410569429398,
          0.08545224368572235,
          0.01401942316442728,
          0.23459786176681519,
          2.623788604978472E-4,
          2.4180777836591005E-4,
          0.0011429572477936745,
          0.0010890316916629672,
          7.439139153575525E-5,
          3.25733853969723E-4,
          9.523383341729641E-4,
          0.21842116117477417,
          0.21807946264743805,
          0.01644483581185341,
          0.01679377630352974,
          4.834897117689252E-4,
          0.0011622182792052627,
          3.050695813726634E-4,
          0.003171726828441024,
          4.858768661506474E-4,
          0.011760052293539047,
          4.97447581437882E-6,
          4.969511337549193E-6,
          0.002952981973066926,
          0.004255393054336309,
          8.070709009189159E-5,
          2.171452943002805E-4,
          0.003543683560565114,
          0.010072031989693642,
          0.05555262789130211,
          0.44512107968330383,
          0.020130662247538567,
          1.9707581668626517E-4,
          5.12267230078578E-4,
          5.900022806599736E-4,
          0.0018746359273791313,
          0.0011587209301069379,
          0.08407343178987503,
          4.528986210061703E-6,
          0.002483043121173978,
          1.1492044723127037E-4,
          0.0018817434320226312,
          0.13570085167884827,
          0.017547478899359703,
          9.477869025431573E-5,
          8.893687627278268E-4,
          0.03047693334519863,
          3.3961617737077177E-4,
          7.837567682145163E-5,
          0.6370433568954468,
          0.19635671377182007,
          0.02547014132142067,
          4.7591872862540185E-4,
          5.353705273591913E-5,
          0.002310973359271884,
          0.005113516002893448,
          4.7082154196687043E-4,
          6.100196624174714E-4,
          5.3643971114070155E-6,
          0.3010047674179077,
          0.19508890807628632,
          0.006562948692589998,
          0.002624678425490856,
          3.835554816760123E-4,
          1.472741860197857E-5,
          2.4765853595454246E-5,
          7.546090637333691E-5,
          0.018323110416531563,
          0.014513316564261913,
          2.8650803869822994E-5,
          0.014945128001272678,
          6.186337031977018E-6,
          4.4486040133051574E-4,
          1.0044012014986947E-5,
          0.0011144313029944897,
          1.1260402061452623E-5,
          8.556616958230734E-4,
          0.0030070794746279716,
          4.756338967126794E-5,
          0.0017122543649747968,
          0.004025720991194248,
          0.003927982412278652,
          0.0504201240837574,
          1.559693737362977E-5,
          6.051937234587967E-4,
          0.0037533773574978113,
          6.59273355267942E-4,
          0.014700531959533691,
          8.76864287420176E-5,
          0.13986623287200928
         ],
         "xaxis": "x",
         "y": [
          0,
          2,
          3,
          6,
          7,
          8,
          9,
          10,
          11,
          12,
          13,
          14,
          15,
          16,
          17,
          18,
          19,
          20,
          21,
          22,
          23,
          24,
          25,
          26,
          27,
          28,
          29,
          30,
          31,
          32,
          33,
          34,
          35,
          36,
          37,
          38,
          39,
          40,
          41,
          42,
          43,
          44,
          45,
          46,
          48,
          49,
          50,
          51,
          53,
          54,
          55,
          56,
          57,
          58,
          59,
          60,
          61,
          62,
          63,
          64,
          65,
          66,
          67,
          68,
          69,
          70,
          71,
          72,
          74,
          75,
          76,
          78,
          79,
          80,
          81,
          82,
          84,
          85,
          86,
          88,
          89,
          90,
          91,
          92,
          93,
          94,
          95,
          96,
          97,
          98,
          99,
          102,
          105,
          106,
          108,
          109,
          110,
          111,
          112,
          114,
          115,
          116,
          117,
          118,
          120,
          121,
          122,
          123,
          124,
          125,
          126,
          127,
          128,
          129,
          130,
          131,
          133,
          134,
          135,
          136,
          137,
          138,
          140,
          141,
          143,
          145,
          146,
          148,
          149,
          150,
          151,
          152,
          153,
          154,
          155,
          158,
          159,
          161,
          162,
          163,
          165,
          166,
          168,
          169,
          170,
          171,
          172,
          173,
          175,
          176,
          177,
          178,
          179,
          180,
          182,
          183,
          184,
          185,
          186,
          187,
          188,
          190,
          191,
          193,
          196,
          198,
          199,
          202,
          203,
          204,
          205,
          206,
          207,
          209,
          210,
          211,
          212,
          215,
          216,
          218,
          219,
          220,
          221,
          222,
          223,
          224,
          225,
          226,
          227,
          228,
          229,
          230,
          232,
          233,
          234,
          235,
          236,
          237,
          239,
          240,
          241,
          243,
          244,
          246
         ],
         "yaxis": "y",
         "type": "scatter"
        },
        {
         "hovertemplate": "Class=1<br>Positive Class Probability=%{x}<br>Sample Integer Index=%{y}<extra></extra>",
         "legendgroup": "1",
         "marker": {
          "color": "#FF2079",
          "opacity": 0.6,
          "symbol": "circle",
          "size": 6
         },
         "mode": "markers",
         "name": "1",
         "orientation": "v",
         "showlegend": true,
         "x": [
          1.046881516231224E-5,
          0.8396305441856384,
          0.1580858677625656,
          0.43363454937934875,
          0.779500424861908,
          0.7101799249649048,
          0.445087730884552,
          0.9953562617301941,
          0.7195279598236084,
          0.999521017074585,
          0.9356448650360107,
          0.9027673602104187,
          0.8761178851127625,
          0.1227070614695549,
          0.22807322442531586,
          0.536976158618927,
          0.3332395851612091,
          0.9371031522750854,
          0.6545486450195312,
          0.09346143156290054,
          0.5552418828010559,
          0.4595654308795929,
          0.873923122882843,
          0.785698652267456,
          0.04563025385141373,
          0.24011197686195374,
          0.8062613010406494,
          0.8697982430458069,
          0.29465818405151367,
          0.8312870860099792,
          0.8596320748329163,
          0.9136425256729126,
          0.25134986639022827,
          0.7779947519302368,
          0.9430380463600159,
          0.9635668992996216,
          0.9765681624412537,
          0.6652822494506836,
          0.9916554689407349,
          0.1406095027923584,
          0.9165353178977966,
          0.8939424753189087,
          0.26009058952331543
         ],
         "xaxis": "x",
         "y": [
          1,
          4,
          5,
          47,
          52,
          73,
          77,
          83,
          87,
          100,
          101,
          103,
          104,
          107,
          113,
          119,
          132,
          139,
          142,
          144,
          147,
          156,
          157,
          160,
          164,
          167,
          174,
          181,
          189,
          192,
          194,
          195,
          197,
          200,
          201,
          208,
          213,
          214,
          217,
          231,
          238,
          242,
          245
         ],
         "yaxis": "y",
         "type": "scatter"
        }
       ],
       "layout": {
        "template": {
         "data": {
          "histogram2dcontour": [
           {
            "type": "histogram2dcontour",
            "colorbar": {
             "outlinewidth": 0,
             "ticks": ""
            },
            "colorscale": [
             [
              0.0,
              "#0d0887"
             ],
             [
              0.1111111111111111,
              "#46039f"
             ],
             [
              0.2222222222222222,
              "#7201a8"
             ],
             [
              0.3333333333333333,
              "#9c179e"
             ],
             [
              0.4444444444444444,
              "#bd3786"
             ],
             [
              0.5555555555555556,
              "#d8576b"
             ],
             [
              0.6666666666666666,
              "#ed7953"
             ],
             [
              0.7777777777777778,
              "#fb9f3a"
             ],
             [
              0.8888888888888888,
              "#fdca26"
             ],
             [
              1.0,
              "#f0f921"
             ]
            ]
           }
          ],
          "choropleth": [
           {
            "type": "choropleth",
            "colorbar": {
             "outlinewidth": 0,
             "ticks": ""
            }
           }
          ],
          "histogram2d": [
           {
            "type": "histogram2d",
            "colorbar": {
             "outlinewidth": 0,
             "ticks": ""
            },
            "colorscale": [
             [
              0.0,
              "#0d0887"
             ],
             [
              0.1111111111111111,
              "#46039f"
             ],
             [
              0.2222222222222222,
              "#7201a8"
             ],
             [
              0.3333333333333333,
              "#9c179e"
             ],
             [
              0.4444444444444444,
              "#bd3786"
             ],
             [
              0.5555555555555556,
              "#d8576b"
             ],
             [
              0.6666666666666666,
              "#ed7953"
             ],
             [
              0.7777777777777778,
              "#fb9f3a"
             ],
             [
              0.8888888888888888,
              "#fdca26"
             ],
             [
              1.0,
              "#f0f921"
             ]
            ]
           }
          ],
          "heatmap": [
           {
            "type": "heatmap",
            "colorbar": {
             "outlinewidth": 0,
             "ticks": ""
            },
            "colorscale": [
             [
              0.0,
              "#0d0887"
             ],
             [
              0.1111111111111111,
              "#46039f"
             ],
             [
              0.2222222222222222,
              "#7201a8"
             ],
             [
              0.3333333333333333,
              "#9c179e"
             ],
             [
              0.4444444444444444,
              "#bd3786"
             ],
             [
              0.5555555555555556,
              "#d8576b"
             ],
             [
              0.6666666666666666,
              "#ed7953"
             ],
             [
              0.7777777777777778,
              "#fb9f3a"
             ],
             [
              0.8888888888888888,
              "#fdca26"
             ],
             [
              1.0,
              "#f0f921"
             ]
            ]
           }
          ],
          "heatmapgl": [
           {
            "type": "heatmapgl",
            "colorbar": {
             "outlinewidth": 0,
             "ticks": ""
            },
            "colorscale": [
             [
              0.0,
              "#0d0887"
             ],
             [
              0.1111111111111111,
              "#46039f"
             ],
             [
              0.2222222222222222,
              "#7201a8"
             ],
             [
              0.3333333333333333,
              "#9c179e"
             ],
             [
              0.4444444444444444,
              "#bd3786"
             ],
             [
              0.5555555555555556,
              "#d8576b"
             ],
             [
              0.6666666666666666,
              "#ed7953"
             ],
             [
              0.7777777777777778,
              "#fb9f3a"
             ],
             [
              0.8888888888888888,
              "#fdca26"
             ],
             [
              1.0,
              "#f0f921"
             ]
            ]
           }
          ],
          "contourcarpet": [
           {
            "type": "contourcarpet",
            "colorbar": {
             "outlinewidth": 0,
             "ticks": ""
            }
           }
          ],
          "contour": [
           {
            "type": "contour",
            "colorbar": {
             "outlinewidth": 0,
             "ticks": ""
            },
            "colorscale": [
             [
              0.0,
              "#0d0887"
             ],
             [
              0.1111111111111111,
              "#46039f"
             ],
             [
              0.2222222222222222,
              "#7201a8"
             ],
             [
              0.3333333333333333,
              "#9c179e"
             ],
             [
              0.4444444444444444,
              "#bd3786"
             ],
             [
              0.5555555555555556,
              "#d8576b"
             ],
             [
              0.6666666666666666,
              "#ed7953"
             ],
             [
              0.7777777777777778,
              "#fb9f3a"
             ],
             [
              0.8888888888888888,
              "#fdca26"
             ],
             [
              1.0,
              "#f0f921"
             ]
            ]
           }
          ],
          "surface": [
           {
            "type": "surface",
            "colorbar": {
             "outlinewidth": 0,
             "ticks": ""
            },
            "colorscale": [
             [
              0.0,
              "#0d0887"
             ],
             [
              0.1111111111111111,
              "#46039f"
             ],
             [
              0.2222222222222222,
              "#7201a8"
             ],
             [
              0.3333333333333333,
              "#9c179e"
             ],
             [
              0.4444444444444444,
              "#bd3786"
             ],
             [
              0.5555555555555556,
              "#d8576b"
             ],
             [
              0.6666666666666666,
              "#ed7953"
             ],
             [
              0.7777777777777778,
              "#fb9f3a"
             ],
             [
              0.8888888888888888,
              "#fdca26"
             ],
             [
              1.0,
              "#f0f921"
             ]
            ]
           }
          ],
          "mesh3d": [
           {
            "type": "mesh3d",
            "colorbar": {
             "outlinewidth": 0,
             "ticks": ""
            }
           }
          ],
          "scatter": [
           {
            "fillpattern": {
             "fillmode": "overlay",
             "size": 10,
             "solidity": 0.2
            },
            "type": "scatter"
           }
          ],
          "parcoords": [
           {
            "type": "parcoords",
            "line": {
             "colorbar": {
              "outlinewidth": 0,
              "ticks": ""
             }
            }
           }
          ],
          "scatterpolargl": [
           {
            "type": "scatterpolargl",
            "marker": {
             "colorbar": {
              "outlinewidth": 0,
              "ticks": ""
             }
            }
           }
          ],
          "bar": [
           {
            "error_x": {
             "color": "#2a3f5f"
            },
            "error_y": {
             "color": "#2a3f5f"
            },
            "marker": {
             "line": {
              "color": "#E5ECF6",
              "width": 0.5
             },
             "pattern": {
              "fillmode": "overlay",
              "size": 10,
              "solidity": 0.2
             }
            },
            "type": "bar"
           }
          ],
          "scattergeo": [
           {
            "type": "scattergeo",
            "marker": {
             "colorbar": {
              "outlinewidth": 0,
              "ticks": ""
             }
            }
           }
          ],
          "scatterpolar": [
           {
            "type": "scatterpolar",
            "marker": {
             "colorbar": {
              "outlinewidth": 0,
              "ticks": ""
             }
            }
           }
          ],
          "histogram": [
           {
            "marker": {
             "pattern": {
              "fillmode": "overlay",
              "size": 10,
              "solidity": 0.2
             }
            },
            "type": "histogram"
           }
          ],
          "scattergl": [
           {
            "type": "scattergl",
            "marker": {
             "colorbar": {
              "outlinewidth": 0,
              "ticks": ""
             }
            }
           }
          ],
          "scatter3d": [
           {
            "type": "scatter3d",
            "line": {
             "colorbar": {
              "outlinewidth": 0,
              "ticks": ""
             }
            },
            "marker": {
             "colorbar": {
              "outlinewidth": 0,
              "ticks": ""
             }
            }
           }
          ],
          "scattermapbox": [
           {
            "type": "scattermapbox",
            "marker": {
             "colorbar": {
              "outlinewidth": 0,
              "ticks": ""
             }
            }
           }
          ],
          "scatterternary": [
           {
            "type": "scatterternary",
            "marker": {
             "colorbar": {
              "outlinewidth": 0,
              "ticks": ""
             }
            }
           }
          ],
          "scattercarpet": [
           {
            "type": "scattercarpet",
            "marker": {
             "colorbar": {
              "outlinewidth": 0,
              "ticks": ""
             }
            }
           }
          ],
          "carpet": [
           {
            "aaxis": {
             "endlinecolor": "#2a3f5f",
             "gridcolor": "white",
             "linecolor": "white",
             "minorgridcolor": "white",
             "startlinecolor": "#2a3f5f"
            },
            "baxis": {
             "endlinecolor": "#2a3f5f",
             "gridcolor": "white",
             "linecolor": "white",
             "minorgridcolor": "white",
             "startlinecolor": "#2a3f5f"
            },
            "type": "carpet"
           }
          ],
          "table": [
           {
            "cells": {
             "fill": {
              "color": "#EBF0F8"
             },
             "line": {
              "color": "white"
             }
            },
            "header": {
             "fill": {
              "color": "#C8D4E3"
             },
             "line": {
              "color": "white"
             }
            },
            "type": "table"
           }
          ],
          "barpolar": [
           {
            "marker": {
             "line": {
              "color": "#E5ECF6",
              "width": 0.5
             },
             "pattern": {
              "fillmode": "overlay",
              "size": 10,
              "solidity": 0.2
             }
            },
            "type": "barpolar"
           }
          ],
          "pie": [
           {
            "automargin": true,
            "type": "pie"
           }
          ]
         },
         "layout": {
          "autotypenumbers": "strict",
          "colorway": [
           "#636efa",
           "#EF553B",
           "#00cc96",
           "#ab63fa",
           "#FFA15A",
           "#19d3f3",
           "#FF6692",
           "#B6E880",
           "#FF97FF",
           "#FECB52"
          ],
          "font": {
           "color": "#2a3f5f"
          },
          "hovermode": "closest",
          "hoverlabel": {
           "align": "left"
          },
          "paper_bgcolor": "white",
          "plot_bgcolor": "#E5ECF6",
          "polar": {
           "bgcolor": "#E5ECF6",
           "angularaxis": {
            "gridcolor": "white",
            "linecolor": "white",
            "ticks": ""
           },
           "radialaxis": {
            "gridcolor": "white",
            "linecolor": "white",
            "ticks": ""
           }
          },
          "ternary": {
           "bgcolor": "#E5ECF6",
           "aaxis": {
            "gridcolor": "white",
            "linecolor": "white",
            "ticks": ""
           },
           "baxis": {
            "gridcolor": "white",
            "linecolor": "white",
            "ticks": ""
           },
           "caxis": {
            "gridcolor": "white",
            "linecolor": "white",
            "ticks": ""
           }
          },
          "coloraxis": {
           "colorbar": {
            "outlinewidth": 0,
            "ticks": ""
           }
          },
          "colorscale": {
           "sequential": [
            [
             0.0,
             "#0d0887"
            ],
            [
             0.1111111111111111,
             "#46039f"
            ],
            [
             0.2222222222222222,
             "#7201a8"
            ],
            [
             0.3333333333333333,
             "#9c179e"
            ],
            [
             0.4444444444444444,
             "#bd3786"
            ],
            [
             0.5555555555555556,
             "#d8576b"
            ],
            [
             0.6666666666666666,
             "#ed7953"
            ],
            [
             0.7777777777777778,
             "#fb9f3a"
            ],
            [
             0.8888888888888888,
             "#fdca26"
            ],
            [
             1.0,
             "#f0f921"
            ]
           ],
           "sequentialminus": [
            [
             0.0,
             "#0d0887"
            ],
            [
             0.1111111111111111,
             "#46039f"
            ],
            [
             0.2222222222222222,
             "#7201a8"
            ],
            [
             0.3333333333333333,
             "#9c179e"
            ],
            [
             0.4444444444444444,
             "#bd3786"
            ],
            [
             0.5555555555555556,
             "#d8576b"
            ],
            [
             0.6666666666666666,
             "#ed7953"
            ],
            [
             0.7777777777777778,
             "#fb9f3a"
            ],
            [
             0.8888888888888888,
             "#fdca26"
            ],
            [
             1.0,
             "#f0f921"
            ]
           ],
           "diverging": [
            [
             0,
             "#8e0152"
            ],
            [
             0.1,
             "#c51b7d"
            ],
            [
             0.2,
             "#de77ae"
            ],
            [
             0.3,
             "#f1b6da"
            ],
            [
             0.4,
             "#fde0ef"
            ],
            [
             0.5,
             "#f7f7f7"
            ],
            [
             0.6,
             "#e6f5d0"
            ],
            [
             0.7,
             "#b8e186"
            ],
            [
             0.8,
             "#7fbc41"
            ],
            [
             0.9,
             "#4d9221"
            ],
            [
             1,
             "#276419"
            ]
           ]
          },
          "xaxis": {
           "gridcolor": "white",
           "linecolor": "white",
           "ticks": "",
           "title": {
            "standoff": 15
           },
           "zerolinecolor": "white",
           "automargin": true,
           "zerolinewidth": 2
          },
          "yaxis": {
           "gridcolor": "white",
           "linecolor": "white",
           "ticks": "",
           "title": {
            "standoff": 15
           },
           "zerolinecolor": "white",
           "automargin": true,
           "zerolinewidth": 2
          },
          "scene": {
           "xaxis": {
            "backgroundcolor": "#E5ECF6",
            "gridcolor": "white",
            "linecolor": "white",
            "showbackground": true,
            "ticks": "",
            "zerolinecolor": "white",
            "gridwidth": 2
           },
           "yaxis": {
            "backgroundcolor": "#E5ECF6",
            "gridcolor": "white",
            "linecolor": "white",
            "showbackground": true,
            "ticks": "",
            "zerolinecolor": "white",
            "gridwidth": 2
           },
           "zaxis": {
            "backgroundcolor": "#E5ECF6",
            "gridcolor": "white",
            "linecolor": "white",
            "showbackground": true,
            "ticks": "",
            "zerolinecolor": "white",
            "gridwidth": 2
           }
          },
          "shapedefaults": {
           "line": {
            "color": "#2a3f5f"
           }
          },
          "annotationdefaults": {
           "arrowcolor": "#2a3f5f",
           "arrowhead": 0,
           "arrowwidth": 1
          },
          "geo": {
           "bgcolor": "white",
           "landcolor": "#E5ECF6",
           "subunitcolor": "white",
           "showland": true,
           "showlakes": true,
           "lakecolor": "white"
          },
          "title": {
           "x": 0.05
          },
          "mapbox": {
           "style": "light"
          }
         }
        },
        "xaxis": {
         "anchor": "y",
         "domain": [
          0.0,
          1.0
         ],
         "title": {
          "text": "Positive Class Probability"
         },
         "range": [
          -0.02,
          1.02
         ]
        },
        "yaxis": {
         "anchor": "x",
         "domain": [
          0.0,
          1.0
         ],
         "title": {
          "text": "Sample Integer Index"
         }
        },
        "legend": {
         "title": {
          "text": "Class"
         },
         "tracegroupgap": 0,
         "orientation": "h",
         "yanchor": "bottom",
         "xanchor": "right",
         "y": 1.05,
         "x": 1,
         "itemsizing": "constant"
        },
        "title": {
         "text": "Training Dataset - Out of Fold Predictions",
         "font": {
          "size": 18
         }
        },
        "height": 540,
        "width": 840
       },
       "config": {
        "plotlyServerURL": "https://plot.ly"
       }
      },
      "text/html": "<div>                            <div id=\"7585f9aa-d554-46ee-8f96-fa623ea41545\" class=\"plotly-graph-div\" style=\"height:540px; width:840px;\"></div>            <script type=\"text/javascript\">                require([\"plotly\"], function(Plotly) {                    window.PLOTLYENV=window.PLOTLYENV || {};                                    if (document.getElementById(\"7585f9aa-d554-46ee-8f96-fa623ea41545\")) {                    Plotly.newPlot(                        \"7585f9aa-d554-46ee-8f96-fa623ea41545\",                        [{\"hovertemplate\":\"Class=0\\u003cbr\\u003ePositive Class Probability=%{x}\\u003cbr\\u003eSample Integer Index=%{y}\\u003cextra\\u003e\\u003c\\u002fextra\\u003e\",\"legendgroup\":\"0\",\"marker\":{\"color\":\"#010D36\",\"opacity\":0.6,\"symbol\":\"diamond\",\"size\":6},\"mode\":\"markers\",\"name\":\"0\",\"orientation\":\"v\",\"showlegend\":true,\"x\":[1.3644611499330495e-05,7.563502549601253e-06,0.0008079350809566677,0.0026872095186263323,0.014049182645976543,0.0011307982495054603,0.0001983091642614454,4.6733501221751794e-05,0.10119222849607468,0.4904676377773285,0.00010521113290451467,0.012782597914338112,0.002012218115851283,0.0001071456354111433,0.051454994827508926,0.0024007607717067003,9.655306348577142e-05,0.03655492886900902,4.74772896268405e-05,0.0002258123568026349,0.0013700441922992468,0.05573180690407753,1.7759879483492114e-05,0.0029417776968330145,0.000666293257381767,0.002013788092881441,0.0062155877240002155,0.08509340137243271,0.0006112843402661383,0.05762765184044838,0.001343542244285345,1.7794105588109232e-05,0.006639344617724419,7.8330107498914e-05,0.00397853646427393,0.0032204370945692062,0.002916367957368493,0.2331087738275528,0.7954486608505249,0.006855997256934643,3.6601613828679547e-06,0.012679478153586388,0.0026577396783977747,0.0024831576738506556,0.0029892881866544485,0.02732180617749691,0.0032034728210419416,5.8351328334538266e-05,1.5589665053994395e-05,0.00019625559798441827,2.6617362891556695e-05,7.988786092028022e-05,0.5982595086097717,0.5704190135002136,0.0005953997024334967,0.026616904884576797,0.00016252812929451466,0.0022777782287448645,0.00015871638606768101,0.0001734058459987864,1.9501281713019125e-05,0.0005811720038764179,0.09296166151762009,0.6660503149032593,0.0030518423300236464,0.0137317581102252,9.200382919516414e-06,0.0001134055492002517,0.8948898315429688,0.002322656335309148,3.952331098844297e-05,0.7748519778251648,0.0031835699919611216,1.0128657777386252e-05,0.00112466374412179,0.30059197545051575,6.569734250660986e-05,0.0001603316341061145,5.469380266731605e-05,9.104259333980735e-06,0.3890853524208069,0.0230863057076931,8.75218611327e-05,0.014204072766005993,0.00027636068989522755,0.00020086010044906288,1.3295480130182113e-05,0.001249195309355855,0.0007428011740557849,0.004611298907548189,0.15214170515537262,0.02889508754014969,0.0016062365612015128,6.765117723261937e-05,0.24934324622154236,6.038092033122666e-05,0.017173247411847115,0.009245090186595917,0.0021132968831807375,0.007605522871017456,5.567407060880214e-05,0.0020126805175095797,0.0016444636275991797,0.0019723649602383375,7.262778672156855e-05,1.086320207832614e-05,8.765892562223598e-05,0.3103903532028198,0.49237585067749023,0.02750680409371853,0.00046253897016867995,0.0002472147170919925,0.006758394651114941,0.002283351495862007,0.028418410569429398,0.08545224368572235,0.01401942316442728,0.23459786176681519,0.0002623788604978472,0.00024180777836591005,0.0011429572477936745,0.0010890316916629672,7.439139153575525e-05,0.000325733853969723,0.0009523383341729641,0.21842116117477417,0.21807946264743805,0.01644483581185341,0.01679377630352974,0.0004834897117689252,0.0011622182792052627,0.0003050695813726634,0.003171726828441024,0.0004858768661506474,0.011760052293539047,4.97447581437882e-06,4.969511337549193e-06,0.002952981973066926,0.004255393054336309,8.070709009189159e-05,0.0002171452943002805,0.003543683560565114,0.010072031989693642,0.05555262789130211,0.44512107968330383,0.020130662247538567,0.00019707581668626517,0.000512267230078578,0.0005900022806599736,0.0018746359273791313,0.0011587209301069379,0.08407343178987503,4.528986210061703e-06,0.002483043121173978,0.00011492044723127037,0.0018817434320226312,0.13570085167884827,0.017547478899359703,9.477869025431573e-05,0.0008893687627278268,0.03047693334519863,0.00033961617737077177,7.837567682145163e-05,0.6370433568954468,0.19635671377182007,0.02547014132142067,0.00047591872862540185,5.353705273591913e-05,0.002310973359271884,0.005113516002893448,0.00047082154196687043,0.0006100196624174714,5.3643971114070155e-06,0.3010047674179077,0.19508890807628632,0.006562948692589998,0.002624678425490856,0.0003835554816760123,1.472741860197857e-05,2.4765853595454246e-05,7.546090637333691e-05,0.018323110416531563,0.014513316564261913,2.8650803869822994e-05,0.014945128001272678,6.186337031977018e-06,0.00044486040133051574,1.0044012014986947e-05,0.0011144313029944897,1.1260402061452623e-05,0.0008556616958230734,0.0030070794746279716,4.756338967126794e-05,0.0017122543649747968,0.004025720991194248,0.003927982412278652,0.0504201240837574,1.559693737362977e-05,0.0006051937234587967,0.0037533773574978113,0.000659273355267942,0.014700531959533691,8.76864287420176e-05,0.13986623287200928],\"xaxis\":\"x\",\"y\":[0,2,3,6,7,8,9,10,11,12,13,14,15,16,17,18,19,20,21,22,23,24,25,26,27,28,29,30,31,32,33,34,35,36,37,38,39,40,41,42,43,44,45,46,48,49,50,51,53,54,55,56,57,58,59,60,61,62,63,64,65,66,67,68,69,70,71,72,74,75,76,78,79,80,81,82,84,85,86,88,89,90,91,92,93,94,95,96,97,98,99,102,105,106,108,109,110,111,112,114,115,116,117,118,120,121,122,123,124,125,126,127,128,129,130,131,133,134,135,136,137,138,140,141,143,145,146,148,149,150,151,152,153,154,155,158,159,161,162,163,165,166,168,169,170,171,172,173,175,176,177,178,179,180,182,183,184,185,186,187,188,190,191,193,196,198,199,202,203,204,205,206,207,209,210,211,212,215,216,218,219,220,221,222,223,224,225,226,227,228,229,230,232,233,234,235,236,237,239,240,241,243,244,246],\"yaxis\":\"y\",\"type\":\"scatter\"},{\"hovertemplate\":\"Class=1\\u003cbr\\u003ePositive Class Probability=%{x}\\u003cbr\\u003eSample Integer Index=%{y}\\u003cextra\\u003e\\u003c\\u002fextra\\u003e\",\"legendgroup\":\"1\",\"marker\":{\"color\":\"#FF2079\",\"opacity\":0.6,\"symbol\":\"circle\",\"size\":6},\"mode\":\"markers\",\"name\":\"1\",\"orientation\":\"v\",\"showlegend\":true,\"x\":[1.046881516231224e-05,0.8396305441856384,0.1580858677625656,0.43363454937934875,0.779500424861908,0.7101799249649048,0.445087730884552,0.9953562617301941,0.7195279598236084,0.999521017074585,0.9356448650360107,0.9027673602104187,0.8761178851127625,0.1227070614695549,0.22807322442531586,0.536976158618927,0.3332395851612091,0.9371031522750854,0.6545486450195312,0.09346143156290054,0.5552418828010559,0.4595654308795929,0.873923122882843,0.785698652267456,0.04563025385141373,0.24011197686195374,0.8062613010406494,0.8697982430458069,0.29465818405151367,0.8312870860099792,0.8596320748329163,0.9136425256729126,0.25134986639022827,0.7779947519302368,0.9430380463600159,0.9635668992996216,0.9765681624412537,0.6652822494506836,0.9916554689407349,0.1406095027923584,0.9165353178977966,0.8939424753189087,0.26009058952331543],\"xaxis\":\"x\",\"y\":[1,4,5,47,52,73,77,83,87,100,101,103,104,107,113,119,132,139,142,144,147,156,157,160,164,167,174,181,189,192,194,195,197,200,201,208,213,214,217,231,238,242,245],\"yaxis\":\"y\",\"type\":\"scatter\"}],                        {\"template\":{\"data\":{\"histogram2dcontour\":[{\"type\":\"histogram2dcontour\",\"colorbar\":{\"outlinewidth\":0,\"ticks\":\"\"},\"colorscale\":[[0.0,\"#0d0887\"],[0.1111111111111111,\"#46039f\"],[0.2222222222222222,\"#7201a8\"],[0.3333333333333333,\"#9c179e\"],[0.4444444444444444,\"#bd3786\"],[0.5555555555555556,\"#d8576b\"],[0.6666666666666666,\"#ed7953\"],[0.7777777777777778,\"#fb9f3a\"],[0.8888888888888888,\"#fdca26\"],[1.0,\"#f0f921\"]]}],\"choropleth\":[{\"type\":\"choropleth\",\"colorbar\":{\"outlinewidth\":0,\"ticks\":\"\"}}],\"histogram2d\":[{\"type\":\"histogram2d\",\"colorbar\":{\"outlinewidth\":0,\"ticks\":\"\"},\"colorscale\":[[0.0,\"#0d0887\"],[0.1111111111111111,\"#46039f\"],[0.2222222222222222,\"#7201a8\"],[0.3333333333333333,\"#9c179e\"],[0.4444444444444444,\"#bd3786\"],[0.5555555555555556,\"#d8576b\"],[0.6666666666666666,\"#ed7953\"],[0.7777777777777778,\"#fb9f3a\"],[0.8888888888888888,\"#fdca26\"],[1.0,\"#f0f921\"]]}],\"heatmap\":[{\"type\":\"heatmap\",\"colorbar\":{\"outlinewidth\":0,\"ticks\":\"\"},\"colorscale\":[[0.0,\"#0d0887\"],[0.1111111111111111,\"#46039f\"],[0.2222222222222222,\"#7201a8\"],[0.3333333333333333,\"#9c179e\"],[0.4444444444444444,\"#bd3786\"],[0.5555555555555556,\"#d8576b\"],[0.6666666666666666,\"#ed7953\"],[0.7777777777777778,\"#fb9f3a\"],[0.8888888888888888,\"#fdca26\"],[1.0,\"#f0f921\"]]}],\"heatmapgl\":[{\"type\":\"heatmapgl\",\"colorbar\":{\"outlinewidth\":0,\"ticks\":\"\"},\"colorscale\":[[0.0,\"#0d0887\"],[0.1111111111111111,\"#46039f\"],[0.2222222222222222,\"#7201a8\"],[0.3333333333333333,\"#9c179e\"],[0.4444444444444444,\"#bd3786\"],[0.5555555555555556,\"#d8576b\"],[0.6666666666666666,\"#ed7953\"],[0.7777777777777778,\"#fb9f3a\"],[0.8888888888888888,\"#fdca26\"],[1.0,\"#f0f921\"]]}],\"contourcarpet\":[{\"type\":\"contourcarpet\",\"colorbar\":{\"outlinewidth\":0,\"ticks\":\"\"}}],\"contour\":[{\"type\":\"contour\",\"colorbar\":{\"outlinewidth\":0,\"ticks\":\"\"},\"colorscale\":[[0.0,\"#0d0887\"],[0.1111111111111111,\"#46039f\"],[0.2222222222222222,\"#7201a8\"],[0.3333333333333333,\"#9c179e\"],[0.4444444444444444,\"#bd3786\"],[0.5555555555555556,\"#d8576b\"],[0.6666666666666666,\"#ed7953\"],[0.7777777777777778,\"#fb9f3a\"],[0.8888888888888888,\"#fdca26\"],[1.0,\"#f0f921\"]]}],\"surface\":[{\"type\":\"surface\",\"colorbar\":{\"outlinewidth\":0,\"ticks\":\"\"},\"colorscale\":[[0.0,\"#0d0887\"],[0.1111111111111111,\"#46039f\"],[0.2222222222222222,\"#7201a8\"],[0.3333333333333333,\"#9c179e\"],[0.4444444444444444,\"#bd3786\"],[0.5555555555555556,\"#d8576b\"],[0.6666666666666666,\"#ed7953\"],[0.7777777777777778,\"#fb9f3a\"],[0.8888888888888888,\"#fdca26\"],[1.0,\"#f0f921\"]]}],\"mesh3d\":[{\"type\":\"mesh3d\",\"colorbar\":{\"outlinewidth\":0,\"ticks\":\"\"}}],\"scatter\":[{\"fillpattern\":{\"fillmode\":\"overlay\",\"size\":10,\"solidity\":0.2},\"type\":\"scatter\"}],\"parcoords\":[{\"type\":\"parcoords\",\"line\":{\"colorbar\":{\"outlinewidth\":0,\"ticks\":\"\"}}}],\"scatterpolargl\":[{\"type\":\"scatterpolargl\",\"marker\":{\"colorbar\":{\"outlinewidth\":0,\"ticks\":\"\"}}}],\"bar\":[{\"error_x\":{\"color\":\"#2a3f5f\"},\"error_y\":{\"color\":\"#2a3f5f\"},\"marker\":{\"line\":{\"color\":\"#E5ECF6\",\"width\":0.5},\"pattern\":{\"fillmode\":\"overlay\",\"size\":10,\"solidity\":0.2}},\"type\":\"bar\"}],\"scattergeo\":[{\"type\":\"scattergeo\",\"marker\":{\"colorbar\":{\"outlinewidth\":0,\"ticks\":\"\"}}}],\"scatterpolar\":[{\"type\":\"scatterpolar\",\"marker\":{\"colorbar\":{\"outlinewidth\":0,\"ticks\":\"\"}}}],\"histogram\":[{\"marker\":{\"pattern\":{\"fillmode\":\"overlay\",\"size\":10,\"solidity\":0.2}},\"type\":\"histogram\"}],\"scattergl\":[{\"type\":\"scattergl\",\"marker\":{\"colorbar\":{\"outlinewidth\":0,\"ticks\":\"\"}}}],\"scatter3d\":[{\"type\":\"scatter3d\",\"line\":{\"colorbar\":{\"outlinewidth\":0,\"ticks\":\"\"}},\"marker\":{\"colorbar\":{\"outlinewidth\":0,\"ticks\":\"\"}}}],\"scattermapbox\":[{\"type\":\"scattermapbox\",\"marker\":{\"colorbar\":{\"outlinewidth\":0,\"ticks\":\"\"}}}],\"scatterternary\":[{\"type\":\"scatterternary\",\"marker\":{\"colorbar\":{\"outlinewidth\":0,\"ticks\":\"\"}}}],\"scattercarpet\":[{\"type\":\"scattercarpet\",\"marker\":{\"colorbar\":{\"outlinewidth\":0,\"ticks\":\"\"}}}],\"carpet\":[{\"aaxis\":{\"endlinecolor\":\"#2a3f5f\",\"gridcolor\":\"white\",\"linecolor\":\"white\",\"minorgridcolor\":\"white\",\"startlinecolor\":\"#2a3f5f\"},\"baxis\":{\"endlinecolor\":\"#2a3f5f\",\"gridcolor\":\"white\",\"linecolor\":\"white\",\"minorgridcolor\":\"white\",\"startlinecolor\":\"#2a3f5f\"},\"type\":\"carpet\"}],\"table\":[{\"cells\":{\"fill\":{\"color\":\"#EBF0F8\"},\"line\":{\"color\":\"white\"}},\"header\":{\"fill\":{\"color\":\"#C8D4E3\"},\"line\":{\"color\":\"white\"}},\"type\":\"table\"}],\"barpolar\":[{\"marker\":{\"line\":{\"color\":\"#E5ECF6\",\"width\":0.5},\"pattern\":{\"fillmode\":\"overlay\",\"size\":10,\"solidity\":0.2}},\"type\":\"barpolar\"}],\"pie\":[{\"automargin\":true,\"type\":\"pie\"}]},\"layout\":{\"autotypenumbers\":\"strict\",\"colorway\":[\"#636efa\",\"#EF553B\",\"#00cc96\",\"#ab63fa\",\"#FFA15A\",\"#19d3f3\",\"#FF6692\",\"#B6E880\",\"#FF97FF\",\"#FECB52\"],\"font\":{\"color\":\"#2a3f5f\"},\"hovermode\":\"closest\",\"hoverlabel\":{\"align\":\"left\"},\"paper_bgcolor\":\"white\",\"plot_bgcolor\":\"#E5ECF6\",\"polar\":{\"bgcolor\":\"#E5ECF6\",\"angularaxis\":{\"gridcolor\":\"white\",\"linecolor\":\"white\",\"ticks\":\"\"},\"radialaxis\":{\"gridcolor\":\"white\",\"linecolor\":\"white\",\"ticks\":\"\"}},\"ternary\":{\"bgcolor\":\"#E5ECF6\",\"aaxis\":{\"gridcolor\":\"white\",\"linecolor\":\"white\",\"ticks\":\"\"},\"baxis\":{\"gridcolor\":\"white\",\"linecolor\":\"white\",\"ticks\":\"\"},\"caxis\":{\"gridcolor\":\"white\",\"linecolor\":\"white\",\"ticks\":\"\"}},\"coloraxis\":{\"colorbar\":{\"outlinewidth\":0,\"ticks\":\"\"}},\"colorscale\":{\"sequential\":[[0.0,\"#0d0887\"],[0.1111111111111111,\"#46039f\"],[0.2222222222222222,\"#7201a8\"],[0.3333333333333333,\"#9c179e\"],[0.4444444444444444,\"#bd3786\"],[0.5555555555555556,\"#d8576b\"],[0.6666666666666666,\"#ed7953\"],[0.7777777777777778,\"#fb9f3a\"],[0.8888888888888888,\"#fdca26\"],[1.0,\"#f0f921\"]],\"sequentialminus\":[[0.0,\"#0d0887\"],[0.1111111111111111,\"#46039f\"],[0.2222222222222222,\"#7201a8\"],[0.3333333333333333,\"#9c179e\"],[0.4444444444444444,\"#bd3786\"],[0.5555555555555556,\"#d8576b\"],[0.6666666666666666,\"#ed7953\"],[0.7777777777777778,\"#fb9f3a\"],[0.8888888888888888,\"#fdca26\"],[1.0,\"#f0f921\"]],\"diverging\":[[0,\"#8e0152\"],[0.1,\"#c51b7d\"],[0.2,\"#de77ae\"],[0.3,\"#f1b6da\"],[0.4,\"#fde0ef\"],[0.5,\"#f7f7f7\"],[0.6,\"#e6f5d0\"],[0.7,\"#b8e186\"],[0.8,\"#7fbc41\"],[0.9,\"#4d9221\"],[1,\"#276419\"]]},\"xaxis\":{\"gridcolor\":\"white\",\"linecolor\":\"white\",\"ticks\":\"\",\"title\":{\"standoff\":15},\"zerolinecolor\":\"white\",\"automargin\":true,\"zerolinewidth\":2},\"yaxis\":{\"gridcolor\":\"white\",\"linecolor\":\"white\",\"ticks\":\"\",\"title\":{\"standoff\":15},\"zerolinecolor\":\"white\",\"automargin\":true,\"zerolinewidth\":2},\"scene\":{\"xaxis\":{\"backgroundcolor\":\"#E5ECF6\",\"gridcolor\":\"white\",\"linecolor\":\"white\",\"showbackground\":true,\"ticks\":\"\",\"zerolinecolor\":\"white\",\"gridwidth\":2},\"yaxis\":{\"backgroundcolor\":\"#E5ECF6\",\"gridcolor\":\"white\",\"linecolor\":\"white\",\"showbackground\":true,\"ticks\":\"\",\"zerolinecolor\":\"white\",\"gridwidth\":2},\"zaxis\":{\"backgroundcolor\":\"#E5ECF6\",\"gridcolor\":\"white\",\"linecolor\":\"white\",\"showbackground\":true,\"ticks\":\"\",\"zerolinecolor\":\"white\",\"gridwidth\":2}},\"shapedefaults\":{\"line\":{\"color\":\"#2a3f5f\"}},\"annotationdefaults\":{\"arrowcolor\":\"#2a3f5f\",\"arrowhead\":0,\"arrowwidth\":1},\"geo\":{\"bgcolor\":\"white\",\"landcolor\":\"#E5ECF6\",\"subunitcolor\":\"white\",\"showland\":true,\"showlakes\":true,\"lakecolor\":\"white\"},\"title\":{\"x\":0.05},\"mapbox\":{\"style\":\"light\"}}},\"xaxis\":{\"anchor\":\"y\",\"domain\":[0.0,1.0],\"title\":{\"text\":\"Positive Class Probability\"},\"range\":[-0.02,1.02]},\"yaxis\":{\"anchor\":\"x\",\"domain\":[0.0,1.0],\"title\":{\"text\":\"Sample Integer Index\"}},\"legend\":{\"title\":{\"text\":\"Class\"},\"tracegroupgap\":0,\"orientation\":\"h\",\"yanchor\":\"bottom\",\"xanchor\":\"right\",\"y\":1.05,\"x\":1,\"itemsizing\":\"constant\"},\"title\":{\"text\":\"Training Dataset - Out of Fold Predictions\",\"font\":{\"size\":18}},\"height\":540,\"width\":840},                        {\"responsive\": true}                    ).then(function(){\n                            \nvar gd = document.getElementById('7585f9aa-d554-46ee-8f96-fa623ea41545');\nvar x = new MutationObserver(function (mutations, observer) {{\n        var display = window.getComputedStyle(gd).display;\n        if (!display || display === 'none') {{\n            console.log([gd, 'removed!']);\n            Plotly.purge(gd);\n            observer.disconnect();\n        }}\n}});\n\n// Listen for the removal of the full notebook cells\nvar notebookContainer = gd.closest('#notebook-container');\nif (notebookContainer) {{\n    x.observe(notebookContainer, {childList: true});\n}}\n\n// Listen for the clearing of the current output cell\nvar outputEl = gd.closest('.output');\nif (outputEl) {{\n    x.observe(outputEl, {childList: true});\n}}\n\n                        })                };                });            </script>        </div>"
     },
     "metadata": {},
     "output_type": "display_data"
    }
   ],
   "source": [
    "plot_results(targs, pred_df['tabpfn_with_resampling'])"
   ],
   "metadata": {
    "collapsed": false,
    "ExecuteTime": {
     "end_time": "2023-08-07T18:11:14.720886Z",
     "start_time": "2023-08-07T18:11:14.588528Z"
    }
   },
   "id": "3d16e37392d30389"
  },
  {
   "cell_type": "code",
   "execution_count": 200,
   "outputs": [
    {
     "data": {
      "application/vnd.plotly.v1+json": {
       "data": [
        {
         "hovertemplate": "Class=0<br>Positive Class Probability=%{x}<br>Sample Integer Index=%{y}<extra></extra>",
         "legendgroup": "0",
         "marker": {
          "color": "#010D36",
          "opacity": 0.6,
          "symbol": "diamond",
          "size": 6
         },
         "mode": "markers",
         "name": "0",
         "orientation": "v",
         "showlegend": true,
         "x": [
          0.25821083784103394,
          0.2503295838832855,
          0.3426203429698944,
          0.2567905783653259,
          0.2825842499732971,
          0.2994465231895447,
          0.3150482475757599,
          0.2616216242313385,
          0.35106682777404785,
          0.7293592691421509,
          0.2418801188468933,
          0.23757107555866241,
          0.34226056933403015,
          0.21067334711551666,
          0.27988946437835693,
          0.26577267050743103,
          0.28228574991226196,
          0.31244462728500366,
          0.241890087723732,
          0.3090965151786804,
          0.2288774996995926,
          0.25538697838783264,
          0.2838953733444214,
          0.22447846829891205,
          0.2730236053466797,
          0.2292434573173523,
          0.3672849237918854,
          0.5942770838737488,
          0.31072303652763367,
          0.6197493672370911,
          0.21073390543460846,
          0.2375834882259369,
          0.23425665497779846,
          0.2568165361881256,
          0.24329006671905518,
          0.21138936281204224,
          0.27781763672828674,
          0.8839513063430786,
          0.45904019474983215,
          0.28250423073768616,
          0.3103798031806946,
          0.4441487193107605,
          0.3418516516685486,
          0.22049835324287415,
          0.24993574619293213,
          0.26764723658561707,
          0.27222326397895813,
          0.30741894245147705,
          0.22028709948062897,
          0.23334664106369019,
          0.2360367774963379,
          0.24696336686611176,
          0.5799112915992737,
          0.8193385601043701,
          0.24767088890075684,
          0.28881463408470154,
          0.29307928681373596,
          0.249284565448761,
          0.27513477206230164,
          0.29830271005630493,
          0.27938389778137207,
          0.38691985607147217,
          0.7050579786300659,
          0.9889951944351196,
          0.5338009595870972,
          0.3477599024772644,
          0.3159669041633606,
          0.22305643558502197,
          0.8691099286079407,
          0.2849276065826416,
          0.24212121963500977,
          0.848673939704895,
          0.24489152431488037,
          0.2884930372238159,
          0.15943513810634613,
          0.2781982123851776,
          0.27514582872390747,
          0.2824285924434662,
          0.2635345160961151,
          0.25954562425613403,
          0.8948164582252502,
          0.46067363023757935,
          0.26318055391311646,
          0.4986857771873474,
          0.24862602353096008,
          0.17562097311019897,
          0.2980339527130127,
          0.23229999840259552,
          0.23468995094299316,
          0.19160084426403046,
          0.3617592751979828,
          0.3606014549732208,
          0.2276720106601715,
          0.31983181834220886,
          0.3220069408416748,
          0.31229105591773987,
          0.22704125940799713,
          0.2186480313539505,
          0.2720176577568054,
          0.33202314376831055,
          0.2281121015548706,
          0.2673470079898834,
          0.25390100479125977,
          0.3194807469844818,
          0.2422960102558136,
          0.24894915521144867,
          0.21897262334823608,
          0.7482722401618958,
          0.9764026403427124,
          0.3585783541202545,
          0.19686563313007355,
          0.20908020436763763,
          0.24382269382476807,
          0.2736425995826721,
          0.7318176031112671,
          0.24835838377475739,
          0.3700093924999237,
          0.24043595790863037,
          0.21625573933124542,
          0.21857796609401703,
          0.20744037628173828,
          0.19994430243968964,
          0.31563103199005127,
          0.24216924607753754,
          0.29599153995513916,
          0.3819604814052582,
          0.5884231925010681,
          0.24222201108932495,
          0.35795196890830994,
          0.25838857889175415,
          0.2487785965204239,
          0.2996923625469208,
          0.2142176330089569,
          0.21186916530132294,
          0.27393513917922974,
          0.2777869403362274,
          0.2644284665584564,
          0.24292802810668945,
          0.25711244344711304,
          0.2850877642631531,
          0.61790931224823,
          0.38124629855155945,
          0.16510272026062012,
          0.31713739037513733,
          0.27126026153564453,
          0.23148895800113678,
          0.2712842524051666,
          0.24528101086616516,
          0.3133664131164551,
          0.2034858614206314,
          0.29016855359077454,
          0.24760077893733978,
          0.2545469403266907,
          0.32583341002464294,
          0.22175227105617523,
          0.24441231787204742,
          0.24995265901088715,
          0.19539906084537506,
          0.288270503282547,
          0.25119340419769287,
          0.3292548954486847,
          0.20650507509708405,
          0.2573837637901306,
          0.6880342960357666,
          0.2535102665424347,
          0.22060979902744293,
          0.2552594244480133,
          0.25060367584228516,
          0.24330757558345795,
          0.22139574587345123,
          0.322197824716568,
          0.30086031556129456,
          0.2817423343658447,
          0.224140927195549,
          0.6346108913421631,
          0.22867730259895325,
          0.2682061791419983,
          0.304088294506073,
          0.23038111627101898,
          0.1939569115638733,
          0.29875776171684265,
          0.3391842544078827,
          0.17298538982868195,
          0.22765089571475983,
          0.24309660494327545,
          0.3033885657787323,
          0.2219657003879547,
          0.2912379801273346,
          0.2302333563566208,
          0.2915700376033783,
          0.2799130380153656,
          0.3513261079788208,
          0.2640204131603241,
          0.17026837170124054,
          0.21045070886611938,
          0.16424573957920074,
          0.5939900875091553,
          0.2537756860256195,
          0.23156897723674774,
          0.4023074805736542,
          0.33916544914245605,
          0.28546905517578125,
          0.22135384380817413,
          0.46786487102508545
         ],
         "xaxis": "x",
         "y": [
          0,
          2,
          3,
          6,
          7,
          8,
          9,
          10,
          11,
          12,
          13,
          14,
          15,
          16,
          17,
          18,
          19,
          20,
          21,
          22,
          23,
          24,
          25,
          26,
          27,
          28,
          29,
          30,
          31,
          32,
          33,
          34,
          35,
          36,
          37,
          38,
          39,
          40,
          41,
          42,
          43,
          44,
          45,
          46,
          48,
          49,
          50,
          51,
          53,
          54,
          55,
          56,
          57,
          58,
          59,
          60,
          61,
          62,
          63,
          64,
          65,
          66,
          67,
          68,
          69,
          70,
          71,
          72,
          74,
          75,
          76,
          78,
          79,
          80,
          81,
          82,
          84,
          85,
          86,
          88,
          89,
          90,
          91,
          92,
          93,
          94,
          95,
          96,
          97,
          98,
          99,
          102,
          105,
          106,
          108,
          109,
          110,
          111,
          112,
          114,
          115,
          116,
          117,
          118,
          120,
          121,
          122,
          123,
          124,
          125,
          126,
          127,
          128,
          129,
          130,
          131,
          133,
          134,
          135,
          136,
          137,
          138,
          140,
          141,
          143,
          145,
          146,
          148,
          149,
          150,
          151,
          152,
          153,
          154,
          155,
          158,
          159,
          161,
          162,
          163,
          165,
          166,
          168,
          169,
          170,
          171,
          172,
          173,
          175,
          176,
          177,
          178,
          179,
          180,
          182,
          183,
          184,
          185,
          186,
          187,
          188,
          190,
          191,
          193,
          196,
          198,
          199,
          202,
          203,
          204,
          205,
          206,
          207,
          209,
          210,
          211,
          212,
          215,
          216,
          218,
          219,
          220,
          221,
          222,
          223,
          224,
          225,
          226,
          227,
          228,
          229,
          230,
          232,
          233,
          234,
          235,
          236,
          237,
          239,
          240,
          241,
          243,
          244,
          246
         ],
         "yaxis": "y",
         "type": "scatter"
        },
        {
         "hovertemplate": "Class=1<br>Positive Class Probability=%{x}<br>Sample Integer Index=%{y}<extra></extra>",
         "legendgroup": "1",
         "marker": {
          "color": "#FF2079",
          "opacity": 0.6,
          "symbol": "circle",
          "size": 6
         },
         "mode": "markers",
         "name": "1",
         "orientation": "v",
         "showlegend": true,
         "x": [
          0.2928275763988495,
          0.2773183584213257,
          0.6863943338394165,
          0.40704670548439026,
          0.49992886185646057,
          0.9871391654014587,
          0.9965611100196838,
          0.9994624257087708,
          0.9953150749206543,
          0.998140811920166,
          0.8539250493049622,
          0.9567322134971619,
          0.9881383776664734,
          0.4646843373775482,
          0.9979094862937927,
          0.9906575679779053,
          0.49393418431282043,
          0.999234676361084,
          0.9711461663246155,
          0.2426607459783554,
          0.9999580383300781,
          0.922059953212738,
          0.6747597455978394,
          0.982744038105011,
          0.28113627433776855,
          0.4112710952758789,
          0.9778428673744202,
          0.9976074695587158,
          0.29243606328964233,
          0.7141405940055847,
          0.9920192360877991,
          0.937584638595581,
          0.7713679075241089,
          0.9999563694000244,
          0.9969242215156555,
          0.9993429780006409,
          0.9802337288856506,
          0.9089826345443726,
          0.9938276410102844,
          0.9385467767715454,
          0.9750370979309082,
          0.9985260963439941,
          0.9943138360977173
         ],
         "xaxis": "x",
         "y": [
          1,
          4,
          5,
          47,
          52,
          73,
          77,
          83,
          87,
          100,
          101,
          103,
          104,
          107,
          113,
          119,
          132,
          139,
          142,
          144,
          147,
          156,
          157,
          160,
          164,
          167,
          174,
          181,
          189,
          192,
          194,
          195,
          197,
          200,
          201,
          208,
          213,
          214,
          217,
          231,
          238,
          242,
          245
         ],
         "yaxis": "y",
         "type": "scatter"
        }
       ],
       "layout": {
        "template": {
         "data": {
          "histogram2dcontour": [
           {
            "type": "histogram2dcontour",
            "colorbar": {
             "outlinewidth": 0,
             "ticks": ""
            },
            "colorscale": [
             [
              0.0,
              "#0d0887"
             ],
             [
              0.1111111111111111,
              "#46039f"
             ],
             [
              0.2222222222222222,
              "#7201a8"
             ],
             [
              0.3333333333333333,
              "#9c179e"
             ],
             [
              0.4444444444444444,
              "#bd3786"
             ],
             [
              0.5555555555555556,
              "#d8576b"
             ],
             [
              0.6666666666666666,
              "#ed7953"
             ],
             [
              0.7777777777777778,
              "#fb9f3a"
             ],
             [
              0.8888888888888888,
              "#fdca26"
             ],
             [
              1.0,
              "#f0f921"
             ]
            ]
           }
          ],
          "choropleth": [
           {
            "type": "choropleth",
            "colorbar": {
             "outlinewidth": 0,
             "ticks": ""
            }
           }
          ],
          "histogram2d": [
           {
            "type": "histogram2d",
            "colorbar": {
             "outlinewidth": 0,
             "ticks": ""
            },
            "colorscale": [
             [
              0.0,
              "#0d0887"
             ],
             [
              0.1111111111111111,
              "#46039f"
             ],
             [
              0.2222222222222222,
              "#7201a8"
             ],
             [
              0.3333333333333333,
              "#9c179e"
             ],
             [
              0.4444444444444444,
              "#bd3786"
             ],
             [
              0.5555555555555556,
              "#d8576b"
             ],
             [
              0.6666666666666666,
              "#ed7953"
             ],
             [
              0.7777777777777778,
              "#fb9f3a"
             ],
             [
              0.8888888888888888,
              "#fdca26"
             ],
             [
              1.0,
              "#f0f921"
             ]
            ]
           }
          ],
          "heatmap": [
           {
            "type": "heatmap",
            "colorbar": {
             "outlinewidth": 0,
             "ticks": ""
            },
            "colorscale": [
             [
              0.0,
              "#0d0887"
             ],
             [
              0.1111111111111111,
              "#46039f"
             ],
             [
              0.2222222222222222,
              "#7201a8"
             ],
             [
              0.3333333333333333,
              "#9c179e"
             ],
             [
              0.4444444444444444,
              "#bd3786"
             ],
             [
              0.5555555555555556,
              "#d8576b"
             ],
             [
              0.6666666666666666,
              "#ed7953"
             ],
             [
              0.7777777777777778,
              "#fb9f3a"
             ],
             [
              0.8888888888888888,
              "#fdca26"
             ],
             [
              1.0,
              "#f0f921"
             ]
            ]
           }
          ],
          "heatmapgl": [
           {
            "type": "heatmapgl",
            "colorbar": {
             "outlinewidth": 0,
             "ticks": ""
            },
            "colorscale": [
             [
              0.0,
              "#0d0887"
             ],
             [
              0.1111111111111111,
              "#46039f"
             ],
             [
              0.2222222222222222,
              "#7201a8"
             ],
             [
              0.3333333333333333,
              "#9c179e"
             ],
             [
              0.4444444444444444,
              "#bd3786"
             ],
             [
              0.5555555555555556,
              "#d8576b"
             ],
             [
              0.6666666666666666,
              "#ed7953"
             ],
             [
              0.7777777777777778,
              "#fb9f3a"
             ],
             [
              0.8888888888888888,
              "#fdca26"
             ],
             [
              1.0,
              "#f0f921"
             ]
            ]
           }
          ],
          "contourcarpet": [
           {
            "type": "contourcarpet",
            "colorbar": {
             "outlinewidth": 0,
             "ticks": ""
            }
           }
          ],
          "contour": [
           {
            "type": "contour",
            "colorbar": {
             "outlinewidth": 0,
             "ticks": ""
            },
            "colorscale": [
             [
              0.0,
              "#0d0887"
             ],
             [
              0.1111111111111111,
              "#46039f"
             ],
             [
              0.2222222222222222,
              "#7201a8"
             ],
             [
              0.3333333333333333,
              "#9c179e"
             ],
             [
              0.4444444444444444,
              "#bd3786"
             ],
             [
              0.5555555555555556,
              "#d8576b"
             ],
             [
              0.6666666666666666,
              "#ed7953"
             ],
             [
              0.7777777777777778,
              "#fb9f3a"
             ],
             [
              0.8888888888888888,
              "#fdca26"
             ],
             [
              1.0,
              "#f0f921"
             ]
            ]
           }
          ],
          "surface": [
           {
            "type": "surface",
            "colorbar": {
             "outlinewidth": 0,
             "ticks": ""
            },
            "colorscale": [
             [
              0.0,
              "#0d0887"
             ],
             [
              0.1111111111111111,
              "#46039f"
             ],
             [
              0.2222222222222222,
              "#7201a8"
             ],
             [
              0.3333333333333333,
              "#9c179e"
             ],
             [
              0.4444444444444444,
              "#bd3786"
             ],
             [
              0.5555555555555556,
              "#d8576b"
             ],
             [
              0.6666666666666666,
              "#ed7953"
             ],
             [
              0.7777777777777778,
              "#fb9f3a"
             ],
             [
              0.8888888888888888,
              "#fdca26"
             ],
             [
              1.0,
              "#f0f921"
             ]
            ]
           }
          ],
          "mesh3d": [
           {
            "type": "mesh3d",
            "colorbar": {
             "outlinewidth": 0,
             "ticks": ""
            }
           }
          ],
          "scatter": [
           {
            "fillpattern": {
             "fillmode": "overlay",
             "size": 10,
             "solidity": 0.2
            },
            "type": "scatter"
           }
          ],
          "parcoords": [
           {
            "type": "parcoords",
            "line": {
             "colorbar": {
              "outlinewidth": 0,
              "ticks": ""
             }
            }
           }
          ],
          "scatterpolargl": [
           {
            "type": "scatterpolargl",
            "marker": {
             "colorbar": {
              "outlinewidth": 0,
              "ticks": ""
             }
            }
           }
          ],
          "bar": [
           {
            "error_x": {
             "color": "#2a3f5f"
            },
            "error_y": {
             "color": "#2a3f5f"
            },
            "marker": {
             "line": {
              "color": "#E5ECF6",
              "width": 0.5
             },
             "pattern": {
              "fillmode": "overlay",
              "size": 10,
              "solidity": 0.2
             }
            },
            "type": "bar"
           }
          ],
          "scattergeo": [
           {
            "type": "scattergeo",
            "marker": {
             "colorbar": {
              "outlinewidth": 0,
              "ticks": ""
             }
            }
           }
          ],
          "scatterpolar": [
           {
            "type": "scatterpolar",
            "marker": {
             "colorbar": {
              "outlinewidth": 0,
              "ticks": ""
             }
            }
           }
          ],
          "histogram": [
           {
            "marker": {
             "pattern": {
              "fillmode": "overlay",
              "size": 10,
              "solidity": 0.2
             }
            },
            "type": "histogram"
           }
          ],
          "scattergl": [
           {
            "type": "scattergl",
            "marker": {
             "colorbar": {
              "outlinewidth": 0,
              "ticks": ""
             }
            }
           }
          ],
          "scatter3d": [
           {
            "type": "scatter3d",
            "line": {
             "colorbar": {
              "outlinewidth": 0,
              "ticks": ""
             }
            },
            "marker": {
             "colorbar": {
              "outlinewidth": 0,
              "ticks": ""
             }
            }
           }
          ],
          "scattermapbox": [
           {
            "type": "scattermapbox",
            "marker": {
             "colorbar": {
              "outlinewidth": 0,
              "ticks": ""
             }
            }
           }
          ],
          "scatterternary": [
           {
            "type": "scatterternary",
            "marker": {
             "colorbar": {
              "outlinewidth": 0,
              "ticks": ""
             }
            }
           }
          ],
          "scattercarpet": [
           {
            "type": "scattercarpet",
            "marker": {
             "colorbar": {
              "outlinewidth": 0,
              "ticks": ""
             }
            }
           }
          ],
          "carpet": [
           {
            "aaxis": {
             "endlinecolor": "#2a3f5f",
             "gridcolor": "white",
             "linecolor": "white",
             "minorgridcolor": "white",
             "startlinecolor": "#2a3f5f"
            },
            "baxis": {
             "endlinecolor": "#2a3f5f",
             "gridcolor": "white",
             "linecolor": "white",
             "minorgridcolor": "white",
             "startlinecolor": "#2a3f5f"
            },
            "type": "carpet"
           }
          ],
          "table": [
           {
            "cells": {
             "fill": {
              "color": "#EBF0F8"
             },
             "line": {
              "color": "white"
             }
            },
            "header": {
             "fill": {
              "color": "#C8D4E3"
             },
             "line": {
              "color": "white"
             }
            },
            "type": "table"
           }
          ],
          "barpolar": [
           {
            "marker": {
             "line": {
              "color": "#E5ECF6",
              "width": 0.5
             },
             "pattern": {
              "fillmode": "overlay",
              "size": 10,
              "solidity": 0.2
             }
            },
            "type": "barpolar"
           }
          ],
          "pie": [
           {
            "automargin": true,
            "type": "pie"
           }
          ]
         },
         "layout": {
          "autotypenumbers": "strict",
          "colorway": [
           "#636efa",
           "#EF553B",
           "#00cc96",
           "#ab63fa",
           "#FFA15A",
           "#19d3f3",
           "#FF6692",
           "#B6E880",
           "#FF97FF",
           "#FECB52"
          ],
          "font": {
           "color": "#2a3f5f"
          },
          "hovermode": "closest",
          "hoverlabel": {
           "align": "left"
          },
          "paper_bgcolor": "white",
          "plot_bgcolor": "#E5ECF6",
          "polar": {
           "bgcolor": "#E5ECF6",
           "angularaxis": {
            "gridcolor": "white",
            "linecolor": "white",
            "ticks": ""
           },
           "radialaxis": {
            "gridcolor": "white",
            "linecolor": "white",
            "ticks": ""
           }
          },
          "ternary": {
           "bgcolor": "#E5ECF6",
           "aaxis": {
            "gridcolor": "white",
            "linecolor": "white",
            "ticks": ""
           },
           "baxis": {
            "gridcolor": "white",
            "linecolor": "white",
            "ticks": ""
           },
           "caxis": {
            "gridcolor": "white",
            "linecolor": "white",
            "ticks": ""
           }
          },
          "coloraxis": {
           "colorbar": {
            "outlinewidth": 0,
            "ticks": ""
           }
          },
          "colorscale": {
           "sequential": [
            [
             0.0,
             "#0d0887"
            ],
            [
             0.1111111111111111,
             "#46039f"
            ],
            [
             0.2222222222222222,
             "#7201a8"
            ],
            [
             0.3333333333333333,
             "#9c179e"
            ],
            [
             0.4444444444444444,
             "#bd3786"
            ],
            [
             0.5555555555555556,
             "#d8576b"
            ],
            [
             0.6666666666666666,
             "#ed7953"
            ],
            [
             0.7777777777777778,
             "#fb9f3a"
            ],
            [
             0.8888888888888888,
             "#fdca26"
            ],
            [
             1.0,
             "#f0f921"
            ]
           ],
           "sequentialminus": [
            [
             0.0,
             "#0d0887"
            ],
            [
             0.1111111111111111,
             "#46039f"
            ],
            [
             0.2222222222222222,
             "#7201a8"
            ],
            [
             0.3333333333333333,
             "#9c179e"
            ],
            [
             0.4444444444444444,
             "#bd3786"
            ],
            [
             0.5555555555555556,
             "#d8576b"
            ],
            [
             0.6666666666666666,
             "#ed7953"
            ],
            [
             0.7777777777777778,
             "#fb9f3a"
            ],
            [
             0.8888888888888888,
             "#fdca26"
            ],
            [
             1.0,
             "#f0f921"
            ]
           ],
           "diverging": [
            [
             0,
             "#8e0152"
            ],
            [
             0.1,
             "#c51b7d"
            ],
            [
             0.2,
             "#de77ae"
            ],
            [
             0.3,
             "#f1b6da"
            ],
            [
             0.4,
             "#fde0ef"
            ],
            [
             0.5,
             "#f7f7f7"
            ],
            [
             0.6,
             "#e6f5d0"
            ],
            [
             0.7,
             "#b8e186"
            ],
            [
             0.8,
             "#7fbc41"
            ],
            [
             0.9,
             "#4d9221"
            ],
            [
             1,
             "#276419"
            ]
           ]
          },
          "xaxis": {
           "gridcolor": "white",
           "linecolor": "white",
           "ticks": "",
           "title": {
            "standoff": 15
           },
           "zerolinecolor": "white",
           "automargin": true,
           "zerolinewidth": 2
          },
          "yaxis": {
           "gridcolor": "white",
           "linecolor": "white",
           "ticks": "",
           "title": {
            "standoff": 15
           },
           "zerolinecolor": "white",
           "automargin": true,
           "zerolinewidth": 2
          },
          "scene": {
           "xaxis": {
            "backgroundcolor": "#E5ECF6",
            "gridcolor": "white",
            "linecolor": "white",
            "showbackground": true,
            "ticks": "",
            "zerolinecolor": "white",
            "gridwidth": 2
           },
           "yaxis": {
            "backgroundcolor": "#E5ECF6",
            "gridcolor": "white",
            "linecolor": "white",
            "showbackground": true,
            "ticks": "",
            "zerolinecolor": "white",
            "gridwidth": 2
           },
           "zaxis": {
            "backgroundcolor": "#E5ECF6",
            "gridcolor": "white",
            "linecolor": "white",
            "showbackground": true,
            "ticks": "",
            "zerolinecolor": "white",
            "gridwidth": 2
           }
          },
          "shapedefaults": {
           "line": {
            "color": "#2a3f5f"
           }
          },
          "annotationdefaults": {
           "arrowcolor": "#2a3f5f",
           "arrowhead": 0,
           "arrowwidth": 1
          },
          "geo": {
           "bgcolor": "white",
           "landcolor": "#E5ECF6",
           "subunitcolor": "white",
           "showland": true,
           "showlakes": true,
           "lakecolor": "white"
          },
          "title": {
           "x": 0.05
          },
          "mapbox": {
           "style": "light"
          }
         }
        },
        "xaxis": {
         "anchor": "y",
         "domain": [
          0.0,
          1.0
         ],
         "title": {
          "text": "Positive Class Probability"
         },
         "range": [
          -0.02,
          1.02
         ]
        },
        "yaxis": {
         "anchor": "x",
         "domain": [
          0.0,
          1.0
         ],
         "title": {
          "text": "Sample Integer Index"
         }
        },
        "legend": {
         "title": {
          "text": "Class"
         },
         "tracegroupgap": 0,
         "orientation": "h",
         "yanchor": "bottom",
         "xanchor": "right",
         "y": 1.05,
         "x": 1,
         "itemsizing": "constant"
        },
        "title": {
         "text": "Training Dataset - Out of Fold Predictions",
         "font": {
          "size": 18
         }
        },
        "height": 540,
        "width": 840
       },
       "config": {
        "plotlyServerURL": "https://plot.ly"
       }
      },
      "text/html": "<div>                            <div id=\"eaf31d39-1b54-4e06-b229-84a91c7494d5\" class=\"plotly-graph-div\" style=\"height:540px; width:840px;\"></div>            <script type=\"text/javascript\">                require([\"plotly\"], function(Plotly) {                    window.PLOTLYENV=window.PLOTLYENV || {};                                    if (document.getElementById(\"eaf31d39-1b54-4e06-b229-84a91c7494d5\")) {                    Plotly.newPlot(                        \"eaf31d39-1b54-4e06-b229-84a91c7494d5\",                        [{\"hovertemplate\":\"Class=0\\u003cbr\\u003ePositive Class Probability=%{x}\\u003cbr\\u003eSample Integer Index=%{y}\\u003cextra\\u003e\\u003c\\u002fextra\\u003e\",\"legendgroup\":\"0\",\"marker\":{\"color\":\"#010D36\",\"opacity\":0.6,\"symbol\":\"diamond\",\"size\":6},\"mode\":\"markers\",\"name\":\"0\",\"orientation\":\"v\",\"showlegend\":true,\"x\":[0.25821083784103394,0.2503295838832855,0.3426203429698944,0.2567905783653259,0.2825842499732971,0.2994465231895447,0.3150482475757599,0.2616216242313385,0.35106682777404785,0.7293592691421509,0.2418801188468933,0.23757107555866241,0.34226056933403015,0.21067334711551666,0.27988946437835693,0.26577267050743103,0.28228574991226196,0.31244462728500366,0.241890087723732,0.3090965151786804,0.2288774996995926,0.25538697838783264,0.2838953733444214,0.22447846829891205,0.2730236053466797,0.2292434573173523,0.3672849237918854,0.5942770838737488,0.31072303652763367,0.6197493672370911,0.21073390543460846,0.2375834882259369,0.23425665497779846,0.2568165361881256,0.24329006671905518,0.21138936281204224,0.27781763672828674,0.8839513063430786,0.45904019474983215,0.28250423073768616,0.3103798031806946,0.4441487193107605,0.3418516516685486,0.22049835324287415,0.24993574619293213,0.26764723658561707,0.27222326397895813,0.30741894245147705,0.22028709948062897,0.23334664106369019,0.2360367774963379,0.24696336686611176,0.5799112915992737,0.8193385601043701,0.24767088890075684,0.28881463408470154,0.29307928681373596,0.249284565448761,0.27513477206230164,0.29830271005630493,0.27938389778137207,0.38691985607147217,0.7050579786300659,0.9889951944351196,0.5338009595870972,0.3477599024772644,0.3159669041633606,0.22305643558502197,0.8691099286079407,0.2849276065826416,0.24212121963500977,0.848673939704895,0.24489152431488037,0.2884930372238159,0.15943513810634613,0.2781982123851776,0.27514582872390747,0.2824285924434662,0.2635345160961151,0.25954562425613403,0.8948164582252502,0.46067363023757935,0.26318055391311646,0.4986857771873474,0.24862602353096008,0.17562097311019897,0.2980339527130127,0.23229999840259552,0.23468995094299316,0.19160084426403046,0.3617592751979828,0.3606014549732208,0.2276720106601715,0.31983181834220886,0.3220069408416748,0.31229105591773987,0.22704125940799713,0.2186480313539505,0.2720176577568054,0.33202314376831055,0.2281121015548706,0.2673470079898834,0.25390100479125977,0.3194807469844818,0.2422960102558136,0.24894915521144867,0.21897262334823608,0.7482722401618958,0.9764026403427124,0.3585783541202545,0.19686563313007355,0.20908020436763763,0.24382269382476807,0.2736425995826721,0.7318176031112671,0.24835838377475739,0.3700093924999237,0.24043595790863037,0.21625573933124542,0.21857796609401703,0.20744037628173828,0.19994430243968964,0.31563103199005127,0.24216924607753754,0.29599153995513916,0.3819604814052582,0.5884231925010681,0.24222201108932495,0.35795196890830994,0.25838857889175415,0.2487785965204239,0.2996923625469208,0.2142176330089569,0.21186916530132294,0.27393513917922974,0.2777869403362274,0.2644284665584564,0.24292802810668945,0.25711244344711304,0.2850877642631531,0.61790931224823,0.38124629855155945,0.16510272026062012,0.31713739037513733,0.27126026153564453,0.23148895800113678,0.2712842524051666,0.24528101086616516,0.3133664131164551,0.2034858614206314,0.29016855359077454,0.24760077893733978,0.2545469403266907,0.32583341002464294,0.22175227105617523,0.24441231787204742,0.24995265901088715,0.19539906084537506,0.288270503282547,0.25119340419769287,0.3292548954486847,0.20650507509708405,0.2573837637901306,0.6880342960357666,0.2535102665424347,0.22060979902744293,0.2552594244480133,0.25060367584228516,0.24330757558345795,0.22139574587345123,0.322197824716568,0.30086031556129456,0.2817423343658447,0.224140927195549,0.6346108913421631,0.22867730259895325,0.2682061791419983,0.304088294506073,0.23038111627101898,0.1939569115638733,0.29875776171684265,0.3391842544078827,0.17298538982868195,0.22765089571475983,0.24309660494327545,0.3033885657787323,0.2219657003879547,0.2912379801273346,0.2302333563566208,0.2915700376033783,0.2799130380153656,0.3513261079788208,0.2640204131603241,0.17026837170124054,0.21045070886611938,0.16424573957920074,0.5939900875091553,0.2537756860256195,0.23156897723674774,0.4023074805736542,0.33916544914245605,0.28546905517578125,0.22135384380817413,0.46786487102508545],\"xaxis\":\"x\",\"y\":[0,2,3,6,7,8,9,10,11,12,13,14,15,16,17,18,19,20,21,22,23,24,25,26,27,28,29,30,31,32,33,34,35,36,37,38,39,40,41,42,43,44,45,46,48,49,50,51,53,54,55,56,57,58,59,60,61,62,63,64,65,66,67,68,69,70,71,72,74,75,76,78,79,80,81,82,84,85,86,88,89,90,91,92,93,94,95,96,97,98,99,102,105,106,108,109,110,111,112,114,115,116,117,118,120,121,122,123,124,125,126,127,128,129,130,131,133,134,135,136,137,138,140,141,143,145,146,148,149,150,151,152,153,154,155,158,159,161,162,163,165,166,168,169,170,171,172,173,175,176,177,178,179,180,182,183,184,185,186,187,188,190,191,193,196,198,199,202,203,204,205,206,207,209,210,211,212,215,216,218,219,220,221,222,223,224,225,226,227,228,229,230,232,233,234,235,236,237,239,240,241,243,244,246],\"yaxis\":\"y\",\"type\":\"scatter\"},{\"hovertemplate\":\"Class=1\\u003cbr\\u003ePositive Class Probability=%{x}\\u003cbr\\u003eSample Integer Index=%{y}\\u003cextra\\u003e\\u003c\\u002fextra\\u003e\",\"legendgroup\":\"1\",\"marker\":{\"color\":\"#FF2079\",\"opacity\":0.6,\"symbol\":\"circle\",\"size\":6},\"mode\":\"markers\",\"name\":\"1\",\"orientation\":\"v\",\"showlegend\":true,\"x\":[0.2928275763988495,0.2773183584213257,0.6863943338394165,0.40704670548439026,0.49992886185646057,0.9871391654014587,0.9965611100196838,0.9994624257087708,0.9953150749206543,0.998140811920166,0.8539250493049622,0.9567322134971619,0.9881383776664734,0.4646843373775482,0.9979094862937927,0.9906575679779053,0.49393418431282043,0.999234676361084,0.9711461663246155,0.2426607459783554,0.9999580383300781,0.922059953212738,0.6747597455978394,0.982744038105011,0.28113627433776855,0.4112710952758789,0.9778428673744202,0.9976074695587158,0.29243606328964233,0.7141405940055847,0.9920192360877991,0.937584638595581,0.7713679075241089,0.9999563694000244,0.9969242215156555,0.9993429780006409,0.9802337288856506,0.9089826345443726,0.9938276410102844,0.9385467767715454,0.9750370979309082,0.9985260963439941,0.9943138360977173],\"xaxis\":\"x\",\"y\":[1,4,5,47,52,73,77,83,87,100,101,103,104,107,113,119,132,139,142,144,147,156,157,160,164,167,174,181,189,192,194,195,197,200,201,208,213,214,217,231,238,242,245],\"yaxis\":\"y\",\"type\":\"scatter\"}],                        {\"template\":{\"data\":{\"histogram2dcontour\":[{\"type\":\"histogram2dcontour\",\"colorbar\":{\"outlinewidth\":0,\"ticks\":\"\"},\"colorscale\":[[0.0,\"#0d0887\"],[0.1111111111111111,\"#46039f\"],[0.2222222222222222,\"#7201a8\"],[0.3333333333333333,\"#9c179e\"],[0.4444444444444444,\"#bd3786\"],[0.5555555555555556,\"#d8576b\"],[0.6666666666666666,\"#ed7953\"],[0.7777777777777778,\"#fb9f3a\"],[0.8888888888888888,\"#fdca26\"],[1.0,\"#f0f921\"]]}],\"choropleth\":[{\"type\":\"choropleth\",\"colorbar\":{\"outlinewidth\":0,\"ticks\":\"\"}}],\"histogram2d\":[{\"type\":\"histogram2d\",\"colorbar\":{\"outlinewidth\":0,\"ticks\":\"\"},\"colorscale\":[[0.0,\"#0d0887\"],[0.1111111111111111,\"#46039f\"],[0.2222222222222222,\"#7201a8\"],[0.3333333333333333,\"#9c179e\"],[0.4444444444444444,\"#bd3786\"],[0.5555555555555556,\"#d8576b\"],[0.6666666666666666,\"#ed7953\"],[0.7777777777777778,\"#fb9f3a\"],[0.8888888888888888,\"#fdca26\"],[1.0,\"#f0f921\"]]}],\"heatmap\":[{\"type\":\"heatmap\",\"colorbar\":{\"outlinewidth\":0,\"ticks\":\"\"},\"colorscale\":[[0.0,\"#0d0887\"],[0.1111111111111111,\"#46039f\"],[0.2222222222222222,\"#7201a8\"],[0.3333333333333333,\"#9c179e\"],[0.4444444444444444,\"#bd3786\"],[0.5555555555555556,\"#d8576b\"],[0.6666666666666666,\"#ed7953\"],[0.7777777777777778,\"#fb9f3a\"],[0.8888888888888888,\"#fdca26\"],[1.0,\"#f0f921\"]]}],\"heatmapgl\":[{\"type\":\"heatmapgl\",\"colorbar\":{\"outlinewidth\":0,\"ticks\":\"\"},\"colorscale\":[[0.0,\"#0d0887\"],[0.1111111111111111,\"#46039f\"],[0.2222222222222222,\"#7201a8\"],[0.3333333333333333,\"#9c179e\"],[0.4444444444444444,\"#bd3786\"],[0.5555555555555556,\"#d8576b\"],[0.6666666666666666,\"#ed7953\"],[0.7777777777777778,\"#fb9f3a\"],[0.8888888888888888,\"#fdca26\"],[1.0,\"#f0f921\"]]}],\"contourcarpet\":[{\"type\":\"contourcarpet\",\"colorbar\":{\"outlinewidth\":0,\"ticks\":\"\"}}],\"contour\":[{\"type\":\"contour\",\"colorbar\":{\"outlinewidth\":0,\"ticks\":\"\"},\"colorscale\":[[0.0,\"#0d0887\"],[0.1111111111111111,\"#46039f\"],[0.2222222222222222,\"#7201a8\"],[0.3333333333333333,\"#9c179e\"],[0.4444444444444444,\"#bd3786\"],[0.5555555555555556,\"#d8576b\"],[0.6666666666666666,\"#ed7953\"],[0.7777777777777778,\"#fb9f3a\"],[0.8888888888888888,\"#fdca26\"],[1.0,\"#f0f921\"]]}],\"surface\":[{\"type\":\"surface\",\"colorbar\":{\"outlinewidth\":0,\"ticks\":\"\"},\"colorscale\":[[0.0,\"#0d0887\"],[0.1111111111111111,\"#46039f\"],[0.2222222222222222,\"#7201a8\"],[0.3333333333333333,\"#9c179e\"],[0.4444444444444444,\"#bd3786\"],[0.5555555555555556,\"#d8576b\"],[0.6666666666666666,\"#ed7953\"],[0.7777777777777778,\"#fb9f3a\"],[0.8888888888888888,\"#fdca26\"],[1.0,\"#f0f921\"]]}],\"mesh3d\":[{\"type\":\"mesh3d\",\"colorbar\":{\"outlinewidth\":0,\"ticks\":\"\"}}],\"scatter\":[{\"fillpattern\":{\"fillmode\":\"overlay\",\"size\":10,\"solidity\":0.2},\"type\":\"scatter\"}],\"parcoords\":[{\"type\":\"parcoords\",\"line\":{\"colorbar\":{\"outlinewidth\":0,\"ticks\":\"\"}}}],\"scatterpolargl\":[{\"type\":\"scatterpolargl\",\"marker\":{\"colorbar\":{\"outlinewidth\":0,\"ticks\":\"\"}}}],\"bar\":[{\"error_x\":{\"color\":\"#2a3f5f\"},\"error_y\":{\"color\":\"#2a3f5f\"},\"marker\":{\"line\":{\"color\":\"#E5ECF6\",\"width\":0.5},\"pattern\":{\"fillmode\":\"overlay\",\"size\":10,\"solidity\":0.2}},\"type\":\"bar\"}],\"scattergeo\":[{\"type\":\"scattergeo\",\"marker\":{\"colorbar\":{\"outlinewidth\":0,\"ticks\":\"\"}}}],\"scatterpolar\":[{\"type\":\"scatterpolar\",\"marker\":{\"colorbar\":{\"outlinewidth\":0,\"ticks\":\"\"}}}],\"histogram\":[{\"marker\":{\"pattern\":{\"fillmode\":\"overlay\",\"size\":10,\"solidity\":0.2}},\"type\":\"histogram\"}],\"scattergl\":[{\"type\":\"scattergl\",\"marker\":{\"colorbar\":{\"outlinewidth\":0,\"ticks\":\"\"}}}],\"scatter3d\":[{\"type\":\"scatter3d\",\"line\":{\"colorbar\":{\"outlinewidth\":0,\"ticks\":\"\"}},\"marker\":{\"colorbar\":{\"outlinewidth\":0,\"ticks\":\"\"}}}],\"scattermapbox\":[{\"type\":\"scattermapbox\",\"marker\":{\"colorbar\":{\"outlinewidth\":0,\"ticks\":\"\"}}}],\"scatterternary\":[{\"type\":\"scatterternary\",\"marker\":{\"colorbar\":{\"outlinewidth\":0,\"ticks\":\"\"}}}],\"scattercarpet\":[{\"type\":\"scattercarpet\",\"marker\":{\"colorbar\":{\"outlinewidth\":0,\"ticks\":\"\"}}}],\"carpet\":[{\"aaxis\":{\"endlinecolor\":\"#2a3f5f\",\"gridcolor\":\"white\",\"linecolor\":\"white\",\"minorgridcolor\":\"white\",\"startlinecolor\":\"#2a3f5f\"},\"baxis\":{\"endlinecolor\":\"#2a3f5f\",\"gridcolor\":\"white\",\"linecolor\":\"white\",\"minorgridcolor\":\"white\",\"startlinecolor\":\"#2a3f5f\"},\"type\":\"carpet\"}],\"table\":[{\"cells\":{\"fill\":{\"color\":\"#EBF0F8\"},\"line\":{\"color\":\"white\"}},\"header\":{\"fill\":{\"color\":\"#C8D4E3\"},\"line\":{\"color\":\"white\"}},\"type\":\"table\"}],\"barpolar\":[{\"marker\":{\"line\":{\"color\":\"#E5ECF6\",\"width\":0.5},\"pattern\":{\"fillmode\":\"overlay\",\"size\":10,\"solidity\":0.2}},\"type\":\"barpolar\"}],\"pie\":[{\"automargin\":true,\"type\":\"pie\"}]},\"layout\":{\"autotypenumbers\":\"strict\",\"colorway\":[\"#636efa\",\"#EF553B\",\"#00cc96\",\"#ab63fa\",\"#FFA15A\",\"#19d3f3\",\"#FF6692\",\"#B6E880\",\"#FF97FF\",\"#FECB52\"],\"font\":{\"color\":\"#2a3f5f\"},\"hovermode\":\"closest\",\"hoverlabel\":{\"align\":\"left\"},\"paper_bgcolor\":\"white\",\"plot_bgcolor\":\"#E5ECF6\",\"polar\":{\"bgcolor\":\"#E5ECF6\",\"angularaxis\":{\"gridcolor\":\"white\",\"linecolor\":\"white\",\"ticks\":\"\"},\"radialaxis\":{\"gridcolor\":\"white\",\"linecolor\":\"white\",\"ticks\":\"\"}},\"ternary\":{\"bgcolor\":\"#E5ECF6\",\"aaxis\":{\"gridcolor\":\"white\",\"linecolor\":\"white\",\"ticks\":\"\"},\"baxis\":{\"gridcolor\":\"white\",\"linecolor\":\"white\",\"ticks\":\"\"},\"caxis\":{\"gridcolor\":\"white\",\"linecolor\":\"white\",\"ticks\":\"\"}},\"coloraxis\":{\"colorbar\":{\"outlinewidth\":0,\"ticks\":\"\"}},\"colorscale\":{\"sequential\":[[0.0,\"#0d0887\"],[0.1111111111111111,\"#46039f\"],[0.2222222222222222,\"#7201a8\"],[0.3333333333333333,\"#9c179e\"],[0.4444444444444444,\"#bd3786\"],[0.5555555555555556,\"#d8576b\"],[0.6666666666666666,\"#ed7953\"],[0.7777777777777778,\"#fb9f3a\"],[0.8888888888888888,\"#fdca26\"],[1.0,\"#f0f921\"]],\"sequentialminus\":[[0.0,\"#0d0887\"],[0.1111111111111111,\"#46039f\"],[0.2222222222222222,\"#7201a8\"],[0.3333333333333333,\"#9c179e\"],[0.4444444444444444,\"#bd3786\"],[0.5555555555555556,\"#d8576b\"],[0.6666666666666666,\"#ed7953\"],[0.7777777777777778,\"#fb9f3a\"],[0.8888888888888888,\"#fdca26\"],[1.0,\"#f0f921\"]],\"diverging\":[[0,\"#8e0152\"],[0.1,\"#c51b7d\"],[0.2,\"#de77ae\"],[0.3,\"#f1b6da\"],[0.4,\"#fde0ef\"],[0.5,\"#f7f7f7\"],[0.6,\"#e6f5d0\"],[0.7,\"#b8e186\"],[0.8,\"#7fbc41\"],[0.9,\"#4d9221\"],[1,\"#276419\"]]},\"xaxis\":{\"gridcolor\":\"white\",\"linecolor\":\"white\",\"ticks\":\"\",\"title\":{\"standoff\":15},\"zerolinecolor\":\"white\",\"automargin\":true,\"zerolinewidth\":2},\"yaxis\":{\"gridcolor\":\"white\",\"linecolor\":\"white\",\"ticks\":\"\",\"title\":{\"standoff\":15},\"zerolinecolor\":\"white\",\"automargin\":true,\"zerolinewidth\":2},\"scene\":{\"xaxis\":{\"backgroundcolor\":\"#E5ECF6\",\"gridcolor\":\"white\",\"linecolor\":\"white\",\"showbackground\":true,\"ticks\":\"\",\"zerolinecolor\":\"white\",\"gridwidth\":2},\"yaxis\":{\"backgroundcolor\":\"#E5ECF6\",\"gridcolor\":\"white\",\"linecolor\":\"white\",\"showbackground\":true,\"ticks\":\"\",\"zerolinecolor\":\"white\",\"gridwidth\":2},\"zaxis\":{\"backgroundcolor\":\"#E5ECF6\",\"gridcolor\":\"white\",\"linecolor\":\"white\",\"showbackground\":true,\"ticks\":\"\",\"zerolinecolor\":\"white\",\"gridwidth\":2}},\"shapedefaults\":{\"line\":{\"color\":\"#2a3f5f\"}},\"annotationdefaults\":{\"arrowcolor\":\"#2a3f5f\",\"arrowhead\":0,\"arrowwidth\":1},\"geo\":{\"bgcolor\":\"white\",\"landcolor\":\"#E5ECF6\",\"subunitcolor\":\"white\",\"showland\":true,\"showlakes\":true,\"lakecolor\":\"white\"},\"title\":{\"x\":0.05},\"mapbox\":{\"style\":\"light\"}}},\"xaxis\":{\"anchor\":\"y\",\"domain\":[0.0,1.0],\"title\":{\"text\":\"Positive Class Probability\"},\"range\":[-0.02,1.02]},\"yaxis\":{\"anchor\":\"x\",\"domain\":[0.0,1.0],\"title\":{\"text\":\"Sample Integer Index\"}},\"legend\":{\"title\":{\"text\":\"Class\"},\"tracegroupgap\":0,\"orientation\":\"h\",\"yanchor\":\"bottom\",\"xanchor\":\"right\",\"y\":1.05,\"x\":1,\"itemsizing\":\"constant\"},\"title\":{\"text\":\"Training Dataset - Out of Fold Predictions\",\"font\":{\"size\":18}},\"height\":540,\"width\":840},                        {\"responsive\": true}                    ).then(function(){\n                            \nvar gd = document.getElementById('eaf31d39-1b54-4e06-b229-84a91c7494d5');\nvar x = new MutationObserver(function (mutations, observer) {{\n        var display = window.getComputedStyle(gd).display;\n        if (!display || display === 'none') {{\n            console.log([gd, 'removed!']);\n            Plotly.purge(gd);\n            observer.disconnect();\n        }}\n}});\n\n// Listen for the removal of the full notebook cells\nvar notebookContainer = gd.closest('#notebook-container');\nif (notebookContainer) {{\n    x.observe(notebookContainer, {childList: true});\n}}\n\n// Listen for the clearing of the current output cell\nvar outputEl = gd.closest('.output');\nif (outputEl) {{\n    x.observe(outputEl, {childList: true});\n}}\n\n                        })                };                });            </script>        </div>"
     },
     "metadata": {},
     "output_type": "display_data"
    }
   ],
   "source": [
    "plot_results(targs, pred_df['fastai_without_resampling'])"
   ],
   "metadata": {
    "collapsed": false,
    "ExecuteTime": {
     "end_time": "2023-08-07T17:44:59.989362Z",
     "start_time": "2023-08-07T17:44:59.900285Z"
    }
   },
   "id": "f77ae4e33fce6e33"
  },
  {
   "cell_type": "code",
   "execution_count": 223,
   "outputs": [],
   "source": [
    "def objective(trial):\n",
    "    w1 = trial.suggest_float(\"w1\", 0.1, 1.0, step=0.1)\n",
    "    w2 = trial.suggest_float(\"w2\", 0.1, 1.0, step=0.1)\n",
    "    w3 = trial.suggest_float(\"w2\", 0.1, 1.0, step=0.1)\n",
    "    w4 = trial.suggest_float(\"w2\", 0.1, 1.0, step=0.1)\n",
    "    w5 = trial.suggest_float(\"w2\", 0.1, 1.0, step=0.1)\n",
    "\n",
    "    total_weight = w1 + w2 + w3 + w4 + w5\n",
    "    w1 = w1 / total_weight\n",
    "    w2 = w2 / total_weight\n",
    "    w2 = w2 / total_weight\n",
    "    w2 = w2 / total_weight\n",
    "    w2 = w2 / total_weight\n",
    "\n",
    "    predictions = [\n",
    "        pred_df['catboost_with_resampling'].values,\n",
    "        pred_df['lightgbm_without_resampling'].values,\n",
    "        pred_df['xgboose_without_resampling'].values,\n",
    "        pred_df['catboost_without_resampling'].values,\n",
    "        pred_df['xgboost_with_resampling'].values,\n",
    "    ]\n",
    "\n",
    "\n",
    "\n",
    "    ensemble_pred = (w1 * predictions[0] + w2 * predictions[1] + w2 * predictions[2]) / total_weight\n",
    "\n",
    "    return balanced_log_loss(targs, ensemble_pred)\n"
   ],
   "metadata": {
    "collapsed": false,
    "ExecuteTime": {
     "end_time": "2023-08-07T17:50:02.174999Z",
     "start_time": "2023-08-07T17:50:02.128330Z"
    }
   },
   "id": "ee362205d437cf47"
  },
  {
   "cell_type": "code",
   "execution_count": 224,
   "outputs": [],
   "source": [
    "# optuna.delete_study(\n",
    "#     study_name=\"ensemble_weights\",\n",
    "#     storage=optuna_storage,\n",
    "# )"
   ],
   "metadata": {
    "collapsed": false,
    "ExecuteTime": {
     "end_time": "2023-08-07T17:50:02.792602Z",
     "start_time": "2023-08-07T17:50:02.785874Z"
    }
   },
   "id": "6985a4c0bc477be2"
  },
  {
   "cell_type": "code",
   "execution_count": 225,
   "outputs": [
    {
     "name": "stderr",
     "output_type": "stream",
     "text": [
      "[I 2023-08-07 13:50:03,133] Using an existing study with name 'ensemble_weights' instead of creating a new one.\n",
      "[I 2023-08-07 13:50:03,246] Trial 250 finished with value: 0.27218123132705246 and parameters: {'w1': 0.4, 'w2': 0.30000000000000004}. Best is trial 250 with value: 0.27218123132705246.\n",
      "[I 2023-08-07 13:50:03,308] Trial 251 finished with value: 0.73636065200028 and parameters: {'w1': 0.4, 'w2': 0.2}. Best is trial 250 with value: 0.27218123132705246.\n",
      "[I 2023-08-07 13:50:03,369] Trial 252 finished with value: 0.41897978684174153 and parameters: {'w1': 0.30000000000000004, 'w2': 0.30000000000000004}. Best is trial 250 with value: 0.27218123132705246.\n",
      "[I 2023-08-07 13:50:03,429] Trial 253 finished with value: 0.8232912776935746 and parameters: {'w1': 0.2, 'w2': 0.30000000000000004}. Best is trial 250 with value: 0.27218123132705246.\n",
      "[I 2023-08-07 13:50:03,490] Trial 254 finished with value: 0.27218123132705246 and parameters: {'w1': 0.4, 'w2': 0.30000000000000004}. Best is trial 250 with value: 0.27218123132705246.\n",
      "[I 2023-08-07 13:50:03,554] Trial 255 finished with value: 0.27218123132705246 and parameters: {'w1': 0.4, 'w2': 0.30000000000000004}. Best is trial 250 with value: 0.27218123132705246.\n",
      "[I 2023-08-07 13:50:03,615] Trial 256 finished with value: 0.27218123132705246 and parameters: {'w1': 0.4, 'w2': 0.30000000000000004}. Best is trial 250 with value: 0.27218123132705246.\n",
      "[I 2023-08-07 13:50:03,674] Trial 257 finished with value: 0.27218123132705246 and parameters: {'w1': 0.4, 'w2': 0.30000000000000004}. Best is trial 250 with value: 0.27218123132705246.\n",
      "[I 2023-08-07 13:50:03,734] Trial 258 finished with value: 0.3287603562030948 and parameters: {'w1': 0.30000000000000004, 'w2': 0.4}. Best is trial 250 with value: 0.27218123132705246.\n",
      "[I 2023-08-07 13:50:03,795] Trial 259 finished with value: 0.27218123132705246 and parameters: {'w1': 0.4, 'w2': 0.30000000000000004}. Best is trial 250 with value: 0.27218123132705246.\n",
      "[I 2023-08-07 13:50:03,858] Trial 260 finished with value: 0.27218123132705246 and parameters: {'w1': 0.4, 'w2': 0.30000000000000004}. Best is trial 250 with value: 0.27218123132705246.\n",
      "[I 2023-08-07 13:50:03,918] Trial 261 finished with value: 0.27218123132705246 and parameters: {'w1': 0.4, 'w2': 0.30000000000000004}. Best is trial 250 with value: 0.27218123132705246.\n",
      "[I 2023-08-07 13:50:03,978] Trial 262 finished with value: 0.27218123132705246 and parameters: {'w1': 0.4, 'w2': 0.30000000000000004}. Best is trial 250 with value: 0.27218123132705246.\n",
      "[I 2023-08-07 13:50:04,038] Trial 263 finished with value: 0.27218123132705246 and parameters: {'w1': 0.4, 'w2': 0.30000000000000004}. Best is trial 250 with value: 0.27218123132705246.\n",
      "[I 2023-08-07 13:50:04,108] Trial 264 finished with value: 0.27218123132705246 and parameters: {'w1': 0.4, 'w2': 0.30000000000000004}. Best is trial 250 with value: 0.27218123132705246.\n",
      "[I 2023-08-07 13:50:04,168] Trial 265 finished with value: 0.27218123132705246 and parameters: {'w1': 0.4, 'w2': 0.30000000000000004}. Best is trial 250 with value: 0.27218123132705246.\n",
      "[I 2023-08-07 13:50:04,227] Trial 266 finished with value: 0.27218123132705246 and parameters: {'w1': 0.4, 'w2': 0.30000000000000004}. Best is trial 250 with value: 0.27218123132705246.\n",
      "[I 2023-08-07 13:50:04,288] Trial 267 finished with value: 0.73636065200028 and parameters: {'w1': 0.4, 'w2': 0.2}. Best is trial 250 with value: 0.27218123132705246.\n",
      "[I 2023-08-07 13:50:04,349] Trial 268 finished with value: 0.27218123132705246 and parameters: {'w1': 0.4, 'w2': 0.30000000000000004}. Best is trial 250 with value: 0.27218123132705246.\n",
      "[I 2023-08-07 13:50:04,407] Trial 269 finished with value: 0.27218123132705246 and parameters: {'w1': 0.4, 'w2': 0.30000000000000004}. Best is trial 250 with value: 0.27218123132705246.\n",
      "[I 2023-08-07 13:50:04,465] Trial 270 finished with value: 0.3230523175635169 and parameters: {'w1': 0.5, 'w2': 0.30000000000000004}. Best is trial 250 with value: 0.27218123132705246.\n",
      "[I 2023-08-07 13:50:04,524] Trial 271 finished with value: 0.27218123132705246 and parameters: {'w1': 0.4, 'w2': 0.30000000000000004}. Best is trial 250 with value: 0.27218123132705246.\n",
      "[I 2023-08-07 13:50:04,583] Trial 272 finished with value: 0.27218123132705246 and parameters: {'w1': 0.4, 'w2': 0.30000000000000004}. Best is trial 250 with value: 0.27218123132705246.\n",
      "[I 2023-08-07 13:50:04,641] Trial 273 finished with value: 0.27218123132705246 and parameters: {'w1': 0.4, 'w2': 0.30000000000000004}. Best is trial 250 with value: 0.27218123132705246.\n",
      "[I 2023-08-07 13:50:04,700] Trial 274 finished with value: 0.27218123132705246 and parameters: {'w1': 0.4, 'w2': 0.30000000000000004}. Best is trial 250 with value: 0.27218123132705246.\n",
      "[I 2023-08-07 13:50:04,757] Trial 275 finished with value: 0.27218123132705246 and parameters: {'w1': 0.4, 'w2': 0.30000000000000004}. Best is trial 250 with value: 0.27218123132705246.\n",
      "[I 2023-08-07 13:50:04,816] Trial 276 finished with value: 0.27218123132705246 and parameters: {'w1': 0.4, 'w2': 0.30000000000000004}. Best is trial 250 with value: 0.27218123132705246.\n",
      "[I 2023-08-07 13:50:04,884] Trial 277 finished with value: 0.4927350963679845 and parameters: {'w1': 0.4, 'w2': 0.5}. Best is trial 250 with value: 0.27218123132705246.\n",
      "[I 2023-08-07 13:50:04,952] Trial 278 finished with value: 0.27218123132705246 and parameters: {'w1': 0.4, 'w2': 0.30000000000000004}. Best is trial 250 with value: 0.27218123132705246.\n",
      "[I 2023-08-07 13:50:05,011] Trial 279 finished with value: 0.27218123132705246 and parameters: {'w1': 0.4, 'w2': 0.30000000000000004}. Best is trial 250 with value: 0.27218123132705246.\n",
      "[I 2023-08-07 13:50:05,068] Trial 280 finished with value: 0.27218123132705246 and parameters: {'w1': 0.4, 'w2': 0.30000000000000004}. Best is trial 250 with value: 0.27218123132705246.\n",
      "[I 2023-08-07 13:50:05,127] Trial 281 finished with value: 0.3818815320744895 and parameters: {'w1': 0.4, 'w2': 0.4}. Best is trial 250 with value: 0.27218123132705246.\n",
      "[I 2023-08-07 13:50:05,184] Trial 282 finished with value: 0.27218123132705246 and parameters: {'w1': 0.4, 'w2': 0.30000000000000004}. Best is trial 250 with value: 0.27218123132705246.\n",
      "[I 2023-08-07 13:50:05,242] Trial 283 finished with value: 0.27218123132705246 and parameters: {'w1': 0.4, 'w2': 0.30000000000000004}. Best is trial 250 with value: 0.27218123132705246.\n",
      "[I 2023-08-07 13:50:05,303] Trial 284 finished with value: 0.27218123132705246 and parameters: {'w1': 0.4, 'w2': 0.30000000000000004}. Best is trial 250 with value: 0.27218123132705246.\n",
      "[I 2023-08-07 13:50:05,364] Trial 285 finished with value: 0.27218123132705246 and parameters: {'w1': 0.4, 'w2': 0.30000000000000004}. Best is trial 250 with value: 0.27218123132705246.\n",
      "[I 2023-08-07 13:50:05,423] Trial 286 finished with value: 0.27218123132705246 and parameters: {'w1': 0.4, 'w2': 0.30000000000000004}. Best is trial 250 with value: 0.27218123132705246.\n",
      "[I 2023-08-07 13:50:05,483] Trial 287 finished with value: 0.4215874048095965 and parameters: {'w1': 0.5, 'w2': 0.2}. Best is trial 250 with value: 0.27218123132705246.\n",
      "[I 2023-08-07 13:50:05,543] Trial 288 finished with value: 0.41897978684174153 and parameters: {'w1': 0.30000000000000004, 'w2': 0.30000000000000004}. Best is trial 250 with value: 0.27218123132705246.\n",
      "[I 2023-08-07 13:50:05,604] Trial 289 finished with value: 0.27218123132705246 and parameters: {'w1': 0.4, 'w2': 0.30000000000000004}. Best is trial 250 with value: 0.27218123132705246.\n",
      "[I 2023-08-07 13:50:05,666] Trial 290 finished with value: 0.27218123132705246 and parameters: {'w1': 0.4, 'w2': 0.30000000000000004}. Best is trial 250 with value: 0.27218123132705246.\n",
      "[I 2023-08-07 13:50:05,728] Trial 291 finished with value: 0.27218123132705246 and parameters: {'w1': 0.4, 'w2': 0.30000000000000004}. Best is trial 250 with value: 0.27218123132705246.\n",
      "[I 2023-08-07 13:50:05,789] Trial 292 finished with value: 0.27218123132705246 and parameters: {'w1': 0.4, 'w2': 0.30000000000000004}. Best is trial 250 with value: 0.27218123132705246.\n",
      "[I 2023-08-07 13:50:05,850] Trial 293 finished with value: 0.27218123132705246 and parameters: {'w1': 0.4, 'w2': 0.30000000000000004}. Best is trial 250 with value: 0.27218123132705246.\n",
      "[I 2023-08-07 13:50:05,910] Trial 294 finished with value: 0.27218123132705246 and parameters: {'w1': 0.4, 'w2': 0.30000000000000004}. Best is trial 250 with value: 0.27218123132705246.\n",
      "[I 2023-08-07 13:50:05,971] Trial 295 finished with value: 0.27218123132705246 and parameters: {'w1': 0.4, 'w2': 0.30000000000000004}. Best is trial 250 with value: 0.27218123132705246.\n",
      "[I 2023-08-07 13:50:06,032] Trial 296 finished with value: 0.3230523175635169 and parameters: {'w1': 0.5, 'w2': 0.30000000000000004}. Best is trial 250 with value: 0.27218123132705246.\n",
      "[I 2023-08-07 13:50:06,092] Trial 297 finished with value: 0.27218123132705246 and parameters: {'w1': 0.4, 'w2': 0.30000000000000004}. Best is trial 250 with value: 0.27218123132705246.\n",
      "[I 2023-08-07 13:50:06,154] Trial 298 finished with value: 0.3818815320744895 and parameters: {'w1': 0.4, 'w2': 0.4}. Best is trial 250 with value: 0.27218123132705246.\n",
      "[I 2023-08-07 13:50:06,218] Trial 299 finished with value: 0.73636065200028 and parameters: {'w1': 0.4, 'w2': 0.2}. Best is trial 250 with value: 0.27218123132705246.\n",
      "[I 2023-08-07 13:50:06,278] Trial 300 finished with value: 0.41897978684174153 and parameters: {'w1': 0.30000000000000004, 'w2': 0.30000000000000004}. Best is trial 250 with value: 0.27218123132705246.\n",
      "[I 2023-08-07 13:50:06,343] Trial 301 finished with value: 0.27218123132705246 and parameters: {'w1': 0.4, 'w2': 0.30000000000000004}. Best is trial 250 with value: 0.27218123132705246.\n",
      "[I 2023-08-07 13:50:06,411] Trial 302 finished with value: 1.447670241442269 and parameters: {'w1': 0.1, 'w2': 0.30000000000000004}. Best is trial 250 with value: 0.27218123132705246.\n",
      "[I 2023-08-07 13:50:06,471] Trial 303 finished with value: 0.27218123132705246 and parameters: {'w1': 0.4, 'w2': 0.30000000000000004}. Best is trial 250 with value: 0.27218123132705246.\n",
      "[I 2023-08-07 13:50:06,539] Trial 304 finished with value: 0.3818815320744895 and parameters: {'w1': 0.4, 'w2': 0.4}. Best is trial 250 with value: 0.27218123132705246.\n",
      "[I 2023-08-07 13:50:06,598] Trial 305 finished with value: 0.27218123132705246 and parameters: {'w1': 0.4, 'w2': 0.30000000000000004}. Best is trial 250 with value: 0.27218123132705246.\n",
      "[I 2023-08-07 13:50:06,658] Trial 306 finished with value: 0.5968452626603482 and parameters: {'w1': 0.4, 'w2': 0.6}. Best is trial 250 with value: 0.27218123132705246.\n",
      "[I 2023-08-07 13:50:06,717] Trial 307 finished with value: 0.7226294571641425 and parameters: {'w1': 0.5, 'w2': 0.7000000000000001}. Best is trial 250 with value: 0.27218123132705246.\n",
      "[I 2023-08-07 13:50:06,779] Trial 308 finished with value: 0.27218123132705246 and parameters: {'w1': 0.4, 'w2': 0.30000000000000004}. Best is trial 250 with value: 0.27218123132705246.\n",
      "[I 2023-08-07 13:50:06,844] Trial 309 finished with value: 0.41897978684174153 and parameters: {'w1': 0.30000000000000004, 'w2': 0.30000000000000004}. Best is trial 250 with value: 0.27218123132705246.\n",
      "[I 2023-08-07 13:50:06,910] Trial 310 finished with value: 0.27218123132705246 and parameters: {'w1': 0.4, 'w2': 0.30000000000000004}. Best is trial 250 with value: 0.27218123132705246.\n",
      "[I 2023-08-07 13:50:06,972] Trial 311 finished with value: 0.73636065200028 and parameters: {'w1': 0.4, 'w2': 0.2}. Best is trial 250 with value: 0.27218123132705246.\n",
      "[I 2023-08-07 13:50:07,036] Trial 312 finished with value: 0.27218123132705246 and parameters: {'w1': 0.4, 'w2': 0.30000000000000004}. Best is trial 250 with value: 0.27218123132705246.\n",
      "[I 2023-08-07 13:50:07,100] Trial 313 finished with value: 0.27218123132705246 and parameters: {'w1': 0.4, 'w2': 0.30000000000000004}. Best is trial 250 with value: 0.27218123132705246.\n",
      "[I 2023-08-07 13:50:07,166] Trial 314 finished with value: 0.27218123132705246 and parameters: {'w1': 0.4, 'w2': 0.30000000000000004}. Best is trial 250 with value: 0.27218123132705246.\n",
      "[I 2023-08-07 13:50:07,226] Trial 315 finished with value: 0.3818815320744895 and parameters: {'w1': 0.4, 'w2': 0.4}. Best is trial 250 with value: 0.27218123132705246.\n",
      "[I 2023-08-07 13:50:07,288] Trial 316 finished with value: 0.9422941314762073 and parameters: {'w1': 0.4, 'w2': 1.0}. Best is trial 250 with value: 0.27218123132705246.\n",
      "[I 2023-08-07 13:50:07,351] Trial 317 finished with value: 0.27218123132705246 and parameters: {'w1': 0.4, 'w2': 0.30000000000000004}. Best is trial 250 with value: 0.27218123132705246.\n",
      "[I 2023-08-07 13:50:07,411] Trial 318 finished with value: 0.27218123132705246 and parameters: {'w1': 0.4, 'w2': 0.30000000000000004}. Best is trial 250 with value: 0.27218123132705246.\n",
      "[I 2023-08-07 13:50:07,472] Trial 319 finished with value: 0.3230523175635169 and parameters: {'w1': 0.5, 'w2': 0.30000000000000004}. Best is trial 250 with value: 0.27218123132705246.\n",
      "[I 2023-08-07 13:50:07,535] Trial 320 finished with value: 0.41897978684174153 and parameters: {'w1': 0.30000000000000004, 'w2': 0.30000000000000004}. Best is trial 250 with value: 0.27218123132705246.\n",
      "[I 2023-08-07 13:50:07,598] Trial 321 finished with value: 0.73636065200028 and parameters: {'w1': 0.4, 'w2': 0.2}. Best is trial 250 with value: 0.27218123132705246.\n",
      "[I 2023-08-07 13:50:07,658] Trial 322 finished with value: 0.49620142368801257 and parameters: {'w1': 0.9, 'w2': 0.30000000000000004}. Best is trial 250 with value: 0.27218123132705246.\n",
      "[I 2023-08-07 13:50:07,718] Trial 323 finished with value: 0.27218123132705246 and parameters: {'w1': 0.4, 'w2': 0.30000000000000004}. Best is trial 250 with value: 0.27218123132705246.\n",
      "[I 2023-08-07 13:50:07,776] Trial 324 finished with value: 0.27218123132705246 and parameters: {'w1': 0.4, 'w2': 0.30000000000000004}. Best is trial 250 with value: 0.27218123132705246.\n",
      "[I 2023-08-07 13:50:07,836] Trial 325 finished with value: 0.27218123132705246 and parameters: {'w1': 0.4, 'w2': 0.30000000000000004}. Best is trial 250 with value: 0.27218123132705246.\n",
      "[I 2023-08-07 13:50:07,895] Trial 326 finished with value: 0.3230523175635169 and parameters: {'w1': 0.5, 'w2': 0.30000000000000004}. Best is trial 250 with value: 0.27218123132705246.\n",
      "[I 2023-08-07 13:50:07,960] Trial 327 finished with value: 0.73636065200028 and parameters: {'w1': 0.4, 'w2': 0.2}. Best is trial 250 with value: 0.27218123132705246.\n",
      "[I 2023-08-07 13:50:08,019] Trial 328 finished with value: 0.27218123132705246 and parameters: {'w1': 0.4, 'w2': 0.30000000000000004}. Best is trial 250 with value: 0.27218123132705246.\n",
      "[I 2023-08-07 13:50:08,084] Trial 329 finished with value: 1.4670846367682833 and parameters: {'w1': 0.4, 'w2': 0.1}. Best is trial 250 with value: 0.27218123132705246.\n",
      "[I 2023-08-07 13:50:08,144] Trial 330 finished with value: 0.3818815320744895 and parameters: {'w1': 0.4, 'w2': 0.4}. Best is trial 250 with value: 0.27218123132705246.\n",
      "[I 2023-08-07 13:50:08,204] Trial 331 finished with value: 0.41897978684174153 and parameters: {'w1': 0.30000000000000004, 'w2': 0.30000000000000004}. Best is trial 250 with value: 0.27218123132705246.\n",
      "[I 2023-08-07 13:50:08,269] Trial 332 finished with value: 0.27218123132705246 and parameters: {'w1': 0.4, 'w2': 0.30000000000000004}. Best is trial 250 with value: 0.27218123132705246.\n",
      "[I 2023-08-07 13:50:08,335] Trial 333 finished with value: 0.27218123132705246 and parameters: {'w1': 0.4, 'w2': 0.30000000000000004}. Best is trial 250 with value: 0.27218123132705246.\n",
      "[I 2023-08-07 13:50:08,396] Trial 334 finished with value: 0.27218123132705246 and parameters: {'w1': 0.4, 'w2': 0.30000000000000004}. Best is trial 250 with value: 0.27218123132705246.\n",
      "[I 2023-08-07 13:50:08,464] Trial 335 finished with value: 0.27218123132705246 and parameters: {'w1': 0.4, 'w2': 0.30000000000000004}. Best is trial 250 with value: 0.27218123132705246.\n",
      "[I 2023-08-07 13:50:08,527] Trial 336 finished with value: 0.27218123132705246 and parameters: {'w1': 0.4, 'w2': 0.30000000000000004}. Best is trial 250 with value: 0.27218123132705246.\n",
      "[I 2023-08-07 13:50:08,589] Trial 337 finished with value: 0.3818815320744895 and parameters: {'w1': 0.4, 'w2': 0.4}. Best is trial 250 with value: 0.27218123132705246.\n",
      "[I 2023-08-07 13:50:08,651] Trial 338 finished with value: 0.41897978684174153 and parameters: {'w1': 0.30000000000000004, 'w2': 0.30000000000000004}. Best is trial 250 with value: 0.27218123132705246.\n",
      "[I 2023-08-07 13:50:08,713] Trial 339 finished with value: 0.27218123132705246 and parameters: {'w1': 0.4, 'w2': 0.30000000000000004}. Best is trial 250 with value: 0.27218123132705246.\n",
      "[I 2023-08-07 13:50:08,776] Trial 340 finished with value: 0.3230523175635169 and parameters: {'w1': 0.5, 'w2': 0.30000000000000004}. Best is trial 250 with value: 0.27218123132705246.\n",
      "[I 2023-08-07 13:50:08,838] Trial 341 finished with value: 0.73636065200028 and parameters: {'w1': 0.4, 'w2': 0.2}. Best is trial 250 with value: 0.27218123132705246.\n",
      "[I 2023-08-07 13:50:08,899] Trial 342 finished with value: 0.27218123132705246 and parameters: {'w1': 0.4, 'w2': 0.30000000000000004}. Best is trial 250 with value: 0.27218123132705246.\n",
      "[I 2023-08-07 13:50:08,959] Trial 343 finished with value: 0.8653387958995504 and parameters: {'w1': 0.4, 'w2': 0.9}. Best is trial 250 with value: 0.27218123132705246.\n",
      "[I 2023-08-07 13:50:09,018] Trial 344 finished with value: 0.27218123132705246 and parameters: {'w1': 0.4, 'w2': 0.30000000000000004}. Best is trial 250 with value: 0.27218123132705246.\n",
      "[I 2023-08-07 13:50:09,078] Trial 345 finished with value: 0.27218123132705246 and parameters: {'w1': 0.4, 'w2': 0.30000000000000004}. Best is trial 250 with value: 0.27218123132705246.\n",
      "[I 2023-08-07 13:50:09,146] Trial 346 finished with value: 0.27218123132705246 and parameters: {'w1': 0.4, 'w2': 0.30000000000000004}. Best is trial 250 with value: 0.27218123132705246.\n",
      "[I 2023-08-07 13:50:09,207] Trial 347 finished with value: 0.27218123132705246 and parameters: {'w1': 0.4, 'w2': 0.30000000000000004}. Best is trial 250 with value: 0.27218123132705246.\n",
      "[I 2023-08-07 13:50:09,268] Trial 348 finished with value: 0.3230523175635169 and parameters: {'w1': 0.5, 'w2': 0.30000000000000004}. Best is trial 250 with value: 0.27218123132705246.\n",
      "[I 2023-08-07 13:50:09,329] Trial 349 finished with value: 0.27218123132705246 and parameters: {'w1': 0.4, 'w2': 0.30000000000000004}. Best is trial 250 with value: 0.27218123132705246.\n",
      "[I 2023-08-07 13:50:09,391] Trial 350 finished with value: 0.27218123132705246 and parameters: {'w1': 0.4, 'w2': 0.30000000000000004}. Best is trial 250 with value: 0.27218123132705246.\n",
      "[I 2023-08-07 13:50:09,451] Trial 351 finished with value: 0.41897978684174153 and parameters: {'w1': 0.30000000000000004, 'w2': 0.30000000000000004}. Best is trial 250 with value: 0.27218123132705246.\n",
      "[I 2023-08-07 13:50:09,513] Trial 352 finished with value: 0.3818815320744895 and parameters: {'w1': 0.4, 'w2': 0.4}. Best is trial 250 with value: 0.27218123132705246.\n",
      "[I 2023-08-07 13:50:09,574] Trial 353 finished with value: 0.27218123132705246 and parameters: {'w1': 0.4, 'w2': 0.30000000000000004}. Best is trial 250 with value: 0.27218123132705246.\n",
      "[I 2023-08-07 13:50:09,641] Trial 354 finished with value: 0.27218123132705246 and parameters: {'w1': 0.4, 'w2': 0.30000000000000004}. Best is trial 250 with value: 0.27218123132705246.\n",
      "[I 2023-08-07 13:50:09,701] Trial 355 finished with value: 0.41897978684174153 and parameters: {'w1': 0.30000000000000004, 'w2': 0.30000000000000004}. Best is trial 250 with value: 0.27218123132705246.\n",
      "[I 2023-08-07 13:50:09,763] Trial 356 finished with value: 0.73636065200028 and parameters: {'w1': 0.4, 'w2': 0.2}. Best is trial 250 with value: 0.27218123132705246.\n",
      "[I 2023-08-07 13:50:09,824] Trial 357 finished with value: 0.27218123132705246 and parameters: {'w1': 0.4, 'w2': 0.30000000000000004}. Best is trial 250 with value: 0.27218123132705246.\n",
      "[I 2023-08-07 13:50:09,886] Trial 358 finished with value: 0.27218123132705246 and parameters: {'w1': 0.4, 'w2': 0.30000000000000004}. Best is trial 250 with value: 0.27218123132705246.\n",
      "[I 2023-08-07 13:50:09,946] Trial 359 finished with value: 0.458637809984813 and parameters: {'w1': 0.8, 'w2': 0.30000000000000004}. Best is trial 250 with value: 0.27218123132705246.\n",
      "[I 2023-08-07 13:50:10,007] Trial 360 finished with value: 0.27218123132705246 and parameters: {'w1': 0.4, 'w2': 0.30000000000000004}. Best is trial 250 with value: 0.27218123132705246.\n",
      "[I 2023-08-07 13:50:10,068] Trial 361 finished with value: 0.3230523175635169 and parameters: {'w1': 0.5, 'w2': 0.30000000000000004}. Best is trial 250 with value: 0.27218123132705246.\n",
      "[I 2023-08-07 13:50:10,130] Trial 362 finished with value: 0.27218123132705246 and parameters: {'w1': 0.4, 'w2': 0.30000000000000004}. Best is trial 250 with value: 0.27218123132705246.\n",
      "[I 2023-08-07 13:50:10,192] Trial 363 finished with value: 0.3818815320744895 and parameters: {'w1': 0.4, 'w2': 0.4}. Best is trial 250 with value: 0.27218123132705246.\n",
      "[I 2023-08-07 13:50:10,252] Trial 364 finished with value: 0.73636065200028 and parameters: {'w1': 0.4, 'w2': 0.2}. Best is trial 250 with value: 0.27218123132705246.\n",
      "[I 2023-08-07 13:50:10,317] Trial 365 finished with value: 0.27218123132705246 and parameters: {'w1': 0.4, 'w2': 0.30000000000000004}. Best is trial 250 with value: 0.27218123132705246.\n",
      "[I 2023-08-07 13:50:10,393] Trial 366 finished with value: 0.27218123132705246 and parameters: {'w1': 0.4, 'w2': 0.30000000000000004}. Best is trial 250 with value: 0.27218123132705246.\n",
      "[I 2023-08-07 13:50:10,460] Trial 367 finished with value: 0.27218123132705246 and parameters: {'w1': 0.4, 'w2': 0.30000000000000004}. Best is trial 250 with value: 0.27218123132705246.\n",
      "[I 2023-08-07 13:50:10,523] Trial 368 finished with value: 0.41897978684174153 and parameters: {'w1': 0.30000000000000004, 'w2': 0.30000000000000004}. Best is trial 250 with value: 0.27218123132705246.\n",
      "[I 2023-08-07 13:50:10,584] Trial 369 finished with value: 0.7825913788018808 and parameters: {'w1': 0.4, 'w2': 0.8}. Best is trial 250 with value: 0.27218123132705246.\n",
      "[I 2023-08-07 13:50:10,643] Trial 370 finished with value: 0.27218123132705246 and parameters: {'w1': 0.4, 'w2': 0.30000000000000004}. Best is trial 250 with value: 0.27218123132705246.\n",
      "[I 2023-08-07 13:50:10,714] Trial 371 finished with value: 0.27218123132705246 and parameters: {'w1': 0.4, 'w2': 0.30000000000000004}. Best is trial 250 with value: 0.27218123132705246.\n",
      "[I 2023-08-07 13:50:10,781] Trial 372 finished with value: 0.3230523175635169 and parameters: {'w1': 0.5, 'w2': 0.30000000000000004}. Best is trial 250 with value: 0.27218123132705246.\n",
      "[I 2023-08-07 13:50:10,842] Trial 373 finished with value: 0.27218123132705246 and parameters: {'w1': 0.4, 'w2': 0.30000000000000004}. Best is trial 250 with value: 0.27218123132705246.\n",
      "[I 2023-08-07 13:50:10,904] Trial 374 finished with value: 0.73636065200028 and parameters: {'w1': 0.4, 'w2': 0.2}. Best is trial 250 with value: 0.27218123132705246.\n",
      "[I 2023-08-07 13:50:10,964] Trial 375 finished with value: 0.4927350963679845 and parameters: {'w1': 0.4, 'w2': 0.5}. Best is trial 250 with value: 0.27218123132705246.\n",
      "[I 2023-08-07 13:50:11,025] Trial 376 finished with value: 0.3818815320744895 and parameters: {'w1': 0.4, 'w2': 0.4}. Best is trial 250 with value: 0.27218123132705246.\n",
      "[I 2023-08-07 13:50:11,088] Trial 377 finished with value: 0.41897978684174153 and parameters: {'w1': 0.30000000000000004, 'w2': 0.30000000000000004}. Best is trial 250 with value: 0.27218123132705246.\n",
      "[I 2023-08-07 13:50:11,149] Trial 378 finished with value: 0.27218123132705246 and parameters: {'w1': 0.4, 'w2': 0.30000000000000004}. Best is trial 250 with value: 0.27218123132705246.\n",
      "[I 2023-08-07 13:50:11,212] Trial 379 finished with value: 0.27218123132705246 and parameters: {'w1': 0.4, 'w2': 0.30000000000000004}. Best is trial 250 with value: 0.27218123132705246.\n",
      "[I 2023-08-07 13:50:11,273] Trial 380 finished with value: 0.3230523175635169 and parameters: {'w1': 0.5, 'w2': 0.30000000000000004}. Best is trial 250 with value: 0.27218123132705246.\n",
      "[I 2023-08-07 13:50:11,346] Trial 381 finished with value: 0.8232912776935746 and parameters: {'w1': 0.2, 'w2': 0.30000000000000004}. Best is trial 250 with value: 0.27218123132705246.\n",
      "[I 2023-08-07 13:50:11,408] Trial 382 finished with value: 0.3818815320744895 and parameters: {'w1': 0.4, 'w2': 0.4}. Best is trial 250 with value: 0.27218123132705246.\n",
      "[I 2023-08-07 13:50:11,472] Trial 383 finished with value: 0.27218123132705246 and parameters: {'w1': 0.4, 'w2': 0.30000000000000004}. Best is trial 250 with value: 0.27218123132705246.\n",
      "[I 2023-08-07 13:50:11,544] Trial 384 finished with value: 0.27218123132705246 and parameters: {'w1': 0.4, 'w2': 0.30000000000000004}. Best is trial 250 with value: 0.27218123132705246.\n",
      "[I 2023-08-07 13:50:11,613] Trial 385 finished with value: 0.27218123132705246 and parameters: {'w1': 0.4, 'w2': 0.30000000000000004}. Best is trial 250 with value: 0.27218123132705246.\n",
      "[I 2023-08-07 13:50:11,680] Trial 386 finished with value: 0.73636065200028 and parameters: {'w1': 0.4, 'w2': 0.2}. Best is trial 250 with value: 0.27218123132705246.\n",
      "[I 2023-08-07 13:50:11,743] Trial 387 finished with value: 0.27218123132705246 and parameters: {'w1': 0.4, 'w2': 0.30000000000000004}. Best is trial 250 with value: 0.27218123132705246.\n",
      "[I 2023-08-07 13:50:11,808] Trial 388 finished with value: 0.27218123132705246 and parameters: {'w1': 0.4, 'w2': 0.30000000000000004}. Best is trial 250 with value: 0.27218123132705246.\n",
      "[I 2023-08-07 13:50:11,872] Trial 389 finished with value: 0.27218123132705246 and parameters: {'w1': 0.4, 'w2': 0.30000000000000004}. Best is trial 250 with value: 0.27218123132705246.\n",
      "[I 2023-08-07 13:50:11,938] Trial 390 finished with value: 0.27218123132705246 and parameters: {'w1': 0.4, 'w2': 0.30000000000000004}. Best is trial 250 with value: 0.27218123132705246.\n",
      "[I 2023-08-07 13:50:12,001] Trial 391 finished with value: 0.3230523175635169 and parameters: {'w1': 0.5, 'w2': 0.30000000000000004}. Best is trial 250 with value: 0.27218123132705246.\n",
      "[I 2023-08-07 13:50:12,063] Trial 392 finished with value: 0.41897978684174153 and parameters: {'w1': 0.30000000000000004, 'w2': 0.30000000000000004}. Best is trial 250 with value: 0.27218123132705246.\n",
      "[I 2023-08-07 13:50:12,125] Trial 393 finished with value: 0.27218123132705246 and parameters: {'w1': 0.4, 'w2': 0.30000000000000004}. Best is trial 250 with value: 0.27218123132705246.\n",
      "[I 2023-08-07 13:50:12,193] Trial 394 finished with value: 0.27218123132705246 and parameters: {'w1': 0.4, 'w2': 0.30000000000000004}. Best is trial 250 with value: 0.27218123132705246.\n",
      "[I 2023-08-07 13:50:12,271] Trial 395 finished with value: 0.27218123132705246 and parameters: {'w1': 0.4, 'w2': 0.30000000000000004}. Best is trial 250 with value: 0.27218123132705246.\n",
      "[I 2023-08-07 13:50:12,334] Trial 396 finished with value: 0.73636065200028 and parameters: {'w1': 0.4, 'w2': 0.2}. Best is trial 250 with value: 0.27218123132705246.\n",
      "[I 2023-08-07 13:50:12,404] Trial 397 finished with value: 0.5968452626603482 and parameters: {'w1': 0.4, 'w2': 0.6}. Best is trial 250 with value: 0.27218123132705246.\n",
      "[I 2023-08-07 13:50:12,468] Trial 398 finished with value: 0.3818815320744895 and parameters: {'w1': 0.4, 'w2': 0.4}. Best is trial 250 with value: 0.27218123132705246.\n",
      "[I 2023-08-07 13:50:12,537] Trial 399 finished with value: 0.27218123132705246 and parameters: {'w1': 0.4, 'w2': 0.30000000000000004}. Best is trial 250 with value: 0.27218123132705246.\n",
      "[I 2023-08-07 13:50:12,601] Trial 400 finished with value: 0.27218123132705246 and parameters: {'w1': 0.4, 'w2': 0.30000000000000004}. Best is trial 250 with value: 0.27218123132705246.\n",
      "[I 2023-08-07 13:50:12,665] Trial 401 finished with value: 0.41897978684174153 and parameters: {'w1': 0.30000000000000004, 'w2': 0.30000000000000004}. Best is trial 250 with value: 0.27218123132705246.\n",
      "[I 2023-08-07 13:50:12,725] Trial 402 finished with value: 0.27218123132705246 and parameters: {'w1': 0.4, 'w2': 0.30000000000000004}. Best is trial 250 with value: 0.27218123132705246.\n",
      "[I 2023-08-07 13:50:12,786] Trial 403 finished with value: 0.27218123132705246 and parameters: {'w1': 0.4, 'w2': 0.30000000000000004}. Best is trial 250 with value: 0.27218123132705246.\n",
      "[I 2023-08-07 13:50:12,847] Trial 404 finished with value: 0.3230523175635169 and parameters: {'w1': 0.5, 'w2': 0.30000000000000004}. Best is trial 250 with value: 0.27218123132705246.\n",
      "[I 2023-08-07 13:50:12,909] Trial 405 finished with value: 0.3818815320744895 and parameters: {'w1': 0.4, 'w2': 0.4}. Best is trial 250 with value: 0.27218123132705246.\n",
      "[I 2023-08-07 13:50:12,973] Trial 406 finished with value: 0.27218123132705246 and parameters: {'w1': 0.4, 'w2': 0.30000000000000004}. Best is trial 250 with value: 0.27218123132705246.\n",
      "[I 2023-08-07 13:50:13,047] Trial 407 finished with value: 0.73636065200028 and parameters: {'w1': 0.4, 'w2': 0.2}. Best is trial 250 with value: 0.27218123132705246.\n",
      "[I 2023-08-07 13:50:13,115] Trial 408 finished with value: 0.27218123132705246 and parameters: {'w1': 0.4, 'w2': 0.30000000000000004}. Best is trial 250 with value: 0.27218123132705246.\n",
      "[I 2023-08-07 13:50:13,179] Trial 409 finished with value: 0.27218123132705246 and parameters: {'w1': 0.4, 'w2': 0.30000000000000004}. Best is trial 250 with value: 0.27218123132705246.\n",
      "[I 2023-08-07 13:50:13,242] Trial 410 finished with value: 0.27218123132705246 and parameters: {'w1': 0.4, 'w2': 0.30000000000000004}. Best is trial 250 with value: 0.27218123132705246.\n",
      "[I 2023-08-07 13:50:13,305] Trial 411 finished with value: 0.27218123132705246 and parameters: {'w1': 0.4, 'w2': 0.30000000000000004}. Best is trial 250 with value: 0.27218123132705246.\n",
      "[I 2023-08-07 13:50:13,369] Trial 412 finished with value: 0.5140957794497166 and parameters: {'w1': 0.7000000000000001, 'w2': 0.4}. Best is trial 250 with value: 0.27218123132705246.\n",
      "[I 2023-08-07 13:50:13,432] Trial 413 finished with value: 0.27218123132705246 and parameters: {'w1': 0.4, 'w2': 0.30000000000000004}. Best is trial 250 with value: 0.27218123132705246.\n",
      "[I 2023-08-07 13:50:13,496] Trial 414 finished with value: 0.3230523175635169 and parameters: {'w1': 0.5, 'w2': 0.30000000000000004}. Best is trial 250 with value: 0.27218123132705246.\n",
      "[I 2023-08-07 13:50:13,560] Trial 415 finished with value: 1.384019804491785 and parameters: {'w1': 0.30000000000000004, 'w2': 0.2}. Best is trial 250 with value: 0.27218123132705246.\n",
      "[I 2023-08-07 13:50:13,625] Trial 416 finished with value: 0.27218123132705246 and parameters: {'w1': 0.4, 'w2': 0.30000000000000004}. Best is trial 250 with value: 0.27218123132705246.\n",
      "[I 2023-08-07 13:50:13,689] Trial 417 finished with value: 0.27218123132705246 and parameters: {'w1': 0.4, 'w2': 0.30000000000000004}. Best is trial 250 with value: 0.27218123132705246.\n",
      "[I 2023-08-07 13:50:13,756] Trial 418 finished with value: 1.4670846367682833 and parameters: {'w1': 0.4, 'w2': 0.1}. Best is trial 250 with value: 0.27218123132705246.\n",
      "[I 2023-08-07 13:50:13,821] Trial 419 finished with value: 0.27218123132705246 and parameters: {'w1': 0.4, 'w2': 0.30000000000000004}. Best is trial 250 with value: 0.27218123132705246.\n",
      "[I 2023-08-07 13:50:13,884] Trial 420 finished with value: 0.27218123132705246 and parameters: {'w1': 0.4, 'w2': 0.30000000000000004}. Best is trial 250 with value: 0.27218123132705246.\n",
      "[I 2023-08-07 13:50:13,947] Trial 421 finished with value: 0.27218123132705246 and parameters: {'w1': 0.4, 'w2': 0.30000000000000004}. Best is trial 250 with value: 0.27218123132705246.\n",
      "[I 2023-08-07 13:50:14,009] Trial 422 finished with value: 0.27218123132705246 and parameters: {'w1': 0.4, 'w2': 0.30000000000000004}. Best is trial 250 with value: 0.27218123132705246.\n",
      "[I 2023-08-07 13:50:14,071] Trial 423 finished with value: 0.41897978684174153 and parameters: {'w1': 0.30000000000000004, 'w2': 0.30000000000000004}. Best is trial 250 with value: 0.27218123132705246.\n",
      "[I 2023-08-07 13:50:14,133] Trial 424 finished with value: 0.43048207892128865 and parameters: {'w1': 0.5, 'w2': 0.4}. Best is trial 250 with value: 0.27218123132705246.\n",
      "[I 2023-08-07 13:50:14,199] Trial 425 finished with value: 0.27218123132705246 and parameters: {'w1': 0.4, 'w2': 0.30000000000000004}. Best is trial 250 with value: 0.27218123132705246.\n",
      "[I 2023-08-07 13:50:14,263] Trial 426 finished with value: 0.73636065200028 and parameters: {'w1': 0.4, 'w2': 0.2}. Best is trial 250 with value: 0.27218123132705246.\n",
      "[I 2023-08-07 13:50:14,330] Trial 427 finished with value: 0.49620142368801257 and parameters: {'w1': 0.9, 'w2': 0.30000000000000004}. Best is trial 250 with value: 0.27218123132705246.\n",
      "[I 2023-08-07 13:50:14,394] Trial 428 finished with value: 0.27218123132705246 and parameters: {'w1': 0.4, 'w2': 0.30000000000000004}. Best is trial 250 with value: 0.27218123132705246.\n",
      "[I 2023-08-07 13:50:14,458] Trial 429 finished with value: 0.27218123132705246 and parameters: {'w1': 0.4, 'w2': 0.30000000000000004}. Best is trial 250 with value: 0.27218123132705246.\n",
      "[I 2023-08-07 13:50:14,520] Trial 430 finished with value: 0.27218123132705246 and parameters: {'w1': 0.4, 'w2': 0.30000000000000004}. Best is trial 250 with value: 0.27218123132705246.\n",
      "[I 2023-08-07 13:50:14,584] Trial 431 finished with value: 0.27218123132705246 and parameters: {'w1': 0.4, 'w2': 0.30000000000000004}. Best is trial 250 with value: 0.27218123132705246.\n",
      "[I 2023-08-07 13:50:14,648] Trial 432 finished with value: 0.7559178990189028 and parameters: {'w1': 0.30000000000000004, 'w2': 0.8}. Best is trial 250 with value: 0.27218123132705246.\n",
      "[I 2023-08-07 13:50:14,711] Trial 433 finished with value: 0.27218123132705246 and parameters: {'w1': 0.4, 'w2': 0.30000000000000004}. Best is trial 250 with value: 0.27218123132705246.\n",
      "[I 2023-08-07 13:50:14,774] Trial 434 finished with value: 0.27218123132705246 and parameters: {'w1': 0.4, 'w2': 0.30000000000000004}. Best is trial 250 with value: 0.27218123132705246.\n",
      "[I 2023-08-07 13:50:14,841] Trial 435 finished with value: 0.3230523175635169 and parameters: {'w1': 0.5, 'w2': 0.30000000000000004}. Best is trial 250 with value: 0.27218123132705246.\n",
      "[I 2023-08-07 13:50:14,908] Trial 436 finished with value: 0.3818815320744895 and parameters: {'w1': 0.4, 'w2': 0.4}. Best is trial 250 with value: 0.27218123132705246.\n",
      "[I 2023-08-07 13:50:14,972] Trial 437 finished with value: 0.27218123132705246 and parameters: {'w1': 0.4, 'w2': 0.30000000000000004}. Best is trial 250 with value: 0.27218123132705246.\n",
      "[I 2023-08-07 13:50:15,036] Trial 438 finished with value: 0.27218123132705246 and parameters: {'w1': 0.4, 'w2': 0.30000000000000004}. Best is trial 250 with value: 0.27218123132705246.\n",
      "[I 2023-08-07 13:50:15,100] Trial 439 finished with value: 0.37222787751567016 and parameters: {'w1': 0.6, 'w2': 0.30000000000000004}. Best is trial 250 with value: 0.27218123132705246.\n",
      "[I 2023-08-07 13:50:15,165] Trial 440 finished with value: 0.27218123132705246 and parameters: {'w1': 0.4, 'w2': 0.30000000000000004}. Best is trial 250 with value: 0.27218123132705246.\n",
      "[I 2023-08-07 13:50:15,229] Trial 441 finished with value: 0.73636065200028 and parameters: {'w1': 0.4, 'w2': 0.2}. Best is trial 250 with value: 0.27218123132705246.\n",
      "[I 2023-08-07 13:50:15,301] Trial 442 finished with value: 0.27218123132705246 and parameters: {'w1': 0.4, 'w2': 0.30000000000000004}. Best is trial 250 with value: 0.27218123132705246.\n",
      "[I 2023-08-07 13:50:15,365] Trial 443 finished with value: 0.27218123132705246 and parameters: {'w1': 0.4, 'w2': 0.30000000000000004}. Best is trial 250 with value: 0.27218123132705246.\n",
      "[I 2023-08-07 13:50:15,430] Trial 444 finished with value: 0.27218123132705246 and parameters: {'w1': 0.4, 'w2': 0.30000000000000004}. Best is trial 250 with value: 0.27218123132705246.\n",
      "[I 2023-08-07 13:50:15,495] Trial 445 finished with value: 0.6131463226031808 and parameters: {'w1': 1.0, 'w2': 0.4}. Best is trial 250 with value: 0.27218123132705246.\n",
      "[I 2023-08-07 13:50:15,560] Trial 446 finished with value: 0.3230523175635169 and parameters: {'w1': 0.5, 'w2': 0.30000000000000004}. Best is trial 250 with value: 0.27218123132705246.\n",
      "[I 2023-08-07 13:50:15,648] Trial 447 finished with value: 0.27218123132705246 and parameters: {'w1': 0.4, 'w2': 0.30000000000000004}. Best is trial 250 with value: 0.27218123132705246.\n",
      "[I 2023-08-07 13:50:15,714] Trial 448 finished with value: 0.41897978684174153 and parameters: {'w1': 0.30000000000000004, 'w2': 0.30000000000000004}. Best is trial 250 with value: 0.27218123132705246.\n",
      "[I 2023-08-07 13:50:15,777] Trial 449 finished with value: 0.27218123132705246 and parameters: {'w1': 0.4, 'w2': 0.30000000000000004}. Best is trial 250 with value: 0.27218123132705246.\n",
      "[I 2023-08-07 13:50:15,840] Trial 450 finished with value: 0.73636065200028 and parameters: {'w1': 0.4, 'w2': 0.2}. Best is trial 250 with value: 0.27218123132705246.\n",
      "[I 2023-08-07 13:50:15,903] Trial 451 finished with value: 0.27218123132705246 and parameters: {'w1': 0.4, 'w2': 0.30000000000000004}. Best is trial 250 with value: 0.27218123132705246.\n",
      "[I 2023-08-07 13:50:15,972] Trial 452 finished with value: 0.27218123132705246 and parameters: {'w1': 0.4, 'w2': 0.30000000000000004}. Best is trial 250 with value: 0.27218123132705246.\n",
      "[I 2023-08-07 13:50:16,034] Trial 453 finished with value: 0.27218123132705246 and parameters: {'w1': 0.4, 'w2': 0.30000000000000004}. Best is trial 250 with value: 0.27218123132705246.\n",
      "[I 2023-08-07 13:50:16,097] Trial 454 finished with value: 0.41897978684174153 and parameters: {'w1': 0.30000000000000004, 'w2': 0.30000000000000004}. Best is trial 250 with value: 0.27218123132705246.\n",
      "[I 2023-08-07 13:50:16,162] Trial 455 finished with value: 0.27218123132705246 and parameters: {'w1': 0.4, 'w2': 0.30000000000000004}. Best is trial 250 with value: 0.27218123132705246.\n",
      "[I 2023-08-07 13:50:16,226] Trial 456 finished with value: 0.27218123132705246 and parameters: {'w1': 0.4, 'w2': 0.30000000000000004}. Best is trial 250 with value: 0.27218123132705246.\n",
      "[I 2023-08-07 13:50:16,289] Trial 457 finished with value: 0.3818815320744895 and parameters: {'w1': 0.4, 'w2': 0.4}. Best is trial 250 with value: 0.27218123132705246.\n",
      "[I 2023-08-07 13:50:16,354] Trial 458 finished with value: 0.3230523175635169 and parameters: {'w1': 0.5, 'w2': 0.30000000000000004}. Best is trial 250 with value: 0.27218123132705246.\n",
      "[I 2023-08-07 13:50:16,419] Trial 459 finished with value: 0.4927350963679845 and parameters: {'w1': 0.4, 'w2': 0.5}. Best is trial 250 with value: 0.27218123132705246.\n",
      "[I 2023-08-07 13:50:16,483] Trial 460 finished with value: 0.27218123132705246 and parameters: {'w1': 0.4, 'w2': 0.30000000000000004}. Best is trial 250 with value: 0.27218123132705246.\n",
      "[I 2023-08-07 13:50:16,551] Trial 461 finished with value: 0.27218123132705246 and parameters: {'w1': 0.4, 'w2': 0.30000000000000004}. Best is trial 250 with value: 0.27218123132705246.\n",
      "[I 2023-08-07 13:50:16,618] Trial 462 finished with value: 0.73636065200028 and parameters: {'w1': 0.4, 'w2': 0.2}. Best is trial 250 with value: 0.27218123132705246.\n",
      "[I 2023-08-07 13:50:16,706] Trial 463 finished with value: 0.27218123132705246 and parameters: {'w1': 0.4, 'w2': 0.30000000000000004}. Best is trial 250 with value: 0.27218123132705246.\n",
      "[I 2023-08-07 13:50:16,779] Trial 464 finished with value: 0.27218123132705246 and parameters: {'w1': 0.4, 'w2': 0.30000000000000004}. Best is trial 250 with value: 0.27218123132705246.\n",
      "[I 2023-08-07 13:50:16,842] Trial 465 finished with value: 0.41897978684174153 and parameters: {'w1': 0.30000000000000004, 'w2': 0.30000000000000004}. Best is trial 250 with value: 0.27218123132705246.\n",
      "[I 2023-08-07 13:50:16,907] Trial 466 finished with value: 0.3230523175635169 and parameters: {'w1': 0.5, 'w2': 0.30000000000000004}. Best is trial 250 with value: 0.27218123132705246.\n",
      "[I 2023-08-07 13:50:16,972] Trial 467 finished with value: 0.27218123132705246 and parameters: {'w1': 0.4, 'w2': 0.30000000000000004}. Best is trial 250 with value: 0.27218123132705246.\n",
      "[I 2023-08-07 13:50:17,038] Trial 468 finished with value: 0.3818815320744895 and parameters: {'w1': 0.4, 'w2': 0.4}. Best is trial 250 with value: 0.27218123132705246.\n",
      "[I 2023-08-07 13:50:17,102] Trial 469 finished with value: 0.27218123132705246 and parameters: {'w1': 0.4, 'w2': 0.30000000000000004}. Best is trial 250 with value: 0.27218123132705246.\n",
      "[I 2023-08-07 13:50:17,166] Trial 470 finished with value: 0.27218123132705246 and parameters: {'w1': 0.4, 'w2': 0.30000000000000004}. Best is trial 250 with value: 0.27218123132705246.\n",
      "[I 2023-08-07 13:50:17,230] Trial 471 finished with value: 0.27218123132705246 and parameters: {'w1': 0.4, 'w2': 0.30000000000000004}. Best is trial 250 with value: 0.27218123132705246.\n",
      "[I 2023-08-07 13:50:17,294] Trial 472 finished with value: 0.27218123132705246 and parameters: {'w1': 0.4, 'w2': 0.30000000000000004}. Best is trial 250 with value: 0.27218123132705246.\n",
      "[I 2023-08-07 13:50:17,358] Trial 473 finished with value: 0.27218123132705246 and parameters: {'w1': 0.4, 'w2': 0.30000000000000004}. Best is trial 250 with value: 0.27218123132705246.\n",
      "[I 2023-08-07 13:50:17,432] Trial 474 finished with value: 0.73636065200028 and parameters: {'w1': 0.4, 'w2': 0.2}. Best is trial 250 with value: 0.27218123132705246.\n",
      "[I 2023-08-07 13:50:17,509] Trial 475 finished with value: 1.447670241442269 and parameters: {'w1': 0.1, 'w2': 0.30000000000000004}. Best is trial 250 with value: 0.27218123132705246.\n",
      "[I 2023-08-07 13:50:17,574] Trial 476 finished with value: 0.41897978684174153 and parameters: {'w1': 0.30000000000000004, 'w2': 0.30000000000000004}. Best is trial 250 with value: 0.27218123132705246.\n",
      "[I 2023-08-07 13:50:17,639] Trial 477 finished with value: 0.27218123132705246 and parameters: {'w1': 0.4, 'w2': 0.30000000000000004}. Best is trial 250 with value: 0.27218123132705246.\n",
      "[I 2023-08-07 13:50:17,705] Trial 478 finished with value: 0.27218123132705246 and parameters: {'w1': 0.4, 'w2': 0.30000000000000004}. Best is trial 250 with value: 0.27218123132705246.\n",
      "[I 2023-08-07 13:50:17,770] Trial 479 finished with value: 0.73636065200028 and parameters: {'w1': 0.4, 'w2': 0.2}. Best is trial 250 with value: 0.27218123132705246.\n",
      "[I 2023-08-07 13:50:17,835] Trial 480 finished with value: 0.27218123132705246 and parameters: {'w1': 0.4, 'w2': 0.30000000000000004}. Best is trial 250 with value: 0.27218123132705246.\n",
      "[I 2023-08-07 13:50:17,900] Trial 481 finished with value: 0.3230523175635169 and parameters: {'w1': 0.5, 'w2': 0.30000000000000004}. Best is trial 250 with value: 0.27218123132705246.\n",
      "[I 2023-08-07 13:50:17,965] Trial 482 finished with value: 0.3818815320744895 and parameters: {'w1': 0.4, 'w2': 0.4}. Best is trial 250 with value: 0.27218123132705246.\n",
      "[I 2023-08-07 13:50:18,028] Trial 483 finished with value: 0.27218123132705246 and parameters: {'w1': 0.4, 'w2': 0.30000000000000004}. Best is trial 250 with value: 0.27218123132705246.\n",
      "[I 2023-08-07 13:50:18,092] Trial 484 finished with value: 0.27218123132705246 and parameters: {'w1': 0.4, 'w2': 0.30000000000000004}. Best is trial 250 with value: 0.27218123132705246.\n",
      "[I 2023-08-07 13:50:18,156] Trial 485 finished with value: 0.27218123132705246 and parameters: {'w1': 0.4, 'w2': 0.30000000000000004}. Best is trial 250 with value: 0.27218123132705246.\n",
      "[I 2023-08-07 13:50:18,220] Trial 486 finished with value: 0.8232912776935746 and parameters: {'w1': 0.2, 'w2': 0.30000000000000004}. Best is trial 250 with value: 0.27218123132705246.\n",
      "[I 2023-08-07 13:50:18,285] Trial 487 finished with value: 0.27218123132705246 and parameters: {'w1': 0.4, 'w2': 0.30000000000000004}. Best is trial 250 with value: 0.27218123132705246.\n",
      "[I 2023-08-07 13:50:18,350] Trial 488 finished with value: 0.3230523175635169 and parameters: {'w1': 0.5, 'w2': 0.30000000000000004}. Best is trial 250 with value: 0.27218123132705246.\n",
      "[I 2023-08-07 13:50:18,417] Trial 489 finished with value: 0.3818815320744895 and parameters: {'w1': 0.4, 'w2': 0.4}. Best is trial 250 with value: 0.27218123132705246.\n",
      "[I 2023-08-07 13:50:18,482] Trial 490 finished with value: 0.27218123132705246 and parameters: {'w1': 0.4, 'w2': 0.30000000000000004}. Best is trial 250 with value: 0.27218123132705246.\n",
      "[I 2023-08-07 13:50:18,544] Trial 491 finished with value: 1.384019804491785 and parameters: {'w1': 0.30000000000000004, 'w2': 0.2}. Best is trial 250 with value: 0.27218123132705246.\n",
      "[I 2023-08-07 13:50:18,608] Trial 492 finished with value: 0.27218123132705246 and parameters: {'w1': 0.4, 'w2': 0.30000000000000004}. Best is trial 250 with value: 0.27218123132705246.\n",
      "[I 2023-08-07 13:50:18,674] Trial 493 finished with value: 0.6933280468133921 and parameters: {'w1': 0.4, 'w2': 0.7000000000000001}. Best is trial 250 with value: 0.27218123132705246.\n",
      "[I 2023-08-07 13:50:18,744] Trial 494 finished with value: 0.27218123132705246 and parameters: {'w1': 0.4, 'w2': 0.30000000000000004}. Best is trial 250 with value: 0.27218123132705246.\n",
      "[I 2023-08-07 13:50:18,809] Trial 495 finished with value: 0.27218123132705246 and parameters: {'w1': 0.4, 'w2': 0.30000000000000004}. Best is trial 250 with value: 0.27218123132705246.\n",
      "[I 2023-08-07 13:50:18,876] Trial 496 finished with value: 0.27218123132705246 and parameters: {'w1': 0.4, 'w2': 0.30000000000000004}. Best is trial 250 with value: 0.27218123132705246.\n",
      "[I 2023-08-07 13:50:18,943] Trial 497 finished with value: 0.27218123132705246 and parameters: {'w1': 0.4, 'w2': 0.30000000000000004}. Best is trial 250 with value: 0.27218123132705246.\n",
      "[I 2023-08-07 13:50:19,009] Trial 498 finished with value: 0.73636065200028 and parameters: {'w1': 0.4, 'w2': 0.2}. Best is trial 250 with value: 0.27218123132705246.\n",
      "[I 2023-08-07 13:50:19,074] Trial 499 finished with value: 0.27218123132705246 and parameters: {'w1': 0.4, 'w2': 0.30000000000000004}. Best is trial 250 with value: 0.27218123132705246.\n"
     ]
    }
   ],
   "source": [
    "import optuna\n",
    "\n",
    "study = optuna.create_study(\n",
    "    direction=\"minimize\",\n",
    "    study_name=\"ensemble_weights\",\n",
    "    storage=optuna_storage,\n",
    "    load_if_exists=True,\n",
    ")\n",
    "study.optimize(objective, n_trials=250)"
   ],
   "metadata": {
    "collapsed": false,
    "ExecuteTime": {
     "end_time": "2023-08-07T17:50:19.132637Z",
     "start_time": "2023-08-07T17:50:03.106442Z"
    }
   },
   "id": "8bf0cc19d8f0e3f5"
  },
  {
   "cell_type": "code",
   "execution_count": 176,
   "outputs": [
    {
     "name": "stdout",
     "output_type": "stream",
     "text": [
      "[0.2579267934168578, 0.8124999999999999]\n",
      "{'catboost_with_resampling_weight': 0.6000000000000001, 'fastai_without_resampling_weight': 0.1, 'tabpfn_with_resampling_weight': 0.0}\n",
      "[0.29672064041398166, 0.8314606741573034]\n",
      "{'catboost_with_resampling_weight': 0.5, 'fastai_without_resampling_weight': 0.5, 'tabpfn_with_resampling_weight': 0.8}\n",
      "[0.27139644879020103, 0.826086956521739]\n",
      "{'catboost_with_resampling_weight': 0.7000000000000001, 'fastai_without_resampling_weight': 0.1, 'tabpfn_with_resampling_weight': 0.30000000000000004}\n",
      "[0.2579267934168578, 0.8124999999999999]\n",
      "{'catboost_with_resampling_weight': 0.6000000000000001, 'fastai_without_resampling_weight': 0.1, 'tabpfn_with_resampling_weight': 0.0}\n"
     ]
    }
   ],
   "source": [
    "for trial in study.best_trials:\n",
    "    print(trial.values)\n",
    "    print(trial.params)"
   ],
   "metadata": {
    "collapsed": false,
    "ExecuteTime": {
     "end_time": "2023-08-07T17:31:50.105378Z",
     "start_time": "2023-08-07T17:31:50.059424Z"
    }
   },
   "id": "7dc9d80f2c2f1136"
  },
  {
   "cell_type": "code",
   "execution_count": 238,
   "outputs": [],
   "source": [
    "def get_weighted_preds(w1, w2):\n",
    "    predictions = [\n",
    "        pred_df['fastai_without_resampling'].values,\n",
    "        pred_df['catboost_with_resampling'].values,\n",
    "    ]\n",
    "    \n",
    "    ensemble_pred = (w1 * predictions[0] + w2 * predictions[1]) / (w1 + w2 )\n",
    "\n",
    "    return ensemble_pred"
   ],
   "metadata": {
    "collapsed": false,
    "ExecuteTime": {
     "end_time": "2023-08-07T18:13:16.726624Z",
     "start_time": "2023-08-07T18:13:16.675212Z"
    }
   },
   "id": "99594f6eb1966f10"
  },
  {
   "cell_type": "code",
   "execution_count": 246,
   "outputs": [
    {
     "name": "stdout",
     "output_type": "stream",
     "text": [
      "0.3053150559685556\n"
     ]
    },
    {
     "data": {
      "application/vnd.plotly.v1+json": {
       "data": [
        {
         "hovertemplate": "Class=0<br>Positive Class Probability=%{x}<br>Sample Integer Index=%{y}<extra></extra>",
         "legendgroup": "0",
         "marker": {
          "color": "#010D36",
          "opacity": 0.6,
          "symbol": "diamond",
          "size": 6
         },
         "mode": "markers",
         "name": "0",
         "orientation": "v",
         "showlegend": true,
         "x": [
          0.18647627009277726,
          0.17597728014287595,
          0.2410280042793159,
          0.24241722545634653,
          0.3212521533165755,
          0.21015367122633263,
          0.23397852620093382,
          0.1841625386278543,
          0.35786316662862644,
          0.5193908591265719,
          0.17214196622841144,
          0.17206675473592944,
          0.24050795235930653,
          0.14832585248780522,
          0.24042937692646316,
          0.27556194547748236,
          0.20357500847769103,
          0.22856753645957484,
          0.17009099348698137,
          0.21888324210922866,
          0.22129223380623392,
          0.30900664358039864,
          0.2002851742131489,
          0.15827184256627494,
          0.20528944349799896,
          0.16284551564392666,
          0.30299059217207186,
          0.5377906237961888,
          0.22392575390507705,
          0.44627636616369987,
          0.14865519873853264,
          0.17677516947117142,
          0.17400814899794256,
          0.1859958357779831,
          0.1839288329865812,
          0.17616615407688382,
          0.19465106984050368,
          0.9127155833345822,
          0.48731331078871803,
          0.25415042729799436,
          0.21779574665529797,
          0.3503715514382293,
          0.28202974666562064,
          0.17796052319311775,
          0.17741301918668512,
          0.20275639211343646,
          0.21907706472053332,
          0.21628535778429203,
          0.15507998314787283,
          0.16472866720980917,
          0.16632795666136505,
          0.17715343960009414,
          0.5972658485155946,
          0.5784416926087003,
          0.17681166131321766,
          0.2451211625789384,
          0.21096860938438664,
          0.1832685754804706,
          0.2014309268127773,
          0.21288192596288347,
          0.19693959011394963,
          0.2720756225370786,
          0.7675144447133253,
          0.8627310440713397,
          0.382344172420221,
          0.2963370331635213,
          0.2224649273205759,
          0.15670616104296867,
          0.7979486194779776,
          0.22698441425379373,
          0.17349356152029594,
          0.6712501124731196,
          0.19914294624017048,
          0.2020309608876056,
          0.11634160913850763,
          0.2818422326378469,
          0.2119187399922987,
          0.1992197226234936,
          0.19072535489820386,
          0.18316671079739727,
          0.6901708666803507,
          0.32618647353985397,
          0.19478592936885025,
          0.35094844133405007,
          0.1775747386780025,
          0.12358446501192726,
          0.21451175137623146,
          0.16588577825937365,
          0.16474515043389112,
          0.18952074181249567,
          0.3657007654527676,
          0.26214293534983885,
          0.16160979437592005,
          0.2262859365359576,
          0.4633016197200658,
          0.2281494766476321,
          0.16667546541882589,
          0.1720776003796651,
          0.19912237870151367,
          0.23535402508016898,
          0.1607611241026763,
          0.1919855737029889,
          0.19123318770526004,
          0.23067646270021464,
          0.17979387483719458,
          0.17436088224904034,
          0.15478569705970197,
          0.758587240733383,
          0.9059336261320831,
          0.26618369188132757,
          0.13900752036422198,
          0.1540632611773364,
          0.2498918120566235,
          0.1945424561836095,
          0.6988434381123756,
          0.1913423358071311,
          0.27257238093038083,
          0.24324253257335676,
          0.16567505537407853,
          0.15524330336545977,
          0.14691774246626516,
          0.15928934135336023,
          0.22437032676361246,
          0.19438470994188306,
          0.20759479452838217,
          0.3029443048963946,
          0.4189240635636978,
          0.23055576621194096,
          0.46351055081595427,
          0.22097832044648494,
          0.18436794218857447,
          0.21094349168945314,
          0.22221454539190527,
          0.17167115705670974,
          0.193700564875282,
          0.1952486223494913,
          0.18552449063721999,
          0.17655707813221902,
          0.1811498123162544,
          0.20345550256974348,
          0.5485115848635675,
          0.26766682976303474,
          0.12391608997520491,
          0.4111599846416214,
          0.2581097971751829,
          0.1691884226979929,
          0.19405962489706774,
          0.1739922862137846,
          0.24653520386432715,
          0.16993389711112933,
          0.20892923289312898,
          0.26278201411597807,
          0.17994745011645263,
          0.23736375866772236,
          0.16242594271500607,
          0.17432158615472196,
          0.3109556995775107,
          0.1398929032164305,
          0.20321069946334333,
          0.18282240272585643,
          0.2802357943729267,
          0.1565686491697156,
          0.27635192697720834,
          0.6608631345892721,
          0.2800126585094735,
          0.18483732443779066,
          0.18409821943567845,
          0.18057342673076035,
          0.17235079217052948,
          0.18688353480579936,
          0.22833907786421226,
          0.2223771314882164,
          0.19778064870181222,
          0.2565967748294486,
          0.4753950075993899,
          0.18660424762924163,
          0.1884652083082013,
          0.22668006190457995,
          0.16671963840593404,
          0.13605261051349934,
          0.22275593986926767,
          0.3035653862765981,
          0.2564676869707786,
          0.15990307710466725,
          0.24082284693103367,
          0.2128019171672782,
          0.16106660142167306,
          0.20400861553704475,
          0.18898057213040845,
          0.2074824097547382,
          0.19803240498411367,
          0.2565281627169037,
          0.1872373232661879,
          0.12198569323050681,
          0.15287621030982818,
          0.14826950025034422,
          0.45396836592850187,
          0.17893810242100278,
          0.1674643682493103,
          0.29675239496002515,
          0.24253613993444514,
          0.2038034842230484,
          0.15626691790490652,
          0.596596215172916
         ],
         "xaxis": "x",
         "y": [
          0,
          2,
          3,
          6,
          7,
          8,
          9,
          10,
          11,
          12,
          13,
          14,
          15,
          16,
          17,
          18,
          19,
          20,
          21,
          22,
          23,
          24,
          25,
          26,
          27,
          28,
          29,
          30,
          31,
          32,
          33,
          34,
          35,
          36,
          37,
          38,
          39,
          40,
          41,
          42,
          43,
          44,
          45,
          46,
          48,
          49,
          50,
          51,
          53,
          54,
          55,
          56,
          57,
          58,
          59,
          60,
          61,
          62,
          63,
          64,
          65,
          66,
          67,
          68,
          69,
          70,
          71,
          72,
          74,
          75,
          76,
          78,
          79,
          80,
          81,
          82,
          84,
          85,
          86,
          88,
          89,
          90,
          91,
          92,
          93,
          94,
          95,
          96,
          97,
          98,
          99,
          102,
          105,
          106,
          108,
          109,
          110,
          111,
          112,
          114,
          115,
          116,
          117,
          118,
          120,
          121,
          122,
          123,
          124,
          125,
          126,
          127,
          128,
          129,
          130,
          131,
          133,
          134,
          135,
          136,
          137,
          138,
          140,
          141,
          143,
          145,
          146,
          148,
          149,
          150,
          151,
          152,
          153,
          154,
          155,
          158,
          159,
          161,
          162,
          163,
          165,
          166,
          168,
          169,
          170,
          171,
          172,
          173,
          175,
          176,
          177,
          178,
          179,
          180,
          182,
          183,
          184,
          185,
          186,
          187,
          188,
          190,
          191,
          193,
          196,
          198,
          199,
          202,
          203,
          204,
          205,
          206,
          207,
          209,
          210,
          211,
          212,
          215,
          216,
          218,
          219,
          220,
          221,
          222,
          223,
          224,
          225,
          226,
          227,
          228,
          229,
          230,
          232,
          233,
          234,
          235,
          236,
          237,
          239,
          240,
          241,
          243,
          244,
          246
         ],
         "yaxis": "y",
         "type": "scatter"
        },
        {
         "hovertemplate": "Class=1<br>Positive Class Probability=%{x}<br>Sample Integer Index=%{y}<extra></extra>",
         "legendgroup": "1",
         "marker": {
          "color": "#FF2079",
          "opacity": 0.6,
          "symbol": "circle",
          "size": 6
         },
         "mode": "markers",
         "name": "1",
         "orientation": "v",
         "showlegend": true,
         "x": [
          0.20794811309714992,
          0.48287557425705335,
          0.7537701350924535,
          0.5385254492069096,
          0.5607611124316116,
          0.9300604127284084,
          0.9284421785990413,
          0.9987247920093807,
          0.9770371233877223,
          0.9984007630239062,
          0.8265938437703328,
          0.9632853437432026,
          0.9900971900290887,
          0.44328797000235054,
          0.897784027036822,
          0.8969641439345437,
          0.5834521241575625,
          0.9977582280456954,
          0.964708921254728,
          0.4216223101914657,
          0.9814034620024179,
          0.916214505884904,
          0.7676773469530036,
          0.9657856118168686,
          0.22628704044651526,
          0.34136859763106214,
          0.9614709012654103,
          0.9976465147323267,
          0.3696356186477087,
          0.6692785499484415,
          0.9849732575540461,
          0.945079640624182,
          0.7682595666317793,
          0.9994140570561905,
          0.972738801601456,
          0.9893295459825954,
          0.9843994557672291,
          0.8464529039855077,
          0.9949070710695357,
          0.9099827983577229,
          0.9291448401101797,
          0.9112307995071085,
          0.9645381306821149
         ],
         "xaxis": "x",
         "y": [
          1,
          4,
          5,
          47,
          52,
          73,
          77,
          83,
          87,
          100,
          101,
          103,
          104,
          107,
          113,
          119,
          132,
          139,
          142,
          144,
          147,
          156,
          157,
          160,
          164,
          167,
          174,
          181,
          189,
          192,
          194,
          195,
          197,
          200,
          201,
          208,
          213,
          214,
          217,
          231,
          238,
          242,
          245
         ],
         "yaxis": "y",
         "type": "scatter"
        }
       ],
       "layout": {
        "template": {
         "data": {
          "histogram2dcontour": [
           {
            "type": "histogram2dcontour",
            "colorbar": {
             "outlinewidth": 0,
             "ticks": ""
            },
            "colorscale": [
             [
              0.0,
              "#0d0887"
             ],
             [
              0.1111111111111111,
              "#46039f"
             ],
             [
              0.2222222222222222,
              "#7201a8"
             ],
             [
              0.3333333333333333,
              "#9c179e"
             ],
             [
              0.4444444444444444,
              "#bd3786"
             ],
             [
              0.5555555555555556,
              "#d8576b"
             ],
             [
              0.6666666666666666,
              "#ed7953"
             ],
             [
              0.7777777777777778,
              "#fb9f3a"
             ],
             [
              0.8888888888888888,
              "#fdca26"
             ],
             [
              1.0,
              "#f0f921"
             ]
            ]
           }
          ],
          "choropleth": [
           {
            "type": "choropleth",
            "colorbar": {
             "outlinewidth": 0,
             "ticks": ""
            }
           }
          ],
          "histogram2d": [
           {
            "type": "histogram2d",
            "colorbar": {
             "outlinewidth": 0,
             "ticks": ""
            },
            "colorscale": [
             [
              0.0,
              "#0d0887"
             ],
             [
              0.1111111111111111,
              "#46039f"
             ],
             [
              0.2222222222222222,
              "#7201a8"
             ],
             [
              0.3333333333333333,
              "#9c179e"
             ],
             [
              0.4444444444444444,
              "#bd3786"
             ],
             [
              0.5555555555555556,
              "#d8576b"
             ],
             [
              0.6666666666666666,
              "#ed7953"
             ],
             [
              0.7777777777777778,
              "#fb9f3a"
             ],
             [
              0.8888888888888888,
              "#fdca26"
             ],
             [
              1.0,
              "#f0f921"
             ]
            ]
           }
          ],
          "heatmap": [
           {
            "type": "heatmap",
            "colorbar": {
             "outlinewidth": 0,
             "ticks": ""
            },
            "colorscale": [
             [
              0.0,
              "#0d0887"
             ],
             [
              0.1111111111111111,
              "#46039f"
             ],
             [
              0.2222222222222222,
              "#7201a8"
             ],
             [
              0.3333333333333333,
              "#9c179e"
             ],
             [
              0.4444444444444444,
              "#bd3786"
             ],
             [
              0.5555555555555556,
              "#d8576b"
             ],
             [
              0.6666666666666666,
              "#ed7953"
             ],
             [
              0.7777777777777778,
              "#fb9f3a"
             ],
             [
              0.8888888888888888,
              "#fdca26"
             ],
             [
              1.0,
              "#f0f921"
             ]
            ]
           }
          ],
          "heatmapgl": [
           {
            "type": "heatmapgl",
            "colorbar": {
             "outlinewidth": 0,
             "ticks": ""
            },
            "colorscale": [
             [
              0.0,
              "#0d0887"
             ],
             [
              0.1111111111111111,
              "#46039f"
             ],
             [
              0.2222222222222222,
              "#7201a8"
             ],
             [
              0.3333333333333333,
              "#9c179e"
             ],
             [
              0.4444444444444444,
              "#bd3786"
             ],
             [
              0.5555555555555556,
              "#d8576b"
             ],
             [
              0.6666666666666666,
              "#ed7953"
             ],
             [
              0.7777777777777778,
              "#fb9f3a"
             ],
             [
              0.8888888888888888,
              "#fdca26"
             ],
             [
              1.0,
              "#f0f921"
             ]
            ]
           }
          ],
          "contourcarpet": [
           {
            "type": "contourcarpet",
            "colorbar": {
             "outlinewidth": 0,
             "ticks": ""
            }
           }
          ],
          "contour": [
           {
            "type": "contour",
            "colorbar": {
             "outlinewidth": 0,
             "ticks": ""
            },
            "colorscale": [
             [
              0.0,
              "#0d0887"
             ],
             [
              0.1111111111111111,
              "#46039f"
             ],
             [
              0.2222222222222222,
              "#7201a8"
             ],
             [
              0.3333333333333333,
              "#9c179e"
             ],
             [
              0.4444444444444444,
              "#bd3786"
             ],
             [
              0.5555555555555556,
              "#d8576b"
             ],
             [
              0.6666666666666666,
              "#ed7953"
             ],
             [
              0.7777777777777778,
              "#fb9f3a"
             ],
             [
              0.8888888888888888,
              "#fdca26"
             ],
             [
              1.0,
              "#f0f921"
             ]
            ]
           }
          ],
          "surface": [
           {
            "type": "surface",
            "colorbar": {
             "outlinewidth": 0,
             "ticks": ""
            },
            "colorscale": [
             [
              0.0,
              "#0d0887"
             ],
             [
              0.1111111111111111,
              "#46039f"
             ],
             [
              0.2222222222222222,
              "#7201a8"
             ],
             [
              0.3333333333333333,
              "#9c179e"
             ],
             [
              0.4444444444444444,
              "#bd3786"
             ],
             [
              0.5555555555555556,
              "#d8576b"
             ],
             [
              0.6666666666666666,
              "#ed7953"
             ],
             [
              0.7777777777777778,
              "#fb9f3a"
             ],
             [
              0.8888888888888888,
              "#fdca26"
             ],
             [
              1.0,
              "#f0f921"
             ]
            ]
           }
          ],
          "mesh3d": [
           {
            "type": "mesh3d",
            "colorbar": {
             "outlinewidth": 0,
             "ticks": ""
            }
           }
          ],
          "scatter": [
           {
            "fillpattern": {
             "fillmode": "overlay",
             "size": 10,
             "solidity": 0.2
            },
            "type": "scatter"
           }
          ],
          "parcoords": [
           {
            "type": "parcoords",
            "line": {
             "colorbar": {
              "outlinewidth": 0,
              "ticks": ""
             }
            }
           }
          ],
          "scatterpolargl": [
           {
            "type": "scatterpolargl",
            "marker": {
             "colorbar": {
              "outlinewidth": 0,
              "ticks": ""
             }
            }
           }
          ],
          "bar": [
           {
            "error_x": {
             "color": "#2a3f5f"
            },
            "error_y": {
             "color": "#2a3f5f"
            },
            "marker": {
             "line": {
              "color": "#E5ECF6",
              "width": 0.5
             },
             "pattern": {
              "fillmode": "overlay",
              "size": 10,
              "solidity": 0.2
             }
            },
            "type": "bar"
           }
          ],
          "scattergeo": [
           {
            "type": "scattergeo",
            "marker": {
             "colorbar": {
              "outlinewidth": 0,
              "ticks": ""
             }
            }
           }
          ],
          "scatterpolar": [
           {
            "type": "scatterpolar",
            "marker": {
             "colorbar": {
              "outlinewidth": 0,
              "ticks": ""
             }
            }
           }
          ],
          "histogram": [
           {
            "marker": {
             "pattern": {
              "fillmode": "overlay",
              "size": 10,
              "solidity": 0.2
             }
            },
            "type": "histogram"
           }
          ],
          "scattergl": [
           {
            "type": "scattergl",
            "marker": {
             "colorbar": {
              "outlinewidth": 0,
              "ticks": ""
             }
            }
           }
          ],
          "scatter3d": [
           {
            "type": "scatter3d",
            "line": {
             "colorbar": {
              "outlinewidth": 0,
              "ticks": ""
             }
            },
            "marker": {
             "colorbar": {
              "outlinewidth": 0,
              "ticks": ""
             }
            }
           }
          ],
          "scattermapbox": [
           {
            "type": "scattermapbox",
            "marker": {
             "colorbar": {
              "outlinewidth": 0,
              "ticks": ""
             }
            }
           }
          ],
          "scatterternary": [
           {
            "type": "scatterternary",
            "marker": {
             "colorbar": {
              "outlinewidth": 0,
              "ticks": ""
             }
            }
           }
          ],
          "scattercarpet": [
           {
            "type": "scattercarpet",
            "marker": {
             "colorbar": {
              "outlinewidth": 0,
              "ticks": ""
             }
            }
           }
          ],
          "carpet": [
           {
            "aaxis": {
             "endlinecolor": "#2a3f5f",
             "gridcolor": "white",
             "linecolor": "white",
             "minorgridcolor": "white",
             "startlinecolor": "#2a3f5f"
            },
            "baxis": {
             "endlinecolor": "#2a3f5f",
             "gridcolor": "white",
             "linecolor": "white",
             "minorgridcolor": "white",
             "startlinecolor": "#2a3f5f"
            },
            "type": "carpet"
           }
          ],
          "table": [
           {
            "cells": {
             "fill": {
              "color": "#EBF0F8"
             },
             "line": {
              "color": "white"
             }
            },
            "header": {
             "fill": {
              "color": "#C8D4E3"
             },
             "line": {
              "color": "white"
             }
            },
            "type": "table"
           }
          ],
          "barpolar": [
           {
            "marker": {
             "line": {
              "color": "#E5ECF6",
              "width": 0.5
             },
             "pattern": {
              "fillmode": "overlay",
              "size": 10,
              "solidity": 0.2
             }
            },
            "type": "barpolar"
           }
          ],
          "pie": [
           {
            "automargin": true,
            "type": "pie"
           }
          ]
         },
         "layout": {
          "autotypenumbers": "strict",
          "colorway": [
           "#636efa",
           "#EF553B",
           "#00cc96",
           "#ab63fa",
           "#FFA15A",
           "#19d3f3",
           "#FF6692",
           "#B6E880",
           "#FF97FF",
           "#FECB52"
          ],
          "font": {
           "color": "#2a3f5f"
          },
          "hovermode": "closest",
          "hoverlabel": {
           "align": "left"
          },
          "paper_bgcolor": "white",
          "plot_bgcolor": "#E5ECF6",
          "polar": {
           "bgcolor": "#E5ECF6",
           "angularaxis": {
            "gridcolor": "white",
            "linecolor": "white",
            "ticks": ""
           },
           "radialaxis": {
            "gridcolor": "white",
            "linecolor": "white",
            "ticks": ""
           }
          },
          "ternary": {
           "bgcolor": "#E5ECF6",
           "aaxis": {
            "gridcolor": "white",
            "linecolor": "white",
            "ticks": ""
           },
           "baxis": {
            "gridcolor": "white",
            "linecolor": "white",
            "ticks": ""
           },
           "caxis": {
            "gridcolor": "white",
            "linecolor": "white",
            "ticks": ""
           }
          },
          "coloraxis": {
           "colorbar": {
            "outlinewidth": 0,
            "ticks": ""
           }
          },
          "colorscale": {
           "sequential": [
            [
             0.0,
             "#0d0887"
            ],
            [
             0.1111111111111111,
             "#46039f"
            ],
            [
             0.2222222222222222,
             "#7201a8"
            ],
            [
             0.3333333333333333,
             "#9c179e"
            ],
            [
             0.4444444444444444,
             "#bd3786"
            ],
            [
             0.5555555555555556,
             "#d8576b"
            ],
            [
             0.6666666666666666,
             "#ed7953"
            ],
            [
             0.7777777777777778,
             "#fb9f3a"
            ],
            [
             0.8888888888888888,
             "#fdca26"
            ],
            [
             1.0,
             "#f0f921"
            ]
           ],
           "sequentialminus": [
            [
             0.0,
             "#0d0887"
            ],
            [
             0.1111111111111111,
             "#46039f"
            ],
            [
             0.2222222222222222,
             "#7201a8"
            ],
            [
             0.3333333333333333,
             "#9c179e"
            ],
            [
             0.4444444444444444,
             "#bd3786"
            ],
            [
             0.5555555555555556,
             "#d8576b"
            ],
            [
             0.6666666666666666,
             "#ed7953"
            ],
            [
             0.7777777777777778,
             "#fb9f3a"
            ],
            [
             0.8888888888888888,
             "#fdca26"
            ],
            [
             1.0,
             "#f0f921"
            ]
           ],
           "diverging": [
            [
             0,
             "#8e0152"
            ],
            [
             0.1,
             "#c51b7d"
            ],
            [
             0.2,
             "#de77ae"
            ],
            [
             0.3,
             "#f1b6da"
            ],
            [
             0.4,
             "#fde0ef"
            ],
            [
             0.5,
             "#f7f7f7"
            ],
            [
             0.6,
             "#e6f5d0"
            ],
            [
             0.7,
             "#b8e186"
            ],
            [
             0.8,
             "#7fbc41"
            ],
            [
             0.9,
             "#4d9221"
            ],
            [
             1,
             "#276419"
            ]
           ]
          },
          "xaxis": {
           "gridcolor": "white",
           "linecolor": "white",
           "ticks": "",
           "title": {
            "standoff": 15
           },
           "zerolinecolor": "white",
           "automargin": true,
           "zerolinewidth": 2
          },
          "yaxis": {
           "gridcolor": "white",
           "linecolor": "white",
           "ticks": "",
           "title": {
            "standoff": 15
           },
           "zerolinecolor": "white",
           "automargin": true,
           "zerolinewidth": 2
          },
          "scene": {
           "xaxis": {
            "backgroundcolor": "#E5ECF6",
            "gridcolor": "white",
            "linecolor": "white",
            "showbackground": true,
            "ticks": "",
            "zerolinecolor": "white",
            "gridwidth": 2
           },
           "yaxis": {
            "backgroundcolor": "#E5ECF6",
            "gridcolor": "white",
            "linecolor": "white",
            "showbackground": true,
            "ticks": "",
            "zerolinecolor": "white",
            "gridwidth": 2
           },
           "zaxis": {
            "backgroundcolor": "#E5ECF6",
            "gridcolor": "white",
            "linecolor": "white",
            "showbackground": true,
            "ticks": "",
            "zerolinecolor": "white",
            "gridwidth": 2
           }
          },
          "shapedefaults": {
           "line": {
            "color": "#2a3f5f"
           }
          },
          "annotationdefaults": {
           "arrowcolor": "#2a3f5f",
           "arrowhead": 0,
           "arrowwidth": 1
          },
          "geo": {
           "bgcolor": "white",
           "landcolor": "#E5ECF6",
           "subunitcolor": "white",
           "showland": true,
           "showlakes": true,
           "lakecolor": "white"
          },
          "title": {
           "x": 0.05
          },
          "mapbox": {
           "style": "light"
          }
         }
        },
        "xaxis": {
         "anchor": "y",
         "domain": [
          0.0,
          1.0
         ],
         "title": {
          "text": "Positive Class Probability"
         },
         "range": [
          -0.02,
          1.02
         ]
        },
        "yaxis": {
         "anchor": "x",
         "domain": [
          0.0,
          1.0
         ],
         "title": {
          "text": "Sample Integer Index"
         }
        },
        "legend": {
         "title": {
          "text": "Class"
         },
         "tracegroupgap": 0,
         "orientation": "h",
         "yanchor": "bottom",
         "xanchor": "right",
         "y": 1.05,
         "x": 1,
         "itemsizing": "constant"
        },
        "title": {
         "text": "Training Dataset - Out of Fold Predictions",
         "font": {
          "size": 18
         }
        },
        "height": 540,
        "width": 840
       },
       "config": {
        "plotlyServerURL": "https://plot.ly"
       }
      },
      "text/html": "<div>                            <div id=\"99120fab-ee65-4bd9-abb9-ee55328cd8ac\" class=\"plotly-graph-div\" style=\"height:540px; width:840px;\"></div>            <script type=\"text/javascript\">                require([\"plotly\"], function(Plotly) {                    window.PLOTLYENV=window.PLOTLYENV || {};                                    if (document.getElementById(\"99120fab-ee65-4bd9-abb9-ee55328cd8ac\")) {                    Plotly.newPlot(                        \"99120fab-ee65-4bd9-abb9-ee55328cd8ac\",                        [{\"hovertemplate\":\"Class=0\\u003cbr\\u003ePositive Class Probability=%{x}\\u003cbr\\u003eSample Integer Index=%{y}\\u003cextra\\u003e\\u003c\\u002fextra\\u003e\",\"legendgroup\":\"0\",\"marker\":{\"color\":\"#010D36\",\"opacity\":0.6,\"symbol\":\"diamond\",\"size\":6},\"mode\":\"markers\",\"name\":\"0\",\"orientation\":\"v\",\"showlegend\":true,\"x\":[0.18647627009277726,0.17597728014287595,0.2410280042793159,0.24241722545634653,0.3212521533165755,0.21015367122633263,0.23397852620093382,0.1841625386278543,0.35786316662862644,0.5193908591265719,0.17214196622841144,0.17206675473592944,0.24050795235930653,0.14832585248780522,0.24042937692646316,0.27556194547748236,0.20357500847769103,0.22856753645957484,0.17009099348698137,0.21888324210922866,0.22129223380623392,0.30900664358039864,0.2002851742131489,0.15827184256627494,0.20528944349799896,0.16284551564392666,0.30299059217207186,0.5377906237961888,0.22392575390507705,0.44627636616369987,0.14865519873853264,0.17677516947117142,0.17400814899794256,0.1859958357779831,0.1839288329865812,0.17616615407688382,0.19465106984050368,0.9127155833345822,0.48731331078871803,0.25415042729799436,0.21779574665529797,0.3503715514382293,0.28202974666562064,0.17796052319311775,0.17741301918668512,0.20275639211343646,0.21907706472053332,0.21628535778429203,0.15507998314787283,0.16472866720980917,0.16632795666136505,0.17715343960009414,0.5972658485155946,0.5784416926087003,0.17681166131321766,0.2451211625789384,0.21096860938438664,0.1832685754804706,0.2014309268127773,0.21288192596288347,0.19693959011394963,0.2720756225370786,0.7675144447133253,0.8627310440713397,0.382344172420221,0.2963370331635213,0.2224649273205759,0.15670616104296867,0.7979486194779776,0.22698441425379373,0.17349356152029594,0.6712501124731196,0.19914294624017048,0.2020309608876056,0.11634160913850763,0.2818422326378469,0.2119187399922987,0.1992197226234936,0.19072535489820386,0.18316671079739727,0.6901708666803507,0.32618647353985397,0.19478592936885025,0.35094844133405007,0.1775747386780025,0.12358446501192726,0.21451175137623146,0.16588577825937365,0.16474515043389112,0.18952074181249567,0.3657007654527676,0.26214293534983885,0.16160979437592005,0.2262859365359576,0.4633016197200658,0.2281494766476321,0.16667546541882589,0.1720776003796651,0.19912237870151367,0.23535402508016898,0.1607611241026763,0.1919855737029889,0.19123318770526004,0.23067646270021464,0.17979387483719458,0.17436088224904034,0.15478569705970197,0.758587240733383,0.9059336261320831,0.26618369188132757,0.13900752036422198,0.1540632611773364,0.2498918120566235,0.1945424561836095,0.6988434381123756,0.1913423358071311,0.27257238093038083,0.24324253257335676,0.16567505537407853,0.15524330336545977,0.14691774246626516,0.15928934135336023,0.22437032676361246,0.19438470994188306,0.20759479452838217,0.3029443048963946,0.4189240635636978,0.23055576621194096,0.46351055081595427,0.22097832044648494,0.18436794218857447,0.21094349168945314,0.22221454539190527,0.17167115705670974,0.193700564875282,0.1952486223494913,0.18552449063721999,0.17655707813221902,0.1811498123162544,0.20345550256974348,0.5485115848635675,0.26766682976303474,0.12391608997520491,0.4111599846416214,0.2581097971751829,0.1691884226979929,0.19405962489706774,0.1739922862137846,0.24653520386432715,0.16993389711112933,0.20892923289312898,0.26278201411597807,0.17994745011645263,0.23736375866772236,0.16242594271500607,0.17432158615472196,0.3109556995775107,0.1398929032164305,0.20321069946334333,0.18282240272585643,0.2802357943729267,0.1565686491697156,0.27635192697720834,0.6608631345892721,0.2800126585094735,0.18483732443779066,0.18409821943567845,0.18057342673076035,0.17235079217052948,0.18688353480579936,0.22833907786421226,0.2223771314882164,0.19778064870181222,0.2565967748294486,0.4753950075993899,0.18660424762924163,0.1884652083082013,0.22668006190457995,0.16671963840593404,0.13605261051349934,0.22275593986926767,0.3035653862765981,0.2564676869707786,0.15990307710466725,0.24082284693103367,0.2128019171672782,0.16106660142167306,0.20400861553704475,0.18898057213040845,0.2074824097547382,0.19803240498411367,0.2565281627169037,0.1872373232661879,0.12198569323050681,0.15287621030982818,0.14826950025034422,0.45396836592850187,0.17893810242100278,0.1674643682493103,0.29675239496002515,0.24253613993444514,0.2038034842230484,0.15626691790490652,0.596596215172916],\"xaxis\":\"x\",\"y\":[0,2,3,6,7,8,9,10,11,12,13,14,15,16,17,18,19,20,21,22,23,24,25,26,27,28,29,30,31,32,33,34,35,36,37,38,39,40,41,42,43,44,45,46,48,49,50,51,53,54,55,56,57,58,59,60,61,62,63,64,65,66,67,68,69,70,71,72,74,75,76,78,79,80,81,82,84,85,86,88,89,90,91,92,93,94,95,96,97,98,99,102,105,106,108,109,110,111,112,114,115,116,117,118,120,121,122,123,124,125,126,127,128,129,130,131,133,134,135,136,137,138,140,141,143,145,146,148,149,150,151,152,153,154,155,158,159,161,162,163,165,166,168,169,170,171,172,173,175,176,177,178,179,180,182,183,184,185,186,187,188,190,191,193,196,198,199,202,203,204,205,206,207,209,210,211,212,215,216,218,219,220,221,222,223,224,225,226,227,228,229,230,232,233,234,235,236,237,239,240,241,243,244,246],\"yaxis\":\"y\",\"type\":\"scatter\"},{\"hovertemplate\":\"Class=1\\u003cbr\\u003ePositive Class Probability=%{x}\\u003cbr\\u003eSample Integer Index=%{y}\\u003cextra\\u003e\\u003c\\u002fextra\\u003e\",\"legendgroup\":\"1\",\"marker\":{\"color\":\"#FF2079\",\"opacity\":0.6,\"symbol\":\"circle\",\"size\":6},\"mode\":\"markers\",\"name\":\"1\",\"orientation\":\"v\",\"showlegend\":true,\"x\":[0.20794811309714992,0.48287557425705335,0.7537701350924535,0.5385254492069096,0.5607611124316116,0.9300604127284084,0.9284421785990413,0.9987247920093807,0.9770371233877223,0.9984007630239062,0.8265938437703328,0.9632853437432026,0.9900971900290887,0.44328797000235054,0.897784027036822,0.8969641439345437,0.5834521241575625,0.9977582280456954,0.964708921254728,0.4216223101914657,0.9814034620024179,0.916214505884904,0.7676773469530036,0.9657856118168686,0.22628704044651526,0.34136859763106214,0.9614709012654103,0.9976465147323267,0.3696356186477087,0.6692785499484415,0.9849732575540461,0.945079640624182,0.7682595666317793,0.9994140570561905,0.972738801601456,0.9893295459825954,0.9843994557672291,0.8464529039855077,0.9949070710695357,0.9099827983577229,0.9291448401101797,0.9112307995071085,0.9645381306821149],\"xaxis\":\"x\",\"y\":[1,4,5,47,52,73,77,83,87,100,101,103,104,107,113,119,132,139,142,144,147,156,157,160,164,167,174,181,189,192,194,195,197,200,201,208,213,214,217,231,238,242,245],\"yaxis\":\"y\",\"type\":\"scatter\"}],                        {\"template\":{\"data\":{\"histogram2dcontour\":[{\"type\":\"histogram2dcontour\",\"colorbar\":{\"outlinewidth\":0,\"ticks\":\"\"},\"colorscale\":[[0.0,\"#0d0887\"],[0.1111111111111111,\"#46039f\"],[0.2222222222222222,\"#7201a8\"],[0.3333333333333333,\"#9c179e\"],[0.4444444444444444,\"#bd3786\"],[0.5555555555555556,\"#d8576b\"],[0.6666666666666666,\"#ed7953\"],[0.7777777777777778,\"#fb9f3a\"],[0.8888888888888888,\"#fdca26\"],[1.0,\"#f0f921\"]]}],\"choropleth\":[{\"type\":\"choropleth\",\"colorbar\":{\"outlinewidth\":0,\"ticks\":\"\"}}],\"histogram2d\":[{\"type\":\"histogram2d\",\"colorbar\":{\"outlinewidth\":0,\"ticks\":\"\"},\"colorscale\":[[0.0,\"#0d0887\"],[0.1111111111111111,\"#46039f\"],[0.2222222222222222,\"#7201a8\"],[0.3333333333333333,\"#9c179e\"],[0.4444444444444444,\"#bd3786\"],[0.5555555555555556,\"#d8576b\"],[0.6666666666666666,\"#ed7953\"],[0.7777777777777778,\"#fb9f3a\"],[0.8888888888888888,\"#fdca26\"],[1.0,\"#f0f921\"]]}],\"heatmap\":[{\"type\":\"heatmap\",\"colorbar\":{\"outlinewidth\":0,\"ticks\":\"\"},\"colorscale\":[[0.0,\"#0d0887\"],[0.1111111111111111,\"#46039f\"],[0.2222222222222222,\"#7201a8\"],[0.3333333333333333,\"#9c179e\"],[0.4444444444444444,\"#bd3786\"],[0.5555555555555556,\"#d8576b\"],[0.6666666666666666,\"#ed7953\"],[0.7777777777777778,\"#fb9f3a\"],[0.8888888888888888,\"#fdca26\"],[1.0,\"#f0f921\"]]}],\"heatmapgl\":[{\"type\":\"heatmapgl\",\"colorbar\":{\"outlinewidth\":0,\"ticks\":\"\"},\"colorscale\":[[0.0,\"#0d0887\"],[0.1111111111111111,\"#46039f\"],[0.2222222222222222,\"#7201a8\"],[0.3333333333333333,\"#9c179e\"],[0.4444444444444444,\"#bd3786\"],[0.5555555555555556,\"#d8576b\"],[0.6666666666666666,\"#ed7953\"],[0.7777777777777778,\"#fb9f3a\"],[0.8888888888888888,\"#fdca26\"],[1.0,\"#f0f921\"]]}],\"contourcarpet\":[{\"type\":\"contourcarpet\",\"colorbar\":{\"outlinewidth\":0,\"ticks\":\"\"}}],\"contour\":[{\"type\":\"contour\",\"colorbar\":{\"outlinewidth\":0,\"ticks\":\"\"},\"colorscale\":[[0.0,\"#0d0887\"],[0.1111111111111111,\"#46039f\"],[0.2222222222222222,\"#7201a8\"],[0.3333333333333333,\"#9c179e\"],[0.4444444444444444,\"#bd3786\"],[0.5555555555555556,\"#d8576b\"],[0.6666666666666666,\"#ed7953\"],[0.7777777777777778,\"#fb9f3a\"],[0.8888888888888888,\"#fdca26\"],[1.0,\"#f0f921\"]]}],\"surface\":[{\"type\":\"surface\",\"colorbar\":{\"outlinewidth\":0,\"ticks\":\"\"},\"colorscale\":[[0.0,\"#0d0887\"],[0.1111111111111111,\"#46039f\"],[0.2222222222222222,\"#7201a8\"],[0.3333333333333333,\"#9c179e\"],[0.4444444444444444,\"#bd3786\"],[0.5555555555555556,\"#d8576b\"],[0.6666666666666666,\"#ed7953\"],[0.7777777777777778,\"#fb9f3a\"],[0.8888888888888888,\"#fdca26\"],[1.0,\"#f0f921\"]]}],\"mesh3d\":[{\"type\":\"mesh3d\",\"colorbar\":{\"outlinewidth\":0,\"ticks\":\"\"}}],\"scatter\":[{\"fillpattern\":{\"fillmode\":\"overlay\",\"size\":10,\"solidity\":0.2},\"type\":\"scatter\"}],\"parcoords\":[{\"type\":\"parcoords\",\"line\":{\"colorbar\":{\"outlinewidth\":0,\"ticks\":\"\"}}}],\"scatterpolargl\":[{\"type\":\"scatterpolargl\",\"marker\":{\"colorbar\":{\"outlinewidth\":0,\"ticks\":\"\"}}}],\"bar\":[{\"error_x\":{\"color\":\"#2a3f5f\"},\"error_y\":{\"color\":\"#2a3f5f\"},\"marker\":{\"line\":{\"color\":\"#E5ECF6\",\"width\":0.5},\"pattern\":{\"fillmode\":\"overlay\",\"size\":10,\"solidity\":0.2}},\"type\":\"bar\"}],\"scattergeo\":[{\"type\":\"scattergeo\",\"marker\":{\"colorbar\":{\"outlinewidth\":0,\"ticks\":\"\"}}}],\"scatterpolar\":[{\"type\":\"scatterpolar\",\"marker\":{\"colorbar\":{\"outlinewidth\":0,\"ticks\":\"\"}}}],\"histogram\":[{\"marker\":{\"pattern\":{\"fillmode\":\"overlay\",\"size\":10,\"solidity\":0.2}},\"type\":\"histogram\"}],\"scattergl\":[{\"type\":\"scattergl\",\"marker\":{\"colorbar\":{\"outlinewidth\":0,\"ticks\":\"\"}}}],\"scatter3d\":[{\"type\":\"scatter3d\",\"line\":{\"colorbar\":{\"outlinewidth\":0,\"ticks\":\"\"}},\"marker\":{\"colorbar\":{\"outlinewidth\":0,\"ticks\":\"\"}}}],\"scattermapbox\":[{\"type\":\"scattermapbox\",\"marker\":{\"colorbar\":{\"outlinewidth\":0,\"ticks\":\"\"}}}],\"scatterternary\":[{\"type\":\"scatterternary\",\"marker\":{\"colorbar\":{\"outlinewidth\":0,\"ticks\":\"\"}}}],\"scattercarpet\":[{\"type\":\"scattercarpet\",\"marker\":{\"colorbar\":{\"outlinewidth\":0,\"ticks\":\"\"}}}],\"carpet\":[{\"aaxis\":{\"endlinecolor\":\"#2a3f5f\",\"gridcolor\":\"white\",\"linecolor\":\"white\",\"minorgridcolor\":\"white\",\"startlinecolor\":\"#2a3f5f\"},\"baxis\":{\"endlinecolor\":\"#2a3f5f\",\"gridcolor\":\"white\",\"linecolor\":\"white\",\"minorgridcolor\":\"white\",\"startlinecolor\":\"#2a3f5f\"},\"type\":\"carpet\"}],\"table\":[{\"cells\":{\"fill\":{\"color\":\"#EBF0F8\"},\"line\":{\"color\":\"white\"}},\"header\":{\"fill\":{\"color\":\"#C8D4E3\"},\"line\":{\"color\":\"white\"}},\"type\":\"table\"}],\"barpolar\":[{\"marker\":{\"line\":{\"color\":\"#E5ECF6\",\"width\":0.5},\"pattern\":{\"fillmode\":\"overlay\",\"size\":10,\"solidity\":0.2}},\"type\":\"barpolar\"}],\"pie\":[{\"automargin\":true,\"type\":\"pie\"}]},\"layout\":{\"autotypenumbers\":\"strict\",\"colorway\":[\"#636efa\",\"#EF553B\",\"#00cc96\",\"#ab63fa\",\"#FFA15A\",\"#19d3f3\",\"#FF6692\",\"#B6E880\",\"#FF97FF\",\"#FECB52\"],\"font\":{\"color\":\"#2a3f5f\"},\"hovermode\":\"closest\",\"hoverlabel\":{\"align\":\"left\"},\"paper_bgcolor\":\"white\",\"plot_bgcolor\":\"#E5ECF6\",\"polar\":{\"bgcolor\":\"#E5ECF6\",\"angularaxis\":{\"gridcolor\":\"white\",\"linecolor\":\"white\",\"ticks\":\"\"},\"radialaxis\":{\"gridcolor\":\"white\",\"linecolor\":\"white\",\"ticks\":\"\"}},\"ternary\":{\"bgcolor\":\"#E5ECF6\",\"aaxis\":{\"gridcolor\":\"white\",\"linecolor\":\"white\",\"ticks\":\"\"},\"baxis\":{\"gridcolor\":\"white\",\"linecolor\":\"white\",\"ticks\":\"\"},\"caxis\":{\"gridcolor\":\"white\",\"linecolor\":\"white\",\"ticks\":\"\"}},\"coloraxis\":{\"colorbar\":{\"outlinewidth\":0,\"ticks\":\"\"}},\"colorscale\":{\"sequential\":[[0.0,\"#0d0887\"],[0.1111111111111111,\"#46039f\"],[0.2222222222222222,\"#7201a8\"],[0.3333333333333333,\"#9c179e\"],[0.4444444444444444,\"#bd3786\"],[0.5555555555555556,\"#d8576b\"],[0.6666666666666666,\"#ed7953\"],[0.7777777777777778,\"#fb9f3a\"],[0.8888888888888888,\"#fdca26\"],[1.0,\"#f0f921\"]],\"sequentialminus\":[[0.0,\"#0d0887\"],[0.1111111111111111,\"#46039f\"],[0.2222222222222222,\"#7201a8\"],[0.3333333333333333,\"#9c179e\"],[0.4444444444444444,\"#bd3786\"],[0.5555555555555556,\"#d8576b\"],[0.6666666666666666,\"#ed7953\"],[0.7777777777777778,\"#fb9f3a\"],[0.8888888888888888,\"#fdca26\"],[1.0,\"#f0f921\"]],\"diverging\":[[0,\"#8e0152\"],[0.1,\"#c51b7d\"],[0.2,\"#de77ae\"],[0.3,\"#f1b6da\"],[0.4,\"#fde0ef\"],[0.5,\"#f7f7f7\"],[0.6,\"#e6f5d0\"],[0.7,\"#b8e186\"],[0.8,\"#7fbc41\"],[0.9,\"#4d9221\"],[1,\"#276419\"]]},\"xaxis\":{\"gridcolor\":\"white\",\"linecolor\":\"white\",\"ticks\":\"\",\"title\":{\"standoff\":15},\"zerolinecolor\":\"white\",\"automargin\":true,\"zerolinewidth\":2},\"yaxis\":{\"gridcolor\":\"white\",\"linecolor\":\"white\",\"ticks\":\"\",\"title\":{\"standoff\":15},\"zerolinecolor\":\"white\",\"automargin\":true,\"zerolinewidth\":2},\"scene\":{\"xaxis\":{\"backgroundcolor\":\"#E5ECF6\",\"gridcolor\":\"white\",\"linecolor\":\"white\",\"showbackground\":true,\"ticks\":\"\",\"zerolinecolor\":\"white\",\"gridwidth\":2},\"yaxis\":{\"backgroundcolor\":\"#E5ECF6\",\"gridcolor\":\"white\",\"linecolor\":\"white\",\"showbackground\":true,\"ticks\":\"\",\"zerolinecolor\":\"white\",\"gridwidth\":2},\"zaxis\":{\"backgroundcolor\":\"#E5ECF6\",\"gridcolor\":\"white\",\"linecolor\":\"white\",\"showbackground\":true,\"ticks\":\"\",\"zerolinecolor\":\"white\",\"gridwidth\":2}},\"shapedefaults\":{\"line\":{\"color\":\"#2a3f5f\"}},\"annotationdefaults\":{\"arrowcolor\":\"#2a3f5f\",\"arrowhead\":0,\"arrowwidth\":1},\"geo\":{\"bgcolor\":\"white\",\"landcolor\":\"#E5ECF6\",\"subunitcolor\":\"white\",\"showland\":true,\"showlakes\":true,\"lakecolor\":\"white\"},\"title\":{\"x\":0.05},\"mapbox\":{\"style\":\"light\"}}},\"xaxis\":{\"anchor\":\"y\",\"domain\":[0.0,1.0],\"title\":{\"text\":\"Positive Class Probability\"},\"range\":[-0.02,1.02]},\"yaxis\":{\"anchor\":\"x\",\"domain\":[0.0,1.0],\"title\":{\"text\":\"Sample Integer Index\"}},\"legend\":{\"title\":{\"text\":\"Class\"},\"tracegroupgap\":0,\"orientation\":\"h\",\"yanchor\":\"bottom\",\"xanchor\":\"right\",\"y\":1.05,\"x\":1,\"itemsizing\":\"constant\"},\"title\":{\"text\":\"Training Dataset - Out of Fold Predictions\",\"font\":{\"size\":18}},\"height\":540,\"width\":840},                        {\"responsive\": true}                    ).then(function(){\n                            \nvar gd = document.getElementById('99120fab-ee65-4bd9-abb9-ee55328cd8ac');\nvar x = new MutationObserver(function (mutations, observer) {{\n        var display = window.getComputedStyle(gd).display;\n        if (!display || display === 'none') {{\n            console.log([gd, 'removed!']);\n            Plotly.purge(gd);\n            observer.disconnect();\n        }}\n}});\n\n// Listen for the removal of the full notebook cells\nvar notebookContainer = gd.closest('#notebook-container');\nif (notebookContainer) {{\n    x.observe(notebookContainer, {childList: true});\n}}\n\n// Listen for the clearing of the current output cell\nvar outputEl = gd.closest('.output');\nif (outputEl) {{\n    x.observe(outputEl, {childList: true});\n}}\n\n                        })                };                });            </script>        </div>"
     },
     "metadata": {},
     "output_type": "display_data"
    }
   ],
   "source": [
    "en_preds = get_weighted_preds(0.7, 0.3)\n",
    "print(balanced_log_loss(targs, en_preds))\n",
    "plot_results(targs, en_preds)"
   ],
   "metadata": {
    "collapsed": false,
    "ExecuteTime": {
     "end_time": "2023-08-07T18:14:18.298009Z",
     "start_time": "2023-08-07T18:14:18.262863Z"
    }
   },
   "id": "d41c44972742a83e"
  },
  {
   "cell_type": "code",
   "execution_count": 247,
   "outputs": [
    {
     "data": {
      "application/vnd.plotly.v1+json": {
       "data": [
        {
         "hovertemplate": "Class=0<br>Positive Class Probability=%{x}<br>Sample Integer Index=%{y}<extra></extra>",
         "legendgroup": "0",
         "marker": {
          "color": "#010D36",
          "opacity": 0.6,
          "symbol": "diamond",
          "size": 6
         },
         "mode": "markers",
         "name": "0",
         "orientation": "v",
         "showlegend": true,
         "x": [
          0.019095621947619153,
          0.002488561481146165,
          0.003979233869514256,
          0.2088793920679538,
          0.41147729091988067,
          0.0018036932462786395,
          0.04481584299300635,
          0.00342467221972455,
          0.3737213005567507,
          0.029464688299510624,
          0.009419610118620391,
          0.019223364318154492,
          0.003085209220607091,
          0.0028483799243063687,
          0.1483558296046035,
          0.2984036069424837,
          0.019916621731133,
          0.03285431459946678,
          0.002559788502391133,
          0.008385614881282014,
          0.20359329495622489,
          0.43411919569638613,
          0.005194719507620578,
          0.003789740692056983,
          0.047243055916969784,
          0.007917014874922527,
          0.1529704751250662,
          0.4059888836152154,
          0.02139876111911159,
          0.041506089930431804,
          0.0038048880814094514,
          0.03488912217904106,
          0.033428331513934484,
          0.020747544755091312,
          0.04541928761080859,
          0.0939786670281809,
          5.957570364506629E-4,
          0.9798323091209504,
          0.5532839248135593,
          0.18799158240770256,
          0.00176629136348004,
          0.13155821934030126,
          0.1424453115928962,
          0.0787055764762454,
          0.008193312904667979,
          0.05134444154656335,
          0.09506925651676798,
          0.0036403368283011587,
          0.0029300400710547832,
          0.004620091353075847,
          0.003674041379761747,
          0.014263594411558535,
          0.6377597947854621,
          0.016349001785470427,
          0.011473483477174529,
          0.14316974893370601,
          0.01937705851822722,
          0.029231255620352236,
          0.0294553077654354,
          0.013566773012340884,
          0.004569548824071358,
          0.004105764158375292,
          0.9132461989075975,
          0.5681147329589499,
          0.02894506196882144,
          0.17635035796633558,
          0.004293648020744959,
          0.0018888438440701149,
          0.6319056641824715,
          0.09178366195547111,
          0.013362359252630306,
          0.2572612220020734,
          0.0923962839340623,
          2.861161031148583E-4,
          0.01579005148099192,
          0.2903449564948494,
          0.06438885635110418,
          0.005065712911772484,
          0.02083733197129254,
          0.004949265928559708,
          0.21266454601356308,
          0.012383147648257965,
          0.03519850190121815,
          0.006228050614334366,
          0.01178840735443477,
          0.0021659610171210946,
          0.01962661492374197,
          0.010919279493017096,
          0.0015406258467605164,
          0.18466719426084985,
          0.37489756611315805,
          0.032406379627840085,
          0.00746462304600001,
          0.008012212321371332,
          0.7929892037696449,
          0.03181915481970302,
          0.025821931209598453,
          0.06341324653850461,
          0.029033404173273734,
          0.009792758075279467,
          0.003608833446782079,
          0.016142217099460905,
          0.045008310973583036,
          0.02346646603692452,
          0.033955558860416894,
          3.216035053561994E-4,
          0.005016192452348186,
          0.7826556747412612,
          0.7415060455165707,
          0.05059615659127221,
          0.004005272145062858,
          0.025690418568568817,
          0.2640530779968454,
          0.009975444985022532,
          0.6219037992544886,
          0.05830490545049758,
          0.045219403605318086,
          0.2497911968569442,
          0.04765345450696871,
          0.0074624385666540016,
          0.005698293365816914,
          0.06442779032052698,
          0.011428681235255244,
          0.082887463925743,
          0.0013357318000566593,
          0.11857321644160546,
          0.023426115911382002,
          0.20333451823060414,
          0.7098139582709951,
          0.13368770747341596,
          0.034076430315420306,
          0.0038627830879211624,
          0.24087402748699976,
          0.07787581938710679,
          0.006486568100178098,
          0.0026592236478811416,
          0.0014152035535608342,
          0.021691518257680575,
          0.003903663076810156,
          0.01298023521922857,
          0.3865835741675703,
          0.002648079190584624,
          0.027813962576676877,
          0.6305460379300843,
          0.22742541013642822,
          0.02382049208949594,
          0.013868857180492758,
          0.00765192869156324,
          0.09059570567525448,
          0.09164600522422649,
          0.019370837800170935,
          0.2982048912324136,
          0.005881982893338022,
          0.030934572168240942,
          0.023997848219331753,
          0.010776550448016235,
          0.4532961424674602,
          0.010378550316721089,
          0.004737833819308914,
          0.023290056024130566,
          0.1658579117310398,
          0.040050307104694684,
          0.32061099428193796,
          0.5974637578807853,
          0.3418515830333382,
          0.10136822202898915,
          0.018055407740230404,
          0.017169541939524836,
          0.006784989042298386,
          0.10635503734755795,
          0.00933533520871557,
          0.03924969205025988,
          0.0018700786213921336,
          0.332327090942268,
          0.10389133847089736,
          0.0884337760991404,
          0.002402962897556572,
          0.04606085250109622,
          0.0181762148893378,
          9.426045316158866E-4,
          0.045418345624151917,
          0.22045469397026743,
          0.45125971860272457,
          0.0018248386481716753,
          0.23551740660208248,
          0.0014330902754335682,
          0.01896871376779003,
          4.734314930350954E-4,
          0.09272409050374086,
          0.01127793484047053,
          0.006977604511966636,
          0.03533296703987136,
          0.00807678017987003,
          0.009326105165074408,
          0.018535743480804442,
          0.11099160848301233,
          0.12725101557364393,
          0.004317103812552815,
          0.017886932377461775,
          0.05045722499721318,
          0.017067781584742106,
          0.013250475399230887,
          0.0043974489658840455,
          0.8969693515178538
         ],
         "xaxis": "x",
         "y": [
          0,
          2,
          3,
          6,
          7,
          8,
          9,
          10,
          11,
          12,
          13,
          14,
          15,
          16,
          17,
          18,
          19,
          20,
          21,
          22,
          23,
          24,
          25,
          26,
          27,
          28,
          29,
          30,
          31,
          32,
          33,
          34,
          35,
          36,
          37,
          38,
          39,
          40,
          41,
          42,
          43,
          44,
          45,
          46,
          48,
          49,
          50,
          51,
          53,
          54,
          55,
          56,
          57,
          58,
          59,
          60,
          61,
          62,
          63,
          64,
          65,
          66,
          67,
          68,
          69,
          70,
          71,
          72,
          74,
          75,
          76,
          78,
          79,
          80,
          81,
          82,
          84,
          85,
          86,
          88,
          89,
          90,
          91,
          92,
          93,
          94,
          95,
          96,
          97,
          98,
          99,
          102,
          105,
          106,
          108,
          109,
          110,
          111,
          112,
          114,
          115,
          116,
          117,
          118,
          120,
          121,
          122,
          123,
          124,
          125,
          126,
          127,
          128,
          129,
          130,
          131,
          133,
          134,
          135,
          136,
          137,
          138,
          140,
          141,
          143,
          145,
          146,
          148,
          149,
          150,
          151,
          152,
          153,
          154,
          155,
          158,
          159,
          161,
          162,
          163,
          165,
          166,
          168,
          169,
          170,
          171,
          172,
          173,
          175,
          176,
          177,
          178,
          179,
          180,
          182,
          183,
          184,
          185,
          186,
          187,
          188,
          190,
          191,
          193,
          196,
          198,
          199,
          202,
          203,
          204,
          205,
          206,
          207,
          209,
          210,
          211,
          212,
          215,
          216,
          218,
          219,
          220,
          221,
          222,
          223,
          224,
          225,
          226,
          227,
          228,
          229,
          230,
          232,
          233,
          234,
          235,
          236,
          237,
          239,
          240,
          241,
          243,
          244,
          246
         ],
         "yaxis": "y",
         "type": "scatter"
        },
        {
         "hovertemplate": "Class=1<br>Positive Class Probability=%{x}<br>Sample Integer Index=%{y}<extra></extra>",
         "legendgroup": "1",
         "marker": {
          "color": "#FF2079",
          "opacity": 0.6,
          "symbol": "circle",
          "size": 6
         },
         "mode": "markers",
         "name": "1",
         "orientation": "v",
         "showlegend": true,
         "x": [
          0.009896041993958417,
          0.9625090778737513,
          0.9109803777526362,
          0.8453091547571323,
          0.7027030602426197,
          0.7968766366230763,
          0.7694979456795642,
          0.9970036268425888,
          0.9343886095473108,
          0.9990072758628703,
          0.7628211301972724,
          0.9785760008521793,
          0.9946676926038799,
          0.39336314259587846,
          0.6641579753054385,
          0.6783461942364631,
          0.7923272873263051,
          0.9943132217128852,
          0.9496887423629685,
          0.839199288388336,
          0.9381095300440707,
          0.9025751883912698,
          0.9844850834483869,
          0.9262160100825144,
          0.09830550463436502,
          0.1782628293978012,
          0.9232695874064092,
          0.9977376598738485,
          0.5497679343514119,
          0.5646004868848703,
          0.9685325813706444,
          0.9625679786909177,
          0.7610068109527736,
          0.9981486218508149,
          0.9163061750032052,
          0.9659648911420375,
          0.9941195050257936,
          0.7005503185574458,
          0.9974256816031439,
          0.8433335948649968,
          0.8220630244044361,
          0.7075418927636647,
          0.8950616039216656
         ],
         "xaxis": "x",
         "y": [
          1,
          4,
          5,
          47,
          52,
          73,
          77,
          83,
          87,
          100,
          101,
          103,
          104,
          107,
          113,
          119,
          132,
          139,
          142,
          144,
          147,
          156,
          157,
          160,
          164,
          167,
          174,
          181,
          189,
          192,
          194,
          195,
          197,
          200,
          201,
          208,
          213,
          214,
          217,
          231,
          238,
          242,
          245
         ],
         "yaxis": "y",
         "type": "scatter"
        }
       ],
       "layout": {
        "template": {
         "data": {
          "histogram2dcontour": [
           {
            "type": "histogram2dcontour",
            "colorbar": {
             "outlinewidth": 0,
             "ticks": ""
            },
            "colorscale": [
             [
              0.0,
              "#0d0887"
             ],
             [
              0.1111111111111111,
              "#46039f"
             ],
             [
              0.2222222222222222,
              "#7201a8"
             ],
             [
              0.3333333333333333,
              "#9c179e"
             ],
             [
              0.4444444444444444,
              "#bd3786"
             ],
             [
              0.5555555555555556,
              "#d8576b"
             ],
             [
              0.6666666666666666,
              "#ed7953"
             ],
             [
              0.7777777777777778,
              "#fb9f3a"
             ],
             [
              0.8888888888888888,
              "#fdca26"
             ],
             [
              1.0,
              "#f0f921"
             ]
            ]
           }
          ],
          "choropleth": [
           {
            "type": "choropleth",
            "colorbar": {
             "outlinewidth": 0,
             "ticks": ""
            }
           }
          ],
          "histogram2d": [
           {
            "type": "histogram2d",
            "colorbar": {
             "outlinewidth": 0,
             "ticks": ""
            },
            "colorscale": [
             [
              0.0,
              "#0d0887"
             ],
             [
              0.1111111111111111,
              "#46039f"
             ],
             [
              0.2222222222222222,
              "#7201a8"
             ],
             [
              0.3333333333333333,
              "#9c179e"
             ],
             [
              0.4444444444444444,
              "#bd3786"
             ],
             [
              0.5555555555555556,
              "#d8576b"
             ],
             [
              0.6666666666666666,
              "#ed7953"
             ],
             [
              0.7777777777777778,
              "#fb9f3a"
             ],
             [
              0.8888888888888888,
              "#fdca26"
             ],
             [
              1.0,
              "#f0f921"
             ]
            ]
           }
          ],
          "heatmap": [
           {
            "type": "heatmap",
            "colorbar": {
             "outlinewidth": 0,
             "ticks": ""
            },
            "colorscale": [
             [
              0.0,
              "#0d0887"
             ],
             [
              0.1111111111111111,
              "#46039f"
             ],
             [
              0.2222222222222222,
              "#7201a8"
             ],
             [
              0.3333333333333333,
              "#9c179e"
             ],
             [
              0.4444444444444444,
              "#bd3786"
             ],
             [
              0.5555555555555556,
              "#d8576b"
             ],
             [
              0.6666666666666666,
              "#ed7953"
             ],
             [
              0.7777777777777778,
              "#fb9f3a"
             ],
             [
              0.8888888888888888,
              "#fdca26"
             ],
             [
              1.0,
              "#f0f921"
             ]
            ]
           }
          ],
          "heatmapgl": [
           {
            "type": "heatmapgl",
            "colorbar": {
             "outlinewidth": 0,
             "ticks": ""
            },
            "colorscale": [
             [
              0.0,
              "#0d0887"
             ],
             [
              0.1111111111111111,
              "#46039f"
             ],
             [
              0.2222222222222222,
              "#7201a8"
             ],
             [
              0.3333333333333333,
              "#9c179e"
             ],
             [
              0.4444444444444444,
              "#bd3786"
             ],
             [
              0.5555555555555556,
              "#d8576b"
             ],
             [
              0.6666666666666666,
              "#ed7953"
             ],
             [
              0.7777777777777778,
              "#fb9f3a"
             ],
             [
              0.8888888888888888,
              "#fdca26"
             ],
             [
              1.0,
              "#f0f921"
             ]
            ]
           }
          ],
          "contourcarpet": [
           {
            "type": "contourcarpet",
            "colorbar": {
             "outlinewidth": 0,
             "ticks": ""
            }
           }
          ],
          "contour": [
           {
            "type": "contour",
            "colorbar": {
             "outlinewidth": 0,
             "ticks": ""
            },
            "colorscale": [
             [
              0.0,
              "#0d0887"
             ],
             [
              0.1111111111111111,
              "#46039f"
             ],
             [
              0.2222222222222222,
              "#7201a8"
             ],
             [
              0.3333333333333333,
              "#9c179e"
             ],
             [
              0.4444444444444444,
              "#bd3786"
             ],
             [
              0.5555555555555556,
              "#d8576b"
             ],
             [
              0.6666666666666666,
              "#ed7953"
             ],
             [
              0.7777777777777778,
              "#fb9f3a"
             ],
             [
              0.8888888888888888,
              "#fdca26"
             ],
             [
              1.0,
              "#f0f921"
             ]
            ]
           }
          ],
          "surface": [
           {
            "type": "surface",
            "colorbar": {
             "outlinewidth": 0,
             "ticks": ""
            },
            "colorscale": [
             [
              0.0,
              "#0d0887"
             ],
             [
              0.1111111111111111,
              "#46039f"
             ],
             [
              0.2222222222222222,
              "#7201a8"
             ],
             [
              0.3333333333333333,
              "#9c179e"
             ],
             [
              0.4444444444444444,
              "#bd3786"
             ],
             [
              0.5555555555555556,
              "#d8576b"
             ],
             [
              0.6666666666666666,
              "#ed7953"
             ],
             [
              0.7777777777777778,
              "#fb9f3a"
             ],
             [
              0.8888888888888888,
              "#fdca26"
             ],
             [
              1.0,
              "#f0f921"
             ]
            ]
           }
          ],
          "mesh3d": [
           {
            "type": "mesh3d",
            "colorbar": {
             "outlinewidth": 0,
             "ticks": ""
            }
           }
          ],
          "scatter": [
           {
            "fillpattern": {
             "fillmode": "overlay",
             "size": 10,
             "solidity": 0.2
            },
            "type": "scatter"
           }
          ],
          "parcoords": [
           {
            "type": "parcoords",
            "line": {
             "colorbar": {
              "outlinewidth": 0,
              "ticks": ""
             }
            }
           }
          ],
          "scatterpolargl": [
           {
            "type": "scatterpolargl",
            "marker": {
             "colorbar": {
              "outlinewidth": 0,
              "ticks": ""
             }
            }
           }
          ],
          "bar": [
           {
            "error_x": {
             "color": "#2a3f5f"
            },
            "error_y": {
             "color": "#2a3f5f"
            },
            "marker": {
             "line": {
              "color": "#E5ECF6",
              "width": 0.5
             },
             "pattern": {
              "fillmode": "overlay",
              "size": 10,
              "solidity": 0.2
             }
            },
            "type": "bar"
           }
          ],
          "scattergeo": [
           {
            "type": "scattergeo",
            "marker": {
             "colorbar": {
              "outlinewidth": 0,
              "ticks": ""
             }
            }
           }
          ],
          "scatterpolar": [
           {
            "type": "scatterpolar",
            "marker": {
             "colorbar": {
              "outlinewidth": 0,
              "ticks": ""
             }
            }
           }
          ],
          "histogram": [
           {
            "marker": {
             "pattern": {
              "fillmode": "overlay",
              "size": 10,
              "solidity": 0.2
             }
            },
            "type": "histogram"
           }
          ],
          "scattergl": [
           {
            "type": "scattergl",
            "marker": {
             "colorbar": {
              "outlinewidth": 0,
              "ticks": ""
             }
            }
           }
          ],
          "scatter3d": [
           {
            "type": "scatter3d",
            "line": {
             "colorbar": {
              "outlinewidth": 0,
              "ticks": ""
             }
            },
            "marker": {
             "colorbar": {
              "outlinewidth": 0,
              "ticks": ""
             }
            }
           }
          ],
          "scattermapbox": [
           {
            "type": "scattermapbox",
            "marker": {
             "colorbar": {
              "outlinewidth": 0,
              "ticks": ""
             }
            }
           }
          ],
          "scatterternary": [
           {
            "type": "scatterternary",
            "marker": {
             "colorbar": {
              "outlinewidth": 0,
              "ticks": ""
             }
            }
           }
          ],
          "scattercarpet": [
           {
            "type": "scattercarpet",
            "marker": {
             "colorbar": {
              "outlinewidth": 0,
              "ticks": ""
             }
            }
           }
          ],
          "carpet": [
           {
            "aaxis": {
             "endlinecolor": "#2a3f5f",
             "gridcolor": "white",
             "linecolor": "white",
             "minorgridcolor": "white",
             "startlinecolor": "#2a3f5f"
            },
            "baxis": {
             "endlinecolor": "#2a3f5f",
             "gridcolor": "white",
             "linecolor": "white",
             "minorgridcolor": "white",
             "startlinecolor": "#2a3f5f"
            },
            "type": "carpet"
           }
          ],
          "table": [
           {
            "cells": {
             "fill": {
              "color": "#EBF0F8"
             },
             "line": {
              "color": "white"
             }
            },
            "header": {
             "fill": {
              "color": "#C8D4E3"
             },
             "line": {
              "color": "white"
             }
            },
            "type": "table"
           }
          ],
          "barpolar": [
           {
            "marker": {
             "line": {
              "color": "#E5ECF6",
              "width": 0.5
             },
             "pattern": {
              "fillmode": "overlay",
              "size": 10,
              "solidity": 0.2
             }
            },
            "type": "barpolar"
           }
          ],
          "pie": [
           {
            "automargin": true,
            "type": "pie"
           }
          ]
         },
         "layout": {
          "autotypenumbers": "strict",
          "colorway": [
           "#636efa",
           "#EF553B",
           "#00cc96",
           "#ab63fa",
           "#FFA15A",
           "#19d3f3",
           "#FF6692",
           "#B6E880",
           "#FF97FF",
           "#FECB52"
          ],
          "font": {
           "color": "#2a3f5f"
          },
          "hovermode": "closest",
          "hoverlabel": {
           "align": "left"
          },
          "paper_bgcolor": "white",
          "plot_bgcolor": "#E5ECF6",
          "polar": {
           "bgcolor": "#E5ECF6",
           "angularaxis": {
            "gridcolor": "white",
            "linecolor": "white",
            "ticks": ""
           },
           "radialaxis": {
            "gridcolor": "white",
            "linecolor": "white",
            "ticks": ""
           }
          },
          "ternary": {
           "bgcolor": "#E5ECF6",
           "aaxis": {
            "gridcolor": "white",
            "linecolor": "white",
            "ticks": ""
           },
           "baxis": {
            "gridcolor": "white",
            "linecolor": "white",
            "ticks": ""
           },
           "caxis": {
            "gridcolor": "white",
            "linecolor": "white",
            "ticks": ""
           }
          },
          "coloraxis": {
           "colorbar": {
            "outlinewidth": 0,
            "ticks": ""
           }
          },
          "colorscale": {
           "sequential": [
            [
             0.0,
             "#0d0887"
            ],
            [
             0.1111111111111111,
             "#46039f"
            ],
            [
             0.2222222222222222,
             "#7201a8"
            ],
            [
             0.3333333333333333,
             "#9c179e"
            ],
            [
             0.4444444444444444,
             "#bd3786"
            ],
            [
             0.5555555555555556,
             "#d8576b"
            ],
            [
             0.6666666666666666,
             "#ed7953"
            ],
            [
             0.7777777777777778,
             "#fb9f3a"
            ],
            [
             0.8888888888888888,
             "#fdca26"
            ],
            [
             1.0,
             "#f0f921"
            ]
           ],
           "sequentialminus": [
            [
             0.0,
             "#0d0887"
            ],
            [
             0.1111111111111111,
             "#46039f"
            ],
            [
             0.2222222222222222,
             "#7201a8"
            ],
            [
             0.3333333333333333,
             "#9c179e"
            ],
            [
             0.4444444444444444,
             "#bd3786"
            ],
            [
             0.5555555555555556,
             "#d8576b"
            ],
            [
             0.6666666666666666,
             "#ed7953"
            ],
            [
             0.7777777777777778,
             "#fb9f3a"
            ],
            [
             0.8888888888888888,
             "#fdca26"
            ],
            [
             1.0,
             "#f0f921"
            ]
           ],
           "diverging": [
            [
             0,
             "#8e0152"
            ],
            [
             0.1,
             "#c51b7d"
            ],
            [
             0.2,
             "#de77ae"
            ],
            [
             0.3,
             "#f1b6da"
            ],
            [
             0.4,
             "#fde0ef"
            ],
            [
             0.5,
             "#f7f7f7"
            ],
            [
             0.6,
             "#e6f5d0"
            ],
            [
             0.7,
             "#b8e186"
            ],
            [
             0.8,
             "#7fbc41"
            ],
            [
             0.9,
             "#4d9221"
            ],
            [
             1,
             "#276419"
            ]
           ]
          },
          "xaxis": {
           "gridcolor": "white",
           "linecolor": "white",
           "ticks": "",
           "title": {
            "standoff": 15
           },
           "zerolinecolor": "white",
           "automargin": true,
           "zerolinewidth": 2
          },
          "yaxis": {
           "gridcolor": "white",
           "linecolor": "white",
           "ticks": "",
           "title": {
            "standoff": 15
           },
           "zerolinecolor": "white",
           "automargin": true,
           "zerolinewidth": 2
          },
          "scene": {
           "xaxis": {
            "backgroundcolor": "#E5ECF6",
            "gridcolor": "white",
            "linecolor": "white",
            "showbackground": true,
            "ticks": "",
            "zerolinecolor": "white",
            "gridwidth": 2
           },
           "yaxis": {
            "backgroundcolor": "#E5ECF6",
            "gridcolor": "white",
            "linecolor": "white",
            "showbackground": true,
            "ticks": "",
            "zerolinecolor": "white",
            "gridwidth": 2
           },
           "zaxis": {
            "backgroundcolor": "#E5ECF6",
            "gridcolor": "white",
            "linecolor": "white",
            "showbackground": true,
            "ticks": "",
            "zerolinecolor": "white",
            "gridwidth": 2
           }
          },
          "shapedefaults": {
           "line": {
            "color": "#2a3f5f"
           }
          },
          "annotationdefaults": {
           "arrowcolor": "#2a3f5f",
           "arrowhead": 0,
           "arrowwidth": 1
          },
          "geo": {
           "bgcolor": "white",
           "landcolor": "#E5ECF6",
           "subunitcolor": "white",
           "showland": true,
           "showlakes": true,
           "lakecolor": "white"
          },
          "title": {
           "x": 0.05
          },
          "mapbox": {
           "style": "light"
          }
         }
        },
        "xaxis": {
         "anchor": "y",
         "domain": [
          0.0,
          1.0
         ],
         "title": {
          "text": "Positive Class Probability"
         },
         "range": [
          -0.02,
          1.02
         ]
        },
        "yaxis": {
         "anchor": "x",
         "domain": [
          0.0,
          1.0
         ],
         "title": {
          "text": "Sample Integer Index"
         }
        },
        "legend": {
         "title": {
          "text": "Class"
         },
         "tracegroupgap": 0,
         "orientation": "h",
         "yanchor": "bottom",
         "xanchor": "right",
         "y": 1.05,
         "x": 1,
         "itemsizing": "constant"
        },
        "title": {
         "text": "Training Dataset - Out of Fold Predictions",
         "font": {
          "size": 18
         }
        },
        "height": 540,
        "width": 840
       },
       "config": {
        "plotlyServerURL": "https://plot.ly"
       }
      },
      "text/html": "<div>                            <div id=\"416df287-618d-46de-a709-57dc5273a85c\" class=\"plotly-graph-div\" style=\"height:540px; width:840px;\"></div>            <script type=\"text/javascript\">                require([\"plotly\"], function(Plotly) {                    window.PLOTLYENV=window.PLOTLYENV || {};                                    if (document.getElementById(\"416df287-618d-46de-a709-57dc5273a85c\")) {                    Plotly.newPlot(                        \"416df287-618d-46de-a709-57dc5273a85c\",                        [{\"hovertemplate\":\"Class=0\\u003cbr\\u003ePositive Class Probability=%{x}\\u003cbr\\u003eSample Integer Index=%{y}\\u003cextra\\u003e\\u003c\\u002fextra\\u003e\",\"legendgroup\":\"0\",\"marker\":{\"color\":\"#010D36\",\"opacity\":0.6,\"symbol\":\"diamond\",\"size\":6},\"mode\":\"markers\",\"name\":\"0\",\"orientation\":\"v\",\"showlegend\":true,\"x\":[0.019095621947619153,0.002488561481146165,0.003979233869514256,0.2088793920679538,0.41147729091988067,0.0018036932462786395,0.04481584299300635,0.00342467221972455,0.3737213005567507,0.029464688299510624,0.009419610118620391,0.019223364318154492,0.003085209220607091,0.0028483799243063687,0.1483558296046035,0.2984036069424837,0.019916621731133,0.03285431459946678,0.002559788502391133,0.008385614881282014,0.20359329495622489,0.43411919569638613,0.005194719507620578,0.003789740692056983,0.047243055916969784,0.007917014874922527,0.1529704751250662,0.4059888836152154,0.02139876111911159,0.041506089930431804,0.0038048880814094514,0.03488912217904106,0.033428331513934484,0.020747544755091312,0.04541928761080859,0.0939786670281809,0.0005957570364506629,0.9798323091209504,0.5532839248135593,0.18799158240770256,0.00176629136348004,0.13155821934030126,0.1424453115928962,0.0787055764762454,0.008193312904667979,0.05134444154656335,0.09506925651676798,0.0036403368283011587,0.0029300400710547832,0.004620091353075847,0.003674041379761747,0.014263594411558535,0.6377597947854621,0.016349001785470427,0.011473483477174529,0.14316974893370601,0.01937705851822722,0.029231255620352236,0.0294553077654354,0.013566773012340884,0.004569548824071358,0.004105764158375292,0.9132461989075975,0.5681147329589499,0.02894506196882144,0.17635035796633558,0.004293648020744959,0.0018888438440701149,0.6319056641824715,0.09178366195547111,0.013362359252630306,0.2572612220020734,0.0923962839340623,0.0002861161031148583,0.01579005148099192,0.2903449564948494,0.06438885635110418,0.005065712911772484,0.02083733197129254,0.004949265928559708,0.21266454601356308,0.012383147648257965,0.03519850190121815,0.006228050614334366,0.01178840735443477,0.0021659610171210946,0.01962661492374197,0.010919279493017096,0.0015406258467605164,0.18466719426084985,0.37489756611315805,0.032406379627840085,0.00746462304600001,0.008012212321371332,0.7929892037696449,0.03181915481970302,0.025821931209598453,0.06341324653850461,0.029033404173273734,0.009792758075279467,0.003608833446782079,0.016142217099460905,0.045008310973583036,0.02346646603692452,0.033955558860416894,0.0003216035053561994,0.005016192452348186,0.7826556747412612,0.7415060455165707,0.05059615659127221,0.004005272145062858,0.025690418568568817,0.2640530779968454,0.009975444985022532,0.6219037992544886,0.05830490545049758,0.045219403605318086,0.2497911968569442,0.04765345450696871,0.0074624385666540016,0.005698293365816914,0.06442779032052698,0.011428681235255244,0.082887463925743,0.0013357318000566593,0.11857321644160546,0.023426115911382002,0.20333451823060414,0.7098139582709951,0.13368770747341596,0.034076430315420306,0.0038627830879211624,0.24087402748699976,0.07787581938710679,0.006486568100178098,0.0026592236478811416,0.0014152035535608342,0.021691518257680575,0.003903663076810156,0.01298023521922857,0.3865835741675703,0.002648079190584624,0.027813962576676877,0.6305460379300843,0.22742541013642822,0.02382049208949594,0.013868857180492758,0.00765192869156324,0.09059570567525448,0.09164600522422649,0.019370837800170935,0.2982048912324136,0.005881982893338022,0.030934572168240942,0.023997848219331753,0.010776550448016235,0.4532961424674602,0.010378550316721089,0.004737833819308914,0.023290056024130566,0.1658579117310398,0.040050307104694684,0.32061099428193796,0.5974637578807853,0.3418515830333382,0.10136822202898915,0.018055407740230404,0.017169541939524836,0.006784989042298386,0.10635503734755795,0.00933533520871557,0.03924969205025988,0.0018700786213921336,0.332327090942268,0.10389133847089736,0.0884337760991404,0.002402962897556572,0.04606085250109622,0.0181762148893378,0.0009426045316158866,0.045418345624151917,0.22045469397026743,0.45125971860272457,0.0018248386481716753,0.23551740660208248,0.0014330902754335682,0.01896871376779003,0.0004734314930350954,0.09272409050374086,0.01127793484047053,0.006977604511966636,0.03533296703987136,0.00807678017987003,0.009326105165074408,0.018535743480804442,0.11099160848301233,0.12725101557364393,0.004317103812552815,0.017886932377461775,0.05045722499721318,0.017067781584742106,0.013250475399230887,0.0043974489658840455,0.8969693515178538],\"xaxis\":\"x\",\"y\":[0,2,3,6,7,8,9,10,11,12,13,14,15,16,17,18,19,20,21,22,23,24,25,26,27,28,29,30,31,32,33,34,35,36,37,38,39,40,41,42,43,44,45,46,48,49,50,51,53,54,55,56,57,58,59,60,61,62,63,64,65,66,67,68,69,70,71,72,74,75,76,78,79,80,81,82,84,85,86,88,89,90,91,92,93,94,95,96,97,98,99,102,105,106,108,109,110,111,112,114,115,116,117,118,120,121,122,123,124,125,126,127,128,129,130,131,133,134,135,136,137,138,140,141,143,145,146,148,149,150,151,152,153,154,155,158,159,161,162,163,165,166,168,169,170,171,172,173,175,176,177,178,179,180,182,183,184,185,186,187,188,190,191,193,196,198,199,202,203,204,205,206,207,209,210,211,212,215,216,218,219,220,221,222,223,224,225,226,227,228,229,230,232,233,234,235,236,237,239,240,241,243,244,246],\"yaxis\":\"y\",\"type\":\"scatter\"},{\"hovertemplate\":\"Class=1\\u003cbr\\u003ePositive Class Probability=%{x}\\u003cbr\\u003eSample Integer Index=%{y}\\u003cextra\\u003e\\u003c\\u002fextra\\u003e\",\"legendgroup\":\"1\",\"marker\":{\"color\":\"#FF2079\",\"opacity\":0.6,\"symbol\":\"circle\",\"size\":6},\"mode\":\"markers\",\"name\":\"1\",\"orientation\":\"v\",\"showlegend\":true,\"x\":[0.009896041993958417,0.9625090778737513,0.9109803777526362,0.8453091547571323,0.7027030602426197,0.7968766366230763,0.7694979456795642,0.9970036268425888,0.9343886095473108,0.9990072758628703,0.7628211301972724,0.9785760008521793,0.9946676926038799,0.39336314259587846,0.6641579753054385,0.6783461942364631,0.7923272873263051,0.9943132217128852,0.9496887423629685,0.839199288388336,0.9381095300440707,0.9025751883912698,0.9844850834483869,0.9262160100825144,0.09830550463436502,0.1782628293978012,0.9232695874064092,0.9977376598738485,0.5497679343514119,0.5646004868848703,0.9685325813706444,0.9625679786909177,0.7610068109527736,0.9981486218508149,0.9163061750032052,0.9659648911420375,0.9941195050257936,0.7005503185574458,0.9974256816031439,0.8433335948649968,0.8220630244044361,0.7075418927636647,0.8950616039216656],\"xaxis\":\"x\",\"y\":[1,4,5,47,52,73,77,83,87,100,101,103,104,107,113,119,132,139,142,144,147,156,157,160,164,167,174,181,189,192,194,195,197,200,201,208,213,214,217,231,238,242,245],\"yaxis\":\"y\",\"type\":\"scatter\"}],                        {\"template\":{\"data\":{\"histogram2dcontour\":[{\"type\":\"histogram2dcontour\",\"colorbar\":{\"outlinewidth\":0,\"ticks\":\"\"},\"colorscale\":[[0.0,\"#0d0887\"],[0.1111111111111111,\"#46039f\"],[0.2222222222222222,\"#7201a8\"],[0.3333333333333333,\"#9c179e\"],[0.4444444444444444,\"#bd3786\"],[0.5555555555555556,\"#d8576b\"],[0.6666666666666666,\"#ed7953\"],[0.7777777777777778,\"#fb9f3a\"],[0.8888888888888888,\"#fdca26\"],[1.0,\"#f0f921\"]]}],\"choropleth\":[{\"type\":\"choropleth\",\"colorbar\":{\"outlinewidth\":0,\"ticks\":\"\"}}],\"histogram2d\":[{\"type\":\"histogram2d\",\"colorbar\":{\"outlinewidth\":0,\"ticks\":\"\"},\"colorscale\":[[0.0,\"#0d0887\"],[0.1111111111111111,\"#46039f\"],[0.2222222222222222,\"#7201a8\"],[0.3333333333333333,\"#9c179e\"],[0.4444444444444444,\"#bd3786\"],[0.5555555555555556,\"#d8576b\"],[0.6666666666666666,\"#ed7953\"],[0.7777777777777778,\"#fb9f3a\"],[0.8888888888888888,\"#fdca26\"],[1.0,\"#f0f921\"]]}],\"heatmap\":[{\"type\":\"heatmap\",\"colorbar\":{\"outlinewidth\":0,\"ticks\":\"\"},\"colorscale\":[[0.0,\"#0d0887\"],[0.1111111111111111,\"#46039f\"],[0.2222222222222222,\"#7201a8\"],[0.3333333333333333,\"#9c179e\"],[0.4444444444444444,\"#bd3786\"],[0.5555555555555556,\"#d8576b\"],[0.6666666666666666,\"#ed7953\"],[0.7777777777777778,\"#fb9f3a\"],[0.8888888888888888,\"#fdca26\"],[1.0,\"#f0f921\"]]}],\"heatmapgl\":[{\"type\":\"heatmapgl\",\"colorbar\":{\"outlinewidth\":0,\"ticks\":\"\"},\"colorscale\":[[0.0,\"#0d0887\"],[0.1111111111111111,\"#46039f\"],[0.2222222222222222,\"#7201a8\"],[0.3333333333333333,\"#9c179e\"],[0.4444444444444444,\"#bd3786\"],[0.5555555555555556,\"#d8576b\"],[0.6666666666666666,\"#ed7953\"],[0.7777777777777778,\"#fb9f3a\"],[0.8888888888888888,\"#fdca26\"],[1.0,\"#f0f921\"]]}],\"contourcarpet\":[{\"type\":\"contourcarpet\",\"colorbar\":{\"outlinewidth\":0,\"ticks\":\"\"}}],\"contour\":[{\"type\":\"contour\",\"colorbar\":{\"outlinewidth\":0,\"ticks\":\"\"},\"colorscale\":[[0.0,\"#0d0887\"],[0.1111111111111111,\"#46039f\"],[0.2222222222222222,\"#7201a8\"],[0.3333333333333333,\"#9c179e\"],[0.4444444444444444,\"#bd3786\"],[0.5555555555555556,\"#d8576b\"],[0.6666666666666666,\"#ed7953\"],[0.7777777777777778,\"#fb9f3a\"],[0.8888888888888888,\"#fdca26\"],[1.0,\"#f0f921\"]]}],\"surface\":[{\"type\":\"surface\",\"colorbar\":{\"outlinewidth\":0,\"ticks\":\"\"},\"colorscale\":[[0.0,\"#0d0887\"],[0.1111111111111111,\"#46039f\"],[0.2222222222222222,\"#7201a8\"],[0.3333333333333333,\"#9c179e\"],[0.4444444444444444,\"#bd3786\"],[0.5555555555555556,\"#d8576b\"],[0.6666666666666666,\"#ed7953\"],[0.7777777777777778,\"#fb9f3a\"],[0.8888888888888888,\"#fdca26\"],[1.0,\"#f0f921\"]]}],\"mesh3d\":[{\"type\":\"mesh3d\",\"colorbar\":{\"outlinewidth\":0,\"ticks\":\"\"}}],\"scatter\":[{\"fillpattern\":{\"fillmode\":\"overlay\",\"size\":10,\"solidity\":0.2},\"type\":\"scatter\"}],\"parcoords\":[{\"type\":\"parcoords\",\"line\":{\"colorbar\":{\"outlinewidth\":0,\"ticks\":\"\"}}}],\"scatterpolargl\":[{\"type\":\"scatterpolargl\",\"marker\":{\"colorbar\":{\"outlinewidth\":0,\"ticks\":\"\"}}}],\"bar\":[{\"error_x\":{\"color\":\"#2a3f5f\"},\"error_y\":{\"color\":\"#2a3f5f\"},\"marker\":{\"line\":{\"color\":\"#E5ECF6\",\"width\":0.5},\"pattern\":{\"fillmode\":\"overlay\",\"size\":10,\"solidity\":0.2}},\"type\":\"bar\"}],\"scattergeo\":[{\"type\":\"scattergeo\",\"marker\":{\"colorbar\":{\"outlinewidth\":0,\"ticks\":\"\"}}}],\"scatterpolar\":[{\"type\":\"scatterpolar\",\"marker\":{\"colorbar\":{\"outlinewidth\":0,\"ticks\":\"\"}}}],\"histogram\":[{\"marker\":{\"pattern\":{\"fillmode\":\"overlay\",\"size\":10,\"solidity\":0.2}},\"type\":\"histogram\"}],\"scattergl\":[{\"type\":\"scattergl\",\"marker\":{\"colorbar\":{\"outlinewidth\":0,\"ticks\":\"\"}}}],\"scatter3d\":[{\"type\":\"scatter3d\",\"line\":{\"colorbar\":{\"outlinewidth\":0,\"ticks\":\"\"}},\"marker\":{\"colorbar\":{\"outlinewidth\":0,\"ticks\":\"\"}}}],\"scattermapbox\":[{\"type\":\"scattermapbox\",\"marker\":{\"colorbar\":{\"outlinewidth\":0,\"ticks\":\"\"}}}],\"scatterternary\":[{\"type\":\"scatterternary\",\"marker\":{\"colorbar\":{\"outlinewidth\":0,\"ticks\":\"\"}}}],\"scattercarpet\":[{\"type\":\"scattercarpet\",\"marker\":{\"colorbar\":{\"outlinewidth\":0,\"ticks\":\"\"}}}],\"carpet\":[{\"aaxis\":{\"endlinecolor\":\"#2a3f5f\",\"gridcolor\":\"white\",\"linecolor\":\"white\",\"minorgridcolor\":\"white\",\"startlinecolor\":\"#2a3f5f\"},\"baxis\":{\"endlinecolor\":\"#2a3f5f\",\"gridcolor\":\"white\",\"linecolor\":\"white\",\"minorgridcolor\":\"white\",\"startlinecolor\":\"#2a3f5f\"},\"type\":\"carpet\"}],\"table\":[{\"cells\":{\"fill\":{\"color\":\"#EBF0F8\"},\"line\":{\"color\":\"white\"}},\"header\":{\"fill\":{\"color\":\"#C8D4E3\"},\"line\":{\"color\":\"white\"}},\"type\":\"table\"}],\"barpolar\":[{\"marker\":{\"line\":{\"color\":\"#E5ECF6\",\"width\":0.5},\"pattern\":{\"fillmode\":\"overlay\",\"size\":10,\"solidity\":0.2}},\"type\":\"barpolar\"}],\"pie\":[{\"automargin\":true,\"type\":\"pie\"}]},\"layout\":{\"autotypenumbers\":\"strict\",\"colorway\":[\"#636efa\",\"#EF553B\",\"#00cc96\",\"#ab63fa\",\"#FFA15A\",\"#19d3f3\",\"#FF6692\",\"#B6E880\",\"#FF97FF\",\"#FECB52\"],\"font\":{\"color\":\"#2a3f5f\"},\"hovermode\":\"closest\",\"hoverlabel\":{\"align\":\"left\"},\"paper_bgcolor\":\"white\",\"plot_bgcolor\":\"#E5ECF6\",\"polar\":{\"bgcolor\":\"#E5ECF6\",\"angularaxis\":{\"gridcolor\":\"white\",\"linecolor\":\"white\",\"ticks\":\"\"},\"radialaxis\":{\"gridcolor\":\"white\",\"linecolor\":\"white\",\"ticks\":\"\"}},\"ternary\":{\"bgcolor\":\"#E5ECF6\",\"aaxis\":{\"gridcolor\":\"white\",\"linecolor\":\"white\",\"ticks\":\"\"},\"baxis\":{\"gridcolor\":\"white\",\"linecolor\":\"white\",\"ticks\":\"\"},\"caxis\":{\"gridcolor\":\"white\",\"linecolor\":\"white\",\"ticks\":\"\"}},\"coloraxis\":{\"colorbar\":{\"outlinewidth\":0,\"ticks\":\"\"}},\"colorscale\":{\"sequential\":[[0.0,\"#0d0887\"],[0.1111111111111111,\"#46039f\"],[0.2222222222222222,\"#7201a8\"],[0.3333333333333333,\"#9c179e\"],[0.4444444444444444,\"#bd3786\"],[0.5555555555555556,\"#d8576b\"],[0.6666666666666666,\"#ed7953\"],[0.7777777777777778,\"#fb9f3a\"],[0.8888888888888888,\"#fdca26\"],[1.0,\"#f0f921\"]],\"sequentialminus\":[[0.0,\"#0d0887\"],[0.1111111111111111,\"#46039f\"],[0.2222222222222222,\"#7201a8\"],[0.3333333333333333,\"#9c179e\"],[0.4444444444444444,\"#bd3786\"],[0.5555555555555556,\"#d8576b\"],[0.6666666666666666,\"#ed7953\"],[0.7777777777777778,\"#fb9f3a\"],[0.8888888888888888,\"#fdca26\"],[1.0,\"#f0f921\"]],\"diverging\":[[0,\"#8e0152\"],[0.1,\"#c51b7d\"],[0.2,\"#de77ae\"],[0.3,\"#f1b6da\"],[0.4,\"#fde0ef\"],[0.5,\"#f7f7f7\"],[0.6,\"#e6f5d0\"],[0.7,\"#b8e186\"],[0.8,\"#7fbc41\"],[0.9,\"#4d9221\"],[1,\"#276419\"]]},\"xaxis\":{\"gridcolor\":\"white\",\"linecolor\":\"white\",\"ticks\":\"\",\"title\":{\"standoff\":15},\"zerolinecolor\":\"white\",\"automargin\":true,\"zerolinewidth\":2},\"yaxis\":{\"gridcolor\":\"white\",\"linecolor\":\"white\",\"ticks\":\"\",\"title\":{\"standoff\":15},\"zerolinecolor\":\"white\",\"automargin\":true,\"zerolinewidth\":2},\"scene\":{\"xaxis\":{\"backgroundcolor\":\"#E5ECF6\",\"gridcolor\":\"white\",\"linecolor\":\"white\",\"showbackground\":true,\"ticks\":\"\",\"zerolinecolor\":\"white\",\"gridwidth\":2},\"yaxis\":{\"backgroundcolor\":\"#E5ECF6\",\"gridcolor\":\"white\",\"linecolor\":\"white\",\"showbackground\":true,\"ticks\":\"\",\"zerolinecolor\":\"white\",\"gridwidth\":2},\"zaxis\":{\"backgroundcolor\":\"#E5ECF6\",\"gridcolor\":\"white\",\"linecolor\":\"white\",\"showbackground\":true,\"ticks\":\"\",\"zerolinecolor\":\"white\",\"gridwidth\":2}},\"shapedefaults\":{\"line\":{\"color\":\"#2a3f5f\"}},\"annotationdefaults\":{\"arrowcolor\":\"#2a3f5f\",\"arrowhead\":0,\"arrowwidth\":1},\"geo\":{\"bgcolor\":\"white\",\"landcolor\":\"#E5ECF6\",\"subunitcolor\":\"white\",\"showland\":true,\"showlakes\":true,\"lakecolor\":\"white\"},\"title\":{\"x\":0.05},\"mapbox\":{\"style\":\"light\"}}},\"xaxis\":{\"anchor\":\"y\",\"domain\":[0.0,1.0],\"title\":{\"text\":\"Positive Class Probability\"},\"range\":[-0.02,1.02]},\"yaxis\":{\"anchor\":\"x\",\"domain\":[0.0,1.0],\"title\":{\"text\":\"Sample Integer Index\"}},\"legend\":{\"title\":{\"text\":\"Class\"},\"tracegroupgap\":0,\"orientation\":\"h\",\"yanchor\":\"bottom\",\"xanchor\":\"right\",\"y\":1.05,\"x\":1,\"itemsizing\":\"constant\"},\"title\":{\"text\":\"Training Dataset - Out of Fold Predictions\",\"font\":{\"size\":18}},\"height\":540,\"width\":840},                        {\"responsive\": true}                    ).then(function(){\n                            \nvar gd = document.getElementById('416df287-618d-46de-a709-57dc5273a85c');\nvar x = new MutationObserver(function (mutations, observer) {{\n        var display = window.getComputedStyle(gd).display;\n        if (!display || display === 'none') {{\n            console.log([gd, 'removed!']);\n            Plotly.purge(gd);\n            observer.disconnect();\n        }}\n}});\n\n// Listen for the removal of the full notebook cells\nvar notebookContainer = gd.closest('#notebook-container');\nif (notebookContainer) {{\n    x.observe(notebookContainer, {childList: true});\n}}\n\n// Listen for the clearing of the current output cell\nvar outputEl = gd.closest('.output');\nif (outputEl) {{\n    x.observe(outputEl, {childList: true});\n}}\n\n                        })                };                });            </script>        </div>"
     },
     "metadata": {},
     "output_type": "display_data"
    }
   ],
   "source": [
    "plot_results(targs, pred_df['catboost_with_resampling'])\n"
   ],
   "metadata": {
    "collapsed": false,
    "ExecuteTime": {
     "end_time": "2023-08-07T18:14:23.401857Z",
     "start_time": "2023-08-07T18:14:23.360596Z"
    }
   },
   "id": "61a2b920f43a5381"
  },
  {
   "cell_type": "code",
   "execution_count": null,
   "outputs": [],
   "source": [],
   "metadata": {
    "collapsed": false
   },
   "id": "a29e8f8712e43f1c"
  }
 ],
 "metadata": {
  "kernelspec": {
   "display_name": "Python 3",
   "language": "python",
   "name": "python3"
  },
  "language_info": {
   "codemirror_mode": {
    "name": "ipython",
    "version": 2
   },
   "file_extension": ".py",
   "mimetype": "text/x-python",
   "name": "python",
   "nbconvert_exporter": "python",
   "pygments_lexer": "ipython2",
   "version": "2.7.6"
  }
 },
 "nbformat": 4,
 "nbformat_minor": 5
}
