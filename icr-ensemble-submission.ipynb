{
 "cells": [
  {
   "cell_type": "code",
   "execution_count": 11,
   "outputs": [],
   "source": [
    "import optuna"
   ],
   "metadata": {
    "collapsed": false,
    "ExecuteTime": {
     "end_time": "2023-08-07T03:28:41.063968Z",
     "start_time": "2023-08-07T03:28:41.062138Z"
    }
   },
   "id": "e68039d5d8395573"
  },
  {
   "cell_type": "code",
   "execution_count": 12,
   "id": "initial_id",
   "metadata": {
    "collapsed": true,
    "ExecuteTime": {
     "end_time": "2023-08-07T03:28:41.068429Z",
     "start_time": "2023-08-07T03:28:41.066570Z"
    }
   },
   "outputs": [],
   "source": [
    "best_trials = {\n",
    "    \"lightgbm_with_resampling\": 248,\n",
    "    \"lightgbm_without_resampling\": 220,\n",
    "    \"svc_without_resampling\": 203,\n",
    "    \"svc_with_resampling\": 161,\n",
    "    \"catboost_with_resampling\": 234,\n",
    "    \"catboost_without_resampling\": 223,\n",
    "    \"fastai_with_resampling\": 123,\n",
    "    \"fastai_without_resampling\": 101,\n",
    "    \"tabpfn_without_resampling\": 30,\n",
    "    \"tabpfn_with_resampling\": 65,\n",
    "    \"xgboost_without_resampling\": 210,\n",
    "    \"xgboost_with_resampling\": 179,\n",
    "}"
   ]
  },
  {
   "cell_type": "code",
   "execution_count": 13,
   "outputs": [],
   "source": [
    "from pathlib import Path\n",
    "path = Path('./data')\n",
    "output = Path('./output')\n",
    "output.mkdir(exist_ok=True)"
   ],
   "metadata": {
    "collapsed": false,
    "ExecuteTime": {
     "end_time": "2023-08-07T03:28:41.072840Z",
     "start_time": "2023-08-07T03:28:41.070078Z"
    }
   },
   "id": "efc3ca67b0120f7a"
  },
  {
   "cell_type": "code",
   "execution_count": 14,
   "outputs": [],
   "source": [
    "optuna_storage = \"sqlite:///icr-ensemble-experiments.db\""
   ],
   "metadata": {
    "collapsed": false,
    "ExecuteTime": {
     "end_time": "2023-08-07T03:28:41.076410Z",
     "start_time": "2023-08-07T03:28:41.073358Z"
    }
   },
   "id": "e06554d32a11fa3f"
  },
  {
   "cell_type": "code",
   "execution_count": 17,
   "outputs": [],
   "source": [
    "estimator_params = {}\n",
    "for study_name, trial_id in best_trials.items():\n",
    "    study = optuna.load_study(study_name=study_name, storage=optuna_storage)\n",
    "    best_trial = best_trials[study_name]\n",
    "    estimator_params[study_name] = study.trials[trial_id].params"
   ],
   "metadata": {
    "collapsed": false,
    "ExecuteTime": {
     "end_time": "2023-08-07T03:30:21.847538Z",
     "start_time": "2023-08-07T03:30:20.804646Z"
    }
   },
   "id": "5eed160c1ee1e821"
  },
  {
   "cell_type": "code",
   "execution_count": 18,
   "outputs": [
    {
     "data": {
      "text/plain": "{'colsample_bynode': 1.0,\n 'colsample_bytree': 0.9,\n 'learning_rate': 0.05483336534261373,\n 'max_bin': 348,\n 'max_depth': 4,\n 'n_estimators': 450,\n 'num_leaves': 20146,\n 'reg_alpha': 2.5,\n 'reg_lambda': 1.5,\n 'subsample': 0.4}"
     },
     "execution_count": 18,
     "metadata": {},
     "output_type": "execute_result"
    }
   ],
   "source": [],
   "metadata": {
    "collapsed": false,
    "ExecuteTime": {
     "end_time": "2023-08-07T03:30:26.000911Z",
     "start_time": "2023-08-07T03:30:25.992786Z"
    }
   },
   "id": "68174cdda92959d"
  },
  {
   "cell_type": "code",
   "execution_count": null,
   "outputs": [],
   "source": [],
   "metadata": {
    "collapsed": false
   },
   "id": "58b6004001f46e2a"
  }
 ],
 "metadata": {
  "kernelspec": {
   "display_name": "Python 3",
   "language": "python",
   "name": "python3"
  },
  "language_info": {
   "codemirror_mode": {
    "name": "ipython",
    "version": 2
   },
   "file_extension": ".py",
   "mimetype": "text/x-python",
   "name": "python",
   "nbconvert_exporter": "python",
   "pygments_lexer": "ipython2",
   "version": "2.7.6"
  }
 },
 "nbformat": 4,
 "nbformat_minor": 5
}
