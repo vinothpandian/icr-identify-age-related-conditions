{
 "cells": [
  {
   "cell_type": "code",
   "execution_count": 1,
   "metadata": {},
   "outputs": [],
   "source": [
    "import numpy as np\n",
    "from sklearn import metrics\n",
    "\n",
    "\n",
    "def balanced_log_loss(y_true, y_pred):\n",
    "    nc = np.bincount(y_true)\n",
    "    return metrics.log_loss(y_true, y_pred, sample_weight=1 / nc[y_true], eps=1e-15)"
   ]
  },
  {
   "cell_type": "code",
   "execution_count": 2,
   "metadata": {},
   "outputs": [],
   "source": [
    "from xgboost import XGBClassifier"
   ]
  },
  {
   "cell_type": "code",
   "execution_count": 3,
   "metadata": {},
   "outputs": [],
   "source": [
    "import pandas as pd\n",
    "from pathlib import Path\n",
    "\n",
    "path = Path('./data')\n",
    "output = Path('./output')\n",
    "output.mkdir(exist_ok=True)"
   ]
  },
  {
   "cell_type": "code",
   "execution_count": 4,
   "metadata": {},
   "outputs": [],
   "source": [
    "df = pd.read_csv(path/'train.csv', index_col='Id')"
   ]
  },
  {
   "cell_type": "code",
   "execution_count": 7,
   "metadata": {},
   "outputs": [
    {
     "data": {
      "text/plain": [
       "count    617.000000\n",
       "mean      31.489716\n",
       "std        9.864239\n",
       "min        9.432735\n",
       "25%       25.034888\n",
       "50%       30.608946\n",
       "75%       36.863947\n",
       "max       81.210825\n",
       "Name: GH, dtype: float64"
      ]
     },
     "execution_count": 7,
     "metadata": {},
     "output_type": "execute_result"
    }
   ],
   "source": [
    "# add additional features\n",
    "df[\"GH\"].describe()"
   ]
  },
  {
   "cell_type": "code",
   "execution_count": 9,
   "metadata": {},
   "outputs": [],
   "source": [
    "df[\"GH_binned\"] = pd.qcut(df[\"GH\"], 10, range(1, 11))"
   ]
  },
  {
   "cell_type": "code",
   "execution_count": 10,
   "metadata": {},
   "outputs": [],
   "source": [
    "from sklearn.model_selection import train_test_split\n",
    "\n",
    "drop_cols = [\"EJ\"]\n",
    "dep_vars = [\"Class\"]\n",
    "\n",
    "X = df.drop(drop_cols + dep_vars, axis=1)\n",
    "y = df[dep_vars].values.ravel()"
   ]
  },
  {
   "cell_type": "code",
   "execution_count": 11,
   "metadata": {},
   "outputs": [],
   "source": [
    "X_train, X_test, y_train, y_test = train_test_split(X, y, test_size=0.4, random_state=33)"
   ]
  },
  {
   "cell_type": "code",
   "execution_count": 12,
   "metadata": {},
   "outputs": [],
   "source": [
    "from sklearn.pipeline import make_pipeline\n",
    "from sklearn.impute import KNNImputer\n",
    "\n",
    "preprocessing_pipeline = make_pipeline(\n",
    "    KNNImputer(n_neighbors=10, weights=\"distance\"),\n",
    ").set_output(transform=\"pandas\")"
   ]
  },
  {
   "cell_type": "code",
   "execution_count": 18,
   "metadata": {},
   "outputs": [],
   "source": [
    "def resample(X, y):\n",
    "    sampler = SMOTE()\n",
    "    X_res, y_res = sampler.fit_resample(X, y)\n",
    "    return X_res, y_res"
   ]
  },
  {
   "cell_type": "code",
   "execution_count": 17,
   "metadata": {},
   "outputs": [
    {
     "name": "stdout",
     "output_type": "stream",
     "text": [
      "(493,) (124,)\n",
      "(493,) (124,)\n",
      "(494,) (123,)\n",
      "(494,) (123,)\n",
      "(494,) (123,)\n"
     ]
    }
   ],
   "source": [
    "from sklearn.model_selection import StratifiedKFold\n",
    "\n",
    "cv = StratifiedKFold(n_splits=5)\n",
    "\n",
    "xgm_clf = XGBClassifier(\n",
    "    objective=\"binary:logistic\",\n",
    "    colsample_bylevel=0.3,\n",
    "    colsample_bynode=0.7,\n",
    "    colsample_bytree=1.0,\n",
    "    gamma=0.6,\n",
    "    learning_rate=0.0344,\n",
    "    max_depth=3,\n",
    "    min_child_weight=0.5,\n",
    "    n_estimators=650,\n",
    "    reg_alpha=0.0,\n",
    "    reg_lambda=0.0,\n",
    "    scale_pos_weight=5.5,\n",
    "    subsample=0.6,\n",
    "    tree_method=\"hist\",\n",
    "    eval_metric=balanced_log_loss,\n",
    ")\n",
    "\n",
    "\n",
    "bal_log_losses = []\n",
    "\n",
    "for train_idx, val_idx in cv.split(X_train, y_train):\n",
    "    X_t = X_train.iloc[train_idx]\n",
    "    y_t = y_train.iloc[train_idx]\n",
    "    \n",
    "    X_val = X_train.iloc[val_idx]\n",
    "    y_val = y_train.iloc[val_idx]\n",
    "\n",
    "    X_res, y_res = resample(X_train, y_train.values.ravel())\n",
    "    xgm_clf.fit(X, y)\n",
    "    \n",
    "    y_pred = xgm_clf.predict_proba(X_val)\n",
    "    loss = balanced_log_loss(y_t, y_pred)\n",
    "    "
   ]
  },
  {
   "cell_type": "code",
   "execution_count": null,
   "metadata": {},
   "outputs": [],
   "source": [
    "balanced_log_loss(y_test, p_eval), metrics.accuracy_score(y_test, p_eval.argmax(axis=1))"
   ]
  },
  {
   "cell_type": "code",
   "execution_count": null,
   "metadata": {},
   "outputs": [],
   "source": [
    "from visualize.results import plot_results\n",
    "plot_results(y_test, p_eval[:, 1])"
   ]
  },
  {
   "cell_type": "code",
   "execution_count": null,
   "metadata": {},
   "outputs": [],
   "source": []
  }
 ],
 "metadata": {
  "kernelspec": {
   "display_name": "Python 3 (ipykernel)",
   "language": "python",
   "name": "python3"
  },
  "language_info": {
   "codemirror_mode": {
    "name": "ipython",
    "version": 3
   },
   "file_extension": ".py",
   "mimetype": "text/x-python",
   "name": "python",
   "nbconvert_exporter": "python",
   "pygments_lexer": "ipython3",
   "version": "3.9.16"
  }
 },
 "nbformat": 4,
 "nbformat_minor": 4
}
