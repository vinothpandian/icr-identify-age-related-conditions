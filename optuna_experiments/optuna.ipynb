{
 "cells": [
  {
   "cell_type": "code",
   "execution_count": 22,
   "id": "initial_id",
   "metadata": {
    "collapsed": true,
    "ExecuteTime": {
     "end_time": "2023-08-07T03:07:12.497470Z",
     "start_time": "2023-08-07T03:07:12.493709Z"
    }
   },
   "outputs": [],
   "source": [
    "import optuna"
   ]
  },
  {
   "cell_type": "code",
   "execution_count": 23,
   "outputs": [
    {
     "name": "stdout",
     "output_type": "stream",
     "text": [
      "voting_ensemble_xgm_lgbm\n",
      "voting_ensemble_xgm_lgbm_catboost\n",
      "lightgbm_bin_age\n",
      "lightgbm_bin_age_categorical\n",
      "lightgbm_bin_age_no_categorical\n",
      "lightgbm_no_categorical_no_resample\n"
     ]
    }
   ],
   "source": [
    "for study in optuna.study.get_all_study_summaries(\"sqlite:///optuna-red.db\"):\n",
    "    print(study.study_name)"
   ],
   "metadata": {
    "collapsed": false,
    "ExecuteTime": {
     "end_time": "2023-08-07T03:07:12.804955Z",
     "start_time": "2023-08-07T03:07:12.499640Z"
    }
   },
   "id": "f4dade1412c03b59"
  },
  {
   "cell_type": "code",
   "execution_count": 24,
   "outputs": [
    {
     "name": "stdout",
     "output_type": "stream",
     "text": [
      "voting_ensemble_xgm_lgbm\n",
      "voting_ensemble_xgm_lgbm_catboost\n",
      "svc_no_categorical_no_resample\n",
      "svc_no_categorical_resample\n",
      "catboost_no_categorical_resample\n",
      "fastai_no_categorical_resample_old\n",
      "fastai_no_categorical_resample\n",
      "fastai_no_categorical_no_resample\n"
     ]
    }
   ],
   "source": [
    "for study in optuna.study.get_all_study_summaries(\"sqlite:///optuna-local.db\"):\n",
    "    print(study.study_name)"
   ],
   "metadata": {
    "collapsed": false,
    "ExecuteTime": {
     "end_time": "2023-08-07T03:07:13.467184Z",
     "start_time": "2023-08-07T03:07:12.804332Z"
    }
   },
   "id": "79ade3c64e432b26"
  },
  {
   "cell_type": "code",
   "execution_count": 25,
   "outputs": [
    {
     "name": "stdout",
     "output_type": "stream",
     "text": [
      "xgboost_no_categorical_no_resample\n",
      "xgboost_no_categorical_with_resample\n",
      "catboost_no_categorical_no_resample\n",
      "tabpfn_no_resample\n",
      "tabpfn_resample\n"
     ]
    }
   ],
   "source": [
    "for study in optuna.study.get_all_study_summaries(\"sqlite:///optuna-final.db\"):\n",
    "    print(study.study_name)"
   ],
   "metadata": {
    "collapsed": false,
    "ExecuteTime": {
     "end_time": "2023-08-07T03:07:13.773678Z",
     "start_time": "2023-08-07T03:07:13.467332Z"
    }
   },
   "id": "f5df227712771aea"
  },
  {
   "cell_type": "code",
   "execution_count": 26,
   "outputs": [],
   "source": [
    "studies = {\n",
    "    \"lightgbm_bin_age_no_categorical\": \"sqlite:///optuna-red.db\",\n",
    "    \"lightgbm_no_categorical_no_resample\": \"sqlite:///optuna-red.db\",\n",
    "    \"svc_no_categorical_no_resample\": \"sqlite:///optuna-local.db\",\n",
    "    \"svc_no_categorical_resample\": \"sqlite:///optuna-local.db\",\n",
    "    \"catboost_no_categorical_resample\": \"sqlite:///optuna-local.db\",\n",
    "    \"catboost_no_categorical_no_resample\": \"sqlite:///optuna-final.db\",\n",
    "    \"fastai_no_categorical_resample\": \"sqlite:///optuna-local.db\",\n",
    "    \"fastai_no_categorical_no_resample\": \"sqlite:///optuna-local.db\",\n",
    "    \"tabpfn_no_resample\": \"sqlite:///optuna-final.db\",\n",
    "    \"tabpfn_resample\": \"sqlite:///optuna-final.db\",\n",
    "    \"xgboost_no_categorical_no_resample\": \"sqlite:///optuna-final.db\",\n",
    "    \"xgboost_no_categorical_with_resample\": \"sqlite:///optuna-final.db\",\n",
    "}\n",
    "\n",
    "study_rename = {\n",
    "    \"lightgbm_bin_age_no_categorical\": \"lightgbm_with_resampling\",\n",
    "    \"lightgbm_no_categorical_no_resample\": \"lightgbm_without_resampling\",\n",
    "    \"svc_no_categorical_no_resample\": \"svc_without_resampling\",\n",
    "    \"svc_no_categorical_resample\": \"svc_with_resampling\",\n",
    "    \"catboost_no_categorical_resample\": \"catboost_with_resampling\",\n",
    "    \"catboost_no_categorical_no_resample\": \"catboost_without_resampling\",\n",
    "    \"fastai_no_categorical_resample\": \"fastai_with_resampling\",\n",
    "    \"fastai_no_categorical_no_resample\": \"fastai_without_resampling\",\n",
    "    \"tabpfn_no_resample\": \"tabpfn_without_resampling\",\n",
    "    \"tabpfn_resample\": \"tabpfn_with_resampling\",\n",
    "    \"xgboost_no_categorical_no_resample\": \"xgboost_without_resampling\",\n",
    "    \"xgboost_no_categorical_with_resample\": \"xgboost_with_resampling\",\n",
    "}\n",
    "\n",
    "to_storage = \"sqlite:///icr-ensemble-experiments.db\""
   ],
   "metadata": {
    "collapsed": false,
    "ExecuteTime": {
     "end_time": "2023-08-07T03:07:13.777613Z",
     "start_time": "2023-08-07T03:07:13.773270Z"
    }
   },
   "id": "a1df2ab4e17f184a"
  },
  {
   "cell_type": "code",
   "execution_count": 27,
   "outputs": [],
   "source": [
    "best_trials = {\n",
    "    \"lightgbm_with_resampling\": 248,\n",
    "    \"lightgbm_without_resampling\": 220,\n",
    "    \"svc_without_resampling\": 203,\n",
    "    \"svc_with_resampling\": 161,\n",
    "    \"catboost_with_resampling\": 234,\n",
    "    \"catboost_without_resampling\": 223,\n",
    "    \"fastai_with_resampling\": 123,\n",
    "    \"fastai_without_resampling\": 101,\n",
    "    \"tabpfn_without_resampling\": 30,\n",
    "    \"tabpfn_with_resampling\": 65,\n",
    "    \"xgboost_without_resampling\": 210,\n",
    "    \"xgboost_with_resampling\": 179,\n",
    "}"
   ],
   "metadata": {
    "collapsed": false,
    "ExecuteTime": {
     "end_time": "2023-08-07T03:07:13.778681Z",
     "start_time": "2023-08-07T03:07:13.776726Z"
    }
   },
   "id": "7972f2ef961abd12"
  },
  {
   "cell_type": "code",
   "execution_count": 28,
   "outputs": [
    {
     "name": "stdout",
     "output_type": "stream",
     "text": [
      "lightgbm_with_resampling [0.23724942235631785, -0.04870767804814391]\n",
      "lightgbm_without_resampling [0.2660237141437936, -0.09379916838204144]\n",
      "svc_without_resampling [0.3801223457941515, -0.0947418196542219]\n",
      "svc_with_resampling [0.5153478325381454, -0.06971300580547068]\n",
      "catboost_with_resampling [0.24030907977238783, -0.02970141038842386]\n",
      "catboost_without_resampling [0.30305923320150646, -0.03774457693030259]\n",
      "fastai_with_resampling [0.3325969874858856, 0.06670942902565002]\n",
      "fastai_without_resampling [0.34154441952705383, 0.028394579887390137]\n",
      "tabpfn_without_resampling [0.4586789624230296]\n",
      "tabpfn_with_resampling [0.46034804817416475]\n",
      "xgboost_without_resampling [0.2852513437616727, -0.0797834623787419]\n",
      "xgboost_with_resampling [0.23512480617158088, -0.057029393407966145]\n"
     ]
    }
   ],
   "source": [
    "for old_study_name, db in studies.items():\n",
    "    study_name = study_rename[old_study_name]\n",
    "    study = optuna.load_study(study_name=study_name, storage=to_storage)\n",
    "    best_trial = best_trials[study_name]\n",
    "    print(study_name, study.trials[best_trial].values)"
   ],
   "metadata": {
    "collapsed": false,
    "ExecuteTime": {
     "end_time": "2023-08-07T03:07:14.943504Z",
     "start_time": "2023-08-07T03:07:13.779589Z"
    }
   },
   "id": "2d34cddf9a202b28"
  },
  {
   "cell_type": "code",
   "execution_count": 29,
   "outputs": [],
   "source": [
    "# for from_study_name, from_storage in studies.items():\n",
    "#     to_study_name = study_rename[from_study_name]\n",
    "#     optuna.copy_study(\n",
    "#         from_study_name=from_study_name,\n",
    "#         from_storage=from_storage,\n",
    "#         to_study_name=to_study_name,\n",
    "#         to_storage=to_storage\n",
    "#     )"
   ],
   "metadata": {
    "collapsed": false,
    "ExecuteTime": {
     "end_time": "2023-08-07T03:07:14.943591Z",
     "start_time": "2023-08-07T03:07:14.937830Z"
    }
   },
   "id": "2b669fee60fa8aeb"
  }
 ],
 "metadata": {
  "kernelspec": {
   "display_name": "Python 3",
   "language": "python",
   "name": "python3"
  },
  "language_info": {
   "codemirror_mode": {
    "name": "ipython",
    "version": 2
   },
   "file_extension": ".py",
   "mimetype": "text/x-python",
   "name": "python",
   "nbconvert_exporter": "python",
   "pygments_lexer": "ipython2",
   "version": "2.7.6"
  }
 },
 "nbformat": 4,
 "nbformat_minor": 5
}
