{
 "cells": [
  {
   "cell_type": "code",
   "execution_count": 1,
   "metadata": {
    "execution": {
     "iopub.execute_input": "2023-08-06T21:02:46.753387Z",
     "iopub.status.busy": "2023-08-06T21:02:46.752989Z",
     "iopub.status.idle": "2023-08-06T21:02:47.197979Z",
     "shell.execute_reply": "2023-08-06T21:02:47.197267Z",
     "shell.execute_reply.started": "2023-08-06T21:02:46.753348Z"
    }
   },
   "outputs": [],
   "source": [
    "import optuna"
   ]
  },
  {
   "cell_type": "code",
   "execution_count": 2,
   "metadata": {
    "execution": {
     "iopub.execute_input": "2023-08-06T21:03:58.734385Z",
     "iopub.status.busy": "2023-08-06T21:03:58.733238Z",
     "iopub.status.idle": "2023-08-06T21:04:16.143635Z",
     "shell.execute_reply": "2023-08-06T21:04:16.142644Z",
     "shell.execute_reply.started": "2023-08-06T21:03:58.734343Z"
    }
   },
   "outputs": [
    {
     "name": "stderr",
     "output_type": "stream",
     "text": [
      "[I 2023-08-06 21:04:00,157] A new study created in RDB with name: xgboost_no_categorical_no_resample\n"
     ]
    }
   ],
   "source": [
    "optuna.copy_study(\n",
    "    from_study_name=\"xgboost_bin_age_no_categorical\",\n",
    "    from_storage=\"sqlite:////storage/optuna.db\",\n",
    "    to_study_name=\"xgboost_no_categorical_no_resample\",\n",
    "    to_storage=\"sqlite:////storage/optuna-final.db\",\n",
    ")"
   ]
  },
  {
   "cell_type": "code",
   "execution_count": null,
   "metadata": {},
   "outputs": [],
   "source": []
  }
 ],
 "metadata": {
  "kernelspec": {
   "display_name": "Python 3 (ipykernel)",
   "language": "python",
   "name": "python3"
  },
  "language_info": {
   "codemirror_mode": {
    "name": "ipython",
    "version": 3
   },
   "file_extension": ".py",
   "mimetype": "text/x-python",
   "name": "python",
   "nbconvert_exporter": "python",
   "pygments_lexer": "ipython3",
   "version": "3.9.16"
  }
 },
 "nbformat": 4,
 "nbformat_minor": 4
}
