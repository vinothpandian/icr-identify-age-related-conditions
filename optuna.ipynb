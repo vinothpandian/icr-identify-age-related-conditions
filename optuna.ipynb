{
 "cells": [
  {
   "cell_type": "code",
   "execution_count": 24,
   "id": "initial_id",
   "metadata": {
    "collapsed": true,
    "ExecuteTime": {
     "end_time": "2023-08-07T02:51:49.406802Z",
     "start_time": "2023-08-07T02:51:49.403487Z"
    }
   },
   "outputs": [],
   "source": [
    "import optuna"
   ]
  },
  {
   "cell_type": "code",
   "execution_count": 25,
   "outputs": [
    {
     "name": "stdout",
     "output_type": "stream",
     "text": [
      "voting_ensemble_xgm_lgbm\n",
      "voting_ensemble_xgm_lgbm_catboost\n",
      "lightgbm_bin_age\n",
      "lightgbm_bin_age_categorical\n",
      "lightgbm_bin_age_no_categorical\n",
      "lightgbm_no_categorical_no_resample\n"
     ]
    }
   ],
   "source": [
    "for study in optuna.study.get_all_study_summaries(\"sqlite:///optuna-red.db\"):\n",
    "    print(study.study_name)"
   ],
   "metadata": {
    "collapsed": false,
    "ExecuteTime": {
     "end_time": "2023-08-07T02:51:49.761067Z",
     "start_time": "2023-08-07T02:51:49.408941Z"
    }
   },
   "id": "f4dade1412c03b59"
  },
  {
   "cell_type": "code",
   "execution_count": 26,
   "outputs": [
    {
     "name": "stdout",
     "output_type": "stream",
     "text": [
      "voting_ensemble_xgm_lgbm\n",
      "voting_ensemble_xgm_lgbm_catboost\n",
      "svc_no_categorical_no_resample\n",
      "svc_no_categorical_resample\n",
      "catboost_no_categorical_resample\n",
      "fastai_no_categorical_resample_old\n",
      "fastai_no_categorical_resample\n",
      "fastai_no_categorical_no_resample\n"
     ]
    }
   ],
   "source": [
    "for study in optuna.study.get_all_study_summaries(\"sqlite:///optuna-local.db\"):\n",
    "    print(study.study_name)"
   ],
   "metadata": {
    "collapsed": false,
    "ExecuteTime": {
     "end_time": "2023-08-07T02:51:50.366060Z",
     "start_time": "2023-08-07T02:51:49.760477Z"
    }
   },
   "id": "79ade3c64e432b26"
  },
  {
   "cell_type": "code",
   "execution_count": 27,
   "outputs": [
    {
     "name": "stdout",
     "output_type": "stream",
     "text": [
      "xgboost_no_categorical_no_resample\n",
      "xgboost_no_categorical_with_resample\n",
      "catboost_no_categorical_no_resample\n",
      "tabpfn_no_resample\n",
      "tabpfn_resample\n"
     ]
    }
   ],
   "source": [
    "for study in optuna.study.get_all_study_summaries(\"sqlite:///optuna-final.db\"):\n",
    "    print(study.study_name)"
   ],
   "metadata": {
    "collapsed": false,
    "ExecuteTime": {
     "end_time": "2023-08-07T02:51:50.679549Z",
     "start_time": "2023-08-07T02:51:50.365788Z"
    }
   },
   "id": "f5df227712771aea"
  },
  {
   "cell_type": "code",
   "execution_count": 31,
   "outputs": [],
   "source": [
    "studies = {\n",
    "    \"lightgbm_bin_age_no_categorical\": \"sqlite:///optuna-red.db\",\n",
    "    \"lightgbm_no_categorical_no_resample\": \"sqlite:///optuna-red.db\",\n",
    "    \"svc_no_categorical_no_resample\": \"sqlite:///optuna-local.db\",\n",
    "    \"svc_no_categorical_resample\": \"sqlite:///optuna-local.db\",\n",
    "    \"catboost_no_categorical_resample\": \"sqlite:///optuna-local.db\",\n",
    "    \"catboost_no_categorical_no_resample\": \"sqlite:///optuna-final.db\",\n",
    "    \"fastai_no_categorical_resample\": \"sqlite:///optuna-local.db\",\n",
    "    \"fastai_no_categorical_no_resample\": \"sqlite:///optuna-local.db\",\n",
    "    \"tabpfn_no_resample\": \"sqlite:///optuna-final.db\",\n",
    "    \"tabpfn_resample\": \"sqlite:///optuna-final.db\",\n",
    "    \"xgboost_no_categorical_no_resample\": \"sqlite:///optuna-final.db\",\n",
    "    \"xgboost_no_categorical_with_resample\": \"sqlite:///optuna-final.db\",\n",
    "}\n",
    "\n",
    "study_rename = {\n",
    "    \"lightgbm_bin_age_no_categorical\": \"lightgbm_with_resampling\",\n",
    "    \"lightgbm_no_categorical_no_resample\": \"lightgbm_without_resampling\",\n",
    "    \"svc_no_categorical_no_resample\": \"svc_without_resampling\",\n",
    "    \"svc_no_categorical_resample\": \"svc_with_resampling\",\n",
    "    \"catboost_no_categorical_resample\": \"catboost_with_resampling\",\n",
    "    \"catboost_no_categorical_no_resample\": \"catboost_without_resampling\",\n",
    "    \"fastai_no_categorical_resample\": \"fastai_with_resampling\",\n",
    "    \"fastai_no_categorical_no_resample\": \"fastai_without_resampling\",\n",
    "    \"tabpfn_no_resample\": \"tabpfn_without_resampling\",\n",
    "    \"tabpfn_resample\": \"tabpfn_with_resampling\",\n",
    "    \"xgboost_no_categorical_no_resample\": \"xgboost_without_resampling\",\n",
    "    \"xgboost_no_categorical_with_resample\": \"xgboost_with_resampling\",\n",
    "}\n",
    "\n",
    "to_storage = \"sqlite:///icr-ensemble-experiments.db\""
   ],
   "metadata": {
    "collapsed": false,
    "ExecuteTime": {
     "end_time": "2023-08-07T02:52:48.879278Z",
     "start_time": "2023-08-07T02:52:48.875763Z"
    }
   },
   "id": "a1df2ab4e17f184a"
  },
  {
   "cell_type": "code",
   "execution_count": 29,
   "outputs": [
    {
     "name": "stdout",
     "output_type": "stream",
     "text": [
      "lightgbm_bin_age_no_categorical lightgbm_with_resampling [0.25512106209843893, -0.05900004998959507]\n",
      "lightgbm_no_categorical_no_resample lightgbm_without_resampling [0.31256222411445894, -0.09562841459797466]\n",
      "svc_no_categorical_no_resample svc_without_resampling [0.5213978411893443, -0.21403049471710622]\n",
      "svc_no_categorical_resample svc_with_resampling [0.47714722630601736, -0.486071274500698]\n",
      "catboost_no_categorical_resample catboost_with_resampling [0.25300780696272135, -0.05375153863227755]\n",
      "catboost_no_categorical_no_resample catboost_without_resampling [0.3248420647800041, -0.12618754659842224]\n",
      "fastai_no_categorical_resample fastai_with_resampling [0.5893228054046631, -0.08415168523788452]\n",
      "fastai_no_categorical_no_resample fastai_without_resampling [0.0, 0.0]\n",
      "tabpfn_no_resample tabpfn_without_resampling [0.4586789624230296]\n",
      "tabpfn_resample tabpfn_with_resampling [0.46034804817416475]\n",
      "xgboost_no_categorical_no_resample xgboost_without_resampling [0.2852513437616727, -0.0797834623787419]\n",
      "xgboost_no_categorical_with_resample xgboost_with_resampling [0.23512480617158088, -0.057029393407966145]\n"
     ]
    }
   ],
   "source": [
    "for study_name, db in studies.items():\n",
    "    study = optuna.load_study(study_name=study_name, storage=db)\n",
    "    print(study_name, study_rename[study_name], study.best_trials[0].values)"
   ],
   "metadata": {
    "collapsed": false,
    "ExecuteTime": {
     "end_time": "2023-08-07T02:51:51.770356Z",
     "start_time": "2023-08-07T02:51:50.683957Z"
    }
   },
   "id": "2d34cddf9a202b28"
  },
  {
   "cell_type": "code",
   "execution_count": 32,
   "outputs": [
    {
     "name": "stderr",
     "output_type": "stream",
     "text": [
      "[I 2023-08-06 22:53:13,852] A new study created in RDB with name: lightgbm_with_resampling\n",
      "[I 2023-08-06 22:53:15,839] A new study created in RDB with name: lightgbm_without_resampling\n",
      "[I 2023-08-06 22:53:17,850] A new study created in RDB with name: svc_without_resampling\n",
      "[I 2023-08-06 22:53:19,099] A new study created in RDB with name: svc_with_resampling\n",
      "[I 2023-08-06 22:53:20,251] A new study created in RDB with name: catboost_with_resampling\n",
      "[I 2023-08-06 22:53:21,808] A new study created in RDB with name: catboost_without_resampling\n",
      "[I 2023-08-06 22:53:23,393] A new study created in RDB with name: fastai_with_resampling\n",
      "[I 2023-08-06 22:53:25,311] A new study created in RDB with name: fastai_without_resampling\n",
      "[I 2023-08-06 22:53:27,492] A new study created in RDB with name: tabpfn_without_resampling\n",
      "[I 2023-08-06 22:53:28,168] A new study created in RDB with name: tabpfn_with_resampling\n",
      "[I 2023-08-06 22:53:28,849] A new study created in RDB with name: xgboost_without_resampling\n",
      "[I 2023-08-06 22:53:30,984] A new study created in RDB with name: xgboost_with_resampling\n"
     ]
    }
   ],
   "source": [
    "for from_study_name, from_storage in studies.items():\n",
    "    to_study_name = study_rename[from_study_name]\n",
    "    optuna.copy_study(\n",
    "        from_study_name=from_study_name,\n",
    "        from_storage=from_storage,\n",
    "        to_study_name=to_study_name,\n",
    "        to_storage=to_storage\n",
    "    )"
   ],
   "metadata": {
    "collapsed": false,
    "ExecuteTime": {
     "end_time": "2023-08-07T02:53:33.043695Z",
     "start_time": "2023-08-07T02:53:13.791662Z"
    }
   },
   "id": "2b669fee60fa8aeb"
  },
  {
   "cell_type": "code",
   "execution_count": null,
   "outputs": [],
   "source": [],
   "metadata": {
    "collapsed": false
   },
   "id": "5a6a587f3f6cd0df"
  }
 ],
 "metadata": {
  "kernelspec": {
   "display_name": "Python 3",
   "language": "python",
   "name": "python3"
  },
  "language_info": {
   "codemirror_mode": {
    "name": "ipython",
    "version": 2
   },
   "file_extension": ".py",
   "mimetype": "text/x-python",
   "name": "python",
   "nbconvert_exporter": "python",
   "pygments_lexer": "ipython2",
   "version": "2.7.6"
  }
 },
 "nbformat": 4,
 "nbformat_minor": 5
}
